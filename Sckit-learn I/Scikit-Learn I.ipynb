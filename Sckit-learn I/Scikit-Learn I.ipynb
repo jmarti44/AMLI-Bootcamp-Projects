{
 "cells": [
  {
   "cell_type": "markdown",
   "metadata": {
    "colab_type": "text",
    "id": "view-in-github"
   },
   "source": [
    "<a href=\"https://colab.research.google.com/github/google/applied-machine-learning-intensive/blob/master/content/03_regression/01_introduction_to_sklearn/colab.ipynb\" target=\"_parent\"><img src=\"https://colab.research.google.com/assets/colab-badge.svg\" alt=\"Open In Colab\"/></a>"
   ]
  },
  {
   "cell_type": "markdown",
   "metadata": {
    "colab_type": "text",
    "id": "copyright"
   },
   "source": [
    "#### Copyright 2019 Google LLC."
   ]
  },
  {
   "cell_type": "code",
   "execution_count": 0,
   "metadata": {
    "colab": {},
    "colab_type": "code",
    "id": "pGgUGFhfBtri"
   },
   "outputs": [],
   "source": [
    "# Licensed under the Apache License, Version 2.0 (the \"License\");\n",
    "# you may not use this file except in compliance with the License.\n",
    "# You may obtain a copy of the License at\n",
    "#\n",
    "# https://www.apache.org/licenses/LICENSE-2.0\n",
    "#\n",
    "# Unless required by applicable law or agreed to in writing, software\n",
    "# distributed under the License is distributed on an \"AS IS\" BASIS,\n",
    "# WITHOUT WARRANTIES OR CONDITIONS OF ANY KIND, either express or implied.\n",
    "# See the License for the specific language governing permissions and\n",
    "# limitations under the License."
   ]
  },
  {
   "cell_type": "markdown",
   "metadata": {
    "colab_type": "text",
    "id": "56E1PL91CGS0"
   },
   "source": [
    "# Introduction to scikit-learn"
   ]
  },
  {
   "cell_type": "markdown",
   "metadata": {
    "colab_type": "text",
    "id": "fW-s1cCLCJ8n"
   },
   "source": [
    "[Scikit-learn](https://scikit-learn.org) is a machine learning library in Python.\n",
    "\n",
    "Scikit-learn is the first of the several machine learning libraries we will explore in this course. It is relatively approachable, supports a wide variety of traditional machine learning models, and is ubiquitous in the world of data science."
   ]
  },
  {
   "cell_type": "markdown",
   "metadata": {
    "colab_type": "text",
    "id": "ftyf6QX2GWPy"
   },
   "source": [
    "## Datasets"
   ]
  },
  {
   "cell_type": "markdown",
   "metadata": {
    "colab_type": "text",
    "id": "U3nvll9SJpVF"
   },
   "source": [
    "Scikit-learn contains methods for loading, fetching, and making (generating) data. The methods for doing this all fall under the [datasets](https://scikit-learn.org/stable/modules/classes.html#module-sklearn.datasets) subpackage. Most of the functions in this package have `load`, `fetch`, or `make` in the name to let you know what the method is doing under the hood.\n",
    "\n",
    "**Loading functions** bring static datasets into your program. The data comes pre-packaged with scikit-learn, so no network access is required.\n",
    "\n",
    "**Fetching functions** also bring static datasets into your program. However, the data is pulled from the internet, so if you don't have network access, these functions might fail.\n",
    "\n",
    "**Generating functions** make dynamic datasets based on some equation.\n",
    "\n",
    "These pre-packaged dataset functions exist for many popular datasets, such as the [MNIST digits dataset](https://en.wikipedia.org/wiki/MNIST_database) and the [Iris flower dataset](https://en.wikipedia.org/wiki/Iris_flower_data_set). The generation functions reference classic dataset \"shape\" formations such as [moons](https://scikit-learn.org/stable/modules/generated/sklearn.datasets.make_moons.html#sklearn.datasets.make_moons) and [swiss rolls](https://scikit-learn.org/stable/modules/generated/sklearn.datasets.make_swiss_roll.html#sklearn.datasets.make_swiss_roll). These datasets are perfect for getting familiar with machine learning."
   ]
  },
  {
   "cell_type": "markdown",
   "metadata": {
    "colab_type": "text",
    "id": "sO11StjHLvDS"
   },
   "source": [
    "### Loading\n",
    "\n",
    "Let us first look at an example of loading data. We will load the iris flowers dataset using the [load_iris](https://scikit-learn.org/stable/modules/generated/sklearn.datasets.load_iris.html#sklearn.datasets.load_iris) function."
   ]
  },
  {
   "cell_type": "code",
   "execution_count": 10,
   "metadata": {
    "colab": {},
    "colab_type": "code",
    "id": "Ky399k0ENjHA"
   },
   "outputs": [
    {
     "output_type": "stream",
     "name": "stdout",
     "text": [
      "{'data': array([[5.1, 3.5, 1.4, 0.2],\n       [4.9, 3. , 1.4, 0.2],\n       [4.7, 3.2, 1.3, 0.2],\n       [4.6, 3.1, 1.5, 0.2],\n       [5. , 3.6, 1.4, 0.2],\n       [5.4, 3.9, 1.7, 0.4],\n       [4.6, 3.4, 1.4, 0.3],\n       [5. , 3.4, 1.5, 0.2],\n       [4.4, 2.9, 1.4, 0.2],\n       [4.9, 3.1, 1.5, 0.1],\n       [5.4, 3.7, 1.5, 0.2],\n       [4.8, 3.4, 1.6, 0.2],\n       [4.8, 3. , 1.4, 0.1],\n       [4.3, 3. , 1.1, 0.1],\n       [5.8, 4. , 1.2, 0.2],\n       [5.7, 4.4, 1.5, 0.4],\n       [5.4, 3.9, 1.3, 0.4],\n       [5.1, 3.5, 1.4, 0.3],\n       [5.7, 3.8, 1.7, 0.3],\n       [5.1, 3.8, 1.5, 0.3],\n       [5.4, 3.4, 1.7, 0.2],\n       [5.1, 3.7, 1.5, 0.4],\n       [4.6, 3.6, 1. , 0.2],\n       [5.1, 3.3, 1.7, 0.5],\n       [4.8, 3.4, 1.9, 0.2],\n       [5. , 3. , 1.6, 0.2],\n       [5. , 3.4, 1.6, 0.4],\n       [5.2, 3.5, 1.5, 0.2],\n       [5.2, 3.4, 1.4, 0.2],\n       [4.7, 3.2, 1.6, 0.2],\n       [4.8, 3.1, 1.6, 0.2],\n       [5.4, 3.4, 1.5, 0.4],\n       [5.2, 4.1, 1.5, 0.1],\n       [5.5, 4.2, 1.4, 0.2],\n       [4.9, 3.1, 1.5, 0.2],\n       [5. , 3.2, 1.2, 0.2],\n       [5.5, 3.5, 1.3, 0.2],\n       [4.9, 3.6, 1.4, 0.1],\n       [4.4, 3. , 1.3, 0.2],\n       [5.1, 3.4, 1.5, 0.2],\n       [5. , 3.5, 1.3, 0.3],\n       [4.5, 2.3, 1.3, 0.3],\n       [4.4, 3.2, 1.3, 0.2],\n       [5. , 3.5, 1.6, 0.6],\n       [5.1, 3.8, 1.9, 0.4],\n       [4.8, 3. , 1.4, 0.3],\n       [5.1, 3.8, 1.6, 0.2],\n       [4.6, 3.2, 1.4, 0.2],\n       [5.3, 3.7, 1.5, 0.2],\n       [5. , 3.3, 1.4, 0.2],\n       [7. , 3.2, 4.7, 1.4],\n       [6.4, 3.2, 4.5, 1.5],\n       [6.9, 3.1, 4.9, 1.5],\n       [5.5, 2.3, 4. , 1.3],\n       [6.5, 2.8, 4.6, 1.5],\n       [5.7, 2.8, 4.5, 1.3],\n       [6.3, 3.3, 4.7, 1.6],\n       [4.9, 2.4, 3.3, 1. ],\n       [6.6, 2.9, 4.6, 1.3],\n       [5.2, 2.7, 3.9, 1.4],\n       [5. , 2. , 3.5, 1. ],\n       [5.9, 3. , 4.2, 1.5],\n       [6. , 2.2, 4. , 1. ],\n       [6.1, 2.9, 4.7, 1.4],\n       [5.6, 2.9, 3.6, 1.3],\n       [6.7, 3.1, 4.4, 1.4],\n       [5.6, 3. , 4.5, 1.5],\n       [5.8, 2.7, 4.1, 1. ],\n       [6.2, 2.2, 4.5, 1.5],\n       [5.6, 2.5, 3.9, 1.1],\n       [5.9, 3.2, 4.8, 1.8],\n       [6.1, 2.8, 4. , 1.3],\n       [6.3, 2.5, 4.9, 1.5],\n       [6.1, 2.8, 4.7, 1.2],\n       [6.4, 2.9, 4.3, 1.3],\n       [6.6, 3. , 4.4, 1.4],\n       [6.8, 2.8, 4.8, 1.4],\n       [6.7, 3. , 5. , 1.7],\n       [6. , 2.9, 4.5, 1.5],\n       [5.7, 2.6, 3.5, 1. ],\n       [5.5, 2.4, 3.8, 1.1],\n       [5.5, 2.4, 3.7, 1. ],\n       [5.8, 2.7, 3.9, 1.2],\n       [6. , 2.7, 5.1, 1.6],\n       [5.4, 3. , 4.5, 1.5],\n       [6. , 3.4, 4.5, 1.6],\n       [6.7, 3.1, 4.7, 1.5],\n       [6.3, 2.3, 4.4, 1.3],\n       [5.6, 3. , 4.1, 1.3],\n       [5.5, 2.5, 4. , 1.3],\n       [5.5, 2.6, 4.4, 1.2],\n       [6.1, 3. , 4.6, 1.4],\n       [5.8, 2.6, 4. , 1.2],\n       [5. , 2.3, 3.3, 1. ],\n       [5.6, 2.7, 4.2, 1.3],\n       [5.7, 3. , 4.2, 1.2],\n       [5.7, 2.9, 4.2, 1.3],\n       [6.2, 2.9, 4.3, 1.3],\n       [5.1, 2.5, 3. , 1.1],\n       [5.7, 2.8, 4.1, 1.3],\n       [6.3, 3.3, 6. , 2.5],\n       [5.8, 2.7, 5.1, 1.9],\n       [7.1, 3. , 5.9, 2.1],\n       [6.3, 2.9, 5.6, 1.8],\n       [6.5, 3. , 5.8, 2.2],\n       [7.6, 3. , 6.6, 2.1],\n       [4.9, 2.5, 4.5, 1.7],\n       [7.3, 2.9, 6.3, 1.8],\n       [6.7, 2.5, 5.8, 1.8],\n       [7.2, 3.6, 6.1, 2.5],\n       [6.5, 3.2, 5.1, 2. ],\n       [6.4, 2.7, 5.3, 1.9],\n       [6.8, 3. , 5.5, 2.1],\n       [5.7, 2.5, 5. , 2. ],\n       [5.8, 2.8, 5.1, 2.4],\n       [6.4, 3.2, 5.3, 2.3],\n       [6.5, 3. , 5.5, 1.8],\n       [7.7, 3.8, 6.7, 2.2],\n       [7.7, 2.6, 6.9, 2.3],\n       [6. , 2.2, 5. , 1.5],\n       [6.9, 3.2, 5.7, 2.3],\n       [5.6, 2.8, 4.9, 2. ],\n       [7.7, 2.8, 6.7, 2. ],\n       [6.3, 2.7, 4.9, 1.8],\n       [6.7, 3.3, 5.7, 2.1],\n       [7.2, 3.2, 6. , 1.8],\n       [6.2, 2.8, 4.8, 1.8],\n       [6.1, 3. , 4.9, 1.8],\n       [6.4, 2.8, 5.6, 2.1],\n       [7.2, 3. , 5.8, 1.6],\n       [7.4, 2.8, 6.1, 1.9],\n       [7.9, 3.8, 6.4, 2. ],\n       [6.4, 2.8, 5.6, 2.2],\n       [6.3, 2.8, 5.1, 1.5],\n       [6.1, 2.6, 5.6, 1.4],\n       [7.7, 3. , 6.1, 2.3],\n       [6.3, 3.4, 5.6, 2.4],\n       [6.4, 3.1, 5.5, 1.8],\n       [6. , 3. , 4.8, 1.8],\n       [6.9, 3.1, 5.4, 2.1],\n       [6.7, 3.1, 5.6, 2.4],\n       [6.9, 3.1, 5.1, 2.3],\n       [5.8, 2.7, 5.1, 1.9],\n       [6.8, 3.2, 5.9, 2.3],\n       [6.7, 3.3, 5.7, 2.5],\n       [6.7, 3. , 5.2, 2.3],\n       [6.3, 2.5, 5. , 1.9],\n       [6.5, 3. , 5.2, 2. ],\n       [6.2, 3.4, 5.4, 2.3],\n       [5.9, 3. , 5.1, 1.8]]), 'target': array([0, 0, 0, 0, 0, 0, 0, 0, 0, 0, 0, 0, 0, 0, 0, 0, 0, 0, 0, 0, 0, 0,\n       0, 0, 0, 0, 0, 0, 0, 0, 0, 0, 0, 0, 0, 0, 0, 0, 0, 0, 0, 0, 0, 0,\n       0, 0, 0, 0, 0, 0, 1, 1, 1, 1, 1, 1, 1, 1, 1, 1, 1, 1, 1, 1, 1, 1,\n       1, 1, 1, 1, 1, 1, 1, 1, 1, 1, 1, 1, 1, 1, 1, 1, 1, 1, 1, 1, 1, 1,\n       1, 1, 1, 1, 1, 1, 1, 1, 1, 1, 1, 1, 2, 2, 2, 2, 2, 2, 2, 2, 2, 2,\n       2, 2, 2, 2, 2, 2, 2, 2, 2, 2, 2, 2, 2, 2, 2, 2, 2, 2, 2, 2, 2, 2,\n       2, 2, 2, 2, 2, 2, 2, 2, 2, 2, 2, 2, 2, 2, 2, 2, 2, 2]), 'frame': None, 'target_names': array(['setosa', 'versicolor', 'virginica'], dtype='<U10'), 'DESCR': '.. _iris_dataset:\\n\\nIris plants dataset\\n--------------------\\n\\n**Data Set Characteristics:**\\n\\n    :Number of Instances: 150 (50 in each of three classes)\\n    :Number of Attributes: 4 numeric, predictive attributes and the class\\n    :Attribute Information:\\n        - sepal length in cm\\n        - sepal width in cm\\n        - petal length in cm\\n        - petal width in cm\\n        - class:\\n                - Iris-Setosa\\n                - Iris-Versicolour\\n                - Iris-Virginica\\n                \\n    :Summary Statistics:\\n\\n    ============== ==== ==== ======= ===== ====================\\n                    Min  Max   Mean    SD   Class Correlation\\n    ============== ==== ==== ======= ===== ====================\\n    sepal length:   4.3  7.9   5.84   0.83    0.7826\\n    sepal width:    2.0  4.4   3.05   0.43   -0.4194\\n    petal length:   1.0  6.9   3.76   1.76    0.9490  (high!)\\n    petal width:    0.1  2.5   1.20   0.76    0.9565  (high!)\\n    ============== ==== ==== ======= ===== ====================\\n\\n    :Missing Attribute Values: None\\n    :Class Distribution: 33.3% for each of 3 classes.\\n    :Creator: R.A. Fisher\\n    :Donor: Michael Marshall (MARSHALL%PLU@io.arc.nasa.gov)\\n    :Date: July, 1988\\n\\nThe famous Iris database, first used by Sir R.A. Fisher. The dataset is taken\\nfrom Fisher\\'s paper. Note that it\\'s the same as in R, but not as in the UCI\\nMachine Learning Repository, which has two wrong data points.\\n\\nThis is perhaps the best known database to be found in the\\npattern recognition literature.  Fisher\\'s paper is a classic in the field and\\nis referenced frequently to this day.  (See Duda & Hart, for example.)  The\\ndata set contains 3 classes of 50 instances each, where each class refers to a\\ntype of iris plant.  One class is linearly separable from the other 2; the\\nlatter are NOT linearly separable from each other.\\n\\n.. topic:: References\\n\\n   - Fisher, R.A. \"The use of multiple measurements in taxonomic problems\"\\n     Annual Eugenics, 7, Part II, 179-188 (1936); also in \"Contributions to\\n     Mathematical Statistics\" (John Wiley, NY, 1950).\\n   - Duda, R.O., & Hart, P.E. (1973) Pattern Classification and Scene Analysis.\\n     (Q327.D83) John Wiley & Sons.  ISBN 0-471-22361-1.  See page 218.\\n   - Dasarathy, B.V. (1980) \"Nosing Around the Neighborhood: A New System\\n     Structure and Classification Rule for Recognition in Partially Exposed\\n     Environments\".  IEEE Transactions on Pattern Analysis and Machine\\n     Intelligence, Vol. PAMI-2, No. 1, 67-71.\\n   - Gates, G.W. (1972) \"The Reduced Nearest Neighbor Rule\".  IEEE Transactions\\n     on Information Theory, May 1972, 431-433.\\n   - See also: 1988 MLC Proceedings, 54-64.  Cheeseman et al\"s AUTOCLASS II\\n     conceptual clustering system finds 3 classes in the data.\\n   - Many, many more ...', 'feature_names': ['sepal length (cm)', 'sepal width (cm)', 'petal length (cm)', 'petal width (cm)'], 'filename': '/Users/josemartinez/opt/anaconda3/lib/python3.8/site-packages/sklearn/datasets/data/iris.csv'}\n"
     ]
    }
   ],
   "source": [
    "from sklearn.datasets import load_iris\n",
    "\n",
    "iris_data = load_iris()\n",
    "print(iris_data)"
   ]
  },
  {
   "cell_type": "markdown",
   "metadata": {
    "colab_type": "text",
    "id": "t1uP53SEUlNL"
   },
   "source": [
    "That's a lot to take in. Let's examine this loaded data a little more closely. First we'll see what data type this dataset is:"
   ]
  },
  {
   "cell_type": "code",
   "execution_count": 0,
   "metadata": {
    "colab": {},
    "colab_type": "code",
    "id": "_XItKuboUvPw"
   },
   "outputs": [],
   "source": [
    "type(iris_data)"
   ]
  },
  {
   "cell_type": "markdown",
   "metadata": {
    "colab_type": "text",
    "id": "FyLpaX9YgX7E"
   },
   "source": [
    "`sklearn.utils.Bunch` is a type that you'll see quite often when working with datasets built into scikit-learn. It is a dictionary-like container for feature and target data within a dataset.\n",
    "\n",
    "You won't find much documentation about `Bunch` objects because they are not really meant for usage beyond containing data native to scikit-learn.\n",
    "\n",
    "Let's look at the attributes of the iris dataset:"
   ]
  },
  {
   "cell_type": "code",
   "execution_count": 4,
   "metadata": {
    "colab": {},
    "colab_type": "code",
    "id": "eGrbFQUmg1-o"
   },
   "outputs": [
    {
     "output_type": "execute_result",
     "data": {
      "text/plain": [
       "['DESCR',\n",
       " 'data',\n",
       " 'feature_names',\n",
       " 'filename',\n",
       " 'frame',\n",
       " 'target',\n",
       " 'target_names']"
      ]
     },
     "metadata": {},
     "execution_count": 4
    }
   ],
   "source": [
    "dir(iris_data)"
   ]
  },
  {
   "cell_type": "markdown",
   "metadata": {
    "colab_type": "text",
    "id": "z_jc4IenhD-R"
   },
   "source": [
    "`DESCR` is a description of the dataset."
   ]
  },
  {
   "cell_type": "code",
   "execution_count": 5,
   "metadata": {
    "colab": {},
    "colab_type": "code",
    "id": "naIUF-N6hHRE"
   },
   "outputs": [
    {
     "output_type": "stream",
     "name": "stdout",
     "text": [
      ".. _iris_dataset:\n\nIris plants dataset\n--------------------\n\n**Data Set Characteristics:**\n\n    :Number of Instances: 150 (50 in each of three classes)\n    :Number of Attributes: 4 numeric, predictive attributes and the class\n    :Attribute Information:\n        - sepal length in cm\n        - sepal width in cm\n        - petal length in cm\n        - petal width in cm\n        - class:\n                - Iris-Setosa\n                - Iris-Versicolour\n                - Iris-Virginica\n                \n    :Summary Statistics:\n\n    ============== ==== ==== ======= ===== ====================\n                    Min  Max   Mean    SD   Class Correlation\n    ============== ==== ==== ======= ===== ====================\n    sepal length:   4.3  7.9   5.84   0.83    0.7826\n    sepal width:    2.0  4.4   3.05   0.43   -0.4194\n    petal length:   1.0  6.9   3.76   1.76    0.9490  (high!)\n    petal width:    0.1  2.5   1.20   0.76    0.9565  (high!)\n    ============== ==== ==== ======= ===== ====================\n\n    :Missing Attribute Values: None\n    :Class Distribution: 33.3% for each of 3 classes.\n    :Creator: R.A. Fisher\n    :Donor: Michael Marshall (MARSHALL%PLU@io.arc.nasa.gov)\n    :Date: July, 1988\n\nThe famous Iris database, first used by Sir R.A. Fisher. The dataset is taken\nfrom Fisher's paper. Note that it's the same as in R, but not as in the UCI\nMachine Learning Repository, which has two wrong data points.\n\nThis is perhaps the best known database to be found in the\npattern recognition literature.  Fisher's paper is a classic in the field and\nis referenced frequently to this day.  (See Duda & Hart, for example.)  The\ndata set contains 3 classes of 50 instances each, where each class refers to a\ntype of iris plant.  One class is linearly separable from the other 2; the\nlatter are NOT linearly separable from each other.\n\n.. topic:: References\n\n   - Fisher, R.A. \"The use of multiple measurements in taxonomic problems\"\n     Annual Eugenics, 7, Part II, 179-188 (1936); also in \"Contributions to\n     Mathematical Statistics\" (John Wiley, NY, 1950).\n   - Duda, R.O., & Hart, P.E. (1973) Pattern Classification and Scene Analysis.\n     (Q327.D83) John Wiley & Sons.  ISBN 0-471-22361-1.  See page 218.\n   - Dasarathy, B.V. (1980) \"Nosing Around the Neighborhood: A New System\n     Structure and Classification Rule for Recognition in Partially Exposed\n     Environments\".  IEEE Transactions on Pattern Analysis and Machine\n     Intelligence, Vol. PAMI-2, No. 1, 67-71.\n   - Gates, G.W. (1972) \"The Reduced Nearest Neighbor Rule\".  IEEE Transactions\n     on Information Theory, May 1972, 431-433.\n   - See also: 1988 MLC Proceedings, 54-64.  Cheeseman et al\"s AUTOCLASS II\n     conceptual clustering system finds 3 classes in the data.\n   - Many, many more ...\n"
     ]
    }
   ],
   "source": [
    "print(iris_data['DESCR'])"
   ]
  },
  {
   "cell_type": "markdown",
   "metadata": {
    "colab_type": "text",
    "id": "nOpF9GErhUR1"
   },
   "source": [
    "`filename` is the name of the source file where the data is stored."
   ]
  },
  {
   "cell_type": "code",
   "execution_count": 6,
   "metadata": {
    "colab": {},
    "colab_type": "code",
    "id": "MAMVCeH3hW4E"
   },
   "outputs": [
    {
     "output_type": "stream",
     "name": "stdout",
     "text": [
      "/Users/josemartinez/opt/anaconda3/lib/python3.8/site-packages/sklearn/datasets/data/iris.csv\n"
     ]
    }
   ],
   "source": [
    "print(iris_data['filename'])"
   ]
  },
  {
   "cell_type": "markdown",
   "metadata": {
    "colab_type": "text",
    "id": "SAk8huE1henA"
   },
   "source": [
    "`feature_names` is the name of the feature columns."
   ]
  },
  {
   "cell_type": "code",
   "execution_count": 7,
   "metadata": {
    "colab": {},
    "colab_type": "code",
    "id": "VDe49sqchg6B"
   },
   "outputs": [
    {
     "output_type": "stream",
     "name": "stdout",
     "text": [
      "['sepal length (cm)', 'sepal width (cm)', 'petal length (cm)', 'petal width (cm)']\n"
     ]
    }
   ],
   "source": [
    "print(iris_data['feature_names'])"
   ]
  },
  {
   "cell_type": "markdown",
   "metadata": {
    "colab_type": "text",
    "id": "-sWrsHG9hz9m"
   },
   "source": [
    "`target_names`, despite the name, is not the names of the target columns. There is only one column of targets.\n",
    "\n",
    "Instead, `target_names` is the human-readable names of the classes in the target list within the bunch. In this case,`target_names` is the names of the three species of iris in this dataset."
   ]
  },
  {
   "cell_type": "code",
   "execution_count": 8,
   "metadata": {
    "colab": {},
    "colab_type": "code",
    "id": "axZadl--hy09"
   },
   "outputs": [
    {
     "output_type": "stream",
     "name": "stdout",
     "text": [
      "['setosa' 'versicolor' 'virginica']\n"
     ]
    }
   ],
   "source": [
    "print(iris_data['target_names'])"
   ]
  },
  {
   "cell_type": "markdown",
   "metadata": {
    "colab_type": "text",
    "id": "6haqEFs2iXBX"
   },
   "source": [
    "We can now examine `target` and see that it contains zeros, ones, and twos. These correspond to the target names 'setosa', 'versicolor', and 'virginica'."
   ]
  },
  {
   "cell_type": "code",
   "execution_count": 9,
   "metadata": {
    "colab": {},
    "colab_type": "code",
    "id": "S6DV058KiSxA"
   },
   "outputs": [
    {
     "output_type": "stream",
     "name": "stdout",
     "text": [
      "[0 0 0 0 0 0 0 0 0 0 0 0 0 0 0 0 0 0 0 0 0 0 0 0 0 0 0 0 0 0 0 0 0 0 0 0 0\n 0 0 0 0 0 0 0 0 0 0 0 0 0 1 1 1 1 1 1 1 1 1 1 1 1 1 1 1 1 1 1 1 1 1 1 1 1\n 1 1 1 1 1 1 1 1 1 1 1 1 1 1 1 1 1 1 1 1 1 1 1 1 1 1 2 2 2 2 2 2 2 2 2 2 2\n 2 2 2 2 2 2 2 2 2 2 2 2 2 2 2 2 2 2 2 2 2 2 2 2 2 2 2 2 2 2 2 2 2 2 2 2 2\n 2 2]\n"
     ]
    }
   ],
   "source": [
    "print(iris_data['target'])"
   ]
  },
  {
   "cell_type": "markdown",
   "metadata": {
    "colab_type": "text",
    "id": "LdHpL7wxikzx"
   },
   "source": [
    "Last, we'll look at the `data` within the bunch. The data is an array of arrays. Each sub-array contains four values. These values match up with the `feature_names`. The first item in each sub-array is 'sepal length (cm)', the next is 'sepal width (cm)', and so on."
   ]
  },
  {
   "cell_type": "code",
   "execution_count": 12,
   "metadata": {
    "colab": {},
    "colab_type": "code",
    "id": "FGp_Zod2iovU"
   },
   "outputs": [
    {
     "output_type": "stream",
     "name": "stdout",
     "text": [
      "['sepal length (cm)', 'sepal width (cm)', 'petal length (cm)', 'petal width (cm)']\n"
     ]
    },
    {
     "output_type": "execute_result",
     "data": {
      "text/plain": [
       "array([[5.1, 3.5, 1.4, 0.2],\n",
       "       [4.9, 3. , 1.4, 0.2],\n",
       "       [4.7, 3.2, 1.3, 0.2],\n",
       "       [4.6, 3.1, 1.5, 0.2],\n",
       "       [5. , 3.6, 1.4, 0.2],\n",
       "       [5.4, 3.9, 1.7, 0.4],\n",
       "       [4.6, 3.4, 1.4, 0.3],\n",
       "       [5. , 3.4, 1.5, 0.2],\n",
       "       [4.4, 2.9, 1.4, 0.2],\n",
       "       [4.9, 3.1, 1.5, 0.1],\n",
       "       [5.4, 3.7, 1.5, 0.2],\n",
       "       [4.8, 3.4, 1.6, 0.2],\n",
       "       [4.8, 3. , 1.4, 0.1],\n",
       "       [4.3, 3. , 1.1, 0.1],\n",
       "       [5.8, 4. , 1.2, 0.2],\n",
       "       [5.7, 4.4, 1.5, 0.4],\n",
       "       [5.4, 3.9, 1.3, 0.4],\n",
       "       [5.1, 3.5, 1.4, 0.3],\n",
       "       [5.7, 3.8, 1.7, 0.3],\n",
       "       [5.1, 3.8, 1.5, 0.3],\n",
       "       [5.4, 3.4, 1.7, 0.2],\n",
       "       [5.1, 3.7, 1.5, 0.4],\n",
       "       [4.6, 3.6, 1. , 0.2],\n",
       "       [5.1, 3.3, 1.7, 0.5],\n",
       "       [4.8, 3.4, 1.9, 0.2],\n",
       "       [5. , 3. , 1.6, 0.2],\n",
       "       [5. , 3.4, 1.6, 0.4],\n",
       "       [5.2, 3.5, 1.5, 0.2],\n",
       "       [5.2, 3.4, 1.4, 0.2],\n",
       "       [4.7, 3.2, 1.6, 0.2],\n",
       "       [4.8, 3.1, 1.6, 0.2],\n",
       "       [5.4, 3.4, 1.5, 0.4],\n",
       "       [5.2, 4.1, 1.5, 0.1],\n",
       "       [5.5, 4.2, 1.4, 0.2],\n",
       "       [4.9, 3.1, 1.5, 0.2],\n",
       "       [5. , 3.2, 1.2, 0.2],\n",
       "       [5.5, 3.5, 1.3, 0.2],\n",
       "       [4.9, 3.6, 1.4, 0.1],\n",
       "       [4.4, 3. , 1.3, 0.2],\n",
       "       [5.1, 3.4, 1.5, 0.2],\n",
       "       [5. , 3.5, 1.3, 0.3],\n",
       "       [4.5, 2.3, 1.3, 0.3],\n",
       "       [4.4, 3.2, 1.3, 0.2],\n",
       "       [5. , 3.5, 1.6, 0.6],\n",
       "       [5.1, 3.8, 1.9, 0.4],\n",
       "       [4.8, 3. , 1.4, 0.3],\n",
       "       [5.1, 3.8, 1.6, 0.2],\n",
       "       [4.6, 3.2, 1.4, 0.2],\n",
       "       [5.3, 3.7, 1.5, 0.2],\n",
       "       [5. , 3.3, 1.4, 0.2],\n",
       "       [7. , 3.2, 4.7, 1.4],\n",
       "       [6.4, 3.2, 4.5, 1.5],\n",
       "       [6.9, 3.1, 4.9, 1.5],\n",
       "       [5.5, 2.3, 4. , 1.3],\n",
       "       [6.5, 2.8, 4.6, 1.5],\n",
       "       [5.7, 2.8, 4.5, 1.3],\n",
       "       [6.3, 3.3, 4.7, 1.6],\n",
       "       [4.9, 2.4, 3.3, 1. ],\n",
       "       [6.6, 2.9, 4.6, 1.3],\n",
       "       [5.2, 2.7, 3.9, 1.4],\n",
       "       [5. , 2. , 3.5, 1. ],\n",
       "       [5.9, 3. , 4.2, 1.5],\n",
       "       [6. , 2.2, 4. , 1. ],\n",
       "       [6.1, 2.9, 4.7, 1.4],\n",
       "       [5.6, 2.9, 3.6, 1.3],\n",
       "       [6.7, 3.1, 4.4, 1.4],\n",
       "       [5.6, 3. , 4.5, 1.5],\n",
       "       [5.8, 2.7, 4.1, 1. ],\n",
       "       [6.2, 2.2, 4.5, 1.5],\n",
       "       [5.6, 2.5, 3.9, 1.1],\n",
       "       [5.9, 3.2, 4.8, 1.8],\n",
       "       [6.1, 2.8, 4. , 1.3],\n",
       "       [6.3, 2.5, 4.9, 1.5],\n",
       "       [6.1, 2.8, 4.7, 1.2],\n",
       "       [6.4, 2.9, 4.3, 1.3],\n",
       "       [6.6, 3. , 4.4, 1.4],\n",
       "       [6.8, 2.8, 4.8, 1.4],\n",
       "       [6.7, 3. , 5. , 1.7],\n",
       "       [6. , 2.9, 4.5, 1.5],\n",
       "       [5.7, 2.6, 3.5, 1. ],\n",
       "       [5.5, 2.4, 3.8, 1.1],\n",
       "       [5.5, 2.4, 3.7, 1. ],\n",
       "       [5.8, 2.7, 3.9, 1.2],\n",
       "       [6. , 2.7, 5.1, 1.6],\n",
       "       [5.4, 3. , 4.5, 1.5],\n",
       "       [6. , 3.4, 4.5, 1.6],\n",
       "       [6.7, 3.1, 4.7, 1.5],\n",
       "       [6.3, 2.3, 4.4, 1.3],\n",
       "       [5.6, 3. , 4.1, 1.3],\n",
       "       [5.5, 2.5, 4. , 1.3],\n",
       "       [5.5, 2.6, 4.4, 1.2],\n",
       "       [6.1, 3. , 4.6, 1.4],\n",
       "       [5.8, 2.6, 4. , 1.2],\n",
       "       [5. , 2.3, 3.3, 1. ],\n",
       "       [5.6, 2.7, 4.2, 1.3],\n",
       "       [5.7, 3. , 4.2, 1.2],\n",
       "       [5.7, 2.9, 4.2, 1.3],\n",
       "       [6.2, 2.9, 4.3, 1.3],\n",
       "       [5.1, 2.5, 3. , 1.1],\n",
       "       [5.7, 2.8, 4.1, 1.3],\n",
       "       [6.3, 3.3, 6. , 2.5],\n",
       "       [5.8, 2.7, 5.1, 1.9],\n",
       "       [7.1, 3. , 5.9, 2.1],\n",
       "       [6.3, 2.9, 5.6, 1.8],\n",
       "       [6.5, 3. , 5.8, 2.2],\n",
       "       [7.6, 3. , 6.6, 2.1],\n",
       "       [4.9, 2.5, 4.5, 1.7],\n",
       "       [7.3, 2.9, 6.3, 1.8],\n",
       "       [6.7, 2.5, 5.8, 1.8],\n",
       "       [7.2, 3.6, 6.1, 2.5],\n",
       "       [6.5, 3.2, 5.1, 2. ],\n",
       "       [6.4, 2.7, 5.3, 1.9],\n",
       "       [6.8, 3. , 5.5, 2.1],\n",
       "       [5.7, 2.5, 5. , 2. ],\n",
       "       [5.8, 2.8, 5.1, 2.4],\n",
       "       [6.4, 3.2, 5.3, 2.3],\n",
       "       [6.5, 3. , 5.5, 1.8],\n",
       "       [7.7, 3.8, 6.7, 2.2],\n",
       "       [7.7, 2.6, 6.9, 2.3],\n",
       "       [6. , 2.2, 5. , 1.5],\n",
       "       [6.9, 3.2, 5.7, 2.3],\n",
       "       [5.6, 2.8, 4.9, 2. ],\n",
       "       [7.7, 2.8, 6.7, 2. ],\n",
       "       [6.3, 2.7, 4.9, 1.8],\n",
       "       [6.7, 3.3, 5.7, 2.1],\n",
       "       [7.2, 3.2, 6. , 1.8],\n",
       "       [6.2, 2.8, 4.8, 1.8],\n",
       "       [6.1, 3. , 4.9, 1.8],\n",
       "       [6.4, 2.8, 5.6, 2.1],\n",
       "       [7.2, 3. , 5.8, 1.6],\n",
       "       [7.4, 2.8, 6.1, 1.9],\n",
       "       [7.9, 3.8, 6.4, 2. ],\n",
       "       [6.4, 2.8, 5.6, 2.2],\n",
       "       [6.3, 2.8, 5.1, 1.5],\n",
       "       [6.1, 2.6, 5.6, 1.4],\n",
       "       [7.7, 3. , 6.1, 2.3],\n",
       "       [6.3, 3.4, 5.6, 2.4],\n",
       "       [6.4, 3.1, 5.5, 1.8],\n",
       "       [6. , 3. , 4.8, 1.8],\n",
       "       [6.9, 3.1, 5.4, 2.1],\n",
       "       [6.7, 3.1, 5.6, 2.4],\n",
       "       [6.9, 3.1, 5.1, 2.3],\n",
       "       [5.8, 2.7, 5.1, 1.9],\n",
       "       [6.8, 3.2, 5.9, 2.3],\n",
       "       [6.7, 3.3, 5.7, 2.5],\n",
       "       [6.7, 3. , 5.2, 2.3],\n",
       "       [6.3, 2.5, 5. , 1.9],\n",
       "       [6.5, 3. , 5.2, 2. ],\n",
       "       [6.2, 3.4, 5.4, 2.3],\n",
       "       [5.9, 3. , 5.1, 1.8]])"
      ]
     },
     "metadata": {},
     "execution_count": 12
    }
   ],
   "source": [
    "\n",
    "print(iris_data['feature_names'])\n",
    "iris_data['data']\n",
    "#each value withi a subarray corresponds with the following features"
   ]
  },
  {
   "cell_type": "markdown",
   "metadata": {
    "colab_type": "text",
    "id": "dwObt9fhi-e_"
   },
   "source": [
    "The number of target values should always equal the number of rows in the data."
   ]
  },
  {
   "cell_type": "code",
   "execution_count": 0,
   "metadata": {
    "colab": {},
    "colab_type": "code",
    "id": "ce26qiH8jDOr"
   },
   "outputs": [],
   "source": [
    "print(len(iris_data['data']))\n",
    "print(len(iris_data['target']))"
   ]
  },
  {
   "cell_type": "markdown",
   "metadata": {
    "colab_type": "text",
    "id": "JMRCb4sFjPwE"
   },
   "source": [
    "`Bunch` objects are an adequate container for data. They can be used directly to feed models. However, `Bunch` objects are *not* very good for analyzing and manipulating your data.\n",
    "\n",
    "In this course, we will typically convert `Bunch` objects into Pandas `DataFrame` objects to make analysis, data cleaning, visualization, and train/test splitting easier.\n",
    "\n",
    "To do this, we will take the matrix of feature data and append the target data to it to create a single matrix of data. We also take the list of feature names and append the word 'species' to represent the target classes in the matrix."
   ]
  },
  {
   "cell_type": "code",
   "execution_count": 13,
   "metadata": {
    "colab": {},
    "colab_type": "code",
    "id": "RV9YXbofkESG"
   },
   "outputs": [
    {
     "output_type": "execute_result",
     "data": {
      "text/plain": [
       "     sepal length (cm)  sepal width (cm)  petal length (cm)  petal width (cm)  \\\n",
       "42                 4.4               3.2                1.3               0.2   \n",
       "21                 5.1               3.7                1.5               0.4   \n",
       "48                 5.3               3.7                1.5               0.2   \n",
       "35                 5.0               3.2                1.2               0.2   \n",
       "32                 5.2               4.1                1.5               0.1   \n",
       "64                 5.6               2.9                3.6               1.3   \n",
       "140                6.7               3.1                5.6               2.4   \n",
       "110                6.5               3.2                5.1               2.0   \n",
       "4                  5.0               3.6                1.4               0.2   \n",
       "93                 5.0               2.3                3.3               1.0   \n",
       "\n",
       "     species  \n",
       "42       0.0  \n",
       "21       0.0  \n",
       "48       0.0  \n",
       "35       0.0  \n",
       "32       0.0  \n",
       "64       1.0  \n",
       "140      2.0  \n",
       "110      2.0  \n",
       "4        0.0  \n",
       "93       1.0  "
      ],
      "text/html": "<div>\n<style scoped>\n    .dataframe tbody tr th:only-of-type {\n        vertical-align: middle;\n    }\n\n    .dataframe tbody tr th {\n        vertical-align: top;\n    }\n\n    .dataframe thead th {\n        text-align: right;\n    }\n</style>\n<table border=\"1\" class=\"dataframe\">\n  <thead>\n    <tr style=\"text-align: right;\">\n      <th></th>\n      <th>sepal length (cm)</th>\n      <th>sepal width (cm)</th>\n      <th>petal length (cm)</th>\n      <th>petal width (cm)</th>\n      <th>species</th>\n    </tr>\n  </thead>\n  <tbody>\n    <tr>\n      <th>42</th>\n      <td>4.4</td>\n      <td>3.2</td>\n      <td>1.3</td>\n      <td>0.2</td>\n      <td>0.0</td>\n    </tr>\n    <tr>\n      <th>21</th>\n      <td>5.1</td>\n      <td>3.7</td>\n      <td>1.5</td>\n      <td>0.4</td>\n      <td>0.0</td>\n    </tr>\n    <tr>\n      <th>48</th>\n      <td>5.3</td>\n      <td>3.7</td>\n      <td>1.5</td>\n      <td>0.2</td>\n      <td>0.0</td>\n    </tr>\n    <tr>\n      <th>35</th>\n      <td>5.0</td>\n      <td>3.2</td>\n      <td>1.2</td>\n      <td>0.2</td>\n      <td>0.0</td>\n    </tr>\n    <tr>\n      <th>32</th>\n      <td>5.2</td>\n      <td>4.1</td>\n      <td>1.5</td>\n      <td>0.1</td>\n      <td>0.0</td>\n    </tr>\n    <tr>\n      <th>64</th>\n      <td>5.6</td>\n      <td>2.9</td>\n      <td>3.6</td>\n      <td>1.3</td>\n      <td>1.0</td>\n    </tr>\n    <tr>\n      <th>140</th>\n      <td>6.7</td>\n      <td>3.1</td>\n      <td>5.6</td>\n      <td>2.4</td>\n      <td>2.0</td>\n    </tr>\n    <tr>\n      <th>110</th>\n      <td>6.5</td>\n      <td>3.2</td>\n      <td>5.1</td>\n      <td>2.0</td>\n      <td>2.0</td>\n    </tr>\n    <tr>\n      <th>4</th>\n      <td>5.0</td>\n      <td>3.6</td>\n      <td>1.4</td>\n      <td>0.2</td>\n      <td>0.0</td>\n    </tr>\n    <tr>\n      <th>93</th>\n      <td>5.0</td>\n      <td>2.3</td>\n      <td>3.3</td>\n      <td>1.0</td>\n      <td>1.0</td>\n    </tr>\n  </tbody>\n</table>\n</div>"
     },
     "metadata": {},
     "execution_count": 13
    }
   ],
   "source": [
    "import pandas as pd\n",
    "import numpy as np\n",
    "\n",
    "\n",
    "#take matrix of the feature data and append the target data creating a single matrix of data\n",
    "\n",
    "#list of featrure names and append the word species to represent target classes in the matrix\n",
    "iris_df = pd.DataFrame(\n",
    "  data=np.append(\n",
    "    #inserting data\n",
    "    iris_data['data'], \n",
    "    np.array(iris_data['target']).reshape(len(iris_data['target']), 1), \n",
    "    axis=1),\n",
    "  columns=np.append(iris_data['feature_names'], ['species'])\n",
    ")\n",
    "\n",
    "iris_df.sample(n=10)"
   ]
  },
  {
   "cell_type": "markdown",
   "metadata": {
    "colab_type": "text",
    "id": "mGJSXwWUiLAQ"
   },
   "source": [
    "You might notice that the integer representation of species got converted to a floating point number along the way. We can change that back."
   ]
  },
  {
   "cell_type": "code",
   "execution_count": 0,
   "metadata": {
    "colab": {},
    "colab_type": "code",
    "id": "nIM1mPm2iYLj"
   },
   "outputs": [],
   "source": [
    "iris_df['species'] = iris_df['species'].astype('int64')\n",
    "\n",
    "iris_df.sample(n=10)"
   ]
  },
  {
   "cell_type": "markdown",
   "metadata": {
    "colab_type": "text",
    "id": "22oKL4SMexsr"
   },
   "source": [
    "### Exercise 1"
   ]
  },
  {
   "cell_type": "markdown",
   "metadata": {
    "colab_type": "text",
    "id": "6K9IrnNBoHxB"
   },
   "source": [
    "Load the [Boston house price dataset](https://scikit-learn.org/stable/modules/generated/sklearn.datasets.load_boston.html) into a Pandas `DataFrame`. Append the target values to the last column of the `DataFrame` called `boston_df`. Name the target column 'PRICE'."
   ]
  },
  {
   "cell_type": "markdown",
   "metadata": {
    "colab_type": "text",
    "id": "mDd0ygxP-o3L"
   },
   "source": [
    "#### **Student Solution**"
   ]
  },
  {
   "cell_type": "code",
   "execution_count": 75,
   "metadata": {
    "colab": {},
    "colab_type": "code",
    "id": "SJCrOW1DfOBe"
   },
   "outputs": [
    {
     "output_type": "execute_result",
     "data": {
      "text/plain": [
       "        CRIM    ZN  INDUS  CHAS    NOX     RM   AGE     DIS  RAD    TAX  \\\n",
       "0    0.00632  18.0   2.31   0.0  0.538  6.575  65.2  4.0900  1.0  296.0   \n",
       "1    0.02731   0.0   7.07   0.0  0.469  6.421  78.9  4.9671  2.0  242.0   \n",
       "2    0.02729   0.0   7.07   0.0  0.469  7.185  61.1  4.9671  2.0  242.0   \n",
       "3    0.03237   0.0   2.18   0.0  0.458  6.998  45.8  6.0622  3.0  222.0   \n",
       "4    0.06905   0.0   2.18   0.0  0.458  7.147  54.2  6.0622  3.0  222.0   \n",
       "..       ...   ...    ...   ...    ...    ...   ...     ...  ...    ...   \n",
       "501      NaN   NaN    NaN   NaN    NaN    NaN   NaN     NaN  NaN    NaN   \n",
       "502      NaN   NaN    NaN   NaN    NaN    NaN   NaN     NaN  NaN    NaN   \n",
       "503      NaN   NaN    NaN   NaN    NaN    NaN   NaN     NaN  NaN    NaN   \n",
       "504      NaN   NaN    NaN   NaN    NaN    NaN   NaN     NaN  NaN    NaN   \n",
       "505      NaN   NaN    NaN   NaN    NaN    NaN   NaN     NaN  NaN    NaN   \n",
       "\n",
       "     PTRATIO       B  LSTAT  species  PRICE  \n",
       "0       15.3  396.90   4.98     24.0    NaN  \n",
       "1       17.8  396.90   9.14     21.6    NaN  \n",
       "2       17.8  392.83   4.03     34.7    NaN  \n",
       "3       18.7  394.63   2.94     33.4    NaN  \n",
       "4       18.7  396.90   5.33     36.2    NaN  \n",
       "..       ...     ...    ...      ...    ...  \n",
       "501      NaN     NaN    NaN      NaN   22.4  \n",
       "502      NaN     NaN    NaN      NaN   20.6  \n",
       "503      NaN     NaN    NaN      NaN   23.9  \n",
       "504      NaN     NaN    NaN      NaN   22.0  \n",
       "505      NaN     NaN    NaN      NaN   11.9  \n",
       "\n",
       "[1012 rows x 15 columns]"
      ],
      "text/html": "<div>\n<style scoped>\n    .dataframe tbody tr th:only-of-type {\n        vertical-align: middle;\n    }\n\n    .dataframe tbody tr th {\n        vertical-align: top;\n    }\n\n    .dataframe thead th {\n        text-align: right;\n    }\n</style>\n<table border=\"1\" class=\"dataframe\">\n  <thead>\n    <tr style=\"text-align: right;\">\n      <th></th>\n      <th>CRIM</th>\n      <th>ZN</th>\n      <th>INDUS</th>\n      <th>CHAS</th>\n      <th>NOX</th>\n      <th>RM</th>\n      <th>AGE</th>\n      <th>DIS</th>\n      <th>RAD</th>\n      <th>TAX</th>\n      <th>PTRATIO</th>\n      <th>B</th>\n      <th>LSTAT</th>\n      <th>species</th>\n      <th>PRICE</th>\n    </tr>\n  </thead>\n  <tbody>\n    <tr>\n      <th>0</th>\n      <td>0.00632</td>\n      <td>18.0</td>\n      <td>2.31</td>\n      <td>0.0</td>\n      <td>0.538</td>\n      <td>6.575</td>\n      <td>65.2</td>\n      <td>4.0900</td>\n      <td>1.0</td>\n      <td>296.0</td>\n      <td>15.3</td>\n      <td>396.90</td>\n      <td>4.98</td>\n      <td>24.0</td>\n      <td>NaN</td>\n    </tr>\n    <tr>\n      <th>1</th>\n      <td>0.02731</td>\n      <td>0.0</td>\n      <td>7.07</td>\n      <td>0.0</td>\n      <td>0.469</td>\n      <td>6.421</td>\n      <td>78.9</td>\n      <td>4.9671</td>\n      <td>2.0</td>\n      <td>242.0</td>\n      <td>17.8</td>\n      <td>396.90</td>\n      <td>9.14</td>\n      <td>21.6</td>\n      <td>NaN</td>\n    </tr>\n    <tr>\n      <th>2</th>\n      <td>0.02729</td>\n      <td>0.0</td>\n      <td>7.07</td>\n      <td>0.0</td>\n      <td>0.469</td>\n      <td>7.185</td>\n      <td>61.1</td>\n      <td>4.9671</td>\n      <td>2.0</td>\n      <td>242.0</td>\n      <td>17.8</td>\n      <td>392.83</td>\n      <td>4.03</td>\n      <td>34.7</td>\n      <td>NaN</td>\n    </tr>\n    <tr>\n      <th>3</th>\n      <td>0.03237</td>\n      <td>0.0</td>\n      <td>2.18</td>\n      <td>0.0</td>\n      <td>0.458</td>\n      <td>6.998</td>\n      <td>45.8</td>\n      <td>6.0622</td>\n      <td>3.0</td>\n      <td>222.0</td>\n      <td>18.7</td>\n      <td>394.63</td>\n      <td>2.94</td>\n      <td>33.4</td>\n      <td>NaN</td>\n    </tr>\n    <tr>\n      <th>4</th>\n      <td>0.06905</td>\n      <td>0.0</td>\n      <td>2.18</td>\n      <td>0.0</td>\n      <td>0.458</td>\n      <td>7.147</td>\n      <td>54.2</td>\n      <td>6.0622</td>\n      <td>3.0</td>\n      <td>222.0</td>\n      <td>18.7</td>\n      <td>396.90</td>\n      <td>5.33</td>\n      <td>36.2</td>\n      <td>NaN</td>\n    </tr>\n    <tr>\n      <th>...</th>\n      <td>...</td>\n      <td>...</td>\n      <td>...</td>\n      <td>...</td>\n      <td>...</td>\n      <td>...</td>\n      <td>...</td>\n      <td>...</td>\n      <td>...</td>\n      <td>...</td>\n      <td>...</td>\n      <td>...</td>\n      <td>...</td>\n      <td>...</td>\n      <td>...</td>\n    </tr>\n    <tr>\n      <th>501</th>\n      <td>NaN</td>\n      <td>NaN</td>\n      <td>NaN</td>\n      <td>NaN</td>\n      <td>NaN</td>\n      <td>NaN</td>\n      <td>NaN</td>\n      <td>NaN</td>\n      <td>NaN</td>\n      <td>NaN</td>\n      <td>NaN</td>\n      <td>NaN</td>\n      <td>NaN</td>\n      <td>NaN</td>\n      <td>22.4</td>\n    </tr>\n    <tr>\n      <th>502</th>\n      <td>NaN</td>\n      <td>NaN</td>\n      <td>NaN</td>\n      <td>NaN</td>\n      <td>NaN</td>\n      <td>NaN</td>\n      <td>NaN</td>\n      <td>NaN</td>\n      <td>NaN</td>\n      <td>NaN</td>\n      <td>NaN</td>\n      <td>NaN</td>\n      <td>NaN</td>\n      <td>NaN</td>\n      <td>20.6</td>\n    </tr>\n    <tr>\n      <th>503</th>\n      <td>NaN</td>\n      <td>NaN</td>\n      <td>NaN</td>\n      <td>NaN</td>\n      <td>NaN</td>\n      <td>NaN</td>\n      <td>NaN</td>\n      <td>NaN</td>\n      <td>NaN</td>\n      <td>NaN</td>\n      <td>NaN</td>\n      <td>NaN</td>\n      <td>NaN</td>\n      <td>NaN</td>\n      <td>23.9</td>\n    </tr>\n    <tr>\n      <th>504</th>\n      <td>NaN</td>\n      <td>NaN</td>\n      <td>NaN</td>\n      <td>NaN</td>\n      <td>NaN</td>\n      <td>NaN</td>\n      <td>NaN</td>\n      <td>NaN</td>\n      <td>NaN</td>\n      <td>NaN</td>\n      <td>NaN</td>\n      <td>NaN</td>\n      <td>NaN</td>\n      <td>NaN</td>\n      <td>22.0</td>\n    </tr>\n    <tr>\n      <th>505</th>\n      <td>NaN</td>\n      <td>NaN</td>\n      <td>NaN</td>\n      <td>NaN</td>\n      <td>NaN</td>\n      <td>NaN</td>\n      <td>NaN</td>\n      <td>NaN</td>\n      <td>NaN</td>\n      <td>NaN</td>\n      <td>NaN</td>\n      <td>NaN</td>\n      <td>NaN</td>\n      <td>NaN</td>\n      <td>11.9</td>\n    </tr>\n  </tbody>\n</table>\n<p>1012 rows × 15 columns</p>\n</div>"
     },
     "metadata": {},
     "execution_count": 75
    }
   ],
   "source": [
    "from sklearn.datasets import load_boston\n",
    "load_boston = load_boston()\n",
    "\n",
    "\n",
    "\n",
    "\n",
    "load_boston_df = pd.DataFrame(\n",
    "  data=np.append(\n",
    "    #inserting data\n",
    "    load_boston['data'], \n",
    "    np.array(load_boston['target']).reshape(len(load_boston['target']), 1), \n",
    "    axis=1),\n",
    "  columns=np.append(load_boston['feature_names'], ['species'])\n",
    ")\n",
    "new_column = load_boston['target']\n",
    "new_dataframe = pd.DataFrame(new_column)\n",
    "name = ['PRICE']\n",
    "new_dataframe.columns = name\n",
    "\n",
    "\n",
    "boston_df = load_boston_df.append(new_dataframe)\n",
    "boston_df\n",
    "#load_boston_df.columns\n"
   ]
  },
  {
   "cell_type": "markdown",
   "metadata": {
    "colab_type": "text",
    "id": "7zKs1Z873NGC"
   },
   "source": [
    "---"
   ]
  },
  {
   "cell_type": "markdown",
   "metadata": {
    "colab_type": "text",
    "id": "SCsSQGBBi0XX"
   },
   "source": [
    "### Fetching\n",
    "\n",
    "Fetching is similar to loading. Scikit-learn will first see if it can find the dataset locally, and, if so, it will simply load the data. Otherwise, it will attempt to pull the data from the internet.\n",
    "\n",
    "We can see fetching in action with the [fetch_california_housing](https://scikit-learn.org/stable/modules/generated/sklearn.datasets.fetch_california_housing.html#sklearn.datasets.fetch_california_housing) function below."
   ]
  },
  {
   "cell_type": "code",
   "execution_count": 76,
   "metadata": {
    "colab": {},
    "colab_type": "code",
    "id": "IWIjnqDEjVXX"
   },
   "outputs": [
    {
     "output_type": "execute_result",
     "data": {
      "text/plain": [
       "sklearn.utils.Bunch"
      ]
     },
     "metadata": {},
     "execution_count": 76
    }
   ],
   "source": [
    "from sklearn.datasets import fetch_california_housing\n",
    "\n",
    "housing_data = fetch_california_housing()\n",
    "\n",
    "type(housing_data)"
   ]
  },
  {
   "cell_type": "markdown",
   "metadata": {
    "colab_type": "text",
    "id": "sal1rRb0j1G7"
   },
   "source": [
    "The dataset is once again a `Bunch`.\n",
    "\n",
    "If you follow the link to the [fetch_california_housing](https://scikit-learn.org/stable/modules/generated/sklearn.datasets.fetch_california_housing.html#sklearn.datasets.fetch_california_housing) documentation, you notice that the dataset is a **regression** dataset as opposed to the iris dataset, which was a **classification** dataset.\n",
    "\n",
    "We can see the difference in the dataset by checking out the attributes of the `Bunch`."
   ]
  },
  {
   "cell_type": "code",
   "execution_count": 0,
   "metadata": {
    "colab": {},
    "colab_type": "code",
    "id": "0NOhdK0gjxWS"
   },
   "outputs": [],
   "source": [
    "dir(housing_data)"
   ]
  },
  {
   "cell_type": "markdown",
   "metadata": {
    "colab_type": "text",
    "id": "CJ8bVa53kYv9"
   },
   "source": [
    "We see that four of the attributes that we expect are present, but 'target_names' is missing. This is because our target is now a continuous variable (home price) and not a discrete value (iris species)."
   ]
  },
  {
   "cell_type": "code",
   "execution_count": 0,
   "metadata": {
    "colab": {},
    "colab_type": "code",
    "id": "1ClIX_emkj9N"
   },
   "outputs": [],
   "source": [
    "print(housing_data['target'][:10])"
   ]
  },
  {
   "cell_type": "markdown",
   "metadata": {
    "colab_type": "text",
    "id": "PUDwxxB2J8wP"
   },
   "source": [
    "Converting a `Bunch` of regression data to a `DataFrame` is no different than for a `Bunch` of classification data."
   ]
  },
  {
   "cell_type": "code",
   "execution_count": 0,
   "metadata": {
    "colab": {},
    "colab_type": "code",
    "id": "LdRWov44k3lJ"
   },
   "outputs": [],
   "source": [
    "import pandas as pd\n",
    "import numpy as np\n",
    "\n",
    "housing_df = pd.DataFrame(\n",
    "  data=np.append(\n",
    "    housing_data['data'], \n",
    "    np.array(housing_data['target']).reshape(len(housing_data['target']), 1), \n",
    "    axis=1),\n",
    "  columns=np.append(housing_data['feature_names'], ['price'])\n",
    ")\n",
    "\n",
    "housing_df.sample(n=10)"
   ]
  },
  {
   "cell_type": "markdown",
   "metadata": {
    "colab_type": "text",
    "id": "omIwmr8QlX4W"
   },
   "source": [
    "### Generating\n",
    "\n",
    "In the example datasets we've seen so far in this Colab, the data is static and loaded from a file. Sometimes it makes more sense to generate a dataset. For this, we can use one of the many [generator functions](https://scikit-learn.org/stable/modules/classes.html#samples-generator)."
   ]
  },
  {
   "cell_type": "markdown",
   "metadata": {
    "colab_type": "text",
    "id": "tIV-WDaLnKoZ"
   },
   "source": [
    "`make_regression` is a generator that creates a dataset with an underlying regression that you can then attempt to discover using various machine learning models.\n",
    "\n",
    "In the example below, we create a dataset with 10 data points. For the sake of visualization, we have only one feature per datapoint, but we could ask for more.\n",
    "\n",
    "The return values are the $X$ and $y$ values for the regression. $X$ is a matrix of features. $y$ is a list of targets.\n",
    "\n",
    "Since a generator uses randomness to generate data, we are going to set a `random_state` in this Colab for reproducibility. This ensures we get the same result every time we run the code. **You won't do this in your production code.**"
   ]
  },
  {
   "cell_type": "code",
   "execution_count": 77,
   "metadata": {
    "colab": {},
    "colab_type": "code",
    "id": "MiR5MD06l44S"
   },
   "outputs": [
    {
     "output_type": "execute_result",
     "data": {
      "text/plain": [
       "(array([[ 1.57921282],\n",
       "        [ 0.64768854],\n",
       "        [-0.46947439],\n",
       "        [ 0.76743473],\n",
       "        [ 0.54256004],\n",
       "        [-0.23413696],\n",
       "        [-0.1382643 ],\n",
       "        [ 1.52302986],\n",
       "        [ 0.49671415],\n",
       "        [-0.23415337]]),\n",
       " array([28.71403184, 11.77659472, -8.53621648, 13.95387945,  9.86509621,\n",
       "        -4.25719445, -2.5139902 , 27.69248537,  9.03150346, -4.25749297]))"
      ]
     },
     "metadata": {},
     "execution_count": 77
    }
   ],
   "source": [
    "from sklearn.datasets import make_regression\n",
    "\n",
    "features, targets = make_regression(n_samples=10, n_features=1, random_state=42)\n",
    "\n",
    "features, targets"
   ]
  },
  {
   "cell_type": "markdown",
   "metadata": {
    "colab_type": "text",
    "id": "mPGFAiWXn-L2"
   },
   "source": [
    "We can use a visualization library to plot the regression data."
   ]
  },
  {
   "cell_type": "code",
   "execution_count": 79,
   "metadata": {
    "colab": {},
    "colab_type": "code",
    "id": "a3G9YzxnnlgN"
   },
   "outputs": [
    {
     "output_type": "display_data",
     "data": {
      "text/plain": "<Figure size 432x288 with 1 Axes>",
      "image/svg+xml": "<?xml version=\"1.0\" encoding=\"utf-8\" standalone=\"no\"?>\n<!DOCTYPE svg PUBLIC \"-//W3C//DTD SVG 1.1//EN\"\n  \"http://www.w3.org/Graphics/SVG/1.1/DTD/svg11.dtd\">\n<!-- Created with matplotlib (https://matplotlib.org/) -->\n<svg height=\"248.518125pt\" version=\"1.1\" viewBox=\"0 0 377.304687 248.518125\" width=\"377.304687pt\" xmlns=\"http://www.w3.org/2000/svg\" xmlns:xlink=\"http://www.w3.org/1999/xlink\">\n <metadata>\n  <rdf:RDF xmlns:cc=\"http://creativecommons.org/ns#\" xmlns:dc=\"http://purl.org/dc/elements/1.1/\" xmlns:rdf=\"http://www.w3.org/1999/02/22-rdf-syntax-ns#\">\n   <cc:Work>\n    <dc:type rdf:resource=\"http://purl.org/dc/dcmitype/StillImage\"/>\n    <dc:date>2021-06-21T12:54:09.934745</dc:date>\n    <dc:format>image/svg+xml</dc:format>\n    <dc:creator>\n     <cc:Agent>\n      <dc:title>Matplotlib v3.3.2, https://matplotlib.org/</dc:title>\n     </cc:Agent>\n    </dc:creator>\n   </cc:Work>\n  </rdf:RDF>\n </metadata>\n <defs>\n  <style type=\"text/css\">*{stroke-linecap:butt;stroke-linejoin:round;}</style>\n </defs>\n <g id=\"figure_1\">\n  <g id=\"patch_1\">\n   <path d=\"M 0 248.518125 \nL 377.304687 248.518125 \nL 377.304687 0 \nL 0 0 \nz\n\" style=\"fill:none;\"/>\n  </g>\n  <g id=\"axes_1\">\n   <g id=\"patch_2\">\n    <path d=\"M 35.304688 224.64 \nL 370.104688 224.64 \nL 370.104688 7.2 \nL 35.304688 7.2 \nz\n\" style=\"fill:#ffffff;\"/>\n   </g>\n   <g id=\"matplotlib.axis_1\">\n    <g id=\"xtick_1\">\n     <g id=\"line2d_1\">\n      <defs>\n       <path d=\"M 0 0 \nL 0 3.5 \n\" id=\"m66d2f7e854\" style=\"stroke:#000000;stroke-width:0.8;\"/>\n      </defs>\n      <g>\n       <use style=\"stroke:#000000;stroke-width:0.8;\" x=\"45.987825\" xlink:href=\"#m66d2f7e854\" y=\"224.64\"/>\n      </g>\n     </g>\n     <g id=\"text_1\">\n      <!-- −0.5 -->\n      <g transform=\"translate(33.846419 239.238437)scale(0.1 -0.1)\">\n       <defs>\n        <path d=\"M 10.59375 35.5 \nL 73.1875 35.5 \nL 73.1875 27.203125 \nL 10.59375 27.203125 \nz\n\" id=\"DejaVuSans-8722\"/>\n        <path d=\"M 31.78125 66.40625 \nQ 24.171875 66.40625 20.328125 58.90625 \nQ 16.5 51.421875 16.5 36.375 \nQ 16.5 21.390625 20.328125 13.890625 \nQ 24.171875 6.390625 31.78125 6.390625 \nQ 39.453125 6.390625 43.28125 13.890625 \nQ 47.125 21.390625 47.125 36.375 \nQ 47.125 51.421875 43.28125 58.90625 \nQ 39.453125 66.40625 31.78125 66.40625 \nz\nM 31.78125 74.21875 \nQ 44.046875 74.21875 50.515625 64.515625 \nQ 56.984375 54.828125 56.984375 36.375 \nQ 56.984375 17.96875 50.515625 8.265625 \nQ 44.046875 -1.421875 31.78125 -1.421875 \nQ 19.53125 -1.421875 13.0625 8.265625 \nQ 6.59375 17.96875 6.59375 36.375 \nQ 6.59375 54.828125 13.0625 64.515625 \nQ 19.53125 74.21875 31.78125 74.21875 \nz\n\" id=\"DejaVuSans-48\"/>\n        <path d=\"M 10.6875 12.40625 \nL 21 12.40625 \nL 21 0 \nL 10.6875 0 \nz\n\" id=\"DejaVuSans-46\"/>\n        <path d=\"M 10.796875 72.90625 \nL 49.515625 72.90625 \nL 49.515625 64.59375 \nL 19.828125 64.59375 \nL 19.828125 46.734375 \nQ 21.96875 47.46875 24.109375 47.828125 \nQ 26.265625 48.1875 28.421875 48.1875 \nQ 40.625 48.1875 47.75 41.5 \nQ 54.890625 34.8125 54.890625 23.390625 \nQ 54.890625 11.625 47.5625 5.09375 \nQ 40.234375 -1.421875 26.90625 -1.421875 \nQ 22.3125 -1.421875 17.546875 -0.640625 \nQ 12.796875 0.140625 7.71875 1.703125 \nL 7.71875 11.625 \nQ 12.109375 9.234375 16.796875 8.0625 \nQ 21.484375 6.890625 26.703125 6.890625 \nQ 35.15625 6.890625 40.078125 11.328125 \nQ 45.015625 15.765625 45.015625 23.390625 \nQ 45.015625 31 40.078125 35.4375 \nQ 35.15625 39.890625 26.703125 39.890625 \nQ 22.75 39.890625 18.8125 39.015625 \nQ 14.890625 38.140625 10.796875 36.28125 \nz\n\" id=\"DejaVuSans-53\"/>\n       </defs>\n       <use xlink:href=\"#DejaVuSans-8722\"/>\n       <use x=\"83.789062\" xlink:href=\"#DejaVuSans-48\"/>\n       <use x=\"147.412109\" xlink:href=\"#DejaVuSans-46\"/>\n       <use x=\"179.199219\" xlink:href=\"#DejaVuSans-53\"/>\n      </g>\n     </g>\n    </g>\n    <g id=\"xtick_2\">\n     <g id=\"line2d_2\">\n      <g>\n       <use style=\"stroke:#000000;stroke-width:0.8;\" x=\"120.270428\" xlink:href=\"#m66d2f7e854\" y=\"224.64\"/>\n      </g>\n     </g>\n     <g id=\"text_2\">\n      <!-- 0.0 -->\n      <g transform=\"translate(112.318866 239.238437)scale(0.1 -0.1)\">\n       <use xlink:href=\"#DejaVuSans-48\"/>\n       <use x=\"63.623047\" xlink:href=\"#DejaVuSans-46\"/>\n       <use x=\"95.410156\" xlink:href=\"#DejaVuSans-48\"/>\n      </g>\n     </g>\n    </g>\n    <g id=\"xtick_3\">\n     <g id=\"line2d_3\">\n      <g>\n       <use style=\"stroke:#000000;stroke-width:0.8;\" x=\"194.553031\" xlink:href=\"#m66d2f7e854\" y=\"224.64\"/>\n      </g>\n     </g>\n     <g id=\"text_3\">\n      <!-- 0.5 -->\n      <g transform=\"translate(186.601469 239.238437)scale(0.1 -0.1)\">\n       <use xlink:href=\"#DejaVuSans-48\"/>\n       <use x=\"63.623047\" xlink:href=\"#DejaVuSans-46\"/>\n       <use x=\"95.410156\" xlink:href=\"#DejaVuSans-53\"/>\n      </g>\n     </g>\n    </g>\n    <g id=\"xtick_4\">\n     <g id=\"line2d_4\">\n      <g>\n       <use style=\"stroke:#000000;stroke-width:0.8;\" x=\"268.835634\" xlink:href=\"#m66d2f7e854\" y=\"224.64\"/>\n      </g>\n     </g>\n     <g id=\"text_4\">\n      <!-- 1.0 -->\n      <g transform=\"translate(260.884072 239.238437)scale(0.1 -0.1)\">\n       <defs>\n        <path d=\"M 12.40625 8.296875 \nL 28.515625 8.296875 \nL 28.515625 63.921875 \nL 10.984375 60.40625 \nL 10.984375 69.390625 \nL 28.421875 72.90625 \nL 38.28125 72.90625 \nL 38.28125 8.296875 \nL 54.390625 8.296875 \nL 54.390625 0 \nL 12.40625 0 \nz\n\" id=\"DejaVuSans-49\"/>\n       </defs>\n       <use xlink:href=\"#DejaVuSans-49\"/>\n       <use x=\"63.623047\" xlink:href=\"#DejaVuSans-46\"/>\n       <use x=\"95.410156\" xlink:href=\"#DejaVuSans-48\"/>\n      </g>\n     </g>\n    </g>\n    <g id=\"xtick_5\">\n     <g id=\"line2d_5\">\n      <g>\n       <use style=\"stroke:#000000;stroke-width:0.8;\" x=\"343.118237\" xlink:href=\"#m66d2f7e854\" y=\"224.64\"/>\n      </g>\n     </g>\n     <g id=\"text_5\">\n      <!-- 1.5 -->\n      <g transform=\"translate(335.166675 239.238437)scale(0.1 -0.1)\">\n       <use xlink:href=\"#DejaVuSans-49\"/>\n       <use x=\"63.623047\" xlink:href=\"#DejaVuSans-46\"/>\n       <use x=\"95.410156\" xlink:href=\"#DejaVuSans-53\"/>\n      </g>\n     </g>\n    </g>\n   </g>\n   <g id=\"matplotlib.axis_2\">\n    <g id=\"ytick_1\">\n     <g id=\"line2d_6\">\n      <defs>\n       <path d=\"M 0 0 \nL -3.5 0 \n\" id=\"mebd1f2376d\" style=\"stroke:#000000;stroke-width:0.8;\"/>\n      </defs>\n      <g>\n       <use style=\"stroke:#000000;stroke-width:0.8;\" x=\"35.304688\" xlink:href=\"#mebd1f2376d\" y=\"205.636493\"/>\n      </g>\n     </g>\n     <g id=\"text_6\">\n      <!-- −10 -->\n      <g transform=\"translate(7.2 209.435711)scale(0.1 -0.1)\">\n       <use xlink:href=\"#DejaVuSans-8722\"/>\n       <use x=\"83.789062\" xlink:href=\"#DejaVuSans-49\"/>\n       <use x=\"147.412109\" xlink:href=\"#DejaVuSans-48\"/>\n      </g>\n     </g>\n    </g>\n    <g id=\"ytick_2\">\n     <g id=\"line2d_7\">\n      <g>\n       <use style=\"stroke:#000000;stroke-width:0.8;\" x=\"35.304688\" xlink:href=\"#mebd1f2376d\" y=\"161.212929\"/>\n      </g>\n     </g>\n     <g id=\"text_7\">\n      <!-- 0 -->\n      <g transform=\"translate(21.942188 165.012148)scale(0.1 -0.1)\">\n       <use xlink:href=\"#DejaVuSans-48\"/>\n      </g>\n     </g>\n    </g>\n    <g id=\"ytick_3\">\n     <g id=\"line2d_8\">\n      <g>\n       <use style=\"stroke:#000000;stroke-width:0.8;\" x=\"35.304688\" xlink:href=\"#mebd1f2376d\" y=\"116.789365\"/>\n      </g>\n     </g>\n     <g id=\"text_8\">\n      <!-- 10 -->\n      <g transform=\"translate(15.579688 120.588584)scale(0.1 -0.1)\">\n       <use xlink:href=\"#DejaVuSans-49\"/>\n       <use x=\"63.623047\" xlink:href=\"#DejaVuSans-48\"/>\n      </g>\n     </g>\n    </g>\n    <g id=\"ytick_4\">\n     <g id=\"line2d_9\">\n      <g>\n       <use style=\"stroke:#000000;stroke-width:0.8;\" x=\"35.304688\" xlink:href=\"#mebd1f2376d\" y=\"72.365802\"/>\n      </g>\n     </g>\n     <g id=\"text_9\">\n      <!-- 20 -->\n      <g transform=\"translate(15.579688 76.16502)scale(0.1 -0.1)\">\n       <defs>\n        <path d=\"M 19.1875 8.296875 \nL 53.609375 8.296875 \nL 53.609375 0 \nL 7.328125 0 \nL 7.328125 8.296875 \nQ 12.9375 14.109375 22.625 23.890625 \nQ 32.328125 33.6875 34.8125 36.53125 \nQ 39.546875 41.84375 41.421875 45.53125 \nQ 43.3125 49.21875 43.3125 52.78125 \nQ 43.3125 58.59375 39.234375 62.25 \nQ 35.15625 65.921875 28.609375 65.921875 \nQ 23.96875 65.921875 18.8125 64.3125 \nQ 13.671875 62.703125 7.8125 59.421875 \nL 7.8125 69.390625 \nQ 13.765625 71.78125 18.9375 73 \nQ 24.125 74.21875 28.421875 74.21875 \nQ 39.75 74.21875 46.484375 68.546875 \nQ 53.21875 62.890625 53.21875 53.421875 \nQ 53.21875 48.921875 51.53125 44.890625 \nQ 49.859375 40.875 45.40625 35.40625 \nQ 44.1875 33.984375 37.640625 27.21875 \nQ 31.109375 20.453125 19.1875 8.296875 \nz\n\" id=\"DejaVuSans-50\"/>\n       </defs>\n       <use xlink:href=\"#DejaVuSans-50\"/>\n       <use x=\"63.623047\" xlink:href=\"#DejaVuSans-48\"/>\n      </g>\n     </g>\n    </g>\n    <g id=\"ytick_5\">\n     <g id=\"line2d_10\">\n      <g>\n       <use style=\"stroke:#000000;stroke-width:0.8;\" x=\"35.304688\" xlink:href=\"#mebd1f2376d\" y=\"27.942238\"/>\n      </g>\n     </g>\n     <g id=\"text_10\">\n      <!-- 30 -->\n      <g transform=\"translate(15.579688 31.741457)scale(0.1 -0.1)\">\n       <defs>\n        <path d=\"M 40.578125 39.3125 \nQ 47.65625 37.796875 51.625 33 \nQ 55.609375 28.21875 55.609375 21.1875 \nQ 55.609375 10.40625 48.1875 4.484375 \nQ 40.765625 -1.421875 27.09375 -1.421875 \nQ 22.515625 -1.421875 17.65625 -0.515625 \nQ 12.796875 0.390625 7.625 2.203125 \nL 7.625 11.71875 \nQ 11.71875 9.328125 16.59375 8.109375 \nQ 21.484375 6.890625 26.8125 6.890625 \nQ 36.078125 6.890625 40.9375 10.546875 \nQ 45.796875 14.203125 45.796875 21.1875 \nQ 45.796875 27.640625 41.28125 31.265625 \nQ 36.765625 34.90625 28.71875 34.90625 \nL 20.21875 34.90625 \nL 20.21875 43.015625 \nL 29.109375 43.015625 \nQ 36.375 43.015625 40.234375 45.921875 \nQ 44.09375 48.828125 44.09375 54.296875 \nQ 44.09375 59.90625 40.109375 62.90625 \nQ 36.140625 65.921875 28.71875 65.921875 \nQ 24.65625 65.921875 20.015625 65.03125 \nQ 15.375 64.15625 9.8125 62.3125 \nL 9.8125 71.09375 \nQ 15.4375 72.65625 20.34375 73.4375 \nQ 25.25 74.21875 29.59375 74.21875 \nQ 40.828125 74.21875 47.359375 69.109375 \nQ 53.90625 64.015625 53.90625 55.328125 \nQ 53.90625 49.265625 50.4375 45.09375 \nQ 46.96875 40.921875 40.578125 39.3125 \nz\n\" id=\"DejaVuSans-51\"/>\n       </defs>\n       <use xlink:href=\"#DejaVuSans-51\"/>\n       <use x=\"63.623047\" xlink:href=\"#DejaVuSans-48\"/>\n      </g>\n     </g>\n    </g>\n   </g>\n   <g id=\"line2d_11\">\n    <defs>\n     <path d=\"M 0 1.5 \nC 0.397805 1.5 0.77937 1.341951 1.06066 1.06066 \nC 1.341951 0.77937 1.5 0.397805 1.5 0 \nC 1.5 -0.397805 1.341951 -0.77937 1.06066 -1.06066 \nC 0.77937 -1.341951 0.397805 -1.5 0 -1.5 \nC -0.397805 -1.5 -0.77937 -1.341951 -1.06066 -1.06066 \nC -1.341951 -0.77937 -1.5 -0.397805 -1.5 0 \nC -1.5 0.397805 -1.341951 0.77937 -1.06066 1.06066 \nC -0.77937 1.341951 -0.397805 1.5 0 1.5 \nz\n\" id=\"mbbcaa55581\" style=\"stroke:#0000ff;\"/>\n    </defs>\n    <g clip-path=\"url(#p81c5f1f13b)\">\n     <use style=\"fill:#0000ff;stroke:#0000ff;\" x=\"99.729164\" xlink:href=\"#mbbcaa55581\" y=\"192.906496\"/>\n     <use style=\"fill:#0000ff;stroke:#0000ff;\" x=\"50.522869\" xlink:href=\"#mbbcaa55581\" y=\"214.756364\"/>\n     <use style=\"fill:#0000ff;stroke:#0000ff;\" x=\"234.284527\" xlink:href=\"#mbbcaa55581\" y=\"115.715003\"/>\n     <use style=\"fill:#0000ff;stroke:#0000ff;\" x=\"85.485823\" xlink:href=\"#mbbcaa55581\" y=\"213.972905\"/>\n     <use style=\"fill:#0000ff;stroke:#0000ff;\" x=\"85.483384\" xlink:href=\"#mbbcaa55581\" y=\"161.99153\"/>\n     <use style=\"fill:#0000ff;stroke:#0000ff;\" x=\"200.875973\" xlink:href=\"#mbbcaa55581\" y=\"164.913443\"/>\n     <use style=\"fill:#0000ff;stroke:#0000ff;\" x=\"194.064869\" xlink:href=\"#mbbcaa55581\" y=\"133.783144\"/>\n     <use style=\"fill:#0000ff;stroke:#0000ff;\" x=\"346.539673\" xlink:href=\"#mbbcaa55581\" y=\"17.083636\"/>\n     <use style=\"fill:#0000ff;stroke:#0000ff;\" x=\"354.886506\" xlink:href=\"#mbbcaa55581\" y=\"43.162633\"/>\n     <use style=\"fill:#0000ff;stroke:#0000ff;\" x=\"216.494409\" xlink:href=\"#mbbcaa55581\" y=\"166.926467\"/>\n    </g>\n   </g>\n   <g id=\"patch_3\">\n    <path d=\"M 35.304688 224.64 \nL 35.304688 7.2 \n\" style=\"fill:none;stroke:#000000;stroke-linecap:square;stroke-linejoin:miter;stroke-width:0.8;\"/>\n   </g>\n   <g id=\"patch_4\">\n    <path d=\"M 370.104688 224.64 \nL 370.104688 7.2 \n\" style=\"fill:none;stroke:#000000;stroke-linecap:square;stroke-linejoin:miter;stroke-width:0.8;\"/>\n   </g>\n   <g id=\"patch_5\">\n    <path d=\"M 35.304688 224.64 \nL 370.104687 224.64 \n\" style=\"fill:none;stroke:#000000;stroke-linecap:square;stroke-linejoin:miter;stroke-width:0.8;\"/>\n   </g>\n   <g id=\"patch_6\">\n    <path d=\"M 35.304688 7.2 \nL 370.104687 7.2 \n\" style=\"fill:none;stroke:#000000;stroke-linecap:square;stroke-linejoin:miter;stroke-width:0.8;\"/>\n   </g>\n  </g>\n </g>\n <defs>\n  <clipPath id=\"p81c5f1f13b\">\n   <rect height=\"217.44\" width=\"334.8\" x=\"35.304688\" y=\"7.2\"/>\n  </clipPath>\n </defs>\n</svg>\n",
      "image/png": "[encoded data removed]"
     },
     "metadata": {
      "needs_background": "light"
     }
    }
   ],
   "source": [
    "import matplotlib.pyplot as plt\n",
    "\n",
    "plt.plot(features, targets, 'b.')\n",
    "plt.show()"
   ]
  },
  {
   "cell_type": "markdown",
   "metadata": {
    "colab_type": "text",
    "id": "6CaLo1RUoFaa"
   },
   "source": [
    "That data appears to have a very linear pattern!\n",
    "\n",
    "If we want to make it more realistic (non-linear), we can add some noise during data generation.\n",
    "\n",
    "**Remember that random_state is for reproducibility only. Don't use this in your code unless you have a good reason to.**"
   ]
  },
  {
   "cell_type": "code",
   "execution_count": 82,
   "metadata": {
    "colab": {},
    "colab_type": "code",
    "id": "o_FL8nFnoOET"
   },
   "outputs": [
    {
     "output_type": "display_data",
     "data": {
      "text/plain": "<Figure size 432x288 with 1 Axes>",
      "image/svg+xml": "<?xml version=\"1.0\" encoding=\"utf-8\" standalone=\"no\"?>\n<!DOCTYPE svg PUBLIC \"-//W3C//DTD SVG 1.1//EN\"\n  \"http://www.w3.org/Graphics/SVG/1.1/DTD/svg11.dtd\">\n<!-- Created with matplotlib (https://matplotlib.org/) -->\n<svg height=\"248.518125pt\" version=\"1.1\" viewBox=\"0 0 377.304687 248.518125\" width=\"377.304687pt\" xmlns=\"http://www.w3.org/2000/svg\" xmlns:xlink=\"http://www.w3.org/1999/xlink\">\n <metadata>\n  <rdf:RDF xmlns:cc=\"http://creativecommons.org/ns#\" xmlns:dc=\"http://purl.org/dc/elements/1.1/\" xmlns:rdf=\"http://www.w3.org/1999/02/22-rdf-syntax-ns#\">\n   <cc:Work>\n    <dc:type rdf:resource=\"http://purl.org/dc/dcmitype/StillImage\"/>\n    <dc:date>2021-06-21T12:57:04.165439</dc:date>\n    <dc:format>image/svg+xml</dc:format>\n    <dc:creator>\n     <cc:Agent>\n      <dc:title>Matplotlib v3.3.2, https://matplotlib.org/</dc:title>\n     </cc:Agent>\n    </dc:creator>\n   </cc:Work>\n  </rdf:RDF>\n </metadata>\n <defs>\n  <style type=\"text/css\">*{stroke-linecap:butt;stroke-linejoin:round;}</style>\n </defs>\n <g id=\"figure_1\">\n  <g id=\"patch_1\">\n   <path d=\"M 0 248.518125 \nL 377.304687 248.518125 \nL 377.304687 0 \nL 0 0 \nz\n\" style=\"fill:none;\"/>\n  </g>\n  <g id=\"axes_1\">\n   <g id=\"patch_2\">\n    <path d=\"M 35.304688 224.64 \nL 370.104688 224.64 \nL 370.104688 7.2 \nL 35.304688 7.2 \nz\n\" style=\"fill:#ffffff;\"/>\n   </g>\n   <g id=\"matplotlib.axis_1\">\n    <g id=\"xtick_1\">\n     <g id=\"line2d_1\">\n      <defs>\n       <path d=\"M 0 0 \nL 0 3.5 \n\" id=\"m8ce03d2a30\" style=\"stroke:#000000;stroke-width:0.8;\"/>\n      </defs>\n      <g>\n       <use style=\"stroke:#000000;stroke-width:0.8;\" x=\"45.987825\" xlink:href=\"#m8ce03d2a30\" y=\"224.64\"/>\n      </g>\n     </g>\n     <g id=\"text_1\">\n      <!-- −0.5 -->\n      <g transform=\"translate(33.846419 239.238437)scale(0.1 -0.1)\">\n       <defs>\n        <path d=\"M 10.59375 35.5 \nL 73.1875 35.5 \nL 73.1875 27.203125 \nL 10.59375 27.203125 \nz\n\" id=\"DejaVuSans-8722\"/>\n        <path d=\"M 31.78125 66.40625 \nQ 24.171875 66.40625 20.328125 58.90625 \nQ 16.5 51.421875 16.5 36.375 \nQ 16.5 21.390625 20.328125 13.890625 \nQ 24.171875 6.390625 31.78125 6.390625 \nQ 39.453125 6.390625 43.28125 13.890625 \nQ 47.125 21.390625 47.125 36.375 \nQ 47.125 51.421875 43.28125 58.90625 \nQ 39.453125 66.40625 31.78125 66.40625 \nz\nM 31.78125 74.21875 \nQ 44.046875 74.21875 50.515625 64.515625 \nQ 56.984375 54.828125 56.984375 36.375 \nQ 56.984375 17.96875 50.515625 8.265625 \nQ 44.046875 -1.421875 31.78125 -1.421875 \nQ 19.53125 -1.421875 13.0625 8.265625 \nQ 6.59375 17.96875 6.59375 36.375 \nQ 6.59375 54.828125 13.0625 64.515625 \nQ 19.53125 74.21875 31.78125 74.21875 \nz\n\" id=\"DejaVuSans-48\"/>\n        <path d=\"M 10.6875 12.40625 \nL 21 12.40625 \nL 21 0 \nL 10.6875 0 \nz\n\" id=\"DejaVuSans-46\"/>\n        <path d=\"M 10.796875 72.90625 \nL 49.515625 72.90625 \nL 49.515625 64.59375 \nL 19.828125 64.59375 \nL 19.828125 46.734375 \nQ 21.96875 47.46875 24.109375 47.828125 \nQ 26.265625 48.1875 28.421875 48.1875 \nQ 40.625 48.1875 47.75 41.5 \nQ 54.890625 34.8125 54.890625 23.390625 \nQ 54.890625 11.625 47.5625 5.09375 \nQ 40.234375 -1.421875 26.90625 -1.421875 \nQ 22.3125 -1.421875 17.546875 -0.640625 \nQ 12.796875 0.140625 7.71875 1.703125 \nL 7.71875 11.625 \nQ 12.109375 9.234375 16.796875 8.0625 \nQ 21.484375 6.890625 26.703125 6.890625 \nQ 35.15625 6.890625 40.078125 11.328125 \nQ 45.015625 15.765625 45.015625 23.390625 \nQ 45.015625 31 40.078125 35.4375 \nQ 35.15625 39.890625 26.703125 39.890625 \nQ 22.75 39.890625 18.8125 39.015625 \nQ 14.890625 38.140625 10.796875 36.28125 \nz\n\" id=\"DejaVuSans-53\"/>\n       </defs>\n       <use xlink:href=\"#DejaVuSans-8722\"/>\n       <use x=\"83.789062\" xlink:href=\"#DejaVuSans-48\"/>\n       <use x=\"147.412109\" xlink:href=\"#DejaVuSans-46\"/>\n       <use x=\"179.199219\" xlink:href=\"#DejaVuSans-53\"/>\n      </g>\n     </g>\n    </g>\n    <g id=\"xtick_2\">\n     <g id=\"line2d_2\">\n      <g>\n       <use style=\"stroke:#000000;stroke-width:0.8;\" x=\"120.270428\" xlink:href=\"#m8ce03d2a30\" y=\"224.64\"/>\n      </g>\n     </g>\n     <g id=\"text_2\">\n      <!-- 0.0 -->\n      <g transform=\"translate(112.318866 239.238437)scale(0.1 -0.1)\">\n       <use xlink:href=\"#DejaVuSans-48\"/>\n       <use x=\"63.623047\" xlink:href=\"#DejaVuSans-46\"/>\n       <use x=\"95.410156\" xlink:href=\"#DejaVuSans-48\"/>\n      </g>\n     </g>\n    </g>\n    <g id=\"xtick_3\">\n     <g id=\"line2d_3\">\n      <g>\n       <use style=\"stroke:#000000;stroke-width:0.8;\" x=\"194.553031\" xlink:href=\"#m8ce03d2a30\" y=\"224.64\"/>\n      </g>\n     </g>\n     <g id=\"text_3\">\n      <!-- 0.5 -->\n      <g transform=\"translate(186.601469 239.238437)scale(0.1 -0.1)\">\n       <use xlink:href=\"#DejaVuSans-48\"/>\n       <use x=\"63.623047\" xlink:href=\"#DejaVuSans-46\"/>\n       <use x=\"95.410156\" xlink:href=\"#DejaVuSans-53\"/>\n      </g>\n     </g>\n    </g>\n    <g id=\"xtick_4\">\n     <g id=\"line2d_4\">\n      <g>\n       <use style=\"stroke:#000000;stroke-width:0.8;\" x=\"268.835634\" xlink:href=\"#m8ce03d2a30\" y=\"224.64\"/>\n      </g>\n     </g>\n     <g id=\"text_4\">\n      <!-- 1.0 -->\n      <g transform=\"translate(260.884072 239.238437)scale(0.1 -0.1)\">\n       <defs>\n        <path d=\"M 12.40625 8.296875 \nL 28.515625 8.296875 \nL 28.515625 63.921875 \nL 10.984375 60.40625 \nL 10.984375 69.390625 \nL 28.421875 72.90625 \nL 38.28125 72.90625 \nL 38.28125 8.296875 \nL 54.390625 8.296875 \nL 54.390625 0 \nL 12.40625 0 \nz\n\" id=\"DejaVuSans-49\"/>\n       </defs>\n       <use xlink:href=\"#DejaVuSans-49\"/>\n       <use x=\"63.623047\" xlink:href=\"#DejaVuSans-46\"/>\n       <use x=\"95.410156\" xlink:href=\"#DejaVuSans-48\"/>\n      </g>\n     </g>\n    </g>\n    <g id=\"xtick_5\">\n     <g id=\"line2d_5\">\n      <g>\n       <use style=\"stroke:#000000;stroke-width:0.8;\" x=\"343.118237\" xlink:href=\"#m8ce03d2a30\" y=\"224.64\"/>\n      </g>\n     </g>\n     <g id=\"text_5\">\n      <!-- 1.5 -->\n      <g transform=\"translate(335.166675 239.238437)scale(0.1 -0.1)\">\n       <use xlink:href=\"#DejaVuSans-49\"/>\n       <use x=\"63.623047\" xlink:href=\"#DejaVuSans-46\"/>\n       <use x=\"95.410156\" xlink:href=\"#DejaVuSans-53\"/>\n      </g>\n     </g>\n    </g>\n   </g>\n   <g id=\"matplotlib.axis_2\">\n    <g id=\"ytick_1\">\n     <g id=\"line2d_6\">\n      <defs>\n       <path d=\"M 0 0 \nL -3.5 0 \n\" id=\"md3e1e69230\" style=\"stroke:#000000;stroke-width:0.8;\"/>\n      </defs>\n      <g>\n       <use style=\"stroke:#000000;stroke-width:0.8;\" x=\"35.304688\" xlink:href=\"#md3e1e69230\" y=\"205.636493\"/>\n      </g>\n     </g>\n     <g id=\"text_6\">\n      <!-- −10 -->\n      <g transform=\"translate(7.2 209.435711)scale(0.1 -0.1)\">\n       <use xlink:href=\"#DejaVuSans-8722\"/>\n       <use x=\"83.789062\" xlink:href=\"#DejaVuSans-49\"/>\n       <use x=\"147.412109\" xlink:href=\"#DejaVuSans-48\"/>\n      </g>\n     </g>\n    </g>\n    <g id=\"ytick_2\">\n     <g id=\"line2d_7\">\n      <g>\n       <use style=\"stroke:#000000;stroke-width:0.8;\" x=\"35.304688\" xlink:href=\"#md3e1e69230\" y=\"161.212929\"/>\n      </g>\n     </g>\n     <g id=\"text_7\">\n      <!-- 0 -->\n      <g transform=\"translate(21.942188 165.012148)scale(0.1 -0.1)\">\n       <use xlink:href=\"#DejaVuSans-48\"/>\n      </g>\n     </g>\n    </g>\n    <g id=\"ytick_3\">\n     <g id=\"line2d_8\">\n      <g>\n       <use style=\"stroke:#000000;stroke-width:0.8;\" x=\"35.304688\" xlink:href=\"#md3e1e69230\" y=\"116.789365\"/>\n      </g>\n     </g>\n     <g id=\"text_8\">\n      <!-- 10 -->\n      <g transform=\"translate(15.579688 120.588584)scale(0.1 -0.1)\">\n       <use xlink:href=\"#DejaVuSans-49\"/>\n       <use x=\"63.623047\" xlink:href=\"#DejaVuSans-48\"/>\n      </g>\n     </g>\n    </g>\n    <g id=\"ytick_4\">\n     <g id=\"line2d_9\">\n      <g>\n       <use style=\"stroke:#000000;stroke-width:0.8;\" x=\"35.304688\" xlink:href=\"#md3e1e69230\" y=\"72.365802\"/>\n      </g>\n     </g>\n     <g id=\"text_9\">\n      <!-- 20 -->\n      <g transform=\"translate(15.579688 76.16502)scale(0.1 -0.1)\">\n       <defs>\n        <path d=\"M 19.1875 8.296875 \nL 53.609375 8.296875 \nL 53.609375 0 \nL 7.328125 0 \nL 7.328125 8.296875 \nQ 12.9375 14.109375 22.625 23.890625 \nQ 32.328125 33.6875 34.8125 36.53125 \nQ 39.546875 41.84375 41.421875 45.53125 \nQ 43.3125 49.21875 43.3125 52.78125 \nQ 43.3125 58.59375 39.234375 62.25 \nQ 35.15625 65.921875 28.609375 65.921875 \nQ 23.96875 65.921875 18.8125 64.3125 \nQ 13.671875 62.703125 7.8125 59.421875 \nL 7.8125 69.390625 \nQ 13.765625 71.78125 18.9375 73 \nQ 24.125 74.21875 28.421875 74.21875 \nQ 39.75 74.21875 46.484375 68.546875 \nQ 53.21875 62.890625 53.21875 53.421875 \nQ 53.21875 48.921875 51.53125 44.890625 \nQ 49.859375 40.875 45.40625 35.40625 \nQ 44.1875 33.984375 37.640625 27.21875 \nQ 31.109375 20.453125 19.1875 8.296875 \nz\n\" id=\"DejaVuSans-50\"/>\n       </defs>\n       <use xlink:href=\"#DejaVuSans-50\"/>\n       <use x=\"63.623047\" xlink:href=\"#DejaVuSans-48\"/>\n      </g>\n     </g>\n    </g>\n    <g id=\"ytick_5\">\n     <g id=\"line2d_10\">\n      <g>\n       <use style=\"stroke:#000000;stroke-width:0.8;\" x=\"35.304688\" xlink:href=\"#md3e1e69230\" y=\"27.942238\"/>\n      </g>\n     </g>\n     <g id=\"text_10\">\n      <!-- 30 -->\n      <g transform=\"translate(15.579688 31.741457)scale(0.1 -0.1)\">\n       <defs>\n        <path d=\"M 40.578125 39.3125 \nQ 47.65625 37.796875 51.625 33 \nQ 55.609375 28.21875 55.609375 21.1875 \nQ 55.609375 10.40625 48.1875 4.484375 \nQ 40.765625 -1.421875 27.09375 -1.421875 \nQ 22.515625 -1.421875 17.65625 -0.515625 \nQ 12.796875 0.390625 7.625 2.203125 \nL 7.625 11.71875 \nQ 11.71875 9.328125 16.59375 8.109375 \nQ 21.484375 6.890625 26.8125 6.890625 \nQ 36.078125 6.890625 40.9375 10.546875 \nQ 45.796875 14.203125 45.796875 21.1875 \nQ 45.796875 27.640625 41.28125 31.265625 \nQ 36.765625 34.90625 28.71875 34.90625 \nL 20.21875 34.90625 \nL 20.21875 43.015625 \nL 29.109375 43.015625 \nQ 36.375 43.015625 40.234375 45.921875 \nQ 44.09375 48.828125 44.09375 54.296875 \nQ 44.09375 59.90625 40.109375 62.90625 \nQ 36.140625 65.921875 28.71875 65.921875 \nQ 24.65625 65.921875 20.015625 65.03125 \nQ 15.375 64.15625 9.8125 62.3125 \nL 9.8125 71.09375 \nQ 15.4375 72.65625 20.34375 73.4375 \nQ 25.25 74.21875 29.59375 74.21875 \nQ 40.828125 74.21875 47.359375 69.109375 \nQ 53.90625 64.015625 53.90625 55.328125 \nQ 53.90625 49.265625 50.4375 45.09375 \nQ 46.96875 40.921875 40.578125 39.3125 \nz\n\" id=\"DejaVuSans-51\"/>\n       </defs>\n       <use xlink:href=\"#DejaVuSans-51\"/>\n       <use x=\"63.623047\" xlink:href=\"#DejaVuSans-48\"/>\n      </g>\n     </g>\n    </g>\n   </g>\n   <g id=\"line2d_11\">\n    <defs>\n     <path d=\"M 0 1.5 \nC 0.397805 1.5 0.77937 1.341951 1.06066 1.06066 \nC 1.341951 0.77937 1.5 0.397805 1.5 0 \nC 1.5 -0.397805 1.341951 -0.77937 1.06066 -1.06066 \nC 0.77937 -1.341951 0.397805 -1.5 0 -1.5 \nC -0.397805 -1.5 -0.77937 -1.341951 -1.06066 -1.06066 \nC -1.341951 -0.77937 -1.5 -0.397805 -1.5 0 \nC -1.5 0.397805 -1.341951 0.77937 -1.06066 1.06066 \nC -0.77937 1.341951 -0.397805 1.5 0 1.5 \nz\n\" id=\"mbb349babd2\" style=\"stroke:#0000ff;\"/>\n    </defs>\n    <g clip-path=\"url(#p3492484818)\">\n     <use style=\"fill:#0000ff;stroke:#0000ff;\" x=\"99.729164\" xlink:href=\"#mbb349babd2\" y=\"192.906496\"/>\n     <use style=\"fill:#0000ff;stroke:#0000ff;\" x=\"50.522869\" xlink:href=\"#mbb349babd2\" y=\"214.756364\"/>\n     <use style=\"fill:#0000ff;stroke:#0000ff;\" x=\"234.284527\" xlink:href=\"#mbb349babd2\" y=\"115.715003\"/>\n     <use style=\"fill:#0000ff;stroke:#0000ff;\" x=\"85.485823\" xlink:href=\"#mbb349babd2\" y=\"213.972905\"/>\n     <use style=\"fill:#0000ff;stroke:#0000ff;\" x=\"85.483384\" xlink:href=\"#mbb349babd2\" y=\"161.99153\"/>\n     <use style=\"fill:#0000ff;stroke:#0000ff;\" x=\"200.875973\" xlink:href=\"#mbb349babd2\" y=\"164.913443\"/>\n     <use style=\"fill:#0000ff;stroke:#0000ff;\" x=\"194.064869\" xlink:href=\"#mbb349babd2\" y=\"133.783144\"/>\n     <use style=\"fill:#0000ff;stroke:#0000ff;\" x=\"346.539673\" xlink:href=\"#mbb349babd2\" y=\"17.083636\"/>\n     <use style=\"fill:#0000ff;stroke:#0000ff;\" x=\"354.886506\" xlink:href=\"#mbb349babd2\" y=\"43.162633\"/>\n     <use style=\"fill:#0000ff;stroke:#0000ff;\" x=\"216.494409\" xlink:href=\"#mbb349babd2\" y=\"166.926467\"/>\n    </g>\n   </g>\n   <g id=\"patch_3\">\n    <path d=\"M 35.304688 224.64 \nL 35.304688 7.2 \n\" style=\"fill:none;stroke:#000000;stroke-linecap:square;stroke-linejoin:miter;stroke-width:0.8;\"/>\n   </g>\n   <g id=\"patch_4\">\n    <path d=\"M 370.104688 224.64 \nL 370.104688 7.2 \n\" style=\"fill:none;stroke:#000000;stroke-linecap:square;stroke-linejoin:miter;stroke-width:0.8;\"/>\n   </g>\n   <g id=\"patch_5\">\n    <path d=\"M 35.304688 224.64 \nL 370.104687 224.64 \n\" style=\"fill:none;stroke:#000000;stroke-linecap:square;stroke-linejoin:miter;stroke-width:0.8;\"/>\n   </g>\n   <g id=\"patch_6\">\n    <path d=\"M 35.304688 7.2 \nL 370.104687 7.2 \n\" style=\"fill:none;stroke:#000000;stroke-linecap:square;stroke-linejoin:miter;stroke-width:0.8;\"/>\n   </g>\n  </g>\n </g>\n <defs>\n  <clipPath id=\"p3492484818\">\n   <rect height=\"217.44\" width=\"334.8\" x=\"35.304688\" y=\"7.2\"/>\n  </clipPath>\n </defs>\n</svg>\n",
      "image/png": "[encoded data removed]"
     },
     "metadata": {
      "needs_background": "light"
     }
    }
   ],
   "source": [
    "from sklearn.datasets import make_regression\n",
    "\n",
    "\n",
    "plt.plot(features, targets, 'b.')\n",
    "plt.show()"
   ]
  },
  {
   "cell_type": "markdown",
   "metadata": {
    "colab_type": "text",
    "id": "xEAwguq9oqU_"
   },
   "source": [
    "There are dozens of dataset loaders and generators in the scikit-learn [datasets](https://scikit-learn.org/stable/modules/classes.html#module-sklearn.datasets) package. When you want to play with a new machine learning algorithm, they are a great source of data for getting started."
   ]
  },
  {
   "cell_type": "markdown",
   "metadata": {
    "colab_type": "text",
    "id": "3QLCOmwXi3Gn"
   },
   "source": [
    "### Exercise 2"
   ]
  },
  {
   "cell_type": "markdown",
   "metadata": {
    "colab_type": "text",
    "id": "YAB-WxNgoKDp"
   },
   "source": [
    "Search the [scikit-learn datasets documentation](https://scikit-learn.org/stable/modules/classes.html#module-sklearn.datasets) and find a function to make a \"Moons\" dataset. Create a dataset with 75 samples. Use a random state of 42 and a noise of 0.08. Store the $X$ return value in a variable called `features` and the $y$ return value in a variable called `targets`."
   ]
  },
  {
   "cell_type": "markdown",
   "metadata": {
    "colab_type": "text",
    "id": "uenWPTVD-iYN"
   },
   "source": [
    "#### **Student Solution**"
   ]
  },
  {
   "cell_type": "code",
   "execution_count": 94,
   "metadata": {
    "colab": {},
    "colab_type": "code",
    "id": "fg8y7o5bjw5-"
   },
   "outputs": [
    {
     "output_type": "stream",
     "name": "stdout",
     "text": [
      "[0 1 0 0 0 1 0 0 1 1 0 1 1 0 0 0 0 0 1 1 1 1 0 1 1 0 0 1 1 0 1 1 0 1 0 1 0\n 1 0 0 1 0 1 0 0 1 1 1 1 0 0 1 0 1 0 1 1 1 0 0 1 1 1 1 0 0 1 0 0 0 0 1 1 0\n 1]\n"
     ]
    }
   ],
   "source": [
    "#sklearn.datasets.make_moons(n_samples=100, *, shuffle=True, noise=None, random_state=None)\n",
    "from sklearn.datasets import make_moons\n",
    "X,y = make_moons(n_samples=75,noise = 0.08, random_state = 42)\n",
    "\n",
    "features = X\n",
    "targets = y\n",
    "\n",
    "print(y)\n",
    "#sklearn.datasets.make_moons(n_samples=75,noise = 0.08, random_state = 42)"
   ]
  },
  {
   "cell_type": "markdown",
   "metadata": {
    "colab_type": "text",
    "id": "ipe_qpOy3GF4"
   },
   "source": [
    "---"
   ]
  },
  {
   "cell_type": "markdown",
   "metadata": {
    "colab_type": "text",
    "id": "Kx7HErvKnAbE"
   },
   "source": [
    "### Exercise 3"
   ]
  },
  {
   "cell_type": "markdown",
   "metadata": {
    "colab_type": "text",
    "id": "fRQq8jR6oMYc"
   },
   "source": [
    "In Exercise Two, you created a \"moons\" dataset. In that dataset, the features are $(x,y)$-coordinates that can be graphed in a scatterplot. The targets are zeros and ones that represent a binary classification.\n",
    "\n",
    "Use matplotlib's [scatter method](https://matplotlib.org/api/_as_gen/matplotlib.pyplot.scatter.html) to visualize the data as a scatterplot. Use the `c` argument to make the dots for each class a different color."
   ]
  },
  {
   "cell_type": "markdown",
   "metadata": {
    "colab_type": "text",
    "id": "atYw390N-Yn-"
   },
   "source": [
    "#### **Student Solution**"
   ]
  },
  {
   "cell_type": "code",
   "execution_count": 115,
   "metadata": {
    "colab": {},
    "colab_type": "code",
    "id": "YWDeint14m3d"
   },
   "outputs": [
    {
     "output_type": "execute_result",
     "data": {
      "text/plain": [
       "<matplotlib.collections.PathCollection at 0x7fc86957b4c0>"
      ]
     },
     "metadata": {},
     "execution_count": 115
    },
    {
     "output_type": "display_data",
     "data": {
      "text/plain": "<Figure size 432x288 with 1 Axes>",
      "image/svg+xml": "<?xml version=\"1.0\" encoding=\"utf-8\" standalone=\"no\"?>\n<!DOCTYPE svg PUBLIC \"-//W3C//DTD SVG 1.1//EN\"\n  \"http://www.w3.org/Graphics/SVG/1.1/DTD/svg11.dtd\">\n<!-- Created with matplotlib (https://matplotlib.org/) -->\n<svg height=\"248.518125pt\" version=\"1.1\" viewBox=\"0 0 386.845312 248.518125\" width=\"386.845312pt\" xmlns=\"http://www.w3.org/2000/svg\" xmlns:xlink=\"http://www.w3.org/1999/xlink\">\n <metadata>\n  <rdf:RDF xmlns:cc=\"http://creativecommons.org/ns#\" xmlns:dc=\"http://purl.org/dc/elements/1.1/\" xmlns:rdf=\"http://www.w3.org/1999/02/22-rdf-syntax-ns#\">\n   <cc:Work>\n    <dc:type rdf:resource=\"http://purl.org/dc/dcmitype/StillImage\"/>\n    <dc:date>2021-06-21T13:11:38.081107</dc:date>\n    <dc:format>image/svg+xml</dc:format>\n    <dc:creator>\n     <cc:Agent>\n      <dc:title>Matplotlib v3.3.2, https://matplotlib.org/</dc:title>\n     </cc:Agent>\n    </dc:creator>\n   </cc:Work>\n  </rdf:RDF>\n </metadata>\n <defs>\n  <style type=\"text/css\">*{stroke-linecap:butt;stroke-linejoin:round;}</style>\n </defs>\n <g id=\"figure_1\">\n  <g id=\"patch_1\">\n   <path d=\"M 0 248.518125 \nL 386.845312 248.518125 \nL 386.845312 0 \nL 0 0 \nz\n\" style=\"fill:none;\"/>\n  </g>\n  <g id=\"axes_1\">\n   <g id=\"patch_2\">\n    <path d=\"M 44.845313 224.64 \nL 379.645313 224.64 \nL 379.645313 7.2 \nL 44.845313 7.2 \nz\n\" style=\"fill:#ffffff;\"/>\n   </g>\n   <g id=\"PathCollection_1\">\n    <defs>\n     <path d=\"M 0 3 \nC 0.795609 3 1.55874 2.683901 2.12132 2.12132 \nC 2.683901 1.55874 3 0.795609 3 -0 \nC 3 -0.795609 2.683901 -1.55874 2.12132 -2.12132 \nC 1.55874 -2.683901 0.795609 -3 0 -3 \nC -0.795609 -3 -1.55874 -2.683901 -2.12132 -2.12132 \nC -2.683901 -1.55874 -3 -0.795609 -3 0 \nC -3 0.795609 -2.683901 1.55874 -2.12132 2.12132 \nC -1.55874 2.683901 -0.795609 3 0 3 \nz\n\" id=\"C0_0_1b2c26c1d3\"/>\n    </defs>\n    <g clip-path=\"url(#pa985156fb1)\">\n     <use style=\"fill:#440154;stroke:#440154;\" x=\"259.992095\" xlink:href=\"#C0_0_1b2c26c1d3\" y=\"105.871375\"/>\n    </g>\n    <g clip-path=\"url(#pa985156fb1)\">\n     <use style=\"fill:#fde725;stroke:#fde725;\" x=\"335.710978\" xlink:href=\"#C0_0_1b2c26c1d3\" y=\"172.574261\"/>\n    </g>\n    <g clip-path=\"url(#pa985156fb1)\">\n     <use style=\"fill:#440154;stroke:#440154;\" x=\"229.204745\" xlink:href=\"#C0_0_1b2c26c1d3\" y=\"61.826952\"/>\n    </g>\n    <g clip-path=\"url(#pa985156fb1)\">\n     <use style=\"fill:#440154;stroke:#440154;\" x=\"254.928419\" xlink:href=\"#C0_0_1b2c26c1d3\" y=\"157.941792\"/>\n    </g>\n    <g clip-path=\"url(#pa985156fb1)\">\n     <use style=\"fill:#440154;stroke:#440154;\" x=\"60.063494\" xlink:href=\"#C0_0_1b2c26c1d3\" y=\"151.235006\"/>\n    </g>\n    <g clip-path=\"url(#pa985156fb1)\">\n     <use style=\"fill:#fde725;stroke:#fde725;\" x=\"309.27865\" xlink:href=\"#C0_0_1b2c26c1d3\" y=\"199.463847\"/>\n    </g>\n    <g clip-path=\"url(#pa985156fb1)\">\n     <use style=\"fill:#440154;stroke:#440154;\" x=\"99.439997\" xlink:href=\"#C0_0_1b2c26c1d3\" y=\"67.538133\"/>\n    </g>\n    <g clip-path=\"url(#pa985156fb1)\">\n     <use style=\"fill:#440154;stroke:#440154;\" x=\"216.630446\" xlink:href=\"#C0_0_1b2c26c1d3\" y=\"49.400125\"/>\n    </g>\n    <g clip-path=\"url(#pa985156fb1)\">\n     <use style=\"fill:#fde725;stroke:#fde725;\" x=\"341.136\" xlink:href=\"#C0_0_1b2c26c1d3\" y=\"140.2106\"/>\n    </g>\n    <g clip-path=\"url(#pa985156fb1)\">\n     <use style=\"fill:#fde725;stroke:#fde725;\" x=\"335.362401\" xlink:href=\"#C0_0_1b2c26c1d3\" y=\"185.87688\"/>\n    </g>\n    <g clip-path=\"url(#pa985156fb1)\">\n     <use style=\"fill:#440154;stroke:#440154;\" x=\"82.415608\" xlink:href=\"#C0_0_1b2c26c1d3\" y=\"114.900303\"/>\n    </g>\n    <g clip-path=\"url(#pa985156fb1)\">\n     <use style=\"fill:#fde725;stroke:#fde725;\" x=\"179.773356\" xlink:href=\"#C0_0_1b2c26c1d3\" y=\"153.895991\"/>\n    </g>\n    <g clip-path=\"url(#pa985156fb1)\">\n     <use style=\"fill:#fde725;stroke:#fde725;\" x=\"215.210232\" xlink:href=\"#C0_0_1b2c26c1d3\" y=\"187.773765\"/>\n    </g>\n    <g clip-path=\"url(#pa985156fb1)\">\n     <use style=\"fill:#440154;stroke:#440154;\" x=\"171.491272\" xlink:href=\"#C0_0_1b2c26c1d3\" y=\"33.613046\"/>\n    </g>\n    <g clip-path=\"url(#pa985156fb1)\">\n     <use style=\"fill:#440154;stroke:#440154;\" x=\"228.661544\" xlink:href=\"#C0_0_1b2c26c1d3\" y=\"79.232631\"/>\n    </g>\n    <g clip-path=\"url(#pa985156fb1)\">\n     <use style=\"fill:#440154;stroke:#440154;\" x=\"134.637779\" xlink:href=\"#C0_0_1b2c26c1d3\" y=\"54.986061\"/>\n    </g>\n    <g clip-path=\"url(#pa985156fb1)\">\n     <use style=\"fill:#440154;stroke:#440154;\" x=\"254.419055\" xlink:href=\"#C0_0_1b2c26c1d3\" y=\"103.827099\"/>\n    </g>\n    <g clip-path=\"url(#pa985156fb1)\">\n     <use style=\"fill:#440154;stroke:#440154;\" x=\"96.871692\" xlink:href=\"#C0_0_1b2c26c1d3\" y=\"129.583806\"/>\n    </g>\n    <g clip-path=\"url(#pa985156fb1)\">\n     <use style=\"fill:#fde725;stroke:#fde725;\" x=\"260.211369\" xlink:href=\"#C0_0_1b2c26c1d3\" y=\"199.433384\"/>\n    </g>\n    <g clip-path=\"url(#pa985156fb1)\">\n     <use style=\"fill:#fde725;stroke:#fde725;\" x=\"341.92021\" xlink:href=\"#C0_0_1b2c26c1d3\" y=\"142.863341\"/>\n    </g>\n    <g clip-path=\"url(#pa985156fb1)\">\n     <use style=\"fill:#fde725;stroke:#fde725;\" x=\"181.544589\" xlink:href=\"#C0_0_1b2c26c1d3\" y=\"105.638276\"/>\n    </g>\n    <g clip-path=\"url(#pa985156fb1)\">\n     <use style=\"fill:#fde725;stroke:#fde725;\" x=\"173.212876\" xlink:href=\"#C0_0_1b2c26c1d3\" y=\"114.031761\"/>\n    </g>\n    <g clip-path=\"url(#pa985156fb1)\">\n     <use style=\"fill:#440154;stroke:#440154;\" x=\"179.718766\" xlink:href=\"#C0_0_1b2c26c1d3\" y=\"44.425155\"/>\n    </g>\n    <g clip-path=\"url(#pa985156fb1)\">\n     <use style=\"fill:#fde725;stroke:#fde725;\" x=\"172.947843\" xlink:href=\"#C0_0_1b2c26c1d3\" y=\"157.338267\"/>\n    </g>\n    <g clip-path=\"url(#pa985156fb1)\">\n     <use style=\"fill:#fde725;stroke:#fde725;\" x=\"196.113079\" xlink:href=\"#C0_0_1b2c26c1d3\" y=\"164.596671\"/>\n    </g>\n    <g clip-path=\"url(#pa985156fb1)\">\n     <use style=\"fill:#440154;stroke:#440154;\" x=\"80.613677\" xlink:href=\"#C0_0_1b2c26c1d3\" y=\"97.552212\"/>\n    </g>\n    <g clip-path=\"url(#pa985156fb1)\">\n     <use style=\"fill:#440154;stroke:#440154;\" x=\"250.534175\" xlink:href=\"#C0_0_1b2c26c1d3\" y=\"88.6417\"/>\n    </g>\n    <g clip-path=\"url(#pa985156fb1)\">\n     <use style=\"fill:#fde725;stroke:#fde725;\" x=\"288.339192\" xlink:href=\"#C0_0_1b2c26c1d3\" y=\"212.193282\"/>\n    </g>\n    <g clip-path=\"url(#pa985156fb1)\">\n     <use style=\"fill:#fde725;stroke:#fde725;\" x=\"193.35724\" xlink:href=\"#C0_0_1b2c26c1d3\" y=\"180.504253\"/>\n    </g>\n    <g clip-path=\"url(#pa985156fb1)\">\n     <use style=\"fill:#440154;stroke:#440154;\" x=\"72.785685\" xlink:href=\"#C0_0_1b2c26c1d3\" y=\"77.218047\"/>\n    </g>\n    <g clip-path=\"url(#pa985156fb1)\">\n     <use style=\"fill:#fde725;stroke:#fde725;\" x=\"234.016908\" xlink:href=\"#C0_0_1b2c26c1d3\" y=\"192.816227\"/>\n    </g>\n    <g clip-path=\"url(#pa985156fb1)\">\n     <use style=\"fill:#fde725;stroke:#fde725;\" x=\"214.70858\" xlink:href=\"#C0_0_1b2c26c1d3\" y=\"196.043733\"/>\n    </g>\n    <g clip-path=\"url(#pa985156fb1)\">\n     <use style=\"fill:#440154;stroke:#440154;\" x=\"162.032964\" xlink:href=\"#C0_0_1b2c26c1d3\" y=\"53.12934\"/>\n    </g>\n    <g clip-path=\"url(#pa985156fb1)\">\n     <use style=\"fill:#fde725;stroke:#fde725;\" x=\"306.47148\" xlink:href=\"#C0_0_1b2c26c1d3\" y=\"188.342608\"/>\n    </g>\n    <g clip-path=\"url(#pa985156fb1)\">\n     <use style=\"fill:#440154;stroke:#440154;\" x=\"107.60201\" xlink:href=\"#C0_0_1b2c26c1d3\" y=\"66.855693\"/>\n    </g>\n    <g clip-path=\"url(#pa985156fb1)\">\n     <use style=\"fill:#fde725;stroke:#fde725;\" x=\"364.427131\" xlink:href=\"#C0_0_1b2c26c1d3\" y=\"85.673214\"/>\n    </g>\n    <g clip-path=\"url(#pa985156fb1)\">\n     <use style=\"fill:#440154;stroke:#440154;\" x=\"204.425542\" xlink:href=\"#C0_0_1b2c26c1d3\" y=\"50.946662\"/>\n    </g>\n    <g clip-path=\"url(#pa985156fb1)\">\n     <use style=\"fill:#fde725;stroke:#fde725;\" x=\"259.464492\" xlink:href=\"#C0_0_1b2c26c1d3\" y=\"214.756364\"/>\n    </g>\n    <g clip-path=\"url(#pa985156fb1)\">\n     <use style=\"fill:#440154;stroke:#440154;\" x=\"261.443651\" xlink:href=\"#C0_0_1b2c26c1d3\" y=\"103.474565\"/>\n    </g>\n    <g clip-path=\"url(#pa985156fb1)\">\n     <use style=\"fill:#440154;stroke:#440154;\" x=\"190.971578\" xlink:href=\"#C0_0_1b2c26c1d3\" y=\"57.319425\"/>\n    </g>\n    <g clip-path=\"url(#pa985156fb1)\">\n     <use style=\"fill:#fde725;stroke:#fde725;\" x=\"162.564112\" xlink:href=\"#C0_0_1b2c26c1d3\" y=\"102.179609\"/>\n    </g>\n    <g clip-path=\"url(#pa985156fb1)\">\n     <use style=\"fill:#440154;stroke:#440154;\" x=\"230.126666\" xlink:href=\"#C0_0_1b2c26c1d3\" y=\"84.70174\"/>\n    </g>\n    <g clip-path=\"url(#pa985156fb1)\">\n     <use style=\"fill:#fde725;stroke:#fde725;\" x=\"353.854986\" xlink:href=\"#C0_0_1b2c26c1d3\" y=\"100.610911\"/>\n    </g>\n    <g clip-path=\"url(#pa985156fb1)\">\n     <use style=\"fill:#440154;stroke:#440154;\" x=\"249.15172\" xlink:href=\"#C0_0_1b2c26c1d3\" y=\"92.53245\"/>\n    </g>\n    <g clip-path=\"url(#pa985156fb1)\">\n     <use style=\"fill:#440154;stroke:#440154;\" x=\"77.690028\" xlink:href=\"#C0_0_1b2c26c1d3\" y=\"144.090503\"/>\n    </g>\n    <g clip-path=\"url(#pa985156fb1)\">\n     <use style=\"fill:#fde725;stroke:#fde725;\" x=\"344.500506\" xlink:href=\"#C0_0_1b2c26c1d3\" y=\"157.901781\"/>\n    </g>\n    <g clip-path=\"url(#pa985156fb1)\">\n     <use style=\"fill:#fde725;stroke:#fde725;\" x=\"264.057373\" xlink:href=\"#C0_0_1b2c26c1d3\" y=\"199.367699\"/>\n    </g>\n    <g clip-path=\"url(#pa985156fb1)\">\n     <use style=\"fill:#fde725;stroke:#fde725;\" x=\"185.883002\" xlink:href=\"#C0_0_1b2c26c1d3\" y=\"175.642952\"/>\n    </g>\n    <g clip-path=\"url(#pa985156fb1)\">\n     <use style=\"fill:#fde725;stroke:#fde725;\" x=\"362.587711\" xlink:href=\"#C0_0_1b2c26c1d3\" y=\"98.377468\"/>\n    </g>\n    <g clip-path=\"url(#pa985156fb1)\">\n     <use style=\"fill:#440154;stroke:#440154;\" x=\"186.908298\" xlink:href=\"#C0_0_1b2c26c1d3\" y=\"46.077116\"/>\n    </g>\n    <g clip-path=\"url(#pa985156fb1)\">\n     <use style=\"fill:#440154;stroke:#440154;\" x=\"100.322749\" xlink:href=\"#C0_0_1b2c26c1d3\" y=\"66.516867\"/>\n    </g>\n    <g clip-path=\"url(#pa985156fb1)\">\n     <use style=\"fill:#fde725;stroke:#fde725;\" x=\"182.751438\" xlink:href=\"#C0_0_1b2c26c1d3\" y=\"130.09513\"/>\n    </g>\n    <g clip-path=\"url(#pa985156fb1)\">\n     <use style=\"fill:#440154;stroke:#440154;\" x=\"116.263285\" xlink:href=\"#C0_0_1b2c26c1d3\" y=\"57.873439\"/>\n    </g>\n    <g clip-path=\"url(#pa985156fb1)\">\n     <use style=\"fill:#fde725;stroke:#fde725;\" x=\"207.67722\" xlink:href=\"#C0_0_1b2c26c1d3\" y=\"194.460349\"/>\n    </g>\n    <g clip-path=\"url(#pa985156fb1)\">\n     <use style=\"fill:#440154;stroke:#440154;\" x=\"113.159966\" xlink:href=\"#C0_0_1b2c26c1d3\" y=\"48.145034\"/>\n    </g>\n    <g clip-path=\"url(#pa985156fb1)\">\n     <use style=\"fill:#fde725;stroke:#fde725;\" x=\"167.040453\" xlink:href=\"#C0_0_1b2c26c1d3\" y=\"146.446667\"/>\n    </g>\n    <g clip-path=\"url(#pa985156fb1)\">\n     <use style=\"fill:#fde725;stroke:#fde725;\" x=\"347.634002\" xlink:href=\"#C0_0_1b2c26c1d3\" y=\"154.019684\"/>\n    </g>\n    <g clip-path=\"url(#pa985156fb1)\">\n     <use style=\"fill:#fde725;stroke:#fde725;\" x=\"269.533664\" xlink:href=\"#C0_0_1b2c26c1d3\" y=\"209.709187\"/>\n    </g>\n    <g clip-path=\"url(#pa985156fb1)\">\n     <use style=\"fill:#440154;stroke:#440154;\" x=\"228.109714\" xlink:href=\"#C0_0_1b2c26c1d3\" y=\"55.590926\"/>\n    </g>\n    <g clip-path=\"url(#pa985156fb1)\">\n     <use style=\"fill:#440154;stroke:#440154;\" x=\"77.358132\" xlink:href=\"#C0_0_1b2c26c1d3\" y=\"102.336639\"/>\n    </g>\n    <g clip-path=\"url(#pa985156fb1)\">\n     <use style=\"fill:#fde725;stroke:#fde725;\" x=\"357.297084\" xlink:href=\"#C0_0_1b2c26c1d3\" y=\"115.098515\"/>\n    </g>\n    <g clip-path=\"url(#pa985156fb1)\">\n     <use style=\"fill:#fde725;stroke:#fde725;\" x=\"293.940489\" xlink:href=\"#C0_0_1b2c26c1d3\" y=\"199.884172\"/>\n    </g>\n    <g clip-path=\"url(#pa985156fb1)\">\n     <use style=\"fill:#fde725;stroke:#fde725;\" x=\"328.991825\" xlink:href=\"#C0_0_1b2c26c1d3\" y=\"186.542774\"/>\n    </g>\n    <g clip-path=\"url(#pa985156fb1)\">\n     <use style=\"fill:#fde725;stroke:#fde725;\" x=\"169.102927\" xlink:href=\"#C0_0_1b2c26c1d3\" y=\"94.557465\"/>\n    </g>\n    <g clip-path=\"url(#pa985156fb1)\">\n     <use style=\"fill:#440154;stroke:#440154;\" x=\"80.838747\" xlink:href=\"#C0_0_1b2c26c1d3\" y=\"86.635614\"/>\n    </g>\n    <g clip-path=\"url(#pa985156fb1)\">\n     <use style=\"fill:#440154;stroke:#440154;\" x=\"271.862821\" xlink:href=\"#C0_0_1b2c26c1d3\" y=\"145.731998\"/>\n    </g>\n    <g clip-path=\"url(#pa985156fb1)\">\n     <use style=\"fill:#fde725;stroke:#fde725;\" x=\"227.311147\" xlink:href=\"#C0_0_1b2c26c1d3\" y=\"188.834988\"/>\n    </g>\n    <g clip-path=\"url(#pa985156fb1)\">\n     <use style=\"fill:#440154;stroke:#440154;\" x=\"148.380234\" xlink:href=\"#C0_0_1b2c26c1d3\" y=\"17.083636\"/>\n    </g>\n    <g clip-path=\"url(#pa985156fb1)\">\n     <use style=\"fill:#440154;stroke:#440154;\" x=\"250.745366\" xlink:href=\"#C0_0_1b2c26c1d3\" y=\"123.657713\"/>\n    </g>\n    <g clip-path=\"url(#pa985156fb1)\">\n     <use style=\"fill:#440154;stroke:#440154;\" x=\"130.563125\" xlink:href=\"#C0_0_1b2c26c1d3\" y=\"49.698096\"/>\n    </g>\n    <g clip-path=\"url(#pa985156fb1)\">\n     <use style=\"fill:#440154;stroke:#440154;\" x=\"158.478593\" xlink:href=\"#C0_0_1b2c26c1d3\" y=\"41.931959\"/>\n    </g>\n    <g clip-path=\"url(#pa985156fb1)\">\n     <use style=\"fill:#fde725;stroke:#fde725;\" x=\"282.622553\" xlink:href=\"#C0_0_1b2c26c1d3\" y=\"202.751166\"/>\n    </g>\n    <g clip-path=\"url(#pa985156fb1)\">\n     <use style=\"fill:#fde725;stroke:#fde725;\" x=\"363.481\" xlink:href=\"#C0_0_1b2c26c1d3\" y=\"111.634675\"/>\n    </g>\n    <g clip-path=\"url(#pa985156fb1)\">\n     <use style=\"fill:#440154;stroke:#440154;\" x=\"197.355227\" xlink:href=\"#C0_0_1b2c26c1d3\" y=\"42.198449\"/>\n    </g>\n    <g clip-path=\"url(#pa985156fb1)\">\n     <use style=\"fill:#fde725;stroke:#fde725;\" x=\"247.971743\" xlink:href=\"#C0_0_1b2c26c1d3\" y=\"195.647166\"/>\n    </g>\n   </g>\n   <g id=\"matplotlib.axis_1\">\n    <g id=\"xtick_1\">\n     <g id=\"line2d_1\">\n      <defs>\n       <path d=\"M 0 0 \nL 0 3.5 \n\" id=\"m900d5a7fe3\" style=\"stroke:#000000;stroke-width:0.8;\"/>\n      </defs>\n      <g>\n       <use style=\"stroke:#000000;stroke-width:0.8;\" x=\"73.830972\" xlink:href=\"#m900d5a7fe3\" y=\"224.64\"/>\n      </g>\n     </g>\n     <g id=\"text_1\">\n      <!-- −1.0 -->\n      <g transform=\"translate(61.689565 239.238438)scale(0.1 -0.1)\">\n       <defs>\n        <path d=\"M 10.59375 35.5 \nL 73.1875 35.5 \nL 73.1875 27.203125 \nL 10.59375 27.203125 \nz\n\" id=\"DejaVuSans-8722\"/>\n        <path d=\"M 12.40625 8.296875 \nL 28.515625 8.296875 \nL 28.515625 63.921875 \nL 10.984375 60.40625 \nL 10.984375 69.390625 \nL 28.421875 72.90625 \nL 38.28125 72.90625 \nL 38.28125 8.296875 \nL 54.390625 8.296875 \nL 54.390625 0 \nL 12.40625 0 \nz\n\" id=\"DejaVuSans-49\"/>\n        <path d=\"M 10.6875 12.40625 \nL 21 12.40625 \nL 21 0 \nL 10.6875 0 \nz\n\" id=\"DejaVuSans-46\"/>\n        <path d=\"M 31.78125 66.40625 \nQ 24.171875 66.40625 20.328125 58.90625 \nQ 16.5 51.421875 16.5 36.375 \nQ 16.5 21.390625 20.328125 13.890625 \nQ 24.171875 6.390625 31.78125 6.390625 \nQ 39.453125 6.390625 43.28125 13.890625 \nQ 47.125 21.390625 47.125 36.375 \nQ 47.125 51.421875 43.28125 58.90625 \nQ 39.453125 66.40625 31.78125 66.40625 \nz\nM 31.78125 74.21875 \nQ 44.046875 74.21875 50.515625 64.515625 \nQ 56.984375 54.828125 56.984375 36.375 \nQ 56.984375 17.96875 50.515625 8.265625 \nQ 44.046875 -1.421875 31.78125 -1.421875 \nQ 19.53125 -1.421875 13.0625 8.265625 \nQ 6.59375 17.96875 6.59375 36.375 \nQ 6.59375 54.828125 13.0625 64.515625 \nQ 19.53125 74.21875 31.78125 74.21875 \nz\n\" id=\"DejaVuSans-48\"/>\n       </defs>\n       <use xlink:href=\"#DejaVuSans-8722\"/>\n       <use x=\"83.789062\" xlink:href=\"#DejaVuSans-49\"/>\n       <use x=\"147.412109\" xlink:href=\"#DejaVuSans-46\"/>\n       <use x=\"179.199219\" xlink:href=\"#DejaVuSans-48\"/>\n      </g>\n     </g>\n    </g>\n    <g id=\"xtick_2\">\n     <g id=\"line2d_2\">\n      <g>\n       <use style=\"stroke:#000000;stroke-width:0.8;\" x=\"120.899644\" xlink:href=\"#m900d5a7fe3\" y=\"224.64\"/>\n      </g>\n     </g>\n     <g id=\"text_2\">\n      <!-- −0.5 -->\n      <g transform=\"translate(108.758237 239.238438)scale(0.1 -0.1)\">\n       <defs>\n        <path d=\"M 10.796875 72.90625 \nL 49.515625 72.90625 \nL 49.515625 64.59375 \nL 19.828125 64.59375 \nL 19.828125 46.734375 \nQ 21.96875 47.46875 24.109375 47.828125 \nQ 26.265625 48.1875 28.421875 48.1875 \nQ 40.625 48.1875 47.75 41.5 \nQ 54.890625 34.8125 54.890625 23.390625 \nQ 54.890625 11.625 47.5625 5.09375 \nQ 40.234375 -1.421875 26.90625 -1.421875 \nQ 22.3125 -1.421875 17.546875 -0.640625 \nQ 12.796875 0.140625 7.71875 1.703125 \nL 7.71875 11.625 \nQ 12.109375 9.234375 16.796875 8.0625 \nQ 21.484375 6.890625 26.703125 6.890625 \nQ 35.15625 6.890625 40.078125 11.328125 \nQ 45.015625 15.765625 45.015625 23.390625 \nQ 45.015625 31 40.078125 35.4375 \nQ 35.15625 39.890625 26.703125 39.890625 \nQ 22.75 39.890625 18.8125 39.015625 \nQ 14.890625 38.140625 10.796875 36.28125 \nz\n\" id=\"DejaVuSans-53\"/>\n       </defs>\n       <use xlink:href=\"#DejaVuSans-8722\"/>\n       <use x=\"83.789062\" xlink:href=\"#DejaVuSans-48\"/>\n       <use x=\"147.412109\" xlink:href=\"#DejaVuSans-46\"/>\n       <use x=\"179.199219\" xlink:href=\"#DejaVuSans-53\"/>\n      </g>\n     </g>\n    </g>\n    <g id=\"xtick_3\">\n     <g id=\"line2d_3\">\n      <g>\n       <use style=\"stroke:#000000;stroke-width:0.8;\" x=\"167.968315\" xlink:href=\"#m900d5a7fe3\" y=\"224.64\"/>\n      </g>\n     </g>\n     <g id=\"text_3\">\n      <!-- 0.0 -->\n      <g transform=\"translate(160.016753 239.238438)scale(0.1 -0.1)\">\n       <use xlink:href=\"#DejaVuSans-48\"/>\n       <use x=\"63.623047\" xlink:href=\"#DejaVuSans-46\"/>\n       <use x=\"95.410156\" xlink:href=\"#DejaVuSans-48\"/>\n      </g>\n     </g>\n    </g>\n    <g id=\"xtick_4\">\n     <g id=\"line2d_4\">\n      <g>\n       <use style=\"stroke:#000000;stroke-width:0.8;\" x=\"215.036987\" xlink:href=\"#m900d5a7fe3\" y=\"224.64\"/>\n      </g>\n     </g>\n     <g id=\"text_4\">\n      <!-- 0.5 -->\n      <g transform=\"translate(207.085425 239.238438)scale(0.1 -0.1)\">\n       <use xlink:href=\"#DejaVuSans-48\"/>\n       <use x=\"63.623047\" xlink:href=\"#DejaVuSans-46\"/>\n       <use x=\"95.410156\" xlink:href=\"#DejaVuSans-53\"/>\n      </g>\n     </g>\n    </g>\n    <g id=\"xtick_5\">\n     <g id=\"line2d_5\">\n      <g>\n       <use style=\"stroke:#000000;stroke-width:0.8;\" x=\"262.105659\" xlink:href=\"#m900d5a7fe3\" y=\"224.64\"/>\n      </g>\n     </g>\n     <g id=\"text_5\">\n      <!-- 1.0 -->\n      <g transform=\"translate(254.154097 239.238438)scale(0.1 -0.1)\">\n       <use xlink:href=\"#DejaVuSans-49\"/>\n       <use x=\"63.623047\" xlink:href=\"#DejaVuSans-46\"/>\n       <use x=\"95.410156\" xlink:href=\"#DejaVuSans-48\"/>\n      </g>\n     </g>\n    </g>\n    <g id=\"xtick_6\">\n     <g id=\"line2d_6\">\n      <g>\n       <use style=\"stroke:#000000;stroke-width:0.8;\" x=\"309.174331\" xlink:href=\"#m900d5a7fe3\" y=\"224.64\"/>\n      </g>\n     </g>\n     <g id=\"text_6\">\n      <!-- 1.5 -->\n      <g transform=\"translate(301.222769 239.238438)scale(0.1 -0.1)\">\n       <use xlink:href=\"#DejaVuSans-49\"/>\n       <use x=\"63.623047\" xlink:href=\"#DejaVuSans-46\"/>\n       <use x=\"95.410156\" xlink:href=\"#DejaVuSans-53\"/>\n      </g>\n     </g>\n    </g>\n    <g id=\"xtick_7\">\n     <g id=\"line2d_7\">\n      <g>\n       <use style=\"stroke:#000000;stroke-width:0.8;\" x=\"356.243003\" xlink:href=\"#m900d5a7fe3\" y=\"224.64\"/>\n      </g>\n     </g>\n     <g id=\"text_7\">\n      <!-- 2.0 -->\n      <g transform=\"translate(348.291441 239.238438)scale(0.1 -0.1)\">\n       <defs>\n        <path d=\"M 19.1875 8.296875 \nL 53.609375 8.296875 \nL 53.609375 0 \nL 7.328125 0 \nL 7.328125 8.296875 \nQ 12.9375 14.109375 22.625 23.890625 \nQ 32.328125 33.6875 34.8125 36.53125 \nQ 39.546875 41.84375 41.421875 45.53125 \nQ 43.3125 49.21875 43.3125 52.78125 \nQ 43.3125 58.59375 39.234375 62.25 \nQ 35.15625 65.921875 28.609375 65.921875 \nQ 23.96875 65.921875 18.8125 64.3125 \nQ 13.671875 62.703125 7.8125 59.421875 \nL 7.8125 69.390625 \nQ 13.765625 71.78125 18.9375 73 \nQ 24.125 74.21875 28.421875 74.21875 \nQ 39.75 74.21875 46.484375 68.546875 \nQ 53.21875 62.890625 53.21875 53.421875 \nQ 53.21875 48.921875 51.53125 44.890625 \nQ 49.859375 40.875 45.40625 35.40625 \nQ 44.1875 33.984375 37.640625 27.21875 \nQ 31.109375 20.453125 19.1875 8.296875 \nz\n\" id=\"DejaVuSans-50\"/>\n       </defs>\n       <use xlink:href=\"#DejaVuSans-50\"/>\n       <use x=\"63.623047\" xlink:href=\"#DejaVuSans-46\"/>\n       <use x=\"95.410156\" xlink:href=\"#DejaVuSans-48\"/>\n      </g>\n     </g>\n    </g>\n   </g>\n   <g id=\"matplotlib.axis_2\">\n    <g id=\"ytick_1\">\n     <g id=\"line2d_8\">\n      <defs>\n       <path d=\"M 0 0 \nL -3.5 0 \n\" id=\"md8a01c1ceb\" style=\"stroke:#000000;stroke-width:0.8;\"/>\n      </defs>\n      <g>\n       <use style=\"stroke:#000000;stroke-width:0.8;\" x=\"44.845313\" xlink:href=\"#md8a01c1ceb\" y=\"203.221443\"/>\n      </g>\n     </g>\n     <g id=\"text_8\">\n      <!-- −0.50 -->\n      <g transform=\"translate(7.2 207.020662)scale(0.1 -0.1)\">\n       <use xlink:href=\"#DejaVuSans-8722\"/>\n       <use x=\"83.789062\" xlink:href=\"#DejaVuSans-48\"/>\n       <use x=\"147.412109\" xlink:href=\"#DejaVuSans-46\"/>\n       <use x=\"179.199219\" xlink:href=\"#DejaVuSans-53\"/>\n       <use x=\"242.822266\" xlink:href=\"#DejaVuSans-48\"/>\n      </g>\n     </g>\n    </g>\n    <g id=\"ytick_2\">\n     <g id=\"line2d_9\">\n      <g>\n       <use style=\"stroke:#000000;stroke-width:0.8;\" x=\"44.845313\" xlink:href=\"#md8a01c1ceb\" y=\"176.021253\"/>\n      </g>\n     </g>\n     <g id=\"text_9\">\n      <!-- −0.25 -->\n      <g transform=\"translate(7.2 179.820471)scale(0.1 -0.1)\">\n       <use xlink:href=\"#DejaVuSans-8722\"/>\n       <use x=\"83.789062\" xlink:href=\"#DejaVuSans-48\"/>\n       <use x=\"147.412109\" xlink:href=\"#DejaVuSans-46\"/>\n       <use x=\"179.199219\" xlink:href=\"#DejaVuSans-50\"/>\n       <use x=\"242.822266\" xlink:href=\"#DejaVuSans-53\"/>\n      </g>\n     </g>\n    </g>\n    <g id=\"ytick_3\">\n     <g id=\"line2d_10\">\n      <g>\n       <use style=\"stroke:#000000;stroke-width:0.8;\" x=\"44.845313\" xlink:href=\"#md8a01c1ceb\" y=\"148.821062\"/>\n      </g>\n     </g>\n     <g id=\"text_10\">\n      <!-- 0.00 -->\n      <g transform=\"translate(15.579688 152.620281)scale(0.1 -0.1)\">\n       <use xlink:href=\"#DejaVuSans-48\"/>\n       <use x=\"63.623047\" xlink:href=\"#DejaVuSans-46\"/>\n       <use x=\"95.410156\" xlink:href=\"#DejaVuSans-48\"/>\n       <use x=\"159.033203\" xlink:href=\"#DejaVuSans-48\"/>\n      </g>\n     </g>\n    </g>\n    <g id=\"ytick_4\">\n     <g id=\"line2d_11\">\n      <g>\n       <use style=\"stroke:#000000;stroke-width:0.8;\" x=\"44.845313\" xlink:href=\"#md8a01c1ceb\" y=\"121.620871\"/>\n      </g>\n     </g>\n     <g id=\"text_11\">\n      <!-- 0.25 -->\n      <g transform=\"translate(15.579688 125.42009)scale(0.1 -0.1)\">\n       <use xlink:href=\"#DejaVuSans-48\"/>\n       <use x=\"63.623047\" xlink:href=\"#DejaVuSans-46\"/>\n       <use x=\"95.410156\" xlink:href=\"#DejaVuSans-50\"/>\n       <use x=\"159.033203\" xlink:href=\"#DejaVuSans-53\"/>\n      </g>\n     </g>\n    </g>\n    <g id=\"ytick_5\">\n     <g id=\"line2d_12\">\n      <g>\n       <use style=\"stroke:#000000;stroke-width:0.8;\" x=\"44.845313\" xlink:href=\"#md8a01c1ceb\" y=\"94.420681\"/>\n      </g>\n     </g>\n     <g id=\"text_12\">\n      <!-- 0.50 -->\n      <g transform=\"translate(15.579688 98.2199)scale(0.1 -0.1)\">\n       <use xlink:href=\"#DejaVuSans-48\"/>\n       <use x=\"63.623047\" xlink:href=\"#DejaVuSans-46\"/>\n       <use x=\"95.410156\" xlink:href=\"#DejaVuSans-53\"/>\n       <use x=\"159.033203\" xlink:href=\"#DejaVuSans-48\"/>\n      </g>\n     </g>\n    </g>\n    <g id=\"ytick_6\">\n     <g id=\"line2d_13\">\n      <g>\n       <use style=\"stroke:#000000;stroke-width:0.8;\" x=\"44.845313\" xlink:href=\"#md8a01c1ceb\" y=\"67.22049\"/>\n      </g>\n     </g>\n     <g id=\"text_13\">\n      <!-- 0.75 -->\n      <g transform=\"translate(15.579688 71.019709)scale(0.1 -0.1)\">\n       <defs>\n        <path d=\"M 8.203125 72.90625 \nL 55.078125 72.90625 \nL 55.078125 68.703125 \nL 28.609375 0 \nL 18.3125 0 \nL 43.21875 64.59375 \nL 8.203125 64.59375 \nz\n\" id=\"DejaVuSans-55\"/>\n       </defs>\n       <use xlink:href=\"#DejaVuSans-48\"/>\n       <use x=\"63.623047\" xlink:href=\"#DejaVuSans-46\"/>\n       <use x=\"95.410156\" xlink:href=\"#DejaVuSans-55\"/>\n       <use x=\"159.033203\" xlink:href=\"#DejaVuSans-53\"/>\n      </g>\n     </g>\n    </g>\n    <g id=\"ytick_7\">\n     <g id=\"line2d_14\">\n      <g>\n       <use style=\"stroke:#000000;stroke-width:0.8;\" x=\"44.845313\" xlink:href=\"#md8a01c1ceb\" y=\"40.0203\"/>\n      </g>\n     </g>\n     <g id=\"text_14\">\n      <!-- 1.00 -->\n      <g transform=\"translate(15.579688 43.819518)scale(0.1 -0.1)\">\n       <use xlink:href=\"#DejaVuSans-49\"/>\n       <use x=\"63.623047\" xlink:href=\"#DejaVuSans-46\"/>\n       <use x=\"95.410156\" xlink:href=\"#DejaVuSans-48\"/>\n       <use x=\"159.033203\" xlink:href=\"#DejaVuSans-48\"/>\n      </g>\n     </g>\n    </g>\n    <g id=\"ytick_8\">\n     <g id=\"line2d_15\">\n      <g>\n       <use style=\"stroke:#000000;stroke-width:0.8;\" x=\"44.845313\" xlink:href=\"#md8a01c1ceb\" y=\"12.820109\"/>\n      </g>\n     </g>\n     <g id=\"text_15\">\n      <!-- 1.25 -->\n      <g transform=\"translate(15.579688 16.619328)scale(0.1 -0.1)\">\n       <use xlink:href=\"#DejaVuSans-49\"/>\n       <use x=\"63.623047\" xlink:href=\"#DejaVuSans-46\"/>\n       <use x=\"95.410156\" xlink:href=\"#DejaVuSans-50\"/>\n       <use x=\"159.033203\" xlink:href=\"#DejaVuSans-53\"/>\n      </g>\n     </g>\n    </g>\n   </g>\n   <g id=\"patch_3\">\n    <path d=\"M 44.845313 224.64 \nL 44.845313 7.2 \n\" style=\"fill:none;stroke:#000000;stroke-linecap:square;stroke-linejoin:miter;stroke-width:0.8;\"/>\n   </g>\n   <g id=\"patch_4\">\n    <path d=\"M 379.645313 224.64 \nL 379.645313 7.2 \n\" style=\"fill:none;stroke:#000000;stroke-linecap:square;stroke-linejoin:miter;stroke-width:0.8;\"/>\n   </g>\n   <g id=\"patch_5\">\n    <path d=\"M 44.845313 224.64 \nL 379.645313 224.64 \n\" style=\"fill:none;stroke:#000000;stroke-linecap:square;stroke-linejoin:miter;stroke-width:0.8;\"/>\n   </g>\n   <g id=\"patch_6\">\n    <path d=\"M 44.845313 7.2 \nL 379.645313 7.2 \n\" style=\"fill:none;stroke:#000000;stroke-linecap:square;stroke-linejoin:miter;stroke-width:0.8;\"/>\n   </g>\n  </g>\n </g>\n <defs>\n  <clipPath id=\"pa985156fb1\">\n   <rect height=\"217.44\" width=\"334.8\" x=\"44.845313\" y=\"7.2\"/>\n  </clipPath>\n </defs>\n</svg>\n",
      "image/png": "[encoded data removed]"
     },
     "metadata": {
      "needs_background": "light"
     }
    }
   ],
   "source": [
    "\n",
    "import matplotlib.pyplot as plt\n",
    "xcoordinates = []\n",
    "ycoordinates = []\n",
    "for i in features:\n",
    "   xcoordinates.append(i[0])\n",
    "   ycoordinates.append(i[1])\n",
    "plt.scatter(xcoordinates,ycoordinates, c = targets)\n",
    "\n",
    "#plt.scatter(features,targets)\n",
    "#plot.plot()"
   ]
  },
  {
   "cell_type": "markdown",
   "metadata": {
    "colab_type": "text",
    "id": "0ugn5JaN5aGh"
   },
   "source": [
    "---"
   ]
  },
  {
   "cell_type": "markdown",
   "metadata": {
    "colab_type": "text",
    "id": "PH7eg79ApDWK"
   },
   "source": [
    "## Models\n",
    "\n"
   ]
  },
  {
   "cell_type": "markdown",
   "metadata": {
    "colab_type": "text",
    "id": "WgxQbr7apHtX"
   },
   "source": [
    "Machine learning involves training a model to gain insight and predictive power from a dataset. Scikit-learn has support for many different types of models, ranging from classic algebraic models to more modern deep learning models.\n",
    "\n",
    "Throughout the remainder of this course, you will learn about many of these models in much more depth. This section will walk you through some of the overarching concepts across all models."
   ]
  },
  {
   "cell_type": "markdown",
   "metadata": {
    "colab_type": "text",
    "id": "NQZBibFBlgaI"
   },
   "source": [
    "### Estimators\n",
    "\n",
    "Most of the models in scikit-learn are considered [estimators](https://scikit-learn.org/stable/modules/generated/sklearn.base.BaseEstimator.html#sklearn.base.BaseEstimator). An estimator is expected to implement two methods: `fit` and `predict`.\n",
    "\n",
    "`fit` is used to train the model. At a minimum, it is passed the feature data used to train the model. In supervised models, it is also passed the target data.\n",
    "\n",
    "`predict` is used to get predictions from the model. This method is passed features and returns target predictions."
   ]
  },
  {
   "cell_type": "markdown",
   "metadata": {
    "colab_type": "text",
    "id": "3YAbSxJWngm_"
   },
   "source": [
    "Let's see an example of this in action.\n",
    "\n",
    "Linear regression is a simple model that you might have encountered in a statistics class in the past. The model attempts to draw a straight line through a set of data points, so the line is as close to as many points as possible.\n",
    "\n",
    "We'll use scikit-learn's [LinearRegression](https://scikit-learn.org/stable/modules/generated/sklearn.linear_model.LinearRegression.html) class to fit a line to the regression data that we generated earlier in this Colab. To do that, we simply call the `fit(features, targets)` method.\n",
    "\n",
    "After fitting, we can ask the model for predictions. To do this, we use the `predict(features)` method."
   ]
  },
  {
   "cell_type": "code",
   "execution_count": 117,
   "metadata": {
    "colab": {},
    "colab_type": "code",
    "id": "5LNyQLumj8Qt"
   },
   "outputs": [
    {
     "output_type": "display_data",
     "data": {
      "text/plain": "<Figure size 432x288 with 1 Axes>",
      "image/svg+xml": "<?xml version=\"1.0\" encoding=\"utf-8\" standalone=\"no\"?>\n<!DOCTYPE svg PUBLIC \"-//W3C//DTD SVG 1.1//EN\"\n  \"http://www.w3.org/Graphics/SVG/1.1/DTD/svg11.dtd\">\n<!-- Created with matplotlib (https://matplotlib.org/) -->\n<svg height=\"251.22009pt\" version=\"1.1\" viewBox=\"0 0 380.482812 251.22009\" width=\"380.482812pt\" xmlns=\"http://www.w3.org/2000/svg\" xmlns:xlink=\"http://www.w3.org/1999/xlink\">\n <metadata>\n  <rdf:RDF xmlns:cc=\"http://creativecommons.org/ns#\" xmlns:dc=\"http://purl.org/dc/elements/1.1/\" xmlns:rdf=\"http://www.w3.org/1999/02/22-rdf-syntax-ns#\">\n   <cc:Work>\n    <dc:type rdf:resource=\"http://purl.org/dc/dcmitype/StillImage\"/>\n    <dc:date>2021-06-21T13:42:22.655362</dc:date>\n    <dc:format>image/svg+xml</dc:format>\n    <dc:creator>\n     <cc:Agent>\n      <dc:title>Matplotlib v3.3.2, https://matplotlib.org/</dc:title>\n     </cc:Agent>\n    </dc:creator>\n   </cc:Work>\n  </rdf:RDF>\n </metadata>\n <defs>\n  <style type=\"text/css\">*{stroke-linecap:butt;stroke-linejoin:round;}</style>\n </defs>\n <g id=\"figure_1\">\n  <g id=\"patch_1\">\n   <path d=\"M -0 251.22009 \nL 380.482812 251.22009 \nL 380.482812 0 \nL -0 0 \nz\n\" style=\"fill:none;\"/>\n  </g>\n  <g id=\"axes_1\">\n   <g id=\"patch_2\">\n    <path d=\"M 38.482813 227.341965 \nL 373.282813 227.341965 \nL 373.282813 9.901965 \nL 38.482813 9.901965 \nz\n\" style=\"fill:#ffffff;\"/>\n   </g>\n   <g id=\"matplotlib.axis_1\">\n    <g id=\"xtick_1\">\n     <g id=\"line2d_1\">\n      <defs>\n       <path d=\"M 0 0 \nL 0 3.5 \n\" id=\"m9555d6152b\" style=\"stroke:#000000;stroke-width:0.8;\"/>\n      </defs>\n      <g>\n       <use style=\"stroke:#000000;stroke-width:0.8;\" x=\"67.468472\" xlink:href=\"#m9555d6152b\" y=\"227.341965\"/>\n      </g>\n     </g>\n     <g id=\"text_1\">\n      <!-- −1.0 -->\n      <g transform=\"translate(55.327065 241.940402)scale(0.1 -0.1)\">\n       <defs>\n        <path d=\"M 10.59375 35.5 \nL 73.1875 35.5 \nL 73.1875 27.203125 \nL 10.59375 27.203125 \nz\n\" id=\"DejaVuSans-8722\"/>\n        <path d=\"M 12.40625 8.296875 \nL 28.515625 8.296875 \nL 28.515625 63.921875 \nL 10.984375 60.40625 \nL 10.984375 69.390625 \nL 28.421875 72.90625 \nL 38.28125 72.90625 \nL 38.28125 8.296875 \nL 54.390625 8.296875 \nL 54.390625 0 \nL 12.40625 0 \nz\n\" id=\"DejaVuSans-49\"/>\n        <path d=\"M 10.6875 12.40625 \nL 21 12.40625 \nL 21 0 \nL 10.6875 0 \nz\n\" id=\"DejaVuSans-46\"/>\n        <path d=\"M 31.78125 66.40625 \nQ 24.171875 66.40625 20.328125 58.90625 \nQ 16.5 51.421875 16.5 36.375 \nQ 16.5 21.390625 20.328125 13.890625 \nQ 24.171875 6.390625 31.78125 6.390625 \nQ 39.453125 6.390625 43.28125 13.890625 \nQ 47.125 21.390625 47.125 36.375 \nQ 47.125 51.421875 43.28125 58.90625 \nQ 39.453125 66.40625 31.78125 66.40625 \nz\nM 31.78125 74.21875 \nQ 44.046875 74.21875 50.515625 64.515625 \nQ 56.984375 54.828125 56.984375 36.375 \nQ 56.984375 17.96875 50.515625 8.265625 \nQ 44.046875 -1.421875 31.78125 -1.421875 \nQ 19.53125 -1.421875 13.0625 8.265625 \nQ 6.59375 17.96875 6.59375 36.375 \nQ 6.59375 54.828125 13.0625 64.515625 \nQ 19.53125 74.21875 31.78125 74.21875 \nz\n\" id=\"DejaVuSans-48\"/>\n       </defs>\n       <use xlink:href=\"#DejaVuSans-8722\"/>\n       <use x=\"83.789062\" xlink:href=\"#DejaVuSans-49\"/>\n       <use x=\"147.412109\" xlink:href=\"#DejaVuSans-46\"/>\n       <use x=\"179.199219\" xlink:href=\"#DejaVuSans-48\"/>\n      </g>\n     </g>\n    </g>\n    <g id=\"xtick_2\">\n     <g id=\"line2d_2\">\n      <g>\n       <use style=\"stroke:#000000;stroke-width:0.8;\" x=\"114.537144\" xlink:href=\"#m9555d6152b\" y=\"227.341965\"/>\n      </g>\n     </g>\n     <g id=\"text_2\">\n      <!-- −0.5 -->\n      <g transform=\"translate(102.395737 241.940402)scale(0.1 -0.1)\">\n       <defs>\n        <path d=\"M 10.796875 72.90625 \nL 49.515625 72.90625 \nL 49.515625 64.59375 \nL 19.828125 64.59375 \nL 19.828125 46.734375 \nQ 21.96875 47.46875 24.109375 47.828125 \nQ 26.265625 48.1875 28.421875 48.1875 \nQ 40.625 48.1875 47.75 41.5 \nQ 54.890625 34.8125 54.890625 23.390625 \nQ 54.890625 11.625 47.5625 5.09375 \nQ 40.234375 -1.421875 26.90625 -1.421875 \nQ 22.3125 -1.421875 17.546875 -0.640625 \nQ 12.796875 0.140625 7.71875 1.703125 \nL 7.71875 11.625 \nQ 12.109375 9.234375 16.796875 8.0625 \nQ 21.484375 6.890625 26.703125 6.890625 \nQ 35.15625 6.890625 40.078125 11.328125 \nQ 45.015625 15.765625 45.015625 23.390625 \nQ 45.015625 31 40.078125 35.4375 \nQ 35.15625 39.890625 26.703125 39.890625 \nQ 22.75 39.890625 18.8125 39.015625 \nQ 14.890625 38.140625 10.796875 36.28125 \nz\n\" id=\"DejaVuSans-53\"/>\n       </defs>\n       <use xlink:href=\"#DejaVuSans-8722\"/>\n       <use x=\"83.789062\" xlink:href=\"#DejaVuSans-48\"/>\n       <use x=\"147.412109\" xlink:href=\"#DejaVuSans-46\"/>\n       <use x=\"179.199219\" xlink:href=\"#DejaVuSans-53\"/>\n      </g>\n     </g>\n    </g>\n    <g id=\"xtick_3\">\n     <g id=\"line2d_3\">\n      <g>\n       <use style=\"stroke:#000000;stroke-width:0.8;\" x=\"161.605815\" xlink:href=\"#m9555d6152b\" y=\"227.341965\"/>\n      </g>\n     </g>\n     <g id=\"text_3\">\n      <!-- 0.0 -->\n      <g transform=\"translate(153.654253 241.940402)scale(0.1 -0.1)\">\n       <use xlink:href=\"#DejaVuSans-48\"/>\n       <use x=\"63.623047\" xlink:href=\"#DejaVuSans-46\"/>\n       <use x=\"95.410156\" xlink:href=\"#DejaVuSans-48\"/>\n      </g>\n     </g>\n    </g>\n    <g id=\"xtick_4\">\n     <g id=\"line2d_4\">\n      <g>\n       <use style=\"stroke:#000000;stroke-width:0.8;\" x=\"208.674487\" xlink:href=\"#m9555d6152b\" y=\"227.341965\"/>\n      </g>\n     </g>\n     <g id=\"text_4\">\n      <!-- 0.5 -->\n      <g transform=\"translate(200.722925 241.940402)scale(0.1 -0.1)\">\n       <use xlink:href=\"#DejaVuSans-48\"/>\n       <use x=\"63.623047\" xlink:href=\"#DejaVuSans-46\"/>\n       <use x=\"95.410156\" xlink:href=\"#DejaVuSans-53\"/>\n      </g>\n     </g>\n    </g>\n    <g id=\"xtick_5\">\n     <g id=\"line2d_5\">\n      <g>\n       <use style=\"stroke:#000000;stroke-width:0.8;\" x=\"255.743159\" xlink:href=\"#m9555d6152b\" y=\"227.341965\"/>\n      </g>\n     </g>\n     <g id=\"text_5\">\n      <!-- 1.0 -->\n      <g transform=\"translate(247.791597 241.940402)scale(0.1 -0.1)\">\n       <use xlink:href=\"#DejaVuSans-49\"/>\n       <use x=\"63.623047\" xlink:href=\"#DejaVuSans-46\"/>\n       <use x=\"95.410156\" xlink:href=\"#DejaVuSans-48\"/>\n      </g>\n     </g>\n    </g>\n    <g id=\"xtick_6\">\n     <g id=\"line2d_6\">\n      <g>\n       <use style=\"stroke:#000000;stroke-width:0.8;\" x=\"302.811831\" xlink:href=\"#m9555d6152b\" y=\"227.341965\"/>\n      </g>\n     </g>\n     <g id=\"text_6\">\n      <!-- 1.5 -->\n      <g transform=\"translate(294.860269 241.940402)scale(0.1 -0.1)\">\n       <use xlink:href=\"#DejaVuSans-49\"/>\n       <use x=\"63.623047\" xlink:href=\"#DejaVuSans-46\"/>\n       <use x=\"95.410156\" xlink:href=\"#DejaVuSans-53\"/>\n      </g>\n     </g>\n    </g>\n    <g id=\"xtick_7\">\n     <g id=\"line2d_7\">\n      <g>\n       <use style=\"stroke:#000000;stroke-width:0.8;\" x=\"349.880503\" xlink:href=\"#m9555d6152b\" y=\"227.341965\"/>\n      </g>\n     </g>\n     <g id=\"text_7\">\n      <!-- 2.0 -->\n      <g transform=\"translate(341.928941 241.940402)scale(0.1 -0.1)\">\n       <defs>\n        <path d=\"M 19.1875 8.296875 \nL 53.609375 8.296875 \nL 53.609375 0 \nL 7.328125 0 \nL 7.328125 8.296875 \nQ 12.9375 14.109375 22.625 23.890625 \nQ 32.328125 33.6875 34.8125 36.53125 \nQ 39.546875 41.84375 41.421875 45.53125 \nQ 43.3125 49.21875 43.3125 52.78125 \nQ 43.3125 58.59375 39.234375 62.25 \nQ 35.15625 65.921875 28.609375 65.921875 \nQ 23.96875 65.921875 18.8125 64.3125 \nQ 13.671875 62.703125 7.8125 59.421875 \nL 7.8125 69.390625 \nQ 13.765625 71.78125 18.9375 73 \nQ 24.125 74.21875 28.421875 74.21875 \nQ 39.75 74.21875 46.484375 68.546875 \nQ 53.21875 62.890625 53.21875 53.421875 \nQ 53.21875 48.921875 51.53125 44.890625 \nQ 49.859375 40.875 45.40625 35.40625 \nQ 44.1875 33.984375 37.640625 27.21875 \nQ 31.109375 20.453125 19.1875 8.296875 \nz\n\" id=\"DejaVuSans-50\"/>\n       </defs>\n       <use xlink:href=\"#DejaVuSans-50\"/>\n       <use x=\"63.623047\" xlink:href=\"#DejaVuSans-46\"/>\n       <use x=\"95.410156\" xlink:href=\"#DejaVuSans-48\"/>\n      </g>\n     </g>\n    </g>\n   </g>\n   <g id=\"matplotlib.axis_2\">\n    <g id=\"ytick_1\">\n     <g id=\"line2d_8\">\n      <defs>\n       <path d=\"M 0 0 \nL -3.5 0 \n\" id=\"m99bd6f3500\" style=\"stroke:#000000;stroke-width:0.8;\"/>\n      </defs>\n      <g>\n       <use style=\"stroke:#000000;stroke-width:0.8;\" x=\"38.482813\" xlink:href=\"#m99bd6f3500\" y=\"218.144479\"/>\n      </g>\n     </g>\n     <g id=\"text_8\">\n      <!-- −0.2 -->\n      <g transform=\"translate(7.2 221.943698)scale(0.1 -0.1)\">\n       <use xlink:href=\"#DejaVuSans-8722\"/>\n       <use x=\"83.789062\" xlink:href=\"#DejaVuSans-48\"/>\n       <use x=\"147.412109\" xlink:href=\"#DejaVuSans-46\"/>\n       <use x=\"179.199219\" xlink:href=\"#DejaVuSans-50\"/>\n      </g>\n     </g>\n    </g>\n    <g id=\"ytick_2\">\n     <g id=\"line2d_9\">\n      <g>\n       <use style=\"stroke:#000000;stroke-width:0.8;\" x=\"38.482813\" xlink:href=\"#m99bd6f3500\" y=\"188.552299\"/>\n      </g>\n     </g>\n     <g id=\"text_9\">\n      <!-- 0.0 -->\n      <g transform=\"translate(15.579688 192.351518)scale(0.1 -0.1)\">\n       <use xlink:href=\"#DejaVuSans-48\"/>\n       <use x=\"63.623047\" xlink:href=\"#DejaVuSans-46\"/>\n       <use x=\"95.410156\" xlink:href=\"#DejaVuSans-48\"/>\n      </g>\n     </g>\n    </g>\n    <g id=\"ytick_3\">\n     <g id=\"line2d_10\">\n      <g>\n       <use style=\"stroke:#000000;stroke-width:0.8;\" x=\"38.482813\" xlink:href=\"#m99bd6f3500\" y=\"158.960119\"/>\n      </g>\n     </g>\n     <g id=\"text_10\">\n      <!-- 0.2 -->\n      <g transform=\"translate(15.579688 162.759338)scale(0.1 -0.1)\">\n       <use xlink:href=\"#DejaVuSans-48\"/>\n       <use x=\"63.623047\" xlink:href=\"#DejaVuSans-46\"/>\n       <use x=\"95.410156\" xlink:href=\"#DejaVuSans-50\"/>\n      </g>\n     </g>\n    </g>\n    <g id=\"ytick_4\">\n     <g id=\"line2d_11\">\n      <g>\n       <use style=\"stroke:#000000;stroke-width:0.8;\" x=\"38.482813\" xlink:href=\"#m99bd6f3500\" y=\"129.367939\"/>\n      </g>\n     </g>\n     <g id=\"text_11\">\n      <!-- 0.4 -->\n      <g transform=\"translate(15.579688 133.167158)scale(0.1 -0.1)\">\n       <defs>\n        <path d=\"M 37.796875 64.3125 \nL 12.890625 25.390625 \nL 37.796875 25.390625 \nz\nM 35.203125 72.90625 \nL 47.609375 72.90625 \nL 47.609375 25.390625 \nL 58.015625 25.390625 \nL 58.015625 17.1875 \nL 47.609375 17.1875 \nL 47.609375 0 \nL 37.796875 0 \nL 37.796875 17.1875 \nL 4.890625 17.1875 \nL 4.890625 26.703125 \nz\n\" id=\"DejaVuSans-52\"/>\n       </defs>\n       <use xlink:href=\"#DejaVuSans-48\"/>\n       <use x=\"63.623047\" xlink:href=\"#DejaVuSans-46\"/>\n       <use x=\"95.410156\" xlink:href=\"#DejaVuSans-52\"/>\n      </g>\n     </g>\n    </g>\n    <g id=\"ytick_5\">\n     <g id=\"line2d_12\">\n      <g>\n       <use style=\"stroke:#000000;stroke-width:0.8;\" x=\"38.482813\" xlink:href=\"#m99bd6f3500\" y=\"99.775759\"/>\n      </g>\n     </g>\n     <g id=\"text_12\">\n      <!-- 0.6 -->\n      <g transform=\"translate(15.579688 103.574978)scale(0.1 -0.1)\">\n       <defs>\n        <path d=\"M 33.015625 40.375 \nQ 26.375 40.375 22.484375 35.828125 \nQ 18.609375 31.296875 18.609375 23.390625 \nQ 18.609375 15.53125 22.484375 10.953125 \nQ 26.375 6.390625 33.015625 6.390625 \nQ 39.65625 6.390625 43.53125 10.953125 \nQ 47.40625 15.53125 47.40625 23.390625 \nQ 47.40625 31.296875 43.53125 35.828125 \nQ 39.65625 40.375 33.015625 40.375 \nz\nM 52.59375 71.296875 \nL 52.59375 62.3125 \nQ 48.875 64.0625 45.09375 64.984375 \nQ 41.3125 65.921875 37.59375 65.921875 \nQ 27.828125 65.921875 22.671875 59.328125 \nQ 17.53125 52.734375 16.796875 39.40625 \nQ 19.671875 43.65625 24.015625 45.921875 \nQ 28.375 48.1875 33.59375 48.1875 \nQ 44.578125 48.1875 50.953125 41.515625 \nQ 57.328125 34.859375 57.328125 23.390625 \nQ 57.328125 12.15625 50.6875 5.359375 \nQ 44.046875 -1.421875 33.015625 -1.421875 \nQ 20.359375 -1.421875 13.671875 8.265625 \nQ 6.984375 17.96875 6.984375 36.375 \nQ 6.984375 53.65625 15.1875 63.9375 \nQ 23.390625 74.21875 37.203125 74.21875 \nQ 40.921875 74.21875 44.703125 73.484375 \nQ 48.484375 72.75 52.59375 71.296875 \nz\n\" id=\"DejaVuSans-54\"/>\n       </defs>\n       <use xlink:href=\"#DejaVuSans-48\"/>\n       <use x=\"63.623047\" xlink:href=\"#DejaVuSans-46\"/>\n       <use x=\"95.410156\" xlink:href=\"#DejaVuSans-54\"/>\n      </g>\n     </g>\n    </g>\n    <g id=\"ytick_6\">\n     <g id=\"line2d_13\">\n      <g>\n       <use style=\"stroke:#000000;stroke-width:0.8;\" x=\"38.482813\" xlink:href=\"#m99bd6f3500\" y=\"70.183579\"/>\n      </g>\n     </g>\n     <g id=\"text_13\">\n      <!-- 0.8 -->\n      <g transform=\"translate(15.579688 73.982798)scale(0.1 -0.1)\">\n       <defs>\n        <path d=\"M 31.78125 34.625 \nQ 24.75 34.625 20.71875 30.859375 \nQ 16.703125 27.09375 16.703125 20.515625 \nQ 16.703125 13.921875 20.71875 10.15625 \nQ 24.75 6.390625 31.78125 6.390625 \nQ 38.8125 6.390625 42.859375 10.171875 \nQ 46.921875 13.96875 46.921875 20.515625 \nQ 46.921875 27.09375 42.890625 30.859375 \nQ 38.875 34.625 31.78125 34.625 \nz\nM 21.921875 38.8125 \nQ 15.578125 40.375 12.03125 44.71875 \nQ 8.5 49.078125 8.5 55.328125 \nQ 8.5 64.0625 14.71875 69.140625 \nQ 20.953125 74.21875 31.78125 74.21875 \nQ 42.671875 74.21875 48.875 69.140625 \nQ 55.078125 64.0625 55.078125 55.328125 \nQ 55.078125 49.078125 51.53125 44.71875 \nQ 48 40.375 41.703125 38.8125 \nQ 48.828125 37.15625 52.796875 32.3125 \nQ 56.78125 27.484375 56.78125 20.515625 \nQ 56.78125 9.90625 50.3125 4.234375 \nQ 43.84375 -1.421875 31.78125 -1.421875 \nQ 19.734375 -1.421875 13.25 4.234375 \nQ 6.78125 9.90625 6.78125 20.515625 \nQ 6.78125 27.484375 10.78125 32.3125 \nQ 14.796875 37.15625 21.921875 38.8125 \nz\nM 18.3125 54.390625 \nQ 18.3125 48.734375 21.84375 45.5625 \nQ 25.390625 42.390625 31.78125 42.390625 \nQ 38.140625 42.390625 41.71875 45.5625 \nQ 45.3125 48.734375 45.3125 54.390625 \nQ 45.3125 60.0625 41.71875 63.234375 \nQ 38.140625 66.40625 31.78125 66.40625 \nQ 25.390625 66.40625 21.84375 63.234375 \nQ 18.3125 60.0625 18.3125 54.390625 \nz\n\" id=\"DejaVuSans-56\"/>\n       </defs>\n       <use xlink:href=\"#DejaVuSans-48\"/>\n       <use x=\"63.623047\" xlink:href=\"#DejaVuSans-46\"/>\n       <use x=\"95.410156\" xlink:href=\"#DejaVuSans-56\"/>\n      </g>\n     </g>\n    </g>\n    <g id=\"ytick_7\">\n     <g id=\"line2d_14\">\n      <g>\n       <use style=\"stroke:#000000;stroke-width:0.8;\" x=\"38.482813\" xlink:href=\"#m99bd6f3500\" y=\"40.591399\"/>\n      </g>\n     </g>\n     <g id=\"text_14\">\n      <!-- 1.0 -->\n      <g transform=\"translate(15.579688 44.390618)scale(0.1 -0.1)\">\n       <use xlink:href=\"#DejaVuSans-49\"/>\n       <use x=\"63.623047\" xlink:href=\"#DejaVuSans-46\"/>\n       <use x=\"95.410156\" xlink:href=\"#DejaVuSans-48\"/>\n      </g>\n     </g>\n    </g>\n    <g id=\"ytick_8\">\n     <g id=\"line2d_15\">\n      <g>\n       <use style=\"stroke:#000000;stroke-width:0.8;\" x=\"38.482813\" xlink:href=\"#m99bd6f3500\" y=\"10.999219\"/>\n      </g>\n     </g>\n     <g id=\"text_15\">\n      <!-- 1.2 -->\n      <g transform=\"translate(15.579688 14.798437)scale(0.1 -0.1)\">\n       <use xlink:href=\"#DejaVuSans-49\"/>\n       <use x=\"63.623047\" xlink:href=\"#DejaVuSans-46\"/>\n       <use x=\"95.410156\" xlink:href=\"#DejaVuSans-50\"/>\n      </g>\n     </g>\n    </g>\n   </g>\n   <g id=\"line2d_16\">\n    <defs>\n     <path d=\"M 0 1.5 \nC 0.397805 1.5 0.77937 1.341951 1.06066 1.06066 \nC 1.341951 0.77937 1.5 0.397805 1.5 0 \nC 1.5 -0.397805 1.341951 -0.77937 1.06066 -1.06066 \nC 0.77937 -1.341951 0.397805 -1.5 0 -1.5 \nC -0.397805 -1.5 -0.77937 -1.341951 -1.06066 -1.06066 \nC -1.341951 -0.77937 -1.5 -0.397805 -1.5 0 \nC -1.5 0.397805 -1.341951 0.77937 -1.06066 1.06066 \nC -0.77937 1.341951 -0.397805 1.5 0 1.5 \nz\n\" id=\"m9171851886\" style=\"stroke:#0000ff;\"/>\n    </defs>\n    <g clip-path=\"url(#p9fa7476f2c)\">\n     <use style=\"fill:#0000ff;stroke:#0000ff;\" x=\"253.629595\" xlink:href=\"#m9171851886\" y=\"188.552299\"/>\n     <use style=\"fill:#0000ff;stroke:#0000ff;\" x=\"329.348478\" xlink:href=\"#m9171851886\" y=\"40.591399\"/>\n     <use style=\"fill:#0000ff;stroke:#0000ff;\" x=\"222.842245\" xlink:href=\"#m9171851886\" y=\"188.552299\"/>\n     <use style=\"fill:#0000ff;stroke:#0000ff;\" x=\"248.565919\" xlink:href=\"#m9171851886\" y=\"188.552299\"/>\n     <use style=\"fill:#0000ff;stroke:#0000ff;\" x=\"53.700994\" xlink:href=\"#m9171851886\" y=\"188.552299\"/>\n     <use style=\"fill:#0000ff;stroke:#0000ff;\" x=\"302.91615\" xlink:href=\"#m9171851886\" y=\"40.591399\"/>\n     <use style=\"fill:#0000ff;stroke:#0000ff;\" x=\"93.077497\" xlink:href=\"#m9171851886\" y=\"188.552299\"/>\n     <use style=\"fill:#0000ff;stroke:#0000ff;\" x=\"210.267946\" xlink:href=\"#m9171851886\" y=\"188.552299\"/>\n     <use style=\"fill:#0000ff;stroke:#0000ff;\" x=\"334.7735\" xlink:href=\"#m9171851886\" y=\"40.591399\"/>\n     <use style=\"fill:#0000ff;stroke:#0000ff;\" x=\"328.999901\" xlink:href=\"#m9171851886\" y=\"40.591399\"/>\n     <use style=\"fill:#0000ff;stroke:#0000ff;\" x=\"76.053108\" xlink:href=\"#m9171851886\" y=\"188.552299\"/>\n     <use style=\"fill:#0000ff;stroke:#0000ff;\" x=\"173.410856\" xlink:href=\"#m9171851886\" y=\"40.591399\"/>\n     <use style=\"fill:#0000ff;stroke:#0000ff;\" x=\"208.847732\" xlink:href=\"#m9171851886\" y=\"40.591399\"/>\n     <use style=\"fill:#0000ff;stroke:#0000ff;\" x=\"165.128772\" xlink:href=\"#m9171851886\" y=\"188.552299\"/>\n     <use style=\"fill:#0000ff;stroke:#0000ff;\" x=\"222.299044\" xlink:href=\"#m9171851886\" y=\"188.552299\"/>\n     <use style=\"fill:#0000ff;stroke:#0000ff;\" x=\"128.275279\" xlink:href=\"#m9171851886\" y=\"188.552299\"/>\n     <use style=\"fill:#0000ff;stroke:#0000ff;\" x=\"248.056555\" xlink:href=\"#m9171851886\" y=\"188.552299\"/>\n     <use style=\"fill:#0000ff;stroke:#0000ff;\" x=\"90.509192\" xlink:href=\"#m9171851886\" y=\"188.552299\"/>\n     <use style=\"fill:#0000ff;stroke:#0000ff;\" x=\"253.848869\" xlink:href=\"#m9171851886\" y=\"40.591399\"/>\n     <use style=\"fill:#0000ff;stroke:#0000ff;\" x=\"335.55771\" xlink:href=\"#m9171851886\" y=\"40.591399\"/>\n     <use style=\"fill:#0000ff;stroke:#0000ff;\" x=\"175.182089\" xlink:href=\"#m9171851886\" y=\"40.591399\"/>\n     <use style=\"fill:#0000ff;stroke:#0000ff;\" x=\"166.850376\" xlink:href=\"#m9171851886\" y=\"40.591399\"/>\n     <use style=\"fill:#0000ff;stroke:#0000ff;\" x=\"173.356266\" xlink:href=\"#m9171851886\" y=\"188.552299\"/>\n     <use style=\"fill:#0000ff;stroke:#0000ff;\" x=\"166.585343\" xlink:href=\"#m9171851886\" y=\"40.591399\"/>\n     <use style=\"fill:#0000ff;stroke:#0000ff;\" x=\"189.750579\" xlink:href=\"#m9171851886\" y=\"40.591399\"/>\n     <use style=\"fill:#0000ff;stroke:#0000ff;\" x=\"74.251177\" xlink:href=\"#m9171851886\" y=\"188.552299\"/>\n     <use style=\"fill:#0000ff;stroke:#0000ff;\" x=\"244.171675\" xlink:href=\"#m9171851886\" y=\"188.552299\"/>\n     <use style=\"fill:#0000ff;stroke:#0000ff;\" x=\"281.976692\" xlink:href=\"#m9171851886\" y=\"40.591399\"/>\n     <use style=\"fill:#0000ff;stroke:#0000ff;\" x=\"186.99474\" xlink:href=\"#m9171851886\" y=\"40.591399\"/>\n     <use style=\"fill:#0000ff;stroke:#0000ff;\" x=\"66.423185\" xlink:href=\"#m9171851886\" y=\"188.552299\"/>\n     <use style=\"fill:#0000ff;stroke:#0000ff;\" x=\"227.654408\" xlink:href=\"#m9171851886\" y=\"40.591399\"/>\n     <use style=\"fill:#0000ff;stroke:#0000ff;\" x=\"208.34608\" xlink:href=\"#m9171851886\" y=\"40.591399\"/>\n     <use style=\"fill:#0000ff;stroke:#0000ff;\" x=\"155.670464\" xlink:href=\"#m9171851886\" y=\"188.552299\"/>\n     <use style=\"fill:#0000ff;stroke:#0000ff;\" x=\"300.10898\" xlink:href=\"#m9171851886\" y=\"40.591399\"/>\n     <use style=\"fill:#0000ff;stroke:#0000ff;\" x=\"101.23951\" xlink:href=\"#m9171851886\" y=\"188.552299\"/>\n     <use style=\"fill:#0000ff;stroke:#0000ff;\" x=\"358.064631\" xlink:href=\"#m9171851886\" y=\"40.591399\"/>\n     <use style=\"fill:#0000ff;stroke:#0000ff;\" x=\"198.063042\" xlink:href=\"#m9171851886\" y=\"188.552299\"/>\n     <use style=\"fill:#0000ff;stroke:#0000ff;\" x=\"253.101992\" xlink:href=\"#m9171851886\" y=\"40.591399\"/>\n     <use style=\"fill:#0000ff;stroke:#0000ff;\" x=\"255.081151\" xlink:href=\"#m9171851886\" y=\"188.552299\"/>\n     <use style=\"fill:#0000ff;stroke:#0000ff;\" x=\"184.609078\" xlink:href=\"#m9171851886\" y=\"188.552299\"/>\n     <use style=\"fill:#0000ff;stroke:#0000ff;\" x=\"156.201612\" xlink:href=\"#m9171851886\" y=\"40.591399\"/>\n     <use style=\"fill:#0000ff;stroke:#0000ff;\" x=\"223.764166\" xlink:href=\"#m9171851886\" y=\"188.552299\"/>\n     <use style=\"fill:#0000ff;stroke:#0000ff;\" x=\"347.492486\" xlink:href=\"#m9171851886\" y=\"40.591399\"/>\n     <use style=\"fill:#0000ff;stroke:#0000ff;\" x=\"242.78922\" xlink:href=\"#m9171851886\" y=\"188.552299\"/>\n     <use style=\"fill:#0000ff;stroke:#0000ff;\" x=\"71.327528\" xlink:href=\"#m9171851886\" y=\"188.552299\"/>\n     <use style=\"fill:#0000ff;stroke:#0000ff;\" x=\"338.138006\" xlink:href=\"#m9171851886\" y=\"40.591399\"/>\n     <use style=\"fill:#0000ff;stroke:#0000ff;\" x=\"257.694873\" xlink:href=\"#m9171851886\" y=\"40.591399\"/>\n     <use style=\"fill:#0000ff;stroke:#0000ff;\" x=\"179.520502\" xlink:href=\"#m9171851886\" y=\"40.591399\"/>\n     <use style=\"fill:#0000ff;stroke:#0000ff;\" x=\"356.225211\" xlink:href=\"#m9171851886\" y=\"40.591399\"/>\n     <use style=\"fill:#0000ff;stroke:#0000ff;\" x=\"180.545798\" xlink:href=\"#m9171851886\" y=\"188.552299\"/>\n     <use style=\"fill:#0000ff;stroke:#0000ff;\" x=\"93.960249\" xlink:href=\"#m9171851886\" y=\"188.552299\"/>\n     <use style=\"fill:#0000ff;stroke:#0000ff;\" x=\"176.388938\" xlink:href=\"#m9171851886\" y=\"40.591399\"/>\n     <use style=\"fill:#0000ff;stroke:#0000ff;\" x=\"109.900785\" xlink:href=\"#m9171851886\" y=\"188.552299\"/>\n     <use style=\"fill:#0000ff;stroke:#0000ff;\" x=\"201.31472\" xlink:href=\"#m9171851886\" y=\"40.591399\"/>\n     <use style=\"fill:#0000ff;stroke:#0000ff;\" x=\"106.797466\" xlink:href=\"#m9171851886\" y=\"188.552299\"/>\n     <use style=\"fill:#0000ff;stroke:#0000ff;\" x=\"160.677953\" xlink:href=\"#m9171851886\" y=\"40.591399\"/>\n     <use style=\"fill:#0000ff;stroke:#0000ff;\" x=\"341.271502\" xlink:href=\"#m9171851886\" y=\"40.591399\"/>\n     <use style=\"fill:#0000ff;stroke:#0000ff;\" x=\"263.171164\" xlink:href=\"#m9171851886\" y=\"40.591399\"/>\n     <use style=\"fill:#0000ff;stroke:#0000ff;\" x=\"221.747214\" xlink:href=\"#m9171851886\" y=\"188.552299\"/>\n     <use style=\"fill:#0000ff;stroke:#0000ff;\" x=\"70.995632\" xlink:href=\"#m9171851886\" y=\"188.552299\"/>\n     <use style=\"fill:#0000ff;stroke:#0000ff;\" x=\"350.934584\" xlink:href=\"#m9171851886\" y=\"40.591399\"/>\n     <use style=\"fill:#0000ff;stroke:#0000ff;\" x=\"287.577989\" xlink:href=\"#m9171851886\" y=\"40.591399\"/>\n     <use style=\"fill:#0000ff;stroke:#0000ff;\" x=\"322.629325\" xlink:href=\"#m9171851886\" y=\"40.591399\"/>\n     <use style=\"fill:#0000ff;stroke:#0000ff;\" x=\"162.740427\" xlink:href=\"#m9171851886\" y=\"40.591399\"/>\n     <use style=\"fill:#0000ff;stroke:#0000ff;\" x=\"74.476247\" xlink:href=\"#m9171851886\" y=\"188.552299\"/>\n     <use style=\"fill:#0000ff;stroke:#0000ff;\" x=\"265.500321\" xlink:href=\"#m9171851886\" y=\"188.552299\"/>\n     <use style=\"fill:#0000ff;stroke:#0000ff;\" x=\"220.948647\" xlink:href=\"#m9171851886\" y=\"40.591399\"/>\n     <use style=\"fill:#0000ff;stroke:#0000ff;\" x=\"142.017734\" xlink:href=\"#m9171851886\" y=\"188.552299\"/>\n     <use style=\"fill:#0000ff;stroke:#0000ff;\" x=\"244.382866\" xlink:href=\"#m9171851886\" y=\"188.552299\"/>\n     <use style=\"fill:#0000ff;stroke:#0000ff;\" x=\"124.200625\" xlink:href=\"#m9171851886\" y=\"188.552299\"/>\n     <use style=\"fill:#0000ff;stroke:#0000ff;\" x=\"152.116093\" xlink:href=\"#m9171851886\" y=\"188.552299\"/>\n     <use style=\"fill:#0000ff;stroke:#0000ff;\" x=\"276.260053\" xlink:href=\"#m9171851886\" y=\"40.591399\"/>\n     <use style=\"fill:#0000ff;stroke:#0000ff;\" x=\"357.1185\" xlink:href=\"#m9171851886\" y=\"40.591399\"/>\n     <use style=\"fill:#0000ff;stroke:#0000ff;\" x=\"190.992727\" xlink:href=\"#m9171851886\" y=\"188.552299\"/>\n     <use style=\"fill:#0000ff;stroke:#0000ff;\" x=\"241.609243\" xlink:href=\"#m9171851886\" y=\"40.591399\"/>\n    </g>\n   </g>\n   <g id=\"line2d_17\">\n    <g clip-path=\"url(#p9fa7476f2c)\">\n     <use style=\"fill:#0000ff;stroke:#0000ff;\" x=\"198.767039\" xlink:href=\"#m9171851886\" y=\"188.552299\"/>\n     <use style=\"fill:#0000ff;stroke:#0000ff;\" x=\"141.053909\" xlink:href=\"#m9171851886\" y=\"40.591399\"/>\n     <use style=\"fill:#0000ff;stroke:#0000ff;\" x=\"236.875457\" xlink:href=\"#m9171851886\" y=\"188.552299\"/>\n     <use style=\"fill:#0000ff;stroke:#0000ff;\" x=\"153.714315\" xlink:href=\"#m9171851886\" y=\"188.552299\"/>\n     <use style=\"fill:#0000ff;stroke:#0000ff;\" x=\"159.517206\" xlink:href=\"#m9171851886\" y=\"188.552299\"/>\n     <use style=\"fill:#0000ff;stroke:#0000ff;\" x=\"117.788317\" xlink:href=\"#m9171851886\" y=\"40.591399\"/>\n     <use style=\"fill:#0000ff;stroke:#0000ff;\" x=\"231.93399\" xlink:href=\"#m9171851886\" y=\"188.552299\"/>\n     <use style=\"fill:#0000ff;stroke:#0000ff;\" x=\"247.627482\" xlink:href=\"#m9171851886\" y=\"188.552299\"/>\n     <use style=\"fill:#0000ff;stroke:#0000ff;\" x=\"169.055819\" xlink:href=\"#m9171851886\" y=\"40.591399\"/>\n     <use style=\"fill:#0000ff;stroke:#0000ff;\" x=\"129.544126\" xlink:href=\"#m9171851886\" y=\"40.591399\"/>\n     <use style=\"fill:#0000ff;stroke:#0000ff;\" x=\"190.954968\" xlink:href=\"#m9171851886\" y=\"188.552299\"/>\n     <use style=\"fill:#0000ff;stroke:#0000ff;\" x=\"157.214851\" xlink:href=\"#m9171851886\" y=\"40.591399\"/>\n     <use style=\"fill:#0000ff;stroke:#0000ff;\" x=\"127.90289\" xlink:href=\"#m9171851886\" y=\"40.591399\"/>\n     <use style=\"fill:#0000ff;stroke:#0000ff;\" x=\"261.286887\" xlink:href=\"#m9171851886\" y=\"188.552299\"/>\n     <use style=\"fill:#0000ff;stroke:#0000ff;\" x=\"221.815597\" xlink:href=\"#m9171851886\" y=\"188.552299\"/>\n     <use style=\"fill:#0000ff;stroke:#0000ff;\" x=\"242.79438\" xlink:href=\"#m9171851886\" y=\"188.552299\"/>\n     <use style=\"fill:#0000ff;stroke:#0000ff;\" x=\"200.535802\" xlink:href=\"#m9171851886\" y=\"188.552299\"/>\n     <use style=\"fill:#0000ff;stroke:#0000ff;\" x=\"178.250406\" xlink:href=\"#m9171851886\" y=\"188.552299\"/>\n     <use style=\"fill:#0000ff;stroke:#0000ff;\" x=\"117.814674\" xlink:href=\"#m9171851886\" y=\"40.591399\"/>\n     <use style=\"fill:#0000ff;stroke:#0000ff;\" x=\"166.760596\" xlink:href=\"#m9171851886\" y=\"40.591399\"/>\n     <use style=\"fill:#0000ff;stroke:#0000ff;\" x=\"198.968723\" xlink:href=\"#m9171851886\" y=\"40.591399\"/>\n     <use style=\"fill:#0000ff;stroke:#0000ff;\" x=\"191.706454\" xlink:href=\"#m9171851886\" y=\"40.591399\"/>\n     <use style=\"fill:#0000ff;stroke:#0000ff;\" x=\"251.93196\" xlink:href=\"#m9171851886\" y=\"188.552299\"/>\n     <use style=\"fill:#0000ff;stroke:#0000ff;\" x=\"154.236501\" xlink:href=\"#m9171851886\" y=\"40.591399\"/>\n     <use style=\"fill:#0000ff;stroke:#0000ff;\" x=\"147.956334\" xlink:href=\"#m9171851886\" y=\"40.591399\"/>\n     <use style=\"fill:#0000ff;stroke:#0000ff;\" x=\"205.965003\" xlink:href=\"#m9171851886\" y=\"188.552299\"/>\n     <use style=\"fill:#0000ff;stroke:#0000ff;\" x=\"213.674617\" xlink:href=\"#m9171851886\" y=\"188.552299\"/>\n     <use style=\"fill:#0000ff;stroke:#0000ff;\" x=\"106.774467\" xlink:href=\"#m9171851886\" y=\"40.591399\"/>\n     <use style=\"fill:#0000ff;stroke:#0000ff;\" x=\"134.192667\" xlink:href=\"#m9171851886\" y=\"40.591399\"/>\n     <use style=\"fill:#0000ff;stroke:#0000ff;\" x=\"223.558668\" xlink:href=\"#m9171851886\" y=\"188.552299\"/>\n     <use style=\"fill:#0000ff;stroke:#0000ff;\" x=\"123.540016\" xlink:href=\"#m9171851886\" y=\"40.591399\"/>\n     <use style=\"fill:#0000ff;stroke:#0000ff;\" x=\"120.747492\" xlink:href=\"#m9171851886\" y=\"40.591399\"/>\n     <use style=\"fill:#0000ff;stroke:#0000ff;\" x=\"244.400866\" xlink:href=\"#m9171851886\" y=\"188.552299\"/>\n     <use style=\"fill:#0000ff;stroke:#0000ff;\" x=\"127.410711\" xlink:href=\"#m9171851886\" y=\"40.591399\"/>\n     <use style=\"fill:#0000ff;stroke:#0000ff;\" x=\"232.524456\" xlink:href=\"#m9171851886\" y=\"188.552299\"/>\n     <use style=\"fill:#0000ff;stroke:#0000ff;\" x=\"216.243031\" xlink:href=\"#m9171851886\" y=\"40.591399\"/>\n     <use style=\"fill:#0000ff;stroke:#0000ff;\" x=\"246.289377\" xlink:href=\"#m9171851886\" y=\"188.552299\"/>\n     <use style=\"fill:#0000ff;stroke:#0000ff;\" x=\"104.55682\" xlink:href=\"#m9171851886\" y=\"40.591399\"/>\n     <use style=\"fill:#0000ff;stroke:#0000ff;\" x=\"200.840824\" xlink:href=\"#m9171851886\" y=\"188.552299\"/>\n     <use style=\"fill:#0000ff;stroke:#0000ff;\" x=\"240.775491\" xlink:href=\"#m9171851886\" y=\"188.552299\"/>\n     <use style=\"fill:#0000ff;stroke:#0000ff;\" x=\"201.961255\" xlink:href=\"#m9171851886\" y=\"40.591399\"/>\n     <use style=\"fill:#0000ff;stroke:#0000ff;\" x=\"217.083576\" xlink:href=\"#m9171851886\" y=\"188.552299\"/>\n     <use style=\"fill:#0000ff;stroke:#0000ff;\" x=\"203.318534\" xlink:href=\"#m9171851886\" y=\"40.591399\"/>\n     <use style=\"fill:#0000ff;stroke:#0000ff;\" x=\"210.308235\" xlink:href=\"#m9171851886\" y=\"188.552299\"/>\n     <use style=\"fill:#0000ff;stroke:#0000ff;\" x=\"165.698822\" xlink:href=\"#m9171851886\" y=\"188.552299\"/>\n     <use style=\"fill:#0000ff;stroke:#0000ff;\" x=\"153.748933\" xlink:href=\"#m9171851886\" y=\"40.591399\"/>\n     <use style=\"fill:#0000ff;stroke:#0000ff;\" x=\"117.871506\" xlink:href=\"#m9171851886\" y=\"40.591399\"/>\n     <use style=\"fill:#0000ff;stroke:#0000ff;\" x=\"138.398796\" xlink:href=\"#m9171851886\" y=\"40.591399\"/>\n     <use style=\"fill:#0000ff;stroke:#0000ff;\" x=\"205.250969\" xlink:href=\"#m9171851886\" y=\"40.591399\"/>\n     <use style=\"fill:#0000ff;stroke:#0000ff;\" x=\"250.502639\" xlink:href=\"#m9171851886\" y=\"188.552299\"/>\n     <use style=\"fill:#0000ff;stroke:#0000ff;\" x=\"232.817617\" xlink:href=\"#m9171851886\" y=\"188.552299\"/>\n     <use style=\"fill:#0000ff;stroke:#0000ff;\" x=\"177.807995\" xlink:href=\"#m9171851886\" y=\"40.591399\"/>\n     <use style=\"fill:#0000ff;stroke:#0000ff;\" x=\"240.296144\" xlink:href=\"#m9171851886\" y=\"188.552299\"/>\n     <use style=\"fill:#0000ff;stroke:#0000ff;\" x=\"122.117478\" xlink:href=\"#m9171851886\" y=\"40.591399\"/>\n     <use style=\"fill:#0000ff;stroke:#0000ff;\" x=\"248.713421\" xlink:href=\"#m9171851886\" y=\"188.552299\"/>\n     <use style=\"fill:#0000ff;stroke:#0000ff;\" x=\"163.660206\" xlink:href=\"#m9171851886\" y=\"40.591399\"/>\n     <use style=\"fill:#0000ff;stroke:#0000ff;\" x=\"157.107828\" xlink:href=\"#m9171851886\" y=\"40.591399\"/>\n     <use style=\"fill:#0000ff;stroke:#0000ff;\" x=\"108.923773\" xlink:href=\"#m9171851886\" y=\"40.591399\"/>\n     <use style=\"fill:#0000ff;stroke:#0000ff;\" x=\"242.271035\" xlink:href=\"#m9171851886\" y=\"188.552299\"/>\n     <use style=\"fill:#0000ff;stroke:#0000ff;\" x=\"201.825388\" xlink:href=\"#m9171851886\" y=\"188.552299\"/>\n     <use style=\"fill:#0000ff;stroke:#0000ff;\" x=\"190.78347\" xlink:href=\"#m9171851886\" y=\"40.591399\"/>\n     <use style=\"fill:#0000ff;stroke:#0000ff;\" x=\"117.42464\" xlink:href=\"#m9171851886\" y=\"40.591399\"/>\n     <use style=\"fill:#0000ff;stroke:#0000ff;\" x=\"128.967976\" xlink:href=\"#m9171851886\" y=\"40.591399\"/>\n     <use style=\"fill:#0000ff;stroke:#0000ff;\" x=\"208.556138\" xlink:href=\"#m9171851886\" y=\"40.591399\"/>\n     <use style=\"fill:#0000ff;stroke:#0000ff;\" x=\"215.410337\" xlink:href=\"#m9171851886\" y=\"188.552299\"/>\n     <use style=\"fill:#0000ff;stroke:#0000ff;\" x=\"164.278556\" xlink:href=\"#m9171851886\" y=\"188.552299\"/>\n     <use style=\"fill:#0000ff;stroke:#0000ff;\" x=\"126.984691\" xlink:href=\"#m9171851886\" y=\"40.591399\"/>\n     <use style=\"fill:#0000ff;stroke:#0000ff;\" x=\"275.588577\" xlink:href=\"#m9171851886\" y=\"188.552299\"/>\n     <use style=\"fill:#0000ff;stroke:#0000ff;\" x=\"183.377821\" xlink:href=\"#m9171851886\" y=\"188.552299\"/>\n     <use style=\"fill:#0000ff;stroke:#0000ff;\" x=\"247.36967\" xlink:href=\"#m9171851886\" y=\"188.552299\"/>\n     <use style=\"fill:#0000ff;stroke:#0000ff;\" x=\"254.08914\" xlink:href=\"#m9171851886\" y=\"188.552299\"/>\n     <use style=\"fill:#0000ff;stroke:#0000ff;\" x=\"114.94404\" xlink:href=\"#m9171851886\" y=\"40.591399\"/>\n     <use style=\"fill:#0000ff;stroke:#0000ff;\" x=\"193.780477\" xlink:href=\"#m9171851886\" y=\"40.591399\"/>\n     <use style=\"fill:#0000ff;stroke:#0000ff;\" x=\"253.858566\" xlink:href=\"#m9171851886\" y=\"188.552299\"/>\n     <use style=\"fill:#0000ff;stroke:#0000ff;\" x=\"121.090612\" xlink:href=\"#m9171851886\" y=\"40.591399\"/>\n    </g>\n   </g>\n   <g id=\"line2d_18\">\n    <path clip-path=\"url(#p9fa7476f2c)\" d=\"M 253.629595 113.982197 \nL 329.348478 38.538783 \nL 222.842245 158.377431 \nL 248.565919 73.196218 \nL 53.700994 133.618874 \nL 302.91615 24.197161 \nL 93.077497 190.363124 \nL 210.267946 172.000281 \nL 334.7735 63.246036 \nL 328.999901 27.852372 \nL 76.053108 156.76921 \nL 173.410856 97.682855 \nL 208.847732 60.218017 \nL 165.128772 197.536246 \nL 222.299044 144.419483 \nL 128.275279 190.607601 \nL 248.056555 117.212096 \nL 90.509192 140.78583 \nL 253.848869 38.067238 \nL 335.55771 60.87411 \nL 175.182089 136.306813 \nL 166.850376 131.852974 \nL 173.356266 186.449033 \nL 166.585343 96.818079 \nL 189.750579 84.396941 \nL 74.251177 171.342199 \nL 244.171675 130.619484 \nL 281.976692 19.785601 \nL 186.99474 72.277881 \nL 66.423185 190.036456 \nL 227.654408 50.82326 \nL 208.34608 53.654897 \nL 155.670464 184.382756 \nL 300.10898 34.005533 \nL 101.23951 188.61331 \nL 358.064631 100.888784 \nL 198.063042 174.190338 \nL 253.101992 25.855259 \nL 255.081151 115.515764 \nL 184.609078 172.820101 \nL 156.201612 144.466589 \nL 223.764166 139.572123 \nL 347.492486 91.761572 \nL 242.78922 127.855243 \nL 71.327528 134.4374 \nL 338.138006 47.953981 \nL 257.694873 37.035258 \nL 179.520502 78.328077 \nL 356.225211 91.108155 \nL 180.545798 183.081067 \nL 93.960249 190.942003 \nL 176.388938 116.138485 \nL 109.900785 193.451487 \nL 201.31472 56.922634 \nL 106.797466 202.214218 \nL 160.677953 107.315071 \nL 341.271502 50.217112 \nL 263.171164 27.1059 \nL 221.747214 163.742122 \nL 70.995632 168.381965 \nL 350.934584 79.044843 \nL 287.577989 28.184382 \nL 322.629325 29.110109 \nL 162.740427 148.800987 \nL 74.476247 180.129053 \nL 265.500321 78.316603 \nL 220.948647 55.943125 \nL 142.017734 217.458328 \nL 244.382866 102.171524 \nL 124.200625 196.044439 \nL 152.116093 194.463697 \nL 276.260053 29.053635 \nL 357.1185 80.108142 \nL 190.992727 183.277776 \nL 241.609243 44.590492 \n\" style=\"fill:none;stroke:#ff0000;stroke-linecap:square;stroke-width:1.5;\"/>\n   </g>\n   <g id=\"line2d_19\">\n    <path clip-path=\"url(#p9fa7476f2c)\" d=\"M 198.767039 113.982197 \nL 141.053909 38.538783 \nL 236.875457 158.377431 \nL 153.714315 73.196218 \nL 159.517206 133.618874 \nL 117.788317 24.197161 \nL 231.93399 190.363124 \nL 247.627482 172.000281 \nL 169.055819 63.246036 \nL 129.544126 27.852372 \nL 190.954968 156.76921 \nL 157.214851 97.682855 \nL 127.90289 60.218017 \nL 261.286887 197.536246 \nL 221.815597 144.419483 \nL 242.79438 190.607601 \nL 200.535802 117.212096 \nL 178.250406 140.78583 \nL 117.814674 38.067238 \nL 166.760596 60.87411 \nL 198.968723 136.306813 \nL 191.706454 131.852974 \nL 251.93196 186.449033 \nL 154.236501 96.818079 \nL 147.956334 84.396941 \nL 205.965003 171.342199 \nL 213.674617 130.619484 \nL 106.774467 19.785601 \nL 134.192667 72.277881 \nL 223.558668 190.036456 \nL 123.540016 50.82326 \nL 120.747492 53.654897 \nL 244.400866 184.382756 \nL 127.410711 34.005533 \nL 232.524456 188.61331 \nL 216.243031 100.888784 \nL 246.289377 174.190338 \nL 104.55682 25.855259 \nL 200.840824 115.515764 \nL 240.775491 172.820101 \nL 201.961255 144.466589 \nL 217.083576 139.572123 \nL 203.318534 91.761572 \nL 210.308235 127.855243 \nL 165.698822 134.4374 \nL 153.748933 47.953981 \nL 117.871506 37.035258 \nL 138.398796 78.328077 \nL 205.250969 91.108155 \nL 250.502639 183.081067 \nL 232.817617 190.942003 \nL 177.807995 116.138485 \nL 240.296144 193.451487 \nL 122.117478 56.922634 \nL 248.713421 202.214218 \nL 163.660206 107.315071 \nL 157.107828 50.217112 \nL 108.923773 27.1059 \nL 242.271035 163.742122 \nL 201.825388 168.381965 \nL 190.78347 79.044843 \nL 117.42464 28.184382 \nL 128.967976 29.110109 \nL 208.556138 148.800987 \nL 215.410337 180.129053 \nL 164.278556 78.316603 \nL 126.984691 55.943125 \nL 275.588577 217.458328 \nL 183.377821 102.171524 \nL 247.36967 196.044439 \nL 254.08914 194.463697 \nL 114.94404 29.053635 \nL 193.780477 80.108142 \nL 253.858566 183.277776 \nL 121.090612 44.590492 \n\" style=\"fill:none;stroke:#ff0000;stroke-linecap:square;stroke-width:1.5;\"/>\n   </g>\n   <g id=\"patch_3\">\n    <path d=\"M 38.482813 227.341965 \nL 38.482813 9.901965 \n\" style=\"fill:none;stroke:#000000;stroke-linecap:square;stroke-linejoin:miter;stroke-width:0.8;\"/>\n   </g>\n   <g id=\"patch_4\">\n    <path d=\"M 373.282813 227.341965 \nL 373.282813 9.901965 \n\" style=\"fill:none;stroke:#000000;stroke-linecap:square;stroke-linejoin:miter;stroke-width:0.8;\"/>\n   </g>\n   <g id=\"patch_5\">\n    <path d=\"M 38.482812 227.341965 \nL 373.282812 227.341965 \n\" style=\"fill:none;stroke:#000000;stroke-linecap:square;stroke-linejoin:miter;stroke-width:0.8;\"/>\n   </g>\n   <g id=\"patch_6\">\n    <path d=\"M 38.482812 9.901965 \nL 373.282812 9.901965 \n\" style=\"fill:none;stroke:#000000;stroke-linecap:square;stroke-linejoin:miter;stroke-width:0.8;\"/>\n   </g>\n  </g>\n </g>\n <defs>\n  <clipPath id=\"p9fa7476f2c\">\n   <rect height=\"217.44\" width=\"334.8\" x=\"38.482813\" y=\"9.901965\"/>\n  </clipPath>\n </defs>\n</svg>\n",
      "image/png": "[encoded data removed]"
     },
     "metadata": {
      "needs_background": "light"
     }
    }
   ],
   "source": [
    "from sklearn.datasets import make_regression\n",
    "from sklearn.linear_model import LinearRegression\n",
    "\n",
    "\n",
    "\n",
    "regression = LinearRegression()\n",
    "regression.fit(features, targets)\n",
    "predictions = regression.predict(features)\n",
    "\n",
    "plt.plot(features, targets, 'b.')\n",
    "plt.plot(features, predictions, 'r-')\n",
    "plt.show()"
   ]
  },
  {
   "cell_type": "markdown",
   "metadata": {
    "colab_type": "text",
    "id": "GYzxy7UeofmQ"
   },
   "source": [
    "At this point, don't worry too much about the details of what `LinearRegression` is doing. There is a deep-dive into regression problems coming up soon.\n",
    "\n",
    "For now, just note the `fit`/`predict` pattern for training estimators, and know that you'll see it throughout our adventures with scikit-learn."
   ]
  },
  {
   "cell_type": "markdown",
   "metadata": {
    "colab_type": "text",
    "id": "6DgmveIfo6g9"
   },
   "source": [
    "### Transformers\n",
    "\n",
    "In practice, it is rare that you will get perfectly clean data that is ready to feed into your model for training. Most of the time, you will need to perform some type of cleaning on the data first.\n",
    "\n",
    "You've had some hands-on experience doing this in our Pandas Colabs. Scikit-learn can also be used to perform some data preprocessing.\n",
    "\n",
    "Transformers are spread about within the scikit-learn library. Some are in the [preprocessing](https://scikit-learn.org/stable/modules/classes.html#module-sklearn.preprocessing) module while others are in more specialized packages like [compose](https://scikit-learn.org/stable/modules/classes.html#module-sklearn.compose), [feature_extraction](https://scikit-learn.org/stable/modules/classes.html#module-sklearn.feature_extraction), [impute](https://scikit-learn.org/stable/modules/classes.html#module-sklearn.impute), and others.\n",
    "\n",
    "All transformers implement the `fit` and `transform` methods. The `fit` method calculates parameters necessary to perform the data transformation. The `transform` method actually applies the transformation. There is a convenience `fit_transform` method that performs both fitting and transformation in one method call."
   ]
  },
  {
   "cell_type": "markdown",
   "metadata": {
    "colab_type": "text",
    "id": "pTgwqMxuPmPA"
   },
   "source": [
    "Let's see a transformer in action.\n",
    "\n",
    "We will use the [MinMaxScaler](https://scikit-learn.org/stable/modules/generated/sklearn.preprocessing.MinMaxScaler.html#sklearn.preprocessing.MinMaxScaler) to scale our feature data between zero and one. This scales the data with a linear transform so that the minimum value becomes 0 and the maximum value becomes 1, so all values are within 0 and 1.\n",
    "\n",
    "Looking at our feature data pre-transformation, we can see values that are below zero and above one."
   ]
  },
  {
   "cell_type": "code",
   "execution_count": 118,
   "metadata": {
    "colab": {},
    "colab_type": "code",
    "id": "I-LZHd6LP60G"
   },
   "outputs": [
    {
     "output_type": "execute_result",
     "data": {
      "text/plain": [
       "array([[ 0.97754808,  0.39475539],\n",
       "       [ 1.78189288, -0.21831832],\n",
       "       [ 0.65050093,  0.79957261],\n",
       "       [ 0.92375778, -0.08382965],\n",
       "       [-1.14624884, -0.02218683],\n",
       "       [ 1.50110815, -0.46546351],\n",
       "       [-0.72796104,  0.74708051],\n",
       "       [ 0.51692696,  0.91378898],\n",
       "       [ 1.83952168,  0.07913973],\n",
       "       [ 1.77819003, -0.34058417],\n",
       "       [-0.90880732,  0.3117695 ],\n",
       "       [ 0.12540232, -0.04664424],\n",
       "       [ 0.50184033, -0.35801865],\n",
       "       [ 0.03742358,  1.05888979],\n",
       "       [ 0.64473063,  0.63959507],\n",
       "       [-0.35406285,  0.86244801],\n",
       "       [ 0.91834691,  0.41354456],\n",
       "       [-0.75524357,  0.17681177],\n",
       "       [ 0.97987738, -0.46518352],\n",
       "       [ 1.84785216,  0.05475808],\n",
       "       [ 0.14421773,  0.39689783],\n",
       "       [ 0.05571179,  0.31975237],\n",
       "       [ 0.12482242,  0.95951448],\n",
       "       [ 0.05289641, -0.07828259],\n",
       "       [ 0.29897555, -0.14499539],\n",
       "       [-0.92794884,  0.47121775],\n",
       "       [ 0.8770787 ,  0.55311527],\n",
       "       [ 1.27867297, -0.58246118],\n",
       "       [ 0.26970088, -0.29120376],\n",
       "       [-1.01110384,  0.65811134],\n",
       "       [ 0.70161947, -0.40436449],\n",
       "       [ 0.49651141, -0.43402886],\n",
       "       [-0.06304992,  0.87951334],\n",
       "       [ 1.47128822, -0.36324696],\n",
       "       [-0.6412578 ,  0.75335289],\n",
       "       [ 2.08693816,  0.58039895],\n",
       "       [ 0.38727698,  0.89957458],\n",
       "       [ 0.97194347, -0.60601875],\n",
       "       [ 0.99296764,  0.41678474],\n",
       "       [ 0.24435852,  0.8410018 ],\n",
       "       [-0.05740765,  0.42868683],\n",
       "       [ 0.66029429,  0.58932787],\n",
       "       [ 1.97463263,  0.4431049 ],\n",
       "       [ 0.86239319,  0.51735494],\n",
       "       [-0.9590061 ,  0.0434791 ],\n",
       "       [ 1.87526207, -0.08346191],\n",
       "       [ 1.02073262, -0.46457981],\n",
       "       [ 0.19030372, -0.24652299],\n",
       "       [ 2.06739842,  0.46363273],\n",
       "       [ 0.20119521,  0.94433112],\n",
       "       [-0.71858376,  0.75646708],\n",
       "       [ 0.15703781,  0.17211214],\n",
       "       [-0.549251  ,  0.8359098 ],\n",
       "       [ 0.42181883, -0.4194758 ],\n",
       "       [-0.58221687,  0.92532465],\n",
       "       [-0.00985648,  0.02182334],\n",
       "       [ 1.9085485 , -0.04778112],\n",
       "       [ 1.07890604, -0.55962958],\n",
       "       [ 0.63886865,  0.85688863],\n",
       "       [-0.96253176,  0.42724354],\n",
       "       [ 2.01119727,  0.30994771],\n",
       "       [ 1.3381743 , -0.46932677],\n",
       "       [ 1.71051682, -0.34670448],\n",
       "       [ 0.01205272,  0.4987428 ],\n",
       "       [-0.92555797,  0.57155343],\n",
       "       [ 1.10364816,  0.02839193],\n",
       "       [ 0.63038566, -0.36777248],\n",
       "       [-0.20807982,  1.21081344],\n",
       "       [ 0.87932214,  0.23127916],\n",
       "       [-0.39734699,  0.91105029],\n",
       "       [-0.1008072 ,  0.98242972],\n",
       "       [ 1.21794638, -0.49567763],\n",
       "       [ 2.07688762,  0.34178425],\n",
       "       [ 0.31217061,  0.97998039],\n",
       "       [ 0.84985857, -0.43038397]])"
      ]
     },
     "metadata": {},
     "execution_count": 118
    }
   ],
   "source": [
    "features"
   ]
  },
  {
   "cell_type": "markdown",
   "metadata": {
    "colab_type": "text",
    "id": "FyPTAg2JP9xO"
   },
   "source": [
    "We will now create a `MinMaxScaler` and fit it to our feature data.\n",
    "\n",
    "Each transformer has different information that it needs in order to perform a transformation. In the case of the `MinMaxScaler`, the smallest and largest values in the data are needed."
   ]
  },
  {
   "cell_type": "code",
   "execution_count": 123,
   "metadata": {
    "colab": {},
    "colab_type": "code",
    "id": "4O9ZSNZdOg9J"
   },
   "outputs": [
    {
     "output_type": "execute_result",
     "data": {
      "text/plain": [
       "(array([0., 0.]), array([1., 1.]))"
      ]
     },
     "metadata": {},
     "execution_count": 123
    }
   ],
   "source": [
    "from sklearn.preprocessing import MinMaxScaler\n",
    "\n",
    "transformer = MinMaxScaler()\n",
    "transformer.fit(features)\n",
    "\n",
    "\n",
    "\n",
    "#arrays correspond to one feature\n",
    "transformer.data_min_, transformer.data_max_"
   ]
  },
  {
   "cell_type": "markdown",
   "metadata": {
    "colab_type": "text",
    "id": "QoxuBVpFQmOP"
   },
   "source": [
    "You might notice that the values are stored in arrays. This is because transformers can operate on more than one feature. In this case, however, we have only one."
   ]
  },
  {
   "cell_type": "markdown",
   "metadata": {
    "colab_type": "text",
    "id": "xDS2hECWQvRi"
   },
   "source": [
    "Next, we need to apply the transformation to our features. After the transformation, we can now see that all of the features fall between the range of zero to one. Moreover, you might notice that the minimum and maximum value in the untransformed `features` array correspond to the 0 and 1 in the transformed array, respectively."
   ]
  },
  {
   "cell_type": "code",
   "execution_count": 124,
   "metadata": {
    "colab": {},
    "colab_type": "code",
    "id": "j_xYLozNQxrP"
   },
   "outputs": [
    {
     "output_type": "execute_result",
     "data": {
      "text/plain": [
       "array([[0.65687414, 0.55083466],\n",
       "       [0.90565183, 0.21339364],\n",
       "       [0.55572095, 0.77364952],\n",
       "       [0.64023721, 0.28741735],\n",
       "       [0.        , 0.32134609],\n",
       "       [0.81880726, 0.07736281],\n",
       "       [0.12937322, 0.74475742],\n",
       "       [0.51440755, 0.83651519],\n",
       "       [0.92347597, 0.37711709],\n",
       "       [0.90450656, 0.14609746],\n",
       "       [0.07343884, 0.50515851],\n",
       "       [0.39331197, 0.30788452],\n",
       "       [0.50974137, 0.13650137],\n",
       "       [0.36610082, 0.91637992],\n",
       "       [0.55393625, 0.68559652],\n",
       "       [0.24501706, 0.80825668],\n",
       "       [0.63856367, 0.56117638],\n",
       "       [0.12093494, 0.43087662],\n",
       "       [0.65759457, 0.07751691],\n",
       "       [0.92605253, 0.36369723],\n",
       "       [0.39913144, 0.55201387],\n",
       "       [0.37175723, 0.50955235],\n",
       "       [0.39313261, 0.8616829 ],\n",
       "       [0.37088645, 0.2904705 ],\n",
       "       [0.44699684, 0.2537512 ],\n",
       "       [0.06751852, 0.59292019],\n",
       "       [0.62579973, 0.63799729],\n",
       "       [0.75000976, 0.01296629],\n",
       "       [0.43794241, 0.17327686],\n",
       "       [0.04179931, 0.69578803],\n",
       "       [0.57153153, 0.11099223],\n",
       "       [0.50809317, 0.09466471],\n",
       "       [0.33502514, 0.81764959],\n",
       "       [0.80958418, 0.13362367],\n",
       "       [0.15618987, 0.7482098 ],\n",
       "       [1.        , 0.65301446],\n",
       "       [0.4743078 , 0.82869146],\n",
       "       [0.65514067, 0.        ],\n",
       "       [0.66164329, 0.5629598 ],\n",
       "       [0.43010422, 0.7964525 ],\n",
       "       [0.33677025, 0.56951081],\n",
       "       [0.55874997, 0.65792902],\n",
       "       [0.96526476, 0.57744664],\n",
       "       [0.62125761, 0.6183145 ],\n",
       "       [0.05791275, 0.35748918],\n",
       "       [0.9345302 , 0.28761976],\n",
       "       [0.67023078, 0.0778492 ],\n",
       "       [0.41338548, 0.19786954],\n",
       "       [0.99395651, 0.58874533],\n",
       "       [0.41675413, 0.85332585],\n",
       "       [0.13227354, 0.74992387],\n",
       "       [0.40309659, 0.4282899 ],\n",
       "       [0.18464686, 0.79364982],\n",
       "       [0.48499133, 0.10267484],\n",
       "       [0.17445077, 0.84286453],\n",
       "       [0.35147746, 0.34556966],\n",
       "       [0.94482544, 0.30725877],\n",
       "       [0.68822338, 0.02553299],\n",
       "       [0.55212318, 0.80519675],\n",
       "       [0.05682229, 0.56871641],\n",
       "       [0.97657392, 0.50415579],\n",
       "       [0.76841307, 0.07523643],\n",
       "       [0.88357576, 0.14272879],\n",
       "       [0.35825381, 0.60807022],\n",
       "       [0.068258  , 0.64814581],\n",
       "       [0.69587592, 0.34918507],\n",
       "       [0.54949946, 0.13113279],\n",
       "       [0.2901685 , 1.        ],\n",
       "       [0.6264936 , 0.46085594],\n",
       "       [0.23162961, 0.83500779],\n",
       "       [0.3233471 , 0.87429564],\n",
       "       [0.73122749, 0.0607327 ],\n",
       "       [0.99689145, 0.52167889],\n",
       "       [0.45107798, 0.87294751],\n",
       "       [0.61738075, 0.09667088]])"
      ]
     },
     "metadata": {},
     "execution_count": 124
    }
   ],
   "source": [
    "features = transformer.transform(features)\n",
    "features"
   ]
  },
  {
   "cell_type": "markdown",
   "metadata": {
    "colab_type": "text",
    "id": "0UPfbF0CQ-lI"
   },
   "source": [
    "### Pipelines\n",
    "\n",
    "A [pipeline](https://scikit-learn.org/stable/modules/classes.html#module-sklearn.pipeline) is simply a series of transformers, often with an estimator at the end."
   ]
  },
  {
   "cell_type": "markdown",
   "metadata": {
    "colab_type": "text",
    "id": "l0O6u-_2TfAj"
   },
   "source": [
    "In the example below, we use a [Pipeline](https://scikit-learn.org/stable/modules/generated/sklearn.pipeline.Pipeline.html) class to perform min-max scaling or our feature data and then train a linear regression model using the scaled features."
   ]
  },
  {
   "cell_type": "code",
   "execution_count": 125,
   "metadata": {
    "colab": {},
    "colab_type": "code",
    "id": "4p2o-I2fSG1O"
   },
   "outputs": [
    {
     "output_type": "display_data",
     "data": {
      "text/plain": "<Figure size 432x288 with 1 Axes>",
      "image/svg+xml": "<?xml version=\"1.0\" encoding=\"utf-8\" standalone=\"no\"?>\n<!DOCTYPE svg PUBLIC \"-//W3C//DTD SVG 1.1//EN\"\n  \"http://www.w3.org/Graphics/SVG/1.1/DTD/svg11.dtd\">\n<!-- Created with matplotlib (https://matplotlib.org/) -->\n<svg height=\"248.518125pt\" version=\"1.1\" viewBox=\"0 0 377.304687 248.518125\" width=\"377.304687pt\" xmlns=\"http://www.w3.org/2000/svg\" xmlns:xlink=\"http://www.w3.org/1999/xlink\">\n <metadata>\n  <rdf:RDF xmlns:cc=\"http://creativecommons.org/ns#\" xmlns:dc=\"http://purl.org/dc/elements/1.1/\" xmlns:rdf=\"http://www.w3.org/1999/02/22-rdf-syntax-ns#\">\n   <cc:Work>\n    <dc:type rdf:resource=\"http://purl.org/dc/dcmitype/StillImage\"/>\n    <dc:date>2021-06-21T13:53:02.818097</dc:date>\n    <dc:format>image/svg+xml</dc:format>\n    <dc:creator>\n     <cc:Agent>\n      <dc:title>Matplotlib v3.3.2, https://matplotlib.org/</dc:title>\n     </cc:Agent>\n    </dc:creator>\n   </cc:Work>\n  </rdf:RDF>\n </metadata>\n <defs>\n  <style type=\"text/css\">*{stroke-linecap:butt;stroke-linejoin:round;}</style>\n </defs>\n <g id=\"figure_1\">\n  <g id=\"patch_1\">\n   <path d=\"M 0 248.518125 \nL 377.304687 248.518125 \nL 377.304687 0 \nL 0 0 \nz\n\" style=\"fill:none;\"/>\n  </g>\n  <g id=\"axes_1\">\n   <g id=\"patch_2\">\n    <path d=\"M 35.304688 224.64 \nL 370.104688 224.64 \nL 370.104688 7.2 \nL 35.304688 7.2 \nz\n\" style=\"fill:#ffffff;\"/>\n   </g>\n   <g id=\"matplotlib.axis_1\">\n    <g id=\"xtick_1\">\n     <g id=\"line2d_1\">\n      <defs>\n       <path d=\"M 0 0 \nL 0 3.5 \n\" id=\"mc2cd004e34\" style=\"stroke:#000000;stroke-width:0.8;\"/>\n      </defs>\n      <g>\n       <use style=\"stroke:#000000;stroke-width:0.8;\" x=\"45.987825\" xlink:href=\"#mc2cd004e34\" y=\"224.64\"/>\n      </g>\n     </g>\n     <g id=\"text_1\">\n      <!-- −0.5 -->\n      <g transform=\"translate(33.846419 239.238437)scale(0.1 -0.1)\">\n       <defs>\n        <path d=\"M 10.59375 35.5 \nL 73.1875 35.5 \nL 73.1875 27.203125 \nL 10.59375 27.203125 \nz\n\" id=\"DejaVuSans-8722\"/>\n        <path d=\"M 31.78125 66.40625 \nQ 24.171875 66.40625 20.328125 58.90625 \nQ 16.5 51.421875 16.5 36.375 \nQ 16.5 21.390625 20.328125 13.890625 \nQ 24.171875 6.390625 31.78125 6.390625 \nQ 39.453125 6.390625 43.28125 13.890625 \nQ 47.125 21.390625 47.125 36.375 \nQ 47.125 51.421875 43.28125 58.90625 \nQ 39.453125 66.40625 31.78125 66.40625 \nz\nM 31.78125 74.21875 \nQ 44.046875 74.21875 50.515625 64.515625 \nQ 56.984375 54.828125 56.984375 36.375 \nQ 56.984375 17.96875 50.515625 8.265625 \nQ 44.046875 -1.421875 31.78125 -1.421875 \nQ 19.53125 -1.421875 13.0625 8.265625 \nQ 6.59375 17.96875 6.59375 36.375 \nQ 6.59375 54.828125 13.0625 64.515625 \nQ 19.53125 74.21875 31.78125 74.21875 \nz\n\" id=\"DejaVuSans-48\"/>\n        <path d=\"M 10.6875 12.40625 \nL 21 12.40625 \nL 21 0 \nL 10.6875 0 \nz\n\" id=\"DejaVuSans-46\"/>\n        <path d=\"M 10.796875 72.90625 \nL 49.515625 72.90625 \nL 49.515625 64.59375 \nL 19.828125 64.59375 \nL 19.828125 46.734375 \nQ 21.96875 47.46875 24.109375 47.828125 \nQ 26.265625 48.1875 28.421875 48.1875 \nQ 40.625 48.1875 47.75 41.5 \nQ 54.890625 34.8125 54.890625 23.390625 \nQ 54.890625 11.625 47.5625 5.09375 \nQ 40.234375 -1.421875 26.90625 -1.421875 \nQ 22.3125 -1.421875 17.546875 -0.640625 \nQ 12.796875 0.140625 7.71875 1.703125 \nL 7.71875 11.625 \nQ 12.109375 9.234375 16.796875 8.0625 \nQ 21.484375 6.890625 26.703125 6.890625 \nQ 35.15625 6.890625 40.078125 11.328125 \nQ 45.015625 15.765625 45.015625 23.390625 \nQ 45.015625 31 40.078125 35.4375 \nQ 35.15625 39.890625 26.703125 39.890625 \nQ 22.75 39.890625 18.8125 39.015625 \nQ 14.890625 38.140625 10.796875 36.28125 \nz\n\" id=\"DejaVuSans-53\"/>\n       </defs>\n       <use xlink:href=\"#DejaVuSans-8722\"/>\n       <use x=\"83.789062\" xlink:href=\"#DejaVuSans-48\"/>\n       <use x=\"147.412109\" xlink:href=\"#DejaVuSans-46\"/>\n       <use x=\"179.199219\" xlink:href=\"#DejaVuSans-53\"/>\n      </g>\n     </g>\n    </g>\n    <g id=\"xtick_2\">\n     <g id=\"line2d_2\">\n      <g>\n       <use style=\"stroke:#000000;stroke-width:0.8;\" x=\"120.270428\" xlink:href=\"#mc2cd004e34\" y=\"224.64\"/>\n      </g>\n     </g>\n     <g id=\"text_2\">\n      <!-- 0.0 -->\n      <g transform=\"translate(112.318866 239.238437)scale(0.1 -0.1)\">\n       <use xlink:href=\"#DejaVuSans-48\"/>\n       <use x=\"63.623047\" xlink:href=\"#DejaVuSans-46\"/>\n       <use x=\"95.410156\" xlink:href=\"#DejaVuSans-48\"/>\n      </g>\n     </g>\n    </g>\n    <g id=\"xtick_3\">\n     <g id=\"line2d_3\">\n      <g>\n       <use style=\"stroke:#000000;stroke-width:0.8;\" x=\"194.553031\" xlink:href=\"#mc2cd004e34\" y=\"224.64\"/>\n      </g>\n     </g>\n     <g id=\"text_3\">\n      <!-- 0.5 -->\n      <g transform=\"translate(186.601469 239.238437)scale(0.1 -0.1)\">\n       <use xlink:href=\"#DejaVuSans-48\"/>\n       <use x=\"63.623047\" xlink:href=\"#DejaVuSans-46\"/>\n       <use x=\"95.410156\" xlink:href=\"#DejaVuSans-53\"/>\n      </g>\n     </g>\n    </g>\n    <g id=\"xtick_4\">\n     <g id=\"line2d_4\">\n      <g>\n       <use style=\"stroke:#000000;stroke-width:0.8;\" x=\"268.835634\" xlink:href=\"#mc2cd004e34\" y=\"224.64\"/>\n      </g>\n     </g>\n     <g id=\"text_4\">\n      <!-- 1.0 -->\n      <g transform=\"translate(260.884072 239.238437)scale(0.1 -0.1)\">\n       <defs>\n        <path d=\"M 12.40625 8.296875 \nL 28.515625 8.296875 \nL 28.515625 63.921875 \nL 10.984375 60.40625 \nL 10.984375 69.390625 \nL 28.421875 72.90625 \nL 38.28125 72.90625 \nL 38.28125 8.296875 \nL 54.390625 8.296875 \nL 54.390625 0 \nL 12.40625 0 \nz\n\" id=\"DejaVuSans-49\"/>\n       </defs>\n       <use xlink:href=\"#DejaVuSans-49\"/>\n       <use x=\"63.623047\" xlink:href=\"#DejaVuSans-46\"/>\n       <use x=\"95.410156\" xlink:href=\"#DejaVuSans-48\"/>\n      </g>\n     </g>\n    </g>\n    <g id=\"xtick_5\">\n     <g id=\"line2d_5\">\n      <g>\n       <use style=\"stroke:#000000;stroke-width:0.8;\" x=\"343.118237\" xlink:href=\"#mc2cd004e34\" y=\"224.64\"/>\n      </g>\n     </g>\n     <g id=\"text_5\">\n      <!-- 1.5 -->\n      <g transform=\"translate(335.166675 239.238437)scale(0.1 -0.1)\">\n       <use xlink:href=\"#DejaVuSans-49\"/>\n       <use x=\"63.623047\" xlink:href=\"#DejaVuSans-46\"/>\n       <use x=\"95.410156\" xlink:href=\"#DejaVuSans-53\"/>\n      </g>\n     </g>\n    </g>\n   </g>\n   <g id=\"matplotlib.axis_2\">\n    <g id=\"ytick_1\">\n     <g id=\"line2d_6\">\n      <defs>\n       <path d=\"M 0 0 \nL -3.5 0 \n\" id=\"mb135e6b003\" style=\"stroke:#000000;stroke-width:0.8;\"/>\n      </defs>\n      <g>\n       <use style=\"stroke:#000000;stroke-width:0.8;\" x=\"35.304688\" xlink:href=\"#mb135e6b003\" y=\"199.049438\"/>\n      </g>\n     </g>\n     <g id=\"text_6\">\n      <!-- −10 -->\n      <g transform=\"translate(7.2 202.848657)scale(0.1 -0.1)\">\n       <use xlink:href=\"#DejaVuSans-8722\"/>\n       <use x=\"83.789062\" xlink:href=\"#DejaVuSans-49\"/>\n       <use x=\"147.412109\" xlink:href=\"#DejaVuSans-48\"/>\n      </g>\n     </g>\n    </g>\n    <g id=\"ytick_2\">\n     <g id=\"line2d_7\">\n      <g>\n       <use style=\"stroke:#000000;stroke-width:0.8;\" x=\"35.304688\" xlink:href=\"#mb135e6b003\" y=\"156.177802\"/>\n      </g>\n     </g>\n     <g id=\"text_7\">\n      <!-- 0 -->\n      <g transform=\"translate(21.942188 159.977021)scale(0.1 -0.1)\">\n       <use xlink:href=\"#DejaVuSans-48\"/>\n      </g>\n     </g>\n    </g>\n    <g id=\"ytick_3\">\n     <g id=\"line2d_8\">\n      <g>\n       <use style=\"stroke:#000000;stroke-width:0.8;\" x=\"35.304688\" xlink:href=\"#mb135e6b003\" y=\"113.306166\"/>\n      </g>\n     </g>\n     <g id=\"text_8\">\n      <!-- 10 -->\n      <g transform=\"translate(15.579688 117.105385)scale(0.1 -0.1)\">\n       <use xlink:href=\"#DejaVuSans-49\"/>\n       <use x=\"63.623047\" xlink:href=\"#DejaVuSans-48\"/>\n      </g>\n     </g>\n    </g>\n    <g id=\"ytick_4\">\n     <g id=\"line2d_9\">\n      <g>\n       <use style=\"stroke:#000000;stroke-width:0.8;\" x=\"35.304688\" xlink:href=\"#mb135e6b003\" y=\"70.434531\"/>\n      </g>\n     </g>\n     <g id=\"text_9\">\n      <!-- 20 -->\n      <g transform=\"translate(15.579688 74.23375)scale(0.1 -0.1)\">\n       <defs>\n        <path d=\"M 19.1875 8.296875 \nL 53.609375 8.296875 \nL 53.609375 0 \nL 7.328125 0 \nL 7.328125 8.296875 \nQ 12.9375 14.109375 22.625 23.890625 \nQ 32.328125 33.6875 34.8125 36.53125 \nQ 39.546875 41.84375 41.421875 45.53125 \nQ 43.3125 49.21875 43.3125 52.78125 \nQ 43.3125 58.59375 39.234375 62.25 \nQ 35.15625 65.921875 28.609375 65.921875 \nQ 23.96875 65.921875 18.8125 64.3125 \nQ 13.671875 62.703125 7.8125 59.421875 \nL 7.8125 69.390625 \nQ 13.765625 71.78125 18.9375 73 \nQ 24.125 74.21875 28.421875 74.21875 \nQ 39.75 74.21875 46.484375 68.546875 \nQ 53.21875 62.890625 53.21875 53.421875 \nQ 53.21875 48.921875 51.53125 44.890625 \nQ 49.859375 40.875 45.40625 35.40625 \nQ 44.1875 33.984375 37.640625 27.21875 \nQ 31.109375 20.453125 19.1875 8.296875 \nz\n\" id=\"DejaVuSans-50\"/>\n       </defs>\n       <use xlink:href=\"#DejaVuSans-50\"/>\n       <use x=\"63.623047\" xlink:href=\"#DejaVuSans-48\"/>\n      </g>\n     </g>\n    </g>\n    <g id=\"ytick_5\">\n     <g id=\"line2d_10\">\n      <g>\n       <use style=\"stroke:#000000;stroke-width:0.8;\" x=\"35.304688\" xlink:href=\"#mb135e6b003\" y=\"27.562895\"/>\n      </g>\n     </g>\n     <g id=\"text_10\">\n      <!-- 30 -->\n      <g transform=\"translate(15.579688 31.362114)scale(0.1 -0.1)\">\n       <defs>\n        <path d=\"M 40.578125 39.3125 \nQ 47.65625 37.796875 51.625 33 \nQ 55.609375 28.21875 55.609375 21.1875 \nQ 55.609375 10.40625 48.1875 4.484375 \nQ 40.765625 -1.421875 27.09375 -1.421875 \nQ 22.515625 -1.421875 17.65625 -0.515625 \nQ 12.796875 0.390625 7.625 2.203125 \nL 7.625 11.71875 \nQ 11.71875 9.328125 16.59375 8.109375 \nQ 21.484375 6.890625 26.8125 6.890625 \nQ 36.078125 6.890625 40.9375 10.546875 \nQ 45.796875 14.203125 45.796875 21.1875 \nQ 45.796875 27.640625 41.28125 31.265625 \nQ 36.765625 34.90625 28.71875 34.90625 \nL 20.21875 34.90625 \nL 20.21875 43.015625 \nL 29.109375 43.015625 \nQ 36.375 43.015625 40.234375 45.921875 \nQ 44.09375 48.828125 44.09375 54.296875 \nQ 44.09375 59.90625 40.109375 62.90625 \nQ 36.140625 65.921875 28.71875 65.921875 \nQ 24.65625 65.921875 20.015625 65.03125 \nQ 15.375 64.15625 9.8125 62.3125 \nL 9.8125 71.09375 \nQ 15.4375 72.65625 20.34375 73.4375 \nQ 25.25 74.21875 29.59375 74.21875 \nQ 40.828125 74.21875 47.359375 69.109375 \nQ 53.90625 64.015625 53.90625 55.328125 \nQ 53.90625 49.265625 50.4375 45.09375 \nQ 46.96875 40.921875 40.578125 39.3125 \nz\n\" id=\"DejaVuSans-51\"/>\n       </defs>\n       <use xlink:href=\"#DejaVuSans-51\"/>\n       <use x=\"63.623047\" xlink:href=\"#DejaVuSans-48\"/>\n      </g>\n     </g>\n    </g>\n   </g>\n   <g id=\"line2d_11\">\n    <defs>\n     <path d=\"M 0 1.5 \nC 0.397805 1.5 0.77937 1.341951 1.06066 1.06066 \nC 1.341951 0.77937 1.5 0.397805 1.5 0 \nC 1.5 -0.397805 1.341951 -0.77937 1.06066 -1.06066 \nC 0.77937 -1.341951 0.397805 -1.5 0 -1.5 \nC -0.397805 -1.5 -0.77937 -1.341951 -1.06066 -1.06066 \nC -1.341951 -0.77937 -1.5 -0.397805 -1.5 0 \nC -1.5 0.397805 -1.341951 0.77937 -1.06066 1.06066 \nC -0.77937 1.341951 -0.397805 1.5 0 1.5 \nz\n\" id=\"mf764546599\" style=\"stroke:#0000ff;\"/>\n    </defs>\n    <g clip-path=\"url(#pcba7b17da4)\">\n     <use style=\"fill:#0000ff;stroke:#0000ff;\" x=\"99.729164\" xlink:href=\"#mf764546599\" y=\"186.764161\"/>\n     <use style=\"fill:#0000ff;stroke:#0000ff;\" x=\"50.522869\" xlink:href=\"#mf764546599\" y=\"207.850708\"/>\n     <use style=\"fill:#0000ff;stroke:#0000ff;\" x=\"234.284527\" xlink:href=\"#mf764546599\" y=\"112.269336\"/>\n     <use style=\"fill:#0000ff;stroke:#0000ff;\" x=\"85.485823\" xlink:href=\"#mf764546599\" y=\"207.094619\"/>\n     <use style=\"fill:#0000ff;stroke:#0000ff;\" x=\"85.483384\" xlink:href=\"#mf764546599\" y=\"156.929203\"/>\n     <use style=\"fill:#0000ff;stroke:#0000ff;\" x=\"200.875973\" xlink:href=\"#mf764546599\" y=\"159.74904\"/>\n     <use style=\"fill:#0000ff;stroke:#0000ff;\" x=\"194.064869\" xlink:href=\"#mf764546599\" y=\"129.706271\"/>\n     <use style=\"fill:#0000ff;stroke:#0000ff;\" x=\"346.539673\" xlink:href=\"#mf764546599\" y=\"17.083636\"/>\n     <use style=\"fill:#0000ff;stroke:#0000ff;\" x=\"354.886506\" xlink:href=\"#mf764546599\" y=\"42.251568\"/>\n     <use style=\"fill:#0000ff;stroke:#0000ff;\" x=\"216.494409\" xlink:href=\"#mf764546599\" y=\"161.691739\"/>\n    </g>\n   </g>\n   <g id=\"line2d_12\">\n    <path clip-path=\"url(#pcba7b17da4)\" d=\"M 99.729164 187.099195 \nL 50.522869 214.756364 \nL 234.284527 111.470245 \nL 85.485823 195.104888 \nL 85.483384 195.106259 \nL 200.875973 130.248046 \nL 194.064869 134.076334 \nL 346.539673 48.375481 \nL 354.886506 43.684013 \nL 216.494409 121.469459 \n\" style=\"fill:none;stroke:#ff0000;stroke-linecap:square;stroke-width:1.5;\"/>\n   </g>\n   <g id=\"patch_3\">\n    <path d=\"M 35.304688 224.64 \nL 35.304688 7.2 \n\" style=\"fill:none;stroke:#000000;stroke-linecap:square;stroke-linejoin:miter;stroke-width:0.8;\"/>\n   </g>\n   <g id=\"patch_4\">\n    <path d=\"M 370.104688 224.64 \nL 370.104688 7.2 \n\" style=\"fill:none;stroke:#000000;stroke-linecap:square;stroke-linejoin:miter;stroke-width:0.8;\"/>\n   </g>\n   <g id=\"patch_5\">\n    <path d=\"M 35.304688 224.64 \nL 370.104687 224.64 \n\" style=\"fill:none;stroke:#000000;stroke-linecap:square;stroke-linejoin:miter;stroke-width:0.8;\"/>\n   </g>\n   <g id=\"patch_6\">\n    <path d=\"M 35.304688 7.2 \nL 370.104687 7.2 \n\" style=\"fill:none;stroke:#000000;stroke-linecap:square;stroke-linejoin:miter;stroke-width:0.8;\"/>\n   </g>\n  </g>\n </g>\n <defs>\n  <clipPath id=\"pcba7b17da4\">\n   <rect height=\"217.44\" width=\"334.8\" x=\"35.304688\" y=\"7.2\"/>\n  </clipPath>\n </defs>\n</svg>\n",
      "image/png": "[encoded data removed]"
     },
     "metadata": {
      "needs_background": "light"
     }
    }
   ],
   "source": [
    "from sklearn.pipeline import Pipeline\n",
    "features, targets = make_regression(\n",
    "    n_samples=10, n_features=1, random_state=42, noise=5.0)\n",
    "\n",
    "pipeline = Pipeline([\n",
    "  ('scale', MinMaxScaler()),\n",
    "  ('regression', LinearRegression())\n",
    "])\n",
    "\n",
    "pipeline.fit(features, targets)\n",
    "\n",
    "predictions = pipeline.predict(features)\n",
    "\n",
    "plt.plot(features, targets, 'b.')\n",
    "plt.plot(features, predictions, 'r-')\n",
    "plt.show()"
   ]
  },
  {
   "cell_type": "markdown",
   "metadata": {
    "colab_type": "text",
    "id": "prTIe6_GUkm9"
   },
   "source": [
    "### Metrics\n",
    "\n",
    "So far we have seen ways that scikit-learn can help you get data, modify that data, train a model, and finally, make predictions. But how do we know how good these predictions are?\n",
    "\n",
    "Scikit-learn also comes with many functions for measuring model performance in the [metrics](https://scikit-learn.org/stable/modules/classes.html#sklearn-metrics-metrics) package. Later in this course, you will learn about different ways to measure the performance of regression and classification models, as well as tradeoffs between the different metrics."
   ]
  },
  {
   "cell_type": "markdown",
   "metadata": {
    "colab_type": "text",
    "id": "AWi3wKw_cYbN"
   },
   "source": [
    "We can use the [mean_squared_error](https://scikit-learn.org/stable/modules/generated/sklearn.metrics.mean_squared_error.html) function to find the mean squared error (MSE) between the target values that we used to train our linear regression model and the predicted values."
   ]
  },
  {
   "cell_type": "code",
   "execution_count": 0,
   "metadata": {
    "colab": {},
    "colab_type": "code",
    "id": "tLs7G3oWaJBd"
   },
   "outputs": [],
   "source": [
    "from sklearn.metrics import mean_squared_error\n",
    "\n",
    "mean_squared_error(targets, predictions)"
   ]
  },
  {
   "cell_type": "markdown",
   "metadata": {
    "colab_type": "text",
    "id": "7xZORiurbb4D"
   },
   "source": [
    "In this case, the MSE value alone doesn't have much meaning. Since the data that we fit the regression to isn't related to any real-world metrics, the MSE is hard to interpret alone.\n",
    "\n",
    "As we learn more about machine learning and begin training models on real data, you'll learn how to interpret MSE and other metrics in the context of the data being analyzed and the problem being solved."
   ]
  },
  {
   "cell_type": "markdown",
   "metadata": {
    "colab_type": "text",
    "id": "yvBWBvc9cyRN"
   },
   "source": [
    "There are also metrics that come with each estimator class. These metrics can be extracted using the `score` method.\n",
    "\n",
    "The `regression` class we created earlier can be scored, as can the `pipeline`."
   ]
  },
  {
   "cell_type": "code",
   "execution_count": 0,
   "metadata": {
    "colab": {},
    "colab_type": "code",
    "id": "b2vz0Y__cQT3"
   },
   "outputs": [],
   "source": [
    "print(regression.score(features, targets))\n",
    "print(pipeline.score(features, targets))"
   ]
  },
  {
   "cell_type": "markdown",
   "metadata": {
    "colab_type": "text",
    "id": "kfEBzfm9dSce"
   },
   "source": [
    "The return value of the `score` method depends on the estimator being used. In the case of `LinearRegression`, the score is the $R^2$ score, where scores closer to 1.0 are better. You can find the metric that `score` returns in the [documentation](https://scikit-learn.org/stable/modules/generated/sklearn.linear_model.LinearRegression.html#sklearn.linear_model.LinearRegression.score) for the given estimator you're using."
   ]
  },
  {
   "cell_type": "markdown",
   "metadata": {
    "colab_type": "text",
    "id": "UQhscobnqFdc"
   },
   "source": [
    "### Exercise 4"
   ]
  },
  {
   "cell_type": "markdown",
   "metadata": {
    "colab_type": "text",
    "id": "VLNgam9WoQc8"
   },
   "source": [
    "Use the [Pipeline](https://scikit-learn.org/stable/modules/generated/sklearn.pipeline.Pipeline.html) class to combine a data pre-processor and an estimator.\n",
    "\n",
    "To accomplish this:\n",
    "\n",
    "1. Find a [preprocessor](https://scikit-learn.org/stable/modules/classes.html#module-sklearn.preprocessing) that uses the max absolute value for scaling.\n",
    "1. Find a [linear_model](https://scikit-learn.org/stable/modules/classes.html#module-sklearn.linear_model) based on the Huber algorithm.\n",
    "1. Combine this preprocessor and estimator into a pipeline.\n",
    "1. Make a sample regression dataset with 200 samples and 1 feature. Use a random state of 85 and a noise of 5.0. Save the features in a variable called `features` and the targets in a variable called `targets`.\n",
    "1. Fit the model.\n",
    "1. Using the features that were created when the regression dataset was created, make predictions with the model and save them into a variable called `predictions`.\n",
    "1. Plot the features and targets used to train the model on a scatterplot with blue dots.\n",
    "1. Plot the features and predictions over the scatterplot as a red line."
   ]
  },
  {
   "cell_type": "markdown",
   "metadata": {
    "colab_type": "text",
    "id": "aAidCrO3-PtA"
   },
   "source": [
    "#### **Student Solution**"
   ]
  },
  {
   "cell_type": "code",
   "execution_count": 139,
   "metadata": {
    "colab": {},
    "colab_type": "code",
    "id": "EgEaukESqHpm"
   },
   "outputs": [
    {
     "output_type": "display_data",
     "data": {
      "text/plain": "<Figure size 432x288 with 1 Axes>",
      "image/svg+xml": "<?xml version=\"1.0\" encoding=\"utf-8\" standalone=\"no\"?>\n<!DOCTYPE svg PUBLIC \"-//W3C//DTD SVG 1.1//EN\"\n  \"http://www.w3.org/Graphics/SVG/1.1/DTD/svg11.dtd\">\n<!-- Created with matplotlib (https://matplotlib.org/) -->\n<svg height=\"251.242266pt\" version=\"1.1\" viewBox=\"0 0 377.304687 251.242266\" width=\"377.304687pt\" xmlns=\"http://www.w3.org/2000/svg\" xmlns:xlink=\"http://www.w3.org/1999/xlink\">\n <metadata>\n  <rdf:RDF xmlns:cc=\"http://creativecommons.org/ns#\" xmlns:dc=\"http://purl.org/dc/elements/1.1/\" xmlns:rdf=\"http://www.w3.org/1999/02/22-rdf-syntax-ns#\">\n   <cc:Work>\n    <dc:type rdf:resource=\"http://purl.org/dc/dcmitype/StillImage\"/>\n    <dc:date>2021-06-21T14:12:03.787663</dc:date>\n    <dc:format>image/svg+xml</dc:format>\n    <dc:creator>\n     <cc:Agent>\n      <dc:title>Matplotlib v3.3.2, https://matplotlib.org/</dc:title>\n     </cc:Agent>\n    </dc:creator>\n   </cc:Work>\n  </rdf:RDF>\n </metadata>\n <defs>\n  <style type=\"text/css\">*{stroke-linecap:butt;stroke-linejoin:round;}</style>\n </defs>\n <g id=\"figure_1\">\n  <g id=\"patch_1\">\n   <path d=\"M 0 251.242266 \nL 377.304687 251.242266 \nL 377.304687 0 \nL 0 0 \nz\n\" style=\"fill:none;\"/>\n  </g>\n  <g id=\"axes_1\">\n   <g id=\"patch_2\">\n    <path d=\"M 35.304688 227.364141 \nL 370.104688 227.364141 \nL 370.104688 9.924141 \nL 35.304688 9.924141 \nz\n\" style=\"fill:#ffffff;\"/>\n   </g>\n   <g id=\"matplotlib.axis_1\">\n    <g id=\"xtick_1\">\n     <g id=\"line2d_1\">\n      <defs>\n       <path d=\"M 0 0 \nL 0 3.5 \n\" id=\"mfa6dc81b38\" style=\"stroke:#000000;stroke-width:0.8;\"/>\n      </defs>\n      <g>\n       <use style=\"stroke:#000000;stroke-width:0.8;\" x=\"79.620804\" xlink:href=\"#mfa6dc81b38\" y=\"227.364141\"/>\n      </g>\n     </g>\n     <g id=\"text_1\">\n      <!-- −2 -->\n      <g transform=\"translate(72.24971 241.962579)scale(0.1 -0.1)\">\n       <defs>\n        <path d=\"M 10.59375 35.5 \nL 73.1875 35.5 \nL 73.1875 27.203125 \nL 10.59375 27.203125 \nz\n\" id=\"DejaVuSans-8722\"/>\n        <path d=\"M 19.1875 8.296875 \nL 53.609375 8.296875 \nL 53.609375 0 \nL 7.328125 0 \nL 7.328125 8.296875 \nQ 12.9375 14.109375 22.625 23.890625 \nQ 32.328125 33.6875 34.8125 36.53125 \nQ 39.546875 41.84375 41.421875 45.53125 \nQ 43.3125 49.21875 43.3125 52.78125 \nQ 43.3125 58.59375 39.234375 62.25 \nQ 35.15625 65.921875 28.609375 65.921875 \nQ 23.96875 65.921875 18.8125 64.3125 \nQ 13.671875 62.703125 7.8125 59.421875 \nL 7.8125 69.390625 \nQ 13.765625 71.78125 18.9375 73 \nQ 24.125 74.21875 28.421875 74.21875 \nQ 39.75 74.21875 46.484375 68.546875 \nQ 53.21875 62.890625 53.21875 53.421875 \nQ 53.21875 48.921875 51.53125 44.890625 \nQ 49.859375 40.875 45.40625 35.40625 \nQ 44.1875 33.984375 37.640625 27.21875 \nQ 31.109375 20.453125 19.1875 8.296875 \nz\n\" id=\"DejaVuSans-50\"/>\n       </defs>\n       <use xlink:href=\"#DejaVuSans-8722\"/>\n       <use x=\"83.789062\" xlink:href=\"#DejaVuSans-50\"/>\n      </g>\n     </g>\n    </g>\n    <g id=\"xtick_2\">\n     <g id=\"line2d_2\">\n      <g>\n       <use style=\"stroke:#000000;stroke-width:0.8;\" x=\"139.297213\" xlink:href=\"#mfa6dc81b38\" y=\"227.364141\"/>\n      </g>\n     </g>\n     <g id=\"text_2\">\n      <!-- −1 -->\n      <g transform=\"translate(131.926119 241.962579)scale(0.1 -0.1)\">\n       <defs>\n        <path d=\"M 12.40625 8.296875 \nL 28.515625 8.296875 \nL 28.515625 63.921875 \nL 10.984375 60.40625 \nL 10.984375 69.390625 \nL 28.421875 72.90625 \nL 38.28125 72.90625 \nL 38.28125 8.296875 \nL 54.390625 8.296875 \nL 54.390625 0 \nL 12.40625 0 \nz\n\" id=\"DejaVuSans-49\"/>\n       </defs>\n       <use xlink:href=\"#DejaVuSans-8722\"/>\n       <use x=\"83.789062\" xlink:href=\"#DejaVuSans-49\"/>\n      </g>\n     </g>\n    </g>\n    <g id=\"xtick_3\">\n     <g id=\"line2d_3\">\n      <g>\n       <use style=\"stroke:#000000;stroke-width:0.8;\" x=\"198.973623\" xlink:href=\"#mfa6dc81b38\" y=\"227.364141\"/>\n      </g>\n     </g>\n     <g id=\"text_3\">\n      <!-- 0 -->\n      <g transform=\"translate(195.792373 241.962579)scale(0.1 -0.1)\">\n       <defs>\n        <path d=\"M 31.78125 66.40625 \nQ 24.171875 66.40625 20.328125 58.90625 \nQ 16.5 51.421875 16.5 36.375 \nQ 16.5 21.390625 20.328125 13.890625 \nQ 24.171875 6.390625 31.78125 6.390625 \nQ 39.453125 6.390625 43.28125 13.890625 \nQ 47.125 21.390625 47.125 36.375 \nQ 47.125 51.421875 43.28125 58.90625 \nQ 39.453125 66.40625 31.78125 66.40625 \nz\nM 31.78125 74.21875 \nQ 44.046875 74.21875 50.515625 64.515625 \nQ 56.984375 54.828125 56.984375 36.375 \nQ 56.984375 17.96875 50.515625 8.265625 \nQ 44.046875 -1.421875 31.78125 -1.421875 \nQ 19.53125 -1.421875 13.0625 8.265625 \nQ 6.59375 17.96875 6.59375 36.375 \nQ 6.59375 54.828125 13.0625 64.515625 \nQ 19.53125 74.21875 31.78125 74.21875 \nz\n\" id=\"DejaVuSans-48\"/>\n       </defs>\n       <use xlink:href=\"#DejaVuSans-48\"/>\n      </g>\n     </g>\n    </g>\n    <g id=\"xtick_4\">\n     <g id=\"line2d_4\">\n      <g>\n       <use style=\"stroke:#000000;stroke-width:0.8;\" x=\"258.650032\" xlink:href=\"#mfa6dc81b38\" y=\"227.364141\"/>\n      </g>\n     </g>\n     <g id=\"text_4\">\n      <!-- 1 -->\n      <g transform=\"translate(255.468782 241.962579)scale(0.1 -0.1)\">\n       <use xlink:href=\"#DejaVuSans-49\"/>\n      </g>\n     </g>\n    </g>\n    <g id=\"xtick_5\">\n     <g id=\"line2d_5\">\n      <g>\n       <use style=\"stroke:#000000;stroke-width:0.8;\" x=\"318.326442\" xlink:href=\"#mfa6dc81b38\" y=\"227.364141\"/>\n      </g>\n     </g>\n     <g id=\"text_5\">\n      <!-- 2 -->\n      <g transform=\"translate(315.145192 241.962579)scale(0.1 -0.1)\">\n       <use xlink:href=\"#DejaVuSans-50\"/>\n      </g>\n     </g>\n    </g>\n   </g>\n   <g id=\"matplotlib.axis_2\">\n    <g id=\"ytick_1\">\n     <g id=\"line2d_6\">\n      <defs>\n       <path d=\"M 0 0 \nL -3.5 0 \n\" id=\"m6fc1d75353\" style=\"stroke:#000000;stroke-width:0.8;\"/>\n      </defs>\n      <g>\n       <use style=\"stroke:#000000;stroke-width:0.8;\" x=\"35.304688\" xlink:href=\"#m6fc1d75353\" y=\"225.684798\"/>\n      </g>\n     </g>\n     <g id=\"text_6\">\n      <!-- −20 -->\n      <g transform=\"translate(7.2 229.484016)scale(0.1 -0.1)\">\n       <use xlink:href=\"#DejaVuSans-8722\"/>\n       <use x=\"83.789062\" xlink:href=\"#DejaVuSans-50\"/>\n       <use x=\"147.412109\" xlink:href=\"#DejaVuSans-48\"/>\n      </g>\n     </g>\n    </g>\n    <g id=\"ytick_2\">\n     <g id=\"line2d_7\">\n      <g>\n       <use style=\"stroke:#000000;stroke-width:0.8;\" x=\"35.304688\" xlink:href=\"#m6fc1d75353\" y=\"198.8491\"/>\n      </g>\n     </g>\n     <g id=\"text_7\">\n      <!-- −15 -->\n      <g transform=\"translate(7.2 202.648319)scale(0.1 -0.1)\">\n       <defs>\n        <path d=\"M 10.796875 72.90625 \nL 49.515625 72.90625 \nL 49.515625 64.59375 \nL 19.828125 64.59375 \nL 19.828125 46.734375 \nQ 21.96875 47.46875 24.109375 47.828125 \nQ 26.265625 48.1875 28.421875 48.1875 \nQ 40.625 48.1875 47.75 41.5 \nQ 54.890625 34.8125 54.890625 23.390625 \nQ 54.890625 11.625 47.5625 5.09375 \nQ 40.234375 -1.421875 26.90625 -1.421875 \nQ 22.3125 -1.421875 17.546875 -0.640625 \nQ 12.796875 0.140625 7.71875 1.703125 \nL 7.71875 11.625 \nQ 12.109375 9.234375 16.796875 8.0625 \nQ 21.484375 6.890625 26.703125 6.890625 \nQ 35.15625 6.890625 40.078125 11.328125 \nQ 45.015625 15.765625 45.015625 23.390625 \nQ 45.015625 31 40.078125 35.4375 \nQ 35.15625 39.890625 26.703125 39.890625 \nQ 22.75 39.890625 18.8125 39.015625 \nQ 14.890625 38.140625 10.796875 36.28125 \nz\n\" id=\"DejaVuSans-53\"/>\n       </defs>\n       <use xlink:href=\"#DejaVuSans-8722\"/>\n       <use x=\"83.789062\" xlink:href=\"#DejaVuSans-49\"/>\n       <use x=\"147.412109\" xlink:href=\"#DejaVuSans-53\"/>\n      </g>\n     </g>\n    </g>\n    <g id=\"ytick_3\">\n     <g id=\"line2d_8\">\n      <g>\n       <use style=\"stroke:#000000;stroke-width:0.8;\" x=\"35.304688\" xlink:href=\"#m6fc1d75353\" y=\"172.013403\"/>\n      </g>\n     </g>\n     <g id=\"text_8\">\n      <!-- −10 -->\n      <g transform=\"translate(7.2 175.812622)scale(0.1 -0.1)\">\n       <use xlink:href=\"#DejaVuSans-8722\"/>\n       <use x=\"83.789062\" xlink:href=\"#DejaVuSans-49\"/>\n       <use x=\"147.412109\" xlink:href=\"#DejaVuSans-48\"/>\n      </g>\n     </g>\n    </g>\n    <g id=\"ytick_4\">\n     <g id=\"line2d_9\">\n      <g>\n       <use style=\"stroke:#000000;stroke-width:0.8;\" x=\"35.304688\" xlink:href=\"#m6fc1d75353\" y=\"145.177705\"/>\n      </g>\n     </g>\n     <g id=\"text_9\">\n      <!-- −5 -->\n      <g transform=\"translate(13.5625 148.976924)scale(0.1 -0.1)\">\n       <use xlink:href=\"#DejaVuSans-8722\"/>\n       <use x=\"83.789062\" xlink:href=\"#DejaVuSans-53\"/>\n      </g>\n     </g>\n    </g>\n    <g id=\"ytick_5\">\n     <g id=\"line2d_10\">\n      <g>\n       <use style=\"stroke:#000000;stroke-width:0.8;\" x=\"35.304688\" xlink:href=\"#m6fc1d75353\" y=\"118.342008\"/>\n      </g>\n     </g>\n     <g id=\"text_10\">\n      <!-- 0 -->\n      <g transform=\"translate(21.942188 122.141227)scale(0.1 -0.1)\">\n       <use xlink:href=\"#DejaVuSans-48\"/>\n      </g>\n     </g>\n    </g>\n    <g id=\"ytick_6\">\n     <g id=\"line2d_11\">\n      <g>\n       <use style=\"stroke:#000000;stroke-width:0.8;\" x=\"35.304688\" xlink:href=\"#m6fc1d75353\" y=\"91.506311\"/>\n      </g>\n     </g>\n     <g id=\"text_11\">\n      <!-- 5 -->\n      <g transform=\"translate(21.942188 95.30553)scale(0.1 -0.1)\">\n       <use xlink:href=\"#DejaVuSans-53\"/>\n      </g>\n     </g>\n    </g>\n    <g id=\"ytick_7\">\n     <g id=\"line2d_12\">\n      <g>\n       <use style=\"stroke:#000000;stroke-width:0.8;\" x=\"35.304688\" xlink:href=\"#m6fc1d75353\" y=\"64.670613\"/>\n      </g>\n     </g>\n     <g id=\"text_12\">\n      <!-- 10 -->\n      <g transform=\"translate(15.579688 68.469832)scale(0.1 -0.1)\">\n       <use xlink:href=\"#DejaVuSans-49\"/>\n       <use x=\"63.623047\" xlink:href=\"#DejaVuSans-48\"/>\n      </g>\n     </g>\n    </g>\n    <g id=\"ytick_8\">\n     <g id=\"line2d_13\">\n      <g>\n       <use style=\"stroke:#000000;stroke-width:0.8;\" x=\"35.304688\" xlink:href=\"#m6fc1d75353\" y=\"37.834916\"/>\n      </g>\n     </g>\n     <g id=\"text_13\">\n      <!-- 15 -->\n      <g transform=\"translate(15.579688 41.634135)scale(0.1 -0.1)\">\n       <use xlink:href=\"#DejaVuSans-49\"/>\n       <use x=\"63.623047\" xlink:href=\"#DejaVuSans-53\"/>\n      </g>\n     </g>\n    </g>\n    <g id=\"ytick_9\">\n     <g id=\"line2d_14\">\n      <g>\n       <use style=\"stroke:#000000;stroke-width:0.8;\" x=\"35.304688\" xlink:href=\"#m6fc1d75353\" y=\"10.999219\"/>\n      </g>\n     </g>\n     <g id=\"text_14\">\n      <!-- 20 -->\n      <g transform=\"translate(15.579688 14.798437)scale(0.1 -0.1)\">\n       <use xlink:href=\"#DejaVuSans-50\"/>\n       <use x=\"63.623047\" xlink:href=\"#DejaVuSans-48\"/>\n      </g>\n     </g>\n    </g>\n   </g>\n   <g id=\"line2d_15\">\n    <defs>\n     <path d=\"M 0 1.5 \nC 0.397805 1.5 0.77937 1.341951 1.06066 1.06066 \nC 1.341951 0.77937 1.5 0.397805 1.5 0 \nC 1.5 -0.397805 1.341951 -0.77937 1.06066 -1.06066 \nC 0.77937 -1.341951 0.397805 -1.5 0 -1.5 \nC -0.397805 -1.5 -0.77937 -1.341951 -1.06066 -1.06066 \nC -1.341951 -0.77937 -1.5 -0.397805 -1.5 0 \nC -1.5 0.397805 -1.341951 0.77937 -1.06066 1.06066 \nC -0.77937 1.341951 -0.397805 1.5 0 1.5 \nz\n\" id=\"m800bb257c9\" style=\"stroke:#0000ff;\"/>\n    </defs>\n    <g clip-path=\"url(#p4bfd0605dc)\">\n     <use style=\"fill:#0000ff;stroke:#0000ff;\" x=\"117.025434\" xlink:href=\"#m800bb257c9\" y=\"152.902673\"/>\n     <use style=\"fill:#0000ff;stroke:#0000ff;\" x=\"201.440014\" xlink:href=\"#m800bb257c9\" y=\"121.614321\"/>\n     <use style=\"fill:#0000ff;stroke:#0000ff;\" x=\"139.300276\" xlink:href=\"#m800bb257c9\" y=\"116.403088\"/>\n     <use style=\"fill:#0000ff;stroke:#0000ff;\" x=\"139.575415\" xlink:href=\"#m800bb257c9\" y=\"124.442914\"/>\n     <use style=\"fill:#0000ff;stroke:#0000ff;\" x=\"150.436861\" xlink:href=\"#m800bb257c9\" y=\"120.878024\"/>\n     <use style=\"fill:#0000ff;stroke:#0000ff;\" x=\"209.527439\" xlink:href=\"#m800bb257c9\" y=\"93.529539\"/>\n     <use style=\"fill:#0000ff;stroke:#0000ff;\" x=\"120.013822\" xlink:href=\"#m800bb257c9\" y=\"180.6322\"/>\n     <use style=\"fill:#0000ff;stroke:#0000ff;\" x=\"200.436712\" xlink:href=\"#m800bb257c9\" y=\"78.135517\"/>\n     <use style=\"fill:#0000ff;stroke:#0000ff;\" x=\"234.254346\" xlink:href=\"#m800bb257c9\" y=\"88.96322\"/>\n     <use style=\"fill:#0000ff;stroke:#0000ff;\" x=\"166.09505\" xlink:href=\"#m800bb257c9\" y=\"111.168439\"/>\n     <use style=\"fill:#0000ff;stroke:#0000ff;\" x=\"137.269365\" xlink:href=\"#m800bb257c9\" y=\"175.717736\"/>\n     <use style=\"fill:#0000ff;stroke:#0000ff;\" x=\"307.314637\" xlink:href=\"#m800bb257c9\" y=\"96.814125\"/>\n     <use style=\"fill:#0000ff;stroke:#0000ff;\" x=\"213.172616\" xlink:href=\"#m800bb257c9\" y=\"112.927501\"/>\n     <use style=\"fill:#0000ff;stroke:#0000ff;\" x=\"281.819406\" xlink:href=\"#m800bb257c9\" y=\"79.97172\"/>\n     <use style=\"fill:#0000ff;stroke:#0000ff;\" x=\"259.488957\" xlink:href=\"#m800bb257c9\" y=\"34.355551\"/>\n     <use style=\"fill:#0000ff;stroke:#0000ff;\" x=\"123.233905\" xlink:href=\"#m800bb257c9\" y=\"119.867697\"/>\n     <use style=\"fill:#0000ff;stroke:#0000ff;\" x=\"257.740434\" xlink:href=\"#m800bb257c9\" y=\"97.250108\"/>\n     <use style=\"fill:#0000ff;stroke:#0000ff;\" x=\"206.934198\" xlink:href=\"#m800bb257c9\" y=\"64.414488\"/>\n     <use style=\"fill:#0000ff;stroke:#0000ff;\" x=\"178.439424\" xlink:href=\"#m800bb257c9\" y=\"126.651969\"/>\n     <use style=\"fill:#0000ff;stroke:#0000ff;\" x=\"193.102135\" xlink:href=\"#m800bb257c9\" y=\"158.553686\"/>\n     <use style=\"fill:#0000ff;stroke:#0000ff;\" x=\"240.035244\" xlink:href=\"#m800bb257c9\" y=\"105.397766\"/>\n     <use style=\"fill:#0000ff;stroke:#0000ff;\" x=\"236.485177\" xlink:href=\"#m800bb257c9\" y=\"119.61055\"/>\n     <use style=\"fill:#0000ff;stroke:#0000ff;\" x=\"218.144739\" xlink:href=\"#m800bb257c9\" y=\"64.528624\"/>\n     <use style=\"fill:#0000ff;stroke:#0000ff;\" x=\"123.280537\" xlink:href=\"#m800bb257c9\" y=\"210.701532\"/>\n     <use style=\"fill:#0000ff;stroke:#0000ff;\" x=\"170.78565\" xlink:href=\"#m800bb257c9\" y=\"150.265304\"/>\n     <use style=\"fill:#0000ff;stroke:#0000ff;\" x=\"133.050252\" xlink:href=\"#m800bb257c9\" y=\"142.419858\"/>\n     <use style=\"fill:#0000ff;stroke:#0000ff;\" x=\"164.343391\" xlink:href=\"#m800bb257c9\" y=\"153.131001\"/>\n     <use style=\"fill:#0000ff;stroke:#0000ff;\" x=\"301.293715\" xlink:href=\"#m800bb257c9\" y=\"80.181285\"/>\n     <use style=\"fill:#0000ff;stroke:#0000ff;\" x=\"146.571267\" xlink:href=\"#m800bb257c9\" y=\"131.883975\"/>\n     <use style=\"fill:#0000ff;stroke:#0000ff;\" x=\"265.042765\" xlink:href=\"#m800bb257c9\" y=\"90.537609\"/>\n     <use style=\"fill:#0000ff;stroke:#0000ff;\" x=\"181.257204\" xlink:href=\"#m800bb257c9\" y=\"117.575814\"/>\n     <use style=\"fill:#0000ff;stroke:#0000ff;\" x=\"217.162587\" xlink:href=\"#m800bb257c9\" y=\"105.986536\"/>\n     <use style=\"fill:#0000ff;stroke:#0000ff;\" x=\"231.142237\" xlink:href=\"#m800bb257c9\" y=\"90.020282\"/>\n     <use style=\"fill:#0000ff;stroke:#0000ff;\" x=\"225.12636\" xlink:href=\"#m800bb257c9\" y=\"84.603038\"/>\n     <use style=\"fill:#0000ff;stroke:#0000ff;\" x=\"198.882305\" xlink:href=\"#m800bb257c9\" y=\"108.477431\"/>\n     <use style=\"fill:#0000ff;stroke:#0000ff;\" x=\"62.373093\" xlink:href=\"#m800bb257c9\" y=\"193.854701\"/>\n     <use style=\"fill:#0000ff;stroke:#0000ff;\" x=\"178.328599\" xlink:href=\"#m800bb257c9\" y=\"149.860876\"/>\n     <use style=\"fill:#0000ff;stroke:#0000ff;\" x=\"302.275914\" xlink:href=\"#m800bb257c9\" y=\"24.865706\"/>\n     <use style=\"fill:#0000ff;stroke:#0000ff;\" x=\"223.550772\" xlink:href=\"#m800bb257c9\" y=\"128.281507\"/>\n     <use style=\"fill:#0000ff;stroke:#0000ff;\" x=\"260.442545\" xlink:href=\"#m800bb257c9\" y=\"30.266675\"/>\n     <use style=\"fill:#0000ff;stroke:#0000ff;\" x=\"132.081776\" xlink:href=\"#m800bb257c9\" y=\"146.748856\"/>\n     <use style=\"fill:#0000ff;stroke:#0000ff;\" x=\"175.047887\" xlink:href=\"#m800bb257c9\" y=\"143.295094\"/>\n     <use style=\"fill:#0000ff;stroke:#0000ff;\" x=\"215.781017\" xlink:href=\"#m800bb257c9\" y=\"146.03109\"/>\n     <use style=\"fill:#0000ff;stroke:#0000ff;\" x=\"254.474307\" xlink:href=\"#m800bb257c9\" y=\"121.85858\"/>\n     <use style=\"fill:#0000ff;stroke:#0000ff;\" x=\"247.929404\" xlink:href=\"#m800bb257c9\" y=\"150.649131\"/>\n     <use style=\"fill:#0000ff;stroke:#0000ff;\" x=\"165.118964\" xlink:href=\"#m800bb257c9\" y=\"189.58035\"/>\n     <use style=\"fill:#0000ff;stroke:#0000ff;\" x=\"255.200582\" xlink:href=\"#m800bb257c9\" y=\"73.842138\"/>\n     <use style=\"fill:#0000ff;stroke:#0000ff;\" x=\"178.501395\" xlink:href=\"#m800bb257c9\" y=\"152.441773\"/>\n     <use style=\"fill:#0000ff;stroke:#0000ff;\" x=\"103.752471\" xlink:href=\"#m800bb257c9\" y=\"118.156881\"/>\n     <use style=\"fill:#0000ff;stroke:#0000ff;\" x=\"209.72671\" xlink:href=\"#m800bb257c9\" y=\"140.330123\"/>\n     <use style=\"fill:#0000ff;stroke:#0000ff;\" x=\"171.48717\" xlink:href=\"#m800bb257c9\" y=\"167.923037\"/>\n     <use style=\"fill:#0000ff;stroke:#0000ff;\" x=\"247.509018\" xlink:href=\"#m800bb257c9\" y=\"123.82052\"/>\n     <use style=\"fill:#0000ff;stroke:#0000ff;\" x=\"119.986787\" xlink:href=\"#m800bb257c9\" y=\"177.689291\"/>\n     <use style=\"fill:#0000ff;stroke:#0000ff;\" x=\"113.812515\" xlink:href=\"#m800bb257c9\" y=\"119.010374\"/>\n     <use style=\"fill:#0000ff;stroke:#0000ff;\" x=\"198.69465\" xlink:href=\"#m800bb257c9\" y=\"143.387695\"/>\n     <use style=\"fill:#0000ff;stroke:#0000ff;\" x=\"249.603375\" xlink:href=\"#m800bb257c9\" y=\"85.732096\"/>\n     <use style=\"fill:#0000ff;stroke:#0000ff;\" x=\"136.60445\" xlink:href=\"#m800bb257c9\" y=\"160.544446\"/>\n     <use style=\"fill:#0000ff;stroke:#0000ff;\" x=\"233.998357\" xlink:href=\"#m800bb257c9\" y=\"39.762111\"/>\n     <use style=\"fill:#0000ff;stroke:#0000ff;\" x=\"132.969901\" xlink:href=\"#m800bb257c9\" y=\"153.114598\"/>\n     <use style=\"fill:#0000ff;stroke:#0000ff;\" x=\"135.78003\" xlink:href=\"#m800bb257c9\" y=\"147.721347\"/>\n     <use style=\"fill:#0000ff;stroke:#0000ff;\" x=\"234.385912\" xlink:href=\"#m800bb257c9\" y=\"117.539459\"/>\n     <use style=\"fill:#0000ff;stroke:#0000ff;\" x=\"169.888408\" xlink:href=\"#m800bb257c9\" y=\"110.034313\"/>\n     <use style=\"fill:#0000ff;stroke:#0000ff;\" x=\"174.853307\" xlink:href=\"#m800bb257c9\" y=\"111.401658\"/>\n     <use style=\"fill:#0000ff;stroke:#0000ff;\" x=\"281.516682\" xlink:href=\"#m800bb257c9\" y=\"37.681023\"/>\n     <use style=\"fill:#0000ff;stroke:#0000ff;\" x=\"260.474858\" xlink:href=\"#m800bb257c9\" y=\"105.549442\"/>\n     <use style=\"fill:#0000ff;stroke:#0000ff;\" x=\"194.673266\" xlink:href=\"#m800bb257c9\" y=\"109.250429\"/>\n     <use style=\"fill:#0000ff;stroke:#0000ff;\" x=\"204.952912\" xlink:href=\"#m800bb257c9\" y=\"79.260111\"/>\n     <use style=\"fill:#0000ff;stroke:#0000ff;\" x=\"297.885274\" xlink:href=\"#m800bb257c9\" y=\"40.77961\"/>\n     <use style=\"fill:#0000ff;stroke:#0000ff;\" x=\"296.57769\" xlink:href=\"#m800bb257c9\" y=\"19.807778\"/>\n     <use style=\"fill:#0000ff;stroke:#0000ff;\" x=\"93.737616\" xlink:href=\"#m800bb257c9\" y=\"180.407538\"/>\n     <use style=\"fill:#0000ff;stroke:#0000ff;\" x=\"115.469285\" xlink:href=\"#m800bb257c9\" y=\"205.7604\"/>\n     <use style=\"fill:#0000ff;stroke:#0000ff;\" x=\"167.720025\" xlink:href=\"#m800bb257c9\" y=\"149.214739\"/>\n     <use style=\"fill:#0000ff;stroke:#0000ff;\" x=\"193.617425\" xlink:href=\"#m800bb257c9\" y=\"88.225902\"/>\n     <use style=\"fill:#0000ff;stroke:#0000ff;\" x=\"134.847323\" xlink:href=\"#m800bb257c9\" y=\"195.970032\"/>\n     <use style=\"fill:#0000ff;stroke:#0000ff;\" x=\"246.332004\" xlink:href=\"#m800bb257c9\" y=\"142.715023\"/>\n     <use style=\"fill:#0000ff;stroke:#0000ff;\" x=\"167.796394\" xlink:href=\"#m800bb257c9\" y=\"142.578442\"/>\n     <use style=\"fill:#0000ff;stroke:#0000ff;\" x=\"340.869452\" xlink:href=\"#m800bb257c9\" y=\"101.15874\"/>\n     <use style=\"fill:#0000ff;stroke:#0000ff;\" x=\"263.83316\" xlink:href=\"#m800bb257c9\" y=\"103.690254\"/>\n     <use style=\"fill:#0000ff;stroke:#0000ff;\" x=\"295.152195\" xlink:href=\"#m800bb257c9\" y=\"145.995546\"/>\n     <use style=\"fill:#0000ff;stroke:#0000ff;\" x=\"152.873545\" xlink:href=\"#m800bb257c9\" y=\"112.884244\"/>\n     <use style=\"fill:#0000ff;stroke:#0000ff;\" x=\"156.480593\" xlink:href=\"#m800bb257c9\" y=\"117.450429\"/>\n     <use style=\"fill:#0000ff;stroke:#0000ff;\" x=\"174.671076\" xlink:href=\"#m800bb257c9\" y=\"105.802823\"/>\n     <use style=\"fill:#0000ff;stroke:#0000ff;\" x=\"160.650804\" xlink:href=\"#m800bb257c9\" y=\"109.782608\"/>\n     <use style=\"fill:#0000ff;stroke:#0000ff;\" x=\"246.417412\" xlink:href=\"#m800bb257c9\" y=\"140.685309\"/>\n     <use style=\"fill:#0000ff;stroke:#0000ff;\" x=\"176.196832\" xlink:href=\"#m800bb257c9\" y=\"94.328934\"/>\n     <use style=\"fill:#0000ff;stroke:#0000ff;\" x=\"201.29723\" xlink:href=\"#m800bb257c9\" y=\"137.860933\"/>\n     <use style=\"fill:#0000ff;stroke:#0000ff;\" x=\"205.769677\" xlink:href=\"#m800bb257c9\" y=\"74.740126\"/>\n     <use style=\"fill:#0000ff;stroke:#0000ff;\" x=\"93.659439\" xlink:href=\"#m800bb257c9\" y=\"149.098412\"/>\n     <use style=\"fill:#0000ff;stroke:#0000ff;\" x=\"276.272435\" xlink:href=\"#m800bb257c9\" y=\"50.160076\"/>\n     <use style=\"fill:#0000ff;stroke:#0000ff;\" x=\"149.155417\" xlink:href=\"#m800bb257c9\" y=\"128.492189\"/>\n     <use style=\"fill:#0000ff;stroke:#0000ff;\" x=\"164.21169\" xlink:href=\"#m800bb257c9\" y=\"107.313919\"/>\n     <use style=\"fill:#0000ff;stroke:#0000ff;\" x=\"161.390013\" xlink:href=\"#m800bb257c9\" y=\"47.355187\"/>\n     <use style=\"fill:#0000ff;stroke:#0000ff;\" x=\"258.416237\" xlink:href=\"#m800bb257c9\" y=\"97.060307\"/>\n     <use style=\"fill:#0000ff;stroke:#0000ff;\" x=\"238.419903\" xlink:href=\"#m800bb257c9\" y=\"42.617089\"/>\n     <use style=\"fill:#0000ff;stroke:#0000ff;\" x=\"215.084197\" xlink:href=\"#m800bb257c9\" y=\"129.649236\"/>\n     <use style=\"fill:#0000ff;stroke:#0000ff;\" x=\"286.225243\" xlink:href=\"#m800bb257c9\" y=\"110.266226\"/>\n     <use style=\"fill:#0000ff;stroke:#0000ff;\" x=\"71.98859\" xlink:href=\"#m800bb257c9\" y=\"171.529705\"/>\n     <use style=\"fill:#0000ff;stroke:#0000ff;\" x=\"132.650974\" xlink:href=\"#m800bb257c9\" y=\"187.766706\"/>\n     <use style=\"fill:#0000ff;stroke:#0000ff;\" x=\"251.71212\" xlink:href=\"#m800bb257c9\" y=\"74.814014\"/>\n     <use style=\"fill:#0000ff;stroke:#0000ff;\" x=\"122.545028\" xlink:href=\"#m800bb257c9\" y=\"134.769968\"/>\n     <use style=\"fill:#0000ff;stroke:#0000ff;\" x=\"249.446776\" xlink:href=\"#m800bb257c9\" y=\"118.34684\"/>\n     <use style=\"fill:#0000ff;stroke:#0000ff;\" x=\"186.543227\" xlink:href=\"#m800bb257c9\" y=\"123.267318\"/>\n     <use style=\"fill:#0000ff;stroke:#0000ff;\" x=\"111.74118\" xlink:href=\"#m800bb257c9\" y=\"170.242427\"/>\n     <use style=\"fill:#0000ff;stroke:#0000ff;\" x=\"287.948451\" xlink:href=\"#m800bb257c9\" y=\"77.923485\"/>\n     <use style=\"fill:#0000ff;stroke:#0000ff;\" x=\"281.099983\" xlink:href=\"#m800bb257c9\" y=\"45.407048\"/>\n     <use style=\"fill:#0000ff;stroke:#0000ff;\" x=\"109.811892\" xlink:href=\"#m800bb257c9\" y=\"140.912811\"/>\n     <use style=\"fill:#0000ff;stroke:#0000ff;\" x=\"185.814877\" xlink:href=\"#m800bb257c9\" y=\"117.880275\"/>\n     <use style=\"fill:#0000ff;stroke:#0000ff;\" x=\"169.220333\" xlink:href=\"#m800bb257c9\" y=\"73.496141\"/>\n     <use style=\"fill:#0000ff;stroke:#0000ff;\" x=\"185.132736\" xlink:href=\"#m800bb257c9\" y=\"139.242884\"/>\n     <use style=\"fill:#0000ff;stroke:#0000ff;\" x=\"216.096151\" xlink:href=\"#m800bb257c9\" y=\"99.021786\"/>\n     <use style=\"fill:#0000ff;stroke:#0000ff;\" x=\"257.448782\" xlink:href=\"#m800bb257c9\" y=\"92.669636\"/>\n     <use style=\"fill:#0000ff;stroke:#0000ff;\" x=\"161.294059\" xlink:href=\"#m800bb257c9\" y=\"127.842588\"/>\n     <use style=\"fill:#0000ff;stroke:#0000ff;\" x=\"291.518149\" xlink:href=\"#m800bb257c9\" y=\"99.71349\"/>\n     <use style=\"fill:#0000ff;stroke:#0000ff;\" x=\"354.886506\" xlink:href=\"#m800bb257c9\" y=\"69.965023\"/>\n     <use style=\"fill:#0000ff;stroke:#0000ff;\" x=\"323.47825\" xlink:href=\"#m800bb257c9\" y=\"109.9104\"/>\n     <use style=\"fill:#0000ff;stroke:#0000ff;\" x=\"118.144936\" xlink:href=\"#m800bb257c9\" y=\"138.997134\"/>\n     <use style=\"fill:#0000ff;stroke:#0000ff;\" x=\"138.083911\" xlink:href=\"#m800bb257c9\" y=\"155.566399\"/>\n     <use style=\"fill:#0000ff;stroke:#0000ff;\" x=\"237.585612\" xlink:href=\"#m800bb257c9\" y=\"39.650966\"/>\n     <use style=\"fill:#0000ff;stroke:#0000ff;\" x=\"204.795941\" xlink:href=\"#m800bb257c9\" y=\"113.364773\"/>\n     <use style=\"fill:#0000ff;stroke:#0000ff;\" x=\"184.197442\" xlink:href=\"#m800bb257c9\" y=\"109.298254\"/>\n     <use style=\"fill:#0000ff;stroke:#0000ff;\" x=\"246.825373\" xlink:href=\"#m800bb257c9\" y=\"127.459026\"/>\n     <use style=\"fill:#0000ff;stroke:#0000ff;\" x=\"311.562662\" xlink:href=\"#m800bb257c9\" y=\"90.276948\"/>\n     <use style=\"fill:#0000ff;stroke:#0000ff;\" x=\"320.463563\" xlink:href=\"#m800bb257c9\" y=\"33.900769\"/>\n     <use style=\"fill:#0000ff;stroke:#0000ff;\" x=\"158.814076\" xlink:href=\"#m800bb257c9\" y=\"139.226196\"/>\n     <use style=\"fill:#0000ff;stroke:#0000ff;\" x=\"147.788899\" xlink:href=\"#m800bb257c9\" y=\"159.003522\"/>\n     <use style=\"fill:#0000ff;stroke:#0000ff;\" x=\"155.492032\" xlink:href=\"#m800bb257c9\" y=\"116.694621\"/>\n     <use style=\"fill:#0000ff;stroke:#0000ff;\" x=\"139.325554\" xlink:href=\"#m800bb257c9\" y=\"102.520011\"/>\n     <use style=\"fill:#0000ff;stroke:#0000ff;\" x=\"273.138922\" xlink:href=\"#m800bb257c9\" y=\"104.299516\"/>\n     <use style=\"fill:#0000ff;stroke:#0000ff;\" x=\"147.847586\" xlink:href=\"#m800bb257c9\" y=\"146.686474\"/>\n     <use style=\"fill:#0000ff;stroke:#0000ff;\" x=\"159.058081\" xlink:href=\"#m800bb257c9\" y=\"105.552662\"/>\n     <use style=\"fill:#0000ff;stroke:#0000ff;\" x=\"175.276434\" xlink:href=\"#m800bb257c9\" y=\"141.896856\"/>\n     <use style=\"fill:#0000ff;stroke:#0000ff;\" x=\"157.05254\" xlink:href=\"#m800bb257c9\" y=\"138.595326\"/>\n     <use style=\"fill:#0000ff;stroke:#0000ff;\" x=\"153.326749\" xlink:href=\"#m800bb257c9\" y=\"119.456652\"/>\n     <use style=\"fill:#0000ff;stroke:#0000ff;\" x=\"50.522869\" xlink:href=\"#m800bb257c9\" y=\"217.237554\"/>\n     <use style=\"fill:#0000ff;stroke:#0000ff;\" x=\"153.961709\" xlink:href=\"#m800bb257c9\" y=\"87.453599\"/>\n     <use style=\"fill:#0000ff;stroke:#0000ff;\" x=\"188.624174\" xlink:href=\"#m800bb257c9\" y=\"79.321539\"/>\n     <use style=\"fill:#0000ff;stroke:#0000ff;\" x=\"161.543947\" xlink:href=\"#m800bb257c9\" y=\"111.743369\"/>\n     <use style=\"fill:#0000ff;stroke:#0000ff;\" x=\"196.360206\" xlink:href=\"#m800bb257c9\" y=\"130.952021\"/>\n     <use style=\"fill:#0000ff;stroke:#0000ff;\" x=\"227.577987\" xlink:href=\"#m800bb257c9\" y=\"79.683102\"/>\n     <use style=\"fill:#0000ff;stroke:#0000ff;\" x=\"261.842106\" xlink:href=\"#m800bb257c9\" y=\"67.783597\"/>\n     <use style=\"fill:#0000ff;stroke:#0000ff;\" x=\"122.731132\" xlink:href=\"#m800bb257c9\" y=\"179.255383\"/>\n     <use style=\"fill:#0000ff;stroke:#0000ff;\" x=\"151.671213\" xlink:href=\"#m800bb257c9\" y=\"128.735807\"/>\n     <use style=\"fill:#0000ff;stroke:#0000ff;\" x=\"164.532128\" xlink:href=\"#m800bb257c9\" y=\"155.692303\"/>\n     <use style=\"fill:#0000ff;stroke:#0000ff;\" x=\"112.853052\" xlink:href=\"#m800bb257c9\" y=\"174.496642\"/>\n     <use style=\"fill:#0000ff;stroke:#0000ff;\" x=\"164.390027\" xlink:href=\"#m800bb257c9\" y=\"148.306958\"/>\n     <use style=\"fill:#0000ff;stroke:#0000ff;\" x=\"174.789162\" xlink:href=\"#m800bb257c9\" y=\"179.582881\"/>\n     <use style=\"fill:#0000ff;stroke:#0000ff;\" x=\"303.523885\" xlink:href=\"#m800bb257c9\" y=\"57.130493\"/>\n     <use style=\"fill:#0000ff;stroke:#0000ff;\" x=\"148.393858\" xlink:href=\"#m800bb257c9\" y=\"193.329544\"/>\n     <use style=\"fill:#0000ff;stroke:#0000ff;\" x=\"210.553628\" xlink:href=\"#m800bb257c9\" y=\"136.40884\"/>\n     <use style=\"fill:#0000ff;stroke:#0000ff;\" x=\"214.597672\" xlink:href=\"#m800bb257c9\" y=\"83.284416\"/>\n     <use style=\"fill:#0000ff;stroke:#0000ff;\" x=\"166.305389\" xlink:href=\"#m800bb257c9\" y=\"174.251824\"/>\n     <use style=\"fill:#0000ff;stroke:#0000ff;\" x=\"84.597919\" xlink:href=\"#m800bb257c9\" y=\"164.065475\"/>\n     <use style=\"fill:#0000ff;stroke:#0000ff;\" x=\"253.114651\" xlink:href=\"#m800bb257c9\" y=\"89.93513\"/>\n     <use style=\"fill:#0000ff;stroke:#0000ff;\" x=\"149.709637\" xlink:href=\"#m800bb257c9\" y=\"105.151633\"/>\n     <use style=\"fill:#0000ff;stroke:#0000ff;\" x=\"302.243203\" xlink:href=\"#m800bb257c9\" y=\"72.265439\"/>\n     <use style=\"fill:#0000ff;stroke:#0000ff;\" x=\"237.745705\" xlink:href=\"#m800bb257c9\" y=\"73.218835\"/>\n     <use style=\"fill:#0000ff;stroke:#0000ff;\" x=\"120.788527\" xlink:href=\"#m800bb257c9\" y=\"163.220676\"/>\n     <use style=\"fill:#0000ff;stroke:#0000ff;\" x=\"183.218848\" xlink:href=\"#m800bb257c9\" y=\"129.310591\"/>\n     <use style=\"fill:#0000ff;stroke:#0000ff;\" x=\"111.860794\" xlink:href=\"#m800bb257c9\" y=\"159.146685\"/>\n     <use style=\"fill:#0000ff;stroke:#0000ff;\" x=\"179.453817\" xlink:href=\"#m800bb257c9\" y=\"121.460578\"/>\n     <use style=\"fill:#0000ff;stroke:#0000ff;\" x=\"194.967572\" xlink:href=\"#m800bb257c9\" y=\"127.041771\"/>\n     <use style=\"fill:#0000ff;stroke:#0000ff;\" x=\"270.393437\" xlink:href=\"#m800bb257c9\" y=\"68.900595\"/>\n     <use style=\"fill:#0000ff;stroke:#0000ff;\" x=\"203.32407\" xlink:href=\"#m800bb257c9\" y=\"131.558833\"/>\n     <use style=\"fill:#0000ff;stroke:#0000ff;\" x=\"258.574414\" xlink:href=\"#m800bb257c9\" y=\"46.309938\"/>\n     <use style=\"fill:#0000ff;stroke:#0000ff;\" x=\"104.815811\" xlink:href=\"#m800bb257c9\" y=\"154.98076\"/>\n     <use style=\"fill:#0000ff;stroke:#0000ff;\" x=\"122.050829\" xlink:href=\"#m800bb257c9\" y=\"125.110815\"/>\n     <use style=\"fill:#0000ff;stroke:#0000ff;\" x=\"262.05794\" xlink:href=\"#m800bb257c9\" y=\"96.052123\"/>\n     <use style=\"fill:#0000ff;stroke:#0000ff;\" x=\"148.085857\" xlink:href=\"#m800bb257c9\" y=\"217.480505\"/>\n     <use style=\"fill:#0000ff;stroke:#0000ff;\" x=\"123.857131\" xlink:href=\"#m800bb257c9\" y=\"134.844887\"/>\n     <use style=\"fill:#0000ff;stroke:#0000ff;\" x=\"184.513745\" xlink:href=\"#m800bb257c9\" y=\"110.466013\"/>\n     <use style=\"fill:#0000ff;stroke:#0000ff;\" x=\"265.777271\" xlink:href=\"#m800bb257c9\" y=\"80.032667\"/>\n     <use style=\"fill:#0000ff;stroke:#0000ff;\" x=\"208.795709\" xlink:href=\"#m800bb257c9\" y=\"161.691657\"/>\n     <use style=\"fill:#0000ff;stroke:#0000ff;\" x=\"206.088136\" xlink:href=\"#m800bb257c9\" y=\"162.332155\"/>\n     <use style=\"fill:#0000ff;stroke:#0000ff;\" x=\"106.762734\" xlink:href=\"#m800bb257c9\" y=\"182.93488\"/>\n     <use style=\"fill:#0000ff;stroke:#0000ff;\" x=\"186.974583\" xlink:href=\"#m800bb257c9\" y=\"136.934096\"/>\n     <use style=\"fill:#0000ff;stroke:#0000ff;\" x=\"271.329641\" xlink:href=\"#m800bb257c9\" y=\"98.280225\"/>\n     <use style=\"fill:#0000ff;stroke:#0000ff;\" x=\"152.202661\" xlink:href=\"#m800bb257c9\" y=\"121.833171\"/>\n     <use style=\"fill:#0000ff;stroke:#0000ff;\" x=\"114.680289\" xlink:href=\"#m800bb257c9\" y=\"135.593037\"/>\n     <use style=\"fill:#0000ff;stroke:#0000ff;\" x=\"122.34217\" xlink:href=\"#m800bb257c9\" y=\"155.229283\"/>\n     <use style=\"fill:#0000ff;stroke:#0000ff;\" x=\"177.796748\" xlink:href=\"#m800bb257c9\" y=\"132.022764\"/>\n     <use style=\"fill:#0000ff;stroke:#0000ff;\" x=\"228.300541\" xlink:href=\"#m800bb257c9\" y=\"82.075179\"/>\n     <use style=\"fill:#0000ff;stroke:#0000ff;\" x=\"139.082011\" xlink:href=\"#m800bb257c9\" y=\"100.293316\"/>\n     <use style=\"fill:#0000ff;stroke:#0000ff;\" x=\"142.050277\" xlink:href=\"#m800bb257c9\" y=\"109.219354\"/>\n     <use style=\"fill:#0000ff;stroke:#0000ff;\" x=\"216.217127\" xlink:href=\"#m800bb257c9\" y=\"87.554724\"/>\n     <use style=\"fill:#0000ff;stroke:#0000ff;\" x=\"146.409461\" xlink:href=\"#m800bb257c9\" y=\"151.560988\"/>\n     <use style=\"fill:#0000ff;stroke:#0000ff;\" x=\"169.285153\" xlink:href=\"#m800bb257c9\" y=\"122.766678\"/>\n     <use style=\"fill:#0000ff;stroke:#0000ff;\" x=\"305.192279\" xlink:href=\"#m800bb257c9\" y=\"40.025737\"/>\n     <use style=\"fill:#0000ff;stroke:#0000ff;\" x=\"177.866754\" xlink:href=\"#m800bb257c9\" y=\"145.137268\"/>\n     <use style=\"fill:#0000ff;stroke:#0000ff;\" x=\"244.059306\" xlink:href=\"#m800bb257c9\" y=\"141.147947\"/>\n     <use style=\"fill:#0000ff;stroke:#0000ff;\" x=\"138.72689\" xlink:href=\"#m800bb257c9\" y=\"163.126281\"/>\n     <use style=\"fill:#0000ff;stroke:#0000ff;\" x=\"243.028846\" xlink:href=\"#m800bb257c9\" y=\"109.393726\"/>\n     <use style=\"fill:#0000ff;stroke:#0000ff;\" x=\"318.493262\" xlink:href=\"#m800bb257c9\" y=\"82.206434\"/>\n     <use style=\"fill:#0000ff;stroke:#0000ff;\" x=\"203.264844\" xlink:href=\"#m800bb257c9\" y=\"113.593195\"/>\n     <use style=\"fill:#0000ff;stroke:#0000ff;\" x=\"209.370281\" xlink:href=\"#m800bb257c9\" y=\"155.496204\"/>\n     <use style=\"fill:#0000ff;stroke:#0000ff;\" x=\"209.553483\" xlink:href=\"#m800bb257c9\" y=\"60.220765\"/>\n     <use style=\"fill:#0000ff;stroke:#0000ff;\" x=\"102.474943\" xlink:href=\"#m800bb257c9\" y=\"124.841633\"/>\n     <use style=\"fill:#0000ff;stroke:#0000ff;\" x=\"221.384959\" xlink:href=\"#m800bb257c9\" y=\"141.676356\"/>\n     <use style=\"fill:#0000ff;stroke:#0000ff;\" x=\"131.530868\" xlink:href=\"#m800bb257c9\" y=\"167.983205\"/>\n     <use style=\"fill:#0000ff;stroke:#0000ff;\" x=\"172.711433\" xlink:href=\"#m800bb257c9\" y=\"149.74507\"/>\n     <use style=\"fill:#0000ff;stroke:#0000ff;\" x=\"164.000643\" xlink:href=\"#m800bb257c9\" y=\"79.245293\"/>\n    </g>\n   </g>\n   <g id=\"line2d_16\">\n    <path clip-path=\"url(#p4bfd0605dc)\" d=\"M 117.025434 152.895605 \nL 354.886506 49.234356 \nL 50.522869 181.877813 \nL 164.000643 132.423534 \n\" style=\"fill:none;stroke:#ff0000;stroke-linecap:square;stroke-width:1.5;\"/>\n   </g>\n   <g id=\"patch_3\">\n    <path d=\"M 35.304688 227.364141 \nL 35.304688 9.924141 \n\" style=\"fill:none;stroke:#000000;stroke-linecap:square;stroke-linejoin:miter;stroke-width:0.8;\"/>\n   </g>\n   <g id=\"patch_4\">\n    <path d=\"M 370.104688 227.364141 \nL 370.104688 9.924141 \n\" style=\"fill:none;stroke:#000000;stroke-linecap:square;stroke-linejoin:miter;stroke-width:0.8;\"/>\n   </g>\n   <g id=\"patch_5\">\n    <path d=\"M 35.304688 227.364141 \nL 370.104687 227.364141 \n\" style=\"fill:none;stroke:#000000;stroke-linecap:square;stroke-linejoin:miter;stroke-width:0.8;\"/>\n   </g>\n   <g id=\"patch_6\">\n    <path d=\"M 35.304688 9.924141 \nL 370.104687 9.924141 \n\" style=\"fill:none;stroke:#000000;stroke-linecap:square;stroke-linejoin:miter;stroke-width:0.8;\"/>\n   </g>\n  </g>\n </g>\n <defs>\n  <clipPath id=\"p4bfd0605dc\">\n   <rect height=\"217.44\" width=\"334.8\" x=\"35.304688\" y=\"9.924141\"/>\n  </clipPath>\n </defs>\n</svg>\n",
      "image/png": "[encoded data removed]"
     },
     "metadata": {
      "needs_background": "light"
     }
    }
   ],
   "source": [
    "from sklearn.preprocessing import MaxAbsScaler\n",
    "from sklearn.pipeline import Pipeline\n",
    "from sklearn.linear_model import HuberRegressor\n",
    "\n",
    "\n",
    "pipeline = Pipeline([\n",
    "  ('scale', MaxAbsScaler()),\n",
    "  ('regression', HuberRegressor())\n",
    "])\n",
    "\n",
    "\n",
    "features, targets = make_regression(n_samples=200, n_features=1, random_state=85,noise =5.0)\n",
    "pipeline.fit(features, targets)\n",
    "predictions = pipeline.predict(features)\n",
    "plt.plot(features, targets, 'b.')\n",
    "plt.plot(features, predictions, 'r-')\n",
    "plt.show()\n",
    "\n",
    "\n",
    "\n",
    "\n"
   ]
  },
  {
   "cell_type": "markdown",
   "metadata": {
    "colab_type": "text",
    "id": "FocRxbST6XpW"
   },
   "source": [
    "---"
   ]
  },
  {
   "cell_type": "markdown",
   "metadata": {
    "colab_type": "text",
    "id": "T_mlNNxxd-8l"
   },
   "source": [
    "## Conclusion\n",
    "\n",
    "Scikit-learn is a widely used library that contains scores of resources for performing machine learning. In this Colab, we have introduced some basic concepts that you will see repeated throughout your career in data science. We will cover other parts of scikit-learn later in the course.\n",
    "\n",
    "You are also encouraged to check out the [scikit-learn documentation](https://scikit-learn.org/stable/documentation.html), where you will find a user guide, tutorials, and a full API reference.\n",
    "\n",
    "Scikit-learn is an open source project. You can find it [on Github here](https://github.com/scikit-learn/scikit-learn)."
   ]
  },
  {
   "cell_type": "markdown",
   "metadata": {
    "colab_type": "text",
    "id": "8aQ_TRj-DCms"
   },
   "source": [
    "## Resources\n",
    "\n",
    "* https://scikit-learn.org/stable/documentation.html\n",
    "* https://en.wikipedia.org/wiki/Scikit-learn\n",
    "* https://en.wikipedia.org/wiki/Estimator\n",
    "* https://en.wikipedia.org/wiki/Mean_squared_error\n",
    "* https://github.com/scikit-learn/scikit-learn"
   ]
  }
 ],
 "metadata": {
  "colab": {
   "collapsed_sections": [
    "copyright",
    "exercise-1-key-1",
    "exercise-2-key-1",
    "exercise-3-key-1",
    "exercise-4-key-1"
   ],
   "include_colab_link": true,
   "name": "Introduction to scikit-learn",
   "private_outputs": true,
   "provenance": [],
   "toc_visible": true
  },
  "kernelspec": {
   "name": "python3",
   "display_name": "Python 3.8.5 64-bit ('base': conda)"
  },
  "interpreter": {
   "hash": "20fdcea9dd39c58b400bbbafc3c219f020dc49d749b7a36aee9879bd1518e1db"
  }
 },
 "nbformat": 4,
 "nbformat_minor": 0
}