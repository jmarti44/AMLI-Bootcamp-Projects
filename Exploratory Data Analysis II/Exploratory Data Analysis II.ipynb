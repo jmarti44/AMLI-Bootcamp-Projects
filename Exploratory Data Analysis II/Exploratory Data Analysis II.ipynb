{
 "cells": [
  {
   "cell_type": "markdown",
   "source": [
    "<a href=\"https://colab.research.google.com/github/google/applied-machine-learning-intensive/blob/master/content/02_data/05_exploratory_data_analysis/colab-part2.ipynb\" target=\"_parent\"><img src=\"https://colab.research.google.com/assets/colab-badge.svg\" alt=\"Open In Colab\"/></a>"
   ],
   "metadata": {
    "colab_type": "text",
    "id": "view-in-github"
   }
  },
  {
   "cell_type": "markdown",
   "source": [
    "#### Copyright 2020 Google LLC."
   ],
   "metadata": {
    "colab_type": "text",
    "id": "copyright"
   }
  },
  {
   "cell_type": "code",
   "execution_count": 173,
   "source": [
    "# Licensed under the Apache License, Version 2.0 (the \"License\");\n",
    "# you may not use this file except in compliance with the License.\n",
    "# You may obtain a copy of the License at\n",
    "#\n",
    "# https://www.apache.org/licenses/LICENSE-2.0\n",
    "#\n",
    "# Unless required by applicable law or agreed to in writing, software\n",
    "# distributed under the License is distributed on an \"AS IS\" BASIS,\n",
    "# WITHOUT WARRANTIES OR CONDITIONS OF ANY KIND, either express or implied.\n",
    "# See the License for the specific language governing permissions and\n",
    "# limitations under the License."
   ],
   "outputs": [],
   "metadata": {
    "colab": {},
    "colab_type": "code",
    "id": "jHUQ8PUGZh8y"
   }
  },
  {
   "cell_type": "markdown",
   "source": [
    "# Exploratory Data Analysis: Part 2 - Analysis and Visualizations"
   ],
   "metadata": {
    "colab_type": "text",
    "id": "HQswfu6M_ZBR"
   }
  },
  {
   "cell_type": "markdown",
   "source": [
    "In this second part of our [Exploratory Data Analysis](https://en.wikipedia.org/wiki/Exploratory_data_analysis) journey, we will build upon the cleaned up dataset that we created in part 1.\n",
    "\n",
    "In part 2 we will use visualization libraries to look closer at individual columns and to see how different columns relate to one another."
   ],
   "metadata": {
    "colab_type": "text",
    "id": "invE35z3n2Yn"
   }
  },
  {
   "cell_type": "markdown",
   "source": [
    "## Part 1 Recap"
   ],
   "metadata": {
    "colab_type": "text",
    "id": "bIxZkNQzBiyc"
   }
  },
  {
   "cell_type": "markdown",
   "source": [
    "### The Dataset: Chocolate Bar Ratings\n",
    "\n",
    "You should remember that in this lab we are using a [chocolate bar ratings dataset](https://www.kaggle.com/rtatman/chocolate-bar-ratings) from the [Flavors of Cacao](http://flavorsofcacao.com/flavor.html) data. On the [Kaggle page for the dataset](https://www.kaggle.com/rtatman/chocolate-bar-ratings) we can find the documentation for the columns:\n",
    "\n",
    "Column | Data Type | Description\n",
    "-------|-----------|-------------\n",
    "Company (Maker-if known) | String | Name of the company manufacturing the bar.\n",
    "Specific Bean Origin or Bar Name | String | The specific geo-region of origin for the bar.\n",
    "REF | Number | A value linked to when the review was entered in the database. Higher = more recent.\n",
    "Review Date | Number | Date of publication of the review.\n",
    "Cocoa Percent | String | Cocoa percentage (darkness) of the chocolate bar being reviewed.\n",
    "Company Location | String | Manufacturer base country.\n",
    "Rating | Number | Expert rating for the bar.\n",
    "BeanType | String | The variety (breed) of bean used, if provided.\n",
    "Broad Bean Origin | String | The broad geo-region of origin for the bean.\n",
    "\n",
    "In part 1 of this unit we modified the columns to be:\n",
    "\n",
    "Column | Data Type | Description\n",
    "-------|-----------|------------\n",
    "Company | String  | Name of the company manufacturing the bar.\n",
    "Company Location | String | Manufacturer base country.\n",
    "Bean Type | String | The variety (breed) of bean used, if provided.\n",
    "Specific Bean Origin | String | The specific geo-region of origin for the bar.\n",
    "Broad Bean Origin | String | The broad geo-region of origin for the bean.\n",
    "Cocoa Percent | Number | Cocoa percentage (darkness) of the chocolate bar being reviewed.\n",
    "REF | Number |A value linked to when the review was entered in the database. Higher = more recent.\n",
    "Review Date | Number | Date of publication of the review.\n",
    "Rating | Number | Expert rating for the bar. Number between 1.0 and 5.0, inclusive.\n",
    "Grade | Number | Expert rating for the bar. 'A' - 'Q'. Maps to distinct ratings.\n",
    "\n",
    "Let's download the dataset again and apply the changes that we made in part 1."
   ],
   "metadata": {
    "colab_type": "text",
    "id": "U4nDJfscDH9o"
   }
  },
  {
   "cell_type": "markdown",
   "source": [
    "### Acquiring the Data\n",
    "\n",
    "The data is hosted on Kaggle, so we can use our Kaggle credentials to download the data into the lab. The dataset is located at [https://www.kaggle.com/rtatman/chocolate-bar-ratings](https://www.kaggle.com/rtatman/chocolate-bar-ratings). We can use the `kaggle` command line utility to do this.\n",
    "\n",
    "First off, upload your `kaggle.json` file into the lab now.\n",
    "\n",
    "Next, run the following command to get the credential files set to the right permissions and located in the correct spot."
   ],
   "metadata": {
    "colab_type": "text",
    "id": "GP-kRR_72562"
   }
  },
  {
   "cell_type": "code",
   "execution_count": 174,
   "source": [
    "! chmod 600 kaggle.json && (ls ~/.kaggle 2>/dev/null || mkdir ~/.kaggle) && mv kaggle.json ~/.kaggle/ && echo 'Done'"
   ],
   "outputs": [
    {
     "output_type": "stream",
     "name": "stdout",
     "text": [
      "chmod: kaggle.json: No such file or directory\n"
     ]
    }
   ],
   "metadata": {
    "colab": {},
    "colab_type": "code",
    "id": "-UuViqN232cr"
   }
  },
  {
   "cell_type": "markdown",
   "source": [
    "Now we can run the `kaggle` command to actually download the data."
   ],
   "metadata": {
    "colab_type": "text",
    "id": "gCMEX2915D1Y"
   }
  },
  {
   "cell_type": "code",
   "execution_count": 175,
   "source": [
    "! kaggle datasets download rtatman/chocolate-bar-ratings\n",
    "! ls"
   ],
   "outputs": [
    {
     "output_type": "stream",
     "name": "stdout",
     "text": [
      "chocolate-bar-ratings.zip: Skipping, found more recently modified local copy (use --force to force download)\n",
      "chocolate-bar-ratings.zip colab-part2.ipynb\n"
     ]
    }
   ],
   "metadata": {
    "colab": {},
    "colab_type": "code",
    "id": "Mo1mS1Jp4c5W"
   }
  },
  {
   "cell_type": "markdown",
   "source": [
    "We now have our data downloaded to our virtual machine and stored in the file `chocolate-bar-ratings.zip`."
   ],
   "metadata": {
    "colab_type": "text",
    "id": "PytnXVWU7Lom"
   }
  },
  {
   "cell_type": "markdown",
   "source": [
    "### Prepping the `DataFrame`\n",
    "\n",
    "We will now load the data into a `DataFrame` and apply the data preprocessing that was done in part 1 of this unit. Run the hidden code block below to fill a `DataFrame` called `df` with preprocessed data.\n",
    "\n",
    "Run this block again if you need to reset the `df` `DataFrame`. After you run the code block, there will also be a function that you can use to reset `df`:\n",
    "\n",
    "```python\n",
    "  df = reload_data()\n",
    "```"
   ],
   "metadata": {
    "colab_type": "text",
    "id": "A8pOhe8_7YOt"
   }
  },
  {
   "cell_type": "code",
   "execution_count": 1,
   "source": [
    "#@title Part 1 Code: Press Run To Load Preprocessed Data Frame\n",
    "\n",
    "import pandas as pd\n",
    "\n",
    "def reload_data():\n",
    "  df = pd.read_csv('chocolate-bar-ratings.zip')\n",
    "\n",
    "  df.columns = [\n",
    "    'Company',\n",
    "    'Specific Bean Origin',\n",
    "    'REF',\n",
    "    'Review Date',\n",
    "    'Cocoa Percent',\n",
    "    'Company Location',\n",
    "    'Rating',\n",
    "    'Bean Type',\n",
    "    'Broad Bean Origin'\n",
    "  ]\n",
    "\n",
    "  df = df[[\n",
    "    'Company',\n",
    "    'Company Location',\n",
    "    'Bean Type',\n",
    "    'Specific Bean Origin',\n",
    "    'Broad Bean Origin',\n",
    "    'Cocoa Percent',\n",
    "    'REF',\n",
    "    'Review Date',\n",
    "    'Rating',\n",
    "  ]]\n",
    "\n",
    "  column = 'Company'\n",
    "  for broken, fixed in {\n",
    "    'Shattel': 'Shattell',\n",
    "    'Cacao de Origin': 'Cacao de Origen',\n",
    "  }.items():\n",
    "    df.loc[df[column] == broken, column] = fixed\n",
    "\n",
    "  column = 'Company Location'\n",
    "  for broken, fixed in {\n",
    "    'Domincan Republic': 'Dominican Republic',\n",
    "    'Niacragua': 'Nicaragua',\n",
    "    'Eucador': 'Ecuador',\n",
    "    'Amsterdam': 'Holland',\n",
    "    'U.K.': 'England',\n",
    "  }.items():\n",
    "    df.loc[df[column] == broken, column] = fixed\n",
    "\n",
    "  column = 'Bean Type'\n",
    "  df.loc[df[column].isna(), column] = 'Unknown'\n",
    "  df.loc[df[column] == chr(0xa0), column] = 'Unknown'\n",
    "\n",
    "  column = 'Specific Bean Origin'\n",
    "  for broken, fixed in {\n",
    "    'Ambolikapkly P.': 'Ambolikapiky P.',\n",
    "    'Dominican Republicm, rustic': 'Dominican Republic, rustic',\n",
    "    'Nicaraqua': 'Nicaragua',\n",
    "  }.items():\n",
    "    df.loc[df[column] == broken, column] = fixed\n",
    "\n",
    "  column = 'Broad Bean Origin'\n",
    "  df.loc[(df['Specific Bean Origin'] == 'Madagascar') &\n",
    "        (df[column].isna()), column] = 'Madagascar'\n",
    "  df.loc[df[column] == chr(0xa0), column] = 'Unknown'\n",
    "\n",
    "  column = 'Cocoa Percent'\n",
    "  df[column] = df[column].apply(lambda s: float(s[:-1]))\n",
    "\n",
    "  def grade(rating):\n",
    "    letter_grade = 'A'\n",
    "    numeric_rating = 5.0\n",
    "    while rating < numeric_rating:\n",
    "      letter_grade = chr(ord(letter_grade) + 1)\n",
    "      numeric_rating -= 0.25\n",
    "    return letter_grade\n",
    "\n",
    "  column = 'Grade'\n",
    "  df[column] = df['Rating'].apply(grade)\n",
    "  \n",
    "  return df\n",
    "\n",
    "df = reload_data()\n",
    "df.sample(10)"
   ],
   "outputs": [
    {
     "output_type": "execute_result",
     "data": {
      "text/html": [
       "<div>\n",
       "<style scoped>\n",
       "    .dataframe tbody tr th:only-of-type {\n",
       "        vertical-align: middle;\n",
       "    }\n",
       "\n",
       "    .dataframe tbody tr th {\n",
       "        vertical-align: top;\n",
       "    }\n",
       "\n",
       "    .dataframe thead th {\n",
       "        text-align: right;\n",
       "    }\n",
       "</style>\n",
       "<table border=\"1\" class=\"dataframe\">\n",
       "  <thead>\n",
       "    <tr style=\"text-align: right;\">\n",
       "      <th></th>\n",
       "      <th>Company</th>\n",
       "      <th>Company Location</th>\n",
       "      <th>Bean Type</th>\n",
       "      <th>Specific Bean Origin</th>\n",
       "      <th>Broad Bean Origin</th>\n",
       "      <th>Cocoa Percent</th>\n",
       "      <th>REF</th>\n",
       "      <th>Review Date</th>\n",
       "      <th>Rating</th>\n",
       "      <th>Grade</th>\n",
       "    </tr>\n",
       "  </thead>\n",
       "  <tbody>\n",
       "    <tr>\n",
       "      <th>483</th>\n",
       "      <td>Dandelion</td>\n",
       "      <td>U.S.A.</td>\n",
       "      <td>Trinitario</td>\n",
       "      <td>Maya Mtn., Break Bar- Snark</td>\n",
       "      <td>Belize</td>\n",
       "      <td>70.0</td>\n",
       "      <td>1446</td>\n",
       "      <td>2015</td>\n",
       "      <td>3.00</td>\n",
       "      <td>I</td>\n",
       "    </tr>\n",
       "    <tr>\n",
       "      <th>1379</th>\n",
       "      <td>Ritual</td>\n",
       "      <td>U.S.A.</td>\n",
       "      <td>Trinitario</td>\n",
       "      <td>Gran Couva</td>\n",
       "      <td>Trinidad</td>\n",
       "      <td>75.0</td>\n",
       "      <td>979</td>\n",
       "      <td>2012</td>\n",
       "      <td>3.50</td>\n",
       "      <td>G</td>\n",
       "    </tr>\n",
       "    <tr>\n",
       "      <th>971</th>\n",
       "      <td>Lillie Belle</td>\n",
       "      <td>U.S.A.</td>\n",
       "      <td>Unknown</td>\n",
       "      <td>La Selva</td>\n",
       "      <td>Peru</td>\n",
       "      <td>68.0</td>\n",
       "      <td>903</td>\n",
       "      <td>2012</td>\n",
       "      <td>3.75</td>\n",
       "      <td>F</td>\n",
       "    </tr>\n",
       "    <tr>\n",
       "      <th>878</th>\n",
       "      <td>Jacque Torres</td>\n",
       "      <td>U.S.A.</td>\n",
       "      <td>Trinitario</td>\n",
       "      <td>Trinatario Treasure</td>\n",
       "      <td>Ghana</td>\n",
       "      <td>71.0</td>\n",
       "      <td>5</td>\n",
       "      <td>2006</td>\n",
       "      <td>2.00</td>\n",
       "      <td>M</td>\n",
       "    </tr>\n",
       "    <tr>\n",
       "      <th>1301</th>\n",
       "      <td>Pitch Dark</td>\n",
       "      <td>U.S.A.</td>\n",
       "      <td>Trinitario</td>\n",
       "      <td>Akesson Estate</td>\n",
       "      <td>Madagascar</td>\n",
       "      <td>73.0</td>\n",
       "      <td>1311</td>\n",
       "      <td>2014</td>\n",
       "      <td>3.25</td>\n",
       "      <td>H</td>\n",
       "    </tr>\n",
       "    <tr>\n",
       "      <th>21</th>\n",
       "      <td>A. Morin</td>\n",
       "      <td>France</td>\n",
       "      <td>Unknown</td>\n",
       "      <td>Bolivia</td>\n",
       "      <td>Bolivia</td>\n",
       "      <td>70.0</td>\n",
       "      <td>797</td>\n",
       "      <td>2012</td>\n",
       "      <td>3.50</td>\n",
       "      <td>G</td>\n",
       "    </tr>\n",
       "    <tr>\n",
       "      <th>1061</th>\n",
       "      <td>Mars</td>\n",
       "      <td>U.S.A.</td>\n",
       "      <td>Unknown</td>\n",
       "      <td>Nigeria</td>\n",
       "      <td>Nigeria</td>\n",
       "      <td>65.0</td>\n",
       "      <td>544</td>\n",
       "      <td>2010</td>\n",
       "      <td>3.25</td>\n",
       "      <td>H</td>\n",
       "    </tr>\n",
       "    <tr>\n",
       "      <th>518</th>\n",
       "      <td>Davis</td>\n",
       "      <td>U.S.A.</td>\n",
       "      <td>Forastero</td>\n",
       "      <td>West Africa</td>\n",
       "      <td>West Africa</td>\n",
       "      <td>58.0</td>\n",
       "      <td>907</td>\n",
       "      <td>2012</td>\n",
       "      <td>3.25</td>\n",
       "      <td>H</td>\n",
       "    </tr>\n",
       "    <tr>\n",
       "      <th>361</th>\n",
       "      <td>Castronovo</td>\n",
       "      <td>U.S.A.</td>\n",
       "      <td>Criollo, Trinitario</td>\n",
       "      <td>Sierra Nevada</td>\n",
       "      <td>Colombia</td>\n",
       "      <td>72.0</td>\n",
       "      <td>1347</td>\n",
       "      <td>2014</td>\n",
       "      <td>3.50</td>\n",
       "      <td>G</td>\n",
       "    </tr>\n",
       "    <tr>\n",
       "      <th>1751</th>\n",
       "      <td>Woodblock</td>\n",
       "      <td>U.S.A.</td>\n",
       "      <td>Unknown</td>\n",
       "      <td>Camino Verde P., Balao, Guayas</td>\n",
       "      <td>Ecuador</td>\n",
       "      <td>70.0</td>\n",
       "      <td>1042</td>\n",
       "      <td>2013</td>\n",
       "      <td>3.25</td>\n",
       "      <td>H</td>\n",
       "    </tr>\n",
       "  </tbody>\n",
       "</table>\n",
       "</div>"
      ],
      "text/plain": [
       "            Company Company Location            Bean Type  \\\n",
       "483       Dandelion           U.S.A.           Trinitario   \n",
       "1379         Ritual           U.S.A.           Trinitario   \n",
       "971    Lillie Belle           U.S.A.              Unknown   \n",
       "878   Jacque Torres           U.S.A.           Trinitario   \n",
       "1301     Pitch Dark           U.S.A.           Trinitario   \n",
       "21         A. Morin           France              Unknown   \n",
       "1061           Mars           U.S.A.              Unknown   \n",
       "518           Davis           U.S.A.            Forastero   \n",
       "361      Castronovo           U.S.A.  Criollo, Trinitario   \n",
       "1751      Woodblock           U.S.A.              Unknown   \n",
       "\n",
       "                Specific Bean Origin Broad Bean Origin  Cocoa Percent   REF  \\\n",
       "483      Maya Mtn., Break Bar- Snark            Belize           70.0  1446   \n",
       "1379                      Gran Couva          Trinidad           75.0   979   \n",
       "971                         La Selva              Peru           68.0   903   \n",
       "878              Trinatario Treasure             Ghana           71.0     5   \n",
       "1301                  Akesson Estate        Madagascar           73.0  1311   \n",
       "21                           Bolivia           Bolivia           70.0   797   \n",
       "1061                         Nigeria           Nigeria           65.0   544   \n",
       "518                      West Africa       West Africa           58.0   907   \n",
       "361                    Sierra Nevada          Colombia           72.0  1347   \n",
       "1751  Camino Verde P., Balao, Guayas           Ecuador           70.0  1042   \n",
       "\n",
       "      Review Date  Rating Grade  \n",
       "483          2015    3.00     I  \n",
       "1379         2012    3.50     G  \n",
       "971          2012    3.75     F  \n",
       "878          2006    2.00     M  \n",
       "1301         2014    3.25     H  \n",
       "21           2012    3.50     G  \n",
       "1061         2010    3.25     H  \n",
       "518          2012    3.25     H  \n",
       "361          2014    3.50     G  \n",
       "1751         2013    3.25     H  "
      ]
     },
     "metadata": {},
     "execution_count": 1
    }
   ],
   "metadata": {
    "cellView": "form",
    "colab": {},
    "colab_type": "code",
    "id": "dEDlbe_L7LEl"
   }
  },
  {
   "cell_type": "markdown",
   "source": [
    "## Data Analysis\n",
    "\n",
    "We have looked at each column in isolation in order to ensure that the data in that column is complete and seems to make sense. In this section we will take that newly-cleaned data and look at it in a little more depth. We will examine some columns individually. We'll also see how columns might relate to one another."
   ],
   "metadata": {
    "colab_type": "text",
    "id": "lmbCYQJu9SJp"
   }
  },
  {
   "cell_type": "markdown",
   "source": [
    "### Visualizing Ratings\n",
    "\n",
    "Ratings are very important to our dataset. One interesting visualization might be a line chart of counts of each rating. To do that we can extract a `Series` containing the ratings, group by that `Series`, and plot the counts."
   ],
   "metadata": {
    "colab_type": "text",
    "id": "XrNet1xDAF-W"
   }
  },
  {
   "cell_type": "code",
   "execution_count": 2,
   "source": [
    "import matplotlib.pyplot as plt\n",
    "\n",
    "ratings = df['Rating'].groupby(df['Rating']).count()\n",
    "\n",
    "plt.plot(ratings.index, ratings)\n",
    "plt.show()"
   ],
   "outputs": [
    {
     "output_type": "display_data",
     "data": {
      "image/png": "[encoded data removed]",
      "text/plain": [
       "<Figure size 432x288 with 1 Axes>"
      ]
     },
     "metadata": {
      "needs_background": "light"
     }
    }
   ],
   "metadata": {
    "colab": {},
    "colab_type": "code",
    "id": "xdX5BpD3-gFM"
   }
  },
  {
   "cell_type": "markdown",
   "source": [
    "This shows that ratings seem to mostly be in the 3s with a reasonable tail higher and lower.\n",
    "\n",
    "We can also put these values in a bar chart"
   ],
   "metadata": {
    "colab_type": "text",
    "id": "NsS3asnJAWRX"
   }
  },
  {
   "cell_type": "code",
   "execution_count": 3,
   "source": [
    "import matplotlib.pyplot as plt\n",
    "\n",
    "grades = df['Rating'].groupby(df['Rating']).count()\n",
    "\n",
    "plt.bar(grades.index, grades)\n",
    "plt.show()"
   ],
   "outputs": [
    {
     "output_type": "display_data",
     "data": {
      "image/png": "[encoded data removed]",
      "text/plain": [
       "<Figure size 432x288 with 1 Axes>"
      ]
     },
     "metadata": {
      "needs_background": "light"
     }
    }
   ],
   "metadata": {
    "colab": {},
    "colab_type": "code",
    "id": "C59We7HvAD3U"
   }
  },
  {
   "cell_type": "markdown",
   "source": [
    "This changes the visualization's form quite a bit. Instead of using 'Rating' for the chart, let's use our 'Grade' column."
   ],
   "metadata": {
    "colab_type": "text",
    "id": "-w4w1FacBECK"
   }
  },
  {
   "cell_type": "code",
   "execution_count": 193,
   "source": [
    "import matplotlib.pyplot as plt\n",
    "\n",
    "grades = df['Grade'].groupby(df['Grade']).count()\n",
    "\n",
    "plt.bar(grades.index, grades)\n",
    "plt.show()"
   ],
   "outputs": [
    {
     "output_type": "display_data",
     "data": {
      "image/png": "[encoded data removed]",
      "image/svg+xml": "<?xml version=\"1.0\" encoding=\"utf-8\" standalone=\"no\"?>\n<!DOCTYPE svg PUBLIC \"-//W3C//DTD SVG 1.1//EN\"\n  \"http://www.w3.org/Graphics/SVG/1.1/DTD/svg11.dtd\">\n<!-- Created with matplotlib (https://matplotlib.org/) -->\n<svg height=\"248.518125pt\" version=\"1.1\" viewBox=\"0 0 375.2875 248.518125\" width=\"375.2875pt\" xmlns=\"http://www.w3.org/2000/svg\" xmlns:xlink=\"http://www.w3.org/1999/xlink\">\n <metadata>\n  <rdf:RDF xmlns:cc=\"http://creativecommons.org/ns#\" xmlns:dc=\"http://purl.org/dc/elements/1.1/\" xmlns:rdf=\"http://www.w3.org/1999/02/22-rdf-syntax-ns#\">\n   <cc:Work>\n    <dc:type rdf:resource=\"http://purl.org/dc/dcmitype/StillImage\"/>\n    <dc:date>2021-06-20T21:59:55.441666</dc:date>\n    <dc:format>image/svg+xml</dc:format>\n    <dc:creator>\n     <cc:Agent>\n      <dc:title>Matplotlib v3.3.2, https://matplotlib.org/</dc:title>\n     </cc:Agent>\n    </dc:creator>\n   </cc:Work>\n  </rdf:RDF>\n </metadata>\n <defs>\n  <style type=\"text/css\">*{stroke-linecap:butt;stroke-linejoin:round;}</style>\n </defs>\n <g id=\"figure_1\">\n  <g id=\"patch_1\">\n   <path d=\"M 0 248.518125 \nL 375.2875 248.518125 \nL 375.2875 0 \nL 0 0 \nz\n\" style=\"fill:none;\"/>\n  </g>\n  <g id=\"axes_1\">\n   <g id=\"patch_2\">\n    <path d=\"M 33.2875 224.64 \nL 368.0875 224.64 \nL 368.0875 7.2 \nL 33.2875 7.2 \nz\n\" style=\"fill:#ffffff;\"/>\n   </g>\n   <g id=\"patch_3\">\n    <path clip-path=\"url(#p8138a9d563)\" d=\"M 48.505682 224.64 \nL 67.528409 224.64 \nL 67.528409 223.58344 \nL 48.505682 223.58344 \nz\n\" style=\"fill:#1f77b4;\"/>\n   </g>\n   <g id=\"patch_4\">\n    <path clip-path=\"url(#p8138a9d563)\" d=\"M 72.284091 224.64 \nL 91.306818 224.64 \nL 91.306818 172.868571 \nL 72.284091 172.868571 \nz\n\" style=\"fill:#1f77b4;\"/>\n   </g>\n   <g id=\"patch_5\">\n    <path clip-path=\"url(#p8138a9d563)\" d=\"M 96.0625 224.64 \nL 115.085227 224.64 \nL 115.085227 113.701224 \nL 96.0625 113.701224 \nz\n\" style=\"fill:#1f77b4;\"/>\n   </g>\n   <g id=\"patch_6\">\n    <path clip-path=\"url(#p8138a9d563)\" d=\"M 119.840909 224.64 \nL 138.863636 224.64 \nL 138.863636 17.554286 \nL 119.840909 17.554286 \nz\n\" style=\"fill:#1f77b4;\"/>\n   </g>\n   <g id=\"patch_7\">\n    <path clip-path=\"url(#p8138a9d563)\" d=\"M 143.619318 224.64 \nL 162.642045 224.64 \nL 162.642045 64.571195 \nL 143.619318 64.571195 \nz\n\" style=\"fill:#1f77b4;\"/>\n   </g>\n   <g id=\"patch_8\">\n    <path clip-path=\"url(#p8138a9d563)\" d=\"M 167.397727 224.64 \nL 186.420455 224.64 \nL 186.420455 44.49656 \nL 167.397727 44.49656 \nz\n\" style=\"fill:#1f77b4;\"/>\n   </g>\n   <g id=\"patch_9\">\n    <path clip-path=\"url(#p8138a9d563)\" d=\"M 191.176136 224.64 \nL 210.198864 224.64 \nL 210.198864 87.81551 \nL 191.176136 87.81551 \nz\n\" style=\"fill:#1f77b4;\"/>\n   </g>\n   <g id=\"patch_10\">\n    <path clip-path=\"url(#p8138a9d563)\" d=\"M 214.954545 224.64 \nL 233.977273 224.64 \nL 233.977273 157.548455 \nL 214.954545 157.548455 \nz\n\" style=\"fill:#1f77b4;\"/>\n   </g>\n   <g id=\"patch_11\">\n    <path clip-path=\"url(#p8138a9d563)\" d=\"M 238.732955 224.64 \nL 257.755682 224.64 \nL 257.755682 217.244082 \nL 238.732955 217.244082 \nz\n\" style=\"fill:#1f77b4;\"/>\n   </g>\n   <g id=\"patch_12\">\n    <path clip-path=\"url(#p8138a9d563)\" d=\"M 262.511364 224.64 \nL 281.534091 224.64 \nL 281.534091 207.735044 \nL 262.511364 207.735044 \nz\n\" style=\"fill:#1f77b4;\"/>\n   </g>\n   <g id=\"patch_13\">\n    <path clip-path=\"url(#p8138a9d563)\" d=\"M 286.289773 224.64 \nL 305.3125 224.64 \nL 305.3125 223.05516 \nL 286.289773 223.05516 \nz\n\" style=\"fill:#1f77b4;\"/>\n   </g>\n   <g id=\"patch_14\">\n    <path clip-path=\"url(#p8138a9d563)\" d=\"M 310.068182 224.64 \nL 329.090909 224.64 \nL 329.090909 219.357201 \nL 310.068182 219.357201 \nz\n\" style=\"fill:#1f77b4;\"/>\n   </g>\n   <g id=\"patch_15\">\n    <path clip-path=\"url(#p8138a9d563)\" d=\"M 333.846591 224.64 \nL 352.869318 224.64 \nL 352.869318 222.52688 \nL 333.846591 222.52688 \nz\n\" style=\"fill:#1f77b4;\"/>\n   </g>\n   <g id=\"matplotlib.axis_1\">\n    <g id=\"xtick_1\">\n     <g id=\"line2d_1\">\n      <defs>\n       <path d=\"M 0 0 \nL 0 3.5 \n\" id=\"mb0a679e950\" style=\"stroke:#000000;stroke-width:0.8;\"/>\n      </defs>\n      <g>\n       <use style=\"stroke:#000000;stroke-width:0.8;\" x=\"58.017045\" xlink:href=\"#mb0a679e950\" y=\"224.64\"/>\n      </g>\n     </g>\n     <g id=\"text_1\">\n      <!-- A -->\n      <g transform=\"translate(54.596733 239.238438)scale(0.1 -0.1)\">\n       <defs>\n        <path d=\"M 34.1875 63.1875 \nL 20.796875 26.90625 \nL 47.609375 26.90625 \nz\nM 28.609375 72.90625 \nL 39.796875 72.90625 \nL 67.578125 0 \nL 57.328125 0 \nL 50.6875 18.703125 \nL 17.828125 18.703125 \nL 11.1875 0 \nL 0.78125 0 \nz\n\" id=\"DejaVuSans-65\"/>\n       </defs>\n       <use xlink:href=\"#DejaVuSans-65\"/>\n      </g>\n     </g>\n    </g>\n    <g id=\"xtick_2\">\n     <g id=\"line2d_2\">\n      <g>\n       <use style=\"stroke:#000000;stroke-width:0.8;\" x=\"81.795455\" xlink:href=\"#mb0a679e950\" y=\"224.64\"/>\n      </g>\n     </g>\n     <g id=\"text_2\">\n      <!-- E -->\n      <g transform=\"translate(78.63608 239.238438)scale(0.1 -0.1)\">\n       <defs>\n        <path d=\"M 9.8125 72.90625 \nL 55.90625 72.90625 \nL 55.90625 64.59375 \nL 19.671875 64.59375 \nL 19.671875 43.015625 \nL 54.390625 43.015625 \nL 54.390625 34.71875 \nL 19.671875 34.71875 \nL 19.671875 8.296875 \nL 56.78125 8.296875 \nL 56.78125 0 \nL 9.8125 0 \nz\n\" id=\"DejaVuSans-69\"/>\n       </defs>\n       <use xlink:href=\"#DejaVuSans-69\"/>\n      </g>\n     </g>\n    </g>\n    <g id=\"xtick_3\">\n     <g id=\"line2d_3\">\n      <g>\n       <use style=\"stroke:#000000;stroke-width:0.8;\" x=\"105.573864\" xlink:href=\"#mb0a679e950\" y=\"224.64\"/>\n      </g>\n     </g>\n     <g id=\"text_3\">\n      <!-- F -->\n      <g transform=\"translate(102.698082 239.238438)scale(0.1 -0.1)\">\n       <defs>\n        <path d=\"M 9.8125 72.90625 \nL 51.703125 72.90625 \nL 51.703125 64.59375 \nL 19.671875 64.59375 \nL 19.671875 43.109375 \nL 48.578125 43.109375 \nL 48.578125 34.8125 \nL 19.671875 34.8125 \nL 19.671875 0 \nL 9.8125 0 \nz\n\" id=\"DejaVuSans-70\"/>\n       </defs>\n       <use xlink:href=\"#DejaVuSans-70\"/>\n      </g>\n     </g>\n    </g>\n    <g id=\"xtick_4\">\n     <g id=\"line2d_4\">\n      <g>\n       <use style=\"stroke:#000000;stroke-width:0.8;\" x=\"129.352273\" xlink:href=\"#mb0a679e950\" y=\"224.64\"/>\n      </g>\n     </g>\n     <g id=\"text_4\">\n      <!-- G -->\n      <g transform=\"translate(125.478054 239.238438)scale(0.1 -0.1)\">\n       <defs>\n        <path d=\"M 59.515625 10.40625 \nL 59.515625 29.984375 \nL 43.40625 29.984375 \nL 43.40625 38.09375 \nL 69.28125 38.09375 \nL 69.28125 6.78125 \nQ 63.578125 2.734375 56.6875 0.65625 \nQ 49.8125 -1.421875 42 -1.421875 \nQ 24.90625 -1.421875 15.25 8.5625 \nQ 5.609375 18.5625 5.609375 36.375 \nQ 5.609375 54.25 15.25 64.234375 \nQ 24.90625 74.21875 42 74.21875 \nQ 49.125 74.21875 55.546875 72.453125 \nQ 61.96875 70.703125 67.390625 67.28125 \nL 67.390625 56.78125 \nQ 61.921875 61.421875 55.765625 63.765625 \nQ 49.609375 66.109375 42.828125 66.109375 \nQ 29.4375 66.109375 22.71875 58.640625 \nQ 16.015625 51.171875 16.015625 36.375 \nQ 16.015625 21.625 22.71875 14.15625 \nQ 29.4375 6.6875 42.828125 6.6875 \nQ 48.046875 6.6875 52.140625 7.59375 \nQ 56.25 8.5 59.515625 10.40625 \nz\n\" id=\"DejaVuSans-71\"/>\n       </defs>\n       <use xlink:href=\"#DejaVuSans-71\"/>\n      </g>\n     </g>\n    </g>\n    <g id=\"xtick_5\">\n     <g id=\"line2d_5\">\n      <g>\n       <use style=\"stroke:#000000;stroke-width:0.8;\" x=\"153.130682\" xlink:href=\"#mb0a679e950\" y=\"224.64\"/>\n      </g>\n     </g>\n     <g id=\"text_5\">\n      <!-- H -->\n      <g transform=\"translate(149.370526 239.238438)scale(0.1 -0.1)\">\n       <defs>\n        <path d=\"M 9.8125 72.90625 \nL 19.671875 72.90625 \nL 19.671875 43.015625 \nL 55.515625 43.015625 \nL 55.515625 72.90625 \nL 65.375 72.90625 \nL 65.375 0 \nL 55.515625 0 \nL 55.515625 34.71875 \nL 19.671875 34.71875 \nL 19.671875 0 \nL 9.8125 0 \nz\n\" id=\"DejaVuSans-72\"/>\n       </defs>\n       <use xlink:href=\"#DejaVuSans-72\"/>\n      </g>\n     </g>\n    </g>\n    <g id=\"xtick_6\">\n     <g id=\"line2d_6\">\n      <g>\n       <use style=\"stroke:#000000;stroke-width:0.8;\" x=\"176.909091\" xlink:href=\"#mb0a679e950\" y=\"224.64\"/>\n      </g>\n     </g>\n     <g id=\"text_6\">\n      <!-- I -->\n      <g transform=\"translate(175.434091 239.238438)scale(0.1 -0.1)\">\n       <defs>\n        <path d=\"M 9.8125 72.90625 \nL 19.671875 72.90625 \nL 19.671875 0 \nL 9.8125 0 \nz\n\" id=\"DejaVuSans-73\"/>\n       </defs>\n       <use xlink:href=\"#DejaVuSans-73\"/>\n      </g>\n     </g>\n    </g>\n    <g id=\"xtick_7\">\n     <g id=\"line2d_7\">\n      <g>\n       <use style=\"stroke:#000000;stroke-width:0.8;\" x=\"200.6875\" xlink:href=\"#mb0a679e950\" y=\"224.64\"/>\n      </g>\n     </g>\n     <g id=\"text_7\">\n      <!-- J -->\n      <g transform=\"translate(199.2125 239.238438)scale(0.1 -0.1)\">\n       <defs>\n        <path d=\"M 9.8125 72.90625 \nL 19.671875 72.90625 \nL 19.671875 5.078125 \nQ 19.671875 -8.109375 14.671875 -14.0625 \nQ 9.671875 -20.015625 -1.421875 -20.015625 \nL -5.171875 -20.015625 \nL -5.171875 -11.71875 \nL -2.09375 -11.71875 \nQ 4.4375 -11.71875 7.125 -8.046875 \nQ 9.8125 -4.390625 9.8125 5.078125 \nz\n\" id=\"DejaVuSans-74\"/>\n       </defs>\n       <use xlink:href=\"#DejaVuSans-74\"/>\n      </g>\n     </g>\n    </g>\n    <g id=\"xtick_8\">\n     <g id=\"line2d_8\">\n      <g>\n       <use style=\"stroke:#000000;stroke-width:0.8;\" x=\"224.465909\" xlink:href=\"#mb0a679e950\" y=\"224.64\"/>\n      </g>\n     </g>\n     <g id=\"text_8\">\n      <!-- K -->\n      <g transform=\"translate(221.187003 239.238438)scale(0.1 -0.1)\">\n       <defs>\n        <path d=\"M 9.8125 72.90625 \nL 19.671875 72.90625 \nL 19.671875 42.09375 \nL 52.390625 72.90625 \nL 65.09375 72.90625 \nL 28.90625 38.921875 \nL 67.671875 0 \nL 54.6875 0 \nL 19.671875 35.109375 \nL 19.671875 0 \nL 9.8125 0 \nz\n\" id=\"DejaVuSans-75\"/>\n       </defs>\n       <use xlink:href=\"#DejaVuSans-75\"/>\n      </g>\n     </g>\n    </g>\n    <g id=\"xtick_9\">\n     <g id=\"line2d_9\">\n      <g>\n       <use style=\"stroke:#000000;stroke-width:0.8;\" x=\"248.244318\" xlink:href=\"#mb0a679e950\" y=\"224.64\"/>\n      </g>\n     </g>\n     <g id=\"text_9\">\n      <!-- L -->\n      <g transform=\"translate(245.458381 239.238438)scale(0.1 -0.1)\">\n       <defs>\n        <path d=\"M 9.8125 72.90625 \nL 19.671875 72.90625 \nL 19.671875 8.296875 \nL 55.171875 8.296875 \nL 55.171875 0 \nL 9.8125 0 \nz\n\" id=\"DejaVuSans-76\"/>\n       </defs>\n       <use xlink:href=\"#DejaVuSans-76\"/>\n      </g>\n     </g>\n    </g>\n    <g id=\"xtick_10\">\n     <g id=\"line2d_10\">\n      <g>\n       <use style=\"stroke:#000000;stroke-width:0.8;\" x=\"272.022727\" xlink:href=\"#mb0a679e950\" y=\"224.64\"/>\n      </g>\n     </g>\n     <g id=\"text_10\">\n      <!-- M -->\n      <g transform=\"translate(267.708665 239.238438)scale(0.1 -0.1)\">\n       <defs>\n        <path d=\"M 9.8125 72.90625 \nL 24.515625 72.90625 \nL 43.109375 23.296875 \nL 61.8125 72.90625 \nL 76.515625 72.90625 \nL 76.515625 0 \nL 66.890625 0 \nL 66.890625 64.015625 \nL 48.09375 14.015625 \nL 38.1875 14.015625 \nL 19.390625 64.015625 \nL 19.390625 0 \nL 9.8125 0 \nz\n\" id=\"DejaVuSans-77\"/>\n       </defs>\n       <use xlink:href=\"#DejaVuSans-77\"/>\n      </g>\n     </g>\n    </g>\n    <g id=\"xtick_11\">\n     <g id=\"line2d_11\">\n      <g>\n       <use style=\"stroke:#000000;stroke-width:0.8;\" x=\"295.801136\" xlink:href=\"#mb0a679e950\" y=\"224.64\"/>\n      </g>\n     </g>\n     <g id=\"text_11\">\n      <!-- N -->\n      <g transform=\"translate(292.060511 239.238438)scale(0.1 -0.1)\">\n       <defs>\n        <path d=\"M 9.8125 72.90625 \nL 23.09375 72.90625 \nL 55.421875 11.921875 \nL 55.421875 72.90625 \nL 64.984375 72.90625 \nL 64.984375 0 \nL 51.703125 0 \nL 19.390625 60.984375 \nL 19.390625 0 \nL 9.8125 0 \nz\n\" id=\"DejaVuSans-78\"/>\n       </defs>\n       <use xlink:href=\"#DejaVuSans-78\"/>\n      </g>\n     </g>\n    </g>\n    <g id=\"xtick_12\">\n     <g id=\"line2d_12\">\n      <g>\n       <use style=\"stroke:#000000;stroke-width:0.8;\" x=\"319.579545\" xlink:href=\"#mb0a679e950\" y=\"224.64\"/>\n      </g>\n     </g>\n     <g id=\"text_12\">\n      <!-- O -->\n      <g transform=\"translate(315.643608 239.238438)scale(0.1 -0.1)\">\n       <defs>\n        <path d=\"M 39.40625 66.21875 \nQ 28.65625 66.21875 22.328125 58.203125 \nQ 16.015625 50.203125 16.015625 36.375 \nQ 16.015625 22.609375 22.328125 14.59375 \nQ 28.65625 6.59375 39.40625 6.59375 \nQ 50.140625 6.59375 56.421875 14.59375 \nQ 62.703125 22.609375 62.703125 36.375 \nQ 62.703125 50.203125 56.421875 58.203125 \nQ 50.140625 66.21875 39.40625 66.21875 \nz\nM 39.40625 74.21875 \nQ 54.734375 74.21875 63.90625 63.9375 \nQ 73.09375 53.65625 73.09375 36.375 \nQ 73.09375 19.140625 63.90625 8.859375 \nQ 54.734375 -1.421875 39.40625 -1.421875 \nQ 24.03125 -1.421875 14.8125 8.828125 \nQ 5.609375 19.09375 5.609375 36.375 \nQ 5.609375 53.65625 14.8125 63.9375 \nQ 24.03125 74.21875 39.40625 74.21875 \nz\n\" id=\"DejaVuSans-79\"/>\n       </defs>\n       <use xlink:href=\"#DejaVuSans-79\"/>\n      </g>\n     </g>\n    </g>\n    <g id=\"xtick_13\">\n     <g id=\"line2d_13\">\n      <g>\n       <use style=\"stroke:#000000;stroke-width:0.8;\" x=\"343.357955\" xlink:href=\"#mb0a679e950\" y=\"224.64\"/>\n      </g>\n     </g>\n     <g id=\"text_13\">\n      <!-- Q -->\n      <g transform=\"translate(339.422017 239.238438)scale(0.1 -0.1)\">\n       <defs>\n        <path d=\"M 39.40625 66.21875 \nQ 28.65625 66.21875 22.328125 58.203125 \nQ 16.015625 50.203125 16.015625 36.375 \nQ 16.015625 22.609375 22.328125 14.59375 \nQ 28.65625 6.59375 39.40625 6.59375 \nQ 50.140625 6.59375 56.421875 14.59375 \nQ 62.703125 22.609375 62.703125 36.375 \nQ 62.703125 50.203125 56.421875 58.203125 \nQ 50.140625 66.21875 39.40625 66.21875 \nz\nM 53.21875 1.3125 \nL 66.21875 -12.890625 \nL 54.296875 -12.890625 \nL 43.5 -1.21875 \nQ 41.890625 -1.3125 41.03125 -1.359375 \nQ 40.1875 -1.421875 39.40625 -1.421875 \nQ 24.03125 -1.421875 14.8125 8.859375 \nQ 5.609375 19.140625 5.609375 36.375 \nQ 5.609375 53.65625 14.8125 63.9375 \nQ 24.03125 74.21875 39.40625 74.21875 \nQ 54.734375 74.21875 63.90625 63.9375 \nQ 73.09375 53.65625 73.09375 36.375 \nQ 73.09375 23.6875 67.984375 14.640625 \nQ 62.890625 5.609375 53.21875 1.3125 \nz\n\" id=\"DejaVuSans-81\"/>\n       </defs>\n       <use xlink:href=\"#DejaVuSans-81\"/>\n      </g>\n     </g>\n    </g>\n   </g>\n   <g id=\"matplotlib.axis_2\">\n    <g id=\"ytick_1\">\n     <g id=\"line2d_14\">\n      <defs>\n       <path d=\"M 0 0 \nL -3.5 0 \n\" id=\"m27116da0b2\" style=\"stroke:#000000;stroke-width:0.8;\"/>\n      </defs>\n      <g>\n       <use style=\"stroke:#000000;stroke-width:0.8;\" x=\"33.2875\" xlink:href=\"#m27116da0b2\" y=\"224.64\"/>\n      </g>\n     </g>\n     <g id=\"text_14\">\n      <!-- 0 -->\n      <g transform=\"translate(19.925 228.439219)scale(0.1 -0.1)\">\n       <defs>\n        <path d=\"M 31.78125 66.40625 \nQ 24.171875 66.40625 20.328125 58.90625 \nQ 16.5 51.421875 16.5 36.375 \nQ 16.5 21.390625 20.328125 13.890625 \nQ 24.171875 6.390625 31.78125 6.390625 \nQ 39.453125 6.390625 43.28125 13.890625 \nQ 47.125 21.390625 47.125 36.375 \nQ 47.125 51.421875 43.28125 58.90625 \nQ 39.453125 66.40625 31.78125 66.40625 \nz\nM 31.78125 74.21875 \nQ 44.046875 74.21875 50.515625 64.515625 \nQ 56.984375 54.828125 56.984375 36.375 \nQ 56.984375 17.96875 50.515625 8.265625 \nQ 44.046875 -1.421875 31.78125 -1.421875 \nQ 19.53125 -1.421875 13.0625 8.265625 \nQ 6.59375 17.96875 6.59375 36.375 \nQ 6.59375 54.828125 13.0625 64.515625 \nQ 19.53125 74.21875 31.78125 74.21875 \nz\n\" id=\"DejaVuSans-48\"/>\n       </defs>\n       <use xlink:href=\"#DejaVuSans-48\"/>\n      </g>\n     </g>\n    </g>\n    <g id=\"ytick_2\">\n     <g id=\"line2d_15\">\n      <g>\n       <use style=\"stroke:#000000;stroke-width:0.8;\" x=\"33.2875\" xlink:href=\"#m27116da0b2\" y=\"198.226006\"/>\n      </g>\n     </g>\n     <g id=\"text_15\">\n      <!-- 50 -->\n      <g transform=\"translate(13.5625 202.025225)scale(0.1 -0.1)\">\n       <defs>\n        <path d=\"M 10.796875 72.90625 \nL 49.515625 72.90625 \nL 49.515625 64.59375 \nL 19.828125 64.59375 \nL 19.828125 46.734375 \nQ 21.96875 47.46875 24.109375 47.828125 \nQ 26.265625 48.1875 28.421875 48.1875 \nQ 40.625 48.1875 47.75 41.5 \nQ 54.890625 34.8125 54.890625 23.390625 \nQ 54.890625 11.625 47.5625 5.09375 \nQ 40.234375 -1.421875 26.90625 -1.421875 \nQ 22.3125 -1.421875 17.546875 -0.640625 \nQ 12.796875 0.140625 7.71875 1.703125 \nL 7.71875 11.625 \nQ 12.109375 9.234375 16.796875 8.0625 \nQ 21.484375 6.890625 26.703125 6.890625 \nQ 35.15625 6.890625 40.078125 11.328125 \nQ 45.015625 15.765625 45.015625 23.390625 \nQ 45.015625 31 40.078125 35.4375 \nQ 35.15625 39.890625 26.703125 39.890625 \nQ 22.75 39.890625 18.8125 39.015625 \nQ 14.890625 38.140625 10.796875 36.28125 \nz\n\" id=\"DejaVuSans-53\"/>\n       </defs>\n       <use xlink:href=\"#DejaVuSans-53\"/>\n       <use x=\"63.623047\" xlink:href=\"#DejaVuSans-48\"/>\n      </g>\n     </g>\n    </g>\n    <g id=\"ytick_3\">\n     <g id=\"line2d_16\">\n      <g>\n       <use style=\"stroke:#000000;stroke-width:0.8;\" x=\"33.2875\" xlink:href=\"#m27116da0b2\" y=\"171.812012\"/>\n      </g>\n     </g>\n     <g id=\"text_16\">\n      <!-- 100 -->\n      <g transform=\"translate(7.2 175.61123)scale(0.1 -0.1)\">\n       <defs>\n        <path d=\"M 12.40625 8.296875 \nL 28.515625 8.296875 \nL 28.515625 63.921875 \nL 10.984375 60.40625 \nL 10.984375 69.390625 \nL 28.421875 72.90625 \nL 38.28125 72.90625 \nL 38.28125 8.296875 \nL 54.390625 8.296875 \nL 54.390625 0 \nL 12.40625 0 \nz\n\" id=\"DejaVuSans-49\"/>\n       </defs>\n       <use xlink:href=\"#DejaVuSans-49\"/>\n       <use x=\"63.623047\" xlink:href=\"#DejaVuSans-48\"/>\n       <use x=\"127.246094\" xlink:href=\"#DejaVuSans-48\"/>\n      </g>\n     </g>\n    </g>\n    <g id=\"ytick_4\">\n     <g id=\"line2d_17\">\n      <g>\n       <use style=\"stroke:#000000;stroke-width:0.8;\" x=\"33.2875\" xlink:href=\"#m27116da0b2\" y=\"145.398017\"/>\n      </g>\n     </g>\n     <g id=\"text_17\">\n      <!-- 150 -->\n      <g transform=\"translate(7.2 149.197236)scale(0.1 -0.1)\">\n       <use xlink:href=\"#DejaVuSans-49\"/>\n       <use x=\"63.623047\" xlink:href=\"#DejaVuSans-53\"/>\n       <use x=\"127.246094\" xlink:href=\"#DejaVuSans-48\"/>\n      </g>\n     </g>\n    </g>\n    <g id=\"ytick_5\">\n     <g id=\"line2d_18\">\n      <g>\n       <use style=\"stroke:#000000;stroke-width:0.8;\" x=\"33.2875\" xlink:href=\"#m27116da0b2\" y=\"118.984023\"/>\n      </g>\n     </g>\n     <g id=\"text_18\">\n      <!-- 200 -->\n      <g transform=\"translate(7.2 122.783242)scale(0.1 -0.1)\">\n       <defs>\n        <path d=\"M 19.1875 8.296875 \nL 53.609375 8.296875 \nL 53.609375 0 \nL 7.328125 0 \nL 7.328125 8.296875 \nQ 12.9375 14.109375 22.625 23.890625 \nQ 32.328125 33.6875 34.8125 36.53125 \nQ 39.546875 41.84375 41.421875 45.53125 \nQ 43.3125 49.21875 43.3125 52.78125 \nQ 43.3125 58.59375 39.234375 62.25 \nQ 35.15625 65.921875 28.609375 65.921875 \nQ 23.96875 65.921875 18.8125 64.3125 \nQ 13.671875 62.703125 7.8125 59.421875 \nL 7.8125 69.390625 \nQ 13.765625 71.78125 18.9375 73 \nQ 24.125 74.21875 28.421875 74.21875 \nQ 39.75 74.21875 46.484375 68.546875 \nQ 53.21875 62.890625 53.21875 53.421875 \nQ 53.21875 48.921875 51.53125 44.890625 \nQ 49.859375 40.875 45.40625 35.40625 \nQ 44.1875 33.984375 37.640625 27.21875 \nQ 31.109375 20.453125 19.1875 8.296875 \nz\n\" id=\"DejaVuSans-50\"/>\n       </defs>\n       <use xlink:href=\"#DejaVuSans-50\"/>\n       <use x=\"63.623047\" xlink:href=\"#DejaVuSans-48\"/>\n       <use x=\"127.246094\" xlink:href=\"#DejaVuSans-48\"/>\n      </g>\n     </g>\n    </g>\n    <g id=\"ytick_6\">\n     <g id=\"line2d_19\">\n      <g>\n       <use style=\"stroke:#000000;stroke-width:0.8;\" x=\"33.2875\" xlink:href=\"#m27116da0b2\" y=\"92.570029\"/>\n      </g>\n     </g>\n     <g id=\"text_19\">\n      <!-- 250 -->\n      <g transform=\"translate(7.2 96.369248)scale(0.1 -0.1)\">\n       <use xlink:href=\"#DejaVuSans-50\"/>\n       <use x=\"63.623047\" xlink:href=\"#DejaVuSans-53\"/>\n       <use x=\"127.246094\" xlink:href=\"#DejaVuSans-48\"/>\n      </g>\n     </g>\n    </g>\n    <g id=\"ytick_7\">\n     <g id=\"line2d_20\">\n      <g>\n       <use style=\"stroke:#000000;stroke-width:0.8;\" x=\"33.2875\" xlink:href=\"#m27116da0b2\" y=\"66.156035\"/>\n      </g>\n     </g>\n     <g id=\"text_20\">\n      <!-- 300 -->\n      <g transform=\"translate(7.2 69.955254)scale(0.1 -0.1)\">\n       <defs>\n        <path d=\"M 40.578125 39.3125 \nQ 47.65625 37.796875 51.625 33 \nQ 55.609375 28.21875 55.609375 21.1875 \nQ 55.609375 10.40625 48.1875 4.484375 \nQ 40.765625 -1.421875 27.09375 -1.421875 \nQ 22.515625 -1.421875 17.65625 -0.515625 \nQ 12.796875 0.390625 7.625 2.203125 \nL 7.625 11.71875 \nQ 11.71875 9.328125 16.59375 8.109375 \nQ 21.484375 6.890625 26.8125 6.890625 \nQ 36.078125 6.890625 40.9375 10.546875 \nQ 45.796875 14.203125 45.796875 21.1875 \nQ 45.796875 27.640625 41.28125 31.265625 \nQ 36.765625 34.90625 28.71875 34.90625 \nL 20.21875 34.90625 \nL 20.21875 43.015625 \nL 29.109375 43.015625 \nQ 36.375 43.015625 40.234375 45.921875 \nQ 44.09375 48.828125 44.09375 54.296875 \nQ 44.09375 59.90625 40.109375 62.90625 \nQ 36.140625 65.921875 28.71875 65.921875 \nQ 24.65625 65.921875 20.015625 65.03125 \nQ 15.375 64.15625 9.8125 62.3125 \nL 9.8125 71.09375 \nQ 15.4375 72.65625 20.34375 73.4375 \nQ 25.25 74.21875 29.59375 74.21875 \nQ 40.828125 74.21875 47.359375 69.109375 \nQ 53.90625 64.015625 53.90625 55.328125 \nQ 53.90625 49.265625 50.4375 45.09375 \nQ 46.96875 40.921875 40.578125 39.3125 \nz\n\" id=\"DejaVuSans-51\"/>\n       </defs>\n       <use xlink:href=\"#DejaVuSans-51\"/>\n       <use x=\"63.623047\" xlink:href=\"#DejaVuSans-48\"/>\n       <use x=\"127.246094\" xlink:href=\"#DejaVuSans-48\"/>\n      </g>\n     </g>\n    </g>\n    <g id=\"ytick_8\">\n     <g id=\"line2d_21\">\n      <g>\n       <use style=\"stroke:#000000;stroke-width:0.8;\" x=\"33.2875\" xlink:href=\"#m27116da0b2\" y=\"39.742041\"/>\n      </g>\n     </g>\n     <g id=\"text_21\">\n      <!-- 350 -->\n      <g transform=\"translate(7.2 43.54126)scale(0.1 -0.1)\">\n       <use xlink:href=\"#DejaVuSans-51\"/>\n       <use x=\"63.623047\" xlink:href=\"#DejaVuSans-53\"/>\n       <use x=\"127.246094\" xlink:href=\"#DejaVuSans-48\"/>\n      </g>\n     </g>\n    </g>\n    <g id=\"ytick_9\">\n     <g id=\"line2d_22\">\n      <g>\n       <use style=\"stroke:#000000;stroke-width:0.8;\" x=\"33.2875\" xlink:href=\"#m27116da0b2\" y=\"13.328047\"/>\n      </g>\n     </g>\n     <g id=\"text_22\">\n      <!-- 400 -->\n      <g transform=\"translate(7.2 17.127265)scale(0.1 -0.1)\">\n       <defs>\n        <path d=\"M 37.796875 64.3125 \nL 12.890625 25.390625 \nL 37.796875 25.390625 \nz\nM 35.203125 72.90625 \nL 47.609375 72.90625 \nL 47.609375 25.390625 \nL 58.015625 25.390625 \nL 58.015625 17.1875 \nL 47.609375 17.1875 \nL 47.609375 0 \nL 37.796875 0 \nL 37.796875 17.1875 \nL 4.890625 17.1875 \nL 4.890625 26.703125 \nz\n\" id=\"DejaVuSans-52\"/>\n       </defs>\n       <use xlink:href=\"#DejaVuSans-52\"/>\n       <use x=\"63.623047\" xlink:href=\"#DejaVuSans-48\"/>\n       <use x=\"127.246094\" xlink:href=\"#DejaVuSans-48\"/>\n      </g>\n     </g>\n    </g>\n   </g>\n   <g id=\"patch_16\">\n    <path d=\"M 33.2875 224.64 \nL 33.2875 7.2 \n\" style=\"fill:none;stroke:#000000;stroke-linecap:square;stroke-linejoin:miter;stroke-width:0.8;\"/>\n   </g>\n   <g id=\"patch_17\">\n    <path d=\"M 368.0875 224.64 \nL 368.0875 7.2 \n\" style=\"fill:none;stroke:#000000;stroke-linecap:square;stroke-linejoin:miter;stroke-width:0.8;\"/>\n   </g>\n   <g id=\"patch_18\">\n    <path d=\"M 33.2875 224.64 \nL 368.0875 224.64 \n\" style=\"fill:none;stroke:#000000;stroke-linecap:square;stroke-linejoin:miter;stroke-width:0.8;\"/>\n   </g>\n   <g id=\"patch_19\">\n    <path d=\"M 33.2875 7.2 \nL 368.0875 7.2 \n\" style=\"fill:none;stroke:#000000;stroke-linecap:square;stroke-linejoin:miter;stroke-width:0.8;\"/>\n   </g>\n  </g>\n </g>\n <defs>\n  <clipPath id=\"p8138a9d563\">\n   <rect height=\"217.44\" width=\"334.8\" x=\"33.2875\" y=\"7.2\"/>\n  </clipPath>\n </defs>\n</svg>\n",
      "text/plain": [
       "<Figure size 432x288 with 1 Axes>"
      ]
     },
     "metadata": {
      "needs_background": "light"
     }
    }
   ],
   "metadata": {
    "colab": {},
    "colab_type": "code",
    "id": "OwjzLAC4BRPR"
   }
  },
  {
   "cell_type": "markdown",
   "source": [
    "Overall, that's looking better. The sorting is opposite of 'Rating', so our best chocolates are to the left instead of the right. And you can see that we are missing 'B', 'C' and other values, which is not ideal."
   ],
   "metadata": {
    "colab_type": "text",
    "id": "9jq0Ap-dBUfE"
   }
  },
  {
   "cell_type": "markdown",
   "source": [
    "#### Exercise 1: Grade Bar Chart\n",
    "\n",
    "Improve on the bar chart of Grade values by having the chart include all letter grades, with counts or not, between 'A' and 'Q'."
   ],
   "metadata": {
    "colab_type": "text",
    "id": "ijMD7xpmBnrr"
   }
  },
  {
   "cell_type": "code",
   "execution_count": 4,
   "source": [
    "\n",
    "\n",
    "grades = df['Grade'].groupby(df['Grade']).count()\n",
    "new_keys = \"ABCDEFGHIJKLMNOQ\"\n",
    "\n",
    "#creating new series\n",
    "values = [2,0,0,0,98,210,392,341,259,127,14,32,3,10,4]\n",
    "new_dict = dict(zip(new_keys,values))\n",
    "#using dictionary to create a new series\n",
    "new_series = pd.Series(new_dict)\n",
    "\n",
    "plt.bar(new_series.index, new_series)\n",
    "plt.show()\n"
   ],
   "outputs": [
    {
     "output_type": "display_data",
     "data": {
      "image/png": "[encoded data removed]",
      "text/plain": [
       "<Figure size 432x288 with 1 Axes>"
      ]
     },
     "metadata": {
      "needs_background": "light"
     }
    }
   ],
   "metadata": {
    "colab": {},
    "colab_type": "code",
    "id": "vGD88y2fBxMg"
   }
  },
  {
   "cell_type": "markdown",
   "source": [
    "---"
   ],
   "metadata": {
    "colab_type": "text",
    "id": "IaXHefe6BQ7m"
   }
  },
  {
   "cell_type": "markdown",
   "source": [
    "### Visualizing Cocoa Percentage\n",
    "\n",
    "Cocoa percentage is another value that might be interesting in our data analysis. For instance, does a higher or lower cocoa percentage seem to correlate with the rating in any manner?\n",
    "\n",
    "We'll get to questions like this, but first let's just create a simple plot.\n",
    "\n",
    "First let's see if 'Cocoa Percent' is an actual continuous variable."
   ],
   "metadata": {
    "colab_type": "text",
    "id": "8U_spjA2FLPP"
   }
  },
  {
   "cell_type": "code",
   "execution_count": 5,
   "source": [
    "sorted(df['Cocoa Percent'].unique())"
   ],
   "outputs": [
    {
     "output_type": "execute_result",
     "data": {
      "text/plain": [
       "[42.0,\n",
       " 46.0,\n",
       " 50.0,\n",
       " 53.0,\n",
       " 55.0,\n",
       " 56.0,\n",
       " 57.0,\n",
       " 58.0,\n",
       " 60.0,\n",
       " 60.5,\n",
       " 61.0,\n",
       " 62.0,\n",
       " 63.0,\n",
       " 64.0,\n",
       " 65.0,\n",
       " 66.0,\n",
       " 67.0,\n",
       " 68.0,\n",
       " 69.0,\n",
       " 70.0,\n",
       " 71.0,\n",
       " 72.0,\n",
       " 72.5,\n",
       " 73.0,\n",
       " 73.5,\n",
       " 74.0,\n",
       " 75.0,\n",
       " 76.0,\n",
       " 77.0,\n",
       " 78.0,\n",
       " 79.0,\n",
       " 80.0,\n",
       " 81.0,\n",
       " 82.0,\n",
       " 83.0,\n",
       " 84.0,\n",
       " 85.0,\n",
       " 86.0,\n",
       " 87.0,\n",
       " 88.0,\n",
       " 89.0,\n",
       " 90.0,\n",
       " 91.0,\n",
       " 99.0,\n",
       " 100.0]"
      ]
     },
     "metadata": {},
     "execution_count": 5
    }
   ],
   "metadata": {
    "colab": {},
    "colab_type": "code",
    "id": "_YFI7jilF5ud"
   }
  },
  {
   "cell_type": "markdown",
   "source": [
    "This does seem much more like a continuous variable than 'Rating' did. In this case we will want to use some sort of continuous plot.\n",
    "\n",
    "For this particular visualization, we will pull out a new tool, the [`seaborn.distplot`](https://seaborn.pydata.org/generated/seaborn.distplot.html). This plot combines a line chart of kernel density and a histogram to show the distribution of values in the `Series`."
   ],
   "metadata": {
    "colab_type": "text",
    "id": "zCGxvCKBF8fU"
   }
  },
  {
   "cell_type": "code",
   "execution_count": 7,
   "source": [
    "import seaborn as sns\n",
    "\n",
    "_ = sns.distplot(df['Cocoa Percent'])"
   ],
   "outputs": [
    {
     "output_type": "stream",
     "name": "stderr",
     "text": [
      "/Users/josemartinez/opt/anaconda3/envs/data/lib/python3.9/site-packages/seaborn/distributions.py:2619: FutureWarning: `distplot` is a deprecated function and will be removed in a future version. Please adapt your code to use either `displot` (a figure-level function with similar flexibility) or `histplot` (an axes-level function for histograms).\n",
      "  warnings.warn(msg, FutureWarning)\n"
     ]
    },
    {
     "output_type": "display_data",
     "data": {
      "image/png": "[encoded data removed]",
      "text/plain": [
       "<Figure size 432x288 with 1 Axes>"
      ]
     },
     "metadata": {
      "needs_background": "light"
     }
    }
   ],
   "metadata": {
    "cellView": "both",
    "colab": {},
    "colab_type": "code",
    "id": "Z1ZVr0efD0dV"
   }
  },
  {
   "cell_type": "markdown",
   "source": [
    "As we can tell from this plot, a very large proportion of chocolate bars rated have around 70% cocoa. We may want to ask whether this sample is representative of chocolate bars on the market in general or whether reviewers favor such bars because they expect them to be more enjoyable. (i.e. Is our sample representative of the population?) This, of course, would require research outside of our data set."
   ],
   "metadata": {
    "colab_type": "text",
    "id": "9bQCTf0nz0ek"
   }
  },
  {
   "cell_type": "markdown",
   "source": [
    "#### Exercise 2: What Is a Distplot?\n",
    "\n",
    "We plotted a \"distplot\" above but didn't get too specific on what was actually being shown. The values on the x-axis make sense; they are the percentage of cocoa used in the bar. But there are some other aspects of the chart that are a little less clear at first.\n",
    "\n",
    "Using the [`seaborn.distplot` documentation](https://seaborn.pydata.org/generated/seaborn.distplot.html) and other resources, answer the following questions:"
   ],
   "metadata": {
    "colab_type": "text",
    "id": "0FwaxnlLYLAR"
   }
  },
  {
   "cell_type": "markdown",
   "source": [
    "**Student Solution**\n",
    "\n",
    "1. What do the columns on the chart represent?\n",
    "> Represents cocoa percentage of each chocolate\n",
    "1. What does the continuous line on the chart represent?\n",
    "> Density of each rating\n",
    "1. What is the y-value of the `sns.distplot`?\n",
    "> Rating \n",
    "\n"
   ],
   "metadata": {
    "colab_type": "text",
    "id": "HX1p6Ul3ZRPd"
   }
  },
  {
   "cell_type": "markdown",
   "source": [
    "---"
   ],
   "metadata": {
    "colab_type": "text",
    "id": "Z0kNJE7HZN_D"
   }
  },
  {
   "cell_type": "markdown",
   "source": [
    "### Visualizing Ratings by Bean Type\n",
    "\n",
    "Sometimes it is useful to visualize our target, in this case, 'Rating', by different features. One way to do this with a continuous variable like 'Rating' is with a box plot.\n",
    "\n",
    "Box plots (a.k.a., box and whisker plots) show the distribution across categories. These plots are quite informative, as they display a five-statistic summary of a dataset, including:\n",
    "\n",
    "1. Minimum\n",
    "1. First quartile (about 25% of the numbers in the dataset lie below it)\n",
    "1. Median (splits the dataset in half)\n",
    "1. Third quartile (about 75% of the numbers in the dataset lie below it)\n",
    "1. Maximum\n",
    "\n",
    "In the example below, we create our box plot using [`seaborn.boxplot()`](https://seaborn.pydata.org/generated/seaborn.boxplot.html). We pass the function our `DataFrame`, the y-value which determines the number of box plots, and the x-value which is what the statistics are gathered from.\n",
    "\n",
    "Remember that `seaborn` is based on `matplotlib`, so we can still use features of `matplotlib` like the figure size to increase the size of `seaborn` charts."
   ],
   "metadata": {
    "colab_type": "text",
    "id": "G0e6LcTBhTZN"
   }
  },
  {
   "cell_type": "code",
   "execution_count": 8,
   "source": [
    "import pandas as pd\n",
    "import matplotlib.pyplot as plt\n",
    "import seaborn as sns\n",
    "\n",
    "df = reload_data()\n",
    "\n",
    "plt.figure(figsize=[10, 16])\n",
    "ax = sns.boxplot(\n",
    "    data=df,\n",
    "    y='Bean Type',\n",
    "    x='Rating',\n",
    ")\n",
    "_ = ax.set_title('Rating Distribution by Bean Type')"
   ],
   "outputs": [
    {
     "output_type": "display_data",
     "data": {
      "image/png": "[encoded data removed]",
      "text/plain": [
       "<Figure size 720x1152 with 1 Axes>"
      ]
     },
     "metadata": {
      "needs_background": "light"
     }
    }
   ],
   "metadata": {
    "cellView": "both",
    "colab": {},
    "colab_type": "code",
    "id": "3eCG0Z6RiIbz"
   }
  },
  {
   "cell_type": "markdown",
   "source": [
    "This is a nice chart, but it is difficult to get a snapshot view of the data. Sometimes sorting is important.\n",
    "\n",
    "As an example, let's look at a chart that is sorted alphabetically."
   ],
   "metadata": {
    "colab_type": "text",
    "id": "7PkbuxBKdTLH"
   }
  },
  {
   "cell_type": "code",
   "execution_count": 9,
   "source": [
    "import pandas as pd\n",
    "import matplotlib.pyplot as plt\n",
    "import seaborn as sns\n",
    "\n",
    "df = reload_data()\n",
    "\n",
    "plt.figure(figsize=[10, 16])\n",
    "\n",
    "ax = sns.boxplot(\n",
    "    data=df,\n",
    "    y='Bean Type',\n",
    "    x='Rating',\n",
    "    order=sorted(df['Bean Type'].unique())\n",
    ")\n",
    "\n",
    "_ = ax.set_title('Rating Distribution by Bean Type')"
   ],
   "outputs": [
    {
     "output_type": "display_data",
     "data": {
      "image/png": "[encoded data removed]",
      "text/plain": [
       "<Figure size 720x1152 with 1 Axes>"
      ]
     },
     "metadata": {
      "needs_background": "light"
     }
    }
   ],
   "metadata": {
    "colab": {},
    "colab_type": "code",
    "id": "6dPdRuSsdoEg"
   }
  },
  {
   "cell_type": "markdown",
   "source": [
    "That might be even worse!\n",
    "\n",
    "What sort order might give some meaning to this chart?"
   ],
   "metadata": {
    "colab_type": "text",
    "id": "aEJc9XTOdwZh"
   }
  },
  {
   "cell_type": "markdown",
   "source": [
    "#### Exercise 3: Building Boxplots\n",
    "\n",
    "Boxplots are useful, but without curated sorting, the message can get lost in the noise. Experiment with different sorting strategies for the boxplot and make an argument for why you find value in your plot.\n",
    "\n",
    "Below is an example of plots sorted by the mean rating. Look at it and see why sorting by mean might bring value."
   ],
   "metadata": {
    "colab_type": "text",
    "id": "cSKVrR0IemDS"
   }
  },
  {
   "cell_type": "code",
   "execution_count": 10,
   "source": [
    "import pandas as pd\n",
    "import matplotlib.pyplot as plt\n",
    "import seaborn as sns\n",
    "\n",
    "df = reload_data()\n",
    "\n",
    "plt.figure(figsize=[10, 16])\n",
    "\n",
    "ax = sns.boxplot(\n",
    "    data=df,\n",
    "    y='Bean Type',\n",
    "    x='Rating',\n",
    "    order=sorted(df['Bean Type'].unique(), \n",
    "                 key=lambda bt: df[df['Bean Type'] == bt]['Rating'].max()),\n",
    ")\n",
    "\n",
    "_ = ax.set_title('Rating Distribution by Bean Type')"
   ],
   "outputs": [
    {
     "output_type": "display_data",
     "data": {
      "image/png": "[encoded data removed]",
      "text/plain": [
       "<Figure size 720x1152 with 1 Axes>"
      ]
     },
     "metadata": {
      "needs_background": "light"
     }
    }
   ],
   "metadata": {
    "colab": {},
    "colab_type": "code",
    "id": "V84L80dnamgQ"
   }
  },
  {
   "cell_type": "markdown",
   "source": [
    "Some thoughts:\n",
    "\n",
    "* Even sorting by mean, the max ratings can still be held by beans near the median.\n",
    "* Beans with a low median rating are actually widespread on ratings.\n",
    "* Quality tightens with beans with higher median rankings.\n",
    "\n",
    "These observations may lead us to ask: what are the sample sizes? Are the top-median beans just single samples while more popular beans are weighted down by large sample sizes? Regardless of which sorting criteria we use, we should take a closer look at our bean types. Some of the types with fewer samples might need to be rolled into a larger grouping.\n",
    "\n",
    "For this exercise, try different statistics for sorting. Find one that you can interpret and explain why the specific sorting is meaningful."
   ],
   "metadata": {
    "colab_type": "text",
    "id": "24EN2gtaiMQh"
   }
  },
  {
   "cell_type": "markdown",
   "source": [
    "**Student Solution**"
   ],
   "metadata": {
    "colab_type": "text",
    "id": "iGxgg4GTiw1T"
   }
  },
  {
   "cell_type": "markdown",
   "source": [
    "The mean showed a wide dispersion and distrbution of data. This data is more represenatative than using other methods like x, since conclusion can be made with a wide range of data"
   ],
   "metadata": {
    "colab": {},
    "colab_type": "code",
    "id": "kY1VXhtGizfO"
   }
  },
  {
   "cell_type": "markdown",
   "source": [
    "---"
   ],
   "metadata": {
    "colab_type": "text",
    "id": "06vfzCqFi2qT"
   }
  },
  {
   "cell_type": "markdown",
   "source": [
    "### Visualizing Ratings by Cocoa Percent\n",
    "\n",
    "Let's take a moment to also look at the spread of ratings by 'Cocoa Percent'. A natural way to do this might be a scatter plot."
   ],
   "metadata": {
    "colab_type": "text",
    "id": "Nf-9ooG5zzsR"
   }
  },
  {
   "cell_type": "code",
   "execution_count": 11,
   "source": [
    "import pandas as pd\n",
    "import matplotlib.pyplot as plt\n",
    "import seaborn as sns\n",
    "\n",
    "df = reload_data()\n",
    "\n",
    "plt.figure(figsize=[10, 10])\n",
    "ax = sns.scatterplot(\n",
    "    data=df,\n",
    "    x='Cocoa Percent',\n",
    "    y='Rating',\n",
    ")\n",
    "\n",
    "_ = ax.set_title('Ratings by Cocoa Percent')"
   ],
   "outputs": [
    {
     "output_type": "display_data",
     "data": {
      "image/png": "[encoded data removed]",
      "text/plain": [
       "<Figure size 720x720 with 1 Axes>"
      ]
     },
     "metadata": {
      "needs_background": "light"
     }
    }
   ],
   "metadata": {
    "colab": {},
    "colab_type": "code",
    "id": "YvneTVU74Xzf"
   }
  },
  {
   "cell_type": "markdown",
   "source": [
    "This is a somewhat unfulfilling scatter plot. Since ratings aren't really continuous, we see \"lines\" of dots for the ratings tranches. There are also some lines formed vertically; though 'Cocoa Percent' is continuous, some percentages are more common than others.\n",
    "\n",
    "Maybe a boxplot would work?"
   ],
   "metadata": {
    "colab_type": "text",
    "id": "GZVb_w8H4wB0"
   }
  },
  {
   "cell_type": "code",
   "execution_count": 12,
   "source": [
    "import pandas as pd\n",
    "import matplotlib.pyplot as plt\n",
    "import seaborn as sns\n",
    "\n",
    "df = reload_data()\n",
    "\n",
    "plt.figure(figsize=[10, 10])\n",
    "ax = sns.boxplot(\n",
    "    data=df,\n",
    "    x='Cocoa Percent',\n",
    "    y='Rating',\n",
    ")\n",
    "\n",
    "_ = ax.set_title('Ratings by Cocoa Percent')"
   ],
   "outputs": [
    {
     "output_type": "display_data",
     "data": {
      "image/png": "[encoded data removed]",
      "text/plain": [
       "<Figure size 720x720 with 1 Axes>"
      ]
     },
     "metadata": {
      "needs_background": "light"
     }
    }
   ],
   "metadata": {
    "colab": {},
    "colab_type": "code",
    "id": "a5fILyKl5R3e"
   }
  },
  {
   "cell_type": "markdown",
   "source": [
    "That is better. Given this box plot, we can see some trends in the data. However, there are enough different 'Cocoa Percent' values to make this chart a little cluttered.\n",
    "\n",
    "We can clean it up a bit by **binning** the 'Cocoa Percent' values.\n",
    "\n",
    "Binning is the process of taking a large set of continuous values and dividing them into a fixed number of bins where each bin contains a range of values. Each bin typically has the same sized range.\n",
    "\n",
    "To bin data we can use [`NumPy.histogram_bin_edges`](https://numpy.org/devdocs/reference/generated/numpy.histogram_bin_edges.html) to find the edges of our bins."
   ],
   "metadata": {
    "colab_type": "text",
    "id": "WAAgMT-g5Yic"
   }
  },
  {
   "cell_type": "code",
   "execution_count": 13,
   "source": [
    "import pandas as pd\n",
    "import numpy as np\n",
    "\n",
    "df = reload_data()\n",
    "\n",
    "edges = np.histogram_bin_edges(df['Cocoa Percent'])\n",
    "\n",
    "for i in range(len(edges) - 1):\n",
    "  print(f'{edges[i]:.{1}f} - {edges[i+1]:.{1}f} ({edges[i+1]-edges[i]:.{1}f})')"
   ],
   "outputs": [
    {
     "output_type": "stream",
     "name": "stdout",
     "text": [
      "42.0 - 47.8 (5.8)\n",
      "47.8 - 53.6 (5.8)\n",
      "53.6 - 59.4 (5.8)\n",
      "59.4 - 65.2 (5.8)\n",
      "65.2 - 71.0 (5.8)\n",
      "71.0 - 76.8 (5.8)\n",
      "76.8 - 82.6 (5.8)\n",
      "82.6 - 88.4 (5.8)\n",
      "88.4 - 94.2 (5.8)\n",
      "94.2 - 100.0 (5.8)\n"
     ]
    }
   ],
   "metadata": {
    "colab": {},
    "colab_type": "code",
    "id": "qhn-2WHa7AEZ"
   }
  },
  {
   "cell_type": "markdown",
   "source": [
    "In the code above we asked `histogram_bin_edges()` to find the edges of our bins for 'Cocoa Percent'. We then printed the edges for each bin and the size of the range for each bin. You can see that each is 5.8.\n",
    "\n",
    "Given these bin edges, we can now use another handy `NumPy` function: `digitize`.  `digitize` will examine our 'Cocoa Percent' values and return the bin that each value belongs in."
   ],
   "metadata": {
    "colab_type": "text",
    "id": "VhIGlaFS7Zh7"
   }
  },
  {
   "cell_type": "code",
   "execution_count": 14,
   "source": [
    "import pandas as pd\n",
    "import numpy as np\n",
    "\n",
    "df = reload_data()\n",
    "\n",
    "edges = np.histogram_bin_edges(df['Cocoa Percent'])\n",
    "bins = np.digitize(df['Cocoa Percent'], edges)\n",
    "np.unique(bins)"
   ],
   "outputs": [
    {
     "output_type": "execute_result",
     "data": {
      "text/plain": [
       "array([ 1,  2,  3,  4,  5,  6,  7,  8,  9, 10, 11])"
      ]
     },
     "metadata": {},
     "execution_count": 14
    }
   ],
   "metadata": {
    "colab": {},
    "colab_type": "code",
    "id": "_8KmuyS486ZL"
   }
  },
  {
   "cell_type": "markdown",
   "source": [
    "Wait, there are 11 bins when there were only supposed to be 10. What happened?\n",
    "\n",
    "It turns out that `histogram_bin_edges` and `digitize` think differently about the list of edges. `histogram_bin_edges` returns `bin_count + 1` values (in this case, 11), so that each bin has a defined stop and start. The final edge serves as an upper limit (in this case, 100).\n",
    "\n",
    "On the other hand, `digitize` lets the final bin accept any data larger than the start of the bin (or smaller if you are creating decreasing order bins), so there's no need for an edge to define the outside boundary. For that reason, we have to not pass digitize the final edge."
   ],
   "metadata": {
    "colab_type": "text",
    "id": "-ggWQzVV-anp"
   }
  },
  {
   "cell_type": "code",
   "execution_count": 15,
   "source": [
    "import pandas as pd\n",
    "import numpy as np\n",
    "\n",
    "df = reload_data()\n",
    "\n",
    "edges = np.histogram_bin_edges(df['Cocoa Percent'])\n",
    "bins = np.digitize(df['Cocoa Percent'], edges[:-1])\n",
    "np.unique(bins)"
   ],
   "outputs": [
    {
     "output_type": "execute_result",
     "data": {
      "text/plain": [
       "array([ 1,  2,  3,  4,  5,  6,  7,  8,  9, 10])"
      ]
     },
     "metadata": {},
     "execution_count": 15
    }
   ],
   "metadata": {
    "colab": {},
    "colab_type": "code",
    "id": "97ZSYL3z_DGd"
   }
  },
  {
   "cell_type": "markdown",
   "source": [
    "That is better. We can now bring it all together and create a binned boxplot."
   ],
   "metadata": {
    "colab_type": "text",
    "id": "wEmsn0H69Ja-"
   }
  },
  {
   "cell_type": "code",
   "execution_count": 16,
   "source": [
    "import pandas as pd\n",
    "import matplotlib.pyplot as plt\n",
    "import seaborn as sns\n",
    "import numpy as np\n",
    "\n",
    "\n",
    "df = reload_data()\n",
    "\n",
    "edges = np.histogram_bin_edges(df['Cocoa Percent'], bins=10)\n",
    "bins = np.digitize(df['Cocoa Percent'], edges[:-1])\n",
    "\n",
    "plt.figure(figsize=[16, 10])\n",
    "\n",
    "ax = sns.boxplot(\n",
    "    x=bins,\n",
    "    y=df['Rating'],\n",
    ")\n",
    "\n",
    "labels = [f'{edges[i]:.{1}f} - {edges[i+1]:.{1}f}'\n",
    "            for i in range(len(edges) - 1)]\n",
    "_ = plt.xticks(list(range(10)), labels)\n",
    "_ = ax.set_title('Ratings by Cocoa Percent')"
   ],
   "outputs": [
    {
     "output_type": "display_data",
     "data": {
      "image/png": "[encoded data removed]",
      "text/plain": [
       "<Figure size 1152x720 with 1 Axes>"
      ]
     },
     "metadata": {
      "needs_background": "light"
     }
    }
   ],
   "metadata": {
    "colab": {},
    "colab_type": "code",
    "id": "MQmOh6j6zCtx"
   }
  },
  {
   "cell_type": "markdown",
   "source": [
    "#### Exercise 4: Interpreting Box Plots\n",
    "\n",
    "We've now created a boxplot that shows the range of ratings for different bins of percentages of cocoa. Use the plot to answer the following questions."
   ],
   "metadata": {
    "colab_type": "text",
    "id": "AsHtYfWeAa5K"
   }
  },
  {
   "cell_type": "markdown",
   "source": [
    "**Student Solution**\n",
    "\n",
    "1. Which bin of cocoa percentages tends to be the lowest rated?\n",
    "> Blue\n",
    "1. Which bin (or bins) of cocoa percentages tend to get the most consistent ratings?\n",
    "> Green"
   ],
   "metadata": {
    "colab_type": "text",
    "id": "jJaSYdApBA-E"
   }
  },
  {
   "cell_type": "markdown",
   "source": [
    "---"
   ],
   "metadata": {
    "colab_type": "text",
    "id": "jQOj4HWkBwuc"
   }
  },
  {
   "cell_type": "markdown",
   "source": [
    "### Finding Correlations\n",
    "\n",
    "Another important check is to see if there are any correlations in your dataset. Correlation is a measure of how well two continuous variables track together.\n",
    "\n",
    "Pandas provides `DataFrame.corr()`, which provides a correlation matrix for all of the numeric values in the `DataFrame`."
   ],
   "metadata": {
    "colab_type": "text",
    "id": "3WGACfglohPS"
   }
  },
  {
   "cell_type": "code",
   "execution_count": 18,
   "source": [
    "df = reload_data()\n",
    "\n",
    "\n",
    "print(df.corr())\n",
    "\n",
    "correlation_matrix = df.corr()\n",
    "\n",
    "correlation_matrix.iloc[0].values.tolist()\n",
    "# []\n",
    "#     []\n",
    "#     []\n",
    "#     []\n",
    "#     []\n",
    "# []"
   ],
   "outputs": [
    {
     "output_type": "stream",
     "name": "stdout",
     "text": [
      "               Cocoa Percent       REF  Review Date    Rating\n",
      "Cocoa Percent       1.000000  0.037791     0.038177 -0.164820\n",
      "REF                 0.037791  1.000000     0.985076  0.101030\n",
      "Review Date         0.038177  0.985076     1.000000  0.099846\n",
      "Rating             -0.164820  0.101030     0.099846  1.000000\n"
     ]
    },
    {
     "output_type": "execute_result",
     "data": {
      "text/plain": [
       "[1.0, 0.037791195220288044, 0.038176895893800473, -0.1648201776242442]"
      ]
     },
     "metadata": {},
     "execution_count": 18
    }
   ],
   "metadata": {
    "colab": {},
    "colab_type": "code",
    "id": "02yE24S1ok5H"
   }
  },
  {
   "cell_type": "markdown",
   "source": [
    "#### Exercise 5: Heatmap Correlations\n",
    "\n",
    "It is common for correlations to be shown in a heatmap. In this exercise we will create a heatmap and then attempt to interpret the map."
   ],
   "metadata": {
    "colab_type": "text",
    "id": "GJ3XC7Z8tnQK"
   }
  },
  {
   "cell_type": "markdown",
   "source": [
    "**Student Solution**\n",
    "\n",
    "Uses `seaborn` or `matplotlib` to create a heatmap representing the correlations in `df`."
   ],
   "metadata": {
    "colab_type": "text",
    "id": "KSD0W-5Dt7_g"
   }
  },
  {
   "cell_type": "code",
   "execution_count": 19,
   "source": [
    "import seaborn as sns\n",
    "\n",
    "df = reload_data()\n",
    "\n",
    "\n",
    "\n",
    "correlation_matrix = df.corr()\n",
    "\n",
    "\n",
    "\n",
    "#iterables and series and dataframes\n",
    "sns.heatmap(correlation_matrix)\n",
    "\n",
    "# Your Solution Goes Here"
   ],
   "outputs": [
    {
     "output_type": "execute_result",
     "data": {
      "text/plain": [
       "<AxesSubplot:>"
      ]
     },
     "metadata": {},
     "execution_count": 19
    },
    {
     "output_type": "display_data",
     "data": {
      "image/png": "[encoded data removed]",
      "text/plain": [
       "<Figure size 432x288 with 2 Axes>"
      ]
     },
     "metadata": {
      "needs_background": "light"
     }
    }
   ],
   "metadata": {
    "colab": {},
    "colab_type": "code",
    "id": "GGun9IjKt5tX"
   }
  },
  {
   "cell_type": "markdown",
   "source": [
    "1. Which columns have the strongest correlation?\n",
    "> Review data and REF\n",
    "1. Why do you think they have such a strong correlation?\n",
    ">  Review data and REF"
   ],
   "metadata": {
    "colab_type": "text",
    "id": "GZhg482nuj4a"
   }
  },
  {
   "cell_type": "markdown",
   "source": [
    "---"
   ],
   "metadata": {
    "colab_type": "text",
    "id": "P9HSXHrFuFlZ"
   }
  },
  {
   "cell_type": "markdown",
   "source": [
    "### Visualizing Ratings Across the Globe\n",
    "\n",
    "This dataset seems to really emphasize the source of the cocoa beans used to make a chocolate bar. It would be interesting to see if there was a correlation with the geographical source of the beans and the perceived quality of the resulting chocolate.\n",
    "\n",
    "In order to do this, we need to take one of our columns of location data and turn it into geographical coordinates that we can then use to attempt to identify a pattern.\n",
    "\n",
    "The alleged geographical columns that we have in our data are:\n",
    "\n",
    "Column | Data Type | Description\n",
    "-------|-----------|------------\n",
    "Company Location | String | Manufacturer base country.\n",
    "Specific Bean Origin | String | The specific geo-region of origin for the bar.\n",
    "Broad Bean Origin | String | The broad geo-region of origin for the bean.\n",
    "\n",
    "But we know from our earlier analysis of the data that both of the bean origin columns are pretty messy. We could possibly tie most of the data points down to a geographical location, but it would be a huge undertaking. Also, the bean origins can have multiple locations for mixed blends. Ultimately this would be an interesting undertaking, but not for the scope of this course. \n",
    "\n",
    "'Company Location' offers more promise though. We have verified that it contains country information. It doesn't necessarily relate to the source of the bean, but we can at least try to see where the best bars are created!"
   ],
   "metadata": {
    "colab_type": "text",
    "id": "YzECzbj_tcSz"
   }
  },
  {
   "cell_type": "markdown",
   "source": [
    "Since the 'Company Location' values are all countries, we went ahead and created a `DataFrame` below that contains the latitude and longitude values for the countries that we have company data for. We have also merged the lat/long data into `df`.\n",
    "\n",
    "Run the hidden code cell below to update `df` with latitude and longitude data. After you run this cell a function called `reload_data_plus_latlong()` will be available to you to restore `df` to its original state at any time. To use it in your code write:\n",
    "\n",
    "```python\n",
    "df = reload_data_plus_latlong()\n",
    "```"
   ],
   "metadata": {
    "colab_type": "text",
    "id": "MYe9Ov7_Ie0f"
   }
  },
  {
   "cell_type": "code",
   "execution_count": 20,
   "source": [
    "#@title Lat Long Addition: Press Run To Load `df`\n",
    "\n",
    "def reload_data_plus_latlong():\n",
    "  df = reload_data()\n",
    "\n",
    "  country_df = pd.DataFrame([\n",
    "    ['Argentina', -36.3, -60.0],\n",
    "    ['Australia', -35.15, 149.08],\n",
    "    ['Austria', 48.12, 16.22],\n",
    "    ['Belgium', 50.51, 4.21],\n",
    "    ['Bolivia', -16.2, -68.1],\n",
    "    ['Brazil', -15.47, -47.55],\n",
    "    ['Canada', 45.27, -75.42],\n",
    "    ['Chile', -33.24, -70.4],\n",
    "    ['Colombia', 4.34, -74.0],\n",
    "    ['Costa Rica', 9.55, -84.02],\n",
    "    ['Czech Republic', 50.05, 14.22],\n",
    "    ['Denmark', 55.41, 12.34],\n",
    "    ['Dominican Republic', 18.74, -70.16],\n",
    "    ['Ecuador', -0.15, -78.35],\n",
    "    ['England', 52.36, -1.17],\n",
    "    ['Fiji', -18.06, 178.3],\n",
    "    ['Finland', 60.15, 25.03],\n",
    "    ['France', 48.5, 2.2],\n",
    "    ['Germany', 52.3, 13.25],\n",
    "    ['Ghana', 5.35, -0.06],\n",
    "    ['Grenada', 12.12, -61.68],\n",
    "    ['Guatemala', 14.4, -90.22],\n",
    "    ['Holland', 52.13, 5.29],\n",
    "    ['Honduras', 14.05, -87.14],\n",
    "    ['Hungary', 47.29, 19.05],\n",
    "    ['Iceland', 64.1, -21.57],\n",
    "    ['India', 28.37, 77.13],\n",
    "    ['Ireland', 53.21, -6.15],\n",
    "    ['Israel', 31.71, -35.1],\n",
    "    ['Italy', 41.54, 12.29],\n",
    "    ['Japan', 36.2, 138.25],\n",
    "    ['Lithuania', 54.38, 25.19],\n",
    "    ['Madagascar', -18.55, 47.31],\n",
    "    ['Martinique', 14.36, -61.02],\n",
    "    ['Mexico', 19.2, -99.1],\n",
    "    ['Netherlands', 52.23, 4.54],\n",
    "    ['New Zealand', -41.19, 174.46],\n",
    "    ['Nicaragua', 12.06, -86.2],\n",
    "    ['Peru', -12.0, -77.0],\n",
    "    ['Philippines', 14.4, 121.03],\n",
    "    ['Poland', 52.13, 21.0],\n",
    "    ['Portugal', 38.42, -9.1],\n",
    "    ['Puerto Rico', 18.28, -66.07],\n",
    "    ['Russia', 61.52, 105.32],\n",
    "    ['Sao Tome', 0.19, 6.61],\n",
    "    ['Scotland', 56.49, 4.2],\n",
    "    ['Singapore', 1.35, 103.82],\n",
    "    ['South Africa', -25.44, 28.12],\n",
    "    ['South Korea', 35.91, 127.77],\n",
    "    ['Spain', 40.25, -3.45],\n",
    "    ['St. Lucia', 13.91, -60.98],\n",
    "    ['Suriname', 5.5, -55.1],\n",
    "    ['Sweden', 59.2, 18.03],\n",
    "    ['Switzerland', 46.57, 7.28],\n",
    "    ['U.S.A.', 39.91, -77.02],\n",
    "    ['Venezuela', 10.3, -66.55],\n",
    "    ['Vietnam', 14.06, 108.28],\n",
    "    ['Wales', 52.13, -3.78],\n",
    "  ], columns=['Country', 'Latitude', 'Longitude'])\n",
    "\n",
    "  df = pd.merge(df, country_df, left_on='Company Location', right_on='Country')\n",
    "  return df\n",
    "\n",
    "df = reload_data_plus_latlong()\n",
    "df.sample(10)"
   ],
   "outputs": [
    {
     "output_type": "execute_result",
     "data": {
      "text/html": [
       "<div>\n",
       "<style scoped>\n",
       "    .dataframe tbody tr th:only-of-type {\n",
       "        vertical-align: middle;\n",
       "    }\n",
       "\n",
       "    .dataframe tbody tr th {\n",
       "        vertical-align: top;\n",
       "    }\n",
       "\n",
       "    .dataframe thead th {\n",
       "        text-align: right;\n",
       "    }\n",
       "</style>\n",
       "<table border=\"1\" class=\"dataframe\">\n",
       "  <thead>\n",
       "    <tr style=\"text-align: right;\">\n",
       "      <th></th>\n",
       "      <th>Company</th>\n",
       "      <th>Company Location</th>\n",
       "      <th>Bean Type</th>\n",
       "      <th>Specific Bean Origin</th>\n",
       "      <th>Broad Bean Origin</th>\n",
       "      <th>Cocoa Percent</th>\n",
       "      <th>REF</th>\n",
       "      <th>Review Date</th>\n",
       "      <th>Rating</th>\n",
       "      <th>Grade</th>\n",
       "      <th>Country</th>\n",
       "      <th>Latitude</th>\n",
       "      <th>Longitude</th>\n",
       "    </tr>\n",
       "  </thead>\n",
       "  <tbody>\n",
       "    <tr>\n",
       "      <th>1512</th>\n",
       "      <td>Franceschi</td>\n",
       "      <td>Venezuela</td>\n",
       "      <td>Unknown</td>\n",
       "      <td>Choroni</td>\n",
       "      <td>Venezuela</td>\n",
       "      <td>70.0</td>\n",
       "      <td>1355</td>\n",
       "      <td>2014</td>\n",
       "      <td>3.50</td>\n",
       "      <td>G</td>\n",
       "      <td>Venezuela</td>\n",
       "      <td>10.30</td>\n",
       "      <td>-66.55</td>\n",
       "    </tr>\n",
       "    <tr>\n",
       "      <th>121</th>\n",
       "      <td>Pralus</td>\n",
       "      <td>France</td>\n",
       "      <td>Trinitario</td>\n",
       "      <td>Jamaique</td>\n",
       "      <td>Jamaica</td>\n",
       "      <td>75.0</td>\n",
       "      <td>32</td>\n",
       "      <td>2006</td>\n",
       "      <td>4.00</td>\n",
       "      <td>E</td>\n",
       "      <td>France</td>\n",
       "      <td>48.50</td>\n",
       "      <td>2.20</td>\n",
       "    </tr>\n",
       "    <tr>\n",
       "      <th>420</th>\n",
       "      <td>Fresco</td>\n",
       "      <td>U.S.A.</td>\n",
       "      <td>Forastero (Nacional)</td>\n",
       "      <td>Maranon, #230, DR, LC</td>\n",
       "      <td>Peru</td>\n",
       "      <td>70.0</td>\n",
       "      <td>1387</td>\n",
       "      <td>2014</td>\n",
       "      <td>3.50</td>\n",
       "      <td>G</td>\n",
       "      <td>U.S.A.</td>\n",
       "      <td>39.91</td>\n",
       "      <td>-77.02</td>\n",
       "    </tr>\n",
       "    <tr>\n",
       "      <th>1395</th>\n",
       "      <td>Smooth Chocolator, The</td>\n",
       "      <td>Australia</td>\n",
       "      <td>Unknown</td>\n",
       "      <td>Maya Mtn, Moho R., Toledo D.</td>\n",
       "      <td>Belize</td>\n",
       "      <td>70.0</td>\n",
       "      <td>1756</td>\n",
       "      <td>2016</td>\n",
       "      <td>3.75</td>\n",
       "      <td>F</td>\n",
       "      <td>Australia</td>\n",
       "      <td>-35.15</td>\n",
       "      <td>149.08</td>\n",
       "    </tr>\n",
       "    <tr>\n",
       "      <th>981</th>\n",
       "      <td>Quetzalli (Wolter)</td>\n",
       "      <td>Mexico</td>\n",
       "      <td>Criollo</td>\n",
       "      <td>Mexico, Lot 28022016</td>\n",
       "      <td>Mexico</td>\n",
       "      <td>70.0</td>\n",
       "      <td>1796</td>\n",
       "      <td>2016</td>\n",
       "      <td>2.75</td>\n",
       "      <td>J</td>\n",
       "      <td>Mexico</td>\n",
       "      <td>19.20</td>\n",
       "      <td>-99.10</td>\n",
       "    </tr>\n",
       "    <tr>\n",
       "      <th>533</th>\n",
       "      <td>L.A. Burdick (Felchlin)</td>\n",
       "      <td>U.S.A.</td>\n",
       "      <td>Unknown</td>\n",
       "      <td>Brazil</td>\n",
       "      <td>Brazil</td>\n",
       "      <td>70.0</td>\n",
       "      <td>891</td>\n",
       "      <td>2012</td>\n",
       "      <td>4.00</td>\n",
       "      <td>E</td>\n",
       "      <td>U.S.A.</td>\n",
       "      <td>39.91</td>\n",
       "      <td>-77.02</td>\n",
       "    </tr>\n",
       "    <tr>\n",
       "      <th>693</th>\n",
       "      <td>Park 75</td>\n",
       "      <td>U.S.A.</td>\n",
       "      <td>Unknown</td>\n",
       "      <td>South America</td>\n",
       "      <td>South America</td>\n",
       "      <td>65.0</td>\n",
       "      <td>1363</td>\n",
       "      <td>2014</td>\n",
       "      <td>3.50</td>\n",
       "      <td>G</td>\n",
       "      <td>U.S.A.</td>\n",
       "      <td>39.91</td>\n",
       "      <td>-77.02</td>\n",
       "    </tr>\n",
       "    <tr>\n",
       "      <th>713</th>\n",
       "      <td>Pitch Dark</td>\n",
       "      <td>U.S.A.</td>\n",
       "      <td>Unknown</td>\n",
       "      <td>Camino Verde P., Balao, Guayas, \"Fruity\"</td>\n",
       "      <td>Ecuador</td>\n",
       "      <td>73.0</td>\n",
       "      <td>1319</td>\n",
       "      <td>2014</td>\n",
       "      <td>3.25</td>\n",
       "      <td>H</td>\n",
       "      <td>U.S.A.</td>\n",
       "      <td>39.91</td>\n",
       "      <td>-77.02</td>\n",
       "    </tr>\n",
       "    <tr>\n",
       "      <th>1298</th>\n",
       "      <td>Damson</td>\n",
       "      <td>England</td>\n",
       "      <td>Unknown</td>\n",
       "      <td>Crayfish Bay aka Non Pariel Estate</td>\n",
       "      <td>Grenada</td>\n",
       "      <td>70.0</td>\n",
       "      <td>1666</td>\n",
       "      <td>2015</td>\n",
       "      <td>2.25</td>\n",
       "      <td>L</td>\n",
       "      <td>England</td>\n",
       "      <td>52.36</td>\n",
       "      <td>-1.17</td>\n",
       "    </tr>\n",
       "    <tr>\n",
       "      <th>353</th>\n",
       "      <td>Dark Forest</td>\n",
       "      <td>U.S.A.</td>\n",
       "      <td>Unknown</td>\n",
       "      <td>Ecuador</td>\n",
       "      <td>Ecuador</td>\n",
       "      <td>70.0</td>\n",
       "      <td>1554</td>\n",
       "      <td>2015</td>\n",
       "      <td>3.25</td>\n",
       "      <td>H</td>\n",
       "      <td>U.S.A.</td>\n",
       "      <td>39.91</td>\n",
       "      <td>-77.02</td>\n",
       "    </tr>\n",
       "  </tbody>\n",
       "</table>\n",
       "</div>"
      ],
      "text/plain": [
       "                      Company Company Location             Bean Type  \\\n",
       "1512               Franceschi        Venezuela               Unknown   \n",
       "121                    Pralus           France            Trinitario   \n",
       "420                    Fresco           U.S.A.  Forastero (Nacional)   \n",
       "1395   Smooth Chocolator, The        Australia               Unknown   \n",
       "981        Quetzalli (Wolter)           Mexico               Criollo   \n",
       "533   L.A. Burdick (Felchlin)           U.S.A.               Unknown   \n",
       "693                   Park 75           U.S.A.               Unknown   \n",
       "713                Pitch Dark           U.S.A.               Unknown   \n",
       "1298                   Damson          England               Unknown   \n",
       "353               Dark Forest           U.S.A.               Unknown   \n",
       "\n",
       "                          Specific Bean Origin Broad Bean Origin  \\\n",
       "1512                                   Choroni         Venezuela   \n",
       "121                                   Jamaique           Jamaica   \n",
       "420                      Maranon, #230, DR, LC              Peru   \n",
       "1395              Maya Mtn, Moho R., Toledo D.            Belize   \n",
       "981                       Mexico, Lot 28022016            Mexico   \n",
       "533                                     Brazil            Brazil   \n",
       "693                              South America     South America   \n",
       "713   Camino Verde P., Balao, Guayas, \"Fruity\"           Ecuador   \n",
       "1298        Crayfish Bay aka Non Pariel Estate           Grenada   \n",
       "353                                    Ecuador           Ecuador   \n",
       "\n",
       "      Cocoa Percent   REF  Review Date  Rating Grade    Country  Latitude  \\\n",
       "1512           70.0  1355         2014    3.50     G  Venezuela     10.30   \n",
       "121            75.0    32         2006    4.00     E     France     48.50   \n",
       "420            70.0  1387         2014    3.50     G     U.S.A.     39.91   \n",
       "1395           70.0  1756         2016    3.75     F  Australia    -35.15   \n",
       "981            70.0  1796         2016    2.75     J     Mexico     19.20   \n",
       "533            70.0   891         2012    4.00     E     U.S.A.     39.91   \n",
       "693            65.0  1363         2014    3.50     G     U.S.A.     39.91   \n",
       "713            73.0  1319         2014    3.25     H     U.S.A.     39.91   \n",
       "1298           70.0  1666         2015    2.25     L    England     52.36   \n",
       "353            70.0  1554         2015    3.25     H     U.S.A.     39.91   \n",
       "\n",
       "      Longitude  \n",
       "1512     -66.55  \n",
       "121        2.20  \n",
       "420      -77.02  \n",
       "1395     149.08  \n",
       "981      -99.10  \n",
       "533      -77.02  \n",
       "693      -77.02  \n",
       "713      -77.02  \n",
       "1298      -1.17  \n",
       "353      -77.02  "
      ]
     },
     "metadata": {},
     "execution_count": 20
    }
   ],
   "metadata": {
    "cellView": "form",
    "colab": {},
    "colab_type": "code",
    "id": "wyUIAdfavtRV"
   }
  },
  {
   "cell_type": "markdown",
   "source": [
    "Given this new geographical data, we can now scatter plot the mean ratings data for each country onto the country's latitude and longitude."
   ],
   "metadata": {
    "colab_type": "text",
    "id": "9RtPDGc3I-KH"
   }
  },
  {
   "cell_type": "code",
   "execution_count": 21,
   "source": [
    "import seaborn as sns\n",
    "\n",
    "df = reload_data_plus_latlong()\n",
    "\n",
    "mean_ratings_df = df.groupby(['Latitude', 'Longitude'],\n",
    "                             as_index=False).mean()\n",
    "mean_ratings_df = mean_ratings_df[['Latitude', 'Longitude', 'Rating']]\n",
    "\n",
    "_ = sns.scatterplot(x='Longitude', y='Latitude', data=mean_ratings_df,)"
   ],
   "outputs": [
    {
     "output_type": "display_data",
     "data": {
      "image/png": "[encoded data removed]",
      "text/plain": [
       "<Figure size 432x288 with 1 Axes>"
      ]
     },
     "metadata": {
      "needs_background": "light"
     }
    }
   ],
   "metadata": {
    "colab": {},
    "colab_type": "code",
    "id": "D1pnKKrsEGiE"
   }
  },
  {
   "cell_type": "markdown",
   "source": [
    "#### Exercise 6: More Meaningful Scatter Plots\n",
    "\n",
    "We just added in geographical data in order to scatter plot our ratings onto a \"map\", but the plot isn't very meaningful. From the plots we can somewhat make out Europe and South America, but we don't really know if they produce high-quality chocolates.\n",
    "\n",
    "In this exercise you will add visual cues to the scatter plot to indicate the relative quality of chocolate produced by each country. Check out the [`seaborn.scatterplot()` documentation](https://seaborn.pydata.org/generated/seaborn.scatterplot.html) and find arguments that you can pass to `seaborn.scatterplot()` that will call out the good chocolate from the bad by changing the size and color of the dots on the plot."
   ],
   "metadata": {
    "colab_type": "text",
    "id": "tmTsMt-KKRB5"
   }
  },
  {
   "cell_type": "markdown",
   "source": [
    "**Student Solution**"
   ],
   "metadata": {
    "colab_type": "text",
    "id": "E12id18ZLFGe"
   }
  },
  {
   "cell_type": "code",
   "execution_count": 22,
   "source": [
    "sns.scatterplot(x='Longitude', y='Latitude', data=mean_ratings_df,hue = 'Rating')\n",
    "plt.legend(loc = \"upper right\")\n"
   ],
   "outputs": [
    {
     "output_type": "execute_result",
     "data": {
      "text/plain": [
       "<matplotlib.legend.Legend at 0x7fe04841a790>"
      ]
     },
     "metadata": {},
     "execution_count": 22
    },
    {
     "output_type": "display_data",
     "data": {
      "image/png": "[encoded data removed]",
      "text/plain": [
       "<Figure size 432x288 with 1 Axes>"
      ]
     },
     "metadata": {
      "needs_background": "light"
     }
    }
   ],
   "metadata": {
    "colab": {},
    "colab_type": "code",
    "id": "dYmAzq1CMFNi"
   }
  },
  {
   "cell_type": "markdown",
   "source": [
    "---"
   ],
   "metadata": {
    "colab_type": "text",
    "id": "-2a4Lrg3MG_I"
   }
  },
  {
   "cell_type": "markdown",
   "source": [
    "### Finding Facts About the Data\n",
    "\n",
    "We've created some nice visualizations to explore our data. Sometimes, you might just want textual information. In this section we'll use `Pandas` to answer a few questions about our dataset."
   ],
   "metadata": {
    "colab_type": "text",
    "id": "7N2EuunjyJ5n"
   }
  },
  {
   "cell_type": "markdown",
   "source": [
    "We might want to find the companies with the highest average ratings. To do this we can group our data by 'Company', find the mean rating, and print out only the top rated companies. We'll do this just using `Pandas`."
   ],
   "metadata": {
    "colab_type": "text",
    "id": "mYFUFJT5ECIH"
   }
  },
  {
   "cell_type": "code",
   "execution_count": 23,
   "source": [
    "df.groupby('Company')[['Rating']].mean().sort_values(by='Rating').tail(10)"
   ],
   "outputs": [
    {
     "output_type": "execute_result",
     "data": {
      "text/html": [
       "<div>\n",
       "<style scoped>\n",
       "    .dataframe tbody tr th:only-of-type {\n",
       "        vertical-align: middle;\n",
       "    }\n",
       "\n",
       "    .dataframe tbody tr th {\n",
       "        vertical-align: top;\n",
       "    }\n",
       "\n",
       "    .dataframe thead th {\n",
       "        text-align: right;\n",
       "    }\n",
       "</style>\n",
       "<table border=\"1\" class=\"dataframe\">\n",
       "  <thead>\n",
       "    <tr style=\"text-align: right;\">\n",
       "      <th></th>\n",
       "      <th>Rating</th>\n",
       "    </tr>\n",
       "    <tr>\n",
       "      <th>Company</th>\n",
       "      <th></th>\n",
       "    </tr>\n",
       "  </thead>\n",
       "  <tbody>\n",
       "    <tr>\n",
       "      <th>Timo A. Meyer</th>\n",
       "      <td>3.750000</td>\n",
       "    </tr>\n",
       "    <tr>\n",
       "      <th>Acalli</th>\n",
       "      <td>3.750000</td>\n",
       "    </tr>\n",
       "    <tr>\n",
       "      <th>Chocola'te</th>\n",
       "      <td>3.750000</td>\n",
       "    </tr>\n",
       "    <tr>\n",
       "      <th>Idilio (Felchlin)</th>\n",
       "      <td>3.775000</td>\n",
       "    </tr>\n",
       "    <tr>\n",
       "      <th>Patric</th>\n",
       "      <td>3.791667</td>\n",
       "    </tr>\n",
       "    <tr>\n",
       "      <th>Matale</th>\n",
       "      <td>3.812500</td>\n",
       "    </tr>\n",
       "    <tr>\n",
       "      <th>Amedei</th>\n",
       "      <td>3.846154</td>\n",
       "    </tr>\n",
       "    <tr>\n",
       "      <th>Ocelot</th>\n",
       "      <td>3.875000</td>\n",
       "    </tr>\n",
       "    <tr>\n",
       "      <th>Heirloom Cacao Preservation (Zokoko)</th>\n",
       "      <td>3.875000</td>\n",
       "    </tr>\n",
       "    <tr>\n",
       "      <th>Tobago Estate (Pralus)</th>\n",
       "      <td>4.000000</td>\n",
       "    </tr>\n",
       "  </tbody>\n",
       "</table>\n",
       "</div>"
      ],
      "text/plain": [
       "                                        Rating\n",
       "Company                                       \n",
       "Timo A. Meyer                         3.750000\n",
       "Acalli                                3.750000\n",
       "Chocola'te                            3.750000\n",
       "Idilio (Felchlin)                     3.775000\n",
       "Patric                                3.791667\n",
       "Matale                                3.812500\n",
       "Amedei                                3.846154\n",
       "Ocelot                                3.875000\n",
       "Heirloom Cacao Preservation (Zokoko)  3.875000\n",
       "Tobago Estate (Pralus)                4.000000"
      ]
     },
     "metadata": {},
     "execution_count": 23
    }
   ],
   "metadata": {
    "colab": {},
    "colab_type": "code",
    "id": "yFwZizQfETbM"
   }
  },
  {
   "cell_type": "markdown",
   "source": [
    "We can use grouping and index selection to answer questions like: *How many companies produce, on average, worse than the overall mean rated chocolates?*"
   ],
   "metadata": {
    "colab_type": "text",
    "id": "XRfvCCnuJPsq"
   }
  },
  {
   "cell_type": "code",
   "execution_count": 24,
   "source": [
    "# Find the overall mean rating\n",
    "mean_rating = df['Rating'].mean()\n",
    "\n",
    "# Find each company's mean rating\n",
    "mean_ratings_by_company = df.groupby('Company',\n",
    "                                     as_index=False)[['Rating']].mean()\n",
    "\n",
    "                \n",
    "\n",
    "# See how many of those ratings are below the mean\n",
    "mean_ratings_by_company[mean_ratings_by_company['Rating'] < mean_rating]['Company'].count()\n",
    "mean_ratings_by_company['Rating'] < mean_rating"
   ],
   "outputs": [
    {
     "output_type": "execute_result",
     "data": {
      "text/plain": [
       "0      False\n",
       "1      False\n",
       "2      False\n",
       "3      False\n",
       "4       True\n",
       "       ...  \n",
       "409     True\n",
       "410     True\n",
       "411     True\n",
       "412     True\n",
       "413     True\n",
       "Name: Rating, Length: 414, dtype: bool"
      ]
     },
     "metadata": {},
     "execution_count": 24
    }
   ],
   "metadata": {
    "colab": {},
    "colab_type": "code",
    "id": "TQ-ZM7zAEvZt"
   }
  },
  {
   "cell_type": "markdown",
   "source": [
    "#### Exercise 7: Highest Rated Companies With Many Reviews\n",
    "\n",
    "Earlier we found the companies with the highest mean rating, but some of those companies only have one or two reviews. For this exercise find five highest-mean rated companies with at least five reviews."
   ],
   "metadata": {
    "colab_type": "text",
    "id": "YBV-0VPlKQka"
   }
  },
  {
   "cell_type": "markdown",
   "source": [
    "**Student Solution**"
   ],
   "metadata": {
    "colab_type": "text",
    "id": "SJP0GqHHNiC0"
   }
  },
  {
   "cell_type": "code",
   "execution_count": 25,
   "source": [
    "mean_ratings_by_company['Rating'] < mean_rating\n",
    "#print(mean_ratings_by_company)\n",
    "\n",
    "#print(type(mean_ratings_by_company))\n",
    "\n",
    "mean_ratings_by_company['Rating'] < mean_rating\n",
    "#print(mean_ratings_by_company)\n",
    "\n",
    "#print(type(mean_ratings_by_company))\n",
    "\n",
    "\n",
    "#print (top_5)\n",
    "count_ratings = df.groupby('Company', as_index =False)[['Rating']].count()\n",
    "\n",
    "\n",
    "\n",
    "\n",
    "new_sort = mean_ratings_by_company[count_ratings['Rating']>4]\n",
    "sorted = new_sort['Rating'].sort_values(ascending = False).head()\n",
    "\n",
    "top_5 = sorted.index\n",
    "\n",
    "\n",
    "indices = top_5.tolist()\n",
    "for i in indices:\n",
    "    print(mean_ratings_by_company.loc[i,'Company'])\n",
    "\n",
    "\n",
    "\n",
    "\n",
    "\n",
    "#df.loc[14,'Company']"
   ],
   "outputs": [
    {
     "output_type": "stream",
     "name": "stdout",
     "text": [
      "Amedei\n",
      "Patric\n",
      "Idilio (Felchlin)\n",
      "Benoit Nihant\n",
      "Cacao Sampaka\n"
     ]
    }
   ],
   "metadata": {
    "colab": {},
    "colab_type": "code",
    "id": "wQTPDtqwNkyX"
   }
  },
  {
   "cell_type": "markdown",
   "source": [
    "---"
   ],
   "metadata": {
    "colab_type": "text",
    "id": "8cFocDu5NnI4"
   }
  },
  {
   "cell_type": "markdown",
   "source": [
    "## Conclusion"
   ],
   "metadata": {
    "colab_type": "text",
    "id": "qZbZgDNoOqFC"
   }
  },
  {
   "cell_type": "markdown",
   "source": [
    "Congratulations. You have now taken a dataset with missing and messy values, cleaned it up, and examined the data through visualization and through Pandas queries.\n",
    "\n",
    "This exploratory data analysis and data preprocessing is a very important step in data science and machine learning. Knowing how to use machine learning models is important, but if you want to model data properly, it is just as important that you understand your data well."
   ],
   "metadata": {
    "colab_type": "text",
    "id": "blB7c1ZpOsKY"
   }
  }
 ],
 "metadata": {
  "colab": {
   "collapsed_sections": [
    "copyright",
    "6PECS1ohB0r6",
    "8S_TJhJuBujB",
    "vu0HqS7duv2l",
    "zuNhoRa6MHyZ"
   ],
   "include_colab_link": true,
   "name": "Exploratory Data Analysis: Part 2 - Analysis and Visualizations",
   "private_outputs": true,
   "provenance": [],
   "toc_visible": true
  },
  "kernelspec": {
   "name": "python3",
   "display_name": "Python 3.9.7 64-bit ('data': conda)"
  },
  "interpreter": {
   "hash": "8fbdc03ba97d8a2a62d8e820f8dc08c72c861e4a4433063471236fa03b6ac1df"
  },
  "language_info": {
   "name": "python",
   "version": "3.9.7",
   "mimetype": "text/x-python",
   "codemirror_mode": {
    "name": "ipython",
    "version": 3
   },
   "pygments_lexer": "ipython3",
   "nbconvert_exporter": "python",
   "file_extension": ".py"
  }
 },
 "nbformat": 4,
 "nbformat_minor": 2
}