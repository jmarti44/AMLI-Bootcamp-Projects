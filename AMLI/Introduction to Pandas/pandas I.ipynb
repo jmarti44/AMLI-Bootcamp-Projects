{
 "cells": [
  {
   "cell_type": "markdown",
   "source": [
    "####Copyright 2020 Google LLC."
   ],
   "metadata": {
    "colab_type": "text",
    "id": "J2a8KT0jNMrt"
   }
  },
  {
   "cell_type": "code",
   "execution_count": 11,
   "source": [
    "# Licensed under the Apache License, Version 2.0 (the \"License\");\n",
    "# you may not use this file except in compliance with the License.\n",
    "# You may obtain a copy of the License at\n",
    "#\n",
    "# https://www.apache.org/licenses/LICENSE-2.0\n",
    "#\n",
    "# Unless required by applicable law or agreed to in writing, software\n",
    "# distributed under the License is distributed on an \"AS IS\" BASIS,\n",
    "# WITHOUT WARRANTIES OR CONDITIONS OF ANY KIND, either express or implied.\n",
    "# See the License for the specific language governing permissions and\n",
    "# limitations under the License."
   ],
   "outputs": [],
   "metadata": {
    "colab": {},
    "colab_type": "code",
    "id": "5i5kL8_wNNvo"
   }
  },
  {
   "cell_type": "markdown",
   "source": [
    "# Introduction to Pandas\n",
    "\n",
    "[Pandas](https://pandas.pydata.org/) is an open-source library for data analysis and manipulation. It is a go-to toolkit for data scientists and is used extensively in this course.\n",
    "\n",
    "Pandas integrates seamlessly with other Python libraries such as [NumPy](http://www.numpy.org) and [Matplotlib](http://www.matplotlib.org) for numeric processing and visualizations.\n",
    "\n",
    "When using Pandas, we will primarily interact with [DataFrames](https://pandas.pydata.org/pandas-docs/stable/reference/api/pandas.DataFrame.html) and [Series](https://pandas.pydata.org/pandas-docs/stable/reference/series.html), which we will introduce in this lab."
   ],
   "metadata": {
    "colab_type": "text",
    "id": "4b6a60p_OCiW"
   }
  },
  {
   "cell_type": "markdown",
   "source": [
    "## Importing Pandas\n",
    "\n",
    "In order to use Pandas, you must import it. This is as simple as:\n",
    "\n",
    "```python\n",
    "import pandas\n",
    "```\n",
    "\n",
    "However, you'll rarely see Pandas imported this way. By convention programmers rename Pandas to `pd`. This isn't a requirement, but it is a pattern that you'll see repeated often.\n",
    "\n",
    "To import Pandas in the conventional manner run the code block below."
   ],
   "metadata": {
    "colab_type": "text",
    "id": "vkjMnw7c7WTc"
   }
  },
  {
   "cell_type": "code",
   "execution_count": 12,
   "source": [
    "import pandas as pd\n",
    "\n",
    "pd.__version__"
   ],
   "outputs": [
    {
     "output_type": "execute_result",
     "data": {
      "text/plain": [
       "'1.3.2'"
      ]
     },
     "metadata": {},
     "execution_count": 12
    }
   ],
   "metadata": {
    "colab": {},
    "colab_type": "code",
    "id": "t_i-rT9N8Iou"
   }
  },
  {
   "cell_type": "markdown",
   "source": [
    "After importing Pandas as `pd` we can use pandas by calling methods provided by `pd`. In the code block above we printed the Pandas version.\n",
    "\n",
    "Pandas went 1.0.0 on January 29, 2020. The interface should stay relatively stable until a 2.0.0 release is declared sometime in the future. If you ever have a problem where a Pandas function isn't acting the way you think it should, be sure to check out which version you are using and find the documentation for that specific version."
   ],
   "metadata": {
    "colab_type": "text",
    "id": "C07_w8VL8l_J"
   }
  },
  {
   "cell_type": "markdown",
   "source": [
    "## Pandas Series"
   ],
   "metadata": {
    "colab_type": "text",
    "id": "6Lde64-x9QX5"
   }
  },
  {
   "cell_type": "markdown",
   "source": [
    "A [Series](https://pandas.pydata.org/pandas-docs/stable/reference/series.html) represents a sequential list of data. It is a foundational building block of the powerful [DataFrame](https://pandas.pydata.org/pandas-docs/stable/reference/api/pandas.DataFrame.html) that we'll cover later in this lab."
   ],
   "metadata": {
    "colab_type": "text",
    "id": "3z9fwxzVHDBp"
   }
  },
  {
   "cell_type": "markdown",
   "source": [
    "### Creating a Series\n",
    "\n",
    "We create a new `Series` object as we would any Python object:\n",
    "\n",
    "```python\n",
    "s = pd.Series()\n",
    "```\n",
    "\n",
    "This creates a new, empty `Series` object, which isn't very interesting. You can create a series object with data by passing it a list or tuple:"
   ],
   "metadata": {
    "colab_type": "text",
    "id": "-oAlhrAG9lc6"
   }
  },
  {
   "cell_type": "code",
   "execution_count": 13,
   "source": [
    "temperatures = [55, 63, 72, 65, 63, 75, 67, 59, 82, 54]\n",
    "\n",
    "series = pd.Series(temperatures)\n",
    "\n",
    "print(type(series))\n",
    "print(series)"
   ],
   "outputs": [
    {
     "output_type": "stream",
     "name": "stdout",
     "text": [
      "<class 'pandas.core.series.Series'>\n",
      "0    55\n",
      "1    63\n",
      "2    72\n",
      "3    65\n",
      "4    63\n",
      "5    75\n",
      "6    67\n",
      "7    59\n",
      "8    82\n",
      "9    54\n",
      "dtype: int64\n"
     ]
    }
   ],
   "metadata": {
    "colab": {},
    "colab_type": "code",
    "id": "7vXrfIIJ9ocv"
   }
  },
  {
   "cell_type": "markdown",
   "source": [
    "Here we created a new `pandas.core.series.Series` object with ten values presumably representing some temperature measurement."
   ],
   "metadata": {
    "colab_type": "text",
    "id": "grcARA89-4BI"
   }
  },
  {
   "cell_type": "markdown",
   "source": [
    "### Analyzing a Series\n",
    "\n",
    "You can ask the series to compute information about itself. The `describe()` method provides statistics about the series."
   ],
   "metadata": {
    "colab_type": "text",
    "id": "N13kNb0m_T3t"
   }
  },
  {
   "cell_type": "code",
   "execution_count": 14,
   "source": [
    "series.describe()"
   ],
   "outputs": [
    {
     "output_type": "execute_result",
     "data": {
      "text/plain": [
       "count    10.000000\n",
       "mean     65.500000\n",
       "std       8.847473\n",
       "min      54.000000\n",
       "25%      60.000000\n",
       "50%      64.000000\n",
       "75%      70.750000\n",
       "max      82.000000\n",
       "dtype: float64"
      ]
     },
     "metadata": {},
     "execution_count": 14
    }
   ],
   "metadata": {
    "colab": {},
    "colab_type": "code",
    "id": "b3sVqlhj_M61"
   }
  },
  {
   "cell_type": "markdown",
   "source": [
    "You can also find other information about a `Series` such as if its values are all unique:"
   ],
   "metadata": {
    "colab_type": "text",
    "id": "v3POByAk_1U2"
   }
  },
  {
   "cell_type": "code",
   "execution_count": 15,
   "source": [
    "series.is_unique"
   ],
   "outputs": [
    {
     "output_type": "execute_result",
     "data": {
      "text/plain": [
       "False"
      ]
     },
     "metadata": {},
     "execution_count": 15
    }
   ],
   "metadata": {
    "colab": {},
    "colab_type": "code",
    "id": "bYppQOdnADYw"
   }
  },
  {
   "cell_type": "markdown",
   "source": [
    "Or if it is monotonically increasing or decreasing:"
   ],
   "metadata": {
    "colab_type": "text",
    "id": "dnf7A_IyAJ-o"
   }
  },
  {
   "cell_type": "code",
   "execution_count": 16,
   "source": [
    "print(series.is_monotonic)"
   ],
   "outputs": [
    {
     "output_type": "stream",
     "name": "stdout",
     "text": [
      "False\n"
     ]
    }
   ],
   "metadata": {
    "colab": {},
    "colab_type": "code",
    "id": "nwnBtvZvAOk8"
   }
  },
  {
   "cell_type": "markdown",
   "source": [
    "#### Exercise 1: Standard Deviation\n",
    "\n",
    "Create a series using the list of values provided below. Then, using a function in the [Series](https://pandas.pydata.org/pandas-docs/stable/reference/series.html) class, find the standard deviation of the values in that series and store it in the variable `std_dev`."
   ],
   "metadata": {
    "colab_type": "text",
    "id": "kyc0HP_eAZ9q"
   }
  },
  {
   "cell_type": "markdown",
   "source": [
    "**Student Solution**"
   ],
   "metadata": {
    "colab_type": "text",
    "id": "s_8aPljkA_Om"
   }
  },
  {
   "cell_type": "code",
   "execution_count": 17,
   "source": [
    "import pandas as pd\n",
    "\n",
    "weights = (120, 143, 98, 280, 175, 205, 210, 115, 122, 175, 201)\n",
    "\n",
    "\n",
    "series = pd.Series (weights) # Create a series and assign it here.\n",
    "#print (series)\n",
    "describe = series.describe()\n",
    "std_dev = describe[2] # Find the standard deviation of the series and assign it here.\n",
    "\n",
    "print(std_dev)"
   ],
   "outputs": [
    {
     "output_type": "stream",
     "name": "stdout",
     "text": [
      "54.421085485816484\n"
     ]
    }
   ],
   "metadata": {
    "colab": {},
    "colab_type": "code",
    "id": "HQ430Um3BBXE"
   }
  },
  {
   "cell_type": "markdown",
   "source": [
    "---"
   ],
   "metadata": {
    "colab_type": "text",
    "id": "bJELcyz-7kXH"
   }
  },
  {
   "cell_type": "markdown",
   "source": [
    "### Accessing Values\n",
    "\n",
    "Let's take another look at the first series that we created in this lab:"
   ],
   "metadata": {
    "colab_type": "text",
    "id": "4icP6JbDB8Iy"
   }
  },
  {
   "cell_type": "code",
   "execution_count": 18,
   "source": [
    "temperatures = [55, 63, 72, 65, 63, 75, 67, 59, 82, 54]\n",
    "\n",
    "series = pd.Series(temperatures)\n",
    "\n",
    "print(type(series))\n",
    "print(series)"
   ],
   "outputs": [
    {
     "output_type": "stream",
     "name": "stdout",
     "text": [
      "<class 'pandas.core.series.Series'>\n",
      "0    55\n",
      "1    63\n",
      "2    72\n",
      "3    65\n",
      "4    63\n",
      "5    75\n",
      "6    67\n",
      "7    59\n",
      "8    82\n",
      "9    54\n",
      "dtype: int64\n"
     ]
    }
   ],
   "metadata": {
    "colab": {},
    "colab_type": "code",
    "id": "EIsjHq0LCTBi"
   }
  },
  {
   "cell_type": "markdown",
   "source": [
    "We can see the values printed down the right-side column. But what are those numbers along the left?\n",
    "\n",
    "They are **indices**.\n",
    "\n",
    "You are probably thinking that `Series` objects feel a whole lot like lists, tuples, and `NumPy` arrays. If so, you are correct.\n",
    "\n",
    "They are very similar to these other sequential data structures, and individual items in a series can be accessed by index as expected."
   ],
   "metadata": {
    "colab_type": "text",
    "id": "-Az7xR9eCYgD"
   }
  },
  {
   "cell_type": "code",
   "execution_count": 19,
   "source": [
    "series[4]"
   ],
   "outputs": [
    {
     "output_type": "execute_result",
     "data": {
      "text/plain": [
       "63"
      ]
     },
     "metadata": {},
     "execution_count": 19
    }
   ],
   "metadata": {
    "colab": {},
    "colab_type": "code",
    "id": "5fIJthCqCyhg"
   }
  },
  {
   "cell_type": "markdown",
   "source": [
    "You can also loop over the values in a `Series`."
   ],
   "metadata": {
    "colab_type": "text",
    "id": "uQ25ozJdEfIf"
   }
  },
  {
   "cell_type": "code",
   "execution_count": 20,
   "source": [
    "for temp in series:\n",
    "  print(temp)"
   ],
   "outputs": [
    {
     "output_type": "stream",
     "name": "stdout",
     "text": [
      "55\n",
      "63\n",
      "72\n",
      "65\n",
      "63\n",
      "75\n",
      "67\n",
      "59\n",
      "82\n",
      "54\n"
     ]
    }
   ],
   "metadata": {
    "colab": {},
    "colab_type": "code",
    "id": "cbvHuOQrEaSo"
   }
  },
  {
   "cell_type": "markdown",
   "source": [
    "### Modifying Values"
   ],
   "metadata": {
    "colab_type": "text",
    "id": "1LzL_Fd3GE44"
   }
  },
  {
   "cell_type": "markdown",
   "source": [
    "Series are mutable, so you can modify individual values."
   ],
   "metadata": {
    "colab_type": "text",
    "id": "GOY4ZG8pCx1J"
   }
  },
  {
   "cell_type": "code",
   "execution_count": 21,
   "source": [
    "temperatures = [55, 63, 72, 65, 63, 75, 67, 59, 82, 54]\n",
    "series = pd.Series(temperatures)\n",
    "\n",
    "print(series[1])\n",
    "\n",
    "series[1] = 65\n",
    "\n",
    "print(series[1])"
   ],
   "outputs": [
    {
     "output_type": "stream",
     "name": "stdout",
     "text": [
      "63\n",
      "65\n"
     ]
    }
   ],
   "metadata": {
    "colab": {},
    "colab_type": "code",
    "id": "VChNSnoiE7Ou"
   }
  },
  {
   "cell_type": "markdown",
   "source": [
    "You can also modify all of the elements in a series using standard Python expressions. For instance, if we wanted to add `1` to every item in a series, we can just do:"
   ],
   "metadata": {
    "colab_type": "text",
    "id": "NsJ3RQgZSrmV"
   }
  },
  {
   "cell_type": "code",
   "execution_count": 22,
   "source": [
    "series + 1"
   ],
   "outputs": [
    {
     "output_type": "execute_result",
     "data": {
      "text/plain": [
       "0    56\n",
       "1    66\n",
       "2    73\n",
       "3    66\n",
       "4    64\n",
       "5    76\n",
       "6    68\n",
       "7    60\n",
       "8    83\n",
       "9    55\n",
       "dtype: int64"
      ]
     },
     "metadata": {},
     "execution_count": 22
    }
   ],
   "metadata": {
    "colab": {},
    "colab_type": "code",
    "id": "e3ebIBLBS2qM"
   }
  },
  {
   "cell_type": "markdown",
   "source": [
    "Note that this doesn't actually change the `Series` though. To do that we need to assign the computation back to our original series.\n",
    "\n",
    "More operations than addition can be applied. You can add, subtract, multiple, divide, and more with a simple Python expression."
   ],
   "metadata": {
    "colab_type": "text",
    "id": "PYL0lCxLS53k"
   }
  },
  {
   "cell_type": "code",
   "execution_count": 23,
   "source": [
    "series = series + 1"
   ],
   "outputs": [],
   "metadata": {
    "colab": {},
    "colab_type": "code",
    "id": "1AAsYHEiTBfH"
   }
  },
  {
   "cell_type": "markdown",
   "source": [
    "You can remove values from the series by index using `pop`:\n"
   ],
   "metadata": {
    "colab_type": "text",
    "id": "O_CCr4BBGo3e"
   }
  },
  {
   "cell_type": "code",
   "execution_count": 24,
   "source": [
    "temperatures = [55, 63, 72, 65, 63, 75, 67, 59, 82, 54]\n",
    "series = pd.Series(temperatures)\n",
    "\n",
    "print(series)\n",
    "\n",
    "series.pop(4)\n",
    "\n",
    "print(series)"
   ],
   "outputs": [
    {
     "output_type": "stream",
     "name": "stdout",
     "text": [
      "0    55\n",
      "1    63\n",
      "2    72\n",
      "3    65\n",
      "4    63\n",
      "5    75\n",
      "6    67\n",
      "7    59\n",
      "8    82\n",
      "9    54\n",
      "dtype: int64\n",
      "0    55\n",
      "1    63\n",
      "2    72\n",
      "3    65\n",
      "5    75\n",
      "6    67\n",
      "7    59\n",
      "8    82\n",
      "9    54\n",
      "dtype: int64\n"
     ]
    }
   ],
   "metadata": {
    "colab": {},
    "colab_type": "code",
    "id": "Lib564--GsbO"
   }
  },
  {
   "cell_type": "markdown",
   "source": [
    "Notice that when we print the series out a second time, the index with value `4` is missing. After we pop the value out, the index is no longer valid to access!"
   ],
   "metadata": {
    "colab_type": "text",
    "id": "_wAoxGO2Id-t"
   }
  },
  {
   "cell_type": "code",
   "execution_count": 25,
   "source": [
    "try:\n",
    "  print(series[4])\n",
    "except:\n",
    "  print('Unable to print the value at index 4')"
   ],
   "outputs": [
    {
     "output_type": "stream",
     "name": "stdout",
     "text": [
      "Unable to print the value at index 4\n"
     ]
    }
   ],
   "metadata": {
    "colab": {},
    "colab_type": "code",
    "id": "UG967A4PIXLi"
   }
  },
  {
   "cell_type": "markdown",
   "source": [
    "In order to get the indices back into a smooth sequential order, we can call the `reset_index` function. We pass the argument `drop=True` to tell Pandas *not* to save the old index as a new column. We pass the argument `inplace=True` to tell Pandas to modify the series directly instead of making a copy. "
   ],
   "metadata": {
    "colab_type": "text",
    "id": "rDGbTJZ6R4HK"
   }
  },
  {
   "cell_type": "code",
   "execution_count": 26,
   "source": [
    "series.reset_index(drop=True, inplace=True)\n",
    "series"
   ],
   "outputs": [
    {
     "output_type": "execute_result",
     "data": {
      "text/plain": [
       "0    55\n",
       "1    63\n",
       "2    72\n",
       "3    65\n",
       "4    75\n",
       "5    67\n",
       "6    59\n",
       "7    82\n",
       "8    54\n",
       "dtype: int64"
      ]
     },
     "metadata": {},
     "execution_count": 26
    }
   ],
   "metadata": {
    "colab": {},
    "colab_type": "code",
    "id": "3pNFx47CQ9QT"
   }
  },
  {
   "cell_type": "markdown",
   "source": [
    "This is very different from what we would expect from a normal Python list! While it is possible to use `pop` on a list, the indices will automatically reset."
   ],
   "metadata": {
    "colab_type": "text",
    "id": "nBdi6PqrizOF"
   }
  },
  {
   "cell_type": "code",
   "execution_count": 27,
   "source": [
    "temperatures = [55, 63, 72, 65, 63, 75, 67, 59, 82, 54]\n",
    "\n",
    "print(temperatures)\n",
    "\n",
    "temperatures.pop(4)\n",
    "\n",
    "print(temperatures[4])"
   ],
   "outputs": [
    {
     "output_type": "stream",
     "name": "stdout",
     "text": [
      "[55, 63, 72, 65, 63, 75, 67, 59, 82, 54]\n",
      "75\n"
     ]
    }
   ],
   "metadata": {
    "colab": {},
    "colab_type": "code",
    "id": "wljBRcPCikxQ"
   }
  },
  {
   "cell_type": "markdown",
   "source": [
    "You can also add values to a `Series` by appending another `Series` to it. We pass the argument `ignore_index=True` to tell Pandas to append the values with new indices, rather than copying over the old indices of the appended values. In this case, that means the new values (`66` and `74`) get the indices `10` and `11`, rather than `0` and `1`:"
   ],
   "metadata": {
    "colab_type": "text",
    "id": "xPXWRLqIHNk9"
   }
  },
  {
   "cell_type": "code",
   "execution_count": 28,
   "source": [
    "temperatures = [55, 63, 72, 65, 63, 75, 67, 59, 82, 54]\n",
    "series = pd.Series(temperatures)\n",
    "\n",
    "print(series)\n",
    "\n",
    "new_series = pd.Series([66, 74])\n",
    "series = series.append(new_series, ignore_index=True)\n",
    "\n",
    "print(series)"
   ],
   "outputs": [
    {
     "output_type": "stream",
     "name": "stdout",
     "text": [
      "0    55\n",
      "1    63\n",
      "2    72\n",
      "3    65\n",
      "4    63\n",
      "5    75\n",
      "6    67\n",
      "7    59\n",
      "8    82\n",
      "9    54\n",
      "dtype: int64\n",
      "0     55\n",
      "1     63\n",
      "2     72\n",
      "3     65\n",
      "4     63\n",
      "5     75\n",
      "6     67\n",
      "7     59\n",
      "8     82\n",
      "9     54\n",
      "10    66\n",
      "11    74\n",
      "dtype: int64\n"
     ]
    }
   ],
   "metadata": {
    "colab": {},
    "colab_type": "code",
    "id": "s_VBjALUHWlr"
   }
  },
  {
   "cell_type": "markdown",
   "source": [
    "#### Exercise 2: Sorting a Series\n",
    "\n",
    "Find the correct method in the [Series documentation](https://pandas.pydata.org/pandas-docs/stable/reference/api/pandas.Series.html) to sort the values in `series` in ascending order. Be sure the indices are also sorted and that the new sorted series is stored in the `series` variable."
   ],
   "metadata": {
    "colab_type": "text",
    "id": "nnnkyznaET1H"
   }
  },
  {
   "cell_type": "markdown",
   "source": [
    "**Student Solution**"
   ],
   "metadata": {
    "colab_type": "text",
    "id": "llEvrONtFSg5"
   }
  },
  {
   "cell_type": "code",
   "execution_count": 29,
   "source": [
    "temperatures = [55, 63, 72, 65, 63, 75, 67, 59, 82, 54]\n",
    "series = pd.Series(temperatures)\n",
    "\n",
    "# Your code goes here.\n",
    "\n",
    "print(series.sort_values(axis =0, ascending = True, ignore_index= True))"
   ],
   "outputs": [
    {
     "output_type": "stream",
     "name": "stdout",
     "text": [
      "0    54\n",
      "1    55\n",
      "2    59\n",
      "3    63\n",
      "4    63\n",
      "5    65\n",
      "6    67\n",
      "7    72\n",
      "8    75\n",
      "9    82\n",
      "dtype: int64\n"
     ]
    }
   ],
   "metadata": {
    "colab": {},
    "colab_type": "code",
    "id": "0Iy_JGihEeQU"
   }
  },
  {
   "cell_type": "markdown",
   "source": [
    "---"
   ],
   "metadata": {
    "colab_type": "text",
    "id": "z1CZZGSYGG_B"
   }
  },
  {
   "cell_type": "markdown",
   "source": [
    "## Pandas DataFrame"
   ],
   "metadata": {
    "colab_type": "text",
    "id": "DluyH3N3tyPE"
   }
  },
  {
   "cell_type": "markdown",
   "source": [
    "Now that we have a basic understanding of `Series`, let's dive into the [DataFrame](https://pandas.pydata.org/pandas-docs/stable/reference/api/pandas.DataFrame.html). If you picture `Series` as a *list* of data, you can think of `DataFrame` as a *table* of data.\n",
    "\n",
    "A `DataFrame` consists of one or more `Series` presented in a tabular format. Each `Series` in the `DataFrame` is a column."
   ],
   "metadata": {
    "colab_type": "text",
    "id": "DN1Efp21HO6u"
   }
  },
  {
   "cell_type": "markdown",
   "source": [
    "### Creating a DataFrame"
   ],
   "metadata": {
    "colab_type": "text",
    "id": "16datPOKIC9p"
   }
  },
  {
   "cell_type": "markdown",
   "source": [
    "We can create an empty `DataFrame` using the `DataFrame` class in Pandas:\n",
    "\n",
    "```python\n",
    "df = pd.DataFrame()\n",
    "```\n",
    "\n",
    "But an empty `DataFrame` isn't particularly exciting. Instead, let's create a `DataFrame` using a few series.\n",
    "\n",
    "In the code block below you'll see that we have three series:\n",
    "\n",
    "1. Cities\n",
    "1. Populations of those cities\n",
    "1. Number of airports in those cities\n"
   ],
   "metadata": {
    "colab_type": "text",
    "id": "pYTSLBdEAuau"
   }
  },
  {
   "cell_type": "code",
   "execution_count": 30,
   "source": [
    "city_names = pd.Series([\n",
    "  'Atlanta', \n",
    "  'Austin', \n",
    "  'Kansas City',\n",
    "  'New York City', \n",
    "  'Portland', \n",
    "  'San Francisco', \n",
    "  'Seattle',\n",
    "])\n",
    "\n",
    "population = pd.Series([\n",
    "  498044,\n",
    "  964254,\n",
    "  491918,\n",
    "  8398748,\n",
    "  653115,\n",
    "  883305, \n",
    "  744955,\n",
    "])\n",
    "\n",
    "num_airports = pd.Series([\n",
    "  2,\n",
    "  2,\n",
    "  8,\n",
    "  3,\n",
    "  1,\n",
    "  3,\n",
    "  2,\n",
    "])\n",
    "\n",
    "print(city_names, population, num_airports)"
   ],
   "outputs": [
    {
     "output_type": "stream",
     "name": "stdout",
     "text": [
      "0          Atlanta\n",
      "1           Austin\n",
      "2      Kansas City\n",
      "3    New York City\n",
      "4         Portland\n",
      "5    San Francisco\n",
      "6          Seattle\n",
      "dtype: object 0     498044\n",
      "1     964254\n",
      "2     491918\n",
      "3    8398748\n",
      "4     653115\n",
      "5     883305\n",
      "6     744955\n",
      "dtype: int64 0    2\n",
      "1    2\n",
      "2    8\n",
      "3    3\n",
      "4    1\n",
      "5    3\n",
      "6    2\n",
      "dtype: int64\n"
     ]
    }
   ],
   "metadata": {
    "colab": {},
    "colab_type": "code",
    "id": "hErWNo6RS0-N"
   }
  },
  {
   "cell_type": "markdown",
   "source": [
    "We can now combine these series into a `DataFrame`, using a dictionary with keys as the column names and values as the series:"
   ],
   "metadata": {
    "colab_type": "text",
    "id": "_weonc5sL2eB"
   }
  },
  {
   "cell_type": "code",
   "execution_count": 31,
   "source": [
    "df = pd.DataFrame({\n",
    "  'City Name': city_names,\n",
    "  'Population': population, \n",
    "  'Airports': num_airports,\n",
    "})\n",
    "\n",
    "print(df)"
   ],
   "outputs": [
    {
     "output_type": "stream",
     "name": "stdout",
     "text": [
      "       City Name  Population  Airports\n",
      "0        Atlanta      498044         2\n",
      "1         Austin      964254         2\n",
      "2    Kansas City      491918         8\n",
      "3  New York City     8398748         3\n",
      "4       Portland      653115         1\n",
      "5  San Francisco      883305         3\n",
      "6        Seattle      744955         2\n"
     ]
    }
   ],
   "metadata": {
    "colab": {},
    "colab_type": "code",
    "id": "HOTQnmJjL_qI"
   }
  },
  {
   "cell_type": "markdown",
   "source": [
    "The data is now displayed in a tabular format. We can see that there are three columns: `City Name`, `Population`, and `Airports`. There are six rows, each row representing the data for a single city."
   ],
   "metadata": {
    "colab_type": "text",
    "id": "G6XEeFU7MN-J"
   }
  },
  {
   "cell_type": "markdown",
   "source": [
    "In the block above we used the `print` function to display the `DataFrame`, which printed out the data in a plain text form. Colab and other notebook environments can \"pretty print\" DataFrames if you make it the last part of a code block and don't wrap the variable in a `print` statement. Run the code block below to see this in action."
   ],
   "metadata": {
    "colab_type": "text",
    "id": "jMCslIbiMfDB"
   }
  },
  {
   "cell_type": "code",
   "execution_count": 32,
   "source": [
    "df = pd.DataFrame({\n",
    "  'City Name': city_names,\n",
    "  'Population': population, \n",
    "  'Airports': num_airports,\n",
    "})\n",
    "\n",
    "df"
   ],
   "outputs": [
    {
     "output_type": "execute_result",
     "data": {
      "text/html": [
       "<div>\n",
       "<style scoped>\n",
       "    .dataframe tbody tr th:only-of-type {\n",
       "        vertical-align: middle;\n",
       "    }\n",
       "\n",
       "    .dataframe tbody tr th {\n",
       "        vertical-align: top;\n",
       "    }\n",
       "\n",
       "    .dataframe thead th {\n",
       "        text-align: right;\n",
       "    }\n",
       "</style>\n",
       "<table border=\"1\" class=\"dataframe\">\n",
       "  <thead>\n",
       "    <tr style=\"text-align: right;\">\n",
       "      <th></th>\n",
       "      <th>City Name</th>\n",
       "      <th>Population</th>\n",
       "      <th>Airports</th>\n",
       "    </tr>\n",
       "  </thead>\n",
       "  <tbody>\n",
       "    <tr>\n",
       "      <th>0</th>\n",
       "      <td>Atlanta</td>\n",
       "      <td>498044</td>\n",
       "      <td>2</td>\n",
       "    </tr>\n",
       "    <tr>\n",
       "      <th>1</th>\n",
       "      <td>Austin</td>\n",
       "      <td>964254</td>\n",
       "      <td>2</td>\n",
       "    </tr>\n",
       "    <tr>\n",
       "      <th>2</th>\n",
       "      <td>Kansas City</td>\n",
       "      <td>491918</td>\n",
       "      <td>8</td>\n",
       "    </tr>\n",
       "    <tr>\n",
       "      <th>3</th>\n",
       "      <td>New York City</td>\n",
       "      <td>8398748</td>\n",
       "      <td>3</td>\n",
       "    </tr>\n",
       "    <tr>\n",
       "      <th>4</th>\n",
       "      <td>Portland</td>\n",
       "      <td>653115</td>\n",
       "      <td>1</td>\n",
       "    </tr>\n",
       "    <tr>\n",
       "      <th>5</th>\n",
       "      <td>San Francisco</td>\n",
       "      <td>883305</td>\n",
       "      <td>3</td>\n",
       "    </tr>\n",
       "    <tr>\n",
       "      <th>6</th>\n",
       "      <td>Seattle</td>\n",
       "      <td>744955</td>\n",
       "      <td>2</td>\n",
       "    </tr>\n",
       "  </tbody>\n",
       "</table>\n",
       "</div>"
      ],
      "text/plain": [
       "       City Name  Population  Airports\n",
       "0        Atlanta      498044         2\n",
       "1         Austin      964254         2\n",
       "2    Kansas City      491918         8\n",
       "3  New York City     8398748         3\n",
       "4       Portland      653115         1\n",
       "5  San Francisco      883305         3\n",
       "6        Seattle      744955         2"
      ]
     },
     "metadata": {},
     "execution_count": 32
    }
   ],
   "metadata": {
    "colab": {},
    "colab_type": "code",
    "id": "C0VbODk7M3NL"
   }
  },
  {
   "cell_type": "markdown",
   "source": [
    "That's much easier on the eyes! The rows are colored in an alternating background color scheme, which makes long rows of data easier to view."
   ],
   "metadata": {
    "colab_type": "text",
    "id": "ppMjIT9gM6L1"
   }
  },
  {
   "cell_type": "markdown",
   "source": [
    "### Analyzing a DataFrame\n",
    "\n",
    "Similar to a `Series`, you can ask the `DataFrame` to compute information about itself. The `describe()` method provides statistics about the `DataFrame`."
   ],
   "metadata": {
    "colab_type": "text",
    "id": "A397Fja_NOdX"
   }
  },
  {
   "cell_type": "code",
   "execution_count": 33,
   "source": [
    "df.describe()"
   ],
   "outputs": [
    {
     "output_type": "execute_result",
     "data": {
      "text/html": [
       "<div>\n",
       "<style scoped>\n",
       "    .dataframe tbody tr th:only-of-type {\n",
       "        vertical-align: middle;\n",
       "    }\n",
       "\n",
       "    .dataframe tbody tr th {\n",
       "        vertical-align: top;\n",
       "    }\n",
       "\n",
       "    .dataframe thead th {\n",
       "        text-align: right;\n",
       "    }\n",
       "</style>\n",
       "<table border=\"1\" class=\"dataframe\">\n",
       "  <thead>\n",
       "    <tr style=\"text-align: right;\">\n",
       "      <th></th>\n",
       "      <th>Population</th>\n",
       "      <th>Airports</th>\n",
       "    </tr>\n",
       "  </thead>\n",
       "  <tbody>\n",
       "    <tr>\n",
       "      <th>count</th>\n",
       "      <td>7.000000e+00</td>\n",
       "      <td>7.000000</td>\n",
       "    </tr>\n",
       "    <tr>\n",
       "      <th>mean</th>\n",
       "      <td>1.804906e+06</td>\n",
       "      <td>3.000000</td>\n",
       "    </tr>\n",
       "    <tr>\n",
       "      <th>std</th>\n",
       "      <td>2.913095e+06</td>\n",
       "      <td>2.309401</td>\n",
       "    </tr>\n",
       "    <tr>\n",
       "      <th>min</th>\n",
       "      <td>4.919180e+05</td>\n",
       "      <td>1.000000</td>\n",
       "    </tr>\n",
       "    <tr>\n",
       "      <th>25%</th>\n",
       "      <td>5.755795e+05</td>\n",
       "      <td>2.000000</td>\n",
       "    </tr>\n",
       "    <tr>\n",
       "      <th>50%</th>\n",
       "      <td>7.449550e+05</td>\n",
       "      <td>2.000000</td>\n",
       "    </tr>\n",
       "    <tr>\n",
       "      <th>75%</th>\n",
       "      <td>9.237795e+05</td>\n",
       "      <td>3.000000</td>\n",
       "    </tr>\n",
       "    <tr>\n",
       "      <th>max</th>\n",
       "      <td>8.398748e+06</td>\n",
       "      <td>8.000000</td>\n",
       "    </tr>\n",
       "  </tbody>\n",
       "</table>\n",
       "</div>"
      ],
      "text/plain": [
       "         Population  Airports\n",
       "count  7.000000e+00  7.000000\n",
       "mean   1.804906e+06  3.000000\n",
       "std    2.913095e+06  2.309401\n",
       "min    4.919180e+05  1.000000\n",
       "25%    5.755795e+05  2.000000\n",
       "50%    7.449550e+05  2.000000\n",
       "75%    9.237795e+05  3.000000\n",
       "max    8.398748e+06  8.000000"
      ]
     },
     "metadata": {},
     "execution_count": 33
    }
   ],
   "metadata": {
    "colab": {},
    "colab_type": "code",
    "id": "YLIM4mGkAsjT"
   }
  },
  {
   "cell_type": "markdown",
   "source": [
    "These are the same statistics that we got when we called `describe` on a `Series` above. As you work with Pandas, you'll find that many of the methods that operate on `Series` also work with `DataFrame` objects.\n",
    "\n",
    "*Did you notice something missing in the output from `describe` though?*\n",
    "\n",
    "We have three columns in our `DataFrame`, but only two columns have statistics printed for them. This is because `describe` only works with numeric `Series` by default, and the 'City Name' column is a string.\n",
    "\n",
    "To show all columns add an `include='all'` argument to describe:"
   ],
   "metadata": {
    "colab_type": "text",
    "id": "VhWWKfKlOQoT"
   }
  },
  {
   "cell_type": "code",
   "execution_count": 34,
   "source": [
    "df.describe(include='all')"
   ],
   "outputs": [
    {
     "output_type": "execute_result",
     "data": {
      "text/html": [
       "<div>\n",
       "<style scoped>\n",
       "    .dataframe tbody tr th:only-of-type {\n",
       "        vertical-align: middle;\n",
       "    }\n",
       "\n",
       "    .dataframe tbody tr th {\n",
       "        vertical-align: top;\n",
       "    }\n",
       "\n",
       "    .dataframe thead th {\n",
       "        text-align: right;\n",
       "    }\n",
       "</style>\n",
       "<table border=\"1\" class=\"dataframe\">\n",
       "  <thead>\n",
       "    <tr style=\"text-align: right;\">\n",
       "      <th></th>\n",
       "      <th>City Name</th>\n",
       "      <th>Population</th>\n",
       "      <th>Airports</th>\n",
       "    </tr>\n",
       "  </thead>\n",
       "  <tbody>\n",
       "    <tr>\n",
       "      <th>count</th>\n",
       "      <td>7</td>\n",
       "      <td>7.000000e+00</td>\n",
       "      <td>7.000000</td>\n",
       "    </tr>\n",
       "    <tr>\n",
       "      <th>unique</th>\n",
       "      <td>7</td>\n",
       "      <td>NaN</td>\n",
       "      <td>NaN</td>\n",
       "    </tr>\n",
       "    <tr>\n",
       "      <th>top</th>\n",
       "      <td>Atlanta</td>\n",
       "      <td>NaN</td>\n",
       "      <td>NaN</td>\n",
       "    </tr>\n",
       "    <tr>\n",
       "      <th>freq</th>\n",
       "      <td>1</td>\n",
       "      <td>NaN</td>\n",
       "      <td>NaN</td>\n",
       "    </tr>\n",
       "    <tr>\n",
       "      <th>mean</th>\n",
       "      <td>NaN</td>\n",
       "      <td>1.804906e+06</td>\n",
       "      <td>3.000000</td>\n",
       "    </tr>\n",
       "    <tr>\n",
       "      <th>std</th>\n",
       "      <td>NaN</td>\n",
       "      <td>2.913095e+06</td>\n",
       "      <td>2.309401</td>\n",
       "    </tr>\n",
       "    <tr>\n",
       "      <th>min</th>\n",
       "      <td>NaN</td>\n",
       "      <td>4.919180e+05</td>\n",
       "      <td>1.000000</td>\n",
       "    </tr>\n",
       "    <tr>\n",
       "      <th>25%</th>\n",
       "      <td>NaN</td>\n",
       "      <td>5.755795e+05</td>\n",
       "      <td>2.000000</td>\n",
       "    </tr>\n",
       "    <tr>\n",
       "      <th>50%</th>\n",
       "      <td>NaN</td>\n",
       "      <td>7.449550e+05</td>\n",
       "      <td>2.000000</td>\n",
       "    </tr>\n",
       "    <tr>\n",
       "      <th>75%</th>\n",
       "      <td>NaN</td>\n",
       "      <td>9.237795e+05</td>\n",
       "      <td>3.000000</td>\n",
       "    </tr>\n",
       "    <tr>\n",
       "      <th>max</th>\n",
       "      <td>NaN</td>\n",
       "      <td>8.398748e+06</td>\n",
       "      <td>8.000000</td>\n",
       "    </tr>\n",
       "  </tbody>\n",
       "</table>\n",
       "</div>"
      ],
      "text/plain": [
       "       City Name    Population  Airports\n",
       "count          7  7.000000e+00  7.000000\n",
       "unique         7           NaN       NaN\n",
       "top      Atlanta           NaN       NaN\n",
       "freq           1           NaN       NaN\n",
       "mean         NaN  1.804906e+06  3.000000\n",
       "std          NaN  2.913095e+06  2.309401\n",
       "min          NaN  4.919180e+05  1.000000\n",
       "25%          NaN  5.755795e+05  2.000000\n",
       "50%          NaN  7.449550e+05  2.000000\n",
       "75%          NaN  9.237795e+05  3.000000\n",
       "max          NaN  8.398748e+06  8.000000"
      ]
     },
     "metadata": {},
     "execution_count": 34
    }
   ],
   "metadata": {
    "colab": {},
    "colab_type": "code",
    "id": "AmWICoAVVqYi"
   }
  },
  {
   "cell_type": "markdown",
   "source": [
    "We now get a few more metrics specific to string columns: `unique`, `top`, and `freq`. We also now can see the 'City Name' column."
   ],
   "metadata": {
    "colab_type": "text",
    "id": "LYMlR8S1Vy7v"
   }
  },
  {
   "cell_type": "markdown",
   "source": [
    "If we want to look at the data we could print the entire `DataFrame`, but that doesn't scale well for really large `DataFrames`. The `head` method is a way to just look at the first few rows of a `DataFrame`."
   ],
   "metadata": {
    "colab_type": "text",
    "id": "LyvcomOpD_bw"
   }
  },
  {
   "cell_type": "code",
   "execution_count": 35,
   "source": [
    "df.head()"
   ],
   "outputs": [
    {
     "output_type": "execute_result",
     "data": {
      "text/html": [
       "<div>\n",
       "<style scoped>\n",
       "    .dataframe tbody tr th:only-of-type {\n",
       "        vertical-align: middle;\n",
       "    }\n",
       "\n",
       "    .dataframe tbody tr th {\n",
       "        vertical-align: top;\n",
       "    }\n",
       "\n",
       "    .dataframe thead th {\n",
       "        text-align: right;\n",
       "    }\n",
       "</style>\n",
       "<table border=\"1\" class=\"dataframe\">\n",
       "  <thead>\n",
       "    <tr style=\"text-align: right;\">\n",
       "      <th></th>\n",
       "      <th>City Name</th>\n",
       "      <th>Population</th>\n",
       "      <th>Airports</th>\n",
       "    </tr>\n",
       "  </thead>\n",
       "  <tbody>\n",
       "    <tr>\n",
       "      <th>0</th>\n",
       "      <td>Atlanta</td>\n",
       "      <td>498044</td>\n",
       "      <td>2</td>\n",
       "    </tr>\n",
       "    <tr>\n",
       "      <th>1</th>\n",
       "      <td>Austin</td>\n",
       "      <td>964254</td>\n",
       "      <td>2</td>\n",
       "    </tr>\n",
       "    <tr>\n",
       "      <th>2</th>\n",
       "      <td>Kansas City</td>\n",
       "      <td>491918</td>\n",
       "      <td>8</td>\n",
       "    </tr>\n",
       "    <tr>\n",
       "      <th>3</th>\n",
       "      <td>New York City</td>\n",
       "      <td>8398748</td>\n",
       "      <td>3</td>\n",
       "    </tr>\n",
       "    <tr>\n",
       "      <th>4</th>\n",
       "      <td>Portland</td>\n",
       "      <td>653115</td>\n",
       "      <td>1</td>\n",
       "    </tr>\n",
       "  </tbody>\n",
       "</table>\n",
       "</div>"
      ],
      "text/plain": [
       "       City Name  Population  Airports\n",
       "0        Atlanta      498044         2\n",
       "1         Austin      964254         2\n",
       "2    Kansas City      491918         8\n",
       "3  New York City     8398748         3\n",
       "4       Portland      653115         1"
      ]
     },
     "metadata": {},
     "execution_count": 35
    }
   ],
   "metadata": {
    "colab": {},
    "colab_type": "code",
    "id": "xKh5SCetDXER"
   }
  },
  {
   "cell_type": "markdown",
   "source": [
    "Conversely, the `tail` method returns the last few rows of a data frame."
   ],
   "metadata": {
    "colab_type": "text",
    "id": "UFlAcJryWYFx"
   }
  },
  {
   "cell_type": "code",
   "execution_count": 36,
   "source": [
    "df.tail()"
   ],
   "outputs": [
    {
     "output_type": "execute_result",
     "data": {
      "text/html": [
       "<div>\n",
       "<style scoped>\n",
       "    .dataframe tbody tr th:only-of-type {\n",
       "        vertical-align: middle;\n",
       "    }\n",
       "\n",
       "    .dataframe tbody tr th {\n",
       "        vertical-align: top;\n",
       "    }\n",
       "\n",
       "    .dataframe thead th {\n",
       "        text-align: right;\n",
       "    }\n",
       "</style>\n",
       "<table border=\"1\" class=\"dataframe\">\n",
       "  <thead>\n",
       "    <tr style=\"text-align: right;\">\n",
       "      <th></th>\n",
       "      <th>City Name</th>\n",
       "      <th>Population</th>\n",
       "      <th>Airports</th>\n",
       "    </tr>\n",
       "  </thead>\n",
       "  <tbody>\n",
       "    <tr>\n",
       "      <th>2</th>\n",
       "      <td>Kansas City</td>\n",
       "      <td>491918</td>\n",
       "      <td>8</td>\n",
       "    </tr>\n",
       "    <tr>\n",
       "      <th>3</th>\n",
       "      <td>New York City</td>\n",
       "      <td>8398748</td>\n",
       "      <td>3</td>\n",
       "    </tr>\n",
       "    <tr>\n",
       "      <th>4</th>\n",
       "      <td>Portland</td>\n",
       "      <td>653115</td>\n",
       "      <td>1</td>\n",
       "    </tr>\n",
       "    <tr>\n",
       "      <th>5</th>\n",
       "      <td>San Francisco</td>\n",
       "      <td>883305</td>\n",
       "      <td>3</td>\n",
       "    </tr>\n",
       "    <tr>\n",
       "      <th>6</th>\n",
       "      <td>Seattle</td>\n",
       "      <td>744955</td>\n",
       "      <td>2</td>\n",
       "    </tr>\n",
       "  </tbody>\n",
       "</table>\n",
       "</div>"
      ],
      "text/plain": [
       "       City Name  Population  Airports\n",
       "2    Kansas City      491918         8\n",
       "3  New York City     8398748         3\n",
       "4       Portland      653115         1\n",
       "5  San Francisco      883305         3\n",
       "6        Seattle      744955         2"
      ]
     },
     "metadata": {},
     "execution_count": 36
    }
   ],
   "metadata": {
    "colab": {},
    "colab_type": "code",
    "id": "LZAD5VbtDYqH"
   }
  },
  {
   "cell_type": "markdown",
   "source": [
    "You can also choose the number of rows you want to print as part of `head` and `tail`."
   ],
   "metadata": {
    "colab_type": "text",
    "id": "nYziu5ScrsIn"
   }
  },
  {
   "cell_type": "code",
   "execution_count": 37,
   "source": [
    "df.head(12)"
   ],
   "outputs": [
    {
     "output_type": "execute_result",
     "data": {
      "text/html": [
       "<div>\n",
       "<style scoped>\n",
       "    .dataframe tbody tr th:only-of-type {\n",
       "        vertical-align: middle;\n",
       "    }\n",
       "\n",
       "    .dataframe tbody tr th {\n",
       "        vertical-align: top;\n",
       "    }\n",
       "\n",
       "    .dataframe thead th {\n",
       "        text-align: right;\n",
       "    }\n",
       "</style>\n",
       "<table border=\"1\" class=\"dataframe\">\n",
       "  <thead>\n",
       "    <tr style=\"text-align: right;\">\n",
       "      <th></th>\n",
       "      <th>City Name</th>\n",
       "      <th>Population</th>\n",
       "      <th>Airports</th>\n",
       "    </tr>\n",
       "  </thead>\n",
       "  <tbody>\n",
       "    <tr>\n",
       "      <th>0</th>\n",
       "      <td>Atlanta</td>\n",
       "      <td>498044</td>\n",
       "      <td>2</td>\n",
       "    </tr>\n",
       "    <tr>\n",
       "      <th>1</th>\n",
       "      <td>Austin</td>\n",
       "      <td>964254</td>\n",
       "      <td>2</td>\n",
       "    </tr>\n",
       "    <tr>\n",
       "      <th>2</th>\n",
       "      <td>Kansas City</td>\n",
       "      <td>491918</td>\n",
       "      <td>8</td>\n",
       "    </tr>\n",
       "    <tr>\n",
       "      <th>3</th>\n",
       "      <td>New York City</td>\n",
       "      <td>8398748</td>\n",
       "      <td>3</td>\n",
       "    </tr>\n",
       "    <tr>\n",
       "      <th>4</th>\n",
       "      <td>Portland</td>\n",
       "      <td>653115</td>\n",
       "      <td>1</td>\n",
       "    </tr>\n",
       "    <tr>\n",
       "      <th>5</th>\n",
       "      <td>San Francisco</td>\n",
       "      <td>883305</td>\n",
       "      <td>3</td>\n",
       "    </tr>\n",
       "    <tr>\n",
       "      <th>6</th>\n",
       "      <td>Seattle</td>\n",
       "      <td>744955</td>\n",
       "      <td>2</td>\n",
       "    </tr>\n",
       "  </tbody>\n",
       "</table>\n",
       "</div>"
      ],
      "text/plain": [
       "       City Name  Population  Airports\n",
       "0        Atlanta      498044         2\n",
       "1         Austin      964254         2\n",
       "2    Kansas City      491918         8\n",
       "3  New York City     8398748         3\n",
       "4       Portland      653115         1\n",
       "5  San Francisco      883305         3\n",
       "6        Seattle      744955         2"
      ]
     },
     "metadata": {},
     "execution_count": 37
    }
   ],
   "metadata": {
    "colab": {},
    "colab_type": "code",
    "id": "xRuRx_Zkrwxx"
   }
  },
  {
   "cell_type": "markdown",
   "source": [
    "These are useful ways at taking a look at actual data, but they can have some inherent bias in them. If the data is sorted by any column values, `head` or `tail` might show a skewed view of the data.\n",
    "\n",
    "One way to combat this is to always look at both the head and tail of your data. Another way is to randomly sample your data and look at the sample. This will reduce the chance that you are seeing a lopsided view of your data."
   ],
   "metadata": {
    "colab_type": "text",
    "id": "UkDcNsq2Wi2l"
   }
  },
  {
   "cell_type": "markdown",
   "source": [
    "We can also visualize the data in a `DataFrame`. The `hist` command will make a histogram of each of the numerical columns. As you will see, some of these histograms are more informative than others."
   ],
   "metadata": {
    "colab_type": "text",
    "id": "SjTWrMmfETIi"
   }
  },
  {
   "cell_type": "code",
   "execution_count": 38,
   "source": [
    "_ = df.hist()"
   ],
   "outputs": [
    {
     "output_type": "display_data",
     "data": {
      "image/png": "[encoded data removed]",
      "text/plain": [
       "<Figure size 432x288 with 2 Axes>"
      ]
     },
     "metadata": {
      "needs_background": "light"
     }
    }
   ],
   "metadata": {
    "colab": {},
    "colab_type": "code",
    "id": "iOiWtVR2DZyR"
   }
  },
  {
   "cell_type": "markdown",
   "source": [
    "**What Information Might We Gain From These Histograms?**\n",
    "\n",
    "In the airports histogram, we can see that there is one outlier (Kansas City), and all other cities have roughly two airports.\n",
    "\n",
    "In the population histogram, we can see that there is also one outlier (New York City), which has an order of magnitude more population, such that all other populations are very close to zero in comparison. We also see here how the axis can get very messy."
   ],
   "metadata": {
    "colab_type": "text",
    "id": "35ne0g79WoYM"
   }
  },
  {
   "cell_type": "markdown",
   "source": [
    "#### Exercise 3: Sampling Data\n",
    "\n",
    "Find a method in the [DataFrame documentation](https://pandas.pydata.org/pandas-docs/stable/reference/api/pandas.DataFrame.html) that returns a random sample of your `DataFrame`. Call that method and make it return five rows of data."
   ],
   "metadata": {
    "colab_type": "text",
    "id": "dXr-NQYcXF23"
   }
  },
  {
   "cell_type": "markdown",
   "source": [
    "**Student Solution**"
   ],
   "metadata": {
    "colab_type": "text",
    "id": "8qXQUroOXYcd"
   }
  },
  {
   "cell_type": "code",
   "execution_count": 39,
   "source": [
    "city_names = pd.Series(['Atlanta', 'Austin', 'Kansas City', 'New York City', \n",
    "                        'Portland', 'San Francisco', 'Seattle'])\n",
    "population = pd.Series([498044, 964254, 491918, 8398748, 653115, 883305, 744955])\n",
    "num_airports = pd.Series([2, 2, 8, 3, 1, 3, 2])\n",
    "\n",
    "df = pd.DataFrame({\n",
    "  'City Name': city_names,\n",
    "  'Population': population, \n",
    "  'Airports': num_airports,\n",
    "})\n",
    "\n",
    "df.sample(5)\n",
    "\n",
    "# Your Code Goes Here"
   ],
   "outputs": [
    {
     "output_type": "execute_result",
     "data": {
      "text/html": [
       "<div>\n",
       "<style scoped>\n",
       "    .dataframe tbody tr th:only-of-type {\n",
       "        vertical-align: middle;\n",
       "    }\n",
       "\n",
       "    .dataframe tbody tr th {\n",
       "        vertical-align: top;\n",
       "    }\n",
       "\n",
       "    .dataframe thead th {\n",
       "        text-align: right;\n",
       "    }\n",
       "</style>\n",
       "<table border=\"1\" class=\"dataframe\">\n",
       "  <thead>\n",
       "    <tr style=\"text-align: right;\">\n",
       "      <th></th>\n",
       "      <th>City Name</th>\n",
       "      <th>Population</th>\n",
       "      <th>Airports</th>\n",
       "    </tr>\n",
       "  </thead>\n",
       "  <tbody>\n",
       "    <tr>\n",
       "      <th>4</th>\n",
       "      <td>Portland</td>\n",
       "      <td>653115</td>\n",
       "      <td>1</td>\n",
       "    </tr>\n",
       "    <tr>\n",
       "      <th>6</th>\n",
       "      <td>Seattle</td>\n",
       "      <td>744955</td>\n",
       "      <td>2</td>\n",
       "    </tr>\n",
       "    <tr>\n",
       "      <th>0</th>\n",
       "      <td>Atlanta</td>\n",
       "      <td>498044</td>\n",
       "      <td>2</td>\n",
       "    </tr>\n",
       "    <tr>\n",
       "      <th>3</th>\n",
       "      <td>New York City</td>\n",
       "      <td>8398748</td>\n",
       "      <td>3</td>\n",
       "    </tr>\n",
       "    <tr>\n",
       "      <th>5</th>\n",
       "      <td>San Francisco</td>\n",
       "      <td>883305</td>\n",
       "      <td>3</td>\n",
       "    </tr>\n",
       "  </tbody>\n",
       "</table>\n",
       "</div>"
      ],
      "text/plain": [
       "       City Name  Population  Airports\n",
       "4       Portland      653115         1\n",
       "6        Seattle      744955         2\n",
       "0        Atlanta      498044         2\n",
       "3  New York City     8398748         3\n",
       "5  San Francisco      883305         3"
      ]
     },
     "metadata": {},
     "execution_count": 39
    }
   ],
   "metadata": {
    "colab": {},
    "colab_type": "code",
    "id": "ag_gH8H7XaO8"
   }
  },
  {
   "cell_type": "markdown",
   "source": [
    "---"
   ],
   "metadata": {
    "colab_type": "text",
    "id": "eZhR8SFsX9mm"
   }
  },
  {
   "cell_type": "markdown",
   "source": [
    "### Accessing Values\n",
    "\n",
    "We saw that individual values in a  `Series` can be accessed using indexing similar to that seen in standard Python lists and tuples. Accessing values in `DataFrame` objects is a little more involved."
   ],
   "metadata": {
    "colab_type": "text",
    "id": "rk03BOzuYNhM"
   }
  },
  {
   "cell_type": "markdown",
   "source": [
    "#### Accessing Columns\n",
    "\n",
    "To access an entire column of data you can index the `DataFrame` by column name. For instance, to return the entire `City Name` column as a `Series` you can run the code below:"
   ],
   "metadata": {
    "colab_type": "text",
    "id": "qWtjPJr_Ygz0"
   }
  },
  {
   "cell_type": "code",
   "execution_count": 40,
   "source": [
    "df['City Name']"
   ],
   "outputs": [
    {
     "output_type": "execute_result",
     "data": {
      "text/plain": [
       "0          Atlanta\n",
       "1           Austin\n",
       "2      Kansas City\n",
       "3    New York City\n",
       "4         Portland\n",
       "5    San Francisco\n",
       "6          Seattle\n",
       "Name: City Name, dtype: object"
      ]
     },
     "metadata": {},
     "execution_count": 40
    }
   ],
   "metadata": {
    "colab": {},
    "colab_type": "code",
    "id": "8WAQRgoYbJxX"
   }
  },
  {
   "cell_type": "markdown",
   "source": [
    "But what if you want a `DataFrame` instead of a `Series`?\n",
    "\n",
    "In this case, you index the `DataFrame` using a list, where the list contains the name of the column that you want returned as a `DataFrame`:"
   ],
   "metadata": {
    "colab_type": "text",
    "id": "o66D4v6GgwJj"
   }
  },
  {
   "cell_type": "code",
   "execution_count": 41,
   "source": [
    "df[['City Name']]"
   ],
   "outputs": [
    {
     "output_type": "execute_result",
     "data": {
      "text/html": [
       "<div>\n",
       "<style scoped>\n",
       "    .dataframe tbody tr th:only-of-type {\n",
       "        vertical-align: middle;\n",
       "    }\n",
       "\n",
       "    .dataframe tbody tr th {\n",
       "        vertical-align: top;\n",
       "    }\n",
       "\n",
       "    .dataframe thead th {\n",
       "        text-align: right;\n",
       "    }\n",
       "</style>\n",
       "<table border=\"1\" class=\"dataframe\">\n",
       "  <thead>\n",
       "    <tr style=\"text-align: right;\">\n",
       "      <th></th>\n",
       "      <th>City Name</th>\n",
       "    </tr>\n",
       "  </thead>\n",
       "  <tbody>\n",
       "    <tr>\n",
       "      <th>0</th>\n",
       "      <td>Atlanta</td>\n",
       "    </tr>\n",
       "    <tr>\n",
       "      <th>1</th>\n",
       "      <td>Austin</td>\n",
       "    </tr>\n",
       "    <tr>\n",
       "      <th>2</th>\n",
       "      <td>Kansas City</td>\n",
       "    </tr>\n",
       "    <tr>\n",
       "      <th>3</th>\n",
       "      <td>New York City</td>\n",
       "    </tr>\n",
       "    <tr>\n",
       "      <th>4</th>\n",
       "      <td>Portland</td>\n",
       "    </tr>\n",
       "    <tr>\n",
       "      <th>5</th>\n",
       "      <td>San Francisco</td>\n",
       "    </tr>\n",
       "    <tr>\n",
       "      <th>6</th>\n",
       "      <td>Seattle</td>\n",
       "    </tr>\n",
       "  </tbody>\n",
       "</table>\n",
       "</div>"
      ],
      "text/plain": [
       "       City Name\n",
       "0        Atlanta\n",
       "1         Austin\n",
       "2    Kansas City\n",
       "3  New York City\n",
       "4       Portland\n",
       "5  San Francisco\n",
       "6        Seattle"
      ]
     },
     "metadata": {},
     "execution_count": 41
    }
   ],
   "metadata": {
    "colab": {},
    "colab_type": "code",
    "id": "FPSyeueTgtqH"
   }
  },
  {
   "cell_type": "markdown",
   "source": [
    "Similarly, you can return more than one column in the resultant `DataFrame`:"
   ],
   "metadata": {
    "colab_type": "text",
    "id": "0eVwq3W5hB4K"
   }
  },
  {
   "cell_type": "code",
   "execution_count": 42,
   "source": [
    "df[['City Name', 'Population']]"
   ],
   "outputs": [
    {
     "output_type": "execute_result",
     "data": {
      "text/html": [
       "<div>\n",
       "<style scoped>\n",
       "    .dataframe tbody tr th:only-of-type {\n",
       "        vertical-align: middle;\n",
       "    }\n",
       "\n",
       "    .dataframe tbody tr th {\n",
       "        vertical-align: top;\n",
       "    }\n",
       "\n",
       "    .dataframe thead th {\n",
       "        text-align: right;\n",
       "    }\n",
       "</style>\n",
       "<table border=\"1\" class=\"dataframe\">\n",
       "  <thead>\n",
       "    <tr style=\"text-align: right;\">\n",
       "      <th></th>\n",
       "      <th>City Name</th>\n",
       "      <th>Population</th>\n",
       "    </tr>\n",
       "  </thead>\n",
       "  <tbody>\n",
       "    <tr>\n",
       "      <th>0</th>\n",
       "      <td>Atlanta</td>\n",
       "      <td>498044</td>\n",
       "    </tr>\n",
       "    <tr>\n",
       "      <th>1</th>\n",
       "      <td>Austin</td>\n",
       "      <td>964254</td>\n",
       "    </tr>\n",
       "    <tr>\n",
       "      <th>2</th>\n",
       "      <td>Kansas City</td>\n",
       "      <td>491918</td>\n",
       "    </tr>\n",
       "    <tr>\n",
       "      <th>3</th>\n",
       "      <td>New York City</td>\n",
       "      <td>8398748</td>\n",
       "    </tr>\n",
       "    <tr>\n",
       "      <th>4</th>\n",
       "      <td>Portland</td>\n",
       "      <td>653115</td>\n",
       "    </tr>\n",
       "    <tr>\n",
       "      <th>5</th>\n",
       "      <td>San Francisco</td>\n",
       "      <td>883305</td>\n",
       "    </tr>\n",
       "    <tr>\n",
       "      <th>6</th>\n",
       "      <td>Seattle</td>\n",
       "      <td>744955</td>\n",
       "    </tr>\n",
       "  </tbody>\n",
       "</table>\n",
       "</div>"
      ],
      "text/plain": [
       "       City Name  Population\n",
       "0        Atlanta      498044\n",
       "1         Austin      964254\n",
       "2    Kansas City      491918\n",
       "3  New York City     8398748\n",
       "4       Portland      653115\n",
       "5  San Francisco      883305\n",
       "6        Seattle      744955"
      ]
     },
     "metadata": {},
     "execution_count": 42
    }
   ],
   "metadata": {
    "colab": {},
    "colab_type": "code",
    "id": "UvKD5hIPhISw"
   }
  },
  {
   "cell_type": "markdown",
   "source": [
    "Sometimes you might also see columns of data referenced using the dot notation:"
   ],
   "metadata": {
    "colab_type": "text",
    "id": "ZHr4L2LghLvx"
   }
  },
  {
   "cell_type": "code",
   "execution_count": 43,
   "source": [
    "df.Population"
   ],
   "outputs": [
    {
     "output_type": "execute_result",
     "data": {
      "text/plain": [
       "0     498044\n",
       "1     964254\n",
       "2     491918\n",
       "3    8398748\n",
       "4     653115\n",
       "5     883305\n",
       "6     744955\n",
       "Name: Population, dtype: int64"
      ]
     },
     "metadata": {},
     "execution_count": 43
    }
   ],
   "metadata": {
    "colab": {},
    "colab_type": "code",
    "id": "XsE5Phm8hMqp"
   }
  },
  {
   "cell_type": "markdown",
   "source": [
    "This is a neat trick, but it is problematic for a couple of reasons:\n",
    "\n",
    "1. You can only get a `Series` back.\n",
    "1. It is impossible to reference columns with spaces in the names with this notation (ex. 'City Name').\n",
    "1. It is confusing if a column has the same name as an inbuilt method of a `DataFrame`, such as `size`.\n",
    "\n",
    "We mention this notation because you'll likely see it. However, we don't advise using it."
   ],
   "metadata": {
    "colab_type": "text",
    "id": "CPpoBPTRhS2B"
   }
  },
  {
   "cell_type": "markdown",
   "source": [
    "#### Accessing Rows\n",
    "\n",
    "In order to access rows of data, you can't use standard indexing. It would seem natural to index using a numeric row value, but as you can see in the example below, this yields a `KeyError`."
   ],
   "metadata": {
    "colab_type": "text",
    "id": "nnTuc0y0hrQu"
   }
  },
  {
   "cell_type": "code",
   "execution_count": 44,
   "source": [
    "try:\n",
    "  df[1]\n",
    "except KeyError:\n",
    "  print('Got KeyError')"
   ],
   "outputs": [
    {
     "output_type": "stream",
     "name": "stdout",
     "text": [
      "Got KeyError\n"
     ]
    }
   ],
   "metadata": {
    "colab": {},
    "colab_type": "code",
    "id": "KcD_78_thoNL"
   }
  },
  {
   "cell_type": "markdown",
   "source": [
    "This is because the default indexing is to look for column names, and numbers are valid column names. If you had a column named `1` in a `DataFrame` with at least two rows, Pandas wouldn't know if you wanted row `1` or column `1`.\n",
    "\n",
    "In order to index by row, you must use the `iloc` feature of the `DataFrame` object."
   ],
   "metadata": {
    "colab_type": "text",
    "id": "vrm4fuNTiVbz"
   }
  },
  {
   "cell_type": "code",
   "execution_count": 45,
   "source": [
    "df\n",
    "#df.iloc[1]"
   ],
   "outputs": [
    {
     "output_type": "execute_result",
     "data": {
      "text/html": [
       "<div>\n",
       "<style scoped>\n",
       "    .dataframe tbody tr th:only-of-type {\n",
       "        vertical-align: middle;\n",
       "    }\n",
       "\n",
       "    .dataframe tbody tr th {\n",
       "        vertical-align: top;\n",
       "    }\n",
       "\n",
       "    .dataframe thead th {\n",
       "        text-align: right;\n",
       "    }\n",
       "</style>\n",
       "<table border=\"1\" class=\"dataframe\">\n",
       "  <thead>\n",
       "    <tr style=\"text-align: right;\">\n",
       "      <th></th>\n",
       "      <th>City Name</th>\n",
       "      <th>Population</th>\n",
       "      <th>Airports</th>\n",
       "    </tr>\n",
       "  </thead>\n",
       "  <tbody>\n",
       "    <tr>\n",
       "      <th>0</th>\n",
       "      <td>Atlanta</td>\n",
       "      <td>498044</td>\n",
       "      <td>2</td>\n",
       "    </tr>\n",
       "    <tr>\n",
       "      <th>1</th>\n",
       "      <td>Austin</td>\n",
       "      <td>964254</td>\n",
       "      <td>2</td>\n",
       "    </tr>\n",
       "    <tr>\n",
       "      <th>2</th>\n",
       "      <td>Kansas City</td>\n",
       "      <td>491918</td>\n",
       "      <td>8</td>\n",
       "    </tr>\n",
       "    <tr>\n",
       "      <th>3</th>\n",
       "      <td>New York City</td>\n",
       "      <td>8398748</td>\n",
       "      <td>3</td>\n",
       "    </tr>\n",
       "    <tr>\n",
       "      <th>4</th>\n",
       "      <td>Portland</td>\n",
       "      <td>653115</td>\n",
       "      <td>1</td>\n",
       "    </tr>\n",
       "    <tr>\n",
       "      <th>5</th>\n",
       "      <td>San Francisco</td>\n",
       "      <td>883305</td>\n",
       "      <td>3</td>\n",
       "    </tr>\n",
       "    <tr>\n",
       "      <th>6</th>\n",
       "      <td>Seattle</td>\n",
       "      <td>744955</td>\n",
       "      <td>2</td>\n",
       "    </tr>\n",
       "  </tbody>\n",
       "</table>\n",
       "</div>"
      ],
      "text/plain": [
       "       City Name  Population  Airports\n",
       "0        Atlanta      498044         2\n",
       "1         Austin      964254         2\n",
       "2    Kansas City      491918         8\n",
       "3  New York City     8398748         3\n",
       "4       Portland      653115         1\n",
       "5  San Francisco      883305         3\n",
       "6        Seattle      744955         2"
      ]
     },
     "metadata": {},
     "execution_count": 45
    }
   ],
   "metadata": {
    "colab": {},
    "colab_type": "code",
    "id": "vzHQh72JiezU"
   }
  },
  {
   "cell_type": "code",
   "execution_count": 46,
   "source": [
    "df.iloc[1]"
   ],
   "outputs": [
    {
     "output_type": "execute_result",
     "data": {
      "text/plain": [
       "City Name     Austin\n",
       "Population    964254\n",
       "Airports           2\n",
       "Name: 1, dtype: object"
      ]
     },
     "metadata": {},
     "execution_count": 46
    }
   ],
   "metadata": {}
  },
  {
   "cell_type": "markdown",
   "source": [
    "The code above returns the second row of data in the `DataFrame` as a `Series`.\n",
    "\n",
    "You can also return multiple rows using slices:"
   ],
   "metadata": {
    "colab_type": "text",
    "id": "MXfytch_imDy"
   }
  },
  {
   "cell_type": "code",
   "execution_count": 47,
   "source": [
    "df.iloc[1:3]\n",
    "#not include\n",
    "#will print 1 and 2\n"
   ],
   "outputs": [
    {
     "output_type": "execute_result",
     "data": {
      "text/html": [
       "<div>\n",
       "<style scoped>\n",
       "    .dataframe tbody tr th:only-of-type {\n",
       "        vertical-align: middle;\n",
       "    }\n",
       "\n",
       "    .dataframe tbody tr th {\n",
       "        vertical-align: top;\n",
       "    }\n",
       "\n",
       "    .dataframe thead th {\n",
       "        text-align: right;\n",
       "    }\n",
       "</style>\n",
       "<table border=\"1\" class=\"dataframe\">\n",
       "  <thead>\n",
       "    <tr style=\"text-align: right;\">\n",
       "      <th></th>\n",
       "      <th>City Name</th>\n",
       "      <th>Population</th>\n",
       "      <th>Airports</th>\n",
       "    </tr>\n",
       "  </thead>\n",
       "  <tbody>\n",
       "    <tr>\n",
       "      <th>1</th>\n",
       "      <td>Austin</td>\n",
       "      <td>964254</td>\n",
       "      <td>2</td>\n",
       "    </tr>\n",
       "    <tr>\n",
       "      <th>2</th>\n",
       "      <td>Kansas City</td>\n",
       "      <td>491918</td>\n",
       "      <td>8</td>\n",
       "    </tr>\n",
       "  </tbody>\n",
       "</table>\n",
       "</div>"
      ],
      "text/plain": [
       "     City Name  Population  Airports\n",
       "1       Austin      964254         2\n",
       "2  Kansas City      491918         8"
      ]
     },
     "metadata": {},
     "execution_count": 47
    }
   ],
   "metadata": {
    "colab": {},
    "colab_type": "code",
    "id": "UKDTY0aEihFN"
   }
  },
  {
   "cell_type": "markdown",
   "source": [
    "As an aside, if you do use a range, then `iloc` is optional since columns can't be referenced in a range, and the default selector can disambiguate what you are doing. This can be a little confusing, though, so try to avoid it."
   ],
   "metadata": {
    "colab_type": "text",
    "id": "qtmJzbuRkhJ9"
   }
  },
  {
   "cell_type": "code",
   "execution_count": 48,
   "source": [
    "df[1:3]"
   ],
   "outputs": [
    {
     "output_type": "execute_result",
     "data": {
      "text/html": [
       "<div>\n",
       "<style scoped>\n",
       "    .dataframe tbody tr th:only-of-type {\n",
       "        vertical-align: middle;\n",
       "    }\n",
       "\n",
       "    .dataframe tbody tr th {\n",
       "        vertical-align: top;\n",
       "    }\n",
       "\n",
       "    .dataframe thead th {\n",
       "        text-align: right;\n",
       "    }\n",
       "</style>\n",
       "<table border=\"1\" class=\"dataframe\">\n",
       "  <thead>\n",
       "    <tr style=\"text-align: right;\">\n",
       "      <th></th>\n",
       "      <th>City Name</th>\n",
       "      <th>Population</th>\n",
       "      <th>Airports</th>\n",
       "    </tr>\n",
       "  </thead>\n",
       "  <tbody>\n",
       "    <tr>\n",
       "      <th>1</th>\n",
       "      <td>Austin</td>\n",
       "      <td>964254</td>\n",
       "      <td>2</td>\n",
       "    </tr>\n",
       "    <tr>\n",
       "      <th>2</th>\n",
       "      <td>Kansas City</td>\n",
       "      <td>491918</td>\n",
       "      <td>8</td>\n",
       "    </tr>\n",
       "  </tbody>\n",
       "</table>\n",
       "</div>"
      ],
      "text/plain": [
       "     City Name  Population  Airports\n",
       "1       Austin      964254         2\n",
       "2  Kansas City      491918         8"
      ]
     },
     "metadata": {},
     "execution_count": 48
    }
   ],
   "metadata": {
    "colab": {},
    "colab_type": "code",
    "id": "Dv1kBnrAkuG_"
   }
  },
  {
   "cell_type": "markdown",
   "source": [
    "If you want sparse rows that don't fall into an easily defined range, you can pass `iloc` a list of rows that you would like returned:"
   ],
   "metadata": {
    "colab_type": "text",
    "id": "fF0IS7r_jFcG"
   }
  },
  {
   "cell_type": "code",
   "execution_count": 49,
   "source": [
    "#specfic rows wihtout slicing\n",
    "df.iloc[[1, 3]]"
   ],
   "outputs": [
    {
     "output_type": "execute_result",
     "data": {
      "text/html": [
       "<div>\n",
       "<style scoped>\n",
       "    .dataframe tbody tr th:only-of-type {\n",
       "        vertical-align: middle;\n",
       "    }\n",
       "\n",
       "    .dataframe tbody tr th {\n",
       "        vertical-align: top;\n",
       "    }\n",
       "\n",
       "    .dataframe thead th {\n",
       "        text-align: right;\n",
       "    }\n",
       "</style>\n",
       "<table border=\"1\" class=\"dataframe\">\n",
       "  <thead>\n",
       "    <tr style=\"text-align: right;\">\n",
       "      <th></th>\n",
       "      <th>City Name</th>\n",
       "      <th>Population</th>\n",
       "      <th>Airports</th>\n",
       "    </tr>\n",
       "  </thead>\n",
       "  <tbody>\n",
       "    <tr>\n",
       "      <th>1</th>\n",
       "      <td>Austin</td>\n",
       "      <td>964254</td>\n",
       "      <td>2</td>\n",
       "    </tr>\n",
       "    <tr>\n",
       "      <th>3</th>\n",
       "      <td>New York City</td>\n",
       "      <td>8398748</td>\n",
       "      <td>3</td>\n",
       "    </tr>\n",
       "  </tbody>\n",
       "</table>\n",
       "</div>"
      ],
      "text/plain": [
       "       City Name  Population  Airports\n",
       "1         Austin      964254         2\n",
       "3  New York City     8398748         3"
      ]
     },
     "metadata": {},
     "execution_count": 49
    }
   ],
   "metadata": {
    "colab": {},
    "colab_type": "code",
    "id": "jgGFU_fGi3YI"
   }
  },
  {
   "cell_type": "markdown",
   "source": [
    "##### Exercise 4: Single Row as a `DataFrame`\n",
    "\n",
    "Given the methods of accessing rows in a `DataFrame` that we have learned so far, how would you access the third row in the `df` `DataFrame` defined below as a `DataFrame` itself (as opposed to as a `Series`)?"
   ],
   "metadata": {
    "colab_type": "text",
    "id": "KDt0iotCjNtQ"
   }
  },
  {
   "cell_type": "markdown",
   "source": [
    "**Student Solution**"
   ],
   "metadata": {
    "colab_type": "text",
    "id": "qMDjTzIQjlUJ"
   }
  },
  {
   "cell_type": "code",
   "execution_count": 50,
   "source": [
    "city_names = pd.Series(['Atlanta', 'Austin', 'Kansas City', 'New York City', \n",
    "                        'Portland', 'San Francisco', 'Seattle'])\n",
    "population = pd.Series([498044, 964254, 491918, 8398748, 653115, 883305, 744955])\n",
    "num_airports = pd.Series([2, 2, 8, 3, 1, 3, 2])\n",
    "\n",
    "df = pd.DataFrame({\n",
    "    \n",
    "  'City Name': city_names,\n",
    "  'Population': population, \n",
    "  'Airports': num_airports,\n",
    "})\n",
    "\n",
    "df.iloc[[2]]\n",
    "# Your Code Goes Here"
   ],
   "outputs": [
    {
     "output_type": "execute_result",
     "data": {
      "text/html": [
       "<div>\n",
       "<style scoped>\n",
       "    .dataframe tbody tr th:only-of-type {\n",
       "        vertical-align: middle;\n",
       "    }\n",
       "\n",
       "    .dataframe tbody tr th {\n",
       "        vertical-align: top;\n",
       "    }\n",
       "\n",
       "    .dataframe thead th {\n",
       "        text-align: right;\n",
       "    }\n",
       "</style>\n",
       "<table border=\"1\" class=\"dataframe\">\n",
       "  <thead>\n",
       "    <tr style=\"text-align: right;\">\n",
       "      <th></th>\n",
       "      <th>City Name</th>\n",
       "      <th>Population</th>\n",
       "      <th>Airports</th>\n",
       "    </tr>\n",
       "  </thead>\n",
       "  <tbody>\n",
       "    <tr>\n",
       "      <th>2</th>\n",
       "      <td>Kansas City</td>\n",
       "      <td>491918</td>\n",
       "      <td>8</td>\n",
       "    </tr>\n",
       "  </tbody>\n",
       "</table>\n",
       "</div>"
      ],
      "text/plain": [
       "     City Name  Population  Airports\n",
       "2  Kansas City      491918         8"
      ]
     },
     "metadata": {},
     "execution_count": 50
    }
   ],
   "metadata": {
    "colab": {},
    "colab_type": "code",
    "id": "Me-p2uNXjnFJ"
   }
  },
  {
   "cell_type": "markdown",
   "source": [
    "---"
   ],
   "metadata": {
    "colab_type": "text",
    "id": "uHSFpxGkj7ZQ"
   }
  },
  {
   "cell_type": "markdown",
   "source": [
    "##### Accessing Row/Column Intersections\n",
    "\n",
    "We've learned how to access columns by direct indexing on the `DataFrame`. We've learned how to access rows by using `iloc`. You can combine these two access methods using the `loc` functionality of the `DataFrame` object.\n",
    "\n",
    "Simply call `loc` and pass it two arguments:\n",
    "\n",
    "1. The row(s) you want to access\n",
    "1. The column(s) you want to access\n",
    "\n",
    "In the example below we access the 'City Name' in the third row of the `DataFrame`:"
   ],
   "metadata": {
    "colab_type": "text",
    "id": "Lyx0bH8xuCg0"
   }
  },
  {
   "cell_type": "code",
   "execution_count": 51,
   "source": [
    "city_names = pd.Series(['Atlanta', 'Austin', 'Kansas City', 'New York City', \n",
    "                        'Portland', 'San Francisco', 'Seattle'])\n",
    "population = pd.Series([498044, 964254, 491918, 8398748, 653115, 883305, 744955])\n",
    "num_airports = pd.Series([2, 2, 8, 3, 1, 3, 2])\n",
    "\n",
    "df = pd.DataFrame({\n",
    "  'City Name': city_names,\n",
    "  'Population': population, \n",
    "  'Airports': num_airports,\n",
    "})\n",
    "\n",
    "#row, column\n",
    "df.loc[2, 'City Name']"
   ],
   "outputs": [
    {
     "output_type": "execute_result",
     "data": {
      "text/plain": [
       "'Kansas City'"
      ]
     },
     "metadata": {},
     "execution_count": 51
    }
   ],
   "metadata": {
    "colab": {},
    "colab_type": "code",
    "id": "2SEzG3jXuYah"
   }
  },
  {
   "cell_type": "markdown",
   "source": [
    "In the example below we access the 'City Name' and 'Airports' columns in the third and fourth rows of the `DataFrame`:"
   ],
   "metadata": {
    "colab_type": "text",
    "id": "K3lc7le8ChF1"
   }
  },
  {
   "cell_type": "code",
   "execution_count": 52,
   "source": [
    "city_names = pd.Series(['Atlanta', 'Austin', 'Kansas City', 'New York City', \n",
    "                        'Portland', 'San Francisco', 'Seattle'])\n",
    "population = pd.Series([498044, 964254, 491918, 8398748, 653115, 883305, 744955])\n",
    "num_airports = pd.Series([2, 2, 8, 3, 1, 3, 2])\n",
    "\n",
    "df = pd.DataFrame({\n",
    "  'City Name': city_names,\n",
    "  'Population': population, \n",
    "  'Airports': num_airports,\n",
    "})\n",
    "\n",
    "#multiple times\n",
    "df.loc[[2,3], ['City Name', 'Airports']]"
   ],
   "outputs": [
    {
     "output_type": "execute_result",
     "data": {
      "text/html": [
       "<div>\n",
       "<style scoped>\n",
       "    .dataframe tbody tr th:only-of-type {\n",
       "        vertical-align: middle;\n",
       "    }\n",
       "\n",
       "    .dataframe tbody tr th {\n",
       "        vertical-align: top;\n",
       "    }\n",
       "\n",
       "    .dataframe thead th {\n",
       "        text-align: right;\n",
       "    }\n",
       "</style>\n",
       "<table border=\"1\" class=\"dataframe\">\n",
       "  <thead>\n",
       "    <tr style=\"text-align: right;\">\n",
       "      <th></th>\n",
       "      <th>City Name</th>\n",
       "      <th>Airports</th>\n",
       "    </tr>\n",
       "  </thead>\n",
       "  <tbody>\n",
       "    <tr>\n",
       "      <th>2</th>\n",
       "      <td>Kansas City</td>\n",
       "      <td>8</td>\n",
       "    </tr>\n",
       "    <tr>\n",
       "      <th>3</th>\n",
       "      <td>New York City</td>\n",
       "      <td>3</td>\n",
       "    </tr>\n",
       "  </tbody>\n",
       "</table>\n",
       "</div>"
      ],
      "text/plain": [
       "       City Name  Airports\n",
       "2    Kansas City         8\n",
       "3  New York City         3"
      ]
     },
     "metadata": {},
     "execution_count": 52
    }
   ],
   "metadata": {
    "colab": {},
    "colab_type": "code",
    "id": "OKCMEAhhuyPl"
   }
  },
  {
   "cell_type": "markdown",
   "source": [
    "We will learn more about `loc` in the next section. Specifically, we will come to understand how using `loc` enables us to access a `DataFrame` directly in order to modify it."
   ],
   "metadata": {
    "colab_type": "text",
    "id": "xtV_FAiJUMD4"
   }
  },
  {
   "cell_type": "markdown",
   "source": [
    "#### Modifying Values\n",
    "\n",
    "There are many ways to modify values in a `DataFrame`. We'll look at a few of the more straightforward ways in this section."
   ],
   "metadata": {
    "colab_type": "text",
    "id": "4_aCEXgSrfxa"
   }
  },
  {
   "cell_type": "markdown",
   "source": [
    "##### Modifying Individual Values\n",
    "\n",
    "The easiest way to modify a single value in a `DataFrame` is to directly index it on the left-hand sign of an expression.\n",
    "\n",
    "Let's say the Seattle area got a new commercial airport called Paine Field. If we want to increment the number of airports for Seattle, we could access the Seattle airport count directly and modify it:"
   ],
   "metadata": {
    "colab_type": "text",
    "id": "tuL-wDyIWeZD"
   }
  },
  {
   "cell_type": "code",
   "execution_count": 53,
   "source": [
    "city_names = pd.Series(['Atlanta', 'Austin', 'Kansas City', 'New York City', \n",
    "                        'Portland', 'San Francisco', 'Seattle'])\n",
    "population = pd.Series([498044, 964254, 491918, 8398748, 653115, 883305, 744955])\n",
    "num_airports = pd.Series([2, 2, 8, 3, 1, 3, 2])\n",
    "\n",
    "df = pd.DataFrame({\n",
    "  'City Name': city_names,\n",
    "  'Population': population, \n",
    "  'Airports': num_airports,\n",
    "})\n",
    "\n",
    "df.loc[6, 'Airports'] = 3\n",
    "df"
   ],
   "outputs": [
    {
     "output_type": "execute_result",
     "data": {
      "text/html": [
       "<div>\n",
       "<style scoped>\n",
       "    .dataframe tbody tr th:only-of-type {\n",
       "        vertical-align: middle;\n",
       "    }\n",
       "\n",
       "    .dataframe tbody tr th {\n",
       "        vertical-align: top;\n",
       "    }\n",
       "\n",
       "    .dataframe thead th {\n",
       "        text-align: right;\n",
       "    }\n",
       "</style>\n",
       "<table border=\"1\" class=\"dataframe\">\n",
       "  <thead>\n",
       "    <tr style=\"text-align: right;\">\n",
       "      <th></th>\n",
       "      <th>City Name</th>\n",
       "      <th>Population</th>\n",
       "      <th>Airports</th>\n",
       "    </tr>\n",
       "  </thead>\n",
       "  <tbody>\n",
       "    <tr>\n",
       "      <th>0</th>\n",
       "      <td>Atlanta</td>\n",
       "      <td>498044</td>\n",
       "      <td>2</td>\n",
       "    </tr>\n",
       "    <tr>\n",
       "      <th>1</th>\n",
       "      <td>Austin</td>\n",
       "      <td>964254</td>\n",
       "      <td>2</td>\n",
       "    </tr>\n",
       "    <tr>\n",
       "      <th>2</th>\n",
       "      <td>Kansas City</td>\n",
       "      <td>491918</td>\n",
       "      <td>8</td>\n",
       "    </tr>\n",
       "    <tr>\n",
       "      <th>3</th>\n",
       "      <td>New York City</td>\n",
       "      <td>8398748</td>\n",
       "      <td>3</td>\n",
       "    </tr>\n",
       "    <tr>\n",
       "      <th>4</th>\n",
       "      <td>Portland</td>\n",
       "      <td>653115</td>\n",
       "      <td>1</td>\n",
       "    </tr>\n",
       "    <tr>\n",
       "      <th>5</th>\n",
       "      <td>San Francisco</td>\n",
       "      <td>883305</td>\n",
       "      <td>3</td>\n",
       "    </tr>\n",
       "    <tr>\n",
       "      <th>6</th>\n",
       "      <td>Seattle</td>\n",
       "      <td>744955</td>\n",
       "      <td>3</td>\n",
       "    </tr>\n",
       "  </tbody>\n",
       "</table>\n",
       "</div>"
      ],
      "text/plain": [
       "       City Name  Population  Airports\n",
       "0        Atlanta      498044         2\n",
       "1         Austin      964254         2\n",
       "2    Kansas City      491918         8\n",
       "3  New York City     8398748         3\n",
       "4       Portland      653115         1\n",
       "5  San Francisco      883305         3\n",
       "6        Seattle      744955         3"
      ]
     },
     "metadata": {},
     "execution_count": 53
    }
   ],
   "metadata": {
    "colab": {},
    "colab_type": "code",
    "id": "T2uZqM9ZsXsR"
   }
  },
  {
   "cell_type": "markdown",
   "source": [
    "##### Modifying an Entire Column\n",
    "\n",
    "Modifying a single value is a great skill to have, especially when working with small numbers of  **outliers**. However, you'll often want to work with larger swaths of data.\n",
    "\n",
    "When would you want to do this?\n",
    "\n",
    "Consider the 'Population' column that we have been working with in this lab. It is integer-valued, however in some cases it might be better to work with the \"thousands\" value. For this we can do column-level modifications.\n",
    "\n",
    "In the example below we simply divide the population by 1,000."
   ],
   "metadata": {
    "colab_type": "text",
    "id": "FD1SlNIzUtmQ"
   }
  },
  {
   "cell_type": "code",
   "execution_count": 54,
   "source": [
    "city_names = pd.Series(['Atlanta', 'Austin', 'Kansas City', 'New York City', \n",
    "                        'Portland', 'San Francisco', 'Seattle'])\n",
    "population = pd.Series([498044, 964254, 491918, 8398748, 653115, 883305, 744955])\n",
    "num_airports = pd.Series([2, 2, 8, 3, 1, 3, 2])\n",
    "\n",
    "df = pd.DataFrame({\n",
    "  'City Name': city_names,\n",
    "  'Population': population, \n",
    "  'Airports': num_airports,\n",
    "})\n",
    "\n",
    "df['Population'] /= 1000\n",
    "df"
   ],
   "outputs": [
    {
     "output_type": "execute_result",
     "data": {
      "text/html": [
       "<div>\n",
       "<style scoped>\n",
       "    .dataframe tbody tr th:only-of-type {\n",
       "        vertical-align: middle;\n",
       "    }\n",
       "\n",
       "    .dataframe tbody tr th {\n",
       "        vertical-align: top;\n",
       "    }\n",
       "\n",
       "    .dataframe thead th {\n",
       "        text-align: right;\n",
       "    }\n",
       "</style>\n",
       "<table border=\"1\" class=\"dataframe\">\n",
       "  <thead>\n",
       "    <tr style=\"text-align: right;\">\n",
       "      <th></th>\n",
       "      <th>City Name</th>\n",
       "      <th>Population</th>\n",
       "      <th>Airports</th>\n",
       "    </tr>\n",
       "  </thead>\n",
       "  <tbody>\n",
       "    <tr>\n",
       "      <th>0</th>\n",
       "      <td>Atlanta</td>\n",
       "      <td>498.044</td>\n",
       "      <td>2</td>\n",
       "    </tr>\n",
       "    <tr>\n",
       "      <th>1</th>\n",
       "      <td>Austin</td>\n",
       "      <td>964.254</td>\n",
       "      <td>2</td>\n",
       "    </tr>\n",
       "    <tr>\n",
       "      <th>2</th>\n",
       "      <td>Kansas City</td>\n",
       "      <td>491.918</td>\n",
       "      <td>8</td>\n",
       "    </tr>\n",
       "    <tr>\n",
       "      <th>3</th>\n",
       "      <td>New York City</td>\n",
       "      <td>8398.748</td>\n",
       "      <td>3</td>\n",
       "    </tr>\n",
       "    <tr>\n",
       "      <th>4</th>\n",
       "      <td>Portland</td>\n",
       "      <td>653.115</td>\n",
       "      <td>1</td>\n",
       "    </tr>\n",
       "    <tr>\n",
       "      <th>5</th>\n",
       "      <td>San Francisco</td>\n",
       "      <td>883.305</td>\n",
       "      <td>3</td>\n",
       "    </tr>\n",
       "    <tr>\n",
       "      <th>6</th>\n",
       "      <td>Seattle</td>\n",
       "      <td>744.955</td>\n",
       "      <td>2</td>\n",
       "    </tr>\n",
       "  </tbody>\n",
       "</table>\n",
       "</div>"
      ],
      "text/plain": [
       "       City Name  Population  Airports\n",
       "0        Atlanta     498.044         2\n",
       "1         Austin     964.254         2\n",
       "2    Kansas City     491.918         8\n",
       "3  New York City    8398.748         3\n",
       "4       Portland     653.115         1\n",
       "5  San Francisco     883.305         3\n",
       "6        Seattle     744.955         2"
      ]
     },
     "metadata": {},
     "execution_count": 54
    }
   ],
   "metadata": {
    "colab": {},
    "colab_type": "code",
    "id": "ncU6tftLUzFz"
   }
  },
  {
   "cell_type": "markdown",
   "source": [
    "Instead of overwriting the existing column, you may instead want to create a new column. This can be done by assigning to a new column name:"
   ],
   "metadata": {
    "colab_type": "text",
    "id": "tgzG63uPbJ5T"
   }
  },
  {
   "cell_type": "code",
   "execution_count": 55,
   "source": [
    "city_names = pd.Series(['Atlanta', 'Austin', 'Kansas City', 'New York City', \n",
    "                        'Portland', 'San Francisco', 'Seattle'])\n",
    "population = pd.Series([498044, 964254, 491918, 8398748, 653115, 883305, 744955])\n",
    "num_airports = pd.Series([2, 2, 8, 3, 1, 3, 2])\n",
    "\n",
    "df = pd.DataFrame({\n",
    "  'City Name': city_names,\n",
    "  'Population': population, \n",
    "  'Airports': num_airports,\n",
    "})\n",
    "\n",
    "df['Population_M'] = df['Population'] / 1000\n",
    "df"
   ],
   "outputs": [
    {
     "output_type": "execute_result",
     "data": {
      "text/html": [
       "<div>\n",
       "<style scoped>\n",
       "    .dataframe tbody tr th:only-of-type {\n",
       "        vertical-align: middle;\n",
       "    }\n",
       "\n",
       "    .dataframe tbody tr th {\n",
       "        vertical-align: top;\n",
       "    }\n",
       "\n",
       "    .dataframe thead th {\n",
       "        text-align: right;\n",
       "    }\n",
       "</style>\n",
       "<table border=\"1\" class=\"dataframe\">\n",
       "  <thead>\n",
       "    <tr style=\"text-align: right;\">\n",
       "      <th></th>\n",
       "      <th>City Name</th>\n",
       "      <th>Population</th>\n",
       "      <th>Airports</th>\n",
       "      <th>Population_M</th>\n",
       "    </tr>\n",
       "  </thead>\n",
       "  <tbody>\n",
       "    <tr>\n",
       "      <th>0</th>\n",
       "      <td>Atlanta</td>\n",
       "      <td>498044</td>\n",
       "      <td>2</td>\n",
       "      <td>498.044</td>\n",
       "    </tr>\n",
       "    <tr>\n",
       "      <th>1</th>\n",
       "      <td>Austin</td>\n",
       "      <td>964254</td>\n",
       "      <td>2</td>\n",
       "      <td>964.254</td>\n",
       "    </tr>\n",
       "    <tr>\n",
       "      <th>2</th>\n",
       "      <td>Kansas City</td>\n",
       "      <td>491918</td>\n",
       "      <td>8</td>\n",
       "      <td>491.918</td>\n",
       "    </tr>\n",
       "    <tr>\n",
       "      <th>3</th>\n",
       "      <td>New York City</td>\n",
       "      <td>8398748</td>\n",
       "      <td>3</td>\n",
       "      <td>8398.748</td>\n",
       "    </tr>\n",
       "    <tr>\n",
       "      <th>4</th>\n",
       "      <td>Portland</td>\n",
       "      <td>653115</td>\n",
       "      <td>1</td>\n",
       "      <td>653.115</td>\n",
       "    </tr>\n",
       "    <tr>\n",
       "      <th>5</th>\n",
       "      <td>San Francisco</td>\n",
       "      <td>883305</td>\n",
       "      <td>3</td>\n",
       "      <td>883.305</td>\n",
       "    </tr>\n",
       "    <tr>\n",
       "      <th>6</th>\n",
       "      <td>Seattle</td>\n",
       "      <td>744955</td>\n",
       "      <td>2</td>\n",
       "      <td>744.955</td>\n",
       "    </tr>\n",
       "  </tbody>\n",
       "</table>\n",
       "</div>"
      ],
      "text/plain": [
       "       City Name  Population  Airports  Population_M\n",
       "0        Atlanta      498044         2       498.044\n",
       "1         Austin      964254         2       964.254\n",
       "2    Kansas City      491918         8       491.918\n",
       "3  New York City     8398748         3      8398.748\n",
       "4       Portland      653115         1       653.115\n",
       "5  San Francisco      883305         3       883.305\n",
       "6        Seattle      744955         2       744.955"
      ]
     },
     "metadata": {},
     "execution_count": 55
    }
   ],
   "metadata": {
    "colab": {},
    "colab_type": "code",
    "id": "OhCE-9pPcFeL"
   }
  },
  {
   "cell_type": "markdown",
   "source": [
    "### Fetching Data"
   ],
   "metadata": {
    "colab_type": "text",
    "id": "5wIgLlZlW1h_"
   }
  },
  {
   "cell_type": "markdown",
   "source": [
    "\n",
    "So far we have created the data that we have worked with from scratch. In reality, we'll load our data from a file system, the internet, a database, or one of many other sources.\n",
    "\n",
    "Throughout this course, we'll load data in many ways. Let's start by loading the data from the internet directly.\n",
    "\n",
    "For this, we'll use the Pandas method `read_csv`. This method can read comma-separated data from a URL. See an example below:"
   ],
   "metadata": {
    "colab_type": "text",
    "id": "7fCcGyteW6jx"
   }
  },
  {
   "cell_type": "code",
   "execution_count": 56,
   "source": [
    "url = \"https://download.mlcc.google.com/mledu-datasets/california_housing_train.csv\"\n",
    "california_housing_dataframe = pd.read_csv(url)\n",
    "california_housing_dataframe"
   ],
   "outputs": [
    {
     "output_type": "execute_result",
     "data": {
      "text/html": [
       "<div>\n",
       "<style scoped>\n",
       "    .dataframe tbody tr th:only-of-type {\n",
       "        vertical-align: middle;\n",
       "    }\n",
       "\n",
       "    .dataframe tbody tr th {\n",
       "        vertical-align: top;\n",
       "    }\n",
       "\n",
       "    .dataframe thead th {\n",
       "        text-align: right;\n",
       "    }\n",
       "</style>\n",
       "<table border=\"1\" class=\"dataframe\">\n",
       "  <thead>\n",
       "    <tr style=\"text-align: right;\">\n",
       "      <th></th>\n",
       "      <th>longitude</th>\n",
       "      <th>latitude</th>\n",
       "      <th>housing_median_age</th>\n",
       "      <th>total_rooms</th>\n",
       "      <th>total_bedrooms</th>\n",
       "      <th>population</th>\n",
       "      <th>households</th>\n",
       "      <th>median_income</th>\n",
       "      <th>median_house_value</th>\n",
       "    </tr>\n",
       "  </thead>\n",
       "  <tbody>\n",
       "    <tr>\n",
       "      <th>0</th>\n",
       "      <td>-114.31</td>\n",
       "      <td>34.19</td>\n",
       "      <td>15.0</td>\n",
       "      <td>5612.0</td>\n",
       "      <td>1283.0</td>\n",
       "      <td>1015.0</td>\n",
       "      <td>472.0</td>\n",
       "      <td>1.4936</td>\n",
       "      <td>66900.0</td>\n",
       "    </tr>\n",
       "    <tr>\n",
       "      <th>1</th>\n",
       "      <td>-114.47</td>\n",
       "      <td>34.40</td>\n",
       "      <td>19.0</td>\n",
       "      <td>7650.0</td>\n",
       "      <td>1901.0</td>\n",
       "      <td>1129.0</td>\n",
       "      <td>463.0</td>\n",
       "      <td>1.8200</td>\n",
       "      <td>80100.0</td>\n",
       "    </tr>\n",
       "    <tr>\n",
       "      <th>2</th>\n",
       "      <td>-114.56</td>\n",
       "      <td>33.69</td>\n",
       "      <td>17.0</td>\n",
       "      <td>720.0</td>\n",
       "      <td>174.0</td>\n",
       "      <td>333.0</td>\n",
       "      <td>117.0</td>\n",
       "      <td>1.6509</td>\n",
       "      <td>85700.0</td>\n",
       "    </tr>\n",
       "    <tr>\n",
       "      <th>3</th>\n",
       "      <td>-114.57</td>\n",
       "      <td>33.64</td>\n",
       "      <td>14.0</td>\n",
       "      <td>1501.0</td>\n",
       "      <td>337.0</td>\n",
       "      <td>515.0</td>\n",
       "      <td>226.0</td>\n",
       "      <td>3.1917</td>\n",
       "      <td>73400.0</td>\n",
       "    </tr>\n",
       "    <tr>\n",
       "      <th>4</th>\n",
       "      <td>-114.57</td>\n",
       "      <td>33.57</td>\n",
       "      <td>20.0</td>\n",
       "      <td>1454.0</td>\n",
       "      <td>326.0</td>\n",
       "      <td>624.0</td>\n",
       "      <td>262.0</td>\n",
       "      <td>1.9250</td>\n",
       "      <td>65500.0</td>\n",
       "    </tr>\n",
       "    <tr>\n",
       "      <th>...</th>\n",
       "      <td>...</td>\n",
       "      <td>...</td>\n",
       "      <td>...</td>\n",
       "      <td>...</td>\n",
       "      <td>...</td>\n",
       "      <td>...</td>\n",
       "      <td>...</td>\n",
       "      <td>...</td>\n",
       "      <td>...</td>\n",
       "    </tr>\n",
       "    <tr>\n",
       "      <th>16995</th>\n",
       "      <td>-124.26</td>\n",
       "      <td>40.58</td>\n",
       "      <td>52.0</td>\n",
       "      <td>2217.0</td>\n",
       "      <td>394.0</td>\n",
       "      <td>907.0</td>\n",
       "      <td>369.0</td>\n",
       "      <td>2.3571</td>\n",
       "      <td>111400.0</td>\n",
       "    </tr>\n",
       "    <tr>\n",
       "      <th>16996</th>\n",
       "      <td>-124.27</td>\n",
       "      <td>40.69</td>\n",
       "      <td>36.0</td>\n",
       "      <td>2349.0</td>\n",
       "      <td>528.0</td>\n",
       "      <td>1194.0</td>\n",
       "      <td>465.0</td>\n",
       "      <td>2.5179</td>\n",
       "      <td>79000.0</td>\n",
       "    </tr>\n",
       "    <tr>\n",
       "      <th>16997</th>\n",
       "      <td>-124.30</td>\n",
       "      <td>41.84</td>\n",
       "      <td>17.0</td>\n",
       "      <td>2677.0</td>\n",
       "      <td>531.0</td>\n",
       "      <td>1244.0</td>\n",
       "      <td>456.0</td>\n",
       "      <td>3.0313</td>\n",
       "      <td>103600.0</td>\n",
       "    </tr>\n",
       "    <tr>\n",
       "      <th>16998</th>\n",
       "      <td>-124.30</td>\n",
       "      <td>41.80</td>\n",
       "      <td>19.0</td>\n",
       "      <td>2672.0</td>\n",
       "      <td>552.0</td>\n",
       "      <td>1298.0</td>\n",
       "      <td>478.0</td>\n",
       "      <td>1.9797</td>\n",
       "      <td>85800.0</td>\n",
       "    </tr>\n",
       "    <tr>\n",
       "      <th>16999</th>\n",
       "      <td>-124.35</td>\n",
       "      <td>40.54</td>\n",
       "      <td>52.0</td>\n",
       "      <td>1820.0</td>\n",
       "      <td>300.0</td>\n",
       "      <td>806.0</td>\n",
       "      <td>270.0</td>\n",
       "      <td>3.0147</td>\n",
       "      <td>94600.0</td>\n",
       "    </tr>\n",
       "  </tbody>\n",
       "</table>\n",
       "<p>17000 rows × 9 columns</p>\n",
       "</div>"
      ],
      "text/plain": [
       "       longitude  latitude  housing_median_age  total_rooms  total_bedrooms  \\\n",
       "0        -114.31     34.19                15.0       5612.0          1283.0   \n",
       "1        -114.47     34.40                19.0       7650.0          1901.0   \n",
       "2        -114.56     33.69                17.0        720.0           174.0   \n",
       "3        -114.57     33.64                14.0       1501.0           337.0   \n",
       "4        -114.57     33.57                20.0       1454.0           326.0   \n",
       "...          ...       ...                 ...          ...             ...   \n",
       "16995    -124.26     40.58                52.0       2217.0           394.0   \n",
       "16996    -124.27     40.69                36.0       2349.0           528.0   \n",
       "16997    -124.30     41.84                17.0       2677.0           531.0   \n",
       "16998    -124.30     41.80                19.0       2672.0           552.0   \n",
       "16999    -124.35     40.54                52.0       1820.0           300.0   \n",
       "\n",
       "       population  households  median_income  median_house_value  \n",
       "0          1015.0       472.0         1.4936             66900.0  \n",
       "1          1129.0       463.0         1.8200             80100.0  \n",
       "2           333.0       117.0         1.6509             85700.0  \n",
       "3           515.0       226.0         3.1917             73400.0  \n",
       "4           624.0       262.0         1.9250             65500.0  \n",
       "...           ...         ...            ...                 ...  \n",
       "16995       907.0       369.0         2.3571            111400.0  \n",
       "16996      1194.0       465.0         2.5179             79000.0  \n",
       "16997      1244.0       456.0         3.0313            103600.0  \n",
       "16998      1298.0       478.0         1.9797             85800.0  \n",
       "16999       806.0       270.0         3.0147             94600.0  \n",
       "\n",
       "[17000 rows x 9 columns]"
      ]
     },
     "metadata": {},
     "execution_count": 56
    }
   ],
   "metadata": {
    "colab": {},
    "colab_type": "code",
    "id": "yAcjA1sEXzNQ"
   }
  },
  {
   "cell_type": "markdown",
   "source": [
    "We now have a `DataFrame` full of data about housing prices in California. This is a classic dataset that we'll look at more closely in future labs. For now, we'll load it in and try to get an understanding of the data."
   ],
   "metadata": {
    "colab_type": "text",
    "id": "8QEbef-5X26x"
   }
  },
  {
   "cell_type": "markdown",
   "source": [
    "## Exercise 5: Exploring Data\n",
    "\n",
    "In this exercise we will write code to explore the California housing dataset mentioned earlier in this lab. As seen previously, we can load the data using the following code:"
   ],
   "metadata": {
    "colab_type": "text",
    "id": "fMlB8JM-Eggv"
   }
  },
  {
   "cell_type": "code",
   "execution_count": 57,
   "source": [
    "url = \"https://download.mlcc.google.com/mledu-datasets/california_housing_train.csv\"\n",
    "california_housing_df = pd.read_csv(url)\n",
    "california_housing_df"
   ],
   "outputs": [
    {
     "output_type": "execute_result",
     "data": {
      "text/html": [
       "<div>\n",
       "<style scoped>\n",
       "    .dataframe tbody tr th:only-of-type {\n",
       "        vertical-align: middle;\n",
       "    }\n",
       "\n",
       "    .dataframe tbody tr th {\n",
       "        vertical-align: top;\n",
       "    }\n",
       "\n",
       "    .dataframe thead th {\n",
       "        text-align: right;\n",
       "    }\n",
       "</style>\n",
       "<table border=\"1\" class=\"dataframe\">\n",
       "  <thead>\n",
       "    <tr style=\"text-align: right;\">\n",
       "      <th></th>\n",
       "      <th>longitude</th>\n",
       "      <th>latitude</th>\n",
       "      <th>housing_median_age</th>\n",
       "      <th>total_rooms</th>\n",
       "      <th>total_bedrooms</th>\n",
       "      <th>population</th>\n",
       "      <th>households</th>\n",
       "      <th>median_income</th>\n",
       "      <th>median_house_value</th>\n",
       "    </tr>\n",
       "  </thead>\n",
       "  <tbody>\n",
       "    <tr>\n",
       "      <th>0</th>\n",
       "      <td>-114.31</td>\n",
       "      <td>34.19</td>\n",
       "      <td>15.0</td>\n",
       "      <td>5612.0</td>\n",
       "      <td>1283.0</td>\n",
       "      <td>1015.0</td>\n",
       "      <td>472.0</td>\n",
       "      <td>1.4936</td>\n",
       "      <td>66900.0</td>\n",
       "    </tr>\n",
       "    <tr>\n",
       "      <th>1</th>\n",
       "      <td>-114.47</td>\n",
       "      <td>34.40</td>\n",
       "      <td>19.0</td>\n",
       "      <td>7650.0</td>\n",
       "      <td>1901.0</td>\n",
       "      <td>1129.0</td>\n",
       "      <td>463.0</td>\n",
       "      <td>1.8200</td>\n",
       "      <td>80100.0</td>\n",
       "    </tr>\n",
       "    <tr>\n",
       "      <th>2</th>\n",
       "      <td>-114.56</td>\n",
       "      <td>33.69</td>\n",
       "      <td>17.0</td>\n",
       "      <td>720.0</td>\n",
       "      <td>174.0</td>\n",
       "      <td>333.0</td>\n",
       "      <td>117.0</td>\n",
       "      <td>1.6509</td>\n",
       "      <td>85700.0</td>\n",
       "    </tr>\n",
       "    <tr>\n",
       "      <th>3</th>\n",
       "      <td>-114.57</td>\n",
       "      <td>33.64</td>\n",
       "      <td>14.0</td>\n",
       "      <td>1501.0</td>\n",
       "      <td>337.0</td>\n",
       "      <td>515.0</td>\n",
       "      <td>226.0</td>\n",
       "      <td>3.1917</td>\n",
       "      <td>73400.0</td>\n",
       "    </tr>\n",
       "    <tr>\n",
       "      <th>4</th>\n",
       "      <td>-114.57</td>\n",
       "      <td>33.57</td>\n",
       "      <td>20.0</td>\n",
       "      <td>1454.0</td>\n",
       "      <td>326.0</td>\n",
       "      <td>624.0</td>\n",
       "      <td>262.0</td>\n",
       "      <td>1.9250</td>\n",
       "      <td>65500.0</td>\n",
       "    </tr>\n",
       "    <tr>\n",
       "      <th>...</th>\n",
       "      <td>...</td>\n",
       "      <td>...</td>\n",
       "      <td>...</td>\n",
       "      <td>...</td>\n",
       "      <td>...</td>\n",
       "      <td>...</td>\n",
       "      <td>...</td>\n",
       "      <td>...</td>\n",
       "      <td>...</td>\n",
       "    </tr>\n",
       "    <tr>\n",
       "      <th>16995</th>\n",
       "      <td>-124.26</td>\n",
       "      <td>40.58</td>\n",
       "      <td>52.0</td>\n",
       "      <td>2217.0</td>\n",
       "      <td>394.0</td>\n",
       "      <td>907.0</td>\n",
       "      <td>369.0</td>\n",
       "      <td>2.3571</td>\n",
       "      <td>111400.0</td>\n",
       "    </tr>\n",
       "    <tr>\n",
       "      <th>16996</th>\n",
       "      <td>-124.27</td>\n",
       "      <td>40.69</td>\n",
       "      <td>36.0</td>\n",
       "      <td>2349.0</td>\n",
       "      <td>528.0</td>\n",
       "      <td>1194.0</td>\n",
       "      <td>465.0</td>\n",
       "      <td>2.5179</td>\n",
       "      <td>79000.0</td>\n",
       "    </tr>\n",
       "    <tr>\n",
       "      <th>16997</th>\n",
       "      <td>-124.30</td>\n",
       "      <td>41.84</td>\n",
       "      <td>17.0</td>\n",
       "      <td>2677.0</td>\n",
       "      <td>531.0</td>\n",
       "      <td>1244.0</td>\n",
       "      <td>456.0</td>\n",
       "      <td>3.0313</td>\n",
       "      <td>103600.0</td>\n",
       "    </tr>\n",
       "    <tr>\n",
       "      <th>16998</th>\n",
       "      <td>-124.30</td>\n",
       "      <td>41.80</td>\n",
       "      <td>19.0</td>\n",
       "      <td>2672.0</td>\n",
       "      <td>552.0</td>\n",
       "      <td>1298.0</td>\n",
       "      <td>478.0</td>\n",
       "      <td>1.9797</td>\n",
       "      <td>85800.0</td>\n",
       "    </tr>\n",
       "    <tr>\n",
       "      <th>16999</th>\n",
       "      <td>-124.35</td>\n",
       "      <td>40.54</td>\n",
       "      <td>52.0</td>\n",
       "      <td>1820.0</td>\n",
       "      <td>300.0</td>\n",
       "      <td>806.0</td>\n",
       "      <td>270.0</td>\n",
       "      <td>3.0147</td>\n",
       "      <td>94600.0</td>\n",
       "    </tr>\n",
       "  </tbody>\n",
       "</table>\n",
       "<p>17000 rows × 9 columns</p>\n",
       "</div>"
      ],
      "text/plain": [
       "       longitude  latitude  housing_median_age  total_rooms  total_bedrooms  \\\n",
       "0        -114.31     34.19                15.0       5612.0          1283.0   \n",
       "1        -114.47     34.40                19.0       7650.0          1901.0   \n",
       "2        -114.56     33.69                17.0        720.0           174.0   \n",
       "3        -114.57     33.64                14.0       1501.0           337.0   \n",
       "4        -114.57     33.57                20.0       1454.0           326.0   \n",
       "...          ...       ...                 ...          ...             ...   \n",
       "16995    -124.26     40.58                52.0       2217.0           394.0   \n",
       "16996    -124.27     40.69                36.0       2349.0           528.0   \n",
       "16997    -124.30     41.84                17.0       2677.0           531.0   \n",
       "16998    -124.30     41.80                19.0       2672.0           552.0   \n",
       "16999    -124.35     40.54                52.0       1820.0           300.0   \n",
       "\n",
       "       population  households  median_income  median_house_value  \n",
       "0          1015.0       472.0         1.4936             66900.0  \n",
       "1          1129.0       463.0         1.8200             80100.0  \n",
       "2           333.0       117.0         1.6509             85700.0  \n",
       "3           515.0       226.0         3.1917             73400.0  \n",
       "4           624.0       262.0         1.9250             65500.0  \n",
       "...           ...         ...            ...                 ...  \n",
       "16995       907.0       369.0         2.3571            111400.0  \n",
       "16996      1194.0       465.0         2.5179             79000.0  \n",
       "16997      1244.0       456.0         3.0313            103600.0  \n",
       "16998      1298.0       478.0         1.9797             85800.0  \n",
       "16999       806.0       270.0         3.0147             94600.0  \n",
       "\n",
       "[17000 rows x 9 columns]"
      ]
     },
     "metadata": {},
     "execution_count": 57
    }
   ],
   "metadata": {
    "colab": {},
    "colab_type": "code",
    "id": "cs5Zny9dE2S5"
   }
  },
  {
   "cell_type": "markdown",
   "source": [
    "### Question 1: Histograms\n",
    "\n",
    "This question will have two parts: one coding and one data analysis.\n",
    "\n",
    "#### Question 1.1: Display Histograms\n",
    "\n",
    "Write the code to display histograms for all numeric columns in the `california_housing_df` object.\n",
    "\n",
    "**Student Solution**"
   ],
   "metadata": {
    "colab_type": "text",
    "id": "FU2N1NDEdXb_"
   }
  },
  {
   "cell_type": "code",
   "execution_count": 58,
   "source": [
    "histo = california_housing_df.hist(figsize =(9,9))"
   ],
   "outputs": [
    {
     "output_type": "display_data",
     "data": {
      "image/png": "[encoded data removed]",
      "text/plain": [
       "<Figure size 648x648 with 9 Axes>"
      ]
     },
     "metadata": {
      "needs_background": "light"
     }
    }
   ],
   "metadata": {
    "colab": {},
    "colab_type": "code",
    "id": "VESvrqqEd845"
   }
  },
  {
   "cell_type": "markdown",
   "source": [
    "---"
   ],
   "metadata": {
    "colab_type": "text",
    "id": "JvUQhwWsDx2S"
   }
  },
  {
   "cell_type": "markdown",
   "source": [
    "#### Question 1.2: Histogram Analysis\n",
    "\n",
    "Two of the histograms have two strong peaks rather than one. Which columns are these? What do you think this tells us about the data?"
   ],
   "metadata": {
    "colab_type": "text",
    "id": "PHDDgUJteHY2"
   }
  },
  {
   "cell_type": "markdown",
   "source": [
    "**Student Solution**"
   ],
   "metadata": {
    "colab_type": "text",
    "id": "H5SCdTyaFW_q"
   }
  },
  {
   "cell_type": "markdown",
   "source": [
    "What are the names of the two columns with two strong peaks each?\n",
    "\n",
    "1. *Longitude*\n",
    "\n",
    "1. *Latitude*\n",
    "\n",
    "What insights do you gather from the columns with dual peaks?:\n",
    "\n",
    "\n",
    "Most data is around these two areas "
   ],
   "metadata": {
    "colab_type": "text",
    "id": "EwzTPaISebrx"
   }
  },
  {
   "cell_type": "markdown",
   "source": [
    "---"
   ],
   "metadata": {
    "colab_type": "text",
    "id": "MoAz4DxUEy_-"
   }
  },
  {
   "cell_type": "markdown",
   "source": [
    "### Question 2: Ordering\n",
    "\n",
    "Does there seem to be any obvious ordering to the data? If so, what is the ordering? Show the code that you used to determine your answer.\n"
   ],
   "metadata": {
    "colab_type": "text",
    "id": "mCBkUlYvfj0X"
   }
  },
  {
   "cell_type": "markdown",
   "source": [
    "**Student Solution**"
   ],
   "metadata": {
    "colab_type": "text",
    "id": "sdgWRcYYfsGg"
   }
  },
  {
   "cell_type": "markdown",
   "source": [
    "Is there any ordering?\n",
    "* *No*\n",
    "\n",
    "If there was ordering, what columns were sorted and in what order (ascending/descending)?:\n",
    "* *Sorted by descending*\n",
    "\n"
   ],
   "metadata": {
    "colab_type": "text",
    "id": "rgZpIOT7fufN"
   }
  },
  {
   "cell_type": "markdown",
   "source": [
    "What code did you use to determine the answer?"
   ],
   "metadata": {
    "colab_type": "text",
    "id": "6JbbqruzgHWJ"
   }
  },
  {
   "cell_type": "code",
   "execution_count": 59,
   "source": [
    "\n",
    "for i in california_housing_df:\n",
    "    if california_housing_df[i].is_monotonic_increasing == True:\n",
    "        print (i)\n",
    "    if california_housing_df[i].is_monotonic_decreasing == True:\n",
    "        print (i)\n",
    "\n",
    "\n",
    "\n",
    "\n",
    "\n"
   ],
   "outputs": [
    {
     "output_type": "stream",
     "name": "stdout",
     "text": [
      "longitude\n"
     ]
    }
   ],
   "metadata": {
    "colab": {},
    "colab_type": "code",
    "id": "gABo8DFVfttD"
   }
  },
  {
   "cell_type": "markdown",
   "source": [
    "---"
   ],
   "metadata": {
    "colab_type": "text",
    "id": "EOU9lI8yhDC-"
   }
  },
  {
   "cell_type": "markdown",
   "source": [
    "## Exercise 6: Creating a New Column\n",
    "\n",
    "Create a new column in `california_housing_df` called `persons_per_bedroom` that is the ratio of `population` to `total_bedrooms`."
   ],
   "metadata": {
    "colab_type": "text",
    "id": "KhYviOYIhGNy"
   }
  },
  {
   "cell_type": "markdown",
   "source": [
    "**Student Solution**"
   ],
   "metadata": {
    "colab_type": "text",
    "id": "ymqzKjJDh9zg"
   }
  },
  {
   "cell_type": "code",
   "execution_count": 60,
   "source": [
    "url = \"https://download.mlcc.google.com/mledu-datasets/california_housing_train.csv\"\n",
    "california_housing_df = pd.read_csv(url)\n",
    "california_housing_df['person_per_bedroom'] = california_housing_df['population'] / california_housing_df['total_bedrooms']\n",
    "california_housing_df\n",
    "\n"
   ],
   "outputs": [
    {
     "output_type": "execute_result",
     "data": {
      "text/html": [
       "<div>\n",
       "<style scoped>\n",
       "    .dataframe tbody tr th:only-of-type {\n",
       "        vertical-align: middle;\n",
       "    }\n",
       "\n",
       "    .dataframe tbody tr th {\n",
       "        vertical-align: top;\n",
       "    }\n",
       "\n",
       "    .dataframe thead th {\n",
       "        text-align: right;\n",
       "    }\n",
       "</style>\n",
       "<table border=\"1\" class=\"dataframe\">\n",
       "  <thead>\n",
       "    <tr style=\"text-align: right;\">\n",
       "      <th></th>\n",
       "      <th>longitude</th>\n",
       "      <th>latitude</th>\n",
       "      <th>housing_median_age</th>\n",
       "      <th>total_rooms</th>\n",
       "      <th>total_bedrooms</th>\n",
       "      <th>population</th>\n",
       "      <th>households</th>\n",
       "      <th>median_income</th>\n",
       "      <th>median_house_value</th>\n",
       "      <th>person_per_bedroom</th>\n",
       "    </tr>\n",
       "  </thead>\n",
       "  <tbody>\n",
       "    <tr>\n",
       "      <th>0</th>\n",
       "      <td>-114.31</td>\n",
       "      <td>34.19</td>\n",
       "      <td>15.0</td>\n",
       "      <td>5612.0</td>\n",
       "      <td>1283.0</td>\n",
       "      <td>1015.0</td>\n",
       "      <td>472.0</td>\n",
       "      <td>1.4936</td>\n",
       "      <td>66900.0</td>\n",
       "      <td>0.791115</td>\n",
       "    </tr>\n",
       "    <tr>\n",
       "      <th>1</th>\n",
       "      <td>-114.47</td>\n",
       "      <td>34.40</td>\n",
       "      <td>19.0</td>\n",
       "      <td>7650.0</td>\n",
       "      <td>1901.0</td>\n",
       "      <td>1129.0</td>\n",
       "      <td>463.0</td>\n",
       "      <td>1.8200</td>\n",
       "      <td>80100.0</td>\n",
       "      <td>0.593898</td>\n",
       "    </tr>\n",
       "    <tr>\n",
       "      <th>2</th>\n",
       "      <td>-114.56</td>\n",
       "      <td>33.69</td>\n",
       "      <td>17.0</td>\n",
       "      <td>720.0</td>\n",
       "      <td>174.0</td>\n",
       "      <td>333.0</td>\n",
       "      <td>117.0</td>\n",
       "      <td>1.6509</td>\n",
       "      <td>85700.0</td>\n",
       "      <td>1.913793</td>\n",
       "    </tr>\n",
       "    <tr>\n",
       "      <th>3</th>\n",
       "      <td>-114.57</td>\n",
       "      <td>33.64</td>\n",
       "      <td>14.0</td>\n",
       "      <td>1501.0</td>\n",
       "      <td>337.0</td>\n",
       "      <td>515.0</td>\n",
       "      <td>226.0</td>\n",
       "      <td>3.1917</td>\n",
       "      <td>73400.0</td>\n",
       "      <td>1.528190</td>\n",
       "    </tr>\n",
       "    <tr>\n",
       "      <th>4</th>\n",
       "      <td>-114.57</td>\n",
       "      <td>33.57</td>\n",
       "      <td>20.0</td>\n",
       "      <td>1454.0</td>\n",
       "      <td>326.0</td>\n",
       "      <td>624.0</td>\n",
       "      <td>262.0</td>\n",
       "      <td>1.9250</td>\n",
       "      <td>65500.0</td>\n",
       "      <td>1.914110</td>\n",
       "    </tr>\n",
       "    <tr>\n",
       "      <th>...</th>\n",
       "      <td>...</td>\n",
       "      <td>...</td>\n",
       "      <td>...</td>\n",
       "      <td>...</td>\n",
       "      <td>...</td>\n",
       "      <td>...</td>\n",
       "      <td>...</td>\n",
       "      <td>...</td>\n",
       "      <td>...</td>\n",
       "      <td>...</td>\n",
       "    </tr>\n",
       "    <tr>\n",
       "      <th>16995</th>\n",
       "      <td>-124.26</td>\n",
       "      <td>40.58</td>\n",
       "      <td>52.0</td>\n",
       "      <td>2217.0</td>\n",
       "      <td>394.0</td>\n",
       "      <td>907.0</td>\n",
       "      <td>369.0</td>\n",
       "      <td>2.3571</td>\n",
       "      <td>111400.0</td>\n",
       "      <td>2.302030</td>\n",
       "    </tr>\n",
       "    <tr>\n",
       "      <th>16996</th>\n",
       "      <td>-124.27</td>\n",
       "      <td>40.69</td>\n",
       "      <td>36.0</td>\n",
       "      <td>2349.0</td>\n",
       "      <td>528.0</td>\n",
       "      <td>1194.0</td>\n",
       "      <td>465.0</td>\n",
       "      <td>2.5179</td>\n",
       "      <td>79000.0</td>\n",
       "      <td>2.261364</td>\n",
       "    </tr>\n",
       "    <tr>\n",
       "      <th>16997</th>\n",
       "      <td>-124.30</td>\n",
       "      <td>41.84</td>\n",
       "      <td>17.0</td>\n",
       "      <td>2677.0</td>\n",
       "      <td>531.0</td>\n",
       "      <td>1244.0</td>\n",
       "      <td>456.0</td>\n",
       "      <td>3.0313</td>\n",
       "      <td>103600.0</td>\n",
       "      <td>2.342750</td>\n",
       "    </tr>\n",
       "    <tr>\n",
       "      <th>16998</th>\n",
       "      <td>-124.30</td>\n",
       "      <td>41.80</td>\n",
       "      <td>19.0</td>\n",
       "      <td>2672.0</td>\n",
       "      <td>552.0</td>\n",
       "      <td>1298.0</td>\n",
       "      <td>478.0</td>\n",
       "      <td>1.9797</td>\n",
       "      <td>85800.0</td>\n",
       "      <td>2.351449</td>\n",
       "    </tr>\n",
       "    <tr>\n",
       "      <th>16999</th>\n",
       "      <td>-124.35</td>\n",
       "      <td>40.54</td>\n",
       "      <td>52.0</td>\n",
       "      <td>1820.0</td>\n",
       "      <td>300.0</td>\n",
       "      <td>806.0</td>\n",
       "      <td>270.0</td>\n",
       "      <td>3.0147</td>\n",
       "      <td>94600.0</td>\n",
       "      <td>2.686667</td>\n",
       "    </tr>\n",
       "  </tbody>\n",
       "</table>\n",
       "<p>17000 rows × 10 columns</p>\n",
       "</div>"
      ],
      "text/plain": [
       "       longitude  latitude  housing_median_age  total_rooms  total_bedrooms  \\\n",
       "0        -114.31     34.19                15.0       5612.0          1283.0   \n",
       "1        -114.47     34.40                19.0       7650.0          1901.0   \n",
       "2        -114.56     33.69                17.0        720.0           174.0   \n",
       "3        -114.57     33.64                14.0       1501.0           337.0   \n",
       "4        -114.57     33.57                20.0       1454.0           326.0   \n",
       "...          ...       ...                 ...          ...             ...   \n",
       "16995    -124.26     40.58                52.0       2217.0           394.0   \n",
       "16996    -124.27     40.69                36.0       2349.0           528.0   \n",
       "16997    -124.30     41.84                17.0       2677.0           531.0   \n",
       "16998    -124.30     41.80                19.0       2672.0           552.0   \n",
       "16999    -124.35     40.54                52.0       1820.0           300.0   \n",
       "\n",
       "       population  households  median_income  median_house_value  \\\n",
       "0          1015.0       472.0         1.4936             66900.0   \n",
       "1          1129.0       463.0         1.8200             80100.0   \n",
       "2           333.0       117.0         1.6509             85700.0   \n",
       "3           515.0       226.0         3.1917             73400.0   \n",
       "4           624.0       262.0         1.9250             65500.0   \n",
       "...           ...         ...            ...                 ...   \n",
       "16995       907.0       369.0         2.3571            111400.0   \n",
       "16996      1194.0       465.0         2.5179             79000.0   \n",
       "16997      1244.0       456.0         3.0313            103600.0   \n",
       "16998      1298.0       478.0         1.9797             85800.0   \n",
       "16999       806.0       270.0         3.0147             94600.0   \n",
       "\n",
       "       person_per_bedroom  \n",
       "0                0.791115  \n",
       "1                0.593898  \n",
       "2                1.913793  \n",
       "3                1.528190  \n",
       "4                1.914110  \n",
       "...                   ...  \n",
       "16995            2.302030  \n",
       "16996            2.261364  \n",
       "16997            2.342750  \n",
       "16998            2.351449  \n",
       "16999            2.686667  \n",
       "\n",
       "[17000 rows x 10 columns]"
      ]
     },
     "metadata": {},
     "execution_count": 60
    }
   ],
   "metadata": {
    "colab": {},
    "colab_type": "code",
    "id": "qSjv3cwZh55t"
   }
  },
  {
   "cell_type": "markdown",
   "source": [
    "---"
   ],
   "metadata": {
    "colab_type": "text",
    "id": "tfT14I7kGxJT"
   }
  }
 ],
 "metadata": {
  "colab": {
   "collapsed_sections": [
    "J2a8KT0jNMrt",
    "CcuCM7zaBsgS",
    "4F9kWpQ3X3xG",
    "rf7_6EyjjrRZ",
    "4G8kskdkd_lv",
    "I2yL_Oyoh_0c"
   ],
   "name": "Introduction to Pandas",
   "private_outputs": true,
   "provenance": [],
   "toc_visible": true
  },
  "kernelspec": {
   "name": "python3",
   "display_name": "Python 3.9.7 64-bit ('data': conda)"
  },
  "interpreter": {
   "hash": "8fbdc03ba97d8a2a62d8e820f8dc08c72c861e4a4433063471236fa03b6ac1df"
  },
  "language_info": {
   "name": "python",
   "version": "3.9.7",
   "mimetype": "text/x-python",
   "codemirror_mode": {
    "name": "ipython",
    "version": 3
   },
   "pygments_lexer": "ipython3",
   "nbconvert_exporter": "python",
   "file_extension": ".py"
  }
 },
 "nbformat": 4,
 "nbformat_minor": 2
}