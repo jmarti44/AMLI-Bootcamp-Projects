{
 "cells": [
  {
   "cell_type": "markdown",
   "source": [
    "<a href=\"https://colab.research.google.com/github/google/applied-machine-learning-intensive/blob/master/content/04_classification/04_classification_project/colab.ipynb\" target=\"_parent\"><img src=\"https://colab.research.google.com/assets/colab-badge.svg\" alt=\"Open In Colab\"/></a>"
   ],
   "metadata": {
    "colab_type": "text",
    "id": "view-in-github"
   }
  },
  {
   "cell_type": "markdown",
   "source": [
    "#### Copyright 2020 Google LLC."
   ],
   "metadata": {
    "colab_type": "text",
    "id": "copyright"
   }
  },
  {
   "cell_type": "code",
   "execution_count": 1,
   "source": [
    "# Licensed under the Apache License, Version 2.0 (the \"License\");\n",
    "# you may not use this file except in compliance with the License.\n",
    "# You may obtain a copy of the License at\n",
    "#\n",
    "# https://www.apache.org/licenses/LICENSE-2.0\n",
    "#\n",
    "# Unless required by applic\n",
    "# able law or agreed to in writing, software\n",
    "# distributed under the License is distributed on an \"AS IS\" BASIS,\n",
    "# WITHOUT WARRANTIES OR CONDITIONS OF ANY KIND, either express or implied.\n",
    "# See the License for the specific language governing permissions and\n",
    "# limitations under the License."
   ],
   "outputs": [],
   "metadata": {
    "colab": {},
    "colab_type": "code",
    "id": "-Xt6PXeVjxQN"
   }
  },
  {
   "cell_type": "markdown",
   "source": [
    "# Classification Project"
   ],
   "metadata": {
    "colab_type": "text",
    "id": "c2hPzRb6j_CA"
   }
  },
  {
   "cell_type": "markdown",
   "source": [
    "In this project you will apply what you have learned about classification and TensorFlow to complete a project from Kaggle. The challenge is to achieve a high accuracy score while trying to predict which passengers survived the Titanic ship crash. After building your model, you will upload your predictions to Kaggle and submit the score that you get."
   ],
   "metadata": {
    "colab_type": "text",
    "id": "-Xt6PXeVjxQX"
   }
  },
  {
   "cell_type": "markdown",
   "source": [
    "## Team Members  \n",
    "\n",
    "1. Jose Martinez\n",
    "2. Wren Priest\n",
    "3. Maria Quintero"
   ],
   "metadata": {}
  },
  {
   "cell_type": "markdown",
   "source": [
    "## The Titanic Dataset\n",
    "\n",
    "[Kaggle](https://www.kaggle.com) has a [dataset](https://www.kaggle.com/c/titanic/data) containing the passenger list on the Titanic. The data contains passenger features such as age, gender, ticket class, as well as whether or not they survived.\n",
    "\n",
    "Your job is to create a binary classifier using TensorFlow to determine if a passenger survived or not. The `Survived` column lets you know if the person survived. Then, upload your predictions to Kaggle and submit your accuracy score at the end of this Colab, along with a brief conclusion.\n"
   ],
   "metadata": {
    "colab_type": "text",
    "id": "HDzCkRNv8Kmz"
   }
  },
  {
   "cell_type": "markdown",
   "source": [
    "To get the dataset, you'll need to accept the competition's rules by clicking the \"I understand and accept\" button on the [competition rules page](https://www.kaggle.com/c/titanic/rules). Then upload your `kaggle.json` file and run the code below."
   ],
   "metadata": {
    "colab_type": "text",
    "id": "z4IG3YojoVmk"
   }
  },
  {
   "cell_type": "code",
   "execution_count": 29,
   "source": [
    "! chmod 600 kaggle.json && (ls ~/.kaggle 2>/dev/null || mkdir ~/.kaggle) && cp kaggle.json ~/.kaggle/ && echo 'Done'\n",
    "! kaggle competitions download -c titanic\n",
    "! ls"
   ],
   "outputs": [
    {
     "output_type": "stream",
     "name": "stdout",
     "text": [
      "kaggle.json\n",
      "Done\n",
      "titanic.zip: Skipping, found more recently modified local copy (use --force to force download)\n",
      "colab-key.zip  kaggle.json    slides.pptx    titanic.zip\n",
      "colab.ipynb    slides.md      submission.csv\n"
     ]
    }
   ],
   "metadata": {
    "colab": {},
    "colab_type": "code",
    "id": "IeVKtKt9oTmI"
   }
  },
  {
   "cell_type": "markdown",
   "source": [
    "**Note: If you see a \"403 - Forbidden\" error above, you still need to click \"I understand and accept\" on the [competition rules page](https://www.kaggle.com/c/titanic/rules).**\n",
    "\n",
    "Three files are downloaded:\n",
    "\n",
    "1. `train.csv`: training data (contains features and targets)\n",
    "1. `test.csv`: feature data used to make predictions to send to Kaggle\n",
    "1. `gender_submission.csv`: an example competition submission file"
   ],
   "metadata": {
    "colab_type": "text",
    "id": "v4VxbBaUpnB6"
   }
  },
  {
   "cell_type": "markdown",
   "source": [
    "## Step 1: Exploratory Data Analysis"
   ],
   "metadata": {
    "colab_type": "text",
    "id": "-U_zk4L_HpWJ"
   }
  },
  {
   "cell_type": "markdown",
   "source": [
    "Perform exploratory data analysis and data preprocessing. Use as many text and code blocks as you need to explore the data. Note any findings. Repair any data issues you find."
   ],
   "metadata": {
    "colab_type": "text",
    "id": "4QzpYWY7o0L4"
   }
  },
  {
   "cell_type": "markdown",
   "source": [
    "**Student Solution**"
   ],
   "metadata": {
    "colab_type": "text",
    "id": "DhhX2RJEyADd"
   }
  },
  {
   "cell_type": "markdown",
   "source": [
    "**Imports and acquring data**"
   ],
   "metadata": {}
  },
  {
   "cell_type": "code",
   "execution_count": 2,
   "source": [
    "import pandas as pd\n",
    "import tensorflow as tf\n",
    "import numpy as num\n",
    "from zipfile import ZipFile\n",
    "zip_file = ZipFile('titanic.zip')\n",
    "\n",
    "train_df = pd.read_csv(zip_file.open('train.csv'))\n",
    "test_df = pd.read_csv(zip_file.open('test.csv'))\n",
    "# gender_df = pd.read_csv(zip_file.open('gender_submission.csv'))"
   ],
   "outputs": [],
   "metadata": {
    "colab": {},
    "colab_type": "code",
    "id": "jR0P7qrDx-n9"
   }
  },
  {
   "cell_type": "code",
   "execution_count": 3,
   "source": [
    "test_df.sample(5)"
   ],
   "outputs": [
    {
     "output_type": "execute_result",
     "data": {
      "text/html": [
       "<div>\n",
       "<style scoped>\n",
       "    .dataframe tbody tr th:only-of-type {\n",
       "        vertical-align: middle;\n",
       "    }\n",
       "\n",
       "    .dataframe tbody tr th {\n",
       "        vertical-align: top;\n",
       "    }\n",
       "\n",
       "    .dataframe thead th {\n",
       "        text-align: right;\n",
       "    }\n",
       "</style>\n",
       "<table border=\"1\" class=\"dataframe\">\n",
       "  <thead>\n",
       "    <tr style=\"text-align: right;\">\n",
       "      <th></th>\n",
       "      <th>PassengerId</th>\n",
       "      <th>Pclass</th>\n",
       "      <th>Name</th>\n",
       "      <th>Sex</th>\n",
       "      <th>Age</th>\n",
       "      <th>SibSp</th>\n",
       "      <th>Parch</th>\n",
       "      <th>Ticket</th>\n",
       "      <th>Fare</th>\n",
       "      <th>Cabin</th>\n",
       "      <th>Embarked</th>\n",
       "    </tr>\n",
       "  </thead>\n",
       "  <tbody>\n",
       "    <tr>\n",
       "      <th>270</th>\n",
       "      <td>1162</td>\n",
       "      <td>1</td>\n",
       "      <td>McCaffry, Mr. Thomas Francis</td>\n",
       "      <td>male</td>\n",
       "      <td>46.0</td>\n",
       "      <td>0</td>\n",
       "      <td>0</td>\n",
       "      <td>13050</td>\n",
       "      <td>75.2417</td>\n",
       "      <td>C6</td>\n",
       "      <td>C</td>\n",
       "    </tr>\n",
       "    <tr>\n",
       "      <th>212</th>\n",
       "      <td>1104</td>\n",
       "      <td>2</td>\n",
       "      <td>Deacon, Mr. Percy William</td>\n",
       "      <td>male</td>\n",
       "      <td>17.0</td>\n",
       "      <td>0</td>\n",
       "      <td>0</td>\n",
       "      <td>S.O.C. 14879</td>\n",
       "      <td>73.5000</td>\n",
       "      <td>NaN</td>\n",
       "      <td>S</td>\n",
       "    </tr>\n",
       "    <tr>\n",
       "      <th>143</th>\n",
       "      <td>1035</td>\n",
       "      <td>2</td>\n",
       "      <td>Beauchamp, Mr. Henry James</td>\n",
       "      <td>male</td>\n",
       "      <td>28.0</td>\n",
       "      <td>0</td>\n",
       "      <td>0</td>\n",
       "      <td>244358</td>\n",
       "      <td>26.0000</td>\n",
       "      <td>NaN</td>\n",
       "      <td>S</td>\n",
       "    </tr>\n",
       "    <tr>\n",
       "      <th>242</th>\n",
       "      <td>1134</td>\n",
       "      <td>1</td>\n",
       "      <td>Spedden, Mr. Frederic Oakley</td>\n",
       "      <td>male</td>\n",
       "      <td>45.0</td>\n",
       "      <td>1</td>\n",
       "      <td>1</td>\n",
       "      <td>16966</td>\n",
       "      <td>134.5000</td>\n",
       "      <td>E34</td>\n",
       "      <td>C</td>\n",
       "    </tr>\n",
       "    <tr>\n",
       "      <th>239</th>\n",
       "      <td>1131</td>\n",
       "      <td>1</td>\n",
       "      <td>Douglas, Mrs. Walter Donald (Mahala Dutton)</td>\n",
       "      <td>female</td>\n",
       "      <td>48.0</td>\n",
       "      <td>1</td>\n",
       "      <td>0</td>\n",
       "      <td>PC 17761</td>\n",
       "      <td>106.4250</td>\n",
       "      <td>C86</td>\n",
       "      <td>C</td>\n",
       "    </tr>\n",
       "  </tbody>\n",
       "</table>\n",
       "</div>"
      ],
      "text/plain": [
       "     PassengerId  Pclass                                         Name     Sex  \\\n",
       "270         1162       1                 McCaffry, Mr. Thomas Francis    male   \n",
       "212         1104       2                    Deacon, Mr. Percy William    male   \n",
       "143         1035       2                   Beauchamp, Mr. Henry James    male   \n",
       "242         1134       1                 Spedden, Mr. Frederic Oakley    male   \n",
       "239         1131       1  Douglas, Mrs. Walter Donald (Mahala Dutton)  female   \n",
       "\n",
       "      Age  SibSp  Parch        Ticket      Fare Cabin Embarked  \n",
       "270  46.0      0      0         13050   75.2417    C6        C  \n",
       "212  17.0      0      0  S.O.C. 14879   73.5000   NaN        S  \n",
       "143  28.0      0      0        244358   26.0000   NaN        S  \n",
       "242  45.0      1      1         16966  134.5000   E34        C  \n",
       "239  48.0      1      0      PC 17761  106.4250   C86        C  "
      ]
     },
     "metadata": {},
     "execution_count": 3
    }
   ],
   "metadata": {}
  },
  {
   "cell_type": "markdown",
   "source": [
    "**The Challenge**"
   ],
   "metadata": {}
  },
  {
   "cell_type": "markdown",
   "source": [
    ">In this challenge, we ask you to build a predictive model that answers the question: “what sorts of people were more likely to survive?” using passenger data (ie name, age, gender, socio-economic class, etc)."
   ],
   "metadata": {}
  },
  {
   "cell_type": "code",
   "execution_count": 4,
   "source": [
    "train_df.sample(10)"
   ],
   "outputs": [
    {
     "output_type": "execute_result",
     "data": {
      "text/html": [
       "<div>\n",
       "<style scoped>\n",
       "    .dataframe tbody tr th:only-of-type {\n",
       "        vertical-align: middle;\n",
       "    }\n",
       "\n",
       "    .dataframe tbody tr th {\n",
       "        vertical-align: top;\n",
       "    }\n",
       "\n",
       "    .dataframe thead th {\n",
       "        text-align: right;\n",
       "    }\n",
       "</style>\n",
       "<table border=\"1\" class=\"dataframe\">\n",
       "  <thead>\n",
       "    <tr style=\"text-align: right;\">\n",
       "      <th></th>\n",
       "      <th>PassengerId</th>\n",
       "      <th>Survived</th>\n",
       "      <th>Pclass</th>\n",
       "      <th>Name</th>\n",
       "      <th>Sex</th>\n",
       "      <th>Age</th>\n",
       "      <th>SibSp</th>\n",
       "      <th>Parch</th>\n",
       "      <th>Ticket</th>\n",
       "      <th>Fare</th>\n",
       "      <th>Cabin</th>\n",
       "      <th>Embarked</th>\n",
       "    </tr>\n",
       "  </thead>\n",
       "  <tbody>\n",
       "    <tr>\n",
       "      <th>586</th>\n",
       "      <td>587</td>\n",
       "      <td>0</td>\n",
       "      <td>2</td>\n",
       "      <td>Jarvis, Mr. John Denzil</td>\n",
       "      <td>male</td>\n",
       "      <td>47.0</td>\n",
       "      <td>0</td>\n",
       "      <td>0</td>\n",
       "      <td>237565</td>\n",
       "      <td>15.0000</td>\n",
       "      <td>NaN</td>\n",
       "      <td>S</td>\n",
       "    </tr>\n",
       "    <tr>\n",
       "      <th>607</th>\n",
       "      <td>608</td>\n",
       "      <td>1</td>\n",
       "      <td>1</td>\n",
       "      <td>Daniel, Mr. Robert Williams</td>\n",
       "      <td>male</td>\n",
       "      <td>27.0</td>\n",
       "      <td>0</td>\n",
       "      <td>0</td>\n",
       "      <td>113804</td>\n",
       "      <td>30.5000</td>\n",
       "      <td>NaN</td>\n",
       "      <td>S</td>\n",
       "    </tr>\n",
       "    <tr>\n",
       "      <th>550</th>\n",
       "      <td>551</td>\n",
       "      <td>1</td>\n",
       "      <td>1</td>\n",
       "      <td>Thayer, Mr. John Borland Jr</td>\n",
       "      <td>male</td>\n",
       "      <td>17.0</td>\n",
       "      <td>0</td>\n",
       "      <td>2</td>\n",
       "      <td>17421</td>\n",
       "      <td>110.8833</td>\n",
       "      <td>C70</td>\n",
       "      <td>C</td>\n",
       "    </tr>\n",
       "    <tr>\n",
       "      <th>497</th>\n",
       "      <td>498</td>\n",
       "      <td>0</td>\n",
       "      <td>3</td>\n",
       "      <td>Shellard, Mr. Frederick William</td>\n",
       "      <td>male</td>\n",
       "      <td>NaN</td>\n",
       "      <td>0</td>\n",
       "      <td>0</td>\n",
       "      <td>C.A. 6212</td>\n",
       "      <td>15.1000</td>\n",
       "      <td>NaN</td>\n",
       "      <td>S</td>\n",
       "    </tr>\n",
       "    <tr>\n",
       "      <th>674</th>\n",
       "      <td>675</td>\n",
       "      <td>0</td>\n",
       "      <td>2</td>\n",
       "      <td>Watson, Mr. Ennis Hastings</td>\n",
       "      <td>male</td>\n",
       "      <td>NaN</td>\n",
       "      <td>0</td>\n",
       "      <td>0</td>\n",
       "      <td>239856</td>\n",
       "      <td>0.0000</td>\n",
       "      <td>NaN</td>\n",
       "      <td>S</td>\n",
       "    </tr>\n",
       "    <tr>\n",
       "      <th>178</th>\n",
       "      <td>179</td>\n",
       "      <td>0</td>\n",
       "      <td>2</td>\n",
       "      <td>Hale, Mr. Reginald</td>\n",
       "      <td>male</td>\n",
       "      <td>30.0</td>\n",
       "      <td>0</td>\n",
       "      <td>0</td>\n",
       "      <td>250653</td>\n",
       "      <td>13.0000</td>\n",
       "      <td>NaN</td>\n",
       "      <td>S</td>\n",
       "    </tr>\n",
       "    <tr>\n",
       "      <th>288</th>\n",
       "      <td>289</td>\n",
       "      <td>1</td>\n",
       "      <td>2</td>\n",
       "      <td>Hosono, Mr. Masabumi</td>\n",
       "      <td>male</td>\n",
       "      <td>42.0</td>\n",
       "      <td>0</td>\n",
       "      <td>0</td>\n",
       "      <td>237798</td>\n",
       "      <td>13.0000</td>\n",
       "      <td>NaN</td>\n",
       "      <td>S</td>\n",
       "    </tr>\n",
       "    <tr>\n",
       "      <th>60</th>\n",
       "      <td>61</td>\n",
       "      <td>0</td>\n",
       "      <td>3</td>\n",
       "      <td>Sirayanian, Mr. Orsen</td>\n",
       "      <td>male</td>\n",
       "      <td>22.0</td>\n",
       "      <td>0</td>\n",
       "      <td>0</td>\n",
       "      <td>2669</td>\n",
       "      <td>7.2292</td>\n",
       "      <td>NaN</td>\n",
       "      <td>C</td>\n",
       "    </tr>\n",
       "    <tr>\n",
       "      <th>218</th>\n",
       "      <td>219</td>\n",
       "      <td>1</td>\n",
       "      <td>1</td>\n",
       "      <td>Bazzani, Miss. Albina</td>\n",
       "      <td>female</td>\n",
       "      <td>32.0</td>\n",
       "      <td>0</td>\n",
       "      <td>0</td>\n",
       "      <td>11813</td>\n",
       "      <td>76.2917</td>\n",
       "      <td>D15</td>\n",
       "      <td>C</td>\n",
       "    </tr>\n",
       "    <tr>\n",
       "      <th>744</th>\n",
       "      <td>745</td>\n",
       "      <td>1</td>\n",
       "      <td>3</td>\n",
       "      <td>Stranden, Mr. Juho</td>\n",
       "      <td>male</td>\n",
       "      <td>31.0</td>\n",
       "      <td>0</td>\n",
       "      <td>0</td>\n",
       "      <td>STON/O 2. 3101288</td>\n",
       "      <td>7.9250</td>\n",
       "      <td>NaN</td>\n",
       "      <td>S</td>\n",
       "    </tr>\n",
       "  </tbody>\n",
       "</table>\n",
       "</div>"
      ],
      "text/plain": [
       "     PassengerId  Survived  Pclass                             Name     Sex  \\\n",
       "586          587         0       2          Jarvis, Mr. John Denzil    male   \n",
       "607          608         1       1      Daniel, Mr. Robert Williams    male   \n",
       "550          551         1       1      Thayer, Mr. John Borland Jr    male   \n",
       "497          498         0       3  Shellard, Mr. Frederick William    male   \n",
       "674          675         0       2       Watson, Mr. Ennis Hastings    male   \n",
       "178          179         0       2               Hale, Mr. Reginald    male   \n",
       "288          289         1       2             Hosono, Mr. Masabumi    male   \n",
       "60            61         0       3            Sirayanian, Mr. Orsen    male   \n",
       "218          219         1       1            Bazzani, Miss. Albina  female   \n",
       "744          745         1       3               Stranden, Mr. Juho    male   \n",
       "\n",
       "      Age  SibSp  Parch             Ticket      Fare Cabin Embarked  \n",
       "586  47.0      0      0             237565   15.0000   NaN        S  \n",
       "607  27.0      0      0             113804   30.5000   NaN        S  \n",
       "550  17.0      0      2              17421  110.8833   C70        C  \n",
       "497   NaN      0      0          C.A. 6212   15.1000   NaN        S  \n",
       "674   NaN      0      0             239856    0.0000   NaN        S  \n",
       "178  30.0      0      0             250653   13.0000   NaN        S  \n",
       "288  42.0      0      0             237798   13.0000   NaN        S  \n",
       "60   22.0      0      0               2669    7.2292   NaN        C  \n",
       "218  32.0      0      0              11813   76.2917   D15        C  \n",
       "744  31.0      0      0  STON/O 2. 3101288    7.9250   NaN        S  "
      ]
     },
     "metadata": {},
     "execution_count": 4
    }
   ],
   "metadata": {}
  },
  {
   "cell_type": "markdown",
   "source": [
    "---"
   ],
   "metadata": {
    "colab_type": "text",
    "id": "GRiOrGGW6wW6"
   }
  },
  {
   "cell_type": "markdown",
   "source": [
    "**Preprocessing: Simplyfying the dataset**"
   ],
   "metadata": {}
  },
  {
   "cell_type": "code",
   "execution_count": 5,
   "source": [
    "col = ['Survived', 'Pclass', 'Sex', 'Age', 'SibSp',\n",
    "       'Parch','Fare', 'Embarked']\n",
    "\n",
    "# train_df[col+['PassengerId']]\n",
    "train_df[col]"
   ],
   "outputs": [
    {
     "output_type": "execute_result",
     "data": {
      "text/html": [
       "<div>\n",
       "<style scoped>\n",
       "    .dataframe tbody tr th:only-of-type {\n",
       "        vertical-align: middle;\n",
       "    }\n",
       "\n",
       "    .dataframe tbody tr th {\n",
       "        vertical-align: top;\n",
       "    }\n",
       "\n",
       "    .dataframe thead th {\n",
       "        text-align: right;\n",
       "    }\n",
       "</style>\n",
       "<table border=\"1\" class=\"dataframe\">\n",
       "  <thead>\n",
       "    <tr style=\"text-align: right;\">\n",
       "      <th></th>\n",
       "      <th>Survived</th>\n",
       "      <th>Pclass</th>\n",
       "      <th>Sex</th>\n",
       "      <th>Age</th>\n",
       "      <th>SibSp</th>\n",
       "      <th>Parch</th>\n",
       "      <th>Fare</th>\n",
       "      <th>Embarked</th>\n",
       "    </tr>\n",
       "  </thead>\n",
       "  <tbody>\n",
       "    <tr>\n",
       "      <th>0</th>\n",
       "      <td>0</td>\n",
       "      <td>3</td>\n",
       "      <td>male</td>\n",
       "      <td>22.0</td>\n",
       "      <td>1</td>\n",
       "      <td>0</td>\n",
       "      <td>7.2500</td>\n",
       "      <td>S</td>\n",
       "    </tr>\n",
       "    <tr>\n",
       "      <th>1</th>\n",
       "      <td>1</td>\n",
       "      <td>1</td>\n",
       "      <td>female</td>\n",
       "      <td>38.0</td>\n",
       "      <td>1</td>\n",
       "      <td>0</td>\n",
       "      <td>71.2833</td>\n",
       "      <td>C</td>\n",
       "    </tr>\n",
       "    <tr>\n",
       "      <th>2</th>\n",
       "      <td>1</td>\n",
       "      <td>3</td>\n",
       "      <td>female</td>\n",
       "      <td>26.0</td>\n",
       "      <td>0</td>\n",
       "      <td>0</td>\n",
       "      <td>7.9250</td>\n",
       "      <td>S</td>\n",
       "    </tr>\n",
       "    <tr>\n",
       "      <th>3</th>\n",
       "      <td>1</td>\n",
       "      <td>1</td>\n",
       "      <td>female</td>\n",
       "      <td>35.0</td>\n",
       "      <td>1</td>\n",
       "      <td>0</td>\n",
       "      <td>53.1000</td>\n",
       "      <td>S</td>\n",
       "    </tr>\n",
       "    <tr>\n",
       "      <th>4</th>\n",
       "      <td>0</td>\n",
       "      <td>3</td>\n",
       "      <td>male</td>\n",
       "      <td>35.0</td>\n",
       "      <td>0</td>\n",
       "      <td>0</td>\n",
       "      <td>8.0500</td>\n",
       "      <td>S</td>\n",
       "    </tr>\n",
       "    <tr>\n",
       "      <th>...</th>\n",
       "      <td>...</td>\n",
       "      <td>...</td>\n",
       "      <td>...</td>\n",
       "      <td>...</td>\n",
       "      <td>...</td>\n",
       "      <td>...</td>\n",
       "      <td>...</td>\n",
       "      <td>...</td>\n",
       "    </tr>\n",
       "    <tr>\n",
       "      <th>886</th>\n",
       "      <td>0</td>\n",
       "      <td>2</td>\n",
       "      <td>male</td>\n",
       "      <td>27.0</td>\n",
       "      <td>0</td>\n",
       "      <td>0</td>\n",
       "      <td>13.0000</td>\n",
       "      <td>S</td>\n",
       "    </tr>\n",
       "    <tr>\n",
       "      <th>887</th>\n",
       "      <td>1</td>\n",
       "      <td>1</td>\n",
       "      <td>female</td>\n",
       "      <td>19.0</td>\n",
       "      <td>0</td>\n",
       "      <td>0</td>\n",
       "      <td>30.0000</td>\n",
       "      <td>S</td>\n",
       "    </tr>\n",
       "    <tr>\n",
       "      <th>888</th>\n",
       "      <td>0</td>\n",
       "      <td>3</td>\n",
       "      <td>female</td>\n",
       "      <td>NaN</td>\n",
       "      <td>1</td>\n",
       "      <td>2</td>\n",
       "      <td>23.4500</td>\n",
       "      <td>S</td>\n",
       "    </tr>\n",
       "    <tr>\n",
       "      <th>889</th>\n",
       "      <td>1</td>\n",
       "      <td>1</td>\n",
       "      <td>male</td>\n",
       "      <td>26.0</td>\n",
       "      <td>0</td>\n",
       "      <td>0</td>\n",
       "      <td>30.0000</td>\n",
       "      <td>C</td>\n",
       "    </tr>\n",
       "    <tr>\n",
       "      <th>890</th>\n",
       "      <td>0</td>\n",
       "      <td>3</td>\n",
       "      <td>male</td>\n",
       "      <td>32.0</td>\n",
       "      <td>0</td>\n",
       "      <td>0</td>\n",
       "      <td>7.7500</td>\n",
       "      <td>Q</td>\n",
       "    </tr>\n",
       "  </tbody>\n",
       "</table>\n",
       "<p>891 rows × 8 columns</p>\n",
       "</div>"
      ],
      "text/plain": [
       "     Survived  Pclass     Sex   Age  SibSp  Parch     Fare Embarked\n",
       "0           0       3    male  22.0      1      0   7.2500        S\n",
       "1           1       1  female  38.0      1      0  71.2833        C\n",
       "2           1       3  female  26.0      0      0   7.9250        S\n",
       "3           1       1  female  35.0      1      0  53.1000        S\n",
       "4           0       3    male  35.0      0      0   8.0500        S\n",
       "..        ...     ...     ...   ...    ...    ...      ...      ...\n",
       "886         0       2    male  27.0      0      0  13.0000        S\n",
       "887         1       1  female  19.0      0      0  30.0000        S\n",
       "888         0       3  female   NaN      1      2  23.4500        S\n",
       "889         1       1    male  26.0      0      0  30.0000        C\n",
       "890         0       3    male  32.0      0      0   7.7500        Q\n",
       "\n",
       "[891 rows x 8 columns]"
      ]
     },
     "metadata": {},
     "execution_count": 5
    }
   ],
   "metadata": {}
  },
  {
   "cell_type": "code",
   "execution_count": 7,
   "source": [
    "col = ['Survived', 'Pclass', 'Sex', 'Age', 'SibSp',\n",
    "       'Parch','Fare', 'Embarked']\n",
    "\n",
    "train_df = train_df[col]\n",
    "#test_df  = test_df[col+['PassengerId']]\n",
    "\n",
    "#177 data points removed\n",
    "train_df.dropna(inplace = True)\n",
    "test_df.dropna(inplace=True)\n",
    "# print(train_df.sample(50))\n",
    "\n",
    "EmbarkedMap = {\n",
    "       \"S\": 0,\n",
    "       \"C\": 1, \n",
    "       \"Q\": 2\n",
    "}\n",
    "# print(train_df[\"Embarked\"])\n",
    "Embarked = train_df[\"Embarked\"]\n",
    "NumericEmbarked = [EmbarkedMap[v] for v in Embarked]\n",
    "NumericSex = [0 if x == \"male\" else 1 for x in train_df[\"Sex\"]]\n",
    "train_df[\"NumericEmbarked\"] = NumericEmbarked\n",
    "train_df[\"NumericSex\"] = NumericSex\n",
    "train_df\n",
    "# train_df = pd.get_dummies(train_df)\n",
    "#train_df\n",
    "\n",
    "\n",
    "\n",
    "\n",
    "# Embarked = test_df[\"Embarked\"]\n",
    "# NumericEmbarked = [EmbarkedMap[v] for v in Embarked]\n",
    "# NumericSex = [0 if x == \"male\" else 1 for x in test_df[\"Sex\"]]\n",
    "# test_df[\"NumericEmbarked\"] = NumericEmbarked\n",
    "# test_df[\"NumericSex\"] = NumericSex\n",
    "# tes_df"
   ],
   "outputs": [
    {
     "output_type": "execute_result",
     "data": {
      "text/html": [
       "<div>\n",
       "<style scoped>\n",
       "    .dataframe tbody tr th:only-of-type {\n",
       "        vertical-align: middle;\n",
       "    }\n",
       "\n",
       "    .dataframe tbody tr th {\n",
       "        vertical-align: top;\n",
       "    }\n",
       "\n",
       "    .dataframe thead th {\n",
       "        text-align: right;\n",
       "    }\n",
       "</style>\n",
       "<table border=\"1\" class=\"dataframe\">\n",
       "  <thead>\n",
       "    <tr style=\"text-align: right;\">\n",
       "      <th></th>\n",
       "      <th>Survived</th>\n",
       "      <th>Pclass</th>\n",
       "      <th>Sex</th>\n",
       "      <th>Age</th>\n",
       "      <th>SibSp</th>\n",
       "      <th>Parch</th>\n",
       "      <th>Fare</th>\n",
       "      <th>Embarked</th>\n",
       "      <th>NumericEmbarked</th>\n",
       "      <th>NumericSex</th>\n",
       "    </tr>\n",
       "  </thead>\n",
       "  <tbody>\n",
       "    <tr>\n",
       "      <th>0</th>\n",
       "      <td>0</td>\n",
       "      <td>3</td>\n",
       "      <td>male</td>\n",
       "      <td>22.0</td>\n",
       "      <td>1</td>\n",
       "      <td>0</td>\n",
       "      <td>7.2500</td>\n",
       "      <td>S</td>\n",
       "      <td>0</td>\n",
       "      <td>0</td>\n",
       "    </tr>\n",
       "    <tr>\n",
       "      <th>1</th>\n",
       "      <td>1</td>\n",
       "      <td>1</td>\n",
       "      <td>female</td>\n",
       "      <td>38.0</td>\n",
       "      <td>1</td>\n",
       "      <td>0</td>\n",
       "      <td>71.2833</td>\n",
       "      <td>C</td>\n",
       "      <td>1</td>\n",
       "      <td>1</td>\n",
       "    </tr>\n",
       "    <tr>\n",
       "      <th>2</th>\n",
       "      <td>1</td>\n",
       "      <td>3</td>\n",
       "      <td>female</td>\n",
       "      <td>26.0</td>\n",
       "      <td>0</td>\n",
       "      <td>0</td>\n",
       "      <td>7.9250</td>\n",
       "      <td>S</td>\n",
       "      <td>0</td>\n",
       "      <td>1</td>\n",
       "    </tr>\n",
       "    <tr>\n",
       "      <th>3</th>\n",
       "      <td>1</td>\n",
       "      <td>1</td>\n",
       "      <td>female</td>\n",
       "      <td>35.0</td>\n",
       "      <td>1</td>\n",
       "      <td>0</td>\n",
       "      <td>53.1000</td>\n",
       "      <td>S</td>\n",
       "      <td>0</td>\n",
       "      <td>1</td>\n",
       "    </tr>\n",
       "    <tr>\n",
       "      <th>4</th>\n",
       "      <td>0</td>\n",
       "      <td>3</td>\n",
       "      <td>male</td>\n",
       "      <td>35.0</td>\n",
       "      <td>0</td>\n",
       "      <td>0</td>\n",
       "      <td>8.0500</td>\n",
       "      <td>S</td>\n",
       "      <td>0</td>\n",
       "      <td>0</td>\n",
       "    </tr>\n",
       "    <tr>\n",
       "      <th>...</th>\n",
       "      <td>...</td>\n",
       "      <td>...</td>\n",
       "      <td>...</td>\n",
       "      <td>...</td>\n",
       "      <td>...</td>\n",
       "      <td>...</td>\n",
       "      <td>...</td>\n",
       "      <td>...</td>\n",
       "      <td>...</td>\n",
       "      <td>...</td>\n",
       "    </tr>\n",
       "    <tr>\n",
       "      <th>885</th>\n",
       "      <td>0</td>\n",
       "      <td>3</td>\n",
       "      <td>female</td>\n",
       "      <td>39.0</td>\n",
       "      <td>0</td>\n",
       "      <td>5</td>\n",
       "      <td>29.1250</td>\n",
       "      <td>Q</td>\n",
       "      <td>2</td>\n",
       "      <td>1</td>\n",
       "    </tr>\n",
       "    <tr>\n",
       "      <th>886</th>\n",
       "      <td>0</td>\n",
       "      <td>2</td>\n",
       "      <td>male</td>\n",
       "      <td>27.0</td>\n",
       "      <td>0</td>\n",
       "      <td>0</td>\n",
       "      <td>13.0000</td>\n",
       "      <td>S</td>\n",
       "      <td>0</td>\n",
       "      <td>0</td>\n",
       "    </tr>\n",
       "    <tr>\n",
       "      <th>887</th>\n",
       "      <td>1</td>\n",
       "      <td>1</td>\n",
       "      <td>female</td>\n",
       "      <td>19.0</td>\n",
       "      <td>0</td>\n",
       "      <td>0</td>\n",
       "      <td>30.0000</td>\n",
       "      <td>S</td>\n",
       "      <td>0</td>\n",
       "      <td>1</td>\n",
       "    </tr>\n",
       "    <tr>\n",
       "      <th>889</th>\n",
       "      <td>1</td>\n",
       "      <td>1</td>\n",
       "      <td>male</td>\n",
       "      <td>26.0</td>\n",
       "      <td>0</td>\n",
       "      <td>0</td>\n",
       "      <td>30.0000</td>\n",
       "      <td>C</td>\n",
       "      <td>1</td>\n",
       "      <td>0</td>\n",
       "    </tr>\n",
       "    <tr>\n",
       "      <th>890</th>\n",
       "      <td>0</td>\n",
       "      <td>3</td>\n",
       "      <td>male</td>\n",
       "      <td>32.0</td>\n",
       "      <td>0</td>\n",
       "      <td>0</td>\n",
       "      <td>7.7500</td>\n",
       "      <td>Q</td>\n",
       "      <td>2</td>\n",
       "      <td>0</td>\n",
       "    </tr>\n",
       "  </tbody>\n",
       "</table>\n",
       "<p>712 rows × 10 columns</p>\n",
       "</div>"
      ],
      "text/plain": [
       "     Survived  Pclass     Sex   Age  SibSp  Parch     Fare Embarked  \\\n",
       "0           0       3    male  22.0      1      0   7.2500        S   \n",
       "1           1       1  female  38.0      1      0  71.2833        C   \n",
       "2           1       3  female  26.0      0      0   7.9250        S   \n",
       "3           1       1  female  35.0      1      0  53.1000        S   \n",
       "4           0       3    male  35.0      0      0   8.0500        S   \n",
       "..        ...     ...     ...   ...    ...    ...      ...      ...   \n",
       "885         0       3  female  39.0      0      5  29.1250        Q   \n",
       "886         0       2    male  27.0      0      0  13.0000        S   \n",
       "887         1       1  female  19.0      0      0  30.0000        S   \n",
       "889         1       1    male  26.0      0      0  30.0000        C   \n",
       "890         0       3    male  32.0      0      0   7.7500        Q   \n",
       "\n",
       "     NumericEmbarked  NumericSex  \n",
       "0                  0           0  \n",
       "1                  1           1  \n",
       "2                  0           1  \n",
       "3                  0           1  \n",
       "4                  0           0  \n",
       "..               ...         ...  \n",
       "885                2           1  \n",
       "886                0           0  \n",
       "887                0           1  \n",
       "889                1           0  \n",
       "890                2           0  \n",
       "\n",
       "[712 rows x 10 columns]"
      ]
     },
     "metadata": {},
     "execution_count": 7
    }
   ],
   "metadata": {}
  },
  {
   "cell_type": "code",
   "execution_count": null,
   "source": [],
   "outputs": [],
   "metadata": {}
  },
  {
   "cell_type": "markdown",
   "source": [],
   "metadata": {}
  },
  {
   "cell_type": "code",
   "execution_count": 6,
   "source": [
    "# there are 177 rows missing ages!\n",
    "print(og_df.isna().sum(),'\\n')\n",
    "# there are 86 rows missing ages!\n",
    "print(og_df.isna().sum())"
   ],
   "outputs": [
    {
     "output_type": "stream",
     "name": "stdout",
     "text": [
      "PassengerId      0\n",
      "Survived         0\n",
      "Pclass           0\n",
      "Name             0\n",
      "Sex              0\n",
      "Age            177\n",
      "SibSp            0\n",
      "Parch            0\n",
      "Ticket           0\n",
      "Fare             0\n",
      "Cabin          687\n",
      "Embarked         2\n",
      "dtype: int64 \n",
      "\n",
      "PassengerId      0\n",
      "Survived         0\n",
      "Pclass           0\n",
      "Name             0\n",
      "Sex              0\n",
      "Age            177\n",
      "SibSp            0\n",
      "Parch            0\n",
      "Ticket           0\n",
      "Fare             0\n",
      "Cabin          687\n",
      "Embarked         2\n",
      "dtype: int64\n"
     ]
    }
   ],
   "metadata": {}
  },
  {
   "cell_type": "code",
   "execution_count": 8,
   "source": [
    "target_column = 'Survived'\n",
    "feature_columns = [c for c in train_df.columns if c != target_column and c!= 'Embarked' and c!= 'Sex']\n",
    "target_column, feature_columns"
   ],
   "outputs": [
    {
     "output_type": "execute_result",
     "data": {
      "text/plain": [
       "('Survived',\n",
       " ['Pclass', 'Age', 'SibSp', 'Parch', 'Fare', 'NumericEmbarked', 'NumericSex'])"
      ]
     },
     "metadata": {},
     "execution_count": 8
    }
   ],
   "metadata": {}
  },
  {
   "cell_type": "markdown",
   "source": [
    "**Using Standard Scalar**"
   ],
   "metadata": {}
  },
  {
   "cell_type": "code",
   "execution_count": 9,
   "source": [
    "from sklearn.preprocessing import StandardScaler \n",
    "scaler = StandardScaler()\n",
    "# feature_columns\n",
    "#train_df\n",
    "train_df[feature_columns]\n",
    "train_df[feature_columns] = scaler.fit_transform(train_df[feature_columns])\n",
    "X_train = train_df[feature_columns]\n",
    "y_train = train_df[target_column]"
   ],
   "outputs": [],
   "metadata": {}
  },
  {
   "cell_type": "markdown",
   "source": [
    "**Getting target and feature columns**"
   ],
   "metadata": {}
  },
  {
   "cell_type": "markdown",
   "source": [
    "## Step 2: The Model\n",
    "\n",
    "Build, fit, and evaluate a classification model. Perform any model-specific data processing that you need to perform. If the toolkit you use supports it, create visualizations for loss and accuracy improvements. Use as many text and code blocks as you need to explore the data. Note any findings."
   ],
   "metadata": {
    "colab_type": "text",
    "id": "sxmnIepvmdCx"
   }
  },
  {
   "cell_type": "markdown",
   "source": [
    "**Student Solution**"
   ],
   "metadata": {
    "colab_type": "text",
    "id": "LO8x9d6GHwgQ"
   }
  },
  {
   "cell_type": "code",
   "execution_count": 10,
   "source": [
    "model = tf.keras.Sequential([\n",
    "    tf.keras.layers.Dense(64, activation=tf.nn.relu, \n",
    "                          input_shape=(X_train.columns.size,)),\n",
    "    tf.keras.layers.Dense(32, activation=tf.nn.relu),\n",
    "    tf.keras.layers.Dense(16, activation=tf.nn.relu),\n",
    "    tf.keras.layers.Dense(1, activation=tf.nn.sigmoid)\n",
    "])"
   ],
   "outputs": [],
   "metadata": {}
  },
  {
   "cell_type": "code",
   "execution_count": 11,
   "source": [
    "model.compile(\n",
    "    loss='binary_crossentropy',\n",
    "    optimizer='Adam',\n",
    "    metrics=['accuracy']\n",
    ")"
   ],
   "outputs": [],
   "metadata": {}
  },
  {
   "cell_type": "markdown",
   "source": [
    "**Early Stopping**"
   ],
   "metadata": {}
  },
  {
   "cell_type": "code",
   "execution_count": 12,
   "source": [
    "es = tf.keras.callbacks.EarlyStopping(\n",
    "    monitor='loss',\n",
    "    min_delta=1e-3,\n",
    "    patience=5\n",
    ")\n",
    "\n",
    "complete_model = model.fit(\n",
    "    X_train,\n",
    "    y_train,\n",
    "    epochs=500,\n",
    "    verbose=2,\n",
    "    callbacks=[es]\n",
    ")\n",
    "print(complete_model.history['accuracy'][-1])\n"
   ],
   "outputs": [
    {
     "output_type": "stream",
     "name": "stdout",
     "text": [
      "WARNING:tensorflow:Falling back from v2 loop because of error: Failed to find data adapter that can handle input: <class 'pandas.core.frame.DataFrame'>, <class 'NoneType'>\n",
      "Train on 712 samples\n",
      "Epoch 1/500\n",
      "712/712 - 0s - loss: 0.6501 - accuracy: 0.6756\n",
      "Epoch 2/500\n",
      "712/712 - 0s - loss: 0.5472 - accuracy: 0.7893\n",
      "Epoch 3/500\n",
      "712/712 - 0s - loss: 0.4770 - accuracy: 0.7879\n",
      "Epoch 4/500\n",
      "712/712 - 0s - loss: 0.4475 - accuracy: 0.7907\n",
      "Epoch 5/500\n",
      "712/712 - 0s - loss: 0.4314 - accuracy: 0.8034\n",
      "Epoch 6/500\n",
      "712/712 - 0s - loss: 0.4217 - accuracy: 0.8202\n",
      "Epoch 7/500\n",
      "712/712 - 0s - loss: 0.4159 - accuracy: 0.8230\n",
      "Epoch 8/500\n",
      "712/712 - 0s - loss: 0.4108 - accuracy: 0.8301\n",
      "Epoch 9/500\n",
      "712/712 - 0s - loss: 0.4050 - accuracy: 0.8301\n",
      "Epoch 10/500\n",
      "712/712 - 0s - loss: 0.4034 - accuracy: 0.8329\n",
      "Epoch 11/500\n",
      "712/712 - 0s - loss: 0.3985 - accuracy: 0.8329\n",
      "Epoch 12/500\n",
      "712/712 - 0s - loss: 0.3950 - accuracy: 0.8287\n",
      "Epoch 13/500\n",
      "712/712 - 0s - loss: 0.3923 - accuracy: 0.8399\n",
      "Epoch 14/500\n",
      "712/712 - 0s - loss: 0.3901 - accuracy: 0.8427\n",
      "Epoch 15/500\n",
      "712/712 - 0s - loss: 0.3880 - accuracy: 0.8441\n",
      "Epoch 16/500\n",
      "712/712 - 0s - loss: 0.3855 - accuracy: 0.8427\n",
      "Epoch 17/500\n",
      "712/712 - 0s - loss: 0.3844 - accuracy: 0.8469\n",
      "Epoch 18/500\n",
      "712/712 - 0s - loss: 0.3832 - accuracy: 0.8497\n",
      "Epoch 19/500\n",
      "712/712 - 0s - loss: 0.3793 - accuracy: 0.8455\n",
      "Epoch 20/500\n",
      "712/712 - 0s - loss: 0.3791 - accuracy: 0.8483\n",
      "Epoch 21/500\n",
      "712/712 - 0s - loss: 0.3750 - accuracy: 0.8455\n",
      "Epoch 22/500\n",
      "712/712 - 0s - loss: 0.3747 - accuracy: 0.8469\n",
      "Epoch 23/500\n",
      "712/712 - 0s - loss: 0.3717 - accuracy: 0.8525\n",
      "Epoch 24/500\n",
      "712/712 - 0s - loss: 0.3716 - accuracy: 0.8511\n",
      "Epoch 25/500\n",
      "712/712 - 0s - loss: 0.3691 - accuracy: 0.8553\n",
      "Epoch 26/500\n",
      "712/712 - 0s - loss: 0.3675 - accuracy: 0.8525\n",
      "Epoch 27/500\n",
      "712/712 - 0s - loss: 0.3670 - accuracy: 0.8525\n",
      "Epoch 28/500\n",
      "712/712 - 0s - loss: 0.3666 - accuracy: 0.8469\n",
      "Epoch 29/500\n",
      "712/712 - 0s - loss: 0.3614 - accuracy: 0.8553\n",
      "Epoch 30/500\n",
      "712/712 - 0s - loss: 0.3625 - accuracy: 0.8539\n",
      "Epoch 31/500\n",
      "712/712 - 0s - loss: 0.3615 - accuracy: 0.8525\n",
      "Epoch 32/500\n",
      "712/712 - 0s - loss: 0.3631 - accuracy: 0.8624\n",
      "Epoch 33/500\n",
      "712/712 - 0s - loss: 0.3606 - accuracy: 0.8511\n",
      "Epoch 34/500\n",
      "712/712 - 0s - loss: 0.3606 - accuracy: 0.8511\n",
      "0.8511236\n"
     ]
    }
   ],
   "metadata": {}
  },
  {
   "cell_type": "code",
   "execution_count": null,
   "source": [],
   "outputs": [],
   "metadata": {}
  },
  {
   "cell_type": "code",
   "execution_count": 42,
   "source": [
    "test_df = pd.read_csv(zip_file.open('test.csv'))\n",
    "\n",
    "col = ['Survived', 'Pclass', 'Sex', 'Age', 'SibSp',\n",
    "       'Parch','Fare', 'Embarked', ]\n",
    "\n",
    "test = test_df.filter(items=col).copy()\n",
    "\n",
    "\n",
    "#177 data points removed\n",
    "# test.dropna(inplace = True)\n",
    "# print(train_df.sample(50))\n",
    "\n",
    "EmbarkedMap = {\n",
    "       \"S\": 0,\n",
    "       \"C\": 1, \n",
    "       \"Q\": 2\n",
    "}\n",
    "# print(train_df[\"Embarked\"])\n",
    "Embarked = test[\"Embarked\"]\n",
    "NumericEmbarked = [EmbarkedMap[v] for v in Embarked]\n",
    "NumericSex = [0 if x == \"male\" else 1 for x in test[\"Sex\"]]\n",
    "test[\"NumericEmbarked\"] = NumericEmbarked\n",
    "test[\"NumericSex\"] = NumericSex\n",
    "test\n",
    "# train_df = pd.get_dummies(train_df)\n",
    "#train_df"
   ],
   "outputs": [
    {
     "output_type": "execute_result",
     "data": {
      "text/html": [
       "<div>\n",
       "<style scoped>\n",
       "    .dataframe tbody tr th:only-of-type {\n",
       "        vertical-align: middle;\n",
       "    }\n",
       "\n",
       "    .dataframe tbody tr th {\n",
       "        vertical-align: top;\n",
       "    }\n",
       "\n",
       "    .dataframe thead th {\n",
       "        text-align: right;\n",
       "    }\n",
       "</style>\n",
       "<table border=\"1\" class=\"dataframe\">\n",
       "  <thead>\n",
       "    <tr style=\"text-align: right;\">\n",
       "      <th></th>\n",
       "      <th>Pclass</th>\n",
       "      <th>Sex</th>\n",
       "      <th>Age</th>\n",
       "      <th>SibSp</th>\n",
       "      <th>Parch</th>\n",
       "      <th>Fare</th>\n",
       "      <th>Embarked</th>\n",
       "      <th>NumericEmbarked</th>\n",
       "      <th>NumericSex</th>\n",
       "    </tr>\n",
       "  </thead>\n",
       "  <tbody>\n",
       "    <tr>\n",
       "      <th>0</th>\n",
       "      <td>3</td>\n",
       "      <td>male</td>\n",
       "      <td>34.5</td>\n",
       "      <td>0</td>\n",
       "      <td>0</td>\n",
       "      <td>7.8292</td>\n",
       "      <td>Q</td>\n",
       "      <td>2</td>\n",
       "      <td>0</td>\n",
       "    </tr>\n",
       "    <tr>\n",
       "      <th>1</th>\n",
       "      <td>3</td>\n",
       "      <td>female</td>\n",
       "      <td>47.0</td>\n",
       "      <td>1</td>\n",
       "      <td>0</td>\n",
       "      <td>7.0000</td>\n",
       "      <td>S</td>\n",
       "      <td>0</td>\n",
       "      <td>1</td>\n",
       "    </tr>\n",
       "    <tr>\n",
       "      <th>2</th>\n",
       "      <td>2</td>\n",
       "      <td>male</td>\n",
       "      <td>62.0</td>\n",
       "      <td>0</td>\n",
       "      <td>0</td>\n",
       "      <td>9.6875</td>\n",
       "      <td>Q</td>\n",
       "      <td>2</td>\n",
       "      <td>0</td>\n",
       "    </tr>\n",
       "    <tr>\n",
       "      <th>3</th>\n",
       "      <td>3</td>\n",
       "      <td>male</td>\n",
       "      <td>27.0</td>\n",
       "      <td>0</td>\n",
       "      <td>0</td>\n",
       "      <td>8.6625</td>\n",
       "      <td>S</td>\n",
       "      <td>0</td>\n",
       "      <td>0</td>\n",
       "    </tr>\n",
       "    <tr>\n",
       "      <th>4</th>\n",
       "      <td>3</td>\n",
       "      <td>female</td>\n",
       "      <td>22.0</td>\n",
       "      <td>1</td>\n",
       "      <td>1</td>\n",
       "      <td>12.2875</td>\n",
       "      <td>S</td>\n",
       "      <td>0</td>\n",
       "      <td>1</td>\n",
       "    </tr>\n",
       "    <tr>\n",
       "      <th>...</th>\n",
       "      <td>...</td>\n",
       "      <td>...</td>\n",
       "      <td>...</td>\n",
       "      <td>...</td>\n",
       "      <td>...</td>\n",
       "      <td>...</td>\n",
       "      <td>...</td>\n",
       "      <td>...</td>\n",
       "      <td>...</td>\n",
       "    </tr>\n",
       "    <tr>\n",
       "      <th>413</th>\n",
       "      <td>3</td>\n",
       "      <td>male</td>\n",
       "      <td>NaN</td>\n",
       "      <td>0</td>\n",
       "      <td>0</td>\n",
       "      <td>8.0500</td>\n",
       "      <td>S</td>\n",
       "      <td>0</td>\n",
       "      <td>0</td>\n",
       "    </tr>\n",
       "    <tr>\n",
       "      <th>414</th>\n",
       "      <td>1</td>\n",
       "      <td>female</td>\n",
       "      <td>39.0</td>\n",
       "      <td>0</td>\n",
       "      <td>0</td>\n",
       "      <td>108.9000</td>\n",
       "      <td>C</td>\n",
       "      <td>1</td>\n",
       "      <td>1</td>\n",
       "    </tr>\n",
       "    <tr>\n",
       "      <th>415</th>\n",
       "      <td>3</td>\n",
       "      <td>male</td>\n",
       "      <td>38.5</td>\n",
       "      <td>0</td>\n",
       "      <td>0</td>\n",
       "      <td>7.2500</td>\n",
       "      <td>S</td>\n",
       "      <td>0</td>\n",
       "      <td>0</td>\n",
       "    </tr>\n",
       "    <tr>\n",
       "      <th>416</th>\n",
       "      <td>3</td>\n",
       "      <td>male</td>\n",
       "      <td>NaN</td>\n",
       "      <td>0</td>\n",
       "      <td>0</td>\n",
       "      <td>8.0500</td>\n",
       "      <td>S</td>\n",
       "      <td>0</td>\n",
       "      <td>0</td>\n",
       "    </tr>\n",
       "    <tr>\n",
       "      <th>417</th>\n",
       "      <td>3</td>\n",
       "      <td>male</td>\n",
       "      <td>NaN</td>\n",
       "      <td>1</td>\n",
       "      <td>1</td>\n",
       "      <td>22.3583</td>\n",
       "      <td>C</td>\n",
       "      <td>1</td>\n",
       "      <td>0</td>\n",
       "    </tr>\n",
       "  </tbody>\n",
       "</table>\n",
       "<p>418 rows × 9 columns</p>\n",
       "</div>"
      ],
      "text/plain": [
       "     Pclass     Sex   Age  SibSp  Parch      Fare Embarked  NumericEmbarked  \\\n",
       "0         3    male  34.5      0      0    7.8292        Q                2   \n",
       "1         3  female  47.0      1      0    7.0000        S                0   \n",
       "2         2    male  62.0      0      0    9.6875        Q                2   \n",
       "3         3    male  27.0      0      0    8.6625        S                0   \n",
       "4         3  female  22.0      1      1   12.2875        S                0   \n",
       "..      ...     ...   ...    ...    ...       ...      ...              ...   \n",
       "413       3    male   NaN      0      0    8.0500        S                0   \n",
       "414       1  female  39.0      0      0  108.9000        C                1   \n",
       "415       3    male  38.5      0      0    7.2500        S                0   \n",
       "416       3    male   NaN      0      0    8.0500        S                0   \n",
       "417       3    male   NaN      1      1   22.3583        C                1   \n",
       "\n",
       "     NumericSex  \n",
       "0             0  \n",
       "1             1  \n",
       "2             0  \n",
       "3             0  \n",
       "4             1  \n",
       "..          ...  \n",
       "413           0  \n",
       "414           1  \n",
       "415           0  \n",
       "416           0  \n",
       "417           0  \n",
       "\n",
       "[418 rows x 9 columns]"
      ]
     },
     "metadata": {},
     "execution_count": 42
    }
   ],
   "metadata": {}
  },
  {
   "cell_type": "code",
   "execution_count": null,
   "source": [],
   "outputs": [],
   "metadata": {}
  },
  {
   "cell_type": "code",
   "execution_count": 43,
   "source": [
    "from sklearn.preprocessing import StandardScaler \n",
    "scaler = StandardScaler()\n",
    "# feature_columns\n",
    "#train_df\n",
    "test[feature_columns]\n",
    "test[feature_columns] = scaler.fit_transform(test[feature_columns])\n",
    "test = test[feature_columns].copy()\n",
    "#y_train = test[target_column]"
   ],
   "outputs": [],
   "metadata": {}
  },
  {
   "cell_type": "code",
   "execution_count": 40,
   "source": [
    "print(len(test))"
   ],
   "outputs": [
    {
     "output_type": "stream",
     "name": "stdout",
     "text": [
      "87\n"
     ]
    }
   ],
   "metadata": {}
  },
  {
   "cell_type": "code",
   "execution_count": 44,
   "source": [
    "import matplotlib.pyplot as plt\n",
    "\n",
    "\n",
    "predictions = model.predict(test[feature_columns])\n",
    "\n",
    "def newRound(i):\n",
    "    if i>.5:\n",
    "        return 1\n",
    "    else:\n",
    "        return 0\n",
    "predictions = [newRound(x) for x in predictions]\n",
    "plt.hist(predictions)"
   ],
   "outputs": [
    {
     "output_type": "stream",
     "name": "stdout",
     "text": [
      "WARNING:tensorflow:Falling back from v2 loop because of error: Failed to find data adapter that can handle input: <class 'pandas.core.frame.DataFrame'>, <class 'NoneType'>\n"
     ]
    },
    {
     "output_type": "execute_result",
     "data": {
      "text/plain": [
       "(array([283.,   0.,   0.,   0.,   0.,   0.,   0.,   0.,   0., 135.]),\n",
       " array([0. , 0.1, 0.2, 0.3, 0.4, 0.5, 0.6, 0.7, 0.8, 0.9, 1. ]),\n",
       " <BarContainer object of 10 artists>)"
      ]
     },
     "metadata": {},
     "execution_count": 44
    },
    {
     "output_type": "display_data",
     "data": {
      "image/png": "[encoded data removed]",
      "text/plain": [
       "<Figure size 432x288 with 1 Axes>"
      ]
     },
     "metadata": {
      "needs_background": "light"
     }
    }
   ],
   "metadata": {}
  },
  {
   "cell_type": "code",
   "execution_count": null,
   "source": [],
   "outputs": [],
   "metadata": {}
  },
  {
   "cell_type": "markdown",
   "source": [
    "## Step 3: Make Predictions and Upload To Kaggle\n",
    "\n",
    "In this step you will make predictions on the features found in the `test.csv` file and upload them to Kaggle using the [Kaggle API](https://github.com/Kaggle/kaggle-api). Use as many text and code blocks as you need to explore the data. Note any findings."
   ],
   "metadata": {
    "colab_type": "text",
    "id": "yXJCSsAdz-f0"
   }
  },
  {
   "cell_type": "markdown",
   "source": [
    "**Student Solution**"
   ],
   "metadata": {
    "colab_type": "text",
    "id": "fijeUn4tIFCo"
   }
  },
  {
   "cell_type": "code",
   "execution_count": null,
   "source": [],
   "outputs": [],
   "metadata": {}
  },
  {
   "cell_type": "code",
   "execution_count": 45,
   "source": [
    "# test_df['PassengerId']\n",
    "# predictions\n",
    "submit_df = pd.DataFrame({\n",
    "    \"PassengerId\": test_df['PassengerId'],\n",
    "    \"Survived\": predictions\n",
    "})\n",
    "\n",
    "submit_df.to_csv(path_or_buf=\"./submission.csv\", index=False)\n"
   ],
   "outputs": [],
   "metadata": {}
  },
  {
   "cell_type": "code",
   "execution_count": 46,
   "source": [
    "! cat submission.csv | wc -l"
   ],
   "outputs": [
    {
     "output_type": "stream",
     "name": "stdout",
     "text": [
      "     419\n"
     ]
    }
   ],
   "metadata": {}
  },
  {
   "cell_type": "code",
   "execution_count": null,
   "source": [
    "\n",
    "\n",
    "# test_df.to_csv(path_or_buf= './submission.csv', index=False)"
   ],
   "outputs": [],
   "metadata": {
    "colab": {},
    "colab_type": "code",
    "id": "dEWZUCnT9UkK"
   }
  },
  {
   "cell_type": "code",
   "execution_count": 79,
   "source": [
    "!kaggle competitions submit -c titanic -f submission.csv -m \"Message\"\n"
   ],
   "outputs": [
    {
     "output_type": "stream",
     "name": "stdout",
     "text": [
      "100%|██████████████████████████████████████| 2.77k/2.77k [00:00<00:00, 3.46kB/s]\n",
      "Successfully submitted to Titanic - Machine Learning from Disaster"
     ]
    }
   ],
   "metadata": {}
  },
  {
   "cell_type": "code",
   "execution_count": 80,
   "source": [
    "!kaggle competitions submissions titanic"
   ],
   "outputs": [
    {
     "output_type": "stream",
     "name": "stdout",
     "text": [
      "fileName        date                 description  status    publicScore  privateScore  \n",
      "--------------  -------------------  -----------  --------  -----------  ------------  \n",
      "submission.csv  2021-06-30 19:52:56  Message      complete  0.71531      None          \n",
      "submission.csv  2021-06-30 19:51:20  Message      complete  0.74401      None          \n",
      "submission.csv  2021-06-30 19:50:06  Message      complete  0.75119      None          \n",
      "submission.csv  2021-06-30 19:48:01  Message      complete  0.76794      None          \n",
      "submission.csv  2021-06-30 19:37:47  Message      complete  0.74880      None          \n",
      "submission.csv  2021-06-30 19:35:33  Message      error     None         None          \n",
      "submission.csv  2021-06-30 19:33:30  Message      error     None         None          \n",
      "submission.csv  2021-06-30 18:18:30  None         error     None         None          \n"
     ]
    }
   ],
   "metadata": {}
  },
  {
   "cell_type": "code",
   "execution_count": null,
   "source": [],
   "outputs": [],
   "metadata": {}
  },
  {
   "cell_type": "code",
   "execution_count": null,
   "source": [
    "! head submission.csv"
   ],
   "outputs": [
    {
     "output_type": "stream",
     "name": "stdout",
     "text": [
      "PassengerId,Pclass,Name,Sex,Age,SibSp,Parch,Ticket,Fare,Cabin,Embarked\n",
      "892,3,\"Kelly, Mr. James\",male,34.5,0,0,330911,7.8292,,Q\n",
      "893,3,\"Wilkes, Mrs. James (Ellen Needs)\",female,47.0,1,0,363272,7.0,,S\n",
      "894,2,\"Myles, Mr. Thomas Francis\",male,62.0,0,0,240276,9.6875,,Q\n",
      "895,3,\"Wirz, Mr. Albert\",male,27.0,0,0,315154,8.6625,,S\n",
      "896,3,\"Hirvonen, Mrs. Alexander (Helga E Lindqvist)\",female,22.0,1,1,3101298,12.2875,,S\n",
      "897,3,\"Svensson, Mr. Johan Cervin\",male,14.0,0,0,7538,9.225,,S\n",
      "898,3,\"Connolly, Miss. Kate\",female,30.0,0,0,330972,7.6292,,Q\n",
      "899,2,\"Caldwell, Mr. Albert Francis\",male,26.0,1,1,248738,29.0,,S\n",
      "900,3,\"Abrahim, Mrs. Joseph (Sophie Halaut Easu)\",female,18.0,0,0,2657,7.2292,,C\n"
     ]
    }
   ],
   "metadata": {}
  },
  {
   "cell_type": "markdown",
   "source": [
    "What was your Kaggle score?"
   ],
   "metadata": {
    "colab_type": "text",
    "id": "fRZni-CBVjFV"
   }
  },
  {
   "cell_type": "markdown",
   "source": [
    "> 75"
   ],
   "metadata": {
    "colab_type": "text",
    "id": "jjN-tBAP6kM7"
   }
  },
  {
   "cell_type": "markdown",
   "source": [
    "---"
   ],
   "metadata": {
    "colab_type": "text",
    "id": "fSw1rDKv6nOO"
   }
  },
  {
   "cell_type": "markdown",
   "source": [
    "## Step 4: Iterate on Your Model\n",
    "\n",
    "In this step you're encouraged to play around with your model settings and to even try different models. See if you can get a better score. Use as many text and code blocks as you need to explore the data. Note any findings."
   ],
   "metadata": {
    "colab_type": "text",
    "id": "9KdtnUJP2Uen"
   }
  },
  {
   "cell_type": "markdown",
   "source": [],
   "metadata": {
    "colab_type": "text",
    "id": "w5rYKVkgT8NL"
   }
  },
  {
   "cell_type": "code",
   "execution_count": 68,
   "source": [
    "model = tf.keras.Sequential([\n",
    "    tf.keras.layers.Dense(64, activation=tf.nn.leaky_relu, \n",
    "                          input_shape=(X_train.columns.size,)),\n",
    "    tf.keras.layers.Dense(32, activation=tf.nn.leaky_relu),\n",
    "    tf.keras.layers.Dense(16, activation=tf.nn.leaky_relu),\n",
    "    tf.keras.layers.Dense(1, activation=tf.nn.sigmoid)\n",
    "])"
   ],
   "outputs": [],
   "metadata": {}
  },
  {
   "cell_type": "code",
   "execution_count": 69,
   "source": [
    "model.compile(\n",
    "    loss='binary_crossentropy',\n",
    "    optimizer='Adam',\n",
    "    metrics=['accuracy']\n",
    ")"
   ],
   "outputs": [],
   "metadata": {}
  },
  {
   "cell_type": "code",
   "execution_count": 70,
   "source": [
    "es = tf.keras.callbacks.EarlyStopping(\n",
    "    monitor='loss',\n",
    "    min_delta=1e-3,\n",
    "    patience=5\n",
    ")\n",
    "\n",
    "complete_model = model.fit(\n",
    "    X_train,\n",
    "    y_train,\n",
    "    epochs=500,\n",
    "    verbose=2,\n",
    "    callbacks=[es]\n",
    ")\n",
    "\n",
    "print(complete_model.history['accuracy'][-1])"
   ],
   "outputs": [
    {
     "output_type": "stream",
     "name": "stdout",
     "text": [
      "WARNING:tensorflow:Falling back from v2 loop because of error: Failed to find data adapter that can handle input: <class 'pandas.core.frame.DataFrame'>, <class 'NoneType'>\n",
      "Train on 712 samples\n",
      "Epoch 1/500\n",
      "712/712 - 0s - loss: 0.6352 - accuracy: 0.7008\n",
      "Epoch 2/500\n",
      "712/712 - 0s - loss: 0.5252 - accuracy: 0.8034\n",
      "Epoch 3/500\n",
      "712/712 - 0s - loss: 0.4687 - accuracy: 0.7992\n",
      "Epoch 4/500\n",
      "712/712 - 0s - loss: 0.4399 - accuracy: 0.8118\n",
      "Epoch 5/500\n",
      "712/712 - 0s - loss: 0.4272 - accuracy: 0.8160\n",
      "Epoch 6/500\n",
      "712/712 - 0s - loss: 0.4196 - accuracy: 0.8244\n",
      "Epoch 7/500\n",
      "712/712 - 0s - loss: 0.4142 - accuracy: 0.8301\n",
      "Epoch 8/500\n",
      "712/712 - 0s - loss: 0.4118 - accuracy: 0.8315\n",
      "Epoch 9/500\n",
      "712/712 - 0s - loss: 0.4054 - accuracy: 0.8287\n",
      "Epoch 10/500\n",
      "712/712 - 0s - loss: 0.4047 - accuracy: 0.8329\n",
      "Epoch 11/500\n",
      "712/712 - 0s - loss: 0.4011 - accuracy: 0.8272\n",
      "Epoch 12/500\n",
      "712/712 - 0s - loss: 0.3990 - accuracy: 0.8287\n",
      "Epoch 13/500\n",
      "712/712 - 0s - loss: 0.3981 - accuracy: 0.8357\n",
      "Epoch 14/500\n",
      "712/712 - 0s - loss: 0.3976 - accuracy: 0.8441\n",
      "Epoch 15/500\n",
      "712/712 - 0s - loss: 0.3929 - accuracy: 0.8343\n",
      "Epoch 16/500\n",
      "712/712 - 0s - loss: 0.3912 - accuracy: 0.8343\n",
      "Epoch 17/500\n",
      "712/712 - 0s - loss: 0.3897 - accuracy: 0.8371\n",
      "Epoch 18/500\n",
      "712/712 - 0s - loss: 0.3887 - accuracy: 0.8399\n",
      "Epoch 19/500\n",
      "712/712 - 0s - loss: 0.3847 - accuracy: 0.8427\n",
      "Epoch 20/500\n",
      "712/712 - 0s - loss: 0.3837 - accuracy: 0.8385\n",
      "Epoch 21/500\n",
      "712/712 - 0s - loss: 0.3826 - accuracy: 0.8371\n",
      "Epoch 22/500\n",
      "712/712 - 0s - loss: 0.3804 - accuracy: 0.8455\n",
      "Epoch 23/500\n",
      "712/712 - 0s - loss: 0.3819 - accuracy: 0.8399\n",
      "Epoch 24/500\n",
      "712/712 - 0s - loss: 0.3789 - accuracy: 0.8399\n",
      "Epoch 25/500\n",
      "712/712 - 0s - loss: 0.3776 - accuracy: 0.8413\n",
      "Epoch 26/500\n",
      "712/712 - 0s - loss: 0.3759 - accuracy: 0.8469\n",
      "Epoch 27/500\n",
      "712/712 - 0s - loss: 0.3753 - accuracy: 0.8455\n",
      "Epoch 28/500\n",
      "712/712 - 0s - loss: 0.3772 - accuracy: 0.8413\n",
      "Epoch 29/500\n",
      "712/712 - 0s - loss: 0.3748 - accuracy: 0.8497\n",
      "Epoch 30/500\n",
      "712/712 - 0s - loss: 0.3720 - accuracy: 0.8469\n",
      "Epoch 31/500\n",
      "712/712 - 0s - loss: 0.3724 - accuracy: 0.8427\n",
      "Epoch 32/500\n",
      "712/712 - 0s - loss: 0.3726 - accuracy: 0.8413\n",
      "Epoch 33/500\n",
      "712/712 - 0s - loss: 0.3661 - accuracy: 0.8539\n",
      "Epoch 34/500\n",
      "712/712 - 0s - loss: 0.3671 - accuracy: 0.8483\n",
      "Epoch 35/500\n",
      "712/712 - 0s - loss: 0.3654 - accuracy: 0.8469\n",
      "Epoch 36/500\n",
      "712/712 - 0s - loss: 0.3641 - accuracy: 0.8427\n",
      "Epoch 37/500\n",
      "712/712 - 0s - loss: 0.3624 - accuracy: 0.8525\n",
      "Epoch 38/500\n",
      "712/712 - 0s - loss: 0.3627 - accuracy: 0.8455\n",
      "Epoch 39/500\n",
      "712/712 - 0s - loss: 0.3623 - accuracy: 0.8413\n",
      "Epoch 40/500\n",
      "712/712 - 0s - loss: 0.3620 - accuracy: 0.8497\n",
      "Epoch 41/500\n",
      "712/712 - 0s - loss: 0.3604 - accuracy: 0.8539\n",
      "Epoch 42/500\n",
      "712/712 - 0s - loss: 0.3567 - accuracy: 0.8539\n",
      "Epoch 43/500\n",
      "712/712 - 0s - loss: 0.3576 - accuracy: 0.8511\n",
      "Epoch 44/500\n",
      "712/712 - 0s - loss: 0.3550 - accuracy: 0.8525\n",
      "Epoch 45/500\n",
      "712/712 - 0s - loss: 0.3543 - accuracy: 0.8525\n",
      "Epoch 46/500\n",
      "712/712 - 0s - loss: 0.3513 - accuracy: 0.8553\n",
      "Epoch 47/500\n",
      "712/712 - 0s - loss: 0.3498 - accuracy: 0.8539\n",
      "Epoch 48/500\n",
      "712/712 - 0s - loss: 0.3526 - accuracy: 0.8525\n",
      "Epoch 49/500\n",
      "712/712 - 0s - loss: 0.3530 - accuracy: 0.8497\n",
      "Epoch 50/500\n",
      "712/712 - 0s - loss: 0.3481 - accuracy: 0.8567\n",
      "Epoch 51/500\n",
      "712/712 - 0s - loss: 0.3488 - accuracy: 0.8469\n",
      "Epoch 52/500\n",
      "712/712 - 0s - loss: 0.3572 - accuracy: 0.8581\n",
      "Epoch 53/500\n",
      "712/712 - 0s - loss: 0.3614 - accuracy: 0.8413\n",
      "Epoch 54/500\n",
      "712/712 - 0s - loss: 0.3526 - accuracy: 0.8441\n",
      "Epoch 55/500\n",
      "712/712 - 0s - loss: 0.3434 - accuracy: 0.8553\n",
      "Epoch 56/500\n",
      "712/712 - 0s - loss: 0.3439 - accuracy: 0.8596\n",
      "Epoch 57/500\n",
      "712/712 - 0s - loss: 0.3439 - accuracy: 0.8497\n",
      "Epoch 58/500\n",
      "712/712 - 0s - loss: 0.3451 - accuracy: 0.8511\n",
      "Epoch 59/500\n",
      "712/712 - 0s - loss: 0.3405 - accuracy: 0.8581\n",
      "Epoch 60/500\n",
      "712/712 - 0s - loss: 0.3453 - accuracy: 0.8511\n",
      "Epoch 61/500\n",
      "712/712 - 0s - loss: 0.3397 - accuracy: 0.8525\n",
      "Epoch 62/500\n",
      "712/712 - 0s - loss: 0.3406 - accuracy: 0.8666\n",
      "Epoch 63/500\n",
      "712/712 - 0s - loss: 0.3409 - accuracy: 0.8638\n",
      "Epoch 64/500\n",
      "712/712 - 0s - loss: 0.3369 - accuracy: 0.8624\n",
      "Epoch 65/500\n",
      "712/712 - 0s - loss: 0.3355 - accuracy: 0.8638\n",
      "Epoch 66/500\n",
      "712/712 - 0s - loss: 0.3370 - accuracy: 0.8610\n",
      "Epoch 67/500\n",
      "712/712 - 0s - loss: 0.3351 - accuracy: 0.8581\n",
      "Epoch 68/500\n",
      "712/712 - 0s - loss: 0.3357 - accuracy: 0.8567\n",
      "Epoch 69/500\n",
      "712/712 - 0s - loss: 0.3359 - accuracy: 0.8483\n",
      "Epoch 70/500\n",
      "712/712 - 0s - loss: 0.3462 - accuracy: 0.8525\n",
      "0.8525281\n"
     ]
    }
   ],
   "metadata": {
    "colab": {},
    "colab_type": "code",
    "id": "MDEErS0f8oi7"
   }
  },
  {
   "cell_type": "code",
   "execution_count": 81,
   "source": [
    "predictions = model.predict(test[feature_columns])\n",
    "\n",
    "def newRound(i):\n",
    "    if i>.5:\n",
    "        return 1\n",
    "    else:\n",
    "        return 0\n",
    "predictions = [newRound(x) for x in predictions]\n",
    "plt.hist(predictions)"
   ],
   "outputs": [
    {
     "output_type": "stream",
     "name": "stdout",
     "text": [
      "WARNING:tensorflow:Falling back from v2 loop because of error: Failed to find data adapter that can handle input: <class 'pandas.core.frame.DataFrame'>, <class 'NoneType'>\n"
     ]
    },
    {
     "output_type": "execute_result",
     "data": {
      "text/plain": [
       "(array([269.,   0.,   0.,   0.,   0.,   0.,   0.,   0.,   0., 149.]),\n",
       " array([0. , 0.1, 0.2, 0.3, 0.4, 0.5, 0.6, 0.7, 0.8, 0.9, 1. ]),\n",
       " <BarContainer object of 10 artists>)"
      ]
     },
     "metadata": {},
     "execution_count": 81
    },
    {
     "output_type": "display_data",
     "data": {
      "image/png": "[encoded data removed]",
      "text/plain": [
       "<Figure size 432x288 with 1 Axes>"
      ]
     },
     "metadata": {
      "needs_background": "light"
     }
    }
   ],
   "metadata": {}
  },
  {
   "cell_type": "code",
   "execution_count": 78,
   "source": [
    "submit_df = pd.DataFrame({\n",
    "    \"PassengerId\": test_df['PassengerId'],\n",
    "    \"Survived\": predictions\n",
    "})\n",
    "\n",
    "submit_df.to_csv(path_or_buf=\"./submission.csv\", index=False)"
   ],
   "outputs": [],
   "metadata": {}
  },
  {
   "cell_type": "markdown",
   "source": [
    "### Conclusion"
   ],
   "metadata": {}
  },
  {
   "cell_type": "markdown",
   "source": [
    "The original model implemented return a kaggle score of 75. After iterating through hyperparameters for the model used, changing the activation  function to `leaky model`. This returned a kaggle score of 77."
   ],
   "metadata": {}
  },
  {
   "cell_type": "markdown",
   "source": [
    "---"
   ],
   "metadata": {
    "colab_type": "text",
    "id": "QkyT_lz6_K7E"
   }
  }
 ],
 "metadata": {
  "colab": {
   "collapsed_sections": [
    "copyright",
    "xSJsNKccqC15",
    "exercise-1-key-1",
    "exercise-2-key-1",
    "exercise-3-key-1"
   ],
   "include_colab_link": true,
   "name": "Basic Classification Project",
   "private_outputs": true,
   "provenance": [],
   "toc_visible": true
  },
  "interpreter": {
   "hash": "31f2aee4e71d21fbe5cf8b01ff0e069b9275f58929596ceb00d14d90e3e16cd6"
  },
  "kernelspec": {
   "display_name": "Python 3.8.2 64-bit",
   "name": "python3"
  },
  "language_info": {
   "codemirror_mode": {
    "name": "ipython",
    "version": 3
   },
   "file_extension": ".py",
   "mimetype": "text/x-python",
   "name": "python",
   "nbconvert_exporter": "python",
   "pygments_lexer": "ipython3",
   "version": "3.7.10"
  }
 },
 "nbformat": 4,
 "nbformat_minor": 2
}