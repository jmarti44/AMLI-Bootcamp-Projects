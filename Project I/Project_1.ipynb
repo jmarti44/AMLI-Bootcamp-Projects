{
  "nbformat": 4,
  "nbformat_minor": 0,
  "metadata": {
    "colab": {
      "name": "Team 5 Project 1.ipynb",
      "provenance": [],
      "collapsed_sections": [
        "nnmt_-mKWCl0"
      ],
      "toc_visible": true
    },
    "kernelspec": {
      "display_name": "Python [conda env:root] *",
      "language": "python",
      "name": "conda-root-py"
    },
    "language_info": {
      "codemirror_mode": {
        "name": "ipython",
        "version": 2
      },
      "file_extension": ".py",
      "mimetype": "text/x-python",
      "name": "python",
      "nbconvert_exporter": "python",
      "pygments_lexer": "ipython2",
      "version": "2.7.16"
    }
  },
  "cells": [
    {
      "cell_type": "markdown",
      "metadata": {
        "id": "view-in-github"
      },
      "source": [
        "<a href=\"https://colab.research.google.com/github/google/applied-machine-learning-intensive/blob/master/content/02_data/06_project_data_processing/colab.ipynb\" target=\"_parent\"><img src=\"https://colab.research.google.com/assets/colab-badge.svg\" alt=\"Open In Colab\"/></a>"
      ]
    },
    {
      "cell_type": "markdown",
      "metadata": {
        "id": "tdwkF35IJFGj"
      },
      "source": [
        "# <center>Project 1 <center>"
      ]
    },
    {
      "cell_type": "markdown",
      "metadata": {
        "id": "_FdRu8E0F6EJ"
      },
      "source": [
        "# Dataset Exploration\n"
      ]
    },
    {
      "cell_type": "markdown",
      "metadata": {
        "id": "Mm5d3zEpKE00"
      },
      "source": [
        "For this project you will be given a dataset and an associated problem. Over the course of the day, you will explore the dataset and train the best model you can in order to solve the problem. At the end of the day, you will give a short presentation about your model and solution."
      ]
    },
    {
      "cell_type": "markdown",
      "metadata": {
        "id": "Nb9YD_6cWefp"
      },
      "source": [
        "### Deliverables\n",
        "\n",
        "1. A **copy of this Colab notebook** containing your code and responses to the ethical considerations below.\n",
        "1. At the end of the day, we will ask you and your group to stand in front of the class and give a brief **presentation about what you have done**. "
      ]
    },
    {
      "cell_type": "markdown",
      "metadata": {
        "id": "JzEoFw-TPi7r"
      },
      "source": [
        "## Team\n",
        "\n",
        "Please enter your team members' names in the placeholders in this text area:\n",
        "\n",
        "*   *Wren Priest*\n",
        "*   *Jose Martinez*\n",
        "*   *Maria Quintero-Pena*\n",
        "\n",
        "\n"
      ]
    },
    {
      "cell_type": "markdown",
      "metadata": {
        "id": "a0-9HPLU43Xf"
      },
      "source": [
        "# Exercises"
      ]
    },
    {
      "cell_type": "markdown",
      "metadata": {
        "id": "8rqFJ-Ch4_mU"
      },
      "source": [
        "## Exercise 1: Coding"
      ]
    },
    {
      "cell_type": "markdown",
      "metadata": {
        "id": "cr12EFb2WQym"
      },
      "source": [
        "[Kaggle](http://www.kaggle.com) hosts a [dataset containing US airline on-time statistics and delay data](https://www.kaggle.com/giovamata/airlinedelaycauses) from the [US Department of Transportation's Bureau of Transportation Statistics (BTS)](https://www.bts.gov/). In this project, we will **use flight statistics data to gain insights into US airports' and airlines' flights in 2008.**\n",
        "\n",
        "You are free to use any toolkit we've covered in class to solve the problem (e.g. Pandas, Matplotlib, Seaborn).\n",
        "\n",
        "Demonstrations of competency:\n",
        "1. Get the data into a Python object.\n",
        "1. Inspect the data for each column's data type and summary statistics.\n",
        "1. Explore the data programmatically and visually.\n",
        "1. Produce an answer and visualization, where applicable, for at least three questions from the list below, and discuss any relevant insights. Feel free to generate and answer some of your own questions. \n",
        "\n",
        "  * Which U.S. airport is the busiest airport? You can decide how you'd like to measure \"business\" (e.g., annually, monthly, daily).\n",
        "  * Of the 2008 flights that are *actually delayed*, think about:\n",
        "    * Which 10 U.S. airlines have the most delays?\n",
        "    * Which 10 U.S. airlines have the longest average delay time?\n",
        "    * Which 10 U.S. airports have the most delays?\n",
        "    * Which 10 U.S. airports have the longest average delay time?\n",
        "  * More analysis:\n",
        "    * Are there patterns on how flight delays are distributed across different hours of the day?\n",
        "    * How about across months or seasons? Can you think of any reasons for these seasonal delays?\n",
        "    * If you look at average delay time or number of delays by airport, does the data show linearity? Does any subset of the data show linearity?\n",
        "    * Add reason for delay to your delay analysis above.\n",
        "    * Examine flight frequencies, delays, time of day or year, etc. for a specific airport, airline or origin-arrival airport pair."
      ]
    },
    {
      "cell_type": "markdown",
      "metadata": {
        "id": "WgFU38b7rfbv"
      },
      "source": [
        "### Student Solution"
      ]
    },
    {
      "cell_type": "markdown",
      "metadata": {
        "id": "nnmt_-mKWCl0"
      },
      "source": [
        "#### **Imports**"
      ]
    },
    {
      "cell_type": "code",
      "metadata": {
        "id": "96VB-RLFV1rZ"
      },
      "source": [
        "import pandas as pd\n",
        "import matplotlib.pyplot as plt\n",
        "import seaborn as sns\n",
        "import zipfile"
      ],
      "execution_count": null,
      "outputs": []
    },
    {
      "cell_type": "markdown",
      "metadata": {
        "id": "TWKiO6eKVrVK"
      },
      "source": [
        "#### **1. Get the data into a Python object.**"
      ]
    },
    {
      "cell_type": "code",
      "metadata": {
        "id": "zXZPTjY8VOLV",
        "colab": {
          "base_uri": "https://localhost:8080/"
        },
        "outputId": "dd811d89-30ac-41ce-aaa4-4b63f9691675"
      },
      "source": [
        "# Use Kaggle API to download airlinedelaycauses.zip\n",
        "! cp ~/.kaggle/kaggle.json .\n",
        "! chmod 600 kaggle.json && (ls ~/.kaggle 2>/dev/null || mkdir ~/.kaggle) && mv kaggle.json ~/.kaggle/ && echo 'Done'\n",
        "! kaggle datasets download giovamata/airlinedelaycauses\n",
        "! ls"
      ],
      "execution_count": null,
      "outputs": [
        {
          "output_type": "stream",
          "text": [
            "kaggle.json\n",
            "Done\n",
            "401 - Unauthorized\n",
            "airlinedelaycauses.zip\tsample_data\n"
          ],
          "name": "stdout"
        }
      ]
    },
    {
      "cell_type": "code",
      "metadata": {
        "id": "E7sCQHy8VxY0",
        "colab": {
          "base_uri": "https://localhost:8080/",
          "height": 456
        },
        "outputId": "3f2d7fca-806e-4303-ef0a-c4069eafa145"
      },
      "source": [
        "# unzip airlinedelaycauses.zip\n",
        "zf = zipfile.ZipFile('airlinedelaycauses.zip')\n",
        "\n",
        "# read into df\n",
        "df = pd.read_csv(zf.open('DelayedFlights.csv'))\n",
        "df"
      ],
      "execution_count": null,
      "outputs": [
        {
          "output_type": "execute_result",
          "data": {
            "text/html": [
              "<div>\n",
              "<style scoped>\n",
              "    .dataframe tbody tr th:only-of-type {\n",
              "        vertical-align: middle;\n",
              "    }\n",
              "\n",
              "    .dataframe tbody tr th {\n",
              "        vertical-align: top;\n",
              "    }\n",
              "\n",
              "    .dataframe thead th {\n",
              "        text-align: right;\n",
              "    }\n",
              "</style>\n",
              "<table border=\"1\" class=\"dataframe\">\n",
              "  <thead>\n",
              "    <tr style=\"text-align: right;\">\n",
              "      <th></th>\n",
              "      <th>Unnamed: 0</th>\n",
              "      <th>Year</th>\n",
              "      <th>Month</th>\n",
              "      <th>DayofMonth</th>\n",
              "      <th>DayOfWeek</th>\n",
              "      <th>DepTime</th>\n",
              "      <th>CRSDepTime</th>\n",
              "      <th>ArrTime</th>\n",
              "      <th>CRSArrTime</th>\n",
              "      <th>UniqueCarrier</th>\n",
              "      <th>FlightNum</th>\n",
              "      <th>TailNum</th>\n",
              "      <th>ActualElapsedTime</th>\n",
              "      <th>CRSElapsedTime</th>\n",
              "      <th>AirTime</th>\n",
              "      <th>ArrDelay</th>\n",
              "      <th>DepDelay</th>\n",
              "      <th>Origin</th>\n",
              "      <th>Dest</th>\n",
              "      <th>Distance</th>\n",
              "      <th>TaxiIn</th>\n",
              "      <th>TaxiOut</th>\n",
              "      <th>Cancelled</th>\n",
              "      <th>CancellationCode</th>\n",
              "      <th>Diverted</th>\n",
              "      <th>CarrierDelay</th>\n",
              "      <th>WeatherDelay</th>\n",
              "      <th>NASDelay</th>\n",
              "      <th>SecurityDelay</th>\n",
              "      <th>LateAircraftDelay</th>\n",
              "    </tr>\n",
              "  </thead>\n",
              "  <tbody>\n",
              "    <tr>\n",
              "      <th>0</th>\n",
              "      <td>0</td>\n",
              "      <td>2008</td>\n",
              "      <td>1</td>\n",
              "      <td>3</td>\n",
              "      <td>4</td>\n",
              "      <td>2003.0</td>\n",
              "      <td>1955</td>\n",
              "      <td>2211.0</td>\n",
              "      <td>2225</td>\n",
              "      <td>WN</td>\n",
              "      <td>335</td>\n",
              "      <td>N712SW</td>\n",
              "      <td>128.0</td>\n",
              "      <td>150.0</td>\n",
              "      <td>116.0</td>\n",
              "      <td>-14.0</td>\n",
              "      <td>8.0</td>\n",
              "      <td>IAD</td>\n",
              "      <td>TPA</td>\n",
              "      <td>810</td>\n",
              "      <td>4.0</td>\n",
              "      <td>8.0</td>\n",
              "      <td>0</td>\n",
              "      <td>N</td>\n",
              "      <td>0</td>\n",
              "      <td>NaN</td>\n",
              "      <td>NaN</td>\n",
              "      <td>NaN</td>\n",
              "      <td>NaN</td>\n",
              "      <td>NaN</td>\n",
              "    </tr>\n",
              "    <tr>\n",
              "      <th>1</th>\n",
              "      <td>1</td>\n",
              "      <td>2008</td>\n",
              "      <td>1</td>\n",
              "      <td>3</td>\n",
              "      <td>4</td>\n",
              "      <td>754.0</td>\n",
              "      <td>735</td>\n",
              "      <td>1002.0</td>\n",
              "      <td>1000</td>\n",
              "      <td>WN</td>\n",
              "      <td>3231</td>\n",
              "      <td>N772SW</td>\n",
              "      <td>128.0</td>\n",
              "      <td>145.0</td>\n",
              "      <td>113.0</td>\n",
              "      <td>2.0</td>\n",
              "      <td>19.0</td>\n",
              "      <td>IAD</td>\n",
              "      <td>TPA</td>\n",
              "      <td>810</td>\n",
              "      <td>5.0</td>\n",
              "      <td>10.0</td>\n",
              "      <td>0</td>\n",
              "      <td>N</td>\n",
              "      <td>0</td>\n",
              "      <td>NaN</td>\n",
              "      <td>NaN</td>\n",
              "      <td>NaN</td>\n",
              "      <td>NaN</td>\n",
              "      <td>NaN</td>\n",
              "    </tr>\n",
              "    <tr>\n",
              "      <th>2</th>\n",
              "      <td>2</td>\n",
              "      <td>2008</td>\n",
              "      <td>1</td>\n",
              "      <td>3</td>\n",
              "      <td>4</td>\n",
              "      <td>628.0</td>\n",
              "      <td>620</td>\n",
              "      <td>804.0</td>\n",
              "      <td>750</td>\n",
              "      <td>WN</td>\n",
              "      <td>448</td>\n",
              "      <td>N428WN</td>\n",
              "      <td>96.0</td>\n",
              "      <td>90.0</td>\n",
              "      <td>76.0</td>\n",
              "      <td>14.0</td>\n",
              "      <td>8.0</td>\n",
              "      <td>IND</td>\n",
              "      <td>BWI</td>\n",
              "      <td>515</td>\n",
              "      <td>3.0</td>\n",
              "      <td>17.0</td>\n",
              "      <td>0</td>\n",
              "      <td>N</td>\n",
              "      <td>0</td>\n",
              "      <td>NaN</td>\n",
              "      <td>NaN</td>\n",
              "      <td>NaN</td>\n",
              "      <td>NaN</td>\n",
              "      <td>NaN</td>\n",
              "    </tr>\n",
              "    <tr>\n",
              "      <th>3</th>\n",
              "      <td>4</td>\n",
              "      <td>2008</td>\n",
              "      <td>1</td>\n",
              "      <td>3</td>\n",
              "      <td>4</td>\n",
              "      <td>1829.0</td>\n",
              "      <td>1755</td>\n",
              "      <td>1959.0</td>\n",
              "      <td>1925</td>\n",
              "      <td>WN</td>\n",
              "      <td>3920</td>\n",
              "      <td>N464WN</td>\n",
              "      <td>90.0</td>\n",
              "      <td>90.0</td>\n",
              "      <td>77.0</td>\n",
              "      <td>34.0</td>\n",
              "      <td>34.0</td>\n",
              "      <td>IND</td>\n",
              "      <td>BWI</td>\n",
              "      <td>515</td>\n",
              "      <td>3.0</td>\n",
              "      <td>10.0</td>\n",
              "      <td>0</td>\n",
              "      <td>N</td>\n",
              "      <td>0</td>\n",
              "      <td>2.0</td>\n",
              "      <td>0.0</td>\n",
              "      <td>0.0</td>\n",
              "      <td>0.0</td>\n",
              "      <td>32.0</td>\n",
              "    </tr>\n",
              "    <tr>\n",
              "      <th>4</th>\n",
              "      <td>5</td>\n",
              "      <td>2008</td>\n",
              "      <td>1</td>\n",
              "      <td>3</td>\n",
              "      <td>4</td>\n",
              "      <td>1940.0</td>\n",
              "      <td>1915</td>\n",
              "      <td>2121.0</td>\n",
              "      <td>2110</td>\n",
              "      <td>WN</td>\n",
              "      <td>378</td>\n",
              "      <td>N726SW</td>\n",
              "      <td>101.0</td>\n",
              "      <td>115.0</td>\n",
              "      <td>87.0</td>\n",
              "      <td>11.0</td>\n",
              "      <td>25.0</td>\n",
              "      <td>IND</td>\n",
              "      <td>JAX</td>\n",
              "      <td>688</td>\n",
              "      <td>4.0</td>\n",
              "      <td>10.0</td>\n",
              "      <td>0</td>\n",
              "      <td>N</td>\n",
              "      <td>0</td>\n",
              "      <td>NaN</td>\n",
              "      <td>NaN</td>\n",
              "      <td>NaN</td>\n",
              "      <td>NaN</td>\n",
              "      <td>NaN</td>\n",
              "    </tr>\n",
              "    <tr>\n",
              "      <th>...</th>\n",
              "      <td>...</td>\n",
              "      <td>...</td>\n",
              "      <td>...</td>\n",
              "      <td>...</td>\n",
              "      <td>...</td>\n",
              "      <td>...</td>\n",
              "      <td>...</td>\n",
              "      <td>...</td>\n",
              "      <td>...</td>\n",
              "      <td>...</td>\n",
              "      <td>...</td>\n",
              "      <td>...</td>\n",
              "      <td>...</td>\n",
              "      <td>...</td>\n",
              "      <td>...</td>\n",
              "      <td>...</td>\n",
              "      <td>...</td>\n",
              "      <td>...</td>\n",
              "      <td>...</td>\n",
              "      <td>...</td>\n",
              "      <td>...</td>\n",
              "      <td>...</td>\n",
              "      <td>...</td>\n",
              "      <td>...</td>\n",
              "      <td>...</td>\n",
              "      <td>...</td>\n",
              "      <td>...</td>\n",
              "      <td>...</td>\n",
              "      <td>...</td>\n",
              "      <td>...</td>\n",
              "    </tr>\n",
              "    <tr>\n",
              "      <th>1936753</th>\n",
              "      <td>7009710</td>\n",
              "      <td>2008</td>\n",
              "      <td>12</td>\n",
              "      <td>13</td>\n",
              "      <td>6</td>\n",
              "      <td>1250.0</td>\n",
              "      <td>1220</td>\n",
              "      <td>1617.0</td>\n",
              "      <td>1552</td>\n",
              "      <td>DL</td>\n",
              "      <td>1621</td>\n",
              "      <td>N938DL</td>\n",
              "      <td>147.0</td>\n",
              "      <td>152.0</td>\n",
              "      <td>120.0</td>\n",
              "      <td>25.0</td>\n",
              "      <td>30.0</td>\n",
              "      <td>MSP</td>\n",
              "      <td>ATL</td>\n",
              "      <td>906</td>\n",
              "      <td>9.0</td>\n",
              "      <td>18.0</td>\n",
              "      <td>0</td>\n",
              "      <td>N</td>\n",
              "      <td>0</td>\n",
              "      <td>3.0</td>\n",
              "      <td>0.0</td>\n",
              "      <td>0.0</td>\n",
              "      <td>0.0</td>\n",
              "      <td>22.0</td>\n",
              "    </tr>\n",
              "    <tr>\n",
              "      <th>1936754</th>\n",
              "      <td>7009717</td>\n",
              "      <td>2008</td>\n",
              "      <td>12</td>\n",
              "      <td>13</td>\n",
              "      <td>6</td>\n",
              "      <td>657.0</td>\n",
              "      <td>600</td>\n",
              "      <td>904.0</td>\n",
              "      <td>749</td>\n",
              "      <td>DL</td>\n",
              "      <td>1631</td>\n",
              "      <td>N3743H</td>\n",
              "      <td>127.0</td>\n",
              "      <td>109.0</td>\n",
              "      <td>78.0</td>\n",
              "      <td>75.0</td>\n",
              "      <td>57.0</td>\n",
              "      <td>RIC</td>\n",
              "      <td>ATL</td>\n",
              "      <td>481</td>\n",
              "      <td>15.0</td>\n",
              "      <td>34.0</td>\n",
              "      <td>0</td>\n",
              "      <td>N</td>\n",
              "      <td>0</td>\n",
              "      <td>0.0</td>\n",
              "      <td>57.0</td>\n",
              "      <td>18.0</td>\n",
              "      <td>0.0</td>\n",
              "      <td>0.0</td>\n",
              "    </tr>\n",
              "    <tr>\n",
              "      <th>1936755</th>\n",
              "      <td>7009718</td>\n",
              "      <td>2008</td>\n",
              "      <td>12</td>\n",
              "      <td>13</td>\n",
              "      <td>6</td>\n",
              "      <td>1007.0</td>\n",
              "      <td>847</td>\n",
              "      <td>1149.0</td>\n",
              "      <td>1010</td>\n",
              "      <td>DL</td>\n",
              "      <td>1631</td>\n",
              "      <td>N909DA</td>\n",
              "      <td>162.0</td>\n",
              "      <td>143.0</td>\n",
              "      <td>122.0</td>\n",
              "      <td>99.0</td>\n",
              "      <td>80.0</td>\n",
              "      <td>ATL</td>\n",
              "      <td>IAH</td>\n",
              "      <td>689</td>\n",
              "      <td>8.0</td>\n",
              "      <td>32.0</td>\n",
              "      <td>0</td>\n",
              "      <td>N</td>\n",
              "      <td>0</td>\n",
              "      <td>1.0</td>\n",
              "      <td>0.0</td>\n",
              "      <td>19.0</td>\n",
              "      <td>0.0</td>\n",
              "      <td>79.0</td>\n",
              "    </tr>\n",
              "    <tr>\n",
              "      <th>1936756</th>\n",
              "      <td>7009726</td>\n",
              "      <td>2008</td>\n",
              "      <td>12</td>\n",
              "      <td>13</td>\n",
              "      <td>6</td>\n",
              "      <td>1251.0</td>\n",
              "      <td>1240</td>\n",
              "      <td>1446.0</td>\n",
              "      <td>1437</td>\n",
              "      <td>DL</td>\n",
              "      <td>1639</td>\n",
              "      <td>N646DL</td>\n",
              "      <td>115.0</td>\n",
              "      <td>117.0</td>\n",
              "      <td>89.0</td>\n",
              "      <td>9.0</td>\n",
              "      <td>11.0</td>\n",
              "      <td>IAD</td>\n",
              "      <td>ATL</td>\n",
              "      <td>533</td>\n",
              "      <td>13.0</td>\n",
              "      <td>13.0</td>\n",
              "      <td>0</td>\n",
              "      <td>N</td>\n",
              "      <td>0</td>\n",
              "      <td>NaN</td>\n",
              "      <td>NaN</td>\n",
              "      <td>NaN</td>\n",
              "      <td>NaN</td>\n",
              "      <td>NaN</td>\n",
              "    </tr>\n",
              "    <tr>\n",
              "      <th>1936757</th>\n",
              "      <td>7009727</td>\n",
              "      <td>2008</td>\n",
              "      <td>12</td>\n",
              "      <td>13</td>\n",
              "      <td>6</td>\n",
              "      <td>1110.0</td>\n",
              "      <td>1103</td>\n",
              "      <td>1413.0</td>\n",
              "      <td>1418</td>\n",
              "      <td>DL</td>\n",
              "      <td>1641</td>\n",
              "      <td>N908DL</td>\n",
              "      <td>123.0</td>\n",
              "      <td>135.0</td>\n",
              "      <td>104.0</td>\n",
              "      <td>-5.0</td>\n",
              "      <td>7.0</td>\n",
              "      <td>SAT</td>\n",
              "      <td>ATL</td>\n",
              "      <td>874</td>\n",
              "      <td>8.0</td>\n",
              "      <td>11.0</td>\n",
              "      <td>0</td>\n",
              "      <td>N</td>\n",
              "      <td>0</td>\n",
              "      <td>NaN</td>\n",
              "      <td>NaN</td>\n",
              "      <td>NaN</td>\n",
              "      <td>NaN</td>\n",
              "      <td>NaN</td>\n",
              "    </tr>\n",
              "  </tbody>\n",
              "</table>\n",
              "<p>1936758 rows × 30 columns</p>\n",
              "</div>"
            ],
            "text/plain": [
              "         Unnamed: 0  Year  Month  ...  NASDelay  SecurityDelay  LateAircraftDelay\n",
              "0                 0  2008      1  ...       NaN            NaN                NaN\n",
              "1                 1  2008      1  ...       NaN            NaN                NaN\n",
              "2                 2  2008      1  ...       NaN            NaN                NaN\n",
              "3                 4  2008      1  ...       0.0            0.0               32.0\n",
              "4                 5  2008      1  ...       NaN            NaN                NaN\n",
              "...             ...   ...    ...  ...       ...            ...                ...\n",
              "1936753     7009710  2008     12  ...       0.0            0.0               22.0\n",
              "1936754     7009717  2008     12  ...      18.0            0.0                0.0\n",
              "1936755     7009718  2008     12  ...      19.0            0.0               79.0\n",
              "1936756     7009726  2008     12  ...       NaN            NaN                NaN\n",
              "1936757     7009727  2008     12  ...       NaN            NaN                NaN\n",
              "\n",
              "[1936758 rows x 30 columns]"
            ]
          },
          "metadata": {
            "tags": []
          },
          "execution_count": 19
        }
      ]
    },
    {
      "cell_type": "markdown",
      "metadata": {
        "id": "A9WjodhvbeTX"
      },
      "source": [
        "#### **2. Inspect the data for each column's data type and summary statistics.**"
      ]
    },
    {
      "cell_type": "code",
      "metadata": {
        "colab": {
          "base_uri": "https://localhost:8080/",
          "height": 844
        },
        "id": "26a74A5Hbydq",
        "outputId": "ebf99bab-8e98-4ffb-f9cc-24e6f020e83d"
      },
      "source": [
        "# print datatype of each column\n",
        "print(df.dtypes)\n",
        "\n",
        "# describe\n",
        "df.describe()"
      ],
      "execution_count": null,
      "outputs": [
        {
          "output_type": "stream",
          "text": [
            "Unnamed: 0             int64\n",
            "Year                   int64\n",
            "Month                  int64\n",
            "DayofMonth             int64\n",
            "DayOfWeek              int64\n",
            "DepTime              float64\n",
            "CRSDepTime             int64\n",
            "ArrTime              float64\n",
            "CRSArrTime             int64\n",
            "UniqueCarrier         object\n",
            "FlightNum              int64\n",
            "TailNum               object\n",
            "ActualElapsedTime    float64\n",
            "CRSElapsedTime       float64\n",
            "AirTime              float64\n",
            "ArrDelay             float64\n",
            "DepDelay             float64\n",
            "Origin                object\n",
            "Dest                  object\n",
            "Distance               int64\n",
            "TaxiIn               float64\n",
            "TaxiOut              float64\n",
            "Cancelled              int64\n",
            "CancellationCode      object\n",
            "Diverted               int64\n",
            "CarrierDelay         float64\n",
            "WeatherDelay         float64\n",
            "NASDelay             float64\n",
            "SecurityDelay        float64\n",
            "LateAircraftDelay    float64\n",
            "dtype: object\n"
          ],
          "name": "stdout"
        },
        {
          "output_type": "execute_result",
          "data": {
            "text/html": [
              "<div>\n",
              "<style scoped>\n",
              "    .dataframe tbody tr th:only-of-type {\n",
              "        vertical-align: middle;\n",
              "    }\n",
              "\n",
              "    .dataframe tbody tr th {\n",
              "        vertical-align: top;\n",
              "    }\n",
              "\n",
              "    .dataframe thead th {\n",
              "        text-align: right;\n",
              "    }\n",
              "</style>\n",
              "<table border=\"1\" class=\"dataframe\">\n",
              "  <thead>\n",
              "    <tr style=\"text-align: right;\">\n",
              "      <th></th>\n",
              "      <th>Unnamed: 0</th>\n",
              "      <th>Year</th>\n",
              "      <th>Month</th>\n",
              "      <th>DayofMonth</th>\n",
              "      <th>DayOfWeek</th>\n",
              "      <th>DepTime</th>\n",
              "      <th>CRSDepTime</th>\n",
              "      <th>ArrTime</th>\n",
              "      <th>CRSArrTime</th>\n",
              "      <th>FlightNum</th>\n",
              "      <th>ActualElapsedTime</th>\n",
              "      <th>CRSElapsedTime</th>\n",
              "      <th>AirTime</th>\n",
              "      <th>ArrDelay</th>\n",
              "      <th>DepDelay</th>\n",
              "      <th>Distance</th>\n",
              "      <th>TaxiIn</th>\n",
              "      <th>TaxiOut</th>\n",
              "      <th>Cancelled</th>\n",
              "      <th>Diverted</th>\n",
              "      <th>CarrierDelay</th>\n",
              "      <th>WeatherDelay</th>\n",
              "      <th>NASDelay</th>\n",
              "      <th>SecurityDelay</th>\n",
              "      <th>LateAircraftDelay</th>\n",
              "    </tr>\n",
              "  </thead>\n",
              "  <tbody>\n",
              "    <tr>\n",
              "      <th>count</th>\n",
              "      <td>1.936758e+06</td>\n",
              "      <td>1936758.0</td>\n",
              "      <td>1.936758e+06</td>\n",
              "      <td>1.936758e+06</td>\n",
              "      <td>1.936758e+06</td>\n",
              "      <td>1.936758e+06</td>\n",
              "      <td>1.936758e+06</td>\n",
              "      <td>1.929648e+06</td>\n",
              "      <td>1.936758e+06</td>\n",
              "      <td>1.936758e+06</td>\n",
              "      <td>1.928371e+06</td>\n",
              "      <td>1.936560e+06</td>\n",
              "      <td>1.928371e+06</td>\n",
              "      <td>1.928371e+06</td>\n",
              "      <td>1.936758e+06</td>\n",
              "      <td>1.936758e+06</td>\n",
              "      <td>1.929648e+06</td>\n",
              "      <td>1.936303e+06</td>\n",
              "      <td>1.936758e+06</td>\n",
              "      <td>1.936758e+06</td>\n",
              "      <td>1.247488e+06</td>\n",
              "      <td>1.247488e+06</td>\n",
              "      <td>1.247488e+06</td>\n",
              "      <td>1.247488e+06</td>\n",
              "      <td>1.247488e+06</td>\n",
              "    </tr>\n",
              "    <tr>\n",
              "      <th>mean</th>\n",
              "      <td>3.341651e+06</td>\n",
              "      <td>2008.0</td>\n",
              "      <td>6.111106e+00</td>\n",
              "      <td>1.575347e+01</td>\n",
              "      <td>3.984827e+00</td>\n",
              "      <td>1.518534e+03</td>\n",
              "      <td>1.467473e+03</td>\n",
              "      <td>1.610141e+03</td>\n",
              "      <td>1.634225e+03</td>\n",
              "      <td>2.184263e+03</td>\n",
              "      <td>1.333059e+02</td>\n",
              "      <td>1.343027e+02</td>\n",
              "      <td>1.082771e+02</td>\n",
              "      <td>4.219988e+01</td>\n",
              "      <td>4.318518e+01</td>\n",
              "      <td>7.656862e+02</td>\n",
              "      <td>6.812975e+00</td>\n",
              "      <td>1.823220e+01</td>\n",
              "      <td>3.268348e-04</td>\n",
              "      <td>4.003598e-03</td>\n",
              "      <td>1.917940e+01</td>\n",
              "      <td>3.703571e+00</td>\n",
              "      <td>1.502164e+01</td>\n",
              "      <td>9.013714e-02</td>\n",
              "      <td>2.529647e+01</td>\n",
              "    </tr>\n",
              "    <tr>\n",
              "      <th>std</th>\n",
              "      <td>2.066065e+06</td>\n",
              "      <td>0.0</td>\n",
              "      <td>3.482546e+00</td>\n",
              "      <td>8.776272e+00</td>\n",
              "      <td>1.995966e+00</td>\n",
              "      <td>4.504853e+02</td>\n",
              "      <td>4.247668e+02</td>\n",
              "      <td>5.481781e+02</td>\n",
              "      <td>4.646347e+02</td>\n",
              "      <td>1.944702e+03</td>\n",
              "      <td>7.206007e+01</td>\n",
              "      <td>7.134144e+01</td>\n",
              "      <td>6.864261e+01</td>\n",
              "      <td>5.678472e+01</td>\n",
              "      <td>5.340250e+01</td>\n",
              "      <td>5.744797e+02</td>\n",
              "      <td>5.273595e+00</td>\n",
              "      <td>1.433853e+01</td>\n",
              "      <td>1.807562e-02</td>\n",
              "      <td>6.314722e-02</td>\n",
              "      <td>4.354621e+01</td>\n",
              "      <td>2.149290e+01</td>\n",
              "      <td>3.383305e+01</td>\n",
              "      <td>2.022714e+00</td>\n",
              "      <td>4.205486e+01</td>\n",
              "    </tr>\n",
              "    <tr>\n",
              "      <th>min</th>\n",
              "      <td>0.000000e+00</td>\n",
              "      <td>2008.0</td>\n",
              "      <td>1.000000e+00</td>\n",
              "      <td>1.000000e+00</td>\n",
              "      <td>1.000000e+00</td>\n",
              "      <td>1.000000e+00</td>\n",
              "      <td>0.000000e+00</td>\n",
              "      <td>1.000000e+00</td>\n",
              "      <td>0.000000e+00</td>\n",
              "      <td>1.000000e+00</td>\n",
              "      <td>1.400000e+01</td>\n",
              "      <td>-2.500000e+01</td>\n",
              "      <td>0.000000e+00</td>\n",
              "      <td>-1.090000e+02</td>\n",
              "      <td>6.000000e+00</td>\n",
              "      <td>1.100000e+01</td>\n",
              "      <td>0.000000e+00</td>\n",
              "      <td>0.000000e+00</td>\n",
              "      <td>0.000000e+00</td>\n",
              "      <td>0.000000e+00</td>\n",
              "      <td>0.000000e+00</td>\n",
              "      <td>0.000000e+00</td>\n",
              "      <td>0.000000e+00</td>\n",
              "      <td>0.000000e+00</td>\n",
              "      <td>0.000000e+00</td>\n",
              "    </tr>\n",
              "    <tr>\n",
              "      <th>25%</th>\n",
              "      <td>1.517452e+06</td>\n",
              "      <td>2008.0</td>\n",
              "      <td>3.000000e+00</td>\n",
              "      <td>8.000000e+00</td>\n",
              "      <td>2.000000e+00</td>\n",
              "      <td>1.203000e+03</td>\n",
              "      <td>1.135000e+03</td>\n",
              "      <td>1.316000e+03</td>\n",
              "      <td>1.325000e+03</td>\n",
              "      <td>6.100000e+02</td>\n",
              "      <td>8.000000e+01</td>\n",
              "      <td>8.200000e+01</td>\n",
              "      <td>5.800000e+01</td>\n",
              "      <td>9.000000e+00</td>\n",
              "      <td>1.200000e+01</td>\n",
              "      <td>3.380000e+02</td>\n",
              "      <td>4.000000e+00</td>\n",
              "      <td>1.000000e+01</td>\n",
              "      <td>0.000000e+00</td>\n",
              "      <td>0.000000e+00</td>\n",
              "      <td>0.000000e+00</td>\n",
              "      <td>0.000000e+00</td>\n",
              "      <td>0.000000e+00</td>\n",
              "      <td>0.000000e+00</td>\n",
              "      <td>0.000000e+00</td>\n",
              "    </tr>\n",
              "    <tr>\n",
              "      <th>50%</th>\n",
              "      <td>3.242558e+06</td>\n",
              "      <td>2008.0</td>\n",
              "      <td>6.000000e+00</td>\n",
              "      <td>1.600000e+01</td>\n",
              "      <td>4.000000e+00</td>\n",
              "      <td>1.545000e+03</td>\n",
              "      <td>1.510000e+03</td>\n",
              "      <td>1.715000e+03</td>\n",
              "      <td>1.705000e+03</td>\n",
              "      <td>1.543000e+03</td>\n",
              "      <td>1.160000e+02</td>\n",
              "      <td>1.160000e+02</td>\n",
              "      <td>9.000000e+01</td>\n",
              "      <td>2.400000e+01</td>\n",
              "      <td>2.400000e+01</td>\n",
              "      <td>6.060000e+02</td>\n",
              "      <td>6.000000e+00</td>\n",
              "      <td>1.400000e+01</td>\n",
              "      <td>0.000000e+00</td>\n",
              "      <td>0.000000e+00</td>\n",
              "      <td>2.000000e+00</td>\n",
              "      <td>0.000000e+00</td>\n",
              "      <td>2.000000e+00</td>\n",
              "      <td>0.000000e+00</td>\n",
              "      <td>8.000000e+00</td>\n",
              "    </tr>\n",
              "    <tr>\n",
              "      <th>75%</th>\n",
              "      <td>4.972467e+06</td>\n",
              "      <td>2008.0</td>\n",
              "      <td>9.000000e+00</td>\n",
              "      <td>2.300000e+01</td>\n",
              "      <td>6.000000e+00</td>\n",
              "      <td>1.900000e+03</td>\n",
              "      <td>1.815000e+03</td>\n",
              "      <td>2.030000e+03</td>\n",
              "      <td>2.014000e+03</td>\n",
              "      <td>3.422000e+03</td>\n",
              "      <td>1.650000e+02</td>\n",
              "      <td>1.650000e+02</td>\n",
              "      <td>1.370000e+02</td>\n",
              "      <td>5.600000e+01</td>\n",
              "      <td>5.300000e+01</td>\n",
              "      <td>9.980000e+02</td>\n",
              "      <td>8.000000e+00</td>\n",
              "      <td>2.100000e+01</td>\n",
              "      <td>0.000000e+00</td>\n",
              "      <td>0.000000e+00</td>\n",
              "      <td>2.100000e+01</td>\n",
              "      <td>0.000000e+00</td>\n",
              "      <td>1.500000e+01</td>\n",
              "      <td>0.000000e+00</td>\n",
              "      <td>3.300000e+01</td>\n",
              "    </tr>\n",
              "    <tr>\n",
              "      <th>max</th>\n",
              "      <td>7.009727e+06</td>\n",
              "      <td>2008.0</td>\n",
              "      <td>1.200000e+01</td>\n",
              "      <td>3.100000e+01</td>\n",
              "      <td>7.000000e+00</td>\n",
              "      <td>2.400000e+03</td>\n",
              "      <td>2.359000e+03</td>\n",
              "      <td>2.400000e+03</td>\n",
              "      <td>2.400000e+03</td>\n",
              "      <td>9.742000e+03</td>\n",
              "      <td>1.114000e+03</td>\n",
              "      <td>6.600000e+02</td>\n",
              "      <td>1.091000e+03</td>\n",
              "      <td>2.461000e+03</td>\n",
              "      <td>2.467000e+03</td>\n",
              "      <td>4.962000e+03</td>\n",
              "      <td>2.400000e+02</td>\n",
              "      <td>4.220000e+02</td>\n",
              "      <td>1.000000e+00</td>\n",
              "      <td>1.000000e+00</td>\n",
              "      <td>2.436000e+03</td>\n",
              "      <td>1.352000e+03</td>\n",
              "      <td>1.357000e+03</td>\n",
              "      <td>3.920000e+02</td>\n",
              "      <td>1.316000e+03</td>\n",
              "    </tr>\n",
              "  </tbody>\n",
              "</table>\n",
              "</div>"
            ],
            "text/plain": [
              "         Unnamed: 0       Year  ...  SecurityDelay  LateAircraftDelay\n",
              "count  1.936758e+06  1936758.0  ...   1.247488e+06       1.247488e+06\n",
              "mean   3.341651e+06     2008.0  ...   9.013714e-02       2.529647e+01\n",
              "std    2.066065e+06        0.0  ...   2.022714e+00       4.205486e+01\n",
              "min    0.000000e+00     2008.0  ...   0.000000e+00       0.000000e+00\n",
              "25%    1.517452e+06     2008.0  ...   0.000000e+00       0.000000e+00\n",
              "50%    3.242558e+06     2008.0  ...   0.000000e+00       8.000000e+00\n",
              "75%    4.972467e+06     2008.0  ...   0.000000e+00       3.300000e+01\n",
              "max    7.009727e+06     2008.0  ...   3.920000e+02       1.316000e+03\n",
              "\n",
              "[8 rows x 25 columns]"
            ]
          },
          "metadata": {
            "tags": []
          },
          "execution_count": 20
        }
      ]
    },
    {
      "cell_type": "markdown",
      "metadata": {
        "id": "Ygtygq7Kbtu1"
      },
      "source": [
        "#### **3. Explore the data programmatically and visually.**"
      ]
    },
    {
      "cell_type": "code",
      "metadata": {
        "colab": {
          "base_uri": "https://localhost:8080/",
          "height": 371
        },
        "id": "9EgDdH_CgqNc",
        "outputId": "49e642ed-b026-49b6-c0af-f48ca7bf71c6"
      },
      "source": [
        "sns.heatmap(df.corr())"
      ],
      "execution_count": null,
      "outputs": [
        {
          "output_type": "execute_result",
          "data": {
            "text/plain": [
              "<matplotlib.axes._subplots.AxesSubplot at 0x7f73db755890>"
            ]
          },
          "metadata": {
            "tags": []
          },
          "execution_count": 21
        },
        {
          "output_type": "display_data",
          "data": {
            "image/png": "[encoded data removed]",
            "text/plain": [
              "<Figure size 432x288 with 2 Axes>"
            ]
          },
          "metadata": {
            "tags": [],
            "needs_background": "light"
          }
        }
      ]
    },
    {
      "cell_type": "markdown",
      "metadata": {
        "id": "NDXivTvwgD4L"
      },
      "source": [
        "*Series used to find the busiest airport*"
      ]
    },
    {
      "cell_type": "code",
      "metadata": {
        "colab": {
          "base_uri": "https://localhost:8080/",
          "height": 340
        },
        "id": "WCiMlQQOcEv8",
        "outputId": "3fac98b8-151c-43b8-c15e-cfa24944e8cb"
      },
      "source": [
        "\n",
        "#Using origin and destination to determine how busy an airport is\n",
        "origin = df['Origin'].value_counts()\n",
        "dest= df['Dest'].value_counts()\n",
        "\n",
        "\n",
        "#combining origin and destination into one series\n",
        "origin_plus_dest = df.Origin.append(df.Dest)\n",
        "origin_dest_count = origin_plus_dest.value_counts()\n",
        "\n",
        "#x-axis\n",
        "x = origin_dest_count.head(10).index[0:10]#top 10 busiest aiports\n",
        "\n",
        "#y-axis\n",
        "y =origin_dest_count.values[0:10]#amount of origin + desination flights\n",
        "\n",
        "#Adding Seaborn graph\n",
        "sns.barplot(x,y)"
      ],
      "execution_count": null,
      "outputs": [
        {
          "output_type": "stream",
          "text": [
            "/usr/local/lib/python3.7/dist-packages/seaborn/_decorators.py:43: FutureWarning: Pass the following variables as keyword args: x, y. From version 0.12, the only valid positional argument will be `data`, and passing other arguments without an explicit keyword will result in an error or misinterpretation.\n",
            "  FutureWarning\n"
          ],
          "name": "stderr"
        },
        {
          "output_type": "execute_result",
          "data": {
            "text/plain": [
              "<matplotlib.axes._subplots.AxesSubplot at 0x7f73db633890>"
            ]
          },
          "metadata": {
            "tags": []
          },
          "execution_count": 22
        },
        {
          "output_type": "display_data",
          "data": {
            "image/png": "[encoded data removed]",
            "text/plain": [
              "<Figure size 432x288 with 1 Axes>"
            ]
          },
          "metadata": {
            "tags": [],
            "needs_background": "light"
          }
        }
      ]
    },
    {
      "cell_type": "markdown",
      "metadata": {
        "id": "SUgP4KVwgLV8"
      },
      "source": [
        "*Answering Question II*"
      ]
    },
    {
      "cell_type": "code",
      "metadata": {
        "id": "OrPE3wbPgQPq",
        "colab": {
          "base_uri": "https://localhost:8080/",
          "height": 390
        },
        "outputId": "1af1ea82-3fa6-4d60-9605-e0e858562df0"
      },
      "source": [
        "carrier_delay = df.groupby('UniqueCarrier').agg(\n",
        "    count_ArrDelay = ('ArrDelay', lambda x: x[x>0].count()),\n",
        "    mean_ArrDelay = ('ArrDelay', lambda x: x[x>0].mean())\n",
        ")\n",
        "\n",
        "\n",
        "carrier_delay.sort_values('count_ArrDelay', ascending=False).head(10)\n"
      ],
      "execution_count": null,
      "outputs": [
        {
          "output_type": "execute_result",
          "data": {
            "text/html": [
              "<div>\n",
              "<style scoped>\n",
              "    .dataframe tbody tr th:only-of-type {\n",
              "        vertical-align: middle;\n",
              "    }\n",
              "\n",
              "    .dataframe tbody tr th {\n",
              "        vertical-align: top;\n",
              "    }\n",
              "\n",
              "    .dataframe thead th {\n",
              "        text-align: right;\n",
              "    }\n",
              "</style>\n",
              "<table border=\"1\" class=\"dataframe\">\n",
              "  <thead>\n",
              "    <tr style=\"text-align: right;\">\n",
              "      <th></th>\n",
              "      <th>count_ArrDelay</th>\n",
              "      <th>mean_ArrDelay</th>\n",
              "    </tr>\n",
              "    <tr>\n",
              "      <th>UniqueCarrier</th>\n",
              "      <th></th>\n",
              "      <th></th>\n",
              "    </tr>\n",
              "  </thead>\n",
              "  <tbody>\n",
              "    <tr>\n",
              "      <th>WN</th>\n",
              "      <td>324717.0</td>\n",
              "      <td>35.752200</td>\n",
              "    </tr>\n",
              "    <tr>\n",
              "      <th>AA</th>\n",
              "      <td>172197.0</td>\n",
              "      <td>52.308693</td>\n",
              "    </tr>\n",
              "    <tr>\n",
              "      <th>MQ</th>\n",
              "      <td>130647.0</td>\n",
              "      <td>49.323276</td>\n",
              "    </tr>\n",
              "    <tr>\n",
              "      <th>UA</th>\n",
              "      <td>123989.0</td>\n",
              "      <td>55.247086</td>\n",
              "    </tr>\n",
              "    <tr>\n",
              "      <th>OO</th>\n",
              "      <td>121942.0</td>\n",
              "      <td>49.362172</td>\n",
              "    </tr>\n",
              "    <tr>\n",
              "      <th>DL</th>\n",
              "      <td>100923.0</td>\n",
              "      <td>45.786501</td>\n",
              "    </tr>\n",
              "    <tr>\n",
              "      <th>XE</th>\n",
              "      <td>94313.0</td>\n",
              "      <td>55.424629</td>\n",
              "    </tr>\n",
              "    <tr>\n",
              "      <th>CO</th>\n",
              "      <td>83646.0</td>\n",
              "      <td>49.729324</td>\n",
              "    </tr>\n",
              "    <tr>\n",
              "      <th>US</th>\n",
              "      <td>83262.0</td>\n",
              "      <td>44.175278</td>\n",
              "    </tr>\n",
              "    <tr>\n",
              "      <th>EV</th>\n",
              "      <td>75170.0</td>\n",
              "      <td>52.153146</td>\n",
              "    </tr>\n",
              "  </tbody>\n",
              "</table>\n",
              "</div>"
            ],
            "text/plain": [
              "               count_ArrDelay  mean_ArrDelay\n",
              "UniqueCarrier                               \n",
              "WN                   324717.0      35.752200\n",
              "AA                   172197.0      52.308693\n",
              "MQ                   130647.0      49.323276\n",
              "UA                   123989.0      55.247086\n",
              "OO                   121942.0      49.362172\n",
              "DL                   100923.0      45.786501\n",
              "XE                    94313.0      55.424629\n",
              "CO                    83646.0      49.729324\n",
              "US                    83262.0      44.175278\n",
              "EV                    75170.0      52.153146"
            ]
          },
          "metadata": {
            "tags": []
          },
          "execution_count": 28
        }
      ]
    },
    {
      "cell_type": "markdown",
      "metadata": {
        "id": "H3DWp_QHgQ-I"
      },
      "source": [
        "*Answering Question III*"
      ]
    },
    {
      "cell_type": "code",
      "metadata": {
        "id": "dDaaVuLvgWcZ",
        "colab": {
          "base_uri": "https://localhost:8080/",
          "height": 390
        },
        "outputId": "c18364ff-7901-4a05-f59d-14147ec1e1ef"
      },
      "source": [
        "carrier_delay.sort_values('mean_ArrDelay', ascending=False).head(10)"
      ],
      "execution_count": null,
      "outputs": [
        {
          "output_type": "execute_result",
          "data": {
            "text/html": [
              "<div>\n",
              "<style scoped>\n",
              "    .dataframe tbody tr th:only-of-type {\n",
              "        vertical-align: middle;\n",
              "    }\n",
              "\n",
              "    .dataframe tbody tr th {\n",
              "        vertical-align: top;\n",
              "    }\n",
              "\n",
              "    .dataframe thead th {\n",
              "        text-align: right;\n",
              "    }\n",
              "</style>\n",
              "<table border=\"1\" class=\"dataframe\">\n",
              "  <thead>\n",
              "    <tr style=\"text-align: right;\">\n",
              "      <th></th>\n",
              "      <th>count_ArrDelay</th>\n",
              "      <th>mean_ArrDelay</th>\n",
              "    </tr>\n",
              "    <tr>\n",
              "      <th>UniqueCarrier</th>\n",
              "      <th></th>\n",
              "      <th></th>\n",
              "    </tr>\n",
              "  </thead>\n",
              "  <tbody>\n",
              "    <tr>\n",
              "      <th>B6</th>\n",
              "      <td>48177.0</td>\n",
              "      <td>63.947859</td>\n",
              "    </tr>\n",
              "    <tr>\n",
              "      <th>YV</th>\n",
              "      <td>63289.0</td>\n",
              "      <td>58.563131</td>\n",
              "    </tr>\n",
              "    <tr>\n",
              "      <th>XE</th>\n",
              "      <td>94313.0</td>\n",
              "      <td>55.424629</td>\n",
              "    </tr>\n",
              "    <tr>\n",
              "      <th>UA</th>\n",
              "      <td>123989.0</td>\n",
              "      <td>55.247086</td>\n",
              "    </tr>\n",
              "    <tr>\n",
              "      <th>OH</th>\n",
              "      <td>49104.0</td>\n",
              "      <td>54.915261</td>\n",
              "    </tr>\n",
              "    <tr>\n",
              "      <th>AA</th>\n",
              "      <td>172197.0</td>\n",
              "      <td>52.308693</td>\n",
              "    </tr>\n",
              "    <tr>\n",
              "      <th>EV</th>\n",
              "      <td>75170.0</td>\n",
              "      <td>52.153146</td>\n",
              "    </tr>\n",
              "    <tr>\n",
              "      <th>9E</th>\n",
              "      <td>46896.0</td>\n",
              "      <td>52.097343</td>\n",
              "    </tr>\n",
              "    <tr>\n",
              "      <th>CO</th>\n",
              "      <td>83646.0</td>\n",
              "      <td>49.729324</td>\n",
              "    </tr>\n",
              "    <tr>\n",
              "      <th>OO</th>\n",
              "      <td>121942.0</td>\n",
              "      <td>49.362172</td>\n",
              "    </tr>\n",
              "  </tbody>\n",
              "</table>\n",
              "</div>"
            ],
            "text/plain": [
              "               count_ArrDelay  mean_ArrDelay\n",
              "UniqueCarrier                               \n",
              "B6                    48177.0      63.947859\n",
              "YV                    63289.0      58.563131\n",
              "XE                    94313.0      55.424629\n",
              "UA                   123989.0      55.247086\n",
              "OH                    49104.0      54.915261\n",
              "AA                   172197.0      52.308693\n",
              "EV                    75170.0      52.153146\n",
              "9E                    46896.0      52.097343\n",
              "CO                    83646.0      49.729324\n",
              "OO                   121942.0      49.362172"
            ]
          },
          "metadata": {
            "tags": []
          },
          "execution_count": 29
        }
      ]
    },
    {
      "cell_type": "markdown",
      "metadata": {
        "id": "3N_07p8myZNr"
      },
      "source": [
        "*Answering Question IV*"
      ]
    },
    {
      "cell_type": "code",
      "metadata": {
        "colab": {
          "base_uri": "https://localhost:8080/",
          "height": 390
        },
        "id": "Djj4I5TFyv8o",
        "outputId": "33c82a30-2cfd-45f9-8171-1948ed552100"
      },
      "source": [
        "airport_delay = df.groupby('Origin').agg(\n",
        "    count_DepDelay = ('DepDelay', lambda x: x[x>0].count()),\n",
        "    mean_DepDelay = ('DepDelay', lambda x: x[x>0].mean())\n",
        ")\n",
        "\n",
        "airport_delay.sort_values('count_DepDelay', ascending=False).head(10)\n"
      ],
      "execution_count": null,
      "outputs": [
        {
          "output_type": "execute_result",
          "data": {
            "text/html": [
              "<div>\n",
              "<style scoped>\n",
              "    .dataframe tbody tr th:only-of-type {\n",
              "        vertical-align: middle;\n",
              "    }\n",
              "\n",
              "    .dataframe tbody tr th {\n",
              "        vertical-align: top;\n",
              "    }\n",
              "\n",
              "    .dataframe thead th {\n",
              "        text-align: right;\n",
              "    }\n",
              "</style>\n",
              "<table border=\"1\" class=\"dataframe\">\n",
              "  <thead>\n",
              "    <tr style=\"text-align: right;\">\n",
              "      <th></th>\n",
              "      <th>count_DepDelay</th>\n",
              "      <th>mean_DepDelay</th>\n",
              "    </tr>\n",
              "    <tr>\n",
              "      <th>Origin</th>\n",
              "      <th></th>\n",
              "      <th></th>\n",
              "    </tr>\n",
              "  </thead>\n",
              "  <tbody>\n",
              "    <tr>\n",
              "      <th>ATL</th>\n",
              "      <td>131613.0</td>\n",
              "      <td>40.893240</td>\n",
              "    </tr>\n",
              "    <tr>\n",
              "      <th>ORD</th>\n",
              "      <td>125979.0</td>\n",
              "      <td>50.531168</td>\n",
              "    </tr>\n",
              "    <tr>\n",
              "      <th>DFW</th>\n",
              "      <td>95414.0</td>\n",
              "      <td>38.340610</td>\n",
              "    </tr>\n",
              "    <tr>\n",
              "      <th>DEN</th>\n",
              "      <td>74323.0</td>\n",
              "      <td>37.698868</td>\n",
              "    </tr>\n",
              "    <tr>\n",
              "      <th>LAX</th>\n",
              "      <td>58772.0</td>\n",
              "      <td>38.174998</td>\n",
              "    </tr>\n",
              "    <tr>\n",
              "      <th>IAH</th>\n",
              "      <td>56847.0</td>\n",
              "      <td>37.735219</td>\n",
              "    </tr>\n",
              "    <tr>\n",
              "      <th>PHX</th>\n",
              "      <td>55720.0</td>\n",
              "      <td>35.242067</td>\n",
              "    </tr>\n",
              "    <tr>\n",
              "      <th>LAS</th>\n",
              "      <td>53710.0</td>\n",
              "      <td>38.819643</td>\n",
              "    </tr>\n",
              "    <tr>\n",
              "      <th>EWR</th>\n",
              "      <td>52925.0</td>\n",
              "      <td>50.430099</td>\n",
              "    </tr>\n",
              "    <tr>\n",
              "      <th>DTW</th>\n",
              "      <td>43923.0</td>\n",
              "      <td>40.493637</td>\n",
              "    </tr>\n",
              "  </tbody>\n",
              "</table>\n",
              "</div>"
            ],
            "text/plain": [
              "        count_DepDelay  mean_DepDelay\n",
              "Origin                               \n",
              "ATL           131613.0      40.893240\n",
              "ORD           125979.0      50.531168\n",
              "DFW            95414.0      38.340610\n",
              "DEN            74323.0      37.698868\n",
              "LAX            58772.0      38.174998\n",
              "IAH            56847.0      37.735219\n",
              "PHX            55720.0      35.242067\n",
              "LAS            53710.0      38.819643\n",
              "EWR            52925.0      50.430099\n",
              "DTW            43923.0      40.493637"
            ]
          },
          "metadata": {
            "tags": []
          },
          "execution_count": 36
        }
      ]
    },
    {
      "cell_type": "markdown",
      "metadata": {
        "id": "9Rq7qOsDM5VH"
      },
      "source": [
        "*Answering Question V*"
      ]
    },
    {
      "cell_type": "code",
      "metadata": {
        "colab": {
          "base_uri": "https://localhost:8080/",
          "height": 390
        },
        "id": "64RNY0JgMwDr",
        "outputId": "aeadff76-1c81-4459-ae73-53f304fba446"
      },
      "source": [
        "airport_delay.sort_values('mean_DepDelay', ascending=False).head(10)"
      ],
      "execution_count": null,
      "outputs": [
        {
          "output_type": "execute_result",
          "data": {
            "text/html": [
              "<div>\n",
              "<style scoped>\n",
              "    .dataframe tbody tr th:only-of-type {\n",
              "        vertical-align: middle;\n",
              "    }\n",
              "\n",
              "    .dataframe tbody tr th {\n",
              "        vertical-align: top;\n",
              "    }\n",
              "\n",
              "    .dataframe thead th {\n",
              "        text-align: right;\n",
              "    }\n",
              "</style>\n",
              "<table border=\"1\" class=\"dataframe\">\n",
              "  <thead>\n",
              "    <tr style=\"text-align: right;\">\n",
              "      <th></th>\n",
              "      <th>count_DepDelay</th>\n",
              "      <th>mean_DepDelay</th>\n",
              "    </tr>\n",
              "    <tr>\n",
              "      <th>Origin</th>\n",
              "      <th></th>\n",
              "      <th></th>\n",
              "    </tr>\n",
              "  </thead>\n",
              "  <tbody>\n",
              "    <tr>\n",
              "      <th>CMX</th>\n",
              "      <td>34.0</td>\n",
              "      <td>116.147059</td>\n",
              "    </tr>\n",
              "    <tr>\n",
              "      <th>PLN</th>\n",
              "      <td>21.0</td>\n",
              "      <td>93.761905</td>\n",
              "    </tr>\n",
              "    <tr>\n",
              "      <th>SPI</th>\n",
              "      <td>357.0</td>\n",
              "      <td>83.848739</td>\n",
              "    </tr>\n",
              "    <tr>\n",
              "      <th>ALO</th>\n",
              "      <td>31.0</td>\n",
              "      <td>82.225806</td>\n",
              "    </tr>\n",
              "    <tr>\n",
              "      <th>MQT</th>\n",
              "      <td>203.0</td>\n",
              "      <td>79.556650</td>\n",
              "    </tr>\n",
              "    <tr>\n",
              "      <th>ACY</th>\n",
              "      <td>29.0</td>\n",
              "      <td>79.310345</td>\n",
              "    </tr>\n",
              "    <tr>\n",
              "      <th>MOT</th>\n",
              "      <td>133.0</td>\n",
              "      <td>78.661654</td>\n",
              "    </tr>\n",
              "    <tr>\n",
              "      <th>HHH</th>\n",
              "      <td>183.0</td>\n",
              "      <td>76.530055</td>\n",
              "    </tr>\n",
              "    <tr>\n",
              "      <th>EGE</th>\n",
              "      <td>861.0</td>\n",
              "      <td>74.128920</td>\n",
              "    </tr>\n",
              "    <tr>\n",
              "      <th>BGM</th>\n",
              "      <td>103.0</td>\n",
              "      <td>73.155340</td>\n",
              "    </tr>\n",
              "  </tbody>\n",
              "</table>\n",
              "</div>"
            ],
            "text/plain": [
              "        count_DepDelay  mean_DepDelay\n",
              "Origin                               \n",
              "CMX               34.0     116.147059\n",
              "PLN               21.0      93.761905\n",
              "SPI              357.0      83.848739\n",
              "ALO               31.0      82.225806\n",
              "MQT              203.0      79.556650\n",
              "ACY               29.0      79.310345\n",
              "MOT              133.0      78.661654\n",
              "HHH              183.0      76.530055\n",
              "EGE              861.0      74.128920\n",
              "BGM              103.0      73.155340"
            ]
          },
          "metadata": {
            "tags": []
          },
          "execution_count": 37
        }
      ]
    },
    {
      "cell_type": "markdown",
      "metadata": {
        "id": "T9NBP4QXfBCZ"
      },
      "source": [
        "#### **4. Questions and Answers**"
      ]
    },
    {
      "cell_type": "markdown",
      "metadata": {
        "id": "fiJTtHOfWF5n"
      },
      "source": [
        " **1.) Which U.S. airport is the busiest airport?**\n"
      ]
    },
    {
      "cell_type": "markdown",
      "metadata": {
        "id": "wgDTIcwzWdOb"
      },
      "source": [
        ">Based on the code and visualizations done above,when consiering arrivals and departures as parameters for how busy an aiport is, the busiest aiport was ATL"
      ]
    },
    {
      "cell_type": "markdown",
      "metadata": {
        "id": "btzwTa-pXu6n"
      },
      "source": [
        "**2.) Which 10 U.S. airlines have the most delays?**"
      ]
    },
    {
      "cell_type": "markdown",
      "metadata": {
        "id": "I7CBV1vWYYus"
      },
      "source": [
        ">WN, AA, MQ, UA, OO, DL, XE, CO,and EV were the the 10 airlines that had the most delays\n"
      ]
    },
    {
      "cell_type": "markdown",
      "metadata": {
        "id": "Ggj2SntFYadm"
      },
      "source": [
        "**3.) Which 10 U.S. airlines have the longest average delay time?**"
      ]
    },
    {
      "cell_type": "markdown",
      "metadata": {
        "id": "-Y4Dt67qYk1C"
      },
      "source": [
        "> Based on the DataFrame created, the airline that had the longest average delay timme were B6, YV,XE,UA,OH,AA,EV,9E,CO, and OO\n"
      ]
    },
    {
      "cell_type": "markdown",
      "metadata": {
        "id": "q_EOPMmKYnny"
      },
      "source": [
        "**4.) Which 10 U.S. airports have the most delays?**"
      ]
    },
    {
      "cell_type": "markdown",
      "metadata": {
        "id": "Go26BlHKHjd3"
      },
      "source": [
        "> ATL, ORG, DFW, DEN, LAX, IAH, PHX, LAS, EWR and DTW\n",
        "\n",
        "\n"
      ]
    },
    {
      "cell_type": "markdown",
      "metadata": {
        "id": "z5kw3X3ZHzlL"
      },
      "source": [
        "\n",
        "**5.) Which 10 U.S. airlines have the longest average delay time?**"
      ]
    },
    {
      "cell_type": "markdown",
      "metadata": {
        "id": "QAzjJYrFIFHJ"
      },
      "source": [
        ">Based on the frame created, CMX, PLN, SPI, ALO,MQT, ACY, MOT, EGE, AND BGM ."
      ]
    },
    {
      "cell_type": "markdown",
      "metadata": {
        "id": "2IY331QgBEm5"
      },
      "source": [
        "## Exercise 2: Ethical Implications"
      ]
    },
    {
      "cell_type": "markdown",
      "metadata": {
        "id": "uK8XzfVHLi1K"
      },
      "source": [
        "Even the most basic of data manipulations has the potential to affect segments of the population in different ways. It is important to consider how your code might positively and negatively affect different types of users.\n",
        "\n",
        "In this section of the project, you will reflect on the ethical implications of your analysis."
      ]
    },
    {
      "cell_type": "markdown",
      "metadata": {
        "id": "BqyxriWE53Du"
      },
      "source": [
        "### Student Solution"
      ]
    },
    {
      "cell_type": "markdown",
      "metadata": {
        "id": "_U3L0F9FLmwa"
      },
      "source": [
        "**Positive Impact**\n",
        "\n",
        "Your analysis is trying to solve a problem. Think about who will benefit if the problem is solved, and write a brief narrative about how the model will help."
      ]
    },
    {
      "cell_type": "code",
      "metadata": {
        "id": "M7fGE4N2iOPG"
      },
      "source": [
        ""
      ],
      "execution_count": null,
      "outputs": []
    },
    {
      "cell_type": "markdown",
      "metadata": {
        "id": "g582VerYL0so"
      },
      "source": [
        ">Travelers will benefit because they will be able to buy tickets from more efficient airlines. Airlines with not many delays or long delays will benefit because they will be able to sell more tickets. Smaller airports may be positively impacted assuming they have less delays.\n"
      ]
    },
    {
      "cell_type": "markdown",
      "metadata": {
        "id": "ALr018eQMuUw"
      },
      "source": [
        "**Negative Impact**\n",
        "\n",
        "Solutions usually don't have a universal benefit. Think about who might be negatively impacted by your analysis. This person or persons might not be directly considered in the analysis, but they might be impacted indirectly."
      ]
    },
    {
      "cell_type": "markdown",
      "metadata": {
        "id": "We8_W4WtNDLw"
      },
      "source": [
        ">Airplane customers may be negatively impacted because the prices for airlines with less delays may rise. Airline companys will be negatively impacted if they have more delays or longer delays because they may have less sales. The busier airports may be negatively affected assuming they have more delays."
      ]
    },
    {
      "cell_type": "markdown",
      "metadata": {
        "id": "07J-8ljpL85I"
      },
      "source": [
        "**Bias**\n",
        "\n",
        "Data analysis can be biased for many reasons. The bias can come from the data itself (e.g. sampling, data collection methods, available sources), and from the interpretation of the analysis outcome.\n",
        "\n",
        "Think of at least two ways that bias might have been introduced to your analysis and explain them below."
      ]
    },
    {
      "cell_type": "markdown",
      "metadata": {
        "id": "Jg_PSw3NMyFX"
      },
      "source": [
        ">Sampling bias can occur since larger airports tend to have more flights, therefore more delays. Larger airlines will also have a sampling bias since they will also have more flights. There may also be coverage bias since different regions also tend to have more frequent or less frequent activity that can affect airline delays. There may also be a Reporting bias due to Holidays which tend to have more flight and so can have more delays. Airlines in regions with harsh weather may be adversely affected since weather would affect the number of delays in that region. "
      ]
    },
    {
      "cell_type": "markdown",
      "metadata": {
        "id": "7j9AWdJLMTJI"
      },
      "source": [
        "**Changing the Dataset to Mitigate Bias**\n",
        "\n",
        "The most common way that an analysis is biased is when the dataset itself is biased. Look back at the input data that you used for your analysis. Think about how you might change something about the data to reduce bias in your model.\n",
        "\n",
        "What changes could you make to make your dataset less biased? Consider the data that you have, how and where that data was collected, and what other sources of data might be used to reduce bias.\n",
        "\n",
        "Write a summary of the changes that could be made to your input data."
      ]
    },
    {
      "cell_type": "markdown",
      "metadata": {
        "id": "yzzfrQ-xNZo5"
      },
      "source": [
        ">Since the data has potential bias sampling, we could adjust the models to account for the number and size of airports. Since the nnumber of delays will vary with time of year we adjust the data to account for seasonal delays. We could also add a column to take into account weather. \n",
        "\n",
        "\n"
      ]
    },
    {
      "cell_type": "markdown",
      "metadata": {
        "id": "ePs6hpLiMNSx"
      },
      "source": [
        "**Changing the Analysis Questions to Mitigate Bias**\n",
        "\n",
        "Are there any ways to reduce bias by changing the analysis itself? This could include modifying the choice of questions you ask, the approach you take to answer the questions, etc.\n",
        "\n",
        "Write a brief summary of any changes that you could make to help reduce bias in your analysis."
      ]
    },
    {
      "cell_type": "markdown",
      "metadata": {
        "id": "bZ3PS8bRNRCv"
      },
      "source": [
        ">Since the analysis has potential bias sampling, we can weigh the data based on airport size. For example we could ask what percent of flights are delayed instead of the number of flights that are delayed to avoid penalizing airports that are really busy. We could also adjust the time and location that data is evaluated. "
      ]
    },
    {
      "cell_type": "markdown",
      "metadata": {
        "id": "YYY7lk55MgdX"
      },
      "source": [
        "**Mitigating Bias Downstream**\n",
        "\n",
        "While analysis can point to suggestions, it is people who make decisions based on them. What processes and/or rules should be in place for people and systems interpreting and acting on the results of your analysis to reduce the bias? Describe these below."
      ]
    },
    {
      "cell_type": "markdown",
      "metadata": {
        "id": "Mp3TkmalNcR-"
      },
      "source": [
        ">Since the analysis has potential bias reporting and sampling, we can implement newer data. Since the data is from 2008 it is not a good representation of recent flights. The data could also be organized depending on region and airline size to provide more individualized data.  \n",
        "\n",
        "\n"
      ]
    }
  ]
}