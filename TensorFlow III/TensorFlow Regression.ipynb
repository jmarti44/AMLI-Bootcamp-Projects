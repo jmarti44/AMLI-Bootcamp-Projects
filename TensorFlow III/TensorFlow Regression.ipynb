{
 "cells": [
  {
   "cell_type": "markdown",
   "source": [
    "<a href=\"https://colab.research.google.com/github/google/applied-machine-learning-intensive/blob/master/content/03_regression/08_regression_with_tensorflow/colab.ipynb\" target=\"_parent\"><img src=\"https://colab.research.google.com/assets/colab-badge.svg\" alt=\"Open In Colab\"/></a>"
   ],
   "metadata": {
    "colab_type": "text",
    "id": "view-in-github"
   }
  },
  {
   "cell_type": "markdown",
   "source": [
    "#### Copyright 2020 Google LLC."
   ],
   "metadata": {
    "colab_type": "text",
    "id": "copyright"
   }
  },
  {
   "cell_type": "code",
   "execution_count": 197,
   "source": [
    "# Licensed under the Apache License, Version 2.0 (the \"License\");\n",
    "# you may not use this file except in compliance with the License.\n",
    "# You may obtain a copy of the License at\n",
    "#\n",
    "# https://www.apache.org/licenses/LICENSE-2.0\n",
    "#\n",
    "# Unless required by applicable law or agreed to in writing, software\n",
    "# distributed under the License is distributed on an \"AS IS\" BASIS,\n",
    "# WITHOUT WARRANTIES OR CONDITIONS OF ANY KIND, either express or implied.\n",
    "# See the License for the specific language governing permissions and\n",
    "# limitations under the License."
   ],
   "outputs": [],
   "metadata": {
    "cellView": "both",
    "colab": {},
    "colab_type": "code",
    "id": "hMqWDc_m6rUC"
   }
  },
  {
   "cell_type": "markdown",
   "source": [
    "# Regression with TensorFlow"
   ],
   "metadata": {
    "colab_type": "text",
    "id": "c2hPzRb6j_CA"
   }
  },
  {
   "cell_type": "markdown",
   "source": [
    "We have trained a linear regression model in TensorFlow and used it to predict housing prices. However, the model didn't perform as well as we would have liked it to. In this lab, we will build a neural network to try to tackle the same regression problem and see if we can get better results."
   ],
   "metadata": {
    "colab_type": "text",
    "id": "9x88D_U-4oTH"
   }
  },
  {
   "cell_type": "markdown",
   "source": [
    "## Loading and Preparing the Data"
   ],
   "metadata": {
    "colab_type": "text",
    "id": "6AaBjI9hmqnT"
   }
  },
  {
   "cell_type": "markdown",
   "source": [
    "The dataset we'll use for this Colab contains California housing information taken from the 1990 census data. We explored this data in a previous lab, so we won't do an analysis here. As a reminder, the documentation for the dataset can be found [on Kaggle](https://www.kaggle.com/camnugent/california-housing-prices)."
   ],
   "metadata": {
    "colab_type": "text",
    "id": "4f3CKqFUqL2-"
   }
  },
  {
   "cell_type": "markdown",
   "source": [
    "Upload your `kaggle.json` file and run the code block below."
   ],
   "metadata": {
    "colab_type": "text",
    "id": "MxiIKhP4E2Zr"
   }
  },
  {
   "cell_type": "code",
   "execution_count": 204,
   "source": [
    "! chmod 600 kaggle.json && (ls ~/.kaggle 2>/dev/null || mkdir ~/.kaggle) && mv kaggle.json ~/.kaggle/ && echo 'Done'"
   ],
   "outputs": [
    {
     "output_type": "stream",
     "name": "stdout",
     "text": [
      "chmod: kaggle.json: No such file or directory\n"
     ]
    }
   ],
   "metadata": {
    "colab": {},
    "colab_type": "code",
    "id": "tkRBt4c813MP"
   }
  },
  {
   "cell_type": "markdown",
   "source": [
    "Once you are done, use the `kaggle` command to download the file into the lab."
   ],
   "metadata": {
    "colab_type": "text",
    "id": "WdltN0vY18H_"
   }
  },
  {
   "cell_type": "code",
   "execution_count": 210,
   "source": [
    "!kaggle datasets download camnugent/california-housing-prices\n",
    "!ls"
   ],
   "outputs": [
    {
     "output_type": "stream",
     "name": "stdout",
     "text": [
      "california-housing-prices.zip: Skipping, found more recently modified local copy (use --force to force download)\n",
      "california-housing-prices.zip slides.md\n",
      "colab-key.zip                 slides.pptx\n",
      "colab.ipynb\n"
     ]
    }
   ],
   "metadata": {
    "colab": {},
    "colab_type": "code",
    "id": "wt4pCnny2Am2"
   }
  },
  {
   "cell_type": "markdown",
   "source": [
    "We now have a file called `california-housing-prices.zip` that we can load into a `DataFrame`."
   ],
   "metadata": {
    "colab_type": "text",
    "id": "5aJqOuak2FCs"
   }
  },
  {
   "cell_type": "code",
   "execution_count": 1,
   "source": [
    "import pandas as pd\n",
    "import matplotlib.pyplot as plt\n",
    "\n",
    "housing_df = pd.read_csv('california-housing-prices.zip')\n",
    "\n",
    "housing_df"
   ],
   "outputs": [
    {
     "output_type": "execute_result",
     "data": {
      "text/html": [
       "<div>\n",
       "<style scoped>\n",
       "    .dataframe tbody tr th:only-of-type {\n",
       "        vertical-align: middle;\n",
       "    }\n",
       "\n",
       "    .dataframe tbody tr th {\n",
       "        vertical-align: top;\n",
       "    }\n",
       "\n",
       "    .dataframe thead th {\n",
       "        text-align: right;\n",
       "    }\n",
       "</style>\n",
       "<table border=\"1\" class=\"dataframe\">\n",
       "  <thead>\n",
       "    <tr style=\"text-align: right;\">\n",
       "      <th></th>\n",
       "      <th>longitude</th>\n",
       "      <th>latitude</th>\n",
       "      <th>housing_median_age</th>\n",
       "      <th>total_rooms</th>\n",
       "      <th>total_bedrooms</th>\n",
       "      <th>population</th>\n",
       "      <th>households</th>\n",
       "      <th>median_income</th>\n",
       "      <th>median_house_value</th>\n",
       "      <th>ocean_proximity</th>\n",
       "    </tr>\n",
       "  </thead>\n",
       "  <tbody>\n",
       "    <tr>\n",
       "      <th>0</th>\n",
       "      <td>-122.23</td>\n",
       "      <td>37.88</td>\n",
       "      <td>41.0</td>\n",
       "      <td>880.0</td>\n",
       "      <td>129.0</td>\n",
       "      <td>322.0</td>\n",
       "      <td>126.0</td>\n",
       "      <td>8.3252</td>\n",
       "      <td>452600.0</td>\n",
       "      <td>NEAR BAY</td>\n",
       "    </tr>\n",
       "    <tr>\n",
       "      <th>1</th>\n",
       "      <td>-122.22</td>\n",
       "      <td>37.86</td>\n",
       "      <td>21.0</td>\n",
       "      <td>7099.0</td>\n",
       "      <td>1106.0</td>\n",
       "      <td>2401.0</td>\n",
       "      <td>1138.0</td>\n",
       "      <td>8.3014</td>\n",
       "      <td>358500.0</td>\n",
       "      <td>NEAR BAY</td>\n",
       "    </tr>\n",
       "    <tr>\n",
       "      <th>2</th>\n",
       "      <td>-122.24</td>\n",
       "      <td>37.85</td>\n",
       "      <td>52.0</td>\n",
       "      <td>1467.0</td>\n",
       "      <td>190.0</td>\n",
       "      <td>496.0</td>\n",
       "      <td>177.0</td>\n",
       "      <td>7.2574</td>\n",
       "      <td>352100.0</td>\n",
       "      <td>NEAR BAY</td>\n",
       "    </tr>\n",
       "    <tr>\n",
       "      <th>3</th>\n",
       "      <td>-122.25</td>\n",
       "      <td>37.85</td>\n",
       "      <td>52.0</td>\n",
       "      <td>1274.0</td>\n",
       "      <td>235.0</td>\n",
       "      <td>558.0</td>\n",
       "      <td>219.0</td>\n",
       "      <td>5.6431</td>\n",
       "      <td>341300.0</td>\n",
       "      <td>NEAR BAY</td>\n",
       "    </tr>\n",
       "    <tr>\n",
       "      <th>4</th>\n",
       "      <td>-122.25</td>\n",
       "      <td>37.85</td>\n",
       "      <td>52.0</td>\n",
       "      <td>1627.0</td>\n",
       "      <td>280.0</td>\n",
       "      <td>565.0</td>\n",
       "      <td>259.0</td>\n",
       "      <td>3.8462</td>\n",
       "      <td>342200.0</td>\n",
       "      <td>NEAR BAY</td>\n",
       "    </tr>\n",
       "    <tr>\n",
       "      <th>...</th>\n",
       "      <td>...</td>\n",
       "      <td>...</td>\n",
       "      <td>...</td>\n",
       "      <td>...</td>\n",
       "      <td>...</td>\n",
       "      <td>...</td>\n",
       "      <td>...</td>\n",
       "      <td>...</td>\n",
       "      <td>...</td>\n",
       "      <td>...</td>\n",
       "    </tr>\n",
       "    <tr>\n",
       "      <th>20635</th>\n",
       "      <td>-121.09</td>\n",
       "      <td>39.48</td>\n",
       "      <td>25.0</td>\n",
       "      <td>1665.0</td>\n",
       "      <td>374.0</td>\n",
       "      <td>845.0</td>\n",
       "      <td>330.0</td>\n",
       "      <td>1.5603</td>\n",
       "      <td>78100.0</td>\n",
       "      <td>INLAND</td>\n",
       "    </tr>\n",
       "    <tr>\n",
       "      <th>20636</th>\n",
       "      <td>-121.21</td>\n",
       "      <td>39.49</td>\n",
       "      <td>18.0</td>\n",
       "      <td>697.0</td>\n",
       "      <td>150.0</td>\n",
       "      <td>356.0</td>\n",
       "      <td>114.0</td>\n",
       "      <td>2.5568</td>\n",
       "      <td>77100.0</td>\n",
       "      <td>INLAND</td>\n",
       "    </tr>\n",
       "    <tr>\n",
       "      <th>20637</th>\n",
       "      <td>-121.22</td>\n",
       "      <td>39.43</td>\n",
       "      <td>17.0</td>\n",
       "      <td>2254.0</td>\n",
       "      <td>485.0</td>\n",
       "      <td>1007.0</td>\n",
       "      <td>433.0</td>\n",
       "      <td>1.7000</td>\n",
       "      <td>92300.0</td>\n",
       "      <td>INLAND</td>\n",
       "    </tr>\n",
       "    <tr>\n",
       "      <th>20638</th>\n",
       "      <td>-121.32</td>\n",
       "      <td>39.43</td>\n",
       "      <td>18.0</td>\n",
       "      <td>1860.0</td>\n",
       "      <td>409.0</td>\n",
       "      <td>741.0</td>\n",
       "      <td>349.0</td>\n",
       "      <td>1.8672</td>\n",
       "      <td>84700.0</td>\n",
       "      <td>INLAND</td>\n",
       "    </tr>\n",
       "    <tr>\n",
       "      <th>20639</th>\n",
       "      <td>-121.24</td>\n",
       "      <td>39.37</td>\n",
       "      <td>16.0</td>\n",
       "      <td>2785.0</td>\n",
       "      <td>616.0</td>\n",
       "      <td>1387.0</td>\n",
       "      <td>530.0</td>\n",
       "      <td>2.3886</td>\n",
       "      <td>89400.0</td>\n",
       "      <td>INLAND</td>\n",
       "    </tr>\n",
       "  </tbody>\n",
       "</table>\n",
       "<p>20640 rows × 10 columns</p>\n",
       "</div>"
      ],
      "text/plain": [
       "       longitude  latitude  housing_median_age  total_rooms  total_bedrooms  \\\n",
       "0        -122.23     37.88                41.0        880.0           129.0   \n",
       "1        -122.22     37.86                21.0       7099.0          1106.0   \n",
       "2        -122.24     37.85                52.0       1467.0           190.0   \n",
       "3        -122.25     37.85                52.0       1274.0           235.0   \n",
       "4        -122.25     37.85                52.0       1627.0           280.0   \n",
       "...          ...       ...                 ...          ...             ...   \n",
       "20635    -121.09     39.48                25.0       1665.0           374.0   \n",
       "20636    -121.21     39.49                18.0        697.0           150.0   \n",
       "20637    -121.22     39.43                17.0       2254.0           485.0   \n",
       "20638    -121.32     39.43                18.0       1860.0           409.0   \n",
       "20639    -121.24     39.37                16.0       2785.0           616.0   \n",
       "\n",
       "       population  households  median_income  median_house_value  \\\n",
       "0           322.0       126.0         8.3252            452600.0   \n",
       "1          2401.0      1138.0         8.3014            358500.0   \n",
       "2           496.0       177.0         7.2574            352100.0   \n",
       "3           558.0       219.0         5.6431            341300.0   \n",
       "4           565.0       259.0         3.8462            342200.0   \n",
       "...           ...         ...            ...                 ...   \n",
       "20635       845.0       330.0         1.5603             78100.0   \n",
       "20636       356.0       114.0         2.5568             77100.0   \n",
       "20637      1007.0       433.0         1.7000             92300.0   \n",
       "20638       741.0       349.0         1.8672             84700.0   \n",
       "20639      1387.0       530.0         2.3886             89400.0   \n",
       "\n",
       "      ocean_proximity  \n",
       "0            NEAR BAY  \n",
       "1            NEAR BAY  \n",
       "2            NEAR BAY  \n",
       "3            NEAR BAY  \n",
       "4            NEAR BAY  \n",
       "...               ...  \n",
       "20635          INLAND  \n",
       "20636          INLAND  \n",
       "20637          INLAND  \n",
       "20638          INLAND  \n",
       "20639          INLAND  \n",
       "\n",
       "[20640 rows x 10 columns]"
      ]
     },
     "metadata": {},
     "execution_count": 1
    }
   ],
   "metadata": {
    "colab": {},
    "colab_type": "code",
    "id": "9ivCDWnwE2Zx"
   }
  },
  {
   "cell_type": "markdown",
   "source": [
    "Next we can define which columns are features and which is the target.\n",
    "\n",
    "We'll also make a separate list of our numeric columns."
   ],
   "metadata": {
    "colab_type": "text",
    "id": "KI9ElSbPje6j"
   }
  },
  {
   "cell_type": "code",
   "execution_count": 2,
   "source": [
    "target_column = 'median_house_value'\n",
    "feature_columns = [c for c in housing_df.columns if c != target_column]\n",
    "numeric_feature_columns = [c for c in feature_columns if c != 'ocean_proximity']\n",
    "\n",
    "target_column, feature_columns, numeric_feature_columns"
   ],
   "outputs": [
    {
     "output_type": "execute_result",
     "data": {
      "text/plain": [
       "('median_house_value',\n",
       " ['longitude',\n",
       "  'latitude',\n",
       "  'housing_median_age',\n",
       "  'total_rooms',\n",
       "  'total_bedrooms',\n",
       "  'population',\n",
       "  'households',\n",
       "  'median_income',\n",
       "  'ocean_proximity'],\n",
       " ['longitude',\n",
       "  'latitude',\n",
       "  'housing_median_age',\n",
       "  'total_rooms',\n",
       "  'total_bedrooms',\n",
       "  'population',\n",
       "  'households',\n",
       "  'median_income'])"
      ]
     },
     "metadata": {},
     "execution_count": 2
    }
   ],
   "metadata": {
    "colab": {},
    "colab_type": "code",
    "id": "wTjb8Gn-92v2"
   }
  },
  {
   "cell_type": "markdown",
   "source": [
    "We also reduced the value of our targets by a factor in the previous lab. This reduction in magnitude was done to help the model train faster. Let's do that again."
   ],
   "metadata": {
    "colab_type": "text",
    "id": "wrOyGuN_k74i"
   }
  },
  {
   "cell_type": "code",
   "execution_count": 3,
   "source": [
    "TARGET_FACTOR = 100000\n",
    "\n",
    "housing_df[target_column] /= TARGET_FACTOR\n",
    "\n",
    "housing_df[target_column].describe()"
   ],
   "outputs": [
    {
     "output_type": "execute_result",
     "data": {
      "text/plain": [
       "count    20640.000000\n",
       "mean         2.068558\n",
       "std          1.153956\n",
       "min          0.149990\n",
       "25%          1.196000\n",
       "50%          1.797000\n",
       "75%          2.647250\n",
       "max          5.000010\n",
       "Name: median_house_value, dtype: float64"
      ]
     },
     "metadata": {},
     "execution_count": 3
    }
   ],
   "metadata": {
    "colab": {},
    "colab_type": "code",
    "id": "1RkwE7QGlAjG"
   }
  },
  {
   "cell_type": "markdown",
   "source": [
    "And we filled in some missing `total_bedrooms` values."
   ],
   "metadata": {
    "colab_type": "text",
    "id": "EzTdkcVS2ZCk"
   }
  },
  {
   "cell_type": "code",
   "execution_count": 4,
   "source": [
    "has_all_data = housing_df[~housing_df['total_bedrooms'].isna()]\n",
    "\n",
    "sums = has_all_data[['total_bedrooms', 'total_rooms']].sum().tolist()\n",
    "\n",
    "bedrooms_to_total_rooms_ratio = sums[0] / sums[1]\n",
    "\n",
    "missing_total_bedrooms_idx = housing_df['total_bedrooms'].isna()\n",
    "\n",
    "housing_df.loc[missing_total_bedrooms_idx, 'total_bedrooms'] = housing_df[\n",
    "    missing_total_bedrooms_idx]['total_rooms'] * bedrooms_to_total_rooms_ratio\n",
    "\n",
    "housing_df.describe()"
   ],
   "outputs": [
    {
     "output_type": "execute_result",
     "data": {
      "text/html": [
       "<div>\n",
       "<style scoped>\n",
       "    .dataframe tbody tr th:only-of-type {\n",
       "        vertical-align: middle;\n",
       "    }\n",
       "\n",
       "    .dataframe tbody tr th {\n",
       "        vertical-align: top;\n",
       "    }\n",
       "\n",
       "    .dataframe thead th {\n",
       "        text-align: right;\n",
       "    }\n",
       "</style>\n",
       "<table border=\"1\" class=\"dataframe\">\n",
       "  <thead>\n",
       "    <tr style=\"text-align: right;\">\n",
       "      <th></th>\n",
       "      <th>longitude</th>\n",
       "      <th>latitude</th>\n",
       "      <th>housing_median_age</th>\n",
       "      <th>total_rooms</th>\n",
       "      <th>total_bedrooms</th>\n",
       "      <th>population</th>\n",
       "      <th>households</th>\n",
       "      <th>median_income</th>\n",
       "      <th>median_house_value</th>\n",
       "    </tr>\n",
       "  </thead>\n",
       "  <tbody>\n",
       "    <tr>\n",
       "      <th>count</th>\n",
       "      <td>20640.000000</td>\n",
       "      <td>20640.000000</td>\n",
       "      <td>20640.000000</td>\n",
       "      <td>20640.000000</td>\n",
       "      <td>20640.000000</td>\n",
       "      <td>20640.000000</td>\n",
       "      <td>20640.000000</td>\n",
       "      <td>20640.000000</td>\n",
       "      <td>20640.000000</td>\n",
       "    </tr>\n",
       "    <tr>\n",
       "      <th>mean</th>\n",
       "      <td>-119.569704</td>\n",
       "      <td>35.631861</td>\n",
       "      <td>28.639486</td>\n",
       "      <td>2635.763081</td>\n",
       "      <td>537.719351</td>\n",
       "      <td>1425.476744</td>\n",
       "      <td>499.539680</td>\n",
       "      <td>3.870671</td>\n",
       "      <td>2.068558</td>\n",
       "    </tr>\n",
       "    <tr>\n",
       "      <th>std</th>\n",
       "      <td>2.003532</td>\n",
       "      <td>2.135952</td>\n",
       "      <td>12.585558</td>\n",
       "      <td>2181.615252</td>\n",
       "      <td>420.848774</td>\n",
       "      <td>1132.462122</td>\n",
       "      <td>382.329753</td>\n",
       "      <td>1.899822</td>\n",
       "      <td>1.153956</td>\n",
       "    </tr>\n",
       "    <tr>\n",
       "      <th>min</th>\n",
       "      <td>-124.350000</td>\n",
       "      <td>32.540000</td>\n",
       "      <td>1.000000</td>\n",
       "      <td>2.000000</td>\n",
       "      <td>1.000000</td>\n",
       "      <td>3.000000</td>\n",
       "      <td>1.000000</td>\n",
       "      <td>0.499900</td>\n",
       "      <td>0.149990</td>\n",
       "    </tr>\n",
       "    <tr>\n",
       "      <th>25%</th>\n",
       "      <td>-121.800000</td>\n",
       "      <td>33.930000</td>\n",
       "      <td>18.000000</td>\n",
       "      <td>1447.750000</td>\n",
       "      <td>295.000000</td>\n",
       "      <td>787.000000</td>\n",
       "      <td>280.000000</td>\n",
       "      <td>2.563400</td>\n",
       "      <td>1.196000</td>\n",
       "    </tr>\n",
       "    <tr>\n",
       "      <th>50%</th>\n",
       "      <td>-118.490000</td>\n",
       "      <td>34.260000</td>\n",
       "      <td>29.000000</td>\n",
       "      <td>2127.000000</td>\n",
       "      <td>435.000000</td>\n",
       "      <td>1166.000000</td>\n",
       "      <td>409.000000</td>\n",
       "      <td>3.534800</td>\n",
       "      <td>1.797000</td>\n",
       "    </tr>\n",
       "    <tr>\n",
       "      <th>75%</th>\n",
       "      <td>-118.010000</td>\n",
       "      <td>37.710000</td>\n",
       "      <td>37.000000</td>\n",
       "      <td>3148.000000</td>\n",
       "      <td>647.000000</td>\n",
       "      <td>1725.000000</td>\n",
       "      <td>605.000000</td>\n",
       "      <td>4.743250</td>\n",
       "      <td>2.647250</td>\n",
       "    </tr>\n",
       "    <tr>\n",
       "      <th>max</th>\n",
       "      <td>-114.310000</td>\n",
       "      <td>41.950000</td>\n",
       "      <td>52.000000</td>\n",
       "      <td>39320.000000</td>\n",
       "      <td>6445.000000</td>\n",
       "      <td>35682.000000</td>\n",
       "      <td>6082.000000</td>\n",
       "      <td>15.000100</td>\n",
       "      <td>5.000010</td>\n",
       "    </tr>\n",
       "  </tbody>\n",
       "</table>\n",
       "</div>"
      ],
      "text/plain": [
       "          longitude      latitude  housing_median_age   total_rooms  \\\n",
       "count  20640.000000  20640.000000        20640.000000  20640.000000   \n",
       "mean    -119.569704     35.631861           28.639486   2635.763081   \n",
       "std        2.003532      2.135952           12.585558   2181.615252   \n",
       "min     -124.350000     32.540000            1.000000      2.000000   \n",
       "25%     -121.800000     33.930000           18.000000   1447.750000   \n",
       "50%     -118.490000     34.260000           29.000000   2127.000000   \n",
       "75%     -118.010000     37.710000           37.000000   3148.000000   \n",
       "max     -114.310000     41.950000           52.000000  39320.000000   \n",
       "\n",
       "       total_bedrooms    population    households  median_income  \\\n",
       "count    20640.000000  20640.000000  20640.000000   20640.000000   \n",
       "mean       537.719351   1425.476744    499.539680       3.870671   \n",
       "std        420.848774   1132.462122    382.329753       1.899822   \n",
       "min          1.000000      3.000000      1.000000       0.499900   \n",
       "25%        295.000000    787.000000    280.000000       2.563400   \n",
       "50%        435.000000   1166.000000    409.000000       3.534800   \n",
       "75%        647.000000   1725.000000    605.000000       4.743250   \n",
       "max       6445.000000  35682.000000   6082.000000      15.000100   \n",
       "\n",
       "       median_house_value  \n",
       "count        20640.000000  \n",
       "mean             2.068558  \n",
       "std              1.153956  \n",
       "min              0.149990  \n",
       "25%              1.196000  \n",
       "50%              1.797000  \n",
       "75%              2.647250  \n",
       "max              5.000010  "
      ]
     },
     "metadata": {},
     "execution_count": 4
    }
   ],
   "metadata": {
    "colab": {},
    "colab_type": "code",
    "id": "LByQBpsy2b--"
   }
  },
  {
   "cell_type": "markdown",
   "source": [
    "### Exercise 1: Standardization\n",
    "\n",
    "Previously when we worked with this dataset, we normalized the feature data in order to get it ready for the model. Normalization was the process of making all of the data fit between 0.0 and 1.0 by subtracting the minimum of each column from each data point in that column and then dividing by the delta between the maximum and minimum values.\n",
    "\n",
    "In this exercise you will need to standardize all of the feature columns. Standardization is performed by subtracting the mean value of each column from each data point in that column and then dividing by the standard deviation.\n",
    "\n",
    "> *Hint: When you are done call `describe()` and ensure that the standard deviation for every feature column is 1.0`*"
   ],
   "metadata": {
    "colab_type": "text",
    "id": "YYI2A_97jlD-"
   }
  },
  {
   "cell_type": "code",
   "execution_count": 5,
   "source": [
    "housing_df.loc[:, numeric_feature_columns] = (\n",
    "    housing_df[numeric_feature_columns] - \n",
    "      housing_df[numeric_feature_columns].mean()) / (\n",
    "          housing_df[numeric_feature_columns].std())\n",
    "housing_df[numeric_feature_columns].describe()"
   ],
   "outputs": [
    {
     "output_type": "execute_result",
     "data": {
      "text/html": [
       "<div>\n",
       "<style scoped>\n",
       "    .dataframe tbody tr th:only-of-type {\n",
       "        vertical-align: middle;\n",
       "    }\n",
       "\n",
       "    .dataframe tbody tr th {\n",
       "        vertical-align: top;\n",
       "    }\n",
       "\n",
       "    .dataframe thead th {\n",
       "        text-align: right;\n",
       "    }\n",
       "</style>\n",
       "<table border=\"1\" class=\"dataframe\">\n",
       "  <thead>\n",
       "    <tr style=\"text-align: right;\">\n",
       "      <th></th>\n",
       "      <th>longitude</th>\n",
       "      <th>latitude</th>\n",
       "      <th>housing_median_age</th>\n",
       "      <th>total_rooms</th>\n",
       "      <th>total_bedrooms</th>\n",
       "      <th>population</th>\n",
       "      <th>households</th>\n",
       "      <th>median_income</th>\n",
       "    </tr>\n",
       "  </thead>\n",
       "  <tbody>\n",
       "    <tr>\n",
       "      <th>count</th>\n",
       "      <td>2.064000e+04</td>\n",
       "      <td>2.064000e+04</td>\n",
       "      <td>2.064000e+04</td>\n",
       "      <td>2.064000e+04</td>\n",
       "      <td>2.064000e+04</td>\n",
       "      <td>2.064000e+04</td>\n",
       "      <td>2.064000e+04</td>\n",
       "      <td>2.064000e+04</td>\n",
       "    </tr>\n",
       "    <tr>\n",
       "      <th>mean</th>\n",
       "      <td>-1.429215e-12</td>\n",
       "      <td>-7.636681e-14</td>\n",
       "      <td>1.817399e-15</td>\n",
       "      <td>-9.590802e-17</td>\n",
       "      <td>3.758299e-17</td>\n",
       "      <td>-2.836528e-16</td>\n",
       "      <td>7.563865e-17</td>\n",
       "      <td>-2.526564e-14</td>\n",
       "    </tr>\n",
       "    <tr>\n",
       "      <th>std</th>\n",
       "      <td>1.000000e+00</td>\n",
       "      <td>1.000000e+00</td>\n",
       "      <td>1.000000e+00</td>\n",
       "      <td>1.000000e+00</td>\n",
       "      <td>1.000000e+00</td>\n",
       "      <td>1.000000e+00</td>\n",
       "      <td>1.000000e+00</td>\n",
       "      <td>1.000000e+00</td>\n",
       "    </tr>\n",
       "    <tr>\n",
       "      <th>min</th>\n",
       "      <td>-2.385935e+00</td>\n",
       "      <td>-1.447533e+00</td>\n",
       "      <td>-2.196127e+00</td>\n",
       "      <td>-1.207254e+00</td>\n",
       "      <td>-1.275326e+00</td>\n",
       "      <td>-1.256092e+00</td>\n",
       "      <td>-1.303952e+00</td>\n",
       "      <td>-1.774256e+00</td>\n",
       "    </tr>\n",
       "    <tr>\n",
       "      <th>25%</th>\n",
       "      <td>-1.113182e+00</td>\n",
       "      <td>-7.967694e-01</td>\n",
       "      <td>-8.453727e-01</td>\n",
       "      <td>-5.445566e-01</td>\n",
       "      <td>-5.767377e-01</td>\n",
       "      <td>-5.637952e-01</td>\n",
       "      <td>-5.742155e-01</td>\n",
       "      <td>-6.881019e-01</td>\n",
       "    </tr>\n",
       "    <tr>\n",
       "      <th>50%</th>\n",
       "      <td>5.389006e-01</td>\n",
       "      <td>-6.422715e-01</td>\n",
       "      <td>2.864502e-02</td>\n",
       "      <td>-2.332048e-01</td>\n",
       "      <td>-2.440766e-01</td>\n",
       "      <td>-2.291262e-01</td>\n",
       "      <td>-2.368104e-01</td>\n",
       "      <td>-1.767908e-01</td>\n",
       "    </tr>\n",
       "    <tr>\n",
       "      <th>75%</th>\n",
       "      <td>7.784775e-01</td>\n",
       "      <td>9.729330e-01</td>\n",
       "      <td>6.642943e-01</td>\n",
       "      <td>2.347971e-01</td>\n",
       "      <td>2.596673e-01</td>\n",
       "      <td>2.644885e-01</td>\n",
       "      <td>2.758360e-01</td>\n",
       "      <td>4.592952e-01</td>\n",
       "    </tr>\n",
       "    <tr>\n",
       "      <th>max</th>\n",
       "      <td>2.625216e+00</td>\n",
       "      <td>2.957996e+00</td>\n",
       "      <td>1.856137e+00</td>\n",
       "      <td>1.681517e+01</td>\n",
       "      <td>1.403659e+01</td>\n",
       "      <td>3.024960e+01</td>\n",
       "      <td>1.460117e+01</td>\n",
       "      <td>5.858144e+00</td>\n",
       "    </tr>\n",
       "  </tbody>\n",
       "</table>\n",
       "</div>"
      ],
      "text/plain": [
       "          longitude      latitude  housing_median_age   total_rooms  \\\n",
       "count  2.064000e+04  2.064000e+04        2.064000e+04  2.064000e+04   \n",
       "mean  -1.429215e-12 -7.636681e-14        1.817399e-15 -9.590802e-17   \n",
       "std    1.000000e+00  1.000000e+00        1.000000e+00  1.000000e+00   \n",
       "min   -2.385935e+00 -1.447533e+00       -2.196127e+00 -1.207254e+00   \n",
       "25%   -1.113182e+00 -7.967694e-01       -8.453727e-01 -5.445566e-01   \n",
       "50%    5.389006e-01 -6.422715e-01        2.864502e-02 -2.332048e-01   \n",
       "75%    7.784775e-01  9.729330e-01        6.642943e-01  2.347971e-01   \n",
       "max    2.625216e+00  2.957996e+00        1.856137e+00  1.681517e+01   \n",
       "\n",
       "       total_bedrooms    population    households  median_income  \n",
       "count    2.064000e+04  2.064000e+04  2.064000e+04   2.064000e+04  \n",
       "mean     3.758299e-17 -2.836528e-16  7.563865e-17  -2.526564e-14  \n",
       "std      1.000000e+00  1.000000e+00  1.000000e+00   1.000000e+00  \n",
       "min     -1.275326e+00 -1.256092e+00 -1.303952e+00  -1.774256e+00  \n",
       "25%     -5.767377e-01 -5.637952e-01 -5.742155e-01  -6.881019e-01  \n",
       "50%     -2.440766e-01 -2.291262e-01 -2.368104e-01  -1.767908e-01  \n",
       "75%      2.596673e-01  2.644885e-01  2.758360e-01   4.592952e-01  \n",
       "max      1.403659e+01  3.024960e+01  1.460117e+01   5.858144e+00  "
      ]
     },
     "metadata": {},
     "execution_count": 5
    }
   ],
   "metadata": {
    "colab": {},
    "colab_type": "code",
    "id": "8PMD-9e8kVDK"
   }
  },
  {
   "cell_type": "markdown",
   "source": [
    "---"
   ],
   "metadata": {
    "colab_type": "text",
    "id": "1tsH6xLZkXFL"
   }
  },
  {
   "cell_type": "markdown",
   "source": [
    "### One-Hot Encoding"
   ],
   "metadata": {
    "colab_type": "text",
    "id": "Jt-DiypL6HZ9"
   }
  },
  {
   "cell_type": "markdown",
   "source": [
    "The `ocean_proximity` column will not work with the neural network model that we are planning to build. Neural networks expect numeric values, but `ocean_proximity` contains string values.\n",
    "\n",
    "Let's remind ourselves which values it contains:"
   ],
   "metadata": {
    "colab_type": "text",
    "id": "qPpALMfd6KbK"
   }
  },
  {
   "cell_type": "code",
   "execution_count": 6,
   "source": [
    "sorted(housing_df['ocean_proximity'].unique())"
   ],
   "outputs": [
    {
     "output_type": "execute_result",
     "data": {
      "text/plain": [
       "['<1H OCEAN', 'INLAND', 'ISLAND', 'NEAR BAY', 'NEAR OCEAN']"
      ]
     },
     "metadata": {},
     "execution_count": 6
    }
   ],
   "metadata": {
    "colab": {},
    "colab_type": "code",
    "id": "uYL4unBF6NeC"
   }
  },
  {
   "cell_type": "markdown",
   "source": [
    "There are five string values. In our linear regression Colab we told TensorFlow to treat these values as a categorical column. Each string was converted to a whole number that represented their position in a vocabulary list: `0`, `1`, `2`, `3`, or `4`.\n",
    "\n",
    "For neural networks it is common to see another strategy called one-hot encoding. One-hot encoding is the process of taking a column with a fixed list of string values and turning it into multiple columns containing only zeros and ones.\n",
    "\n",
    "For instance the column `ocean_proximity` containing five strings would be converted to five columns containing ones and zeros:\n",
    "\n",
    "op_sub_hr | op_inland | op_island | op_near_bay | op_near_ocean\n",
    "----------|-----------|-----------|-------------|--------------\n",
    " 0        | 0         | 0         | 1           | 0\n",
    " 0        | 1         | 0         | 0           | 0\n",
    " 0        | 1         | 0         | 0           | 0\n",
    " 1        | 0         | 0         | 0           | 0\n",
    " 0        | 0         | 1         | 0           | 0\n",
    " 0        | 0         | 0         | 0           | 1\n",
    " 0        | 0         | 1         | 0           | 0\n",
    "\n",
    " Notice that in each row, only one column has a value of `1`. The rest are all `0`. This is the \"one-hot\" in one-hot encoding.\n",
    "\n",
    "As you can imagine, it doesn't scale well for columns with many distinct values. In our case, `5` is perfectly reasonable.\n",
    "\n",
    "Let's manually one-hot encode our data."
   ],
   "metadata": {
    "colab_type": "text",
    "id": "moQf0ZjC6Rso"
   }
  },
  {
   "cell_type": "code",
   "execution_count": 7,
   "source": [
    "for op in sorted(housing_df['ocean_proximity'].unique()):\n",
    "  op_col = op.lower().replace(' ', '_').replace('<', '')\n",
    "  housing_df[op_col] = (housing_df['ocean_proximity'] == op).astype(int)\n",
    "  feature_columns.append(op_col)\n",
    "\n",
    "feature_columns.remove('ocean_proximity')\n",
    "\n",
    "housing_df"
   ],
   "outputs": [
    {
     "output_type": "execute_result",
     "data": {
      "text/html": [
       "<div>\n",
       "<style scoped>\n",
       "    .dataframe tbody tr th:only-of-type {\n",
       "        vertical-align: middle;\n",
       "    }\n",
       "\n",
       "    .dataframe tbody tr th {\n",
       "        vertical-align: top;\n",
       "    }\n",
       "\n",
       "    .dataframe thead th {\n",
       "        text-align: right;\n",
       "    }\n",
       "</style>\n",
       "<table border=\"1\" class=\"dataframe\">\n",
       "  <thead>\n",
       "    <tr style=\"text-align: right;\">\n",
       "      <th></th>\n",
       "      <th>longitude</th>\n",
       "      <th>latitude</th>\n",
       "      <th>housing_median_age</th>\n",
       "      <th>total_rooms</th>\n",
       "      <th>total_bedrooms</th>\n",
       "      <th>population</th>\n",
       "      <th>households</th>\n",
       "      <th>median_income</th>\n",
       "      <th>median_house_value</th>\n",
       "      <th>ocean_proximity</th>\n",
       "      <th>1h_ocean</th>\n",
       "      <th>inland</th>\n",
       "      <th>island</th>\n",
       "      <th>near_bay</th>\n",
       "      <th>near_ocean</th>\n",
       "    </tr>\n",
       "  </thead>\n",
       "  <tbody>\n",
       "    <tr>\n",
       "      <th>0</th>\n",
       "      <td>-1.327803</td>\n",
       "      <td>1.052523</td>\n",
       "      <td>0.982119</td>\n",
       "      <td>-0.804800</td>\n",
       "      <td>-0.971179</td>\n",
       "      <td>-0.974405</td>\n",
       "      <td>-0.977009</td>\n",
       "      <td>2.344709</td>\n",
       "      <td>4.526</td>\n",
       "      <td>NEAR BAY</td>\n",
       "      <td>0</td>\n",
       "      <td>0</td>\n",
       "      <td>0</td>\n",
       "      <td>1</td>\n",
       "      <td>0</td>\n",
       "    </tr>\n",
       "    <tr>\n",
       "      <th>1</th>\n",
       "      <td>-1.322812</td>\n",
       "      <td>1.043159</td>\n",
       "      <td>-0.607004</td>\n",
       "      <td>2.045841</td>\n",
       "      <td>1.350320</td>\n",
       "      <td>0.861418</td>\n",
       "      <td>1.669921</td>\n",
       "      <td>2.332181</td>\n",
       "      <td>3.585</td>\n",
       "      <td>NEAR BAY</td>\n",
       "      <td>0</td>\n",
       "      <td>0</td>\n",
       "      <td>0</td>\n",
       "      <td>1</td>\n",
       "      <td>0</td>\n",
       "    </tr>\n",
       "    <tr>\n",
       "      <th>2</th>\n",
       "      <td>-1.332794</td>\n",
       "      <td>1.038478</td>\n",
       "      <td>1.856137</td>\n",
       "      <td>-0.535733</td>\n",
       "      <td>-0.826233</td>\n",
       "      <td>-0.820757</td>\n",
       "      <td>-0.843616</td>\n",
       "      <td>1.782656</td>\n",
       "      <td>3.521</td>\n",
       "      <td>NEAR BAY</td>\n",
       "      <td>0</td>\n",
       "      <td>0</td>\n",
       "      <td>0</td>\n",
       "      <td>1</td>\n",
       "      <td>0</td>\n",
       "    </tr>\n",
       "    <tr>\n",
       "      <th>3</th>\n",
       "      <td>-1.337785</td>\n",
       "      <td>1.038478</td>\n",
       "      <td>1.856137</td>\n",
       "      <td>-0.624199</td>\n",
       "      <td>-0.719307</td>\n",
       "      <td>-0.766010</td>\n",
       "      <td>-0.733764</td>\n",
       "      <td>0.932945</td>\n",
       "      <td>3.413</td>\n",
       "      <td>NEAR BAY</td>\n",
       "      <td>0</td>\n",
       "      <td>0</td>\n",
       "      <td>0</td>\n",
       "      <td>1</td>\n",
       "      <td>0</td>\n",
       "    </tr>\n",
       "    <tr>\n",
       "      <th>4</th>\n",
       "      <td>-1.337785</td>\n",
       "      <td>1.038478</td>\n",
       "      <td>1.856137</td>\n",
       "      <td>-0.462393</td>\n",
       "      <td>-0.612380</td>\n",
       "      <td>-0.759828</td>\n",
       "      <td>-0.629142</td>\n",
       "      <td>-0.012881</td>\n",
       "      <td>3.422</td>\n",
       "      <td>NEAR BAY</td>\n",
       "      <td>0</td>\n",
       "      <td>0</td>\n",
       "      <td>0</td>\n",
       "      <td>1</td>\n",
       "      <td>0</td>\n",
       "    </tr>\n",
       "    <tr>\n",
       "      <th>...</th>\n",
       "      <td>...</td>\n",
       "      <td>...</td>\n",
       "      <td>...</td>\n",
       "      <td>...</td>\n",
       "      <td>...</td>\n",
       "      <td>...</td>\n",
       "      <td>...</td>\n",
       "      <td>...</td>\n",
       "      <td>...</td>\n",
       "      <td>...</td>\n",
       "      <td>...</td>\n",
       "      <td>...</td>\n",
       "      <td>...</td>\n",
       "      <td>...</td>\n",
       "      <td>...</td>\n",
       "    </tr>\n",
       "    <tr>\n",
       "      <th>20635</th>\n",
       "      <td>-0.758808</td>\n",
       "      <td>1.801603</td>\n",
       "      <td>-0.289180</td>\n",
       "      <td>-0.444974</td>\n",
       "      <td>-0.389022</td>\n",
       "      <td>-0.512579</td>\n",
       "      <td>-0.443438</td>\n",
       "      <td>-1.216099</td>\n",
       "      <td>0.781</td>\n",
       "      <td>INLAND</td>\n",
       "      <td>0</td>\n",
       "      <td>1</td>\n",
       "      <td>0</td>\n",
       "      <td>0</td>\n",
       "      <td>0</td>\n",
       "    </tr>\n",
       "    <tr>\n",
       "      <th>20636</th>\n",
       "      <td>-0.818702</td>\n",
       "      <td>1.806285</td>\n",
       "      <td>-0.845373</td>\n",
       "      <td>-0.888682</td>\n",
       "      <td>-0.921280</td>\n",
       "      <td>-0.944382</td>\n",
       "      <td>-1.008396</td>\n",
       "      <td>-0.691576</td>\n",
       "      <td>0.771</td>\n",
       "      <td>INLAND</td>\n",
       "      <td>0</td>\n",
       "      <td>1</td>\n",
       "      <td>0</td>\n",
       "      <td>0</td>\n",
       "      <td>0</td>\n",
       "    </tr>\n",
       "    <tr>\n",
       "      <th>20637</th>\n",
       "      <td>-0.823693</td>\n",
       "      <td>1.778194</td>\n",
       "      <td>-0.924829</td>\n",
       "      <td>-0.174991</td>\n",
       "      <td>-0.125269</td>\n",
       "      <td>-0.369528</td>\n",
       "      <td>-0.174037</td>\n",
       "      <td>-1.142566</td>\n",
       "      <td>0.923</td>\n",
       "      <td>INLAND</td>\n",
       "      <td>0</td>\n",
       "      <td>1</td>\n",
       "      <td>0</td>\n",
       "      <td>0</td>\n",
       "      <td>0</td>\n",
       "    </tr>\n",
       "    <tr>\n",
       "      <th>20638</th>\n",
       "      <td>-0.873605</td>\n",
       "      <td>1.778194</td>\n",
       "      <td>-0.845373</td>\n",
       "      <td>-0.355591</td>\n",
       "      <td>-0.305857</td>\n",
       "      <td>-0.604415</td>\n",
       "      <td>-0.393743</td>\n",
       "      <td>-1.054557</td>\n",
       "      <td>0.847</td>\n",
       "      <td>INLAND</td>\n",
       "      <td>0</td>\n",
       "      <td>1</td>\n",
       "      <td>0</td>\n",
       "      <td>0</td>\n",
       "      <td>0</td>\n",
       "    </tr>\n",
       "    <tr>\n",
       "      <th>20639</th>\n",
       "      <td>-0.833676</td>\n",
       "      <td>1.750104</td>\n",
       "      <td>-1.004285</td>\n",
       "      <td>0.068407</td>\n",
       "      <td>0.186007</td>\n",
       "      <td>-0.033976</td>\n",
       "      <td>0.079670</td>\n",
       "      <td>-0.780111</td>\n",
       "      <td>0.894</td>\n",
       "      <td>INLAND</td>\n",
       "      <td>0</td>\n",
       "      <td>1</td>\n",
       "      <td>0</td>\n",
       "      <td>0</td>\n",
       "      <td>0</td>\n",
       "    </tr>\n",
       "  </tbody>\n",
       "</table>\n",
       "<p>20640 rows × 15 columns</p>\n",
       "</div>"
      ],
      "text/plain": [
       "       longitude  latitude  housing_median_age  total_rooms  total_bedrooms  \\\n",
       "0      -1.327803  1.052523            0.982119    -0.804800       -0.971179   \n",
       "1      -1.322812  1.043159           -0.607004     2.045841        1.350320   \n",
       "2      -1.332794  1.038478            1.856137    -0.535733       -0.826233   \n",
       "3      -1.337785  1.038478            1.856137    -0.624199       -0.719307   \n",
       "4      -1.337785  1.038478            1.856137    -0.462393       -0.612380   \n",
       "...          ...       ...                 ...          ...             ...   \n",
       "20635  -0.758808  1.801603           -0.289180    -0.444974       -0.389022   \n",
       "20636  -0.818702  1.806285           -0.845373    -0.888682       -0.921280   \n",
       "20637  -0.823693  1.778194           -0.924829    -0.174991       -0.125269   \n",
       "20638  -0.873605  1.778194           -0.845373    -0.355591       -0.305857   \n",
       "20639  -0.833676  1.750104           -1.004285     0.068407        0.186007   \n",
       "\n",
       "       population  households  median_income  median_house_value  \\\n",
       "0       -0.974405   -0.977009       2.344709               4.526   \n",
       "1        0.861418    1.669921       2.332181               3.585   \n",
       "2       -0.820757   -0.843616       1.782656               3.521   \n",
       "3       -0.766010   -0.733764       0.932945               3.413   \n",
       "4       -0.759828   -0.629142      -0.012881               3.422   \n",
       "...           ...         ...            ...                 ...   \n",
       "20635   -0.512579   -0.443438      -1.216099               0.781   \n",
       "20636   -0.944382   -1.008396      -0.691576               0.771   \n",
       "20637   -0.369528   -0.174037      -1.142566               0.923   \n",
       "20638   -0.604415   -0.393743      -1.054557               0.847   \n",
       "20639   -0.033976    0.079670      -0.780111               0.894   \n",
       "\n",
       "      ocean_proximity  1h_ocean  inland  island  near_bay  near_ocean  \n",
       "0            NEAR BAY         0       0       0         1           0  \n",
       "1            NEAR BAY         0       0       0         1           0  \n",
       "2            NEAR BAY         0       0       0         1           0  \n",
       "3            NEAR BAY         0       0       0         1           0  \n",
       "4            NEAR BAY         0       0       0         1           0  \n",
       "...               ...       ...     ...     ...       ...         ...  \n",
       "20635          INLAND         0       1       0         0           0  \n",
       "20636          INLAND         0       1       0         0           0  \n",
       "20637          INLAND         0       1       0         0           0  \n",
       "20638          INLAND         0       1       0         0           0  \n",
       "20639          INLAND         0       1       0         0           0  \n",
       "\n",
       "[20640 rows x 15 columns]"
      ]
     },
     "metadata": {},
     "execution_count": 7
    }
   ],
   "metadata": {
    "colab": {},
    "colab_type": "code",
    "id": "DC2E1ItX6Q5N"
   }
  },
  {
   "cell_type": "markdown",
   "source": [
    "### Exercise 2: Split the Data\n",
    "\n",
    "We want to hold out some of the data for validation. Using standard Python or a library, split the data. Put 20% of the data in a `DataFrame` called `testing_df` and the other 80% in a `DataFrame` called `training_df`. Be sure to shuffle the data before splitting. Print the number of records in `testing_df` and `training_df` in order to check your work."
   ],
   "metadata": {
    "colab_type": "text",
    "id": "b6RtwkjglSwN"
   }
  },
  {
   "cell_type": "markdown",
   "source": [
    "#### **Student Solution**"
   ],
   "metadata": {
    "colab_type": "text",
    "id": "30T4hQ4bmCM-"
   }
  },
  {
   "cell_type": "code",
   "execution_count": 8,
   "source": [
    "# Shuffle\n",
    "housing_df = housing_df.sample(frac=1)\n",
    "\n",
    "# Calculate test set size\n",
    "test_set_size = int(len(housing_df) * 0.2)\n",
    "\n",
    "# Split the data\n",
    "testing_df = housing_df[:test_set_size]\n",
    "training_df = housing_df[test_set_size:]\n",
    "\n",
    "print(f'Holding out {len(testing_df)} records for testing. ')\n",
    "print(f'Using {len(training_df)} records for training.')"
   ],
   "outputs": [
    {
     "output_type": "stream",
     "name": "stdout",
     "text": [
      "Holding out 4128 records for testing. \n",
      "Using 16512 records for training.\n"
     ]
    }
   ],
   "metadata": {
    "colab": {},
    "colab_type": "code",
    "id": "-GqS7LRJmFsf"
   }
  },
  {
   "cell_type": "markdown",
   "source": [
    "---"
   ],
   "metadata": {
    "colab_type": "text",
    "id": "MIOTjR4mmL_X"
   }
  },
  {
   "cell_type": "markdown",
   "source": [
    "## Building the Model"
   ],
   "metadata": {
    "colab_type": "text",
    "id": "hyCUUMkpn0Wi"
   }
  },
  {
   "cell_type": "markdown",
   "source": [
    "We will build the model using TensorFlow 2. Let's enable it and go ahead and load up TensorFlow."
   ],
   "metadata": {
    "colab_type": "text",
    "id": "qv4GnnTyohQe"
   }
  },
  {
   "cell_type": "code",
   "execution_count": 9,
   "source": [
    "\n",
    "\n",
    "import tensorflow as tf\n",
    "tf.__version__"
   ],
   "outputs": [
    {
     "output_type": "execute_result",
     "data": {
      "text/plain": [
       "'2.4.1'"
      ]
     },
     "metadata": {},
     "execution_count": 9
    }
   ],
   "metadata": {
    "colab": {},
    "colab_type": "code",
    "id": "6u6detBun2pN"
   }
  },
  {
   "cell_type": "markdown",
   "source": [
    "When we built a TensorFlow `LinearRegressor` in a previous lab, we were using a pre-configured model. For our neural network regressor, we will build the model ourselves using the [Keras API of TensorFlow](https://www.tensorflow.org/guide/keras).\n",
    "\n",
    "We'll build a **sequential** model where one layer feeds into the next. Each layer will be **densely connected**, which means every node in one layer connects to every node in the next layer.\n",
    "\n",
    "A few things are required for our network. We need to have 13 input nodes since that is the number of features that we have (8 original numerical columns, plus the 5 one-hot encoded ocean proximity columns that we added). We also need to have one output node since we are trying to predict a single price value.\n",
    "\n",
    "Let's see what that would look like:\n"
   ],
   "metadata": {
    "colab_type": "text",
    "id": "e4Pfxar2o5O2"
   }
  },
  {
   "cell_type": "code",
   "execution_count": 12,
   "source": [
    "from tensorflow import keras\n",
    "from tensorflow.keras import layers\n",
    "\n",
    "# Create the Sequential model.\n",
    "model = keras.Sequential()\n",
    "\n",
    "# Determine the \"input shape\", which is the number\n",
    "# of features that we will feed into the model.\n",
    "input_shape = len(feature_columns)\n",
    "\n",
    "# Create a layer that accepts our features and outputs\n",
    "# a single value, the predicted median home price.\n",
    "layer = layers.Dense(1, input_shape=[input_shape])\n",
    "\n",
    "# Add the layer to our model.\n",
    "model.add(layer)\n",
    "\n",
    "# Print out a model summary.\n",
    "model.summary()"
   ],
   "outputs": [
    {
     "output_type": "stream",
     "name": "stdout",
     "text": [
      "Model: \"sequential_2\"\n",
      "_________________________________________________________________\n",
      "Layer (type)                 Output Shape              Param #   \n",
      "=================================================================\n",
      "dense_2 (Dense)              (None, 1)                 14        \n",
      "=================================================================\n",
      "Total params: 14\n",
      "Trainable params: 14\n",
      "Non-trainable params: 0\n",
      "_________________________________________________________________\n"
     ]
    }
   ],
   "metadata": {
    "colab": {},
    "colab_type": "code",
    "id": "vkkNFjzop3I2"
   }
  },
  {
   "cell_type": "markdown",
   "source": [
    "Above we have basically recreated our linear regression from an earlier lab. We have all of our inputs directly mapping to a single output. We didn't choose an activation function, and the default activation function for a [`Dense`](https://www.tensorflow.org/api_docs/python/tf/keras/layers/Dense) layer is a linear function $f(x) = x$.\n",
    "\n",
    "Note that the way we built this model was pretty verbose. You typically see simple models like this built in a more compact manner:"
   ],
   "metadata": {
    "colab_type": "text",
    "id": "sdu82rLhrFXM"
   }
  },
  {
   "cell_type": "code",
   "execution_count": 13,
   "source": [
    "from tensorflow import keras\n",
    "from tensorflow.keras import layers\n",
    "\n",
    "model = keras.Sequential(layers=[\n",
    "    layers.Dense(1, input_shape=[len(feature_columns)])\n",
    "])\n",
    "\n",
    "model.summary()"
   ],
   "outputs": [
    {
     "output_type": "stream",
     "name": "stdout",
     "text": [
      "Model: \"sequential_3\"\n",
      "_________________________________________________________________\n",
      "Layer (type)                 Output Shape              Param #   \n",
      "=================================================================\n",
      "dense_3 (Dense)              (None, 1)                 14        \n",
      "=================================================================\n",
      "Total params: 14\n",
      "Trainable params: 14\n",
      "Non-trainable params: 0\n",
      "_________________________________________________________________\n"
     ]
    }
   ],
   "metadata": {
    "colab": {},
    "colab_type": "code",
    "id": "MTCo5CpVLV2g"
   }
  },
  {
   "cell_type": "markdown",
   "source": [
    "Also notice that the layers are named `dense_1`, `dense_2`, etc.\n",
    "\n",
    "If you don't supply a name for a layer, TensorFlow will provide a name for you. In small models, this isn't a problem, but you might want to have a meaningful layer name in larger models.\n",
    "\n",
    "Even in simple models, is `dense_2` a good name for the first layer in a model?"
   ],
   "metadata": {
    "colab_type": "text",
    "id": "pEPw3kIhMtiW"
   }
  },
  {
   "cell_type": "markdown",
   "source": [
    "#### Exercise 3: Name Your Layers\n",
    "\n",
    "The default naming scheme for layers can start to become confusing, especially if you repeatedly run a cell block to iterate on your model design.\n",
    "\n",
    "In this exercise consult the [`Dense` documentation](https://www.tensorflow.org/api_docs/python/tf/keras/layers/Dense) and find the argument that allows you to name your layer. Use that argument in the code below to name your layer 'the_only_layer'. Note that you might have to consult the documentation for the parent classes of `Dense`.\n",
    "\n",
    "Also, don't forget to answer the question below the code block!"
   ],
   "metadata": {
    "colab_type": "text",
    "id": "25xCx2aCNLcc"
   }
  },
  {
   "cell_type": "markdown",
   "source": [
    "#### **Student Solution**"
   ],
   "metadata": {
    "colab_type": "text",
    "id": "j3SrSWLvViFn"
   }
  },
  {
   "cell_type": "code",
   "execution_count": 14,
   "source": [
    "from tensorflow import keras\n",
    "from tensorflow.keras import layers\n",
    "\n",
    "model = keras.Sequential(layers=[\n",
    "    layers.Dense(\n",
    "        1,\n",
    "        input_shape=[len(feature_columns)],\n",
    "        # Name your layer here\n",
    "        name = \"the_only_layer\"\n",
    "    )\n",
    "])\n",
    "\n",
    "model.summary()"
   ],
   "outputs": [
    {
     "output_type": "stream",
     "name": "stdout",
     "text": [
      "Model: \"sequential_4\"\n",
      "_________________________________________________________________\n",
      "Layer (type)                 Output Shape              Param #   \n",
      "=================================================================\n",
      "the_only_layer (Dense)       (None, 1)                 14        \n",
      "=================================================================\n",
      "Total params: 14\n",
      "Trainable params: 14\n",
      "Non-trainable params: 0\n",
      "_________________________________________________________________\n"
     ]
    }
   ],
   "metadata": {
    "colab": {},
    "colab_type": "code",
    "id": "VjbI2IPsVKlo"
   }
  },
  {
   "cell_type": "markdown",
   "source": [
    "Which class did the parameter that you used originate from?\n",
    "\n",
    "> Layer"
   ],
   "metadata": {
    "colab_type": "text",
    "id": "4E3jXNquVhCn"
   }
  },
  {
   "cell_type": "markdown",
   "source": [
    "---"
   ],
   "metadata": {
    "colab_type": "text",
    "id": "sdvLFUFQVsVf"
   }
  },
  {
   "cell_type": "markdown",
   "source": [
    "#### Making a Deep Neural Network"
   ],
   "metadata": {
    "colab_type": "text",
    "id": "PXiiJF3fWReI"
   }
  },
  {
   "cell_type": "markdown",
   "source": [
    "Where neural networks really get powerful is when you add **hidden layers**. These hidden layers can find complex patterns in your data.\n",
    "\n",
    "Let's create a model with a few hidden layers. We'll add two layers with sixty-four nodes each."
   ],
   "metadata": {
    "colab_type": "text",
    "id": "Ef2RnBnKLKjM"
   }
  },
  {
   "cell_type": "code",
   "execution_count": 15,
   "source": [
    "from tensorflow import keras\n",
    "from tensorflow.keras import layers\n",
    "\n",
    "feature_count = len(feature_columns)\n",
    "\n",
    "model = keras.Sequential([\n",
    "  layers.Dense(64, input_shape=[feature_count]),\n",
    "  layers.Dense(64),\n",
    "  layers.Dense(1)\n",
    "])\n",
    "\n",
    "model.summary()"
   ],
   "outputs": [
    {
     "output_type": "stream",
     "name": "stdout",
     "text": [
      "Model: \"sequential_5\"\n",
      "_________________________________________________________________\n",
      "Layer (type)                 Output Shape              Param #   \n",
      "=================================================================\n",
      "dense_4 (Dense)              (None, 64)                896       \n",
      "_________________________________________________________________\n",
      "dense_5 (Dense)              (None, 64)                4160      \n",
      "_________________________________________________________________\n",
      "dense_6 (Dense)              (None, 1)                 65        \n",
      "=================================================================\n",
      "Total params: 5,121\n",
      "Trainable params: 5,121\n",
      "Non-trainable params: 0\n",
      "_________________________________________________________________\n"
     ]
    }
   ],
   "metadata": {
    "colab": {},
    "colab_type": "code",
    "id": "eIz2AyIPr6Qt"
   }
  },
  {
   "cell_type": "markdown",
   "source": [
    "We now have a deep neural network model. The model has 13 input nodes. These nodes feed into our first hidden layer of 64 nodes.\n",
    "\n",
    "The first line of our model summary tells us that we have 64 nodes and 896 parameters. The node count in 'Output Shape' makes sense, but what about the 'Param #' of 896?\n",
    "\n",
    "Remember that we have 13 input nodes feeding into 64 nodes in our first hidden layer. The layers are densely connected, so each of the 13 input nodes connects to each of the 64 nodes in the next layer. `13 * 64 = 832` connections. Add another 64 for the number of nodes in the layer, and you get the 896 number.\n",
    "\n",
    "This pattern repeats for the next layer. 64 nodes connecting to 64 nodes: `64 * 64 + 64 = 4160`.\n",
    "\n",
    "And finally 64 nodes connect to the final output node: `64 * 1 + 1 = 65`.\n",
    "\n",
    "This makes for a total of 5121 parameters in the model. Even a very small neural network like this can have a lot of trainable parameters inside of it!"
   ],
   "metadata": {
    "colab_type": "text",
    "id": "4BYvMgqWtblx"
   }
  },
  {
   "cell_type": "markdown",
   "source": [
    "Before we start training it, we need to tell TensorFlow how and what to optimize the model for using the [`compile` method](https://keras.io/models/model/#compile). In our example below, we are optimizing for mean squared error using the [Adam optimizer](https://www.tensorflow.org/api_docs/python/tf/keras/optimizers/Adam).  We'll calculate and report the mean squared error and mean absolute error along the way."
   ],
   "metadata": {
    "colab_type": "text",
    "id": "ktQvZT_jS0UY"
   }
  },
  {
   "cell_type": "code",
   "execution_count": 16,
   "source": [
    "model.compile(\n",
    "  loss='mse',\n",
    "  optimizer='Adam',\n",
    "  metrics=['mae', 'mse'],\n",
    "\n",
    ")\n",
    "\n",
    "model.summary()"
   ],
   "outputs": [
    {
     "output_type": "stream",
     "name": "stdout",
     "text": [
      "Model: \"sequential_5\"\n",
      "_________________________________________________________________\n",
      "Layer (type)                 Output Shape              Param #   \n",
      "=================================================================\n",
      "dense_4 (Dense)              (None, 64)                896       \n",
      "_________________________________________________________________\n",
      "dense_5 (Dense)              (None, 64)                4160      \n",
      "_________________________________________________________________\n",
      "dense_6 (Dense)              (None, 1)                 65        \n",
      "=================================================================\n",
      "Total params: 5,121\n",
      "Trainable params: 5,121\n",
      "Non-trainable params: 0\n",
      "_________________________________________________________________\n"
     ]
    }
   ],
   "metadata": {
    "colab": {},
    "colab_type": "code",
    "id": "58EnP9hwuCxe"
   }
  },
  {
   "cell_type": "markdown",
   "source": [
    "## Training the Model"
   ],
   "metadata": {
    "colab_type": "text",
    "id": "vwa9xoVwulvh"
   }
  },
  {
   "cell_type": "markdown",
   "source": [
    "We can now train the model using the [`fit()` method](https://keras.io/models/model/#fit). Training is performed for a specified number of **epochs**. An epoch is a full pass over the training data. In this case, we are asking to train over the full dataset 50 times.\n",
    "\n",
    "In order to get the data into the model, we don't have to write an input function like we did with the `Estimator` API. The Keras API provides for a much more direct format."
   ],
   "metadata": {
    "colab_type": "text",
    "id": "e-8Vaoryu9rv"
   }
  },
  {
   "cell_type": "code",
   "execution_count": 17,
   "source": [
    "EPOCHS = 50\n",
    "\n",
    "model.fit(\n",
    "  training_df[feature_columns],\n",
    "  training_df[target_column],\n",
    "  epochs=EPOCHS,\n",
    "  validation_split=0.2,\n",
    ")"
   ],
   "outputs": [
    {
     "output_type": "stream",
     "name": "stderr",
     "text": [
      "2021-09-26 12:58:58.755732: I tensorflow/compiler/mlir/mlir_graph_optimization_pass.cc:116] None of the MLIR optimization passes are enabled (registered 2)\n"
     ]
    },
    {
     "output_type": "stream",
     "name": "stdout",
     "text": [
      "Epoch 1/50\n",
      "413/413 [==============================] - 1s 2ms/step - loss: 1.1158 - mae: 0.7424 - mse: 1.1158 - val_loss: 0.5905 - val_mae: 0.5570 - val_mse: 0.5905\n",
      "Epoch 2/50\n",
      "413/413 [==============================] - 0s 589us/step - loss: 0.5161 - mae: 0.5184 - mse: 0.5161 - val_loss: 0.4746 - val_mae: 0.5148 - val_mse: 0.4746\n",
      "Epoch 3/50\n",
      "413/413 [==============================] - 0s 582us/step - loss: 0.5256 - mae: 0.5239 - mse: 0.5256 - val_loss: 0.5054 - val_mae: 0.5419 - val_mse: 0.5054\n",
      "Epoch 4/50\n",
      "413/413 [==============================] - 0s 588us/step - loss: 0.5063 - mae: 0.5136 - mse: 0.5063 - val_loss: 0.4900 - val_mae: 0.5236 - val_mse: 0.4900\n",
      "Epoch 5/50\n",
      "413/413 [==============================] - 0s 573us/step - loss: 0.5116 - mae: 0.5153 - mse: 0.5116 - val_loss: 0.4651 - val_mae: 0.5030 - val_mse: 0.4651\n",
      "Epoch 6/50\n",
      "413/413 [==============================] - 0s 568us/step - loss: 0.5212 - mae: 0.5178 - mse: 0.5212 - val_loss: 0.4751 - val_mae: 0.4957 - val_mse: 0.4751\n",
      "Epoch 7/50\n",
      "413/413 [==============================] - 0s 570us/step - loss: 0.5183 - mae: 0.5158 - mse: 0.5183 - val_loss: 0.4699 - val_mae: 0.5087 - val_mse: 0.4699\n",
      "Epoch 8/50\n",
      "413/413 [==============================] - 0s 580us/step - loss: 0.5030 - mae: 0.5116 - mse: 0.5030 - val_loss: 0.4836 - val_mae: 0.5216 - val_mse: 0.4836\n",
      "Epoch 9/50\n",
      "413/413 [==============================] - 0s 634us/step - loss: 0.4877 - mae: 0.5114 - mse: 0.4877 - val_loss: 0.4820 - val_mae: 0.4976 - val_mse: 0.4820\n",
      "Epoch 10/50\n",
      "413/413 [==============================] - 0s 645us/step - loss: 0.5009 - mae: 0.5104 - mse: 0.5009 - val_loss: 0.4708 - val_mae: 0.5015 - val_mse: 0.4708\n",
      "Epoch 11/50\n",
      "413/413 [==============================] - 0s 654us/step - loss: 0.4936 - mae: 0.5046 - mse: 0.4936 - val_loss: 0.4637 - val_mae: 0.4998 - val_mse: 0.4637\n",
      "Epoch 12/50\n",
      "413/413 [==============================] - 0s 642us/step - loss: 0.4978 - mae: 0.5073 - mse: 0.4978 - val_loss: 0.4671 - val_mae: 0.5036 - val_mse: 0.4671\n",
      "Epoch 13/50\n",
      "413/413 [==============================] - 0s 642us/step - loss: 0.5007 - mae: 0.5118 - mse: 0.5007 - val_loss: 0.4796 - val_mae: 0.5245 - val_mse: 0.4796\n",
      "Epoch 14/50\n",
      "413/413 [==============================] - 0s 745us/step - loss: 0.4963 - mae: 0.5093 - mse: 0.4963 - val_loss: 0.4712 - val_mae: 0.5080 - val_mse: 0.4712\n",
      "Epoch 15/50\n",
      "413/413 [==============================] - 0s 630us/step - loss: 0.4917 - mae: 0.5074 - mse: 0.4917 - val_loss: 0.4639 - val_mae: 0.4966 - val_mse: 0.4639\n",
      "Epoch 16/50\n",
      "413/413 [==============================] - 0s 619us/step - loss: 0.4858 - mae: 0.5045 - mse: 0.4858 - val_loss: 0.5131 - val_mae: 0.5190 - val_mse: 0.5131\n",
      "Epoch 17/50\n",
      "413/413 [==============================] - 0s 687us/step - loss: 0.5051 - mae: 0.5119 - mse: 0.5051 - val_loss: 0.4697 - val_mae: 0.5063 - val_mse: 0.4697\n",
      "Epoch 18/50\n",
      "413/413 [==============================] - 0s 631us/step - loss: 0.4718 - mae: 0.4979 - mse: 0.4718 - val_loss: 0.4768 - val_mae: 0.5197 - val_mse: 0.4768\n",
      "Epoch 19/50\n",
      "413/413 [==============================] - 0s 595us/step - loss: 0.4866 - mae: 0.5084 - mse: 0.4866 - val_loss: 0.4763 - val_mae: 0.5073 - val_mse: 0.4763\n",
      "Epoch 20/50\n",
      "413/413 [==============================] - 0s 668us/step - loss: 0.4933 - mae: 0.5057 - mse: 0.4933 - val_loss: 0.4709 - val_mae: 0.4958 - val_mse: 0.4709\n",
      "Epoch 21/50\n",
      "413/413 [==============================] - 0s 576us/step - loss: 0.5153 - mae: 0.5148 - mse: 0.5153 - val_loss: 0.4692 - val_mae: 0.5021 - val_mse: 0.4692\n",
      "Epoch 22/50\n",
      "413/413 [==============================] - 0s 568us/step - loss: 0.4881 - mae: 0.5038 - mse: 0.4881 - val_loss: 0.4683 - val_mae: 0.5079 - val_mse: 0.4683\n",
      "Epoch 23/50\n",
      "413/413 [==============================] - 0s 587us/step - loss: 0.4942 - mae: 0.5070 - mse: 0.4942 - val_loss: 0.4731 - val_mae: 0.5013 - val_mse: 0.4731\n",
      "Epoch 24/50\n",
      "413/413 [==============================] - 0s 569us/step - loss: 0.4749 - mae: 0.4998 - mse: 0.4749 - val_loss: 0.4810 - val_mae: 0.5030 - val_mse: 0.4810\n",
      "Epoch 25/50\n",
      "413/413 [==============================] - 0s 614us/step - loss: 0.4850 - mae: 0.5038 - mse: 0.4850 - val_loss: 0.4746 - val_mae: 0.5112 - val_mse: 0.4746\n",
      "Epoch 26/50\n",
      "413/413 [==============================] - 0s 576us/step - loss: 0.5193 - mae: 0.5168 - mse: 0.5193 - val_loss: 0.4726 - val_mae: 0.4985 - val_mse: 0.4726\n",
      "Epoch 27/50\n",
      "413/413 [==============================] - 0s 569us/step - loss: 0.5036 - mae: 0.5102 - mse: 0.5036 - val_loss: 0.4645 - val_mae: 0.4993 - val_mse: 0.4645\n",
      "Epoch 28/50\n",
      "413/413 [==============================] - 0s 566us/step - loss: 0.4946 - mae: 0.5091 - mse: 0.4946 - val_loss: 0.4726 - val_mae: 0.5047 - val_mse: 0.4726\n",
      "Epoch 29/50\n",
      "413/413 [==============================] - 0s 629us/step - loss: 0.4963 - mae: 0.5070 - mse: 0.4963 - val_loss: 0.4653 - val_mae: 0.4989 - val_mse: 0.4653\n",
      "Epoch 30/50\n",
      "413/413 [==============================] - 0s 578us/step - loss: 0.4783 - mae: 0.4978 - mse: 0.4783 - val_loss: 0.4737 - val_mae: 0.5176 - val_mse: 0.4737\n",
      "Epoch 31/50\n",
      "413/413 [==============================] - 0s 632us/step - loss: 0.4817 - mae: 0.5037 - mse: 0.4817 - val_loss: 0.4723 - val_mae: 0.5149 - val_mse: 0.4723\n",
      "Epoch 32/50\n",
      "413/413 [==============================] - 0s 617us/step - loss: 0.4755 - mae: 0.5046 - mse: 0.4755 - val_loss: 0.4730 - val_mae: 0.4938 - val_mse: 0.4730\n",
      "Epoch 33/50\n",
      "413/413 [==============================] - 0s 566us/step - loss: 0.4812 - mae: 0.4948 - mse: 0.4812 - val_loss: 0.4649 - val_mae: 0.5056 - val_mse: 0.4649\n",
      "Epoch 34/50\n",
      "413/413 [==============================] - 0s 668us/step - loss: 0.4897 - mae: 0.5034 - mse: 0.4897 - val_loss: 0.4666 - val_mae: 0.4968 - val_mse: 0.4666\n",
      "Epoch 35/50\n",
      "413/413 [==============================] - 0s 577us/step - loss: 0.4894 - mae: 0.5023 - mse: 0.4894 - val_loss: 0.4688 - val_mae: 0.4962 - val_mse: 0.4688\n",
      "Epoch 36/50\n",
      "413/413 [==============================] - 0s 563us/step - loss: 0.4727 - mae: 0.4979 - mse: 0.4727 - val_loss: 0.4627 - val_mae: 0.5028 - val_mse: 0.4627\n",
      "Epoch 37/50\n",
      "413/413 [==============================] - 0s 549us/step - loss: 0.4794 - mae: 0.5013 - mse: 0.4794 - val_loss: 0.5152 - val_mae: 0.5612 - val_mse: 0.5152\n",
      "Epoch 38/50\n",
      "413/413 [==============================] - 0s 572us/step - loss: 0.4905 - mae: 0.5025 - mse: 0.4905 - val_loss: 0.4661 - val_mae: 0.4985 - val_mse: 0.4661\n",
      "Epoch 39/50\n",
      "413/413 [==============================] - 0s 621us/step - loss: 0.4969 - mae: 0.5084 - mse: 0.4969 - val_loss: 0.4649 - val_mae: 0.5055 - val_mse: 0.4649\n",
      "Epoch 40/50\n",
      "413/413 [==============================] - 0s 621us/step - loss: 0.4936 - mae: 0.5043 - mse: 0.4936 - val_loss: 0.4658 - val_mae: 0.5054 - val_mse: 0.4658\n",
      "Epoch 41/50\n",
      "413/413 [==============================] - 0s 583us/step - loss: 0.4952 - mae: 0.5087 - mse: 0.4952 - val_loss: 0.4679 - val_mae: 0.4961 - val_mse: 0.4679\n",
      "Epoch 42/50\n",
      "413/413 [==============================] - 0s 566us/step - loss: 0.4933 - mae: 0.5034 - mse: 0.4933 - val_loss: 0.4640 - val_mae: 0.5032 - val_mse: 0.4640\n",
      "Epoch 43/50\n",
      "413/413 [==============================] - 0s 594us/step - loss: 0.4716 - mae: 0.4973 - mse: 0.4716 - val_loss: 0.4684 - val_mae: 0.5077 - val_mse: 0.4684\n",
      "Epoch 44/50\n",
      "413/413 [==============================] - 0s 622us/step - loss: 0.4925 - mae: 0.5061 - mse: 0.4925 - val_loss: 0.4694 - val_mae: 0.5049 - val_mse: 0.4694\n",
      "Epoch 45/50\n",
      "413/413 [==============================] - 0s 598us/step - loss: 0.4656 - mae: 0.4941 - mse: 0.4656 - val_loss: 0.4675 - val_mae: 0.4999 - val_mse: 0.4675\n",
      "Epoch 46/50\n",
      "413/413 [==============================] - 0s 631us/step - loss: 0.4882 - mae: 0.5049 - mse: 0.4882 - val_loss: 0.4685 - val_mae: 0.5134 - val_mse: 0.4685\n",
      "Epoch 47/50\n",
      "413/413 [==============================] - 0s 598us/step - loss: 0.4845 - mae: 0.4997 - mse: 0.4845 - val_loss: 0.4783 - val_mae: 0.5005 - val_mse: 0.4783\n",
      "Epoch 48/50\n",
      "413/413 [==============================] - 0s 620us/step - loss: 0.4900 - mae: 0.5076 - mse: 0.4900 - val_loss: 0.4649 - val_mae: 0.5009 - val_mse: 0.4649\n",
      "Epoch 49/50\n",
      "413/413 [==============================] - 0s 580us/step - loss: 0.4904 - mae: 0.5042 - mse: 0.4904 - val_loss: 0.4770 - val_mae: 0.4960 - val_mse: 0.4770\n",
      "Epoch 50/50\n",
      "413/413 [==============================] - 0s 604us/step - loss: 0.4816 - mae: 0.4980 - mse: 0.4816 - val_loss: 0.4659 - val_mae: 0.5000 - val_mse: 0.4659\n"
     ]
    },
    {
     "output_type": "execute_result",
     "data": {
      "text/plain": [
       "<tensorflow.python.keras.callbacks.History at 0x7fa82d286130>"
      ]
     },
     "metadata": {},
     "execution_count": 17
    }
   ],
   "metadata": {
    "colab": {},
    "colab_type": "code",
    "id": "suWnhYbUuoYC"
   }
  },
  {
   "cell_type": "markdown",
   "source": [
    "## Validating the Model"
   ],
   "metadata": {
    "colab_type": "text",
    "id": "TuTsElUdv4uU"
   }
  },
  {
   "cell_type": "markdown",
   "source": [
    "We can now see how well our model performs on our validation test set. In order to get the model to make predictions, we use the [`predict` method](https://keras.io/models/model/#predict)."
   ],
   "metadata": {
    "colab_type": "text",
    "id": "pFLnpozdwYbL"
   }
  },
  {
   "cell_type": "code",
   "execution_count": 18,
   "source": [
    "predictions = model.predict(testing_df[feature_columns])\n",
    "\n",
    "predictions"
   ],
   "outputs": [
    {
     "output_type": "execute_result",
     "data": {
      "text/plain": [
       "array([[1.7994311 ],\n",
       "       [5.2114167 ],\n",
       "       [0.67390215],\n",
       "       ...,\n",
       "       [1.182355  ],\n",
       "       [1.6297004 ],\n",
       "       [1.2653005 ]], dtype=float32)"
      ]
     },
     "metadata": {},
     "execution_count": 18
    }
   ],
   "metadata": {
    "colab": {},
    "colab_type": "code",
    "id": "qzC4Q6kuxy-m"
   }
  },
  {
   "cell_type": "markdown",
   "source": [
    "Notice that the predictions are lists of lists. This is because neural networks can return more than one prediction per input. We set this network up to have a single final node, but could have had more."
   ],
   "metadata": {
    "colab_type": "text",
    "id": "3nAGc2VQyIGu"
   }
  },
  {
   "cell_type": "markdown",
   "source": [
    "### Exercise 4: Calculating RMSE\n",
    "\n",
    "At this point we have the predicted values from our test features and the actual values. In this exercise you are tasked with computing the root-mean squared error of those predictions. Given the predictions stored in `predictions` above, write code that computes the root mean squared error of those predictions vs. the truth found in `testing_df`. Print the root mean squared error."
   ],
   "metadata": {
    "colab_type": "text",
    "id": "XH_6-meyzBIj"
   }
  },
  {
   "cell_type": "markdown",
   "source": [
    "#### **Student Solution**"
   ],
   "metadata": {
    "colab_type": "text",
    "id": "GuY3HZAZl4z7"
   }
  },
  {
   "cell_type": "code",
   "execution_count": 19,
   "source": [
    "import math\n",
    "from sklearn import metrics\n",
    "root_mean_squared_error = math.sqrt(\n",
    "    metrics.mean_squared_error(\n",
    "      predictions * TARGET_FACTOR,\n",
    "      testing_df[target_column] * TARGET_FACTOR\n",
    "))\n",
    "print(root_mean_squared_error)"
   ],
   "outputs": [
    {
     "output_type": "stream",
     "name": "stdout",
     "text": [
      "67086.37054826478\n"
     ]
    }
   ],
   "metadata": {
    "colab": {},
    "colab_type": "code",
    "id": "_flON0FHc_yW"
   }
  },
  {
   "cell_type": "markdown",
   "source": [
    "---"
   ],
   "metadata": {
    "colab_type": "text",
    "id": "4DncNYnRdBQ6"
   }
  },
  {
   "cell_type": "markdown",
   "source": [
    "## Improving the Model"
   ],
   "metadata": {
    "colab_type": "text",
    "id": "33SMPRXPeLmv"
   }
  },
  {
   "cell_type": "markdown",
   "source": [
    "In the exercise above, you likely got a root mean squared error very close to the error we got in the linear regression lab. What's going on? I thought deep learning models were supposed to be really, really good!\n",
    "\n",
    "Deep learning models can be really good, but they often require a bit of hyperparameter tuning. Aside from the breadth and depth of the hidden layers, the activation function for the model can have a big impact on how a model performs.\n",
    "\n",
    "Earlier we mentioned that the default activation function for `Dense` layers is the linear function $f(x) = x$. It turns out that if you stack layers of linear functions, you just get a single linear function, so the network that we built is basically just one big linear regression.\n",
    "\n",
    "We can change the activation function layer by layer for our model. In order to do that, we just pass an `activation` argument to our `Dense` class. Keras has [many built-in activations](https://www.tensorflow.org/api_docs/python/tf/keras/activations) that you can reference by name like:\n",
    "\n",
    "```python\n",
    "  layers.Dense(64, activation='sigmoid')\n",
    "```\n",
    "\n",
    "For activations that aren't built into Keras, you can use the full path to their class:\n",
    "\n",
    "```python\n",
    "  layers.Dense(64, activation=tf.nn.swish)\n",
    "```\n",
    "\n",
    "The [`tf.nn` namespace](https://www.tensorflow.org/api_docs/python/tf/nn) is a little crowded, but there are activations functions in there including [`swish`](https://www.tensorflow.org/api_docs/python/tf/nn/swish), [`leaky_relu`](https://www.tensorflow.org/api_docs/python/tf/nn/leaky_relu), and more."
   ],
   "metadata": {
    "colab_type": "text",
    "id": "YAtfBRAXeSYW"
   }
  },
  {
   "cell_type": "markdown",
   "source": [
    "### Exercise 5: A Better Activation Function\n",
    "\n",
    "Experiment with different activation functions and find one that performs better than the linear activation that we used above. You can set the activation function on any or all of the layers in the network. The functions don't have to be the same.\n",
    "\n",
    "Print out the root mean squared error once you find an acceptable activation function."
   ],
   "metadata": {
    "colab_type": "text",
    "id": "M-BNO2fAeOZ2"
   }
  },
  {
   "cell_type": "markdown",
   "source": [
    "#### **Student Solution**"
   ],
   "metadata": {
    "colab_type": "text",
    "id": "cMgsYuE0ld9g"
   }
  },
  {
   "cell_type": "code",
   "execution_count": 20,
   "source": [
    "from tensorflow import keras\n",
    "from tensorflow.keras import layers\n",
    "\n",
    "feature_count = len(feature_columns)\n",
    "\n",
    "model = keras.Sequential([\n",
    "  layers.Dense(64, input_shape=[feature_count], activation='relu'),\n",
    "  layers.Dense(64, activation='relu'),\n",
    "  layers.Dense(1, activation='relu')\n",
    "])\n",
    "\n",
    "model.compile(\n",
    "  loss='mse',\n",
    "  optimizer='Adam',\n",
    "  metrics=['mae', 'mse'],\n",
    ")\n",
    "\n",
    "EPOCHS = 50\n",
    "\n",
    "model.fit(\n",
    "  training_df[feature_columns],\n",
    "  training_df[target_column],\n",
    "  epochs=EPOCHS,\n",
    "  validation_split=0.2,\n",
    ")\n",
    "\n",
    "predictions = model.predict(testing_df[feature_columns])\n",
    "\n",
    "mean_squared_error = metrics.mean_squared_error(\n",
    "    (predictions) * TARGET_FACTOR,\n",
    "    testing_df[target_column] * TARGET_FACTOR\n",
    ")\n",
    "\n",
    "print(\"Mean Squared Error (on training data): %0.3f\" % mean_squared_error)\n",
    "\n",
    "root_mean_squared_error = math.sqrt(mean_squared_error)\n",
    "print(\"Root Mean Squared Error (on training data): %0.3f\" % root_mean_squared_error)\n",
    "\n",
    "\n"
   ],
   "outputs": [
    {
     "output_type": "stream",
     "name": "stdout",
     "text": [
      "Epoch 1/50\n",
      "413/413 [==============================] - 1s 856us/step - loss: 1.5169 - mae: 0.8464 - mse: 1.5169 - val_loss: 0.4302 - val_mae: 0.4932 - val_mse: 0.4302\n",
      "Epoch 2/50\n",
      "413/413 [==============================] - 0s 622us/step - loss: 0.4033 - mae: 0.4478 - mse: 0.4033 - val_loss: 0.3593 - val_mae: 0.4247 - val_mse: 0.3593\n",
      "Epoch 3/50\n",
      "413/413 [==============================] - 0s 595us/step - loss: 0.3728 - mae: 0.4272 - mse: 0.3728 - val_loss: 0.3363 - val_mae: 0.4179 - val_mse: 0.3363\n",
      "Epoch 4/50\n",
      "413/413 [==============================] - 0s 652us/step - loss: 0.3736 - mae: 0.4241 - mse: 0.3736 - val_loss: 0.3264 - val_mae: 0.4009 - val_mse: 0.3264\n",
      "Epoch 5/50\n",
      "413/413 [==============================] - 0s 673us/step - loss: 0.3461 - mae: 0.4048 - mse: 0.3461 - val_loss: 0.3231 - val_mae: 0.3969 - val_mse: 0.3231\n",
      "Epoch 6/50\n",
      "413/413 [==============================] - 0s 579us/step - loss: 0.3417 - mae: 0.4032 - mse: 0.3417 - val_loss: 0.3176 - val_mae: 0.4020 - val_mse: 0.3176\n",
      "Epoch 7/50\n",
      "413/413 [==============================] - 0s 671us/step - loss: 0.3184 - mae: 0.3924 - mse: 0.3184 - val_loss: 0.3132 - val_mae: 0.3870 - val_mse: 0.3132\n",
      "Epoch 8/50\n",
      "413/413 [==============================] - 0s 636us/step - loss: 0.3282 - mae: 0.3949 - mse: 0.3282 - val_loss: 0.3070 - val_mae: 0.3897 - val_mse: 0.3070\n",
      "Epoch 9/50\n",
      "413/413 [==============================] - 0s 577us/step - loss: 0.3115 - mae: 0.3825 - mse: 0.3115 - val_loss: 0.3138 - val_mae: 0.3874 - val_mse: 0.3138\n",
      "Epoch 10/50\n",
      "413/413 [==============================] - 0s 579us/step - loss: 0.3194 - mae: 0.3905 - mse: 0.3194 - val_loss: 0.3184 - val_mae: 0.4147 - val_mse: 0.3184\n",
      "Epoch 11/50\n",
      "413/413 [==============================] - 0s 669us/step - loss: 0.3166 - mae: 0.3869 - mse: 0.3166 - val_loss: 0.2959 - val_mae: 0.3747 - val_mse: 0.2959\n",
      "Epoch 12/50\n",
      "413/413 [==============================] - 0s 593us/step - loss: 0.3105 - mae: 0.3804 - mse: 0.3105 - val_loss: 0.3022 - val_mae: 0.3809 - val_mse: 0.3022\n",
      "Epoch 13/50\n",
      "413/413 [==============================] - 0s 578us/step - loss: 0.3092 - mae: 0.3809 - mse: 0.3092 - val_loss: 0.2925 - val_mae: 0.3763 - val_mse: 0.2925\n",
      "Epoch 14/50\n",
      "413/413 [==============================] - 0s 578us/step - loss: 0.2993 - mae: 0.3746 - mse: 0.2993 - val_loss: 0.2935 - val_mae: 0.3858 - val_mse: 0.2935\n",
      "Epoch 15/50\n",
      "413/413 [==============================] - 0s 579us/step - loss: 0.2895 - mae: 0.3677 - mse: 0.2895 - val_loss: 0.2911 - val_mae: 0.3741 - val_mse: 0.2911\n",
      "Epoch 16/50\n",
      "413/413 [==============================] - 0s 574us/step - loss: 0.2999 - mae: 0.3740 - mse: 0.2999 - val_loss: 0.2908 - val_mae: 0.3724 - val_mse: 0.2908\n",
      "Epoch 17/50\n",
      "413/413 [==============================] - 0s 572us/step - loss: 0.2932 - mae: 0.3698 - mse: 0.2932 - val_loss: 0.2886 - val_mae: 0.3675 - val_mse: 0.2886\n",
      "Epoch 18/50\n",
      "413/413 [==============================] - 0s 573us/step - loss: 0.2802 - mae: 0.3639 - mse: 0.2802 - val_loss: 0.2860 - val_mae: 0.3746 - val_mse: 0.2860\n",
      "Epoch 19/50\n",
      "413/413 [==============================] - 0s 627us/step - loss: 0.2819 - mae: 0.3633 - mse: 0.2819 - val_loss: 0.2933 - val_mae: 0.3919 - val_mse: 0.2933\n",
      "Epoch 20/50\n",
      "413/413 [==============================] - 0s 583us/step - loss: 0.2781 - mae: 0.3619 - mse: 0.2781 - val_loss: 0.2840 - val_mae: 0.3776 - val_mse: 0.2840\n",
      "Epoch 21/50\n",
      "413/413 [==============================] - 0s 606us/step - loss: 0.2733 - mae: 0.3573 - mse: 0.2733 - val_loss: 0.2780 - val_mae: 0.3646 - val_mse: 0.2780\n",
      "Epoch 22/50\n",
      "413/413 [==============================] - 0s 578us/step - loss: 0.2707 - mae: 0.3553 - mse: 0.2707 - val_loss: 0.3051 - val_mae: 0.3766 - val_mse: 0.3051\n",
      "Epoch 23/50\n",
      "413/413 [==============================] - 0s 570us/step - loss: 0.2632 - mae: 0.3516 - mse: 0.2632 - val_loss: 0.2849 - val_mae: 0.3682 - val_mse: 0.2849\n",
      "Epoch 24/50\n",
      "413/413 [==============================] - 0s 570us/step - loss: 0.2612 - mae: 0.3513 - mse: 0.2612 - val_loss: 0.3178 - val_mae: 0.3998 - val_mse: 0.3178\n",
      "Epoch 25/50\n",
      "413/413 [==============================] - 0s 570us/step - loss: 0.2676 - mae: 0.3569 - mse: 0.2676 - val_loss: 0.2799 - val_mae: 0.3601 - val_mse: 0.2799\n",
      "Epoch 26/50\n",
      "413/413 [==============================] - 0s 570us/step - loss: 0.2749 - mae: 0.3588 - mse: 0.2749 - val_loss: 0.2734 - val_mae: 0.3573 - val_mse: 0.2734\n",
      "Epoch 27/50\n",
      "413/413 [==============================] - 0s 570us/step - loss: 0.2742 - mae: 0.3570 - mse: 0.2742 - val_loss: 0.2780 - val_mae: 0.3675 - val_mse: 0.2780\n",
      "Epoch 28/50\n",
      "413/413 [==============================] - 0s 573us/step - loss: 0.2671 - mae: 0.3497 - mse: 0.2671 - val_loss: 0.2968 - val_mae: 0.3972 - val_mse: 0.2968\n",
      "Epoch 29/50\n",
      "413/413 [==============================] - 0s 588us/step - loss: 0.2679 - mae: 0.3528 - mse: 0.2679 - val_loss: 0.2701 - val_mae: 0.3562 - val_mse: 0.2701\n",
      "Epoch 30/50\n",
      "413/413 [==============================] - 0s 572us/step - loss: 0.2537 - mae: 0.3443 - mse: 0.2537 - val_loss: 0.2704 - val_mae: 0.3592 - val_mse: 0.2704\n",
      "Epoch 31/50\n",
      "413/413 [==============================] - 0s 573us/step - loss: 0.2563 - mae: 0.3466 - mse: 0.2563 - val_loss: 0.2734 - val_mae: 0.3567 - val_mse: 0.2734\n",
      "Epoch 32/50\n",
      "413/413 [==============================] - 0s 573us/step - loss: 0.2594 - mae: 0.3463 - mse: 0.2594 - val_loss: 0.2727 - val_mae: 0.3539 - val_mse: 0.2727\n",
      "Epoch 33/50\n",
      "413/413 [==============================] - 0s 698us/step - loss: 0.2547 - mae: 0.3463 - mse: 0.2547 - val_loss: 0.2848 - val_mae: 0.3819 - val_mse: 0.2848\n",
      "Epoch 34/50\n",
      "413/413 [==============================] - 0s 565us/step - loss: 0.2549 - mae: 0.3457 - mse: 0.2549 - val_loss: 0.2735 - val_mae: 0.3663 - val_mse: 0.2735\n",
      "Epoch 35/50\n",
      "413/413 [==============================] - 0s 568us/step - loss: 0.2506 - mae: 0.3413 - mse: 0.2506 - val_loss: 0.2692 - val_mae: 0.3495 - val_mse: 0.2692\n",
      "Epoch 36/50\n",
      "413/413 [==============================] - 0s 623us/step - loss: 0.2472 - mae: 0.3417 - mse: 0.2472 - val_loss: 0.2966 - val_mae: 0.3953 - val_mse: 0.2966\n",
      "Epoch 37/50\n",
      "413/413 [==============================] - 0s 568us/step - loss: 0.2503 - mae: 0.3445 - mse: 0.2503 - val_loss: 0.2812 - val_mae: 0.3693 - val_mse: 0.2812\n",
      "Epoch 38/50\n",
      "413/413 [==============================] - 0s 584us/step - loss: 0.2466 - mae: 0.3383 - mse: 0.2466 - val_loss: 0.2863 - val_mae: 0.3640 - val_mse: 0.2863\n",
      "Epoch 39/50\n",
      "413/413 [==============================] - 0s 572us/step - loss: 0.2504 - mae: 0.3453 - mse: 0.2504 - val_loss: 0.2769 - val_mae: 0.3532 - val_mse: 0.2769\n",
      "Epoch 40/50\n",
      "413/413 [==============================] - 0s 567us/step - loss: 0.2530 - mae: 0.3432 - mse: 0.2530 - val_loss: 0.2749 - val_mae: 0.3516 - val_mse: 0.2749\n",
      "Epoch 41/50\n",
      "413/413 [==============================] - 0s 577us/step - loss: 0.2523 - mae: 0.3400 - mse: 0.2523 - val_loss: 0.2658 - val_mae: 0.3516 - val_mse: 0.2658\n",
      "Epoch 42/50\n",
      "413/413 [==============================] - 0s 586us/step - loss: 0.2502 - mae: 0.3410 - mse: 0.2502 - val_loss: 0.2731 - val_mae: 0.3515 - val_mse: 0.2731\n",
      "Epoch 43/50\n",
      "413/413 [==============================] - 0s 566us/step - loss: 0.2450 - mae: 0.3367 - mse: 0.2450 - val_loss: 0.2810 - val_mae: 0.3706 - val_mse: 0.2810\n",
      "Epoch 44/50\n",
      "413/413 [==============================] - 0s 572us/step - loss: 0.2469 - mae: 0.3373 - mse: 0.2469 - val_loss: 0.2720 - val_mae: 0.3649 - val_mse: 0.2720\n",
      "Epoch 45/50\n",
      "413/413 [==============================] - 0s 568us/step - loss: 0.2372 - mae: 0.3314 - mse: 0.2372 - val_loss: 0.2689 - val_mae: 0.3533 - val_mse: 0.2689\n",
      "Epoch 46/50\n",
      "413/413 [==============================] - 0s 566us/step - loss: 0.2382 - mae: 0.3342 - mse: 0.2382 - val_loss: 0.2723 - val_mae: 0.3500 - val_mse: 0.2723\n",
      "Epoch 47/50\n",
      "413/413 [==============================] - 0s 570us/step - loss: 0.2446 - mae: 0.3381 - mse: 0.2446 - val_loss: 0.2692 - val_mae: 0.3508 - val_mse: 0.2692\n",
      "Epoch 48/50\n",
      "413/413 [==============================] - 0s 570us/step - loss: 0.2426 - mae: 0.3355 - mse: 0.2426 - val_loss: 0.2711 - val_mae: 0.3593 - val_mse: 0.2711\n",
      "Epoch 49/50\n",
      "413/413 [==============================] - 0s 576us/step - loss: 0.2472 - mae: 0.3378 - mse: 0.2472 - val_loss: 0.3079 - val_mae: 0.3684 - val_mse: 0.3079\n",
      "Epoch 50/50\n",
      "413/413 [==============================] - 0s 581us/step - loss: 0.2414 - mae: 0.3351 - mse: 0.2414 - val_loss: 0.2823 - val_mae: 0.3660 - val_mse: 0.2823\n",
      "Mean Squared Error (on training data): 2835015765.907\n",
      "Root Mean Squared Error (on training data): 53244.866\n"
     ]
    }
   ],
   "metadata": {
    "colab": {},
    "colab_type": "code",
    "id": "HuWQBoAslfo0"
   }
  },
  {
   "cell_type": "markdown",
   "source": [
    "---"
   ],
   "metadata": {
    "colab_type": "text",
    "id": "J2csiDfLlgtT"
   }
  },
  {
   "cell_type": "markdown",
   "source": [
    "## Visualizing Training"
   ],
   "metadata": {
    "colab_type": "text",
    "id": "7E63WyKpmleN"
   }
  },
  {
   "cell_type": "markdown",
   "source": [
    "At this point, we have a pretty solid neural network regression model. It performs better than our linear regression model, though it does take a while to train.\n",
    "\n",
    "Training time is largely a product of two factors:\n",
    "\n",
    "1. The size of the model\n",
    "1. The number of epochs\n",
    "\n",
    "Larger models take longer to train. That shouldn't come as a surprise. Remember from above that we calculated the number of parameters in our model. Every layer that is densely connected adds many more parameters that need to be adjusted during training.\n",
    "\n",
    "Our goal is to find a model that is big enough, but not too big. This, it turns out, is very much an area where experimentation is required.\n",
    "\n",
    "The second determination of model training time is the number of epochs. We can choose an arbitrary number of epochs from one to infinity. How many do we need?\n",
    "\n",
    "It turns out that we can be much more scientific about this parameter. As a model begins to converge, there is less and less benefit for each subsequent epoch.\n",
    "\n",
    "More training does not necessarily mean a better model.\n",
    "\n",
    "There are a few ways to determine the appropriate number of epochs. One is to plot the error and see when it flattens out.\n",
    "\n",
    "It turns out that our model actually returns the error values when you fit the model."
   ],
   "metadata": {
    "colab_type": "text",
    "id": "ixm_bQDGuYbr"
   }
  },
  {
   "cell_type": "code",
   "execution_count": 21,
   "source": [
    "model = keras.Sequential([\n",
    "  layers.Dense(64, input_shape=[feature_count]),\n",
    "  layers.Dense(64),\n",
    "  layers.Dense(1)\n",
    "])\n",
    "\n",
    "model.compile(\n",
    "  loss='mse',\n",
    "  optimizer='Adam',\n",
    "  metrics=['mae', 'mse'],\n",
    ")\n",
    "\n",
    "EPOCHS = 5\n",
    "\n",
    "history = model.fit(\n",
    "  training_df[feature_columns],\n",
    "  training_df[target_column],\n",
    "  epochs=EPOCHS,\n",
    "  verbose=0,                     # New parameter to make model training silent\n",
    "  validation_split=0.2,\n",
    ")\n",
    "\n",
    "history.history"
   ],
   "outputs": [
    {
     "output_type": "execute_result",
     "data": {
      "text/plain": [
       "{'loss': [0.6914031505584717,\n",
       "  0.5216115117073059,\n",
       "  0.5207009315490723,\n",
       "  0.5094817876815796,\n",
       "  0.5087965130805969],\n",
       " 'mae': [0.5852765440940857,\n",
       "  0.5183658003807068,\n",
       "  0.5199006795883179,\n",
       "  0.5155811905860901,\n",
       "  0.5126842856407166],\n",
       " 'mse': [0.6914031505584717,\n",
       "  0.5216115117073059,\n",
       "  0.5207009315490723,\n",
       "  0.5094817876815796,\n",
       "  0.5087965130805969],\n",
       " 'val_loss': [0.5172968506813049,\n",
       "  0.49058935046195984,\n",
       "  0.4676525890827179,\n",
       "  0.48629119992256165,\n",
       "  0.4728599190711975],\n",
       " 'val_mae': [0.5433453917503357,\n",
       "  0.5126517415046692,\n",
       "  0.5102482438087463,\n",
       "  0.5018937587738037,\n",
       "  0.5010738372802734],\n",
       " 'val_mse': [0.5172968506813049,\n",
       "  0.49058935046195984,\n",
       "  0.4676525890827179,\n",
       "  0.48629119992256165,\n",
       "  0.4728599190711975]}"
      ]
     },
     "metadata": {},
     "execution_count": 21
    }
   ],
   "metadata": {
    "colab": {},
    "colab_type": "code",
    "id": "KbhsGp9_0LOK"
   }
  },
  {
   "cell_type": "markdown",
   "source": [
    "Notice that the `history.history` contains our model's loss (`loss`), mean absolute error (`mae`), mean squared error (`mse`), validation loss (`val_loss`), validation mean absolute error (`val_mae`), and validation mean squared error (`val_mse`) at each epoch.\n",
    "\n",
    "It would be useful to plot the error over time. In the next exercise, you will create a visualization that will help us determine when to stop training the model."
   ],
   "metadata": {
    "colab_type": "text",
    "id": "VqUttCc121Mo"
   }
  },
  {
   "cell_type": "markdown",
   "source": [
    "### Exercise 6: Plotting Error"
   ],
   "metadata": {
    "colab_type": "text",
    "id": "8_Pn1ZFe3mEp"
   }
  },
  {
   "cell_type": "markdown",
   "source": [
    "Use `matplotlib.pyplot` or `seaborn` to create a line plot that shows the mean squared error and the validation mean squared error per epoch.\n",
    "\n",
    "In the code block below, we save the errors per epoch in the variable `history`. Inspect the variable and plot a line plot which has the epoch on the x-axis and the mean squared error on the y-axis. There should be two lines on the visualization: mean absolute error and validation mean absolute error.\n",
    "\n",
    "Note that we created the model with the default activation function. Use the activation function that you found to be more useful in exercise 5.\n",
    "\n",
    "The result should be a line plot of epoch and error with two lines similar to:\n",
    "\n",
    "![alt text](https://i.imgur.com/0YDzVhq.png)"
   ],
   "metadata": {
    "colab_type": "text",
    "id": "HERuu5h332oV"
   }
  },
  {
   "cell_type": "code",
   "execution_count": null,
   "source": [],
   "outputs": [],
   "metadata": {}
  },
  {
   "cell_type": "code",
   "execution_count": 22,
   "source": [
    "model = keras.Sequential([\n",
    "  layers.Dense(64, input_shape=[feature_count]),\n",
    "  layers.Dense(64),\n",
    "  layers.Dense(1)\n",
    "])\n",
    "\n",
    "model.compile(\n",
    "  loss='mse',\n",
    "  optimizer='Adam',\n",
    "  metrics=['mae', 'mse'],\n",
    ")\n",
    "\n",
    "EPOCHS = 100\n",
    "\n",
    "history = model.fit(\n",
    "  training_df[feature_columns],\n",
    "  training_df[target_column],\n",
    "  epochs=EPOCHS,\n",
    "  verbose=0,\n",
    "  validation_split=0.2,\n",
    ")"
   ],
   "outputs": [],
   "metadata": {
    "colab": {},
    "colab_type": "code",
    "id": "qK0v5ehj58nx"
   }
  },
  {
   "cell_type": "markdown",
   "source": [
    "#### **Student Solution**"
   ],
   "metadata": {
    "colab_type": "text",
    "id": "H743wjkE56AV"
   }
  },
  {
   "cell_type": "code",
   "execution_count": 23,
   "source": [
    "history_dict = history.history\n",
    "\n",
    "#['val_mse]\n",
    "#['mse']\n",
    "\n",
    "\n",
    "y_1 = history_dict['val_mse']\n",
    "y_2 = history_dict['mse']\n",
    "\n",
    "\n",
    "plt.plot(y_1)\n",
    "plt.plot(y_2)\n",
    "plt.show()\n"
   ],
   "outputs": [
    {
     "output_type": "display_data",
     "data": {
      "image/png": "[encoded data removed]",
      "text/plain": [
       "<Figure size 432x288 with 1 Axes>"
      ]
     },
     "metadata": {
      "needs_background": "light"
     }
    }
   ],
   "metadata": {
    "colab": {},
    "colab_type": "code",
    "id": "4rN-BXBX6KkV"
   }
  },
  {
   "cell_type": "markdown",
   "source": [
    "---"
   ],
   "metadata": {
    "colab_type": "text",
    "id": "q6XBdKqj6L7Z"
   }
  },
  {
   "cell_type": "markdown",
   "source": [
    "### Interpreting Loss Visualizations"
   ],
   "metadata": {
    "colab_type": "text",
    "id": "xqp93VIH7eEJ"
   }
  },
  {
   "cell_type": "markdown",
   "source": [
    "We have now created a visualization that should look something like this:\n",
    "\n",
    "![alt text](https://i.imgur.com/0YDzVhq.png)\n",
    "\n",
    "But how do we interpret this visualization?\n",
    "\n",
    "The blue line is the mean squared error for the training data. You can see it plummeting fast as the model quickly learns.\n",
    "\n",
    "The orange line is the validation data. This is a holdout set of data that the model checks after each epoch. You can see it dropping pretty quickly, too, but then it seems to stabilize somewhat by 20 epochs.\n",
    "\n",
    "Toward the right side of the graph, you can see that our validation set says volatile but relatively flat, while our training data set keeps getting better and better.\n",
    "\n",
    "Should we train more or less?\n",
    "\n",
    "The constantly reducing blue line is actually a signal of overfitting on the training data.\n",
    "\n",
    "The flat(ish) orange line signals this model is as good as we can get.\n",
    "\n",
    "For this model we could possibly stop training after even 25 epochs and get similar performance.\n",
    "\n",
    "But how do you know when to stop?\n",
    "\n",
    "Luckily there is an *early stopping* algorithm that allows a model to stop training when validation data isn't improving.\n",
    "\n",
    "In the example below, we set up a model to train for 1000 epochs; however, we add an early stopping callback. Early stopping stops training when the model isn't progressing upon validation.\n",
    "\n",
    "If you run the code block below, you'll see far fewer than 1000 epochs run."
   ],
   "metadata": {
    "colab_type": "text",
    "id": "_B4Cwtbs7ifl"
   }
  },
  {
   "cell_type": "code",
   "execution_count": 172,
   "source": [
    "model = keras.Sequential([\n",
    "  layers.Dense(64, input_shape=[feature_count]),\n",
    "  layers.Dense(64),\n",
    "  layers.Dense(1)\n",
    "])\n",
    "\n",
    "model.compile(\n",
    "  loss='mse',\n",
    "  optimizer='Adam',\n",
    "  metrics=['mae', 'mse'],\n",
    ")\n",
    "\n",
    "EPOCHS = 1000\n",
    "\n",
    "early_stop = keras.callbacks.EarlyStopping(monitor='val_loss', patience=10)\n",
    "\n",
    "history = model.fit(\n",
    "  training_df[feature_columns],\n",
    "  training_df[target_column],\n",
    "  epochs=EPOCHS,\n",
    "  validation_split=0.2,\n",
    "  callbacks=[early_stop],\n",
    ")"
   ],
   "outputs": [
    {
     "output_type": "stream",
     "name": "stdout",
     "text": [
      "WARNING:tensorflow:Falling back from v2 loop because of error: Failed to find data adapter that can handle input: <class 'pandas.core.frame.DataFrame'>, <class 'NoneType'>\n",
      "Train on 13209 samples, validate on 3303 samples\n",
      "Epoch 1/1000\n",
      "13209/13209 [==============================] - 1s 88us/sample - loss: 0.6024 - mae: 0.5471 - mse: 0.6024 - val_loss: 0.5527 - val_mae: 0.5278 - val_mse: 0.5527\n",
      "Epoch 2/1000\n",
      "13209/13209 [==============================] - 1s 57us/sample - loss: 0.4962 - mae: 0.5127 - mse: 0.4962 - val_loss: 0.5246 - val_mae: 0.5167 - val_mse: 0.5246\n",
      "Epoch 3/1000\n",
      "13209/13209 [==============================] - 1s 62us/sample - loss: 0.4906 - mae: 0.5118 - mse: 0.4906 - val_loss: 0.5353 - val_mae: 0.5074 - val_mse: 0.5353\n",
      "Epoch 4/1000\n",
      "13209/13209 [==============================] - 1s 58us/sample - loss: 0.4874 - mae: 0.5092 - mse: 0.4874 - val_loss: 0.5266 - val_mae: 0.5176 - val_mse: 0.5266\n",
      "Epoch 5/1000\n",
      "13209/13209 [==============================] - 1s 59us/sample - loss: 0.4828 - mae: 0.5053 - mse: 0.4828 - val_loss: 0.5374 - val_mae: 0.5182 - val_mse: 0.5374\n",
      "Epoch 6/1000\n",
      "13209/13209 [==============================] - 1s 59us/sample - loss: 0.4834 - mae: 0.5068 - mse: 0.4834 - val_loss: 0.5229 - val_mae: 0.5254 - val_mse: 0.5229\n",
      "Epoch 7/1000\n",
      "13209/13209 [==============================] - 1s 58us/sample - loss: 0.4861 - mae: 0.5080 - mse: 0.4861 - val_loss: 0.5379 - val_mae: 0.5336 - val_mse: 0.5379\n",
      "Epoch 8/1000\n",
      "13209/13209 [==============================] - 1s 58us/sample - loss: 0.4824 - mae: 0.5051 - mse: 0.4824 - val_loss: 0.5282 - val_mae: 0.5150 - val_mse: 0.5282\n",
      "Epoch 9/1000\n",
      "13209/13209 [==============================] - 1s 63us/sample - loss: 0.4802 - mae: 0.5048 - mse: 0.4802 - val_loss: 0.5209 - val_mae: 0.5084 - val_mse: 0.5209\n",
      "Epoch 10/1000\n",
      "13209/13209 [==============================] - 1s 63us/sample - loss: 0.4794 - mae: 0.5033 - mse: 0.4794 - val_loss: 0.5417 - val_mae: 0.5265 - val_mse: 0.5417\n",
      "Epoch 11/1000\n",
      "13209/13209 [==============================] - 1s 61us/sample - loss: 0.4783 - mae: 0.5023 - mse: 0.4783 - val_loss: 0.5341 - val_mae: 0.5218 - val_mse: 0.5341\n",
      "Epoch 12/1000\n",
      "13209/13209 [==============================] - 1s 59us/sample - loss: 0.4777 - mae: 0.5028 - mse: 0.4777 - val_loss: 0.5248 - val_mae: 0.5103 - val_mse: 0.5248\n",
      "Epoch 13/1000\n",
      "13209/13209 [==============================] - 1s 62us/sample - loss: 0.4763 - mae: 0.5022 - mse: 0.4763 - val_loss: 0.5259 - val_mae: 0.5232 - val_mse: 0.5259\n",
      "Epoch 14/1000\n",
      "13209/13209 [==============================] - 1s 57us/sample - loss: 0.4829 - mae: 0.5053 - mse: 0.4829 - val_loss: 0.5291 - val_mae: 0.5183 - val_mse: 0.5291\n",
      "Epoch 15/1000\n",
      "13209/13209 [==============================] - 1s 57us/sample - loss: 0.4765 - mae: 0.5020 - mse: 0.4765 - val_loss: 0.5296 - val_mae: 0.5287 - val_mse: 0.5296\n",
      "Epoch 16/1000\n",
      "13209/13209 [==============================] - 1s 57us/sample - loss: 0.4757 - mae: 0.5008 - mse: 0.4757 - val_loss: 0.5347 - val_mae: 0.5347 - val_mse: 0.5347\n",
      "Epoch 17/1000\n",
      "13209/13209 [==============================] - 1s 62us/sample - loss: 0.4776 - mae: 0.5018 - mse: 0.4776 - val_loss: 0.5209 - val_mae: 0.5169 - val_mse: 0.5209\n",
      "Epoch 18/1000\n",
      "13209/13209 [==============================] - 1s 62us/sample - loss: 0.4774 - mae: 0.5022 - mse: 0.4774 - val_loss: 0.5251 - val_mae: 0.5187 - val_mse: 0.5251\n",
      "Epoch 19/1000\n",
      "13209/13209 [==============================] - 1s 56us/sample - loss: 0.4765 - mae: 0.5006 - mse: 0.4765 - val_loss: 0.5175 - val_mae: 0.5139 - val_mse: 0.5175\n",
      "Epoch 20/1000\n",
      "13209/13209 [==============================] - 1s 60us/sample - loss: 0.4754 - mae: 0.5018 - mse: 0.4754 - val_loss: 0.5216 - val_mae: 0.5175 - val_mse: 0.5216\n",
      "Epoch 21/1000\n",
      "13209/13209 [==============================] - 1s 60us/sample - loss: 0.4759 - mae: 0.5000 - mse: 0.4759 - val_loss: 0.5254 - val_mae: 0.5117 - val_mse: 0.5254\n",
      "Epoch 22/1000\n",
      "13209/13209 [==============================] - 1s 61us/sample - loss: 0.4753 - mae: 0.5014 - mse: 0.4753 - val_loss: 0.5228 - val_mae: 0.5305 - val_mse: 0.5228\n",
      "Epoch 23/1000\n",
      "13209/13209 [==============================] - 1s 62us/sample - loss: 0.4736 - mae: 0.5006 - mse: 0.4736 - val_loss: 0.5169 - val_mae: 0.5229 - val_mse: 0.5169\n",
      "Epoch 24/1000\n",
      "13209/13209 [==============================] - 1s 61us/sample - loss: 0.4741 - mae: 0.5001 - mse: 0.4741 - val_loss: 0.5243 - val_mae: 0.5088 - val_mse: 0.5243\n",
      "Epoch 25/1000\n",
      "13209/13209 [==============================] - 1s 60us/sample - loss: 0.4749 - mae: 0.5003 - mse: 0.4749 - val_loss: 0.5220 - val_mae: 0.5111 - val_mse: 0.5220\n",
      "Epoch 26/1000\n",
      "13209/13209 [==============================] - 1s 59us/sample - loss: 0.4743 - mae: 0.4993 - mse: 0.4743 - val_loss: 0.5258 - val_mae: 0.5262 - val_mse: 0.5258\n",
      "Epoch 27/1000\n",
      "13209/13209 [==============================] - 1s 57us/sample - loss: 0.4740 - mae: 0.5005 - mse: 0.4740 - val_loss: 0.5394 - val_mae: 0.5468 - val_mse: 0.5394\n",
      "Epoch 28/1000\n",
      "13209/13209 [==============================] - 1s 61us/sample - loss: 0.4752 - mae: 0.5006 - mse: 0.4752 - val_loss: 0.5327 - val_mae: 0.5292 - val_mse: 0.5327\n",
      "Epoch 29/1000\n",
      "13209/13209 [==============================] - 1s 60us/sample - loss: 0.4723 - mae: 0.4994 - mse: 0.4723 - val_loss: 0.5308 - val_mae: 0.5325 - val_mse: 0.5308\n",
      "Epoch 30/1000\n",
      "13209/13209 [==============================] - 1s 62us/sample - loss: 0.4756 - mae: 0.5008 - mse: 0.4756 - val_loss: 0.5374 - val_mae: 0.5058 - val_mse: 0.5374\n",
      "Epoch 31/1000\n",
      "13209/13209 [==============================] - 1s 59us/sample - loss: 0.4731 - mae: 0.5001 - mse: 0.4731 - val_loss: 0.5279 - val_mae: 0.5206 - val_mse: 0.5279\n",
      "Epoch 32/1000\n",
      "13209/13209 [==============================] - 1s 60us/sample - loss: 0.4724 - mae: 0.4991 - mse: 0.4724 - val_loss: 0.5295 - val_mae: 0.5241 - val_mse: 0.5295\n",
      "Epoch 33/1000\n",
      "13209/13209 [==============================] - 1s 61us/sample - loss: 0.4731 - mae: 0.4995 - mse: 0.4731 - val_loss: 0.5207 - val_mae: 0.5170 - val_mse: 0.5207\n"
     ]
    }
   ],
   "metadata": {
    "colab": {},
    "colab_type": "code",
    "id": "lgCZjgOT7JqO"
   }
  },
  {
   "cell_type": "markdown",
   "source": [
    "## Conclusion"
   ],
   "metadata": {
    "colab_type": "text",
    "id": "ehTtTmPT61oH"
   }
  },
  {
   "cell_type": "markdown",
   "source": [
    "We have now learned how to build a deep neural network to solve a regression problem. We have visualized our loss in order to determine when we might stop training, and we have utilized early stopping to avoid wasting time training a model.\n",
    "\n",
    "Welcome to deep neural networks. They are deceptively simple to build, but they are very complex to master. When you can build a model to fit a domain, you can create amazing predictions that rival human experts."
   ],
   "metadata": {
    "colab_type": "text",
    "id": "21IdNfUG64H6"
   }
  }
 ],
 "metadata": {
  "accelerator": "TPU",
  "colab": {
   "collapsed_sections": [
    "copyright",
    "5fsbamUAVuCP",
    "0o3jHPj9llA8",
    "s9hGTw7O6Mtu"
   ],
   "include_colab_link": true,
   "name": "Regression with TensorFlow",
   "private_outputs": true,
   "provenance": [],
   "toc_visible": true
  },
  "kernelspec": {
   "name": "python3",
   "display_name": "Python 3.9.7 64-bit ('data': conda)"
  },
  "interpreter": {
   "hash": "8fbdc03ba97d8a2a62d8e820f8dc08c72c861e4a4433063471236fa03b6ac1df"
  },
  "language_info": {
   "name": "python",
   "version": "3.9.7",
   "mimetype": "text/x-python",
   "codemirror_mode": {
    "name": "ipython",
    "version": 3
   },
   "pygments_lexer": "ipython3",
   "nbconvert_exporter": "python",
   "file_extension": ".py"
  }
 },
 "nbformat": 4,
 "nbformat_minor": 2
}