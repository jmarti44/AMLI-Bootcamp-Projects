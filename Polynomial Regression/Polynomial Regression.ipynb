{
 "cells": [
  {
   "cell_type": "markdown",
   "source": [
    "<a href=\"https://colab.research.google.com/github/google/applied-machine-learning-intensive/blob/master/content/03_regression/04_polynomial_regression/colab.ipynb\" target=\"_parent\"><img src=\"https://colab.research.google.com/assets/colab-badge.svg\" alt=\"Open In Colab\"/></a>"
   ],
   "metadata": {
    "colab_type": "text",
    "id": "view-in-github"
   }
  },
  {
   "cell_type": "markdown",
   "source": [
    "#### Copyright 2020 Google LLC."
   ],
   "metadata": {
    "colab_type": "text",
    "id": "copyright"
   }
  },
  {
   "cell_type": "code",
   "execution_count": 1,
   "source": [
    "# Licensed under the Apache License, Version 2.0 (the \"License\");\n",
    "# you may not use this file except in compliance with the License.\n",
    "# You may obtain a copy of the License at\n",
    "#\n",
    "# https://www.apache.org/licenses/LICENSE-2.0\n",
    "#\n",
    "# Unless required by applicable law or agreed to in writing, software\n",
    "# distributed under the License is distributed on an \"AS IS\" BASIS,\n",
    "# WITHOUT WARRANTIES OR CONDITIONS OF ANY KIND, either express or implied.\n",
    "# See the License for the specific language governing permissions and\n",
    "# limitations under the License."
   ],
   "outputs": [],
   "metadata": {
    "colab": {},
    "colab_type": "code",
    "id": "za20dNxkuKgG"
   }
  },
  {
   "cell_type": "markdown",
   "source": [
    "# Polynomial Regression and Overfitting"
   ],
   "metadata": {
    "colab_type": "text",
    "id": "PWoQYCYUuRhq"
   }
  },
  {
   "cell_type": "markdown",
   "source": [
    "So far in this course, we have dealt exclusively with linear models. These have all been \"straight-line\" models where we attempt to draw a straight line that fits a regression.\n",
    "\n",
    "Today we will start building curved-lined models based on [polynomial equations](https://en.wikipedia.org/wiki/Polynomial)."
   ],
   "metadata": {
    "colab_type": "text",
    "id": "mtccx8anFhLG"
   }
  },
  {
   "cell_type": "markdown",
   "source": [
    "## Generating Sample Data\n",
    "\n",
    "Let's start by generating some data based on a second degree polynomial."
   ],
   "metadata": {
    "colab_type": "text",
    "id": "PknJfIfBwzu5"
   }
  },
  {
   "cell_type": "code",
   "execution_count": 2,
   "source": [
    "import numpy as np\n",
    "import matplotlib.pyplot as plt\n",
    "\n",
    "num_items = 100\n",
    "\n",
    "np.random.seed(seed=420)\n",
    "X = np.random.randn(num_items, 1)\n",
    "\n",
    "# These coefficients are chosen arbitrarily.\n",
    "y = 0.6*(X**2) - 0.4*X + 1.3\n",
    "\n",
    "plt.plot(X, y, 'b.')\n",
    "plt.show()"
   ],
   "outputs": [
    {
     "output_type": "display_data",
     "data": {
      "image/png": "[encoded data removed]",
      "text/plain": [
       "<Figure size 432x288 with 1 Axes>"
      ]
     },
     "metadata": {
      "needs_background": "light"
     }
    }
   ],
   "metadata": {
    "colab": {},
    "colab_type": "code",
    "id": "dgmmzEFXw-qi"
   }
  },
  {
   "cell_type": "markdown",
   "source": [
    "Let's add some randomness to create a more realistic dataset and re-plot the randomized data points and the fit line."
   ],
   "metadata": {
    "colab_type": "text",
    "id": "LPrjFFtr0-Ml"
   }
  },
  {
   "cell_type": "code",
   "execution_count": 3,
   "source": [
    "import numpy as np\n",
    "import matplotlib.pyplot as plt\n",
    "\n",
    "num_items = 100\n",
    "\n",
    "np.random.seed(seed=420)\n",
    "X = np.random.randn(num_items, 1)\n",
    "\n",
    "# Create some randomness.\n",
    "randomness = np.random.randn(num_items, 1) / 2\n",
    "\n",
    "# This is the same equation as the plot above, with added randomness.\n",
    "y = 0.6*(X**2) - 0.4*X + 1.3 + randomness\n",
    "\n",
    "X_line = np.linspace(X.min(), X.max(), num=num_items)\n",
    "y_line = 0.6*(X_line**2) - 0.4*X_line + 1.3\n",
    "\n",
    "plt.plot(X, y, 'b.')\n",
    "plt.plot(X_line, y_line, 'r-')\n",
    "plt.show()"
   ],
   "outputs": [
    {
     "output_type": "display_data",
     "data": {
      "image/png": "[encoded data removed]",
      "text/plain": [
       "<Figure size 432x288 with 1 Axes>"
      ]
     },
     "metadata": {
      "needs_background": "light"
     }
    }
   ],
   "metadata": {
    "colab": {},
    "colab_type": "code",
    "id": "wi5xcUqLqVyr"
   }
  },
  {
   "cell_type": "markdown",
   "source": [
    "That looks much better! Now we can see that a 2-degree polynomial function fits this data reasonably well."
   ],
   "metadata": {
    "colab_type": "text",
    "id": "0_ts9GCoF4rW"
   }
  },
  {
   "cell_type": "markdown",
   "source": [
    "## Polynomial Fitting\n",
    "\n",
    "We can now see a pretty obvious 2-degree polynomial that fits the scatter plot.\n",
    "\n",
    "Scikit-learn offers a `PolynomialFeatures` class that handles polynomial combinations for a linear model. In this case, we know that a 2-degree polynomial is a good fit since the data was generated from a polynomial curve. Let's see if the model works.\n",
    "\n",
    "We begin by creating a `PolynomialFeatures` instance of degree 2."
   ],
   "metadata": {
    "colab_type": "text",
    "id": "57bc0JsX1-ly"
   }
  },
  {
   "cell_type": "code",
   "execution_count": 4,
   "source": [
    "from sklearn.preprocessing import PolynomialFeatures\n",
    "\n",
    "pf = PolynomialFeatures(degree=2)\n",
    "X_poly = pf.fit_transform(X)\n",
    "\n",
    "X.shape, X_poly.shape"
   ],
   "outputs": [
    {
     "output_type": "execute_result",
     "data": {
      "text/plain": [
       "((100, 1), (100, 3))"
      ]
     },
     "metadata": {},
     "execution_count": 4
    }
   ],
   "metadata": {
    "colab": {},
    "colab_type": "code",
    "id": "pYj3qjd9q8OA"
   }
  },
  {
   "cell_type": "markdown",
   "source": [
    "You might be wondering what the `include_bias` parameter is. By default, it is `True`, in which case it forces the first exponent to be 0.\n",
    "\n",
    "This adds a constant bias term to the equation. When we ask for no bias we start our exponents at 1 instead of 0."
   ],
   "metadata": {
    "colab_type": "text",
    "id": "vjlcA2idpxaE"
   }
  },
  {
   "cell_type": "markdown",
   "source": [
    "This preprocessor generates a new feature matrix consisting of all polynomial combinations of the features. Notice that the input shape of `(100, 1)` becomes `(100, 2)` after transformation.\n",
    "\n",
    "In this simple case, we doubled the number of features since we asked for a 2-degree polynomial and had one input feature. The number of generated features grows exponentially as the number of features and polynomial degrees increases."
   ],
   "metadata": {
    "colab_type": "text",
    "id": "hhgV7MVq3EGL"
   }
  },
  {
   "cell_type": "markdown",
   "source": [
    "## Model Fitting\n",
    "\n",
    "We can now fit the model by passing our polynomial preprocessing data to the linear regressor.\n",
    "\n",
    "How close did the intercept and coefficient match the values in the function we used to generate our data?"
   ],
   "metadata": {
    "colab_type": "text",
    "id": "R1q9mXXXHYLr"
   }
  },
  {
   "cell_type": "code",
   "execution_count": 5,
   "source": [
    "from sklearn.linear_model import LinearRegression\n",
    "\n",
    "lin_reg = LinearRegression()\n",
    "lin_reg.fit(X_poly, y)\n",
    "\n",
    "lin_reg.intercept_, lin_reg.coef_"
   ],
   "outputs": [
    {
     "output_type": "execute_result",
     "data": {
      "text/plain": [
       "(array([1.36103165]), array([[ 0.        , -0.35327962,  0.61333818]]))"
      ]
     },
     "metadata": {},
     "execution_count": 5
    }
   ],
   "metadata": {
    "colab": {},
    "colab_type": "code",
    "id": "xwc2Bdh4rSVQ"
   }
  },
  {
   "cell_type": "markdown",
   "source": [
    "## Visualization\n",
    "\n",
    "We can plot our fitted line against the equation we used to generate the data. The fitted line is green, and the actual curve is red."
   ],
   "metadata": {
    "colab_type": "text",
    "id": "QyFK6PhcIBdE"
   }
  },
  {
   "cell_type": "code",
   "execution_count": 6,
   "source": [
    "np.random.seed(seed=420)\n",
    "\n",
    "# Create 100 even-spaced x-values.\n",
    "X_line_fitted = np.linspace(X.min(), X.max(), num=100)\n",
    "\n",
    "# Start our equation with the intercept.\n",
    "y_line_fitted = lin_reg.intercept_\n",
    "\n",
    "# For each exponent, raise the X value to that exponent and multiply it by the\n",
    "# appropriate coefficient\n",
    "for i in range(len(pf.powers_)):\n",
    "  exponent = pf.powers_[i][0]\n",
    "  y_line_fitted = y_line_fitted + \\\n",
    "    lin_reg.coef_[0][i] * (X_line_fitted**exponent)\n",
    "\n",
    "plt.plot(X_line_fitted, y_line_fitted, 'g-')\n",
    "plt.plot(X_line, y_line, 'r-')\n",
    "plt.plot(X, y, 'b.')\n",
    "plt.show()"
   ],
   "outputs": [
    {
     "output_type": "display_data",
     "data": {
      "image/png": "[encoded data removed]",
      "text/plain": [
       "<Figure size 432x288 with 1 Axes>"
      ]
     },
     "metadata": {
      "needs_background": "light"
     }
    }
   ],
   "metadata": {
    "colab": {},
    "colab_type": "code",
    "id": "eEd9rGnFr_mc"
   }
  },
  {
   "cell_type": "markdown",
   "source": [
    "# Overfitting\n",
    "\n",
    "When using polynomial regression, it can be easy to *overfit* the data so that it performs well on the training data but doesn't perform well in the real world.\n",
    "\n",
    "To understand overfitting we will create a fake dataset generated off of a linear equation, but we will use a polynomial regression as the model."
   ],
   "metadata": {
    "colab_type": "text",
    "id": "pLfOr-euIJ4v"
   }
  },
  {
   "cell_type": "code",
   "execution_count": 7,
   "source": [
    "np.random.seed(seed=420)\n",
    "\n",
    "# Create 50 points from a linear dataset with randomness.\n",
    "num_items = 50\n",
    "X = 6 * np.random.rand(num_items, 1)\n",
    "y = X + 2 + np.random.randn(num_items, 1)\n",
    "\n",
    "X_line = np.array([X.min(), X.max()])\n",
    "y_line = X_line + 2\n",
    "\n",
    "plt.plot(X_line, y_line, 'r-')\n",
    "plt.plot(X, y, 'b.')\n",
    "plt.show()"
   ],
   "outputs": [
    {
     "output_type": "display_data",
     "data": {
      "image/png": "[encoded data removed]",
      "text/plain": [
       "<Figure size 432x288 with 1 Axes>"
      ]
     },
     "metadata": {
      "needs_background": "light"
     }
    }
   ],
   "metadata": {
    "colab": {},
    "colab_type": "code",
    "id": "q4FHYtfrwVEr"
   }
  },
  {
   "cell_type": "markdown",
   "source": [
    "Let's now create a 10 degree polynomial to fit the linear data and fit the model."
   ],
   "metadata": {
    "colab_type": "text",
    "id": "-axAp_pzxHQe"
   }
  },
  {
   "cell_type": "code",
   "execution_count": 8,
   "source": [
    "from sklearn.preprocessing import PolynomialFeatures\n",
    "from sklearn.linear_model import LinearRegression\n",
    "\n",
    "np.random.seed(seed=420)\n",
    "\n",
    "poly_features = PolynomialFeatures(degree=10, include_bias=False)\n",
    "X_poly = poly_features.fit_transform(X)\n",
    "\n",
    "regression = LinearRegression()\n",
    "regression.fit(X_poly, y)"
   ],
   "outputs": [
    {
     "output_type": "execute_result",
     "data": {
      "text/plain": [
       "LinearRegression()"
      ]
     },
     "metadata": {},
     "execution_count": 8
    }
   ],
   "metadata": {
    "colab": {},
    "colab_type": "code",
    "id": "4lflXXT24pRN"
   }
  },
  {
   "cell_type": "markdown",
   "source": [
    "## Visualization\n",
    "\n",
    "Let's draw the polynomial line that we fit to the data. To draw the line, we need to execute the 10 degree polynomial equation.\n",
    "\n",
    "$$\n",
    "y = k_0 + k_1x^1 + k_2x^2 + k_3x^3 + ... + k_9x^9 + k_{10}x^{10}\n",
    "$$\n",
    "\n",
    "Coding the above equation by hand is tedious and error-prone. It also makes it difficult to change the degree of the polynomial we are fitting.\n",
    "\n",
    "Let's see if there is a way to write the code more dynamically, using the `PolynomialFeatures` and `LinearRegression` functions."
   ],
   "metadata": {
    "colab_type": "text",
    "id": "QPXZ46X8xXFB"
   }
  },
  {
   "cell_type": "markdown",
   "source": [
    "The `PolynomialFeatures` class provides us with a list of exponents that we can use for each portion of the polynomial equation."
   ],
   "metadata": {
    "colab_type": "text",
    "id": "y-XxBVnPzB9o"
   }
  },
  {
   "cell_type": "code",
   "execution_count": 9,
   "source": [
    "poly_features.powers_"
   ],
   "outputs": [
    {
     "output_type": "execute_result",
     "data": {
      "text/plain": [
       "array([[ 1],\n",
       "       [ 2],\n",
       "       [ 3],\n",
       "       [ 4],\n",
       "       [ 5],\n",
       "       [ 6],\n",
       "       [ 7],\n",
       "       [ 8],\n",
       "       [ 9],\n",
       "       [10]])"
      ]
     },
     "metadata": {},
     "execution_count": 9
    }
   ],
   "metadata": {
    "colab": {},
    "colab_type": "code",
    "id": "LIatzCwvy8QD"
   }
  },
  {
   "cell_type": "markdown",
   "source": [
    "The `LinearRegression` class provides us with a list of coefficients that correspond to the powers provided by `PolynomialFeatures`."
   ],
   "metadata": {
    "colab_type": "text",
    "id": "3-GRE5mgzYmI"
   }
  },
  {
   "cell_type": "code",
   "execution_count": 10,
   "source": [
    "regression.coef_"
   ],
   "outputs": [
    {
     "output_type": "execute_result",
     "data": {
      "text/plain": [
       "array([[-1.93762877e+01,  7.75135831e+01, -1.38337775e+02,\n",
       "         1.36694413e+02, -8.16237575e+01,  3.06089393e+01,\n",
       "        -7.24294715e+00,  1.04853764e+00, -8.47161797e-02,\n",
       "         2.92466572e-03]])"
      ]
     },
     "metadata": {},
     "execution_count": 10
    }
   ],
   "metadata": {
    "colab": {},
    "colab_type": "code",
    "id": "e-RmO7-KzSMe"
   }
  },
  {
   "cell_type": "markdown",
   "source": [
    "It also provides an intercept."
   ],
   "metadata": {
    "colab_type": "text",
    "id": "w1nb49h7zjeR"
   }
  },
  {
   "cell_type": "code",
   "execution_count": 11,
   "source": [
    "regression.intercept_"
   ],
   "outputs": [
    {
     "output_type": "execute_result",
     "data": {
      "text/plain": [
       "array([3.98338804])"
      ]
     },
     "metadata": {},
     "execution_count": 11
    }
   ],
   "metadata": {
    "colab": {},
    "colab_type": "code",
    "id": "14UXMC2nzgzO"
   }
  },
  {
   "cell_type": "markdown",
   "source": [
    "Having this information, we can take a set of $X$ values (in the code below we use 100), then run our equation on those values."
   ],
   "metadata": {
    "colab_type": "text",
    "id": "jM1pOywgzm8d"
   }
  },
  {
   "cell_type": "code",
   "execution_count": 12,
   "source": [
    "np.random.seed(seed=420)\n",
    "\n",
    "# Create 100 even-spaced x-values.\n",
    "X_line_fitted = np.linspace(X.min(), X.max(), num=100)\n",
    "\n",
    "# Start our equation with the intercept.\n",
    "y_line_fitted = regression.intercept_\n",
    "\n",
    "# For each exponent, raise the X value to that exponent and multiply it by the\n",
    "# appropriate coefficient\n",
    "for i in range(len(poly_features.powers_)):\n",
    "  exponent = poly_features.powers_[i][0]\n",
    "  y_line_fitted = y_line_fitted + \\\n",
    "    regression.coef_[0][i] * (X_line_fitted**exponent)"
   ],
   "outputs": [],
   "metadata": {
    "colab": {},
    "colab_type": "code",
    "id": "PjZem434xSZf"
   }
  },
  {
   "cell_type": "markdown",
   "source": [
    "We can now plot the data points, the actual line used to generate them, and our fitted model."
   ],
   "metadata": {
    "colab_type": "text",
    "id": "H98LMnMp0JC0"
   }
  },
  {
   "cell_type": "code",
   "execution_count": 13,
   "source": [
    "plt.plot(X_line, y_line, 'r-')\n",
    "plt.plot(X_line_fitted, y_line_fitted, 'g-')\n",
    "plt.plot(X, y, 'b.')\n",
    "plt.show()"
   ],
   "outputs": [
    {
     "output_type": "display_data",
     "data": {
      "image/png": "[encoded data removed]",
      "text/plain": [
       "<Figure size 432x288 with 1 Axes>"
      ]
     },
     "metadata": {
      "needs_background": "light"
     }
    }
   ],
   "metadata": {
    "colab": {},
    "colab_type": "code",
    "id": "PH8z0hQt0PQf"
   }
  },
  {
   "cell_type": "markdown",
   "source": [
    "Notice how our line is very wavy, and it spikes up and down to pass through specific data points. (This is especially true for the lowest and highest $x$-values, where the curve passes through them exactly.) This is a sign of overfitting. The line fits the training data reasonably well, but it may not be as useful on new data."
   ],
   "metadata": {
    "colab_type": "text",
    "id": "Lt6mmUD80VXn"
   }
  },
  {
   "cell_type": "markdown",
   "source": [
    "## Using a Simpler Model\n",
    "\n",
    "The most obvious way to prevent overfitting in this example is to simply reduce the degree of the polynomial.\n",
    "\n",
    "The code below uses a 2-degree polynomial and seems to fit the data much better. A linear model would work well too."
   ],
   "metadata": {
    "colab_type": "text",
    "id": "aXaa2K9h0pCX"
   }
  },
  {
   "cell_type": "code",
   "execution_count": 14,
   "source": [
    "from sklearn.preprocessing import PolynomialFeatures\n",
    "from sklearn.linear_model import LinearRegression\n",
    "\n",
    "poly_features = PolynomialFeatures(degree=2, include_bias=False)\n",
    "X_poly = poly_features.fit_transform(X)\n",
    "\n",
    "regression = LinearRegression()\n",
    "regression.fit(X_poly, y)\n",
    "\n",
    "X_line_fitted = np.linspace(X.min(), X.max(), num=100)\n",
    "y_line_fitted = regression.intercept_\n",
    "for i in range(len(poly_features.powers_)):\n",
    "  exponent = poly_features.powers_[i][0]\n",
    "  y_line_fitted = y_line_fitted + \\\n",
    "    regression.coef_[0][i] * (X_line_fitted**exponent)\n",
    "\n",
    "plt.plot(X_line, y_line, 'r-')\n",
    "plt.plot(X_line_fitted, y_line_fitted, 'g-')\n",
    "plt.plot(X, y, 'b.')\n",
    "plt.show()"
   ],
   "outputs": [
    {
     "output_type": "display_data",
     "data": {
      "image/png": "[encoded data removed]",
      "text/plain": [
       "<Figure size 432x288 with 1 Axes>"
      ]
     },
     "metadata": {
      "needs_background": "light"
     }
    }
   ],
   "metadata": {
    "colab": {},
    "colab_type": "code",
    "id": "9khOTN-y09qO"
   }
  },
  {
   "cell_type": "markdown",
   "source": [
    "## Lasso Regularization\n",
    "\n",
    "It is not always so clear what the \"simpler\" model choice is. Often, you will have to rely on regularization methods. A **regularization** is a method that penalizes large coefficients, with the aim of shrinking unnecessary coefficients to zero.\n",
    "\n",
    "Least Absolute Shrinkage and Selection Operator (Lasso) regularization, also called L1 regularization, is a regularization method that adds the sum of the absolute values of the coefficients as a penalty in a cost function.\n",
    "\n",
    "In scikit-learn, we can use the [Lasso](https://scikit-learn.org/stable/modules/generated/sklearn.linear_model.Lasso.html) model, which performs a linear regression with an L1 regression penalty.\n",
    "\n",
    "In the resultant graph, you can see that the regression smooths out our polynomial curve quite a bit despite the polynomial being a degree 10 polynomial. Note that Lasso regression can make the impact of less important features completely disappear."
   ],
   "metadata": {
    "colab_type": "text",
    "id": "WqqCYcOt1iUF"
   }
  },
  {
   "cell_type": "code",
   "execution_count": 15,
   "source": [
    "from sklearn.linear_model import Lasso\n",
    "\n",
    "poly_features = PolynomialFeatures(degree=10, include_bias=False)\n",
    "X_poly = poly_features.fit_transform(X)\n",
    "\n",
    "lasso_reg = Lasso(alpha=5.0)\n",
    "lasso_reg.fit(X_poly, y)\n",
    "\n",
    "X_line_fitted = np.linspace(X.min(), X.max(), num=100)\n",
    "y_line_fitted = lasso_reg.intercept_\n",
    "for i in range(len(poly_features.powers_)):\n",
    "  exponent = poly_features.powers_[i][0]\n",
    "  y_line_fitted = y_line_fitted + lasso_reg.coef_[i] * (X_line_fitted**exponent)\n",
    "\n",
    "plt.plot(X_line, y_line, 'r-')\n",
    "plt.plot(X_line_fitted, y_line_fitted, 'g-')\n",
    "plt.plot(X, y, 'b.')\n",
    "plt.show()"
   ],
   "outputs": [
    {
     "output_type": "stream",
     "name": "stderr",
     "text": [
      "/Users/josemartinez/opt/anaconda3/envs/data/lib/python3.9/site-packages/sklearn/linear_model/_coordinate_descent.py:645: ConvergenceWarning: Objective did not converge. You might want to increase the number of iterations, check the scale of the features or consider increasing regularisation. Duality gap: 2.645e+01, tolerance: 1.633e-02\n",
      "  model = cd_fast.enet_coordinate_descent(\n"
     ]
    },
    {
     "output_type": "display_data",
     "data": {
      "image/png": "[encoded data removed]",
      "text/plain": [
       "<Figure size 432x288 with 1 Axes>"
      ]
     },
     "metadata": {
      "needs_background": "light"
     }
    }
   ],
   "metadata": {
    "colab": {},
    "colab_type": "code",
    "id": "16_BAxX_mAVt"
   }
  },
  {
   "cell_type": "markdown",
   "source": [
    "## Ridge Regularization\n",
    "\n",
    "Similar to Lasso regularization, [Ridge](https://scikit-learn.org/stable/modules/generated/sklearn.linear_model.Ridge.html) regularization adds a penalty to the cost function of a model. In the case of Ridge, also called L2 regularization, the penalty is the sum of squares of the coefficients.\n",
    "\n",
    "Again, we can see that the regression smooths out the curve of our 10-degree polynomial."
   ],
   "metadata": {
    "colab_type": "text",
    "id": "PV1Geq_n3N47"
   }
  },
  {
   "cell_type": "code",
   "execution_count": 16,
   "source": [
    "from sklearn.linear_model import Ridge\n",
    "\n",
    "poly_features = PolynomialFeatures(degree=10, include_bias=False)\n",
    "X_poly = poly_features.fit_transform(X)\n",
    "\n",
    "ridge_reg = Ridge(alpha=0.5)\n",
    "ridge_reg.fit(X_poly, y)\n",
    "\n",
    "X_line_fitted = np.linspace(X.min(), X.max(), num=100)\n",
    "y_line_fitted = ridge_reg.intercept_\n",
    "for i in range(len(poly_features.powers_)):\n",
    "  exponent = poly_features.powers_[i][0]\n",
    "  y_line_fitted = y_line_fitted + ridge_reg.coef_[0][i] * (X_line_fitted**exponent)\n",
    "\n",
    "plt.plot(X_line, y_line, 'r-')\n",
    "plt.plot(X_line_fitted, y_line_fitted, 'g-')\n",
    "plt.plot(X, y, 'b.')\n",
    "plt.show()"
   ],
   "outputs": [
    {
     "output_type": "stream",
     "name": "stderr",
     "text": [
      "/Users/josemartinez/opt/anaconda3/envs/data/lib/python3.9/site-packages/sklearn/linear_model/_ridge.py:156: LinAlgWarning: Ill-conditioned matrix (rcond=8.5572e-17): result may not be accurate.\n",
      "  return linalg.solve(A, Xy, sym_pos=True, overwrite_a=True).T\n"
     ]
    },
    {
     "output_type": "display_data",
     "data": {
      "image/png": "[encoded data removed]",
      "text/plain": [
       "<Figure size 432x288 with 1 Axes>"
      ]
     },
     "metadata": {
      "needs_background": "light"
     }
    }
   ],
   "metadata": {
    "colab": {},
    "colab_type": "code",
    "id": "WlS8-f-ynEEy"
   }
  },
  {
   "cell_type": "markdown",
   "source": [
    "## ElasticNet Regularization\n",
    "\n",
    "Another common form of regularization is [ElasticNet](https://scikit-learn.org/stable/modules/generated/sklearn.linear_model.ElasticNet.html) regularization. This regularization method combines the concepts of L1 and L2 regularization by applying a penalty containing both a squared value and an absolute value."
   ],
   "metadata": {
    "colab_type": "text",
    "id": "vkoP4T6W4Vjl"
   }
  },
  {
   "cell_type": "code",
   "execution_count": 17,
   "source": [
    "from sklearn.linear_model import ElasticNet\n",
    "\n",
    "poly_features = PolynomialFeatures(degree=10, include_bias=False)\n",
    "X_poly = poly_features.fit_transform(X)\n",
    "\n",
    "elastic_reg = ElasticNet(alpha=2.0, l1_ratio=0.5)\n",
    "elastic_reg.fit(X_poly, y)\n",
    "\n",
    "X_line_fitted = np.linspace(X.min(), X.max(), num=100)\n",
    "y_line_fitted = elastic_reg.intercept_\n",
    "for i in range(len(poly_features.powers_)):\n",
    "  exponent = poly_features.powers_[i][0]\n",
    "  y_line_fitted = y_line_fitted + \\\n",
    "    elastic_reg.coef_[i] * (X_line_fitted**exponent)\n",
    "\n",
    "plt.plot(X_line, y_line, 'r-')\n",
    "plt.plot(X_line_fitted, y_line_fitted, 'g-')\n",
    "plt.plot(X, y, 'b.')\n",
    "plt.show()"
   ],
   "outputs": [
    {
     "output_type": "stream",
     "name": "stderr",
     "text": [
      "/Users/josemartinez/opt/anaconda3/envs/data/lib/python3.9/site-packages/sklearn/linear_model/_coordinate_descent.py:645: ConvergenceWarning: Objective did not converge. You might want to increase the number of iterations, check the scale of the features or consider increasing regularisation. Duality gap: 2.400e+01, tolerance: 1.633e-02\n",
      "  model = cd_fast.enet_coordinate_descent(\n"
     ]
    },
    {
     "output_type": "display_data",
     "data": {
      "image/png": "[encoded data removed]",
      "text/plain": [
       "<Figure size 432x288 with 1 Axes>"
      ]
     },
     "metadata": {
      "needs_background": "light"
     }
    }
   ],
   "metadata": {
    "colab": {},
    "colab_type": "code",
    "id": "phYvL4o1oPKv"
   }
  },
  {
   "cell_type": "markdown",
   "source": [
    "## Other Strategies\n",
    "\n",
    "Aside from regularization, there are other strategies that can be used to prevent overfitting. These include:\n",
    "\n",
    "* [Early stopping](https://en.wikipedia.org/wiki/Early_stopping)\n",
    "* [Cross-validation](https://en.wikipedia.org/wiki/Cross-validation_(statistics)\n",
    "* [Ensemble methods](https://en.wikipedia.org/wiki/Ensemble_learning)\n",
    "* Simplifying your model\n",
    "* Removing features"
   ],
   "metadata": {
    "colab_type": "text",
    "id": "0AfrlEyb-Dlu"
   }
  },
  {
   "cell_type": "markdown",
   "source": [
    "# Exercises"
   ],
   "metadata": {
    "colab_type": "text",
    "id": "ZztAQi3YPptV"
   }
  },
  {
   "cell_type": "markdown",
   "source": [
    "For these exercises we will work with the [diabetes dataset](https://scikit-learn.org/stable/datasets/index.html#diabetes-dataset) that comes with scikit-learn. The data contains the following features:\n",
    "\n",
    "1. age\n",
    "1. sex\n",
    "1. body mass index (bmi)\n",
    "1. average blood pressure (bp)\n",
    "\n",
    "It also contains six measures of blood serum, `s1` through `s6`. The target is a numeric assessment of the progression of the disease over the course of a year.\n",
    "\n",
    "The data has been standardized."
   ],
   "metadata": {
    "colab_type": "text",
    "id": "PsCX81qd-0v3"
   }
  },
  {
   "cell_type": "code",
   "execution_count": 18,
   "source": [
    "from sklearn.datasets import load_diabetes\n",
    "\n",
    "import numpy as np\n",
    "import pandas as pd\n",
    "\n",
    "data = load_diabetes()\n",
    "df = pd.DataFrame(data.data, columns=data.feature_names)\n",
    "df['progression'] = data.target\n",
    "\n",
    "df.describe()"
   ],
   "outputs": [
    {
     "output_type": "execute_result",
     "data": {
      "text/html": [
       "<div>\n",
       "<style scoped>\n",
       "    .dataframe tbody tr th:only-of-type {\n",
       "        vertical-align: middle;\n",
       "    }\n",
       "\n",
       "    .dataframe tbody tr th {\n",
       "        vertical-align: top;\n",
       "    }\n",
       "\n",
       "    .dataframe thead th {\n",
       "        text-align: right;\n",
       "    }\n",
       "</style>\n",
       "<table border=\"1\" class=\"dataframe\">\n",
       "  <thead>\n",
       "    <tr style=\"text-align: right;\">\n",
       "      <th></th>\n",
       "      <th>age</th>\n",
       "      <th>sex</th>\n",
       "      <th>bmi</th>\n",
       "      <th>bp</th>\n",
       "      <th>s1</th>\n",
       "      <th>s2</th>\n",
       "      <th>s3</th>\n",
       "      <th>s4</th>\n",
       "      <th>s5</th>\n",
       "      <th>s6</th>\n",
       "      <th>progression</th>\n",
       "    </tr>\n",
       "  </thead>\n",
       "  <tbody>\n",
       "    <tr>\n",
       "      <th>count</th>\n",
       "      <td>4.420000e+02</td>\n",
       "      <td>4.420000e+02</td>\n",
       "      <td>4.420000e+02</td>\n",
       "      <td>4.420000e+02</td>\n",
       "      <td>4.420000e+02</td>\n",
       "      <td>4.420000e+02</td>\n",
       "      <td>4.420000e+02</td>\n",
       "      <td>4.420000e+02</td>\n",
       "      <td>4.420000e+02</td>\n",
       "      <td>4.420000e+02</td>\n",
       "      <td>442.000000</td>\n",
       "    </tr>\n",
       "    <tr>\n",
       "      <th>mean</th>\n",
       "      <td>-3.634285e-16</td>\n",
       "      <td>1.308343e-16</td>\n",
       "      <td>-8.045349e-16</td>\n",
       "      <td>1.281655e-16</td>\n",
       "      <td>-8.835316e-17</td>\n",
       "      <td>1.327024e-16</td>\n",
       "      <td>-4.574646e-16</td>\n",
       "      <td>3.777301e-16</td>\n",
       "      <td>-3.830854e-16</td>\n",
       "      <td>-3.412882e-16</td>\n",
       "      <td>152.133484</td>\n",
       "    </tr>\n",
       "    <tr>\n",
       "      <th>std</th>\n",
       "      <td>4.761905e-02</td>\n",
       "      <td>4.761905e-02</td>\n",
       "      <td>4.761905e-02</td>\n",
       "      <td>4.761905e-02</td>\n",
       "      <td>4.761905e-02</td>\n",
       "      <td>4.761905e-02</td>\n",
       "      <td>4.761905e-02</td>\n",
       "      <td>4.761905e-02</td>\n",
       "      <td>4.761905e-02</td>\n",
       "      <td>4.761905e-02</td>\n",
       "      <td>77.093005</td>\n",
       "    </tr>\n",
       "    <tr>\n",
       "      <th>min</th>\n",
       "      <td>-1.072256e-01</td>\n",
       "      <td>-4.464164e-02</td>\n",
       "      <td>-9.027530e-02</td>\n",
       "      <td>-1.123996e-01</td>\n",
       "      <td>-1.267807e-01</td>\n",
       "      <td>-1.156131e-01</td>\n",
       "      <td>-1.023071e-01</td>\n",
       "      <td>-7.639450e-02</td>\n",
       "      <td>-1.260974e-01</td>\n",
       "      <td>-1.377672e-01</td>\n",
       "      <td>25.000000</td>\n",
       "    </tr>\n",
       "    <tr>\n",
       "      <th>25%</th>\n",
       "      <td>-3.729927e-02</td>\n",
       "      <td>-4.464164e-02</td>\n",
       "      <td>-3.422907e-02</td>\n",
       "      <td>-3.665645e-02</td>\n",
       "      <td>-3.424784e-02</td>\n",
       "      <td>-3.035840e-02</td>\n",
       "      <td>-3.511716e-02</td>\n",
       "      <td>-3.949338e-02</td>\n",
       "      <td>-3.324879e-02</td>\n",
       "      <td>-3.317903e-02</td>\n",
       "      <td>87.000000</td>\n",
       "    </tr>\n",
       "    <tr>\n",
       "      <th>50%</th>\n",
       "      <td>5.383060e-03</td>\n",
       "      <td>-4.464164e-02</td>\n",
       "      <td>-7.283766e-03</td>\n",
       "      <td>-5.670611e-03</td>\n",
       "      <td>-4.320866e-03</td>\n",
       "      <td>-3.819065e-03</td>\n",
       "      <td>-6.584468e-03</td>\n",
       "      <td>-2.592262e-03</td>\n",
       "      <td>-1.947634e-03</td>\n",
       "      <td>-1.077698e-03</td>\n",
       "      <td>140.500000</td>\n",
       "    </tr>\n",
       "    <tr>\n",
       "      <th>75%</th>\n",
       "      <td>3.807591e-02</td>\n",
       "      <td>5.068012e-02</td>\n",
       "      <td>3.124802e-02</td>\n",
       "      <td>3.564384e-02</td>\n",
       "      <td>2.835801e-02</td>\n",
       "      <td>2.984439e-02</td>\n",
       "      <td>2.931150e-02</td>\n",
       "      <td>3.430886e-02</td>\n",
       "      <td>3.243323e-02</td>\n",
       "      <td>2.791705e-02</td>\n",
       "      <td>211.500000</td>\n",
       "    </tr>\n",
       "    <tr>\n",
       "      <th>max</th>\n",
       "      <td>1.107267e-01</td>\n",
       "      <td>5.068012e-02</td>\n",
       "      <td>1.705552e-01</td>\n",
       "      <td>1.320442e-01</td>\n",
       "      <td>1.539137e-01</td>\n",
       "      <td>1.987880e-01</td>\n",
       "      <td>1.811791e-01</td>\n",
       "      <td>1.852344e-01</td>\n",
       "      <td>1.335990e-01</td>\n",
       "      <td>1.356118e-01</td>\n",
       "      <td>346.000000</td>\n",
       "    </tr>\n",
       "  </tbody>\n",
       "</table>\n",
       "</div>"
      ],
      "text/plain": [
       "                age           sex           bmi            bp            s1  \\\n",
       "count  4.420000e+02  4.420000e+02  4.420000e+02  4.420000e+02  4.420000e+02   \n",
       "mean  -3.634285e-16  1.308343e-16 -8.045349e-16  1.281655e-16 -8.835316e-17   \n",
       "std    4.761905e-02  4.761905e-02  4.761905e-02  4.761905e-02  4.761905e-02   \n",
       "min   -1.072256e-01 -4.464164e-02 -9.027530e-02 -1.123996e-01 -1.267807e-01   \n",
       "25%   -3.729927e-02 -4.464164e-02 -3.422907e-02 -3.665645e-02 -3.424784e-02   \n",
       "50%    5.383060e-03 -4.464164e-02 -7.283766e-03 -5.670611e-03 -4.320866e-03   \n",
       "75%    3.807591e-02  5.068012e-02  3.124802e-02  3.564384e-02  2.835801e-02   \n",
       "max    1.107267e-01  5.068012e-02  1.705552e-01  1.320442e-01  1.539137e-01   \n",
       "\n",
       "                 s2            s3            s4            s5            s6  \\\n",
       "count  4.420000e+02  4.420000e+02  4.420000e+02  4.420000e+02  4.420000e+02   \n",
       "mean   1.327024e-16 -4.574646e-16  3.777301e-16 -3.830854e-16 -3.412882e-16   \n",
       "std    4.761905e-02  4.761905e-02  4.761905e-02  4.761905e-02  4.761905e-02   \n",
       "min   -1.156131e-01 -1.023071e-01 -7.639450e-02 -1.260974e-01 -1.377672e-01   \n",
       "25%   -3.035840e-02 -3.511716e-02 -3.949338e-02 -3.324879e-02 -3.317903e-02   \n",
       "50%   -3.819065e-03 -6.584468e-03 -2.592262e-03 -1.947634e-03 -1.077698e-03   \n",
       "75%    2.984439e-02  2.931150e-02  3.430886e-02  3.243323e-02  2.791705e-02   \n",
       "max    1.987880e-01  1.811791e-01  1.852344e-01  1.335990e-01  1.356118e-01   \n",
       "\n",
       "       progression  \n",
       "count   442.000000  \n",
       "mean    152.133484  \n",
       "std      77.093005  \n",
       "min      25.000000  \n",
       "25%      87.000000  \n",
       "50%     140.500000  \n",
       "75%     211.500000  \n",
       "max     346.000000  "
      ]
     },
     "metadata": {},
     "execution_count": 18
    }
   ],
   "metadata": {
    "colab": {},
    "colab_type": "code",
    "id": "FOHF9pSD0Q8q"
   }
  },
  {
   "cell_type": "markdown",
   "source": [
    "Let's plot how body mass index relates to blood pressure."
   ],
   "metadata": {
    "colab_type": "text",
    "id": "l_OwePHmc5jl"
   }
  },
  {
   "cell_type": "code",
   "execution_count": 19,
   "source": [
    "import matplotlib.pyplot as plt\n",
    "\n",
    "plt.plot(df['bmi'], df['bp'], 'b.')\n",
    "plt.show()"
   ],
   "outputs": [
    {
     "output_type": "display_data",
     "data": {
      "image/png": "[encoded data removed]",
      "text/plain": [
       "<Figure size 432x288 with 1 Axes>"
      ]
     },
     "metadata": {
      "needs_background": "light"
     }
    }
   ],
   "metadata": {
    "colab": {},
    "colab_type": "code",
    "id": "vfqqluBM_mVl"
   }
  },
  {
   "cell_type": "markdown",
   "source": [
    "## Exercise 1: Polynomial Regression "
   ],
   "metadata": {
    "colab_type": "text",
    "id": "PGZdi0rqClcW"
   }
  },
  {
   "cell_type": "markdown",
   "source": [
    "Let's create a model to see if we can map body mass index to blood pressure.\n",
    "\n",
    "1. Create a 10-degree polynomial preprocessor for our regression\n",
    "1. Create a linear regression model\n",
    "1. Fit and transform the `bmi` values with the polynomial features preprocessor\n",
    "1. Fit the transformed data using the linear regression\n",
    "1. Plot the fitted line over a scatter plot of the data points"
   ],
   "metadata": {
    "colab_type": "text",
    "id": "wGvum6-lnTnL"
   }
  },
  {
   "cell_type": "markdown",
   "source": [
    "**Student Solution**"
   ],
   "metadata": {
    "colab_type": "text",
    "id": "2at-qnRUP9yK"
   }
  },
  {
   "cell_type": "code",
   "execution_count": 20,
   "source": [
    "# Your code goes here"
   ],
   "outputs": [],
   "metadata": {
    "colab": {},
    "colab_type": "code",
    "id": "eXs9gz-3QAH-"
   }
  },
  {
   "cell_type": "markdown",
   "source": [
    "---"
   ],
   "metadata": {
    "colab_type": "text",
    "id": "541BajOTJyms"
   }
  },
  {
   "cell_type": "markdown",
   "source": [
    "## Exercise 2: Regularization"
   ],
   "metadata": {
    "colab_type": "text",
    "id": "1tV79QxhDP_i"
   }
  },
  {
   "cell_type": "markdown",
   "source": [
    "Your model from exercise one likely looked like it overfit. Experiment with the Lasso, Ridge, and/or ElasticNet classes in the place of the `LinearRegression`. Adjust the parameters for whichever regularization class you use until you create a line that doesn't look to be under- or over-fitted."
   ],
   "metadata": {
    "colab_type": "text",
    "id": "EZyLCzEanVoD"
   }
  },
  {
   "cell_type": "markdown",
   "source": [
    "**Student Solution**"
   ],
   "metadata": {
    "colab_type": "text",
    "id": "Wilt9sLuQI50"
   }
  },
  {
   "cell_type": "code",
   "execution_count": 21,
   "source": [
    "# Your code goes here"
   ],
   "outputs": [],
   "metadata": {
    "colab": {},
    "colab_type": "code",
    "id": "owQ0vctpQP_6"
   }
  },
  {
   "cell_type": "markdown",
   "source": [
    "---"
   ],
   "metadata": {
    "colab_type": "text",
    "id": "_27ehIdZJtw8"
   }
  },
  {
   "cell_type": "markdown",
   "source": [
    "## Exercise 3: Other Models"
   ],
   "metadata": {
    "colab_type": "text",
    "id": "Nso7fOpVEWJb"
   }
  },
  {
   "cell_type": "markdown",
   "source": [
    "Experiment with the [BayesianRidge](https://scikit-learn.org/stable/modules/generated/sklearn.linear_model.BayesianRidge.html). Does its fit line look better or worse than your other models?"
   ],
   "metadata": {
    "colab_type": "text",
    "id": "5jBqG09r615k"
   }
  },
  {
   "cell_type": "markdown",
   "source": [
    "**Student Solution**"
   ],
   "metadata": {
    "colab_type": "text",
    "id": "a5DJdaaw6n7a"
   }
  },
  {
   "cell_type": "code",
   "execution_count": 22,
   "source": [
    "# Your code goes here."
   ],
   "outputs": [],
   "metadata": {
    "colab": {},
    "colab_type": "code",
    "id": "DHhJ1nUZEuV7"
   }
  },
  {
   "cell_type": "markdown",
   "source": [
    "Does your fit line look better or worse than your other models?"
   ],
   "metadata": {
    "colab_type": "text",
    "id": "MZtjFc68fiCP"
   }
  },
  {
   "cell_type": "markdown",
   "source": [
    "> *Your Answer Goes Here*"
   ],
   "metadata": {
    "colab_type": "text",
    "id": "xquJndh1fnGT"
   }
  },
  {
   "cell_type": "markdown",
   "source": [
    "---"
   ],
   "metadata": {
    "colab_type": "text",
    "id": "KM_uN8EcJrNy"
   }
  }
 ],
 "metadata": {
  "colab": {
   "collapsed_sections": [
    "copyright",
    "exercise-1-key-1",
    "exercise-2-key-1",
    "exercise-3-key-1"
   ],
   "include_colab_link": true,
   "name": "Polynomial Regression and Overfitting",
   "private_outputs": true,
   "provenance": [],
   "toc_visible": true
  },
  "kernelspec": {
   "name": "python3",
   "display_name": "Python 3.9.7 64-bit ('data': conda)"
  },
  "language_info": {
   "name": "python",
   "version": "3.9.7",
   "mimetype": "text/x-python",
   "codemirror_mode": {
    "name": "ipython",
    "version": 3
   },
   "pygments_lexer": "ipython3",
   "nbconvert_exporter": "python",
   "file_extension": ".py"
  },
  "interpreter": {
   "hash": "8fbdc03ba97d8a2a62d8e820f8dc08c72c861e4a4433063471236fa03b6ac1df"
  }
 },
 "nbformat": 4,
 "nbformat_minor": 2
}