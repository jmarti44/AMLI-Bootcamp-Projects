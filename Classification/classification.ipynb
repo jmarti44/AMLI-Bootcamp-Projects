{
 "cells": [
  {
   "cell_type": "markdown",
   "source": [
    "<a href=\"https://colab.research.google.com/github/google/applied-machine-learning-intensive/blob/master/content/04_classification/03_classification_with_tensorflow/colab.ipynb\" target=\"_parent\"><img src=\"https://colab.research.google.com/assets/colab-badge.svg\" alt=\"Open In Colab\"/></a>"
   ],
   "metadata": {
    "colab_type": "text",
    "id": "view-in-github"
   }
  },
  {
   "cell_type": "markdown",
   "source": [
    "#### Copyright 2020 Google LLC."
   ],
   "metadata": {
    "colab_type": "text",
    "id": "copyright"
   }
  },
  {
   "cell_type": "code",
   "execution_count": 1,
   "source": [
    "# Licensed under the Apache License, Version 2.0 (the \"License\");\n",
    "# you may not use this file except in compliance with the License.\n",
    "# You may obtain a copy of the License at\n",
    "#\n",
    "# https://www.apache.org/licenses/LICENSE-2.0\n",
    "#\n",
    "# Unless required by applicable law or agreed to in writing, software\n",
    "# distributed under the License is distributed on an \"AS IS\" BASIS,\n",
    "# WITHOUT WARRANTIES OR CONDITIONS OF ANY KIND, either express or implied.\n",
    "# See the License for the specific language governing permissions and\n",
    "# limitations under the License."
   ],
   "outputs": [],
   "metadata": {
    "colab": {},
    "colab_type": "code",
    "id": "BX4BkCSEPV26"
   }
  },
  {
   "cell_type": "markdown",
   "source": [
    "# Classification with TensorFlow"
   ],
   "metadata": {
    "colab_type": "text",
    "id": "eXugJRE9PcpT"
   }
  },
  {
   "cell_type": "markdown",
   "source": [
    "By now you should be familiar with classification in scikit-learn. In this Colab we will explore another commonly used tool for classification and machine learning: TensorFlow."
   ],
   "metadata": {
    "colab_type": "text",
    "id": "KrDw3-6MIhhJ"
   }
  },
  {
   "cell_type": "markdown",
   "source": [
    "## The Dataset"
   ],
   "metadata": {
    "colab_type": "text",
    "id": "ryWbLSCgKGOp"
   }
  },
  {
   "cell_type": "markdown",
   "source": [
    "The dataset that we'll be using is the [UCI Heart Disease dataset](http://archive.ics.uci.edu/ml/datasets/Heart+Disease). The dataset contains health information about patients, as well as a \"presence of heart disease\" indicator.\n",
    "\n",
    "The [original dataset](http://archive.ics.uci.edu/ml/datasets/Heart+Disease) contains over 70 different attributes and five heart disease classifications. For this lab we'll use a [simplified version of the dataset](https://www.kaggle.com/ronitf/heart-disease-uci) hosted on Kaggle.\n",
    "\n",
    "This simplified version of the dataset contains 13 attributes and a yes/no indicator for the presence or absence of heart disease.\n",
    "\n",
    "The columns are below:\n",
    "\n",
    "Feature | Description\n",
    "--------|--------------\n",
    "age     | age in years\n",
    "sex     | sex<br>0 = female<br>1 = male\n",
    "cp      | chest pain type<br>1 = typical angina<br>2 = atypical angina<br>3 = non-anginal pain<br>4 = asymptomatic\n",
    "trestbps  | resting blood pressure in Hg\n",
    "chol      | serum cholesterol in mg/dl\n",
    "fbs       | is fasting blood sugar > 120 mg/dl<br>0 = false<br>1 = true\n",
    "restecg   | results of a resting electrocardiograph<br>0 = normal<br>1 = ST-T wave abnormality<br>2 = left ventricular hypertrophy\n",
    "thalach   | max heart rate\n",
    "exang     | exercise induced angina<br>0 = no<br>1 = yes\n",
    "oldpeak   | measurement of an abnormal ST depression\n",
    "slope     | slope of peak of exercise ST segment<br>1 = upslope<br>2 = flat<br>3 = downslope\n",
    "ca        | count of major blood vessels colored by fluoroscopy<br>0, 1, 2, 3, or 4\n",
    "thal      | presence heart condition<br>0 = unknown<br>1 = normal<br>2 = fixed defect<br>3 = reversible defect\n",
    "\n",
    "The heart disease indicator is a 0 for no disease and a 1 for heart disease.\n",
    "\n",
    "Let's assume we have been given this dataset by the Cleveland Clinic and have been asked to build a model that can predict if their patients have heart disease or not. The purpose of the model is to assist doctors in making diagnostic decisions faster."
   ],
   "metadata": {
    "colab_type": "text",
    "id": "owzuGnZ9KH57"
   }
  },
  {
   "cell_type": "markdown",
   "source": [
    "### Exercise 1: Ethical Considerations\n",
    "\n",
    "Before we dive in, let's take a moment to think about the dataset and the larger problem that we are trying to solve. We have 17 data attributes related to an individual's health, as well as an indicator that determines if the patient has heart disease."
   ],
   "metadata": {
    "colab_type": "text",
    "id": "0Ci8tyuGL365"
   }
  },
  {
   "cell_type": "markdown",
   "source": [
    "#### Question 1\n",
    "\n",
    "Are there any attributes in the data that we should pay special attention to? Imagine a case where the data is unbalanced in some way. How might that affect the model and the doctor/patient experience?"
   ],
   "metadata": {
    "colab_type": "text",
    "id": "fNn5FTmaMEux"
   }
  },
  {
   "cell_type": "markdown",
   "source": [
    "##### **Student Solution**"
   ],
   "metadata": {
    "colab_type": "text",
    "id": "f7SNDV81NkHV"
   }
  },
  {
   "cell_type": "markdown",
   "source": [
    "> Age is a major contrubuting factor when to comes to heart disease. Special attention should be focused on the difference in age between paitents and the actual distrubtion of the dataset."
   ],
   "metadata": {
    "colab_type": "text",
    "id": "tEfCxyNVNlk_"
   }
  },
  {
   "cell_type": "markdown",
   "source": [
    "---"
   ],
   "metadata": {
    "colab_type": "text",
    "id": "zNemvB8nTjz-"
   }
  },
  {
   "cell_type": "markdown",
   "source": [
    "#### Question 2\n",
    "\n",
    "Assuming we can get a reasonably well-performing model deployed, is there potential for problems with how the predictions from this model are interpreted and used?"
   ],
   "metadata": {
    "colab_type": "text",
    "id": "xBAYBKo-Ozja"
   }
  },
  {
   "cell_type": "markdown",
   "source": [
    "##### **Student Solution**"
   ],
   "metadata": {
    "colab_type": "text",
    "id": "_IriIC2DPL8d"
   }
  },
  {
   "cell_type": "markdown",
   "source": [
    "> Sources of statistical error can still be present. There is the possiblity of false negative results, which can be very deterimental to paitent"
   ],
   "metadata": {
    "colab_type": "text",
    "id": "PhRc5qbjPNn2"
   }
  },
  {
   "cell_type": "markdown",
   "source": [
    "---"
   ],
   "metadata": {
    "colab_type": "text",
    "id": "KU1bmHjCTsKH"
   }
  },
  {
   "cell_type": "markdown",
   "source": [
    "### Exploratory Data Analysis"
   ],
   "metadata": {
    "colab_type": "text",
    "id": "70JOzTBLPwcf"
   }
  },
  {
   "cell_type": "markdown",
   "source": [
    "Let's download the data and take a look at what we are working with.\n",
    "\n",
    "Upload your `kaggle.json` file and run the code below."
   ],
   "metadata": {
    "colab_type": "text",
    "id": "t-igE14mP0X5"
   }
  },
  {
   "cell_type": "code",
   "execution_count": 2,
   "source": [
    "! chmod 600 kaggle.json && (ls ~/.kaggle 2>/dev/null || mkdir ~/.kaggle) && mv kaggle.json ~/.kaggle/ && echo 'Done'"
   ],
   "outputs": [
    {
     "output_type": "stream",
     "name": "stdout",
     "text": [
      "chmod: kaggle.json: No such file or directory\n"
     ]
    }
   ],
   "metadata": {
    "colab": {},
    "colab_type": "code",
    "id": "gNulecG9as1b"
   }
  },
  {
   "cell_type": "markdown",
   "source": [
    "And then download the dataset."
   ],
   "metadata": {
    "colab_type": "text",
    "id": "_My-5RPAP9qC"
   }
  },
  {
   "cell_type": "code",
   "execution_count": 3,
   "source": [
    "!kaggle datasets download ronitf/heart-disease-uci\n",
    "!ls"
   ],
   "outputs": [
    {
     "output_type": "stream",
     "name": "stdout",
     "text": [
      "heart-disease-uci.zip: Skipping, found more recently modified local copy (use --force to force download)\n",
      "AMLI - Classification- Tensorflow.pdf classification.ipynb\n",
      "README.md                             heart-disease-uci.zip\n"
     ]
    }
   ],
   "metadata": {
    "colab": {},
    "colab_type": "code",
    "id": "Kj7CvPiWbPP7"
   }
  },
  {
   "cell_type": "markdown",
   "source": [
    "And load the data into a `DataFrame` and take a peek."
   ],
   "metadata": {
    "colab_type": "text",
    "id": "7_An5CMFQBFJ"
   }
  },
  {
   "cell_type": "code",
   "execution_count": 4,
   "source": [
    "import pandas as pd\n",
    "\n",
    "df = pd.read_csv('heart-disease-uci.zip')\n",
    "df.sample(5)"
   ],
   "outputs": [
    {
     "output_type": "execute_result",
     "data": {
      "text/html": [
       "<div>\n",
       "<style scoped>\n",
       "    .dataframe tbody tr th:only-of-type {\n",
       "        vertical-align: middle;\n",
       "    }\n",
       "\n",
       "    .dataframe tbody tr th {\n",
       "        vertical-align: top;\n",
       "    }\n",
       "\n",
       "    .dataframe thead th {\n",
       "        text-align: right;\n",
       "    }\n",
       "</style>\n",
       "<table border=\"1\" class=\"dataframe\">\n",
       "  <thead>\n",
       "    <tr style=\"text-align: right;\">\n",
       "      <th></th>\n",
       "      <th>age</th>\n",
       "      <th>sex</th>\n",
       "      <th>cp</th>\n",
       "      <th>trestbps</th>\n",
       "      <th>chol</th>\n",
       "      <th>fbs</th>\n",
       "      <th>restecg</th>\n",
       "      <th>thalach</th>\n",
       "      <th>exang</th>\n",
       "      <th>oldpeak</th>\n",
       "      <th>slope</th>\n",
       "      <th>ca</th>\n",
       "      <th>thal</th>\n",
       "      <th>target</th>\n",
       "    </tr>\n",
       "  </thead>\n",
       "  <tbody>\n",
       "    <tr>\n",
       "      <th>227</th>\n",
       "      <td>35</td>\n",
       "      <td>1</td>\n",
       "      <td>0</td>\n",
       "      <td>120</td>\n",
       "      <td>198</td>\n",
       "      <td>0</td>\n",
       "      <td>1</td>\n",
       "      <td>130</td>\n",
       "      <td>1</td>\n",
       "      <td>1.6</td>\n",
       "      <td>1</td>\n",
       "      <td>0</td>\n",
       "      <td>3</td>\n",
       "      <td>0</td>\n",
       "    </tr>\n",
       "    <tr>\n",
       "      <th>72</th>\n",
       "      <td>29</td>\n",
       "      <td>1</td>\n",
       "      <td>1</td>\n",
       "      <td>130</td>\n",
       "      <td>204</td>\n",
       "      <td>0</td>\n",
       "      <td>0</td>\n",
       "      <td>202</td>\n",
       "      <td>0</td>\n",
       "      <td>0.0</td>\n",
       "      <td>2</td>\n",
       "      <td>0</td>\n",
       "      <td>2</td>\n",
       "      <td>1</td>\n",
       "    </tr>\n",
       "    <tr>\n",
       "      <th>31</th>\n",
       "      <td>65</td>\n",
       "      <td>1</td>\n",
       "      <td>0</td>\n",
       "      <td>120</td>\n",
       "      <td>177</td>\n",
       "      <td>0</td>\n",
       "      <td>1</td>\n",
       "      <td>140</td>\n",
       "      <td>0</td>\n",
       "      <td>0.4</td>\n",
       "      <td>2</td>\n",
       "      <td>0</td>\n",
       "      <td>3</td>\n",
       "      <td>1</td>\n",
       "    </tr>\n",
       "    <tr>\n",
       "      <th>42</th>\n",
       "      <td>45</td>\n",
       "      <td>1</td>\n",
       "      <td>0</td>\n",
       "      <td>104</td>\n",
       "      <td>208</td>\n",
       "      <td>0</td>\n",
       "      <td>0</td>\n",
       "      <td>148</td>\n",
       "      <td>1</td>\n",
       "      <td>3.0</td>\n",
       "      <td>1</td>\n",
       "      <td>0</td>\n",
       "      <td>2</td>\n",
       "      <td>1</td>\n",
       "    </tr>\n",
       "    <tr>\n",
       "      <th>96</th>\n",
       "      <td>62</td>\n",
       "      <td>0</td>\n",
       "      <td>0</td>\n",
       "      <td>140</td>\n",
       "      <td>394</td>\n",
       "      <td>0</td>\n",
       "      <td>0</td>\n",
       "      <td>157</td>\n",
       "      <td>0</td>\n",
       "      <td>1.2</td>\n",
       "      <td>1</td>\n",
       "      <td>0</td>\n",
       "      <td>2</td>\n",
       "      <td>1</td>\n",
       "    </tr>\n",
       "  </tbody>\n",
       "</table>\n",
       "</div>"
      ],
      "text/plain": [
       "     age  sex  cp  trestbps  chol  fbs  restecg  thalach  exang  oldpeak  \\\n",
       "227   35    1   0       120   198    0        1      130      1      1.6   \n",
       "72    29    1   1       130   204    0        0      202      0      0.0   \n",
       "31    65    1   0       120   177    0        1      140      0      0.4   \n",
       "42    45    1   0       104   208    0        0      148      1      3.0   \n",
       "96    62    0   0       140   394    0        0      157      0      1.2   \n",
       "\n",
       "     slope  ca  thal  target  \n",
       "227      1   0     3       0  \n",
       "72       2   0     2       1  \n",
       "31       2   0     3       1  \n",
       "42       1   0     2       1  \n",
       "96       1   0     2       1  "
      ]
     },
     "metadata": {},
     "execution_count": 4
    }
   ],
   "metadata": {
    "colab": {},
    "colab_type": "code",
    "id": "yBFg4O0TbSTX"
   }
  },
  {
   "cell_type": "markdown",
   "source": [
    "We can see that all of the data is numeric, but varies a bit in scale.\n",
    "\n",
    "Let's describe the data:"
   ],
   "metadata": {
    "colab_type": "text",
    "id": "Lg3B3HXYQOEF"
   }
  },
  {
   "cell_type": "code",
   "execution_count": 5,
   "source": [
    "df.describe()"
   ],
   "outputs": [
    {
     "output_type": "execute_result",
     "data": {
      "text/html": [
       "<div>\n",
       "<style scoped>\n",
       "    .dataframe tbody tr th:only-of-type {\n",
       "        vertical-align: middle;\n",
       "    }\n",
       "\n",
       "    .dataframe tbody tr th {\n",
       "        vertical-align: top;\n",
       "    }\n",
       "\n",
       "    .dataframe thead th {\n",
       "        text-align: right;\n",
       "    }\n",
       "</style>\n",
       "<table border=\"1\" class=\"dataframe\">\n",
       "  <thead>\n",
       "    <tr style=\"text-align: right;\">\n",
       "      <th></th>\n",
       "      <th>age</th>\n",
       "      <th>sex</th>\n",
       "      <th>cp</th>\n",
       "      <th>trestbps</th>\n",
       "      <th>chol</th>\n",
       "      <th>fbs</th>\n",
       "      <th>restecg</th>\n",
       "      <th>thalach</th>\n",
       "      <th>exang</th>\n",
       "      <th>oldpeak</th>\n",
       "      <th>slope</th>\n",
       "      <th>ca</th>\n",
       "      <th>thal</th>\n",
       "      <th>target</th>\n",
       "    </tr>\n",
       "  </thead>\n",
       "  <tbody>\n",
       "    <tr>\n",
       "      <th>count</th>\n",
       "      <td>303.000000</td>\n",
       "      <td>303.000000</td>\n",
       "      <td>303.000000</td>\n",
       "      <td>303.000000</td>\n",
       "      <td>303.000000</td>\n",
       "      <td>303.000000</td>\n",
       "      <td>303.000000</td>\n",
       "      <td>303.000000</td>\n",
       "      <td>303.000000</td>\n",
       "      <td>303.000000</td>\n",
       "      <td>303.000000</td>\n",
       "      <td>303.000000</td>\n",
       "      <td>303.000000</td>\n",
       "      <td>303.000000</td>\n",
       "    </tr>\n",
       "    <tr>\n",
       "      <th>mean</th>\n",
       "      <td>54.366337</td>\n",
       "      <td>0.683168</td>\n",
       "      <td>0.966997</td>\n",
       "      <td>131.623762</td>\n",
       "      <td>246.264026</td>\n",
       "      <td>0.148515</td>\n",
       "      <td>0.528053</td>\n",
       "      <td>149.646865</td>\n",
       "      <td>0.326733</td>\n",
       "      <td>1.039604</td>\n",
       "      <td>1.399340</td>\n",
       "      <td>0.729373</td>\n",
       "      <td>2.313531</td>\n",
       "      <td>0.544554</td>\n",
       "    </tr>\n",
       "    <tr>\n",
       "      <th>std</th>\n",
       "      <td>9.082101</td>\n",
       "      <td>0.466011</td>\n",
       "      <td>1.032052</td>\n",
       "      <td>17.538143</td>\n",
       "      <td>51.830751</td>\n",
       "      <td>0.356198</td>\n",
       "      <td>0.525860</td>\n",
       "      <td>22.905161</td>\n",
       "      <td>0.469794</td>\n",
       "      <td>1.161075</td>\n",
       "      <td>0.616226</td>\n",
       "      <td>1.022606</td>\n",
       "      <td>0.612277</td>\n",
       "      <td>0.498835</td>\n",
       "    </tr>\n",
       "    <tr>\n",
       "      <th>min</th>\n",
       "      <td>29.000000</td>\n",
       "      <td>0.000000</td>\n",
       "      <td>0.000000</td>\n",
       "      <td>94.000000</td>\n",
       "      <td>126.000000</td>\n",
       "      <td>0.000000</td>\n",
       "      <td>0.000000</td>\n",
       "      <td>71.000000</td>\n",
       "      <td>0.000000</td>\n",
       "      <td>0.000000</td>\n",
       "      <td>0.000000</td>\n",
       "      <td>0.000000</td>\n",
       "      <td>0.000000</td>\n",
       "      <td>0.000000</td>\n",
       "    </tr>\n",
       "    <tr>\n",
       "      <th>25%</th>\n",
       "      <td>47.500000</td>\n",
       "      <td>0.000000</td>\n",
       "      <td>0.000000</td>\n",
       "      <td>120.000000</td>\n",
       "      <td>211.000000</td>\n",
       "      <td>0.000000</td>\n",
       "      <td>0.000000</td>\n",
       "      <td>133.500000</td>\n",
       "      <td>0.000000</td>\n",
       "      <td>0.000000</td>\n",
       "      <td>1.000000</td>\n",
       "      <td>0.000000</td>\n",
       "      <td>2.000000</td>\n",
       "      <td>0.000000</td>\n",
       "    </tr>\n",
       "    <tr>\n",
       "      <th>50%</th>\n",
       "      <td>55.000000</td>\n",
       "      <td>1.000000</td>\n",
       "      <td>1.000000</td>\n",
       "      <td>130.000000</td>\n",
       "      <td>240.000000</td>\n",
       "      <td>0.000000</td>\n",
       "      <td>1.000000</td>\n",
       "      <td>153.000000</td>\n",
       "      <td>0.000000</td>\n",
       "      <td>0.800000</td>\n",
       "      <td>1.000000</td>\n",
       "      <td>0.000000</td>\n",
       "      <td>2.000000</td>\n",
       "      <td>1.000000</td>\n",
       "    </tr>\n",
       "    <tr>\n",
       "      <th>75%</th>\n",
       "      <td>61.000000</td>\n",
       "      <td>1.000000</td>\n",
       "      <td>2.000000</td>\n",
       "      <td>140.000000</td>\n",
       "      <td>274.500000</td>\n",
       "      <td>0.000000</td>\n",
       "      <td>1.000000</td>\n",
       "      <td>166.000000</td>\n",
       "      <td>1.000000</td>\n",
       "      <td>1.600000</td>\n",
       "      <td>2.000000</td>\n",
       "      <td>1.000000</td>\n",
       "      <td>3.000000</td>\n",
       "      <td>1.000000</td>\n",
       "    </tr>\n",
       "    <tr>\n",
       "      <th>max</th>\n",
       "      <td>77.000000</td>\n",
       "      <td>1.000000</td>\n",
       "      <td>3.000000</td>\n",
       "      <td>200.000000</td>\n",
       "      <td>564.000000</td>\n",
       "      <td>1.000000</td>\n",
       "      <td>2.000000</td>\n",
       "      <td>202.000000</td>\n",
       "      <td>1.000000</td>\n",
       "      <td>6.200000</td>\n",
       "      <td>2.000000</td>\n",
       "      <td>4.000000</td>\n",
       "      <td>3.000000</td>\n",
       "      <td>1.000000</td>\n",
       "    </tr>\n",
       "  </tbody>\n",
       "</table>\n",
       "</div>"
      ],
      "text/plain": [
       "              age         sex          cp    trestbps        chol         fbs  \\\n",
       "count  303.000000  303.000000  303.000000  303.000000  303.000000  303.000000   \n",
       "mean    54.366337    0.683168    0.966997  131.623762  246.264026    0.148515   \n",
       "std      9.082101    0.466011    1.032052   17.538143   51.830751    0.356198   \n",
       "min     29.000000    0.000000    0.000000   94.000000  126.000000    0.000000   \n",
       "25%     47.500000    0.000000    0.000000  120.000000  211.000000    0.000000   \n",
       "50%     55.000000    1.000000    1.000000  130.000000  240.000000    0.000000   \n",
       "75%     61.000000    1.000000    2.000000  140.000000  274.500000    0.000000   \n",
       "max     77.000000    1.000000    3.000000  200.000000  564.000000    1.000000   \n",
       "\n",
       "          restecg     thalach       exang     oldpeak       slope          ca  \\\n",
       "count  303.000000  303.000000  303.000000  303.000000  303.000000  303.000000   \n",
       "mean     0.528053  149.646865    0.326733    1.039604    1.399340    0.729373   \n",
       "std      0.525860   22.905161    0.469794    1.161075    0.616226    1.022606   \n",
       "min      0.000000   71.000000    0.000000    0.000000    0.000000    0.000000   \n",
       "25%      0.000000  133.500000    0.000000    0.000000    1.000000    0.000000   \n",
       "50%      1.000000  153.000000    0.000000    0.800000    1.000000    0.000000   \n",
       "75%      1.000000  166.000000    1.000000    1.600000    2.000000    1.000000   \n",
       "max      2.000000  202.000000    1.000000    6.200000    2.000000    4.000000   \n",
       "\n",
       "             thal      target  \n",
       "count  303.000000  303.000000  \n",
       "mean     2.313531    0.544554  \n",
       "std      0.612277    0.498835  \n",
       "min      0.000000    0.000000  \n",
       "25%      2.000000    0.000000  \n",
       "50%      2.000000    1.000000  \n",
       "75%      3.000000    1.000000  \n",
       "max      3.000000    1.000000  "
      ]
     },
     "metadata": {},
     "execution_count": 5
    }
   ],
   "metadata": {
    "colab": {},
    "colab_type": "code",
    "id": "tFod1RMIbZar"
   }
  },
  {
   "cell_type": "markdown",
   "source": [
    "No missing data. Only 303 rows of data, though, so we aren't working with a huge dataset.\n",
    "\n",
    "Now we'll dig deeper into the data in a few of the columns. If you were working with a dataset for a real-world model you would want to explore each column.\n",
    "\n",
    "We'll start by mapping out the correlations in the data."
   ],
   "metadata": {
    "colab_type": "text",
    "id": "HePmoUX8QZ68"
   }
  },
  {
   "cell_type": "code",
   "execution_count": 6,
   "source": [
    "import matplotlib.pyplot as plt\n",
    "import seaborn as sns\n",
    "\n",
    "plt.figure(figsize=(10,10))\n",
    "_ = sns.heatmap(df.corr(), cmap='coolwarm', annot=True)"
   ],
   "outputs": [
    {
     "output_type": "display_data",
     "data": {
      "image/png": "[encoded data removed]",
      "text/plain": [
       "<Figure size 720x720 with 2 Axes>"
      ]
     },
     "metadata": {
      "needs_background": "light"
     }
    }
   ],
   "metadata": {
    "colab": {},
    "colab_type": "code",
    "id": "2zpT6H3IQzlV"
   }
  },
  {
   "cell_type": "markdown",
   "source": [
    "There are no obviously strong correlations.\n",
    "\n",
    "Let's now see how balanced our data is by sex:"
   ],
   "metadata": {
    "colab_type": "text",
    "id": "YuYIA8KFRich"
   }
  },
  {
   "cell_type": "code",
   "execution_count": 7,
   "source": [
    "df['sex'].hist()"
   ],
   "outputs": [
    {
     "output_type": "execute_result",
     "data": {
      "text/plain": [
       "<AxesSubplot:>"
      ]
     },
     "metadata": {},
     "execution_count": 7
    },
    {
     "output_type": "display_data",
     "data": {
      "image/png": "[encoded data removed]",
      "text/plain": [
       "<Figure size 432x288 with 1 Axes>"
      ]
     },
     "metadata": {
      "needs_background": "light"
     }
    }
   ],
   "metadata": {
    "colab": {},
    "colab_type": "code",
    "id": "HhNIowgiRrV_"
   }
  },
  {
   "cell_type": "markdown",
   "source": [
    "In this data female maps to 0 and male maps to 1, so there are over twice as many men in the dataset."
   ],
   "metadata": {
    "colab_type": "text",
    "id": "MQAIX7B_Ry51"
   }
  },
  {
   "cell_type": "markdown",
   "source": [
    "Let's also check out the target."
   ],
   "metadata": {
    "colab_type": "text",
    "id": "xUCv_seER_QL"
   }
  },
  {
   "cell_type": "code",
   "execution_count": 8,
   "source": [
    "df['target'].hist()"
   ],
   "outputs": [
    {
     "output_type": "execute_result",
     "data": {
      "text/plain": [
       "<AxesSubplot:>"
      ]
     },
     "metadata": {},
     "execution_count": 8
    },
    {
     "output_type": "display_data",
     "data": {
      "image/png": "[encoded data removed]",
      "text/plain": [
       "<Figure size 432x288 with 1 Axes>"
      ]
     },
     "metadata": {
      "needs_background": "light"
     }
    }
   ],
   "metadata": {
    "colab": {},
    "colab_type": "code",
    "id": "Dtw_Qi1ER8fo"
   }
  },
  {
   "cell_type": "markdown",
   "source": [
    "In this case the dataset looks more balanced."
   ],
   "metadata": {
    "colab_type": "text",
    "id": "nRJWasBGSC_j"
   }
  },
  {
   "cell_type": "markdown",
   "source": [
    "And finally we'll look at age."
   ],
   "metadata": {
    "colab_type": "text",
    "id": "ejVlvHCqSLJK"
   }
  },
  {
   "cell_type": "code",
   "execution_count": 9,
   "source": [
    "df['age'].hist()"
   ],
   "outputs": [
    {
     "output_type": "execute_result",
     "data": {
      "text/plain": [
       "<AxesSubplot:>"
      ]
     },
     "metadata": {},
     "execution_count": 9
    },
    {
     "output_type": "display_data",
     "data": {
      "image/png": "[encoded data removed]",
      "text/plain": [
       "<Figure size 432x288 with 1 Axes>"
      ]
     },
     "metadata": {
      "needs_background": "light"
     }
    }
   ],
   "metadata": {
    "colab": {},
    "colab_type": "code",
    "id": "zWaUmlctSHZx"
   }
  },
  {
   "cell_type": "markdown",
   "source": [
    "The dataset seems to be pretty heavily skewed toward individuals in their 50s and 60s."
   ],
   "metadata": {
    "colab_type": "text",
    "id": "K105PK38SPou"
   }
  },
  {
   "cell_type": "markdown",
   "source": [
    "There isn't a lot of actionable information from our analysis. We might want to stratify our data by sex when we train and test our model, but there are no data repairs that seem to need to be done.\n",
    "\n",
    "If you were building this model for a real world application, you would also want to ensure that the values in the numeric columns are realistic."
   ],
   "metadata": {
    "colab_type": "text",
    "id": "dSxDdJ1QSezo"
   }
  },
  {
   "cell_type": "markdown",
   "source": [
    "## The Model"
   ],
   "metadata": {
    "colab_type": "text",
    "id": "8GzJm-2mScy-"
   }
  },
  {
   "cell_type": "markdown",
   "source": [
    "Let's build and train our model. We'll build a deep neural network that takes our input features and returns a `0` if it predicts that the patient doesn't have heart disease and a `1` if it predicts that the patient does have heart disease."
   ],
   "metadata": {
    "colab_type": "text",
    "id": "istg6urgS-Ke"
   }
  },
  {
   "cell_type": "markdown",
   "source": [
    "First let's create a list of features to make coding easier."
   ],
   "metadata": {
    "colab_type": "text",
    "id": "3QM9AMMYTbQ7"
   }
  },
  {
   "cell_type": "code",
   "execution_count": 10,
   "source": [
    "FEATURES = df.columns.values[:-1]\n",
    "TARGET = df.columns.values[-1]\n",
    "\n",
    "FEATURES, TARGET"
   ],
   "outputs": [
    {
     "output_type": "execute_result",
     "data": {
      "text/plain": [
       "(array(['age', 'sex', 'cp', 'trestbps', 'chol', 'fbs', 'restecg',\n",
       "        'thalach', 'exang', 'oldpeak', 'slope', 'ca', 'thal'], dtype=object),\n",
       " 'target')"
      ]
     },
     "metadata": {},
     "execution_count": 10
    }
   ],
   "metadata": {
    "colab": {},
    "colab_type": "code",
    "id": "0J_mhetHTn2s"
   }
  },
  {
   "cell_type": "markdown",
   "source": [
    "We'll also want to normalize our feature data before feeding it into the model."
   ],
   "metadata": {
    "colab_type": "text",
    "id": "nZSZ94RVTrHv"
   }
  },
  {
   "cell_type": "code",
   "execution_count": 11,
   "source": [
    "df.loc[:, FEATURES] = ((df[FEATURES] - df[FEATURES].min()) / (df[FEATURES].max() - df[FEATURES].min()))\n",
    "\n",
    "df.describe()"
   ],
   "outputs": [
    {
     "output_type": "execute_result",
     "data": {
      "text/html": [
       "<div>\n",
       "<style scoped>\n",
       "    .dataframe tbody tr th:only-of-type {\n",
       "        vertical-align: middle;\n",
       "    }\n",
       "\n",
       "    .dataframe tbody tr th {\n",
       "        vertical-align: top;\n",
       "    }\n",
       "\n",
       "    .dataframe thead th {\n",
       "        text-align: right;\n",
       "    }\n",
       "</style>\n",
       "<table border=\"1\" class=\"dataframe\">\n",
       "  <thead>\n",
       "    <tr style=\"text-align: right;\">\n",
       "      <th></th>\n",
       "      <th>age</th>\n",
       "      <th>sex</th>\n",
       "      <th>cp</th>\n",
       "      <th>trestbps</th>\n",
       "      <th>chol</th>\n",
       "      <th>fbs</th>\n",
       "      <th>restecg</th>\n",
       "      <th>thalach</th>\n",
       "      <th>exang</th>\n",
       "      <th>oldpeak</th>\n",
       "      <th>slope</th>\n",
       "      <th>ca</th>\n",
       "      <th>thal</th>\n",
       "      <th>target</th>\n",
       "    </tr>\n",
       "  </thead>\n",
       "  <tbody>\n",
       "    <tr>\n",
       "      <th>count</th>\n",
       "      <td>303.000000</td>\n",
       "      <td>303.000000</td>\n",
       "      <td>303.000000</td>\n",
       "      <td>303.000000</td>\n",
       "      <td>303.000000</td>\n",
       "      <td>303.000000</td>\n",
       "      <td>303.000000</td>\n",
       "      <td>303.000000</td>\n",
       "      <td>303.000000</td>\n",
       "      <td>303.000000</td>\n",
       "      <td>303.000000</td>\n",
       "      <td>303.000000</td>\n",
       "      <td>303.000000</td>\n",
       "      <td>303.000000</td>\n",
       "    </tr>\n",
       "    <tr>\n",
       "      <th>mean</th>\n",
       "      <td>0.528465</td>\n",
       "      <td>0.683168</td>\n",
       "      <td>0.322332</td>\n",
       "      <td>0.354941</td>\n",
       "      <td>0.274575</td>\n",
       "      <td>0.148515</td>\n",
       "      <td>0.264026</td>\n",
       "      <td>0.600358</td>\n",
       "      <td>0.326733</td>\n",
       "      <td>0.167678</td>\n",
       "      <td>0.699670</td>\n",
       "      <td>0.182343</td>\n",
       "      <td>0.771177</td>\n",
       "      <td>0.544554</td>\n",
       "    </tr>\n",
       "    <tr>\n",
       "      <th>std</th>\n",
       "      <td>0.189210</td>\n",
       "      <td>0.466011</td>\n",
       "      <td>0.344017</td>\n",
       "      <td>0.165454</td>\n",
       "      <td>0.118335</td>\n",
       "      <td>0.356198</td>\n",
       "      <td>0.262930</td>\n",
       "      <td>0.174849</td>\n",
       "      <td>0.469794</td>\n",
       "      <td>0.187270</td>\n",
       "      <td>0.308113</td>\n",
       "      <td>0.255652</td>\n",
       "      <td>0.204092</td>\n",
       "      <td>0.498835</td>\n",
       "    </tr>\n",
       "    <tr>\n",
       "      <th>min</th>\n",
       "      <td>0.000000</td>\n",
       "      <td>0.000000</td>\n",
       "      <td>0.000000</td>\n",
       "      <td>0.000000</td>\n",
       "      <td>0.000000</td>\n",
       "      <td>0.000000</td>\n",
       "      <td>0.000000</td>\n",
       "      <td>0.000000</td>\n",
       "      <td>0.000000</td>\n",
       "      <td>0.000000</td>\n",
       "      <td>0.000000</td>\n",
       "      <td>0.000000</td>\n",
       "      <td>0.000000</td>\n",
       "      <td>0.000000</td>\n",
       "    </tr>\n",
       "    <tr>\n",
       "      <th>25%</th>\n",
       "      <td>0.385417</td>\n",
       "      <td>0.000000</td>\n",
       "      <td>0.000000</td>\n",
       "      <td>0.245283</td>\n",
       "      <td>0.194064</td>\n",
       "      <td>0.000000</td>\n",
       "      <td>0.000000</td>\n",
       "      <td>0.477099</td>\n",
       "      <td>0.000000</td>\n",
       "      <td>0.000000</td>\n",
       "      <td>0.500000</td>\n",
       "      <td>0.000000</td>\n",
       "      <td>0.666667</td>\n",
       "      <td>0.000000</td>\n",
       "    </tr>\n",
       "    <tr>\n",
       "      <th>50%</th>\n",
       "      <td>0.541667</td>\n",
       "      <td>1.000000</td>\n",
       "      <td>0.333333</td>\n",
       "      <td>0.339623</td>\n",
       "      <td>0.260274</td>\n",
       "      <td>0.000000</td>\n",
       "      <td>0.500000</td>\n",
       "      <td>0.625954</td>\n",
       "      <td>0.000000</td>\n",
       "      <td>0.129032</td>\n",
       "      <td>0.500000</td>\n",
       "      <td>0.000000</td>\n",
       "      <td>0.666667</td>\n",
       "      <td>1.000000</td>\n",
       "    </tr>\n",
       "    <tr>\n",
       "      <th>75%</th>\n",
       "      <td>0.666667</td>\n",
       "      <td>1.000000</td>\n",
       "      <td>0.666667</td>\n",
       "      <td>0.433962</td>\n",
       "      <td>0.339041</td>\n",
       "      <td>0.000000</td>\n",
       "      <td>0.500000</td>\n",
       "      <td>0.725191</td>\n",
       "      <td>1.000000</td>\n",
       "      <td>0.258065</td>\n",
       "      <td>1.000000</td>\n",
       "      <td>0.250000</td>\n",
       "      <td>1.000000</td>\n",
       "      <td>1.000000</td>\n",
       "    </tr>\n",
       "    <tr>\n",
       "      <th>max</th>\n",
       "      <td>1.000000</td>\n",
       "      <td>1.000000</td>\n",
       "      <td>1.000000</td>\n",
       "      <td>1.000000</td>\n",
       "      <td>1.000000</td>\n",
       "      <td>1.000000</td>\n",
       "      <td>1.000000</td>\n",
       "      <td>1.000000</td>\n",
       "      <td>1.000000</td>\n",
       "      <td>1.000000</td>\n",
       "      <td>1.000000</td>\n",
       "      <td>1.000000</td>\n",
       "      <td>1.000000</td>\n",
       "      <td>1.000000</td>\n",
       "    </tr>\n",
       "  </tbody>\n",
       "</table>\n",
       "</div>"
      ],
      "text/plain": [
       "              age         sex          cp    trestbps        chol         fbs  \\\n",
       "count  303.000000  303.000000  303.000000  303.000000  303.000000  303.000000   \n",
       "mean     0.528465    0.683168    0.322332    0.354941    0.274575    0.148515   \n",
       "std      0.189210    0.466011    0.344017    0.165454    0.118335    0.356198   \n",
       "min      0.000000    0.000000    0.000000    0.000000    0.000000    0.000000   \n",
       "25%      0.385417    0.000000    0.000000    0.245283    0.194064    0.000000   \n",
       "50%      0.541667    1.000000    0.333333    0.339623    0.260274    0.000000   \n",
       "75%      0.666667    1.000000    0.666667    0.433962    0.339041    0.000000   \n",
       "max      1.000000    1.000000    1.000000    1.000000    1.000000    1.000000   \n",
       "\n",
       "          restecg     thalach       exang     oldpeak       slope          ca  \\\n",
       "count  303.000000  303.000000  303.000000  303.000000  303.000000  303.000000   \n",
       "mean     0.264026    0.600358    0.326733    0.167678    0.699670    0.182343   \n",
       "std      0.262930    0.174849    0.469794    0.187270    0.308113    0.255652   \n",
       "min      0.000000    0.000000    0.000000    0.000000    0.000000    0.000000   \n",
       "25%      0.000000    0.477099    0.000000    0.000000    0.500000    0.000000   \n",
       "50%      0.500000    0.625954    0.000000    0.129032    0.500000    0.000000   \n",
       "75%      0.500000    0.725191    1.000000    0.258065    1.000000    0.250000   \n",
       "max      1.000000    1.000000    1.000000    1.000000    1.000000    1.000000   \n",
       "\n",
       "             thal      target  \n",
       "count  303.000000  303.000000  \n",
       "mean     0.771177    0.544554  \n",
       "std      0.204092    0.498835  \n",
       "min      0.000000    0.000000  \n",
       "25%      0.666667    0.000000  \n",
       "50%      0.666667    1.000000  \n",
       "75%      1.000000    1.000000  \n",
       "max      1.000000    1.000000  "
      ]
     },
     "metadata": {},
     "execution_count": 11
    }
   ],
   "metadata": {
    "colab": {},
    "colab_type": "code",
    "id": "y3o_nvShTwKE"
   }
  },
  {
   "cell_type": "markdown",
   "source": [
    "We can also now split off a validation set from our data. Since we have so many more men than women in this dataset, we will stratify on sex."
   ],
   "metadata": {
    "colab_type": "text",
    "id": "TCtMxC49Ubev"
   }
  },
  {
   "cell_type": "code",
   "execution_count": 12,
   "source": [
    "from sklearn.model_selection import train_test_split\n",
    "\n",
    "X_train, X_validate, y_train, y_validate = train_test_split(\n",
    "    df[FEATURES], df[TARGET], test_size=0.2, stratify=df['sex'])\n",
    "\n",
    "X_train.shape, X_validate.shape"
   ],
   "outputs": [
    {
     "output_type": "execute_result",
     "data": {
      "text/plain": [
       "((242, 13), (61, 13))"
      ]
     },
     "metadata": {},
     "execution_count": 12
    }
   ],
   "metadata": {
    "colab": {},
    "colab_type": "code",
    "id": "putOqS6YUnu8"
   }
  },
  {
   "cell_type": "markdown",
   "source": [
    "We'll use the TensorFlow Keras [`Sequential`](https://www.tensorflow.org/api_docs/python/tf/keras/Sequential) model. The input size needs to be equal to the number of input features that we have. The output size needs to be 1 since we are predicting a yes/no value. The number and width of layers in between are an area for experimentation, as are the activation functions.\n",
    "\n",
    "We start with an initial hidden layer 64 nodes wide and funnel down to 32, 16, and finally, to the output layer of 1 node."
   ],
   "metadata": {
    "colab_type": "text",
    "id": "aEFNqxYjUF5h"
   }
  },
  {
   "cell_type": "code",
   "execution_count": 13,
   "source": [
    "import tensorflow as tf\n",
    "\n",
    "model = tf.keras.Sequential([\n",
    "    tf.keras.layers.Dense(64, activation=tf.nn.relu, \n",
    "                          input_shape=(FEATURES.size,)),\n",
    "    tf.keras.layers.Dense(32, activation=tf.nn.relu),\n",
    "    tf.keras.layers.Dense(16, activation=tf.nn.relu),\n",
    "    tf.keras.layers.Dense(1, activation=tf.nn.sigmoid)\n",
    "])\n",
    "\n",
    "model.summary()"
   ],
   "outputs": [
    {
     "output_type": "stream",
     "name": "stdout",
     "text": [
      "Model: \"sequential\"\n",
      "_________________________________________________________________\n",
      "Layer (type)                 Output Shape              Param #   \n",
      "=================================================================\n",
      "dense (Dense)                (None, 64)                896       \n",
      "_________________________________________________________________\n",
      "dense_1 (Dense)              (None, 32)                2080      \n",
      "_________________________________________________________________\n",
      "dense_2 (Dense)              (None, 16)                528       \n",
      "_________________________________________________________________\n",
      "dense_3 (Dense)              (None, 1)                 17        \n",
      "=================================================================\n",
      "Total params: 3,521\n",
      "Trainable params: 3,521\n",
      "Non-trainable params: 0\n",
      "_________________________________________________________________\n"
     ]
    },
    {
     "output_type": "stream",
     "name": "stderr",
     "text": [
      "2021-09-26 13:07:47.358065: I tensorflow/core/platform/cpu_feature_guard.cc:142] This TensorFlow binary is optimized with oneAPI Deep Neural Network Library (oneDNN) to use the following CPU instructions in performance-critical operations:  SSE4.1 SSE4.2\n",
      "To enable them in other operations, rebuild TensorFlow with the appropriate compiler flags.\n"
     ]
    }
   ],
   "metadata": {
    "colab": {},
    "colab_type": "code",
    "id": "pnxd91YdczCy"
   }
  },
  {
   "cell_type": "markdown",
   "source": [
    "We can now compile the model. We use 'binary_crossentropy' loss since this is a binary classification model."
   ],
   "metadata": {
    "colab_type": "text",
    "id": "9ZZ6VUxUVhB9"
   }
  },
  {
   "cell_type": "code",
   "execution_count": 14,
   "source": [
    "model.compile(\n",
    "    loss='binary_crossentropy',\n",
    "    optimizer='Adam',\n",
    "    metrics=['accuracy']\n",
    ")"
   ],
   "outputs": [],
   "metadata": {
    "colab": {},
    "colab_type": "code",
    "id": "adzz7_VFdFUk"
   }
  },
  {
   "cell_type": "markdown",
   "source": [
    "And finally, we can actually fit the model. We'll start with a run of 500 training epochs. Once we are done, we'll print out the final accuracy the model achieved."
   ],
   "metadata": {
    "colab_type": "text",
    "id": "xE88mejaWUxt"
   }
  },
  {
   "cell_type": "code",
   "execution_count": 15,
   "source": [
    "history = model.fit(X_train, y_train, epochs=500, verbose=0)\n",
    "\n",
    "history.history['accuracy'][-1]"
   ],
   "outputs": [
    {
     "output_type": "stream",
     "name": "stderr",
     "text": [
      "2021-09-26 13:07:47.477127: I tensorflow/compiler/mlir/mlir_graph_optimization_pass.cc:116] None of the MLIR optimization passes are enabled (registered 2)\n"
     ]
    },
    {
     "output_type": "execute_result",
     "data": {
      "text/plain": [
       "1.0"
      ]
     },
     "metadata": {},
     "execution_count": 15
    }
   ],
   "metadata": {
    "colab": {},
    "colab_type": "code",
    "id": "vdgB9wUmdL7V"
   }
  },
  {
   "cell_type": "markdown",
   "source": [
    "We got perfect accuracy in our model. Let's see how the accuracy improves and the loss is reduced over epochs."
   ],
   "metadata": {
    "colab_type": "text",
    "id": "qIA62vjfYSa0"
   }
  },
  {
   "cell_type": "code",
   "execution_count": 16,
   "source": [
    "import matplotlib.pyplot as plt\n",
    "\n",
    "plt.figure(figsize=(16,5))\n",
    "\n",
    "plt.subplot(1,2,1)\n",
    "plt.plot(history.history['accuracy'])\n",
    "plt.title('Training Accuracy')\n",
    "plt.ylabel('accuracy')\n",
    "plt.xlabel('epoch')\n",
    "plt.legend(['train_accuracy'], loc='best')\n",
    "\n",
    "plt.subplot(1,2,2)\n",
    "plt.plot(history.history['loss'])\n",
    "plt.title('Training Loss')\n",
    "plt.ylabel('loss')\n",
    "plt.xlabel('epoch')\n",
    "plt.legend(['train_loss'], loc='best')"
   ],
   "outputs": [
    {
     "output_type": "execute_result",
     "data": {
      "text/plain": [
       "<matplotlib.legend.Legend at 0x7fd5987e3df0>"
      ]
     },
     "metadata": {},
     "execution_count": 16
    },
    {
     "output_type": "display_data",
     "data": {
      "image/png": "[encoded data removed]",
      "text/plain": [
       "<Figure size 1152x360 with 2 Axes>"
      ]
     },
     "metadata": {
      "needs_background": "light"
     }
    }
   ],
   "metadata": {
    "colab": {},
    "colab_type": "code",
    "id": "b7s1zaQGdkB9"
   }
  },
  {
   "cell_type": "markdown",
   "source": [
    "We seem to have kept training this model far too long. The accuracy reaches perfection, and the loss moves to 0.0 after a few hundred epochs.\n",
    "\n",
    "Let's see if we overfit by using our validation holdout data. In order to do that, we need to convert our predictions back into a binary representation."
   ],
   "metadata": {
    "colab_type": "text",
    "id": "39zlRVRcZKx7"
   }
  },
  {
   "cell_type": "code",
   "execution_count": 17,
   "source": [
    "predictions = model.predict(X_validate)\n",
    "\n",
    "predictions[:10]"
   ],
   "outputs": [
    {
     "output_type": "execute_result",
     "data": {
      "text/plain": [
       "array([[1.0740633e-12],\n",
       "       [1.5802892e-10],\n",
       "       [9.9999660e-01],\n",
       "       [3.9214969e-09],\n",
       "       [6.3154697e-03],\n",
       "       [1.0000000e+00],\n",
       "       [1.0000000e+00],\n",
       "       [9.9999917e-01],\n",
       "       [4.5141453e-05],\n",
       "       [1.0000000e+00]], dtype=float32)"
      ]
     },
     "metadata": {},
     "execution_count": 17
    }
   ],
   "metadata": {
    "colab": {},
    "colab_type": "code",
    "id": "niAa2Ht5eAv-"
   }
  },
  {
   "cell_type": "markdown",
   "source": [
    "As you can see, our predictions are continuous numbers, not the 1 or 0 values that we expected. These values are confidences that the value is 1. Let's look at them in a histogram."
   ],
   "metadata": {
    "colab_type": "text",
    "id": "WNTZk3TNeGVM"
   }
  },
  {
   "cell_type": "code",
   "execution_count": 18,
   "source": [
    "import matplotlib.pyplot as plt\n",
    "\n",
    "_ = plt.hist(predictions)"
   ],
   "outputs": [
    {
     "output_type": "display_data",
     "data": {
      "image/png": "[encoded data removed]",
      "text/plain": [
       "<Figure size 432x288 with 1 Axes>"
      ]
     },
     "metadata": {
      "needs_background": "light"
     }
    }
   ],
   "metadata": {
    "colab": {},
    "colab_type": "code",
    "id": "AmVuqYMReQcC"
   }
  },
  {
   "cell_type": "markdown",
   "source": [
    "Here we can see that the model is highly confident yes or no in many cases, but there are some cases where the model was unsure.\n",
    "\n",
    "How do we convert these confidences into a yes/no decision?\n",
    "\n",
    "One way is to simply round:"
   ],
   "metadata": {
    "colab_type": "text",
    "id": "29C09tpneiYA"
   }
  },
  {
   "cell_type": "code",
   "execution_count": 19,
   "source": [
    "for x in predictions:\n",
    "    print(x[0])"
   ],
   "outputs": [
    {
     "output_type": "stream",
     "name": "stdout",
     "text": [
      "1.0740633e-12\n",
      "1.5802892e-10\n",
      "0.9999966\n",
      "3.921497e-09\n",
      "0.0063154697\n",
      "1.0\n",
      "1.0\n",
      "0.99999917\n",
      "4.5141453e-05\n",
      "1.0\n",
      "0.0089075565\n",
      "0.9816448\n",
      "5.8585056e-06\n",
      "1.0\n",
      "4.136188e-12\n",
      "3.5620644e-07\n",
      "1.5956264e-05\n",
      "5.166582e-05\n",
      "1.636347e-07\n",
      "3.088953e-06\n",
      "0.9999998\n",
      "0.9999993\n",
      "2.2079583e-08\n",
      "9.714433e-08\n",
      "0.95206857\n",
      "0.061091155\n",
      "1.718032e-23\n",
      "1.327168e-10\n",
      "0.0001244545\n",
      "7.8061794e-07\n",
      "2.3870808e-08\n",
      "6.792742e-07\n",
      "4.0250688e-11\n",
      "1.0\n",
      "0.9973269\n",
      "2.0255308e-07\n",
      "0.00010495291\n",
      "1.7622637e-07\n",
      "1.0\n",
      "0.999999\n",
      "0.9999604\n",
      "1.0\n",
      "0.98923945\n",
      "1.0\n",
      "6.261332e-05\n",
      "1.0\n",
      "2.6842748e-13\n",
      "1.0\n",
      "0.0021535456\n",
      "1.0\n",
      "0.9999993\n",
      "0.99999976\n",
      "0.9786642\n",
      "0.9999999\n",
      "0.99999726\n",
      "1.0\n",
      "0.00011319149\n",
      "0.0006366372\n",
      "7.7234313e-10\n",
      "2.1291731e-07\n",
      "8.885813e-11\n"
     ]
    }
   ],
   "metadata": {}
  },
  {
   "cell_type": "code",
   "execution_count": 20,
   "source": [
    "prediction = [round(x[0]) for x in predictions]\n",
    "\n",
    "_ = plt.hist(prediction)"
   ],
   "outputs": [
    {
     "output_type": "display_data",
     "data": {
      "image/png": "[encoded data removed]",
      "text/plain": [
       "<Figure size 432x288 with 1 Axes>"
      ]
     },
     "metadata": {
      "needs_background": "light"
     }
    }
   ],
   "metadata": {
    "colab": {},
    "colab_type": "code",
    "id": "FWlYXJ5eZehL"
   }
  },
  {
   "cell_type": "markdown",
   "source": [
    "This puts the cut-off threshold for a yes/no decision at `0.5`. Let's think about the implications of this.\n",
    "\n",
    "Also note that the choice of a sigmoid activation function was not coincidence. We wanted to use an activation function that would keep the output values between 0.0 and 1.0 for rounding purposes. "
   ],
   "metadata": {
    "colab_type": "text",
    "id": "IQAe7L4-fHGO"
   }
  },
  {
   "cell_type": "markdown",
   "source": [
    "Now let's check our accuracy."
   ],
   "metadata": {
    "colab_type": "text",
    "id": "YSWvcpaajd3C"
   }
  },
  {
   "cell_type": "code",
   "execution_count": 21,
   "source": [
    "from sklearn.metrics import accuracy_score\n",
    "\n",
    "accuracy_score(y_validate, prediction)"
   ],
   "outputs": [
    {
     "output_type": "execute_result",
     "data": {
      "text/plain": [
       "0.7704918032786885"
      ]
     },
     "metadata": {},
     "execution_count": 21
    }
   ],
   "metadata": {
    "colab": {},
    "colab_type": "code",
    "id": "XtIiFjG8jf2E"
   }
  },
  {
   "cell_type": "markdown",
   "source": [
    "When we ran this model, our score was in the low 80s, which is not great. Yours is likely similar."
   ],
   "metadata": {
    "colab_type": "text",
    "id": "bXQc1DN3j4g9"
   }
  },
  {
   "cell_type": "markdown",
   "source": [
    "### Exercise 2: Adjusting the Threshold"
   ],
   "metadata": {
    "colab_type": "text",
    "id": "HCZ4RNimfRu3"
   }
  },
  {
   "cell_type": "markdown",
   "source": [
    "#### Question 1"
   ],
   "metadata": {
    "colab_type": "text",
    "id": "X4BMDjAlgimq"
   }
  },
  {
   "cell_type": "markdown",
   "source": [
    "We decided to round for our classification, which puts the threshold for the decision at `0.5`. This decision was made somewhat arbitrarily. Let's think about our problem space a bit more. We are making a model that predicts if an individual has heart disease. Would it be better if we set the threshold for predicting heart disease higher or lower than `0.5`? Or is `0.5` okay? Explain your reasoning."
   ],
   "metadata": {
    "colab_type": "text",
    "id": "7KxSRGj3fZOS"
   }
  },
  {
   "cell_type": "markdown",
   "source": [
    "##### **Student Solution**"
   ],
   "metadata": {
    "colab_type": "text",
    "id": "CzprK-6Bglmu"
   }
  },
  {
   "cell_type": "markdown",
   "source": [
    "> The dataset is heavily skewed toward individuals in their 50s and 60s. Having a threshold of .5 is not suitable. Differnet statstical analyses are needed to determine an optical threshold value. Since the data is being towards 50 and 60 years olds and since they're more likely to have heart diease, the threshold value should be lower."
   ],
   "metadata": {
    "colab_type": "text",
    "id": "GYXoRF3mgrGl"
   }
  },
  {
   "cell_type": "code",
   "execution_count": 22,
   "source": [
    "df['age'].hist()"
   ],
   "outputs": [
    {
     "output_type": "execute_result",
     "data": {
      "text/plain": [
       "<AxesSubplot:>"
      ]
     },
     "metadata": {},
     "execution_count": 22
    },
    {
     "output_type": "display_data",
     "data": {
      "image/png": "[encoded data removed]",
      "text/plain": [
       "<Figure size 432x288 with 1 Axes>"
      ]
     },
     "metadata": {
      "needs_background": "light"
     }
    }
   ],
   "metadata": {}
  },
  {
   "cell_type": "markdown",
   "source": [
    "---"
   ],
   "metadata": {
    "colab_type": "text",
    "id": "3pv-ZufdV_yw"
   }
  },
  {
   "cell_type": "markdown",
   "source": [
    "#### Question 2"
   ],
   "metadata": {
    "colab_type": "text",
    "id": "Up7wa9Kvhfy1"
   }
  },
  {
   "cell_type": "markdown",
   "source": [
    "Write code to make yes/no predictions using a higher or lower threshold based on the argument you made in the first question of this exercise. If you chose to keep the threshold at `0.5`, then just pick higher or lower and write the code for that. Print out the accuracy for the new threshold."
   ],
   "metadata": {
    "colab_type": "text",
    "id": "5ae6h-pZhzNF"
   }
  },
  {
   "cell_type": "markdown",
   "source": [
    "##### **Student Solution**"
   ],
   "metadata": {
    "colab_type": "text",
    "id": "037j13priQpi"
   }
  },
  {
   "cell_type": "code",
   "execution_count": 23,
   "source": [
    "import numpy as np\n",
    "\n",
    "thres_list = np.linspace(0.1, 0.9, 50)\n",
    "# print(thres_list)\n",
    "\n",
    "# thres_list = [0.4,.15,.35]\n",
    "# thres_list = [(0, 0.3)]\n",
    "\n",
    "predictions_list = []\n",
    "for i in thres_list:\n",
    "    prediction = [1 if x[0] > i else 0 for x in predictions]\n",
    "    # prediction = [1 if i[0] <= x[0] and x[0] <= i[1] else 0 for x in predictions]\n",
    "    predictions_list.append(prediction)\n",
    "    # prediction = 0\n"
   ],
   "outputs": [],
   "metadata": {}
  },
  {
   "cell_type": "markdown",
   "source": [],
   "metadata": {}
  },
  {
   "cell_type": "code",
   "execution_count": 24,
   "source": [
    "import seaborn as sns\n",
    "scores = [] \n",
    "for thres, pred in zip(thres_list, predictions_list):\n",
    "    scores.append(accuracy_score(y_validate, pred))\n",
    "    print(\"%f: %f\" % (thres, accuracy_score(y_validate, pred)))\n",
    "\n",
    "# print(thres.shape) \n",
    "plt.plot(thres_list,scores)\n"
   ],
   "outputs": [
    {
     "output_type": "stream",
     "name": "stdout",
     "text": [
      "0.100000: 0.770492\n",
      "0.116327: 0.770492\n",
      "0.132653: 0.770492\n",
      "0.148980: 0.770492\n",
      "0.165306: 0.770492\n",
      "0.181633: 0.770492\n",
      "0.197959: 0.770492\n",
      "0.214286: 0.770492\n",
      "0.230612: 0.770492\n",
      "0.246939: 0.770492\n",
      "0.263265: 0.770492\n",
      "0.279592: 0.770492\n",
      "0.295918: 0.770492\n",
      "0.312245: 0.770492\n",
      "0.328571: 0.770492\n",
      "0.344898: 0.770492\n",
      "0.361224: 0.770492\n",
      "0.377551: 0.770492\n",
      "0.393878: 0.770492\n",
      "0.410204: 0.770492\n",
      "0.426531: 0.770492\n",
      "0.442857: 0.770492\n",
      "0.459184: 0.770492\n",
      "0.475510: 0.770492\n",
      "0.491837: 0.770492\n",
      "0.508163: 0.770492\n",
      "0.524490: 0.770492\n",
      "0.540816: 0.770492\n",
      "0.557143: 0.770492\n",
      "0.573469: 0.770492\n",
      "0.589796: 0.770492\n",
      "0.606122: 0.770492\n",
      "0.622449: 0.770492\n",
      "0.638776: 0.770492\n",
      "0.655102: 0.770492\n",
      "0.671429: 0.770492\n",
      "0.687755: 0.770492\n",
      "0.704082: 0.770492\n",
      "0.720408: 0.770492\n",
      "0.736735: 0.770492\n",
      "0.753061: 0.770492\n",
      "0.769388: 0.770492\n",
      "0.785714: 0.770492\n",
      "0.802041: 0.770492\n",
      "0.818367: 0.770492\n",
      "0.834694: 0.770492\n",
      "0.851020: 0.770492\n",
      "0.867347: 0.770492\n",
      "0.883673: 0.770492\n",
      "0.900000: 0.770492\n"
     ]
    },
    {
     "output_type": "execute_result",
     "data": {
      "text/plain": [
       "[<matplotlib.lines.Line2D at 0x7fd5a982d2b0>]"
      ]
     },
     "metadata": {},
     "execution_count": 24
    },
    {
     "output_type": "display_data",
     "data": {
      "image/png": "[encoded data removed]",
      "text/plain": [
       "<Figure size 432x288 with 1 Axes>"
      ]
     },
     "metadata": {
      "needs_background": "light"
     }
    }
   ],
   "metadata": {}
  },
  {
   "cell_type": "markdown",
   "source": [
    "---"
   ],
   "metadata": {
    "colab_type": "text",
    "id": "_K0Glj08Wf96"
   }
  },
  {
   "cell_type": "markdown",
   "source": [
    "### Exercise 2: Early Stopping"
   ],
   "metadata": {}
  },
  {
   "cell_type": "markdown",
   "source": [
    "Five hundred epochs turned out to be a bit too many. Use the [`EarlyStopping`](https://www.tensorflow.org/api_docs/python/tf/keras/callbacks/EarlyStopping) class to stop when the loss doesn't improve over the course of five epochs. Print your accuracy score so you can see if it stayed reasonably close to your earlier model. Be sure to also make model fitting verbosity 1 or 2 so you can see at which epoch your model stopped."
   ],
   "metadata": {}
  },
  {
   "cell_type": "code",
   "execution_count": 25,
   "source": [
    "\n",
    "model = tf.keras.Sequential([\n",
    "    tf.keras.layers.Dense(64, activation=tf.nn.relu, \n",
    "                          input_shape=(FEATURES.size,)),\n",
    "    tf.keras.layers.Dense(32, activation=tf.nn.relu),\n",
    "    tf.keras.layers.Dense(16, activation=tf.nn.relu),\n",
    "    tf.keras.layers.Dense(1, activation=tf.nn.sigmoid)\n",
    "])\n",
    "\n",
    "#model.summary()\n",
    "\n",
    "model.compile(\n",
    "    loss='binary_crossentropy',\n",
    "    optimizer='Adam',\n",
    "    metrics=['accuracy']\n",
    ")\n",
    "\n",
    "\n",
    "\n",
    "\n",
    "\n",
    "\n",
    "\n",
    "es = tf.keras.callbacks.EarlyStopping(\n",
    "    monitor = 'loss',\n",
    "    min_delta = 1e-3,\n",
    "    patience = 5\n",
    ")\n",
    "\n",
    "\n",
    "\n",
    "history = model.fit(X_train, y_train, epochs=500, verbose=2, callbacks =[es] )\n",
    "\n",
    "\n",
    "history.history['accuracy'][-1]"
   ],
   "outputs": [
    {
     "output_type": "stream",
     "name": "stdout",
     "text": [
      "Epoch 1/500\n",
      "8/8 - 0s - loss: 0.6817 - accuracy: 0.4793\n",
      "Epoch 2/500\n",
      "8/8 - 0s - loss: 0.6364 - accuracy: 0.7231\n",
      "Epoch 3/500\n",
      "8/8 - 0s - loss: 0.6018 - accuracy: 0.7810\n",
      "Epoch 4/500\n",
      "8/8 - 0s - loss: 0.5648 - accuracy: 0.7851\n",
      "Epoch 5/500\n",
      "8/8 - 0s - loss: 0.5336 - accuracy: 0.7934\n",
      "Epoch 6/500\n",
      "8/8 - 0s - loss: 0.4992 - accuracy: 0.7934\n",
      "Epoch 7/500\n",
      "8/8 - 0s - loss: 0.4722 - accuracy: 0.7975\n",
      "Epoch 8/500\n",
      "8/8 - 0s - loss: 0.4471 - accuracy: 0.7975\n",
      "Epoch 9/500\n",
      "8/8 - 0s - loss: 0.4238 - accuracy: 0.8182\n",
      "Epoch 10/500\n",
      "8/8 - 0s - loss: 0.4096 - accuracy: 0.8182\n",
      "Epoch 11/500\n",
      "8/8 - 0s - loss: 0.3932 - accuracy: 0.8182\n",
      "Epoch 12/500\n",
      "8/8 - 0s - loss: 0.3797 - accuracy: 0.8388\n",
      "Epoch 13/500\n",
      "8/8 - 0s - loss: 0.3669 - accuracy: 0.8347\n",
      "Epoch 14/500\n",
      "8/8 - 0s - loss: 0.3602 - accuracy: 0.8388\n",
      "Epoch 15/500\n",
      "8/8 - 0s - loss: 0.3485 - accuracy: 0.8471\n",
      "Epoch 16/500\n",
      "8/8 - 0s - loss: 0.3425 - accuracy: 0.8430\n",
      "Epoch 17/500\n",
      "8/8 - 0s - loss: 0.3422 - accuracy: 0.8512\n",
      "Epoch 18/500\n",
      "8/8 - 0s - loss: 0.3305 - accuracy: 0.8554\n",
      "Epoch 19/500\n",
      "8/8 - 0s - loss: 0.3325 - accuracy: 0.8595\n",
      "Epoch 20/500\n",
      "8/8 - 0s - loss: 0.3286 - accuracy: 0.8678\n",
      "Epoch 21/500\n",
      "8/8 - 0s - loss: 0.3167 - accuracy: 0.8802\n",
      "Epoch 22/500\n",
      "8/8 - 0s - loss: 0.3196 - accuracy: 0.8678\n",
      "Epoch 23/500\n",
      "8/8 - 0s - loss: 0.3128 - accuracy: 0.8760\n",
      "Epoch 24/500\n",
      "8/8 - 0s - loss: 0.3093 - accuracy: 0.8843\n",
      "Epoch 25/500\n",
      "8/8 - 0s - loss: 0.3146 - accuracy: 0.8678\n",
      "Epoch 26/500\n",
      "8/8 - 0s - loss: 0.3037 - accuracy: 0.8843\n",
      "Epoch 27/500\n",
      "8/8 - 0s - loss: 0.3056 - accuracy: 0.8843\n",
      "Epoch 28/500\n",
      "8/8 - 0s - loss: 0.3009 - accuracy: 0.8802\n",
      "Epoch 29/500\n",
      "8/8 - 0s - loss: 0.2964 - accuracy: 0.8760\n",
      "Epoch 30/500\n",
      "8/8 - 0s - loss: 0.2951 - accuracy: 0.8760\n",
      "Epoch 31/500\n",
      "8/8 - 0s - loss: 0.3004 - accuracy: 0.8802\n",
      "Epoch 32/500\n",
      "8/8 - 0s - loss: 0.2931 - accuracy: 0.8802\n",
      "Epoch 33/500\n",
      "8/8 - 0s - loss: 0.2907 - accuracy: 0.8884\n",
      "Epoch 34/500\n",
      "8/8 - 0s - loss: 0.2888 - accuracy: 0.8802\n",
      "Epoch 35/500\n",
      "8/8 - 0s - loss: 0.2936 - accuracy: 0.8636\n",
      "Epoch 36/500\n",
      "8/8 - 0s - loss: 0.2832 - accuracy: 0.8843\n",
      "Epoch 37/500\n",
      "8/8 - 0s - loss: 0.2817 - accuracy: 0.8802\n",
      "Epoch 38/500\n",
      "8/8 - 0s - loss: 0.2878 - accuracy: 0.8967\n",
      "Epoch 39/500\n",
      "8/8 - 0s - loss: 0.2835 - accuracy: 0.8678\n",
      "Epoch 40/500\n",
      "8/8 - 0s - loss: 0.2754 - accuracy: 0.9008\n",
      "Epoch 41/500\n",
      "8/8 - 0s - loss: 0.2785 - accuracy: 0.8884\n",
      "Epoch 42/500\n",
      "8/8 - 0s - loss: 0.2742 - accuracy: 0.8843\n",
      "Epoch 43/500\n",
      "8/8 - 0s - loss: 0.2710 - accuracy: 0.8926\n",
      "Epoch 44/500\n",
      "8/8 - 0s - loss: 0.2884 - accuracy: 0.8967\n",
      "Epoch 45/500\n",
      "8/8 - 0s - loss: 0.2709 - accuracy: 0.8719\n",
      "Epoch 46/500\n",
      "8/8 - 0s - loss: 0.2740 - accuracy: 0.8967\n",
      "Epoch 47/500\n",
      "8/8 - 0s - loss: 0.2691 - accuracy: 0.8884\n",
      "Epoch 48/500\n",
      "8/8 - 0s - loss: 0.2584 - accuracy: 0.9050\n",
      "Epoch 49/500\n",
      "8/8 - 0s - loss: 0.2589 - accuracy: 0.9091\n",
      "Epoch 50/500\n",
      "8/8 - 0s - loss: 0.2508 - accuracy: 0.9050\n",
      "Epoch 51/500\n",
      "8/8 - 0s - loss: 0.2686 - accuracy: 0.8926\n",
      "Epoch 52/500\n",
      "8/8 - 0s - loss: 0.2508 - accuracy: 0.9091\n",
      "Epoch 53/500\n",
      "8/8 - 0s - loss: 0.2439 - accuracy: 0.9215\n",
      "Epoch 54/500\n",
      "8/8 - 0s - loss: 0.2542 - accuracy: 0.9132\n",
      "Epoch 55/500\n",
      "8/8 - 0s - loss: 0.2419 - accuracy: 0.9091\n",
      "Epoch 56/500\n",
      "8/8 - 0s - loss: 0.2393 - accuracy: 0.9174\n",
      "Epoch 57/500\n",
      "8/8 - 0s - loss: 0.2411 - accuracy: 0.9132\n",
      "Epoch 58/500\n",
      "8/8 - 0s - loss: 0.2593 - accuracy: 0.9050\n",
      "Epoch 59/500\n",
      "8/8 - 0s - loss: 0.2384 - accuracy: 0.9215\n",
      "Epoch 60/500\n",
      "8/8 - 0s - loss: 0.2399 - accuracy: 0.9215\n",
      "Epoch 61/500\n",
      "8/8 - 0s - loss: 0.2346 - accuracy: 0.9132\n",
      "Epoch 62/500\n",
      "8/8 - 0s - loss: 0.2268 - accuracy: 0.9215\n",
      "Epoch 63/500\n",
      "8/8 - 0s - loss: 0.2314 - accuracy: 0.9298\n",
      "Epoch 64/500\n",
      "8/8 - 0s - loss: 0.2253 - accuracy: 0.9215\n",
      "Epoch 65/500\n",
      "8/8 - 0s - loss: 0.2202 - accuracy: 0.9256\n",
      "Epoch 66/500\n",
      "8/8 - 0s - loss: 0.2234 - accuracy: 0.9298\n",
      "Epoch 67/500\n",
      "8/8 - 0s - loss: 0.2189 - accuracy: 0.9298\n",
      "Epoch 68/500\n",
      "8/8 - 0s - loss: 0.2164 - accuracy: 0.9298\n",
      "Epoch 69/500\n",
      "8/8 - 0s - loss: 0.2153 - accuracy: 0.9256\n",
      "Epoch 70/500\n",
      "8/8 - 0s - loss: 0.2136 - accuracy: 0.9215\n",
      "Epoch 71/500\n",
      "8/8 - 0s - loss: 0.2189 - accuracy: 0.9174\n",
      "Epoch 72/500\n",
      "8/8 - 0s - loss: 0.2098 - accuracy: 0.9256\n",
      "Epoch 73/500\n",
      "8/8 - 0s - loss: 0.2092 - accuracy: 0.9215\n",
      "Epoch 74/500\n",
      "8/8 - 0s - loss: 0.2086 - accuracy: 0.9380\n",
      "Epoch 75/500\n",
      "8/8 - 0s - loss: 0.2066 - accuracy: 0.9215\n",
      "Epoch 76/500\n",
      "8/8 - 0s - loss: 0.2033 - accuracy: 0.9298\n",
      "Epoch 77/500\n",
      "8/8 - 0s - loss: 0.2035 - accuracy: 0.9256\n",
      "Epoch 78/500\n",
      "8/8 - 0s - loss: 0.2128 - accuracy: 0.9339\n",
      "Epoch 79/500\n",
      "8/8 - 0s - loss: 0.2051 - accuracy: 0.9256\n",
      "Epoch 80/500\n",
      "8/8 - 0s - loss: 0.1948 - accuracy: 0.9298\n",
      "Epoch 81/500\n",
      "8/8 - 0s - loss: 0.1999 - accuracy: 0.9339\n",
      "Epoch 82/500\n",
      "8/8 - 0s - loss: 0.1976 - accuracy: 0.9380\n",
      "Epoch 83/500\n",
      "8/8 - 0s - loss: 0.1939 - accuracy: 0.9421\n",
      "Epoch 84/500\n",
      "8/8 - 0s - loss: 0.1897 - accuracy: 0.9380\n",
      "Epoch 85/500\n",
      "8/8 - 0s - loss: 0.1957 - accuracy: 0.9421\n",
      "Epoch 86/500\n",
      "8/8 - 0s - loss: 0.1877 - accuracy: 0.9463\n",
      "Epoch 87/500\n",
      "8/8 - 0s - loss: 0.1856 - accuracy: 0.9380\n",
      "Epoch 88/500\n",
      "8/8 - 0s - loss: 0.1886 - accuracy: 0.9256\n",
      "Epoch 89/500\n",
      "8/8 - 0s - loss: 0.1855 - accuracy: 0.9463\n",
      "Epoch 90/500\n",
      "8/8 - 0s - loss: 0.1971 - accuracy: 0.9298\n",
      "Epoch 91/500\n",
      "8/8 - 0s - loss: 0.1979 - accuracy: 0.9380\n",
      "Epoch 92/500\n",
      "8/8 - 0s - loss: 0.1989 - accuracy: 0.9298\n"
     ]
    },
    {
     "output_type": "execute_result",
     "data": {
      "text/plain": [
       "0.9297520518302917"
      ]
     },
     "metadata": {},
     "execution_count": 25
    }
   ],
   "metadata": {}
  },
  {
   "cell_type": "code",
   "execution_count": null,
   "source": [],
   "outputs": [],
   "metadata": {}
  },
  {
   "cell_type": "markdown",
   "source": [],
   "metadata": {}
  }
 ],
 "metadata": {
  "colab": {
   "collapsed_sections": [
    "copyright",
    "PcoLpQIGNn_i",
    "5du8Nf50PP_e",
    "PpuEAl0mgttU",
    "pBTMpUv0lPiY"
   ],
   "include_colab_link": true,
   "name": "Classification with TensorFlow",
   "private_outputs": true,
   "provenance": [],
   "toc_visible": true
  },
  "interpreter": {
   "hash": "8fbdc03ba97d8a2a62d8e820f8dc08c72c861e4a4433063471236fa03b6ac1df"
  },
  "kernelspec": {
   "name": "python3",
   "display_name": "Python 3.9.7 64-bit ('data': conda)"
  },
  "language_info": {
   "codemirror_mode": {
    "name": "ipython",
    "version": 3
   },
   "file_extension": ".py",
   "mimetype": "text/x-python",
   "name": "python",
   "nbconvert_exporter": "python",
   "pygments_lexer": "ipython3",
   "version": "3.9.7"
  }
 },
 "nbformat": 4,
 "nbformat_minor": 2
}