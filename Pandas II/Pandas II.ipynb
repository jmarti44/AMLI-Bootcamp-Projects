{
 "cells": [
  {
   "cell_type": "markdown",
   "source": [
    "<a href=\"https://colab.research.google.com/github/google/applied-machine-learning-intensive/blob/master/content/02_data/02_intermediate_pandas/colab.ipynb\" target=\"_parent\"><img src=\"https://colab.research.google.com/assets/colab-badge.svg\" alt=\"Open In Colab\"/></a>"
   ],
   "metadata": {
    "colab_type": "text",
    "id": "view-in-github"
   }
  },
  {
   "cell_type": "markdown",
   "source": [
    "#### Copyright 2020 Google LLC."
   ],
   "metadata": {
    "colab_type": "text",
    "id": "lRh9gZN5NnoA"
   }
  },
  {
   "cell_type": "markdown",
   "source": [
    "# Intermediate Pandas\n",
    "\n",
    "[Pandas](https://pandas.pydata.org/) is a powerful Python library for working with data. For this lab, you should already know what a [DataFrame](https://pandas.pydata.org/pandas-docs/stable/reference/api/pandas.DataFrame.html) and [Series](https://pandas.pydata.org/pandas-docs/stable/reference/series.html) are and how to do some simple analysis of the data contained in those structures.\n",
    "\n",
    "In this lab we'll look at some more advanced capabilities of Pandas, such as filtering, grouping, merging, and sorting."
   ],
   "metadata": {
    "colab_type": "text",
    "id": "8ZtwR4AUmERg"
   }
  },
  {
   "cell_type": "markdown",
   "source": [
    "## DataFrame Information"
   ],
   "metadata": {
    "colab_type": "text",
    "id": "sSPe_A_RQIPU"
   }
  },
  {
   "cell_type": "markdown",
   "source": [
    "`DataFrame` objects are rich containers that allow us to explore and modify data. In this lab we will learn powerful techniques for working with the data contained in `DataFrame` objects.\n",
    "\n",
    "To begin, let's create a `DataFrame` containing information about populations and airports in a few select cities."
   ],
   "metadata": {
    "colab_type": "text",
    "id": "YBbMQ-Mnl_ys"
   }
  },
  {
   "cell_type": "code",
   "execution_count": 1,
   "source": [
    "import pandas as pd\n",
    "\n",
    "airport_df = pd.DataFrame.from_records((\n",
    "  ('Atlanta', 498044, 2),\n",
    "  ('Austin', 964254, 2),\n",
    "  ('Kansas City',  491918, 8),\n",
    "  ('New York City', 8398748, 3),\n",
    "  ('Portland', 653115, 1),\n",
    "  ('San Francisco', 883305, 3),\n",
    "  ('Seattle', 744955, 2),\n",
    "), columns=(\"City Name\", \"Population\", \"Airports\"))\n",
    "\n",
    "airport_df"
   ],
   "outputs": [
    {
     "output_type": "execute_result",
     "data": {
      "text/html": [
       "<div>\n",
       "<style scoped>\n",
       "    .dataframe tbody tr th:only-of-type {\n",
       "        vertical-align: middle;\n",
       "    }\n",
       "\n",
       "    .dataframe tbody tr th {\n",
       "        vertical-align: top;\n",
       "    }\n",
       "\n",
       "    .dataframe thead th {\n",
       "        text-align: right;\n",
       "    }\n",
       "</style>\n",
       "<table border=\"1\" class=\"dataframe\">\n",
       "  <thead>\n",
       "    <tr style=\"text-align: right;\">\n",
       "      <th></th>\n",
       "      <th>City Name</th>\n",
       "      <th>Population</th>\n",
       "      <th>Airports</th>\n",
       "    </tr>\n",
       "  </thead>\n",
       "  <tbody>\n",
       "    <tr>\n",
       "      <th>0</th>\n",
       "      <td>Atlanta</td>\n",
       "      <td>498044</td>\n",
       "      <td>2</td>\n",
       "    </tr>\n",
       "    <tr>\n",
       "      <th>1</th>\n",
       "      <td>Austin</td>\n",
       "      <td>964254</td>\n",
       "      <td>2</td>\n",
       "    </tr>\n",
       "    <tr>\n",
       "      <th>2</th>\n",
       "      <td>Kansas City</td>\n",
       "      <td>491918</td>\n",
       "      <td>8</td>\n",
       "    </tr>\n",
       "    <tr>\n",
       "      <th>3</th>\n",
       "      <td>New York City</td>\n",
       "      <td>8398748</td>\n",
       "      <td>3</td>\n",
       "    </tr>\n",
       "    <tr>\n",
       "      <th>4</th>\n",
       "      <td>Portland</td>\n",
       "      <td>653115</td>\n",
       "      <td>1</td>\n",
       "    </tr>\n",
       "    <tr>\n",
       "      <th>5</th>\n",
       "      <td>San Francisco</td>\n",
       "      <td>883305</td>\n",
       "      <td>3</td>\n",
       "    </tr>\n",
       "    <tr>\n",
       "      <th>6</th>\n",
       "      <td>Seattle</td>\n",
       "      <td>744955</td>\n",
       "      <td>2</td>\n",
       "    </tr>\n",
       "  </tbody>\n",
       "</table>\n",
       "</div>"
      ],
      "text/plain": [
       "       City Name  Population  Airports\n",
       "0        Atlanta      498044         2\n",
       "1         Austin      964254         2\n",
       "2    Kansas City      491918         8\n",
       "3  New York City     8398748         3\n",
       "4       Portland      653115         1\n",
       "5  San Francisco      883305         3\n",
       "6        Seattle      744955         2"
      ]
     },
     "metadata": {},
     "execution_count": 1
    }
   ],
   "metadata": {
    "colab": {},
    "colab_type": "code",
    "id": "xy6gwtEvJhuj"
   }
  },
  {
   "cell_type": "markdown",
   "source": [
    "If you aren't familiar with the `from_records()` method, it is a way to create a `DataFrame` from data formatted in a tabular manner. In this case we have a tuple-of-tuples where each inner-tuple is a row of data for a city."
   ],
   "metadata": {
    "colab_type": "text",
    "id": "v9xkHrhvirQZ"
   }
  },
  {
   "cell_type": "markdown",
   "source": [
    "### Shape\n",
    "\n",
    "One interesting fact about a `DataFrame` is its shape. What is shape?\n",
    "\n",
    "Shape is the number of rows and columns contained in the dataframe.\n",
    "\n",
    "Let's find the shape of the `airport_df`:"
   ],
   "metadata": {
    "colab_type": "text",
    "id": "TiJbWvWlplO7"
   }
  },
  {
   "cell_type": "code",
   "execution_count": 2,
   "source": [
    "airport_df.shape"
   ],
   "outputs": [
    {
     "output_type": "execute_result",
     "data": {
      "text/plain": [
       "(7, 3)"
      ]
     },
     "metadata": {},
     "execution_count": 2
    }
   ],
   "metadata": {
    "colab": {},
    "colab_type": "code",
    "id": "uogKNp6YnQuN"
   }
  },
  {
   "cell_type": "markdown",
   "source": [
    "The `DataFrame` has a shape of `(7, 3)`.\n",
    "\n",
    "This means that the `DataFrame` has seven rows and three columns.\n",
    "\n",
    "If you are familiar with [NumPy](http://numpy.org), you probably are also familiar with `shape`. `NumPy` arrays can have n-dimensional shapes while `DataFrame` objects tend to stick to two dimensions: rows and columns."
   ],
   "metadata": {
    "colab_type": "text",
    "id": "Nacr3tyxp-KN"
   }
  },
  {
   "cell_type": "markdown",
   "source": [
    "#### Exercise 1: Finding Shape\n",
    "\n",
    "Download the California housing data referenced below into a `DataFrame`, and print out the shape of the data."
   ],
   "metadata": {
    "colab_type": "text",
    "id": "MvXVgSZh_AyF"
   }
  },
  {
   "cell_type": "markdown",
   "source": [
    "**Student Solution**"
   ],
   "metadata": {
    "colab_type": "text",
    "id": "GZYNh_sk_cgj"
   }
  },
  {
   "cell_type": "code",
   "execution_count": 3,
   "source": [
    "url = \"https://download.mlcc.google.com/mledu-datasets/california_housing_train.csv\"\n",
    "\n",
    "# Download the housing data\n",
    "cali_df = pd.read_csv(url)\n",
    "# Print the shape of the data\n",
    "print(cali_df.shape)"
   ],
   "outputs": [
    {
     "output_type": "stream",
     "name": "stdout",
     "text": [
      "(17000, 9)\n"
     ]
    }
   ],
   "metadata": {
    "colab": {},
    "colab_type": "code",
    "id": "WB0AE8Cb-0Cx"
   }
  },
  {
   "cell_type": "markdown",
   "source": [
    "---"
   ],
   "metadata": {
    "colab_type": "text",
    "id": "2Pw1Aw7jXAwZ"
   }
  },
  {
   "cell_type": "code",
   "execution_count": 4,
   "source": [
    "cali_df"
   ],
   "outputs": [
    {
     "output_type": "execute_result",
     "data": {
      "text/html": [
       "<div>\n",
       "<style scoped>\n",
       "    .dataframe tbody tr th:only-of-type {\n",
       "        vertical-align: middle;\n",
       "    }\n",
       "\n",
       "    .dataframe tbody tr th {\n",
       "        vertical-align: top;\n",
       "    }\n",
       "\n",
       "    .dataframe thead th {\n",
       "        text-align: right;\n",
       "    }\n",
       "</style>\n",
       "<table border=\"1\" class=\"dataframe\">\n",
       "  <thead>\n",
       "    <tr style=\"text-align: right;\">\n",
       "      <th></th>\n",
       "      <th>longitude</th>\n",
       "      <th>latitude</th>\n",
       "      <th>housing_median_age</th>\n",
       "      <th>total_rooms</th>\n",
       "      <th>total_bedrooms</th>\n",
       "      <th>population</th>\n",
       "      <th>households</th>\n",
       "      <th>median_income</th>\n",
       "      <th>median_house_value</th>\n",
       "    </tr>\n",
       "  </thead>\n",
       "  <tbody>\n",
       "    <tr>\n",
       "      <th>0</th>\n",
       "      <td>-114.31</td>\n",
       "      <td>34.19</td>\n",
       "      <td>15.0</td>\n",
       "      <td>5612.0</td>\n",
       "      <td>1283.0</td>\n",
       "      <td>1015.0</td>\n",
       "      <td>472.0</td>\n",
       "      <td>1.4936</td>\n",
       "      <td>66900.0</td>\n",
       "    </tr>\n",
       "    <tr>\n",
       "      <th>1</th>\n",
       "      <td>-114.47</td>\n",
       "      <td>34.40</td>\n",
       "      <td>19.0</td>\n",
       "      <td>7650.0</td>\n",
       "      <td>1901.0</td>\n",
       "      <td>1129.0</td>\n",
       "      <td>463.0</td>\n",
       "      <td>1.8200</td>\n",
       "      <td>80100.0</td>\n",
       "    </tr>\n",
       "    <tr>\n",
       "      <th>2</th>\n",
       "      <td>-114.56</td>\n",
       "      <td>33.69</td>\n",
       "      <td>17.0</td>\n",
       "      <td>720.0</td>\n",
       "      <td>174.0</td>\n",
       "      <td>333.0</td>\n",
       "      <td>117.0</td>\n",
       "      <td>1.6509</td>\n",
       "      <td>85700.0</td>\n",
       "    </tr>\n",
       "    <tr>\n",
       "      <th>3</th>\n",
       "      <td>-114.57</td>\n",
       "      <td>33.64</td>\n",
       "      <td>14.0</td>\n",
       "      <td>1501.0</td>\n",
       "      <td>337.0</td>\n",
       "      <td>515.0</td>\n",
       "      <td>226.0</td>\n",
       "      <td>3.1917</td>\n",
       "      <td>73400.0</td>\n",
       "    </tr>\n",
       "    <tr>\n",
       "      <th>4</th>\n",
       "      <td>-114.57</td>\n",
       "      <td>33.57</td>\n",
       "      <td>20.0</td>\n",
       "      <td>1454.0</td>\n",
       "      <td>326.0</td>\n",
       "      <td>624.0</td>\n",
       "      <td>262.0</td>\n",
       "      <td>1.9250</td>\n",
       "      <td>65500.0</td>\n",
       "    </tr>\n",
       "    <tr>\n",
       "      <th>...</th>\n",
       "      <td>...</td>\n",
       "      <td>...</td>\n",
       "      <td>...</td>\n",
       "      <td>...</td>\n",
       "      <td>...</td>\n",
       "      <td>...</td>\n",
       "      <td>...</td>\n",
       "      <td>...</td>\n",
       "      <td>...</td>\n",
       "    </tr>\n",
       "    <tr>\n",
       "      <th>16995</th>\n",
       "      <td>-124.26</td>\n",
       "      <td>40.58</td>\n",
       "      <td>52.0</td>\n",
       "      <td>2217.0</td>\n",
       "      <td>394.0</td>\n",
       "      <td>907.0</td>\n",
       "      <td>369.0</td>\n",
       "      <td>2.3571</td>\n",
       "      <td>111400.0</td>\n",
       "    </tr>\n",
       "    <tr>\n",
       "      <th>16996</th>\n",
       "      <td>-124.27</td>\n",
       "      <td>40.69</td>\n",
       "      <td>36.0</td>\n",
       "      <td>2349.0</td>\n",
       "      <td>528.0</td>\n",
       "      <td>1194.0</td>\n",
       "      <td>465.0</td>\n",
       "      <td>2.5179</td>\n",
       "      <td>79000.0</td>\n",
       "    </tr>\n",
       "    <tr>\n",
       "      <th>16997</th>\n",
       "      <td>-124.30</td>\n",
       "      <td>41.84</td>\n",
       "      <td>17.0</td>\n",
       "      <td>2677.0</td>\n",
       "      <td>531.0</td>\n",
       "      <td>1244.0</td>\n",
       "      <td>456.0</td>\n",
       "      <td>3.0313</td>\n",
       "      <td>103600.0</td>\n",
       "    </tr>\n",
       "    <tr>\n",
       "      <th>16998</th>\n",
       "      <td>-124.30</td>\n",
       "      <td>41.80</td>\n",
       "      <td>19.0</td>\n",
       "      <td>2672.0</td>\n",
       "      <td>552.0</td>\n",
       "      <td>1298.0</td>\n",
       "      <td>478.0</td>\n",
       "      <td>1.9797</td>\n",
       "      <td>85800.0</td>\n",
       "    </tr>\n",
       "    <tr>\n",
       "      <th>16999</th>\n",
       "      <td>-124.35</td>\n",
       "      <td>40.54</td>\n",
       "      <td>52.0</td>\n",
       "      <td>1820.0</td>\n",
       "      <td>300.0</td>\n",
       "      <td>806.0</td>\n",
       "      <td>270.0</td>\n",
       "      <td>3.0147</td>\n",
       "      <td>94600.0</td>\n",
       "    </tr>\n",
       "  </tbody>\n",
       "</table>\n",
       "<p>17000 rows × 9 columns</p>\n",
       "</div>"
      ],
      "text/plain": [
       "       longitude  latitude  housing_median_age  total_rooms  total_bedrooms  \\\n",
       "0        -114.31     34.19                15.0       5612.0          1283.0   \n",
       "1        -114.47     34.40                19.0       7650.0          1901.0   \n",
       "2        -114.56     33.69                17.0        720.0           174.0   \n",
       "3        -114.57     33.64                14.0       1501.0           337.0   \n",
       "4        -114.57     33.57                20.0       1454.0           326.0   \n",
       "...          ...       ...                 ...          ...             ...   \n",
       "16995    -124.26     40.58                52.0       2217.0           394.0   \n",
       "16996    -124.27     40.69                36.0       2349.0           528.0   \n",
       "16997    -124.30     41.84                17.0       2677.0           531.0   \n",
       "16998    -124.30     41.80                19.0       2672.0           552.0   \n",
       "16999    -124.35     40.54                52.0       1820.0           300.0   \n",
       "\n",
       "       population  households  median_income  median_house_value  \n",
       "0          1015.0       472.0         1.4936             66900.0  \n",
       "1          1129.0       463.0         1.8200             80100.0  \n",
       "2           333.0       117.0         1.6509             85700.0  \n",
       "3           515.0       226.0         3.1917             73400.0  \n",
       "4           624.0       262.0         1.9250             65500.0  \n",
       "...           ...         ...            ...                 ...  \n",
       "16995       907.0       369.0         2.3571            111400.0  \n",
       "16996      1194.0       465.0         2.5179             79000.0  \n",
       "16997      1244.0       456.0         3.0313            103600.0  \n",
       "16998      1298.0       478.0         1.9797             85800.0  \n",
       "16999       806.0       270.0         3.0147             94600.0  \n",
       "\n",
       "[17000 rows x 9 columns]"
      ]
     },
     "metadata": {},
     "execution_count": 4
    }
   ],
   "metadata": {}
  },
  {
   "cell_type": "markdown",
   "source": [
    "### Columns\n",
    "\n",
    "Speaking of columns, it's possible to ask a `DataFrame` what columns it contains using the `columns` attribute:"
   ],
   "metadata": {
    "colab_type": "text",
    "id": "UgAd9Zo83sWQ"
   }
  },
  {
   "cell_type": "code",
   "execution_count": 5,
   "source": [
    "airport_df"
   ],
   "outputs": [
    {
     "output_type": "execute_result",
     "data": {
      "text/html": [
       "<div>\n",
       "<style scoped>\n",
       "    .dataframe tbody tr th:only-of-type {\n",
       "        vertical-align: middle;\n",
       "    }\n",
       "\n",
       "    .dataframe tbody tr th {\n",
       "        vertical-align: top;\n",
       "    }\n",
       "\n",
       "    .dataframe thead th {\n",
       "        text-align: right;\n",
       "    }\n",
       "</style>\n",
       "<table border=\"1\" class=\"dataframe\">\n",
       "  <thead>\n",
       "    <tr style=\"text-align: right;\">\n",
       "      <th></th>\n",
       "      <th>City Name</th>\n",
       "      <th>Population</th>\n",
       "      <th>Airports</th>\n",
       "    </tr>\n",
       "  </thead>\n",
       "  <tbody>\n",
       "    <tr>\n",
       "      <th>0</th>\n",
       "      <td>Atlanta</td>\n",
       "      <td>498044</td>\n",
       "      <td>2</td>\n",
       "    </tr>\n",
       "    <tr>\n",
       "      <th>1</th>\n",
       "      <td>Austin</td>\n",
       "      <td>964254</td>\n",
       "      <td>2</td>\n",
       "    </tr>\n",
       "    <tr>\n",
       "      <th>2</th>\n",
       "      <td>Kansas City</td>\n",
       "      <td>491918</td>\n",
       "      <td>8</td>\n",
       "    </tr>\n",
       "    <tr>\n",
       "      <th>3</th>\n",
       "      <td>New York City</td>\n",
       "      <td>8398748</td>\n",
       "      <td>3</td>\n",
       "    </tr>\n",
       "    <tr>\n",
       "      <th>4</th>\n",
       "      <td>Portland</td>\n",
       "      <td>653115</td>\n",
       "      <td>1</td>\n",
       "    </tr>\n",
       "    <tr>\n",
       "      <th>5</th>\n",
       "      <td>San Francisco</td>\n",
       "      <td>883305</td>\n",
       "      <td>3</td>\n",
       "    </tr>\n",
       "    <tr>\n",
       "      <th>6</th>\n",
       "      <td>Seattle</td>\n",
       "      <td>744955</td>\n",
       "      <td>2</td>\n",
       "    </tr>\n",
       "  </tbody>\n",
       "</table>\n",
       "</div>"
      ],
      "text/plain": [
       "       City Name  Population  Airports\n",
       "0        Atlanta      498044         2\n",
       "1         Austin      964254         2\n",
       "2    Kansas City      491918         8\n",
       "3  New York City     8398748         3\n",
       "4       Portland      653115         1\n",
       "5  San Francisco      883305         3\n",
       "6        Seattle      744955         2"
      ]
     },
     "metadata": {},
     "execution_count": 5
    }
   ],
   "metadata": {}
  },
  {
   "cell_type": "code",
   "execution_count": 6,
   "source": [
    "airport_df.columns"
   ],
   "outputs": [
    {
     "output_type": "execute_result",
     "data": {
      "text/plain": [
       "Index(['City Name', 'Population', 'Airports'], dtype='object')"
      ]
     },
     "metadata": {},
     "execution_count": 6
    }
   ],
   "metadata": {
    "colab": {},
    "colab_type": "code",
    "id": "tam4t-l8nsZk"
   }
  },
  {
   "cell_type": "markdown",
   "source": [
    "Notice that the columns are contained in an `Index` object. An `Index` wraps the list of columns. For basic usage, like loops, you can just use the `Index` directly:"
   ],
   "metadata": {
    "colab_type": "text",
    "id": "EzTuZeWV35hu"
   }
  },
  {
   "cell_type": "code",
   "execution_count": 7,
   "source": [
    "for c in airport_df.columns:\n",
    "  print(c)"
   ],
   "outputs": [
    {
     "output_type": "stream",
     "name": "stdout",
     "text": [
      "City Name\n",
      "Population\n",
      "Airports\n"
     ]
    }
   ],
   "metadata": {
    "colab": {},
    "colab_type": "code",
    "id": "1d4Cn6f-3_Sj"
   }
  },
  {
   "cell_type": "markdown",
   "source": [
    "If you do need the columns in a lower level format, you can use `.values` to get a `NumPy` array:"
   ],
   "metadata": {
    "colab_type": "text",
    "id": "3GphYBOj3-hD"
   }
  },
  {
   "cell_type": "code",
   "execution_count": 8,
   "source": [
    "type(airport_df.columns.values)"
   ],
   "outputs": [
    {
     "output_type": "execute_result",
     "data": {
      "text/plain": [
       "numpy.ndarray"
      ]
     },
     "metadata": {},
     "execution_count": 8
    }
   ],
   "metadata": {
    "colab": {},
    "colab_type": "code",
    "id": "SGqGoVhq4MeV"
   }
  },
  {
   "cell_type": "code",
   "execution_count": 9,
   "source": [
    "airport_df.columns.values"
   ],
   "outputs": [
    {
     "output_type": "execute_result",
     "data": {
      "text/plain": [
       "array(['City Name', 'Population', 'Airports'], dtype=object)"
      ]
     },
     "metadata": {},
     "execution_count": 9
    }
   ],
   "metadata": {}
  },
  {
   "cell_type": "markdown",
   "source": [
    "If you need a basic Python list, you can then call `.tolist()` to get the core Python list of column names:"
   ],
   "metadata": {
    "colab_type": "text",
    "id": "Bt0CLEp04hVS"
   }
  },
  {
   "cell_type": "code",
   "execution_count": 10,
   "source": [
    "type(airport_df.columns.values.tolist())"
   ],
   "outputs": [
    {
     "output_type": "execute_result",
     "data": {
      "text/plain": [
       "list"
      ]
     },
     "metadata": {},
     "execution_count": 10
    }
   ],
   "metadata": {
    "colab": {},
    "colab_type": "code",
    "id": "Iztav3ht4oxn"
   }
  },
  {
   "cell_type": "code",
   "execution_count": 11,
   "source": [
    "print (airport_df.columns.values.tolist())"
   ],
   "outputs": [
    {
     "output_type": "stream",
     "name": "stdout",
     "text": [
      "['City Name', 'Population', 'Airports']\n"
     ]
    }
   ],
   "metadata": {}
  },
  {
   "cell_type": "markdown",
   "source": [
    "#### Exercise 2: Pretty Print Columns\n",
    "\n",
    "The columns in the California housing dataset are not necessarily easy on the eyes. Columns like `housing_median_age` would be easier to read if they were presented as `Housing Median Age`.\n",
    "\n",
    "In the code block below, download the California housing dataset. Then find the names of the columns in the dataset and convert them from \"snake case\" to regular English.  For instance `housing_median_age` becomes `Housing Median Age` and `total_rooms` becomes `Total Rooms`. Print the human-readable names one per line. You can find Python string methods that might be helpful [here](https://docs.python.org/3/library/stdtypes.html#text-sequence-type-str).\n",
    "\n",
    "Write your code in a manner that it could handle any column name in \"snake case\": Underscores should be replaced by spaces. The first letter of each word should be capitalized.\n",
    "\n",
    "Be sure to get the column names from the `DataFrame`."
   ],
   "metadata": {
    "colab_type": "text",
    "id": "_Kq758-PABWw"
   }
  },
  {
   "cell_type": "markdown",
   "source": [
    "**Student Solution**"
   ],
   "metadata": {
    "colab_type": "text",
    "id": "-PTP9f0xA-7I"
   }
  },
  {
   "cell_type": "code",
   "execution_count": 12,
   "source": [
    "import pandas as pd\n",
    "\n",
    "url = \"https://download.mlcc.google.com/mledu-datasets/california_housing_train.csv\"\n",
    "list = []\n",
    "df = pd.read_csv(url)\n",
    "for i in df.columns:\n",
    "    i = i.replace('_', ' ')\n",
    "    i = i.title()\n",
    "    list.append(i)\n",
    "df.columns = list\n",
    "print (df)\n",
    "\n",
    "\n",
    "#for i in range(len(df.columns)):\n",
    "    #df.columns[i]\n",
    "#for i in range(len(df.columns)):\n",
    "# Your Code Goes Here"
   ],
   "outputs": [
    {
     "output_type": "stream",
     "name": "stdout",
     "text": [
      "       Longitude  Latitude  Housing Median Age  Total Rooms  Total Bedrooms  \\\n",
      "0        -114.31     34.19                15.0       5612.0          1283.0   \n",
      "1        -114.47     34.40                19.0       7650.0          1901.0   \n",
      "2        -114.56     33.69                17.0        720.0           174.0   \n",
      "3        -114.57     33.64                14.0       1501.0           337.0   \n",
      "4        -114.57     33.57                20.0       1454.0           326.0   \n",
      "...          ...       ...                 ...          ...             ...   \n",
      "16995    -124.26     40.58                52.0       2217.0           394.0   \n",
      "16996    -124.27     40.69                36.0       2349.0           528.0   \n",
      "16997    -124.30     41.84                17.0       2677.0           531.0   \n",
      "16998    -124.30     41.80                19.0       2672.0           552.0   \n",
      "16999    -124.35     40.54                52.0       1820.0           300.0   \n",
      "\n",
      "       Population  Households  Median Income  Median House Value  \n",
      "0          1015.0       472.0         1.4936             66900.0  \n",
      "1          1129.0       463.0         1.8200             80100.0  \n",
      "2           333.0       117.0         1.6509             85700.0  \n",
      "3           515.0       226.0         3.1917             73400.0  \n",
      "4           624.0       262.0         1.9250             65500.0  \n",
      "...           ...         ...            ...                 ...  \n",
      "16995       907.0       369.0         2.3571            111400.0  \n",
      "16996      1194.0       465.0         2.5179             79000.0  \n",
      "16997      1244.0       456.0         3.0313            103600.0  \n",
      "16998      1298.0       478.0         1.9797             85800.0  \n",
      "16999       806.0       270.0         3.0147             94600.0  \n",
      "\n",
      "[17000 rows x 9 columns]\n"
     ]
    }
   ],
   "metadata": {
    "colab": {},
    "colab_type": "code",
    "id": "-8-9eI3oBBQj"
   }
  },
  {
   "cell_type": "markdown",
   "source": [
    "---"
   ],
   "metadata": {
    "colab_type": "text",
    "id": "LuijNhGgXGgH"
   }
  },
  {
   "cell_type": "markdown",
   "source": [
    "### Missing Values\n",
    "\n",
    "It is common to find datasets with missing data. When this happens it's good to know that the data is missing so you can determine how to handle the situation.\n",
    "\n",
    "Let's recreate our city data but set some values to `None`:"
   ],
   "metadata": {
    "colab_type": "text",
    "id": "jcHixEI54DPi"
   }
  },
  {
   "cell_type": "code",
   "execution_count": 13,
   "source": [
    "import pandas as pd\n",
    "\n",
    "airport_df = pd.DataFrame.from_records((\n",
    "  ('Atlanta', 498044, 2),\n",
    "  (None, 964254, 2),\n",
    "  ('Kansas City',  491918, 8), \n",
    "  ('New York City', None, 3),\n",
    "  ('Portland', 653115, 1),\n",
    "  ('San Francisco', 883305, None),\n",
    "  ('Seattle', 744955, 2),\n",
    "), columns=(\"City Name\", \"Population\", \"Airports\"))\n",
    "\n",
    "airport_df"
   ],
   "outputs": [
    {
     "output_type": "execute_result",
     "data": {
      "text/html": [
       "<div>\n",
       "<style scoped>\n",
       "    .dataframe tbody tr th:only-of-type {\n",
       "        vertical-align: middle;\n",
       "    }\n",
       "\n",
       "    .dataframe tbody tr th {\n",
       "        vertical-align: top;\n",
       "    }\n",
       "\n",
       "    .dataframe thead th {\n",
       "        text-align: right;\n",
       "    }\n",
       "</style>\n",
       "<table border=\"1\" class=\"dataframe\">\n",
       "  <thead>\n",
       "    <tr style=\"text-align: right;\">\n",
       "      <th></th>\n",
       "      <th>City Name</th>\n",
       "      <th>Population</th>\n",
       "      <th>Airports</th>\n",
       "    </tr>\n",
       "  </thead>\n",
       "  <tbody>\n",
       "    <tr>\n",
       "      <th>0</th>\n",
       "      <td>Atlanta</td>\n",
       "      <td>498044.0</td>\n",
       "      <td>2.0</td>\n",
       "    </tr>\n",
       "    <tr>\n",
       "      <th>1</th>\n",
       "      <td>None</td>\n",
       "      <td>964254.0</td>\n",
       "      <td>2.0</td>\n",
       "    </tr>\n",
       "    <tr>\n",
       "      <th>2</th>\n",
       "      <td>Kansas City</td>\n",
       "      <td>491918.0</td>\n",
       "      <td>8.0</td>\n",
       "    </tr>\n",
       "    <tr>\n",
       "      <th>3</th>\n",
       "      <td>New York City</td>\n",
       "      <td>NaN</td>\n",
       "      <td>3.0</td>\n",
       "    </tr>\n",
       "    <tr>\n",
       "      <th>4</th>\n",
       "      <td>Portland</td>\n",
       "      <td>653115.0</td>\n",
       "      <td>1.0</td>\n",
       "    </tr>\n",
       "    <tr>\n",
       "      <th>5</th>\n",
       "      <td>San Francisco</td>\n",
       "      <td>883305.0</td>\n",
       "      <td>NaN</td>\n",
       "    </tr>\n",
       "    <tr>\n",
       "      <th>6</th>\n",
       "      <td>Seattle</td>\n",
       "      <td>744955.0</td>\n",
       "      <td>2.0</td>\n",
       "    </tr>\n",
       "  </tbody>\n",
       "</table>\n",
       "</div>"
      ],
      "text/plain": [
       "       City Name  Population  Airports\n",
       "0        Atlanta    498044.0       2.0\n",
       "1           None    964254.0       2.0\n",
       "2    Kansas City    491918.0       8.0\n",
       "3  New York City         NaN       3.0\n",
       "4       Portland    653115.0       1.0\n",
       "5  San Francisco    883305.0       NaN\n",
       "6        Seattle    744955.0       2.0"
      ]
     },
     "metadata": {},
     "execution_count": 13
    }
   ],
   "metadata": {
    "colab": {},
    "colab_type": "code",
    "id": "1x2RigRT4Kqv"
   }
  },
  {
   "cell_type": "markdown",
   "source": [
    "You can see that the population of New York and the number of airports in San Francisco are now represented by `NaN` values. This stands for 'Not a Number', which means that the value is an unknown numeric value. You'll also see that where 'Austin' once was, we now have a `None` value. This means that we are missing a non-numeric value.\n",
    "\n",
    "If we want to ask the `DataFrame` what values are present or missing, we can use the `isna()` method:"
   ],
   "metadata": {
    "colab_type": "text",
    "id": "-KRSoq7e4nxA"
   }
  },
  {
   "cell_type": "code",
   "execution_count": 14,
   "source": [
    "airport_df.isna()"
   ],
   "outputs": [
    {
     "output_type": "execute_result",
     "data": {
      "text/html": [
       "<div>\n",
       "<style scoped>\n",
       "    .dataframe tbody tr th:only-of-type {\n",
       "        vertical-align: middle;\n",
       "    }\n",
       "\n",
       "    .dataframe tbody tr th {\n",
       "        vertical-align: top;\n",
       "    }\n",
       "\n",
       "    .dataframe thead th {\n",
       "        text-align: right;\n",
       "    }\n",
       "</style>\n",
       "<table border=\"1\" class=\"dataframe\">\n",
       "  <thead>\n",
       "    <tr style=\"text-align: right;\">\n",
       "      <th></th>\n",
       "      <th>City Name</th>\n",
       "      <th>Population</th>\n",
       "      <th>Airports</th>\n",
       "    </tr>\n",
       "  </thead>\n",
       "  <tbody>\n",
       "    <tr>\n",
       "      <th>0</th>\n",
       "      <td>False</td>\n",
       "      <td>False</td>\n",
       "      <td>False</td>\n",
       "    </tr>\n",
       "    <tr>\n",
       "      <th>1</th>\n",
       "      <td>True</td>\n",
       "      <td>False</td>\n",
       "      <td>False</td>\n",
       "    </tr>\n",
       "    <tr>\n",
       "      <th>2</th>\n",
       "      <td>False</td>\n",
       "      <td>False</td>\n",
       "      <td>False</td>\n",
       "    </tr>\n",
       "    <tr>\n",
       "      <th>3</th>\n",
       "      <td>False</td>\n",
       "      <td>True</td>\n",
       "      <td>False</td>\n",
       "    </tr>\n",
       "    <tr>\n",
       "      <th>4</th>\n",
       "      <td>False</td>\n",
       "      <td>False</td>\n",
       "      <td>False</td>\n",
       "    </tr>\n",
       "    <tr>\n",
       "      <th>5</th>\n",
       "      <td>False</td>\n",
       "      <td>False</td>\n",
       "      <td>True</td>\n",
       "    </tr>\n",
       "    <tr>\n",
       "      <th>6</th>\n",
       "      <td>False</td>\n",
       "      <td>False</td>\n",
       "      <td>False</td>\n",
       "    </tr>\n",
       "  </tbody>\n",
       "</table>\n",
       "</div>"
      ],
      "text/plain": [
       "   City Name  Population  Airports\n",
       "0      False       False     False\n",
       "1       True       False     False\n",
       "2      False       False     False\n",
       "3      False        True     False\n",
       "4      False       False     False\n",
       "5      False       False      True\n",
       "6      False       False     False"
      ]
     },
     "metadata": {},
     "execution_count": 14
    }
   ],
   "metadata": {
    "colab": {},
    "colab_type": "code",
    "id": "IoDDdI6c5P16"
   }
  },
  {
   "cell_type": "markdown",
   "source": [
    "Here we get `True` values where a data point is missing and `False` values where we have data.\n",
    "\n",
    "Using this, we can do powerful things like select all columns with populations or airports that have missing data:"
   ],
   "metadata": {
    "colab_type": "text",
    "id": "ZI0SXsne5SWp"
   }
  },
  {
   "cell_type": "code",
   "execution_count": 15,
   "source": [
    "airport_df[airport_df['Population'].isna() | airport_df['Airports'].isna()]"
   ],
   "outputs": [
    {
     "output_type": "execute_result",
     "data": {
      "text/html": [
       "<div>\n",
       "<style scoped>\n",
       "    .dataframe tbody tr th:only-of-type {\n",
       "        vertical-align: middle;\n",
       "    }\n",
       "\n",
       "    .dataframe tbody tr th {\n",
       "        vertical-align: top;\n",
       "    }\n",
       "\n",
       "    .dataframe thead th {\n",
       "        text-align: right;\n",
       "    }\n",
       "</style>\n",
       "<table border=\"1\" class=\"dataframe\">\n",
       "  <thead>\n",
       "    <tr style=\"text-align: right;\">\n",
       "      <th></th>\n",
       "      <th>City Name</th>\n",
       "      <th>Population</th>\n",
       "      <th>Airports</th>\n",
       "    </tr>\n",
       "  </thead>\n",
       "  <tbody>\n",
       "    <tr>\n",
       "      <th>3</th>\n",
       "      <td>New York City</td>\n",
       "      <td>NaN</td>\n",
       "      <td>3.0</td>\n",
       "    </tr>\n",
       "    <tr>\n",
       "      <th>5</th>\n",
       "      <td>San Francisco</td>\n",
       "      <td>883305.0</td>\n",
       "      <td>NaN</td>\n",
       "    </tr>\n",
       "  </tbody>\n",
       "</table>\n",
       "</div>"
      ],
      "text/plain": [
       "       City Name  Population  Airports\n",
       "3  New York City         NaN       3.0\n",
       "5  San Francisco    883305.0       NaN"
      ]
     },
     "metadata": {},
     "execution_count": 15
    }
   ],
   "metadata": {
    "colab": {},
    "colab_type": "code",
    "id": "YyDD_HWY5eri"
   }
  },
  {
   "cell_type": "markdown",
   "source": [
    "Now that we know that we are missing the population of New York and the number of airports in San Francisco, we can look up that data and manually fix it.\n",
    "\n",
    "Sometimes the fixes aren't so easy. The data might be impossible to find, or there might be so many missing values that you can't individually fix them all.\n",
    "\n",
    "In these cases you have two options: completely remove the offending rows or columns or patch the data in some way. Throughout this course we will work with many datasets that have missing or obviously invalid values, and we will discuss mitigation strategies."
   ],
   "metadata": {
    "colab_type": "text",
    "id": "tlDu7LZl5zqk"
   }
  },
  {
   "cell_type": "markdown",
   "source": [
    "## Filtering\n"
   ],
   "metadata": {
    "colab_type": "text",
    "id": "OdciSvRDqcEk"
   }
  },
  {
   "cell_type": "markdown",
   "source": [
    "Filtering is an important concept in data analysis and processing. When you think of filtering in the real world, you likely think of an object that blocks undesired things while allowing desired things to pass through.\n",
    "\n",
    "Imagine a coffee filter. It stops the coffee grounds from getting into the coffee pot, but it allows the water bound to coffee's chemical compounds to pass through into your perfect brew.\n",
    "\n",
    "Filtering a `DataFrame` is similar. A `DataFrame` contains rows of data. Some of these rows might be important to you, and some you might want to discard. Filtering allows you select only the data that you care about and put that data in a new `DataFrame`.\n",
    "\n",
    "In the example below, we filter our `airport_df` to select only cities that have more than two airports. In return we get a `DataFrame` that contains only information about cities that have more than two airports."
   ],
   "metadata": {
    "colab_type": "text",
    "id": "7EaUx6GAreMu"
   }
  },
  {
   "cell_type": "code",
   "execution_count": 16,
   "source": [
    "airport_df[airport_df['Airports'] > 2]"
   ],
   "outputs": [
    {
     "output_type": "execute_result",
     "data": {
      "text/html": [
       "<div>\n",
       "<style scoped>\n",
       "    .dataframe tbody tr th:only-of-type {\n",
       "        vertical-align: middle;\n",
       "    }\n",
       "\n",
       "    .dataframe tbody tr th {\n",
       "        vertical-align: top;\n",
       "    }\n",
       "\n",
       "    .dataframe thead th {\n",
       "        text-align: right;\n",
       "    }\n",
       "</style>\n",
       "<table border=\"1\" class=\"dataframe\">\n",
       "  <thead>\n",
       "    <tr style=\"text-align: right;\">\n",
       "      <th></th>\n",
       "      <th>City Name</th>\n",
       "      <th>Population</th>\n",
       "      <th>Airports</th>\n",
       "    </tr>\n",
       "  </thead>\n",
       "  <tbody>\n",
       "    <tr>\n",
       "      <th>2</th>\n",
       "      <td>Kansas City</td>\n",
       "      <td>491918.0</td>\n",
       "      <td>8.0</td>\n",
       "    </tr>\n",
       "    <tr>\n",
       "      <th>3</th>\n",
       "      <td>New York City</td>\n",
       "      <td>NaN</td>\n",
       "      <td>3.0</td>\n",
       "    </tr>\n",
       "  </tbody>\n",
       "</table>\n",
       "</div>"
      ],
      "text/plain": [
       "       City Name  Population  Airports\n",
       "2    Kansas City    491918.0       8.0\n",
       "3  New York City         NaN       3.0"
      ]
     },
     "metadata": {},
     "execution_count": 16
    }
   ],
   "metadata": {
    "colab": {},
    "colab_type": "code",
    "id": "lG9MD0F2sQ1K"
   }
  },
  {
   "cell_type": "markdown",
   "source": [
    "Let's deconstruct this statement. At its core we have:\n",
    "\n",
    "```python\n",
    "airport_df['Airports'] > 2\n",
    "```\n",
    "\n",
    "This expression compares every 'Airports' value in the `airport_df` `DataFrame` and returns `True` if there are more than two airports, `False` otherwise."
   ],
   "metadata": {
    "colab_type": "text",
    "id": "bLw910vesx28"
   }
  },
  {
   "cell_type": "code",
   "execution_count": 17,
   "source": [
    "airport_df['Airports'] > 2"
   ],
   "outputs": [
    {
     "output_type": "execute_result",
     "data": {
      "text/plain": [
       "0    False\n",
       "1    False\n",
       "2     True\n",
       "3     True\n",
       "4    False\n",
       "5    False\n",
       "6    False\n",
       "Name: Airports, dtype: bool"
      ]
     },
     "metadata": {},
     "execution_count": 17
    }
   ],
   "metadata": {
    "colab": {},
    "colab_type": "code",
    "id": "VwYDdc8bMewA"
   }
  },
  {
   "cell_type": "markdown",
   "source": [
    "This data is returned as a Pandas `Series`. The series is then used as a boolean index for the `airport_df` the `DataFrame`.\n",
    "\n",
    "**Boolean index** is just a term used to refer to a `Series` (or other list-like structure) of boolean values used in the index operator, `[]`, for the `DataFrame`. Ideally the boolean index length should be equal to the number of rows in the `DataFrame` being indexed. `DataFrame` rows that map to `True` values in the index are retained, while rows that map to `False` values are filtered out."
   ],
   "metadata": {
    "colab_type": "text",
    "id": "j3LGIAKDMxta"
   }
  },
  {
   "cell_type": "code",
   "execution_count": 18,
   "source": [
    "has_many_airports = airport_df['Airports'] > 2\n",
    "\n",
    "airport_df[has_many_airports]"
   ],
   "outputs": [
    {
     "output_type": "execute_result",
     "data": {
      "text/html": [
       "<div>\n",
       "<style scoped>\n",
       "    .dataframe tbody tr th:only-of-type {\n",
       "        vertical-align: middle;\n",
       "    }\n",
       "\n",
       "    .dataframe tbody tr th {\n",
       "        vertical-align: top;\n",
       "    }\n",
       "\n",
       "    .dataframe thead th {\n",
       "        text-align: right;\n",
       "    }\n",
       "</style>\n",
       "<table border=\"1\" class=\"dataframe\">\n",
       "  <thead>\n",
       "    <tr style=\"text-align: right;\">\n",
       "      <th></th>\n",
       "      <th>City Name</th>\n",
       "      <th>Population</th>\n",
       "      <th>Airports</th>\n",
       "    </tr>\n",
       "  </thead>\n",
       "  <tbody>\n",
       "    <tr>\n",
       "      <th>2</th>\n",
       "      <td>Kansas City</td>\n",
       "      <td>491918.0</td>\n",
       "      <td>8.0</td>\n",
       "    </tr>\n",
       "    <tr>\n",
       "      <th>3</th>\n",
       "      <td>New York City</td>\n",
       "      <td>NaN</td>\n",
       "      <td>3.0</td>\n",
       "    </tr>\n",
       "  </tbody>\n",
       "</table>\n",
       "</div>"
      ],
      "text/plain": [
       "       City Name  Population  Airports\n",
       "2    Kansas City    491918.0       8.0\n",
       "3  New York City         NaN       3.0"
      ]
     },
     "metadata": {},
     "execution_count": 18
    }
   ],
   "metadata": {
    "colab": {},
    "colab_type": "code",
    "id": "V7aul282NAMH"
   }
  },
  {
   "cell_type": "markdown",
   "source": [
    "If you are familiar with Boolean logic and Python, you probably know that you can create compound expressions using the `or` and `and` keywords. You can also use the keyword `not` to reverse an expression."
   ],
   "metadata": {
    "colab_type": "text",
    "id": "toPxH8YUOLDC"
   }
  },
  {
   "cell_type": "code",
   "execution_count": 19,
   "source": [
    "print(True and False)\n",
    "print(True or False)\n",
    "print(not True)"
   ],
   "outputs": [
    {
     "output_type": "stream",
     "name": "stdout",
     "text": [
      "False\n",
      "True\n",
      "False\n"
     ]
    }
   ],
   "metadata": {
    "colab": {},
    "colab_type": "code",
    "id": "vF6tfJQCtMRr"
   }
  },
  {
   "cell_type": "markdown",
   "source": [
    "You can do similar things in Pandas with boolean indices. However, `and`, `or`, and `not` don't work as expected. Instead you need to use the `&`, `|`, and `!` operators.\n",
    "\n",
    "- `and` changes to `&`\n",
    "- `or` changes to `|`\n",
    "- `not` changes to `!`\n",
    "\n",
    "For normal numbers in Python, these are actually the 'bitwise logical operators'. When working on Pandas objects, these operators don't perform bitwise calculations but instead perform Boolean logic."
   ],
   "metadata": {
    "colab_type": "text",
    "id": "Bj8LEytmwBAU"
   }
  },
  {
   "cell_type": "markdown",
   "source": [
    "Let's see this in action with an example. Imagine we want to find all cities with more than two airports and less than a million inhabitants. First, let's find the rows with more than two airports:"
   ],
   "metadata": {
    "colab_type": "text",
    "id": "xTft1GCVPOoz"
   }
  },
  {
   "cell_type": "code",
   "execution_count": 20,
   "source": [
    "has_many_airports = airport_df['Airports'] > 2\n",
    "has_many_airports"
   ],
   "outputs": [
    {
     "output_type": "execute_result",
     "data": {
      "text/plain": [
       "0    False\n",
       "1    False\n",
       "2     True\n",
       "3     True\n",
       "4    False\n",
       "5    False\n",
       "6    False\n",
       "Name: Airports, dtype: bool"
      ]
     },
     "metadata": {},
     "execution_count": 20
    }
   ],
   "metadata": {
    "colab": {},
    "colab_type": "code",
    "id": "uoFFVmGXPVZ1"
   }
  },
  {
   "cell_type": "markdown",
   "source": [
    "Now we can find the rows that represent a city with less than a million residents:"
   ],
   "metadata": {
    "colab_type": "text",
    "id": "ETWeK941P-9p"
   }
  },
  {
   "cell_type": "code",
   "execution_count": 21,
   "source": [
    "small_cities = airport_df['Population'] < 1000000\n",
    "small_cities"
   ],
   "outputs": [
    {
     "output_type": "execute_result",
     "data": {
      "text/plain": [
       "0     True\n",
       "1     True\n",
       "2     True\n",
       "3    False\n",
       "4     True\n",
       "5     True\n",
       "6     True\n",
       "Name: Population, dtype: bool"
      ]
     },
     "metadata": {},
     "execution_count": 21
    }
   ],
   "metadata": {
    "colab": {},
    "colab_type": "code",
    "id": "inVE7JULQRR7"
   }
  },
  {
   "cell_type": "markdown",
   "source": [
    "We can then combine `has_many_airports` with `small_cities` to find small cities with a large number of airports.\n",
    "\n",
    "To do this we first need to use the `&` operator to combine the two Boolean tables:"
   ],
   "metadata": {
    "colab_type": "text",
    "id": "kvUSkBt3QdhP"
   }
  },
  {
   "cell_type": "code",
   "execution_count": 22,
   "source": [
    "small_but_flighty = has_many_airports & small_cities\n",
    "small_but_flighty"
   ],
   "outputs": [
    {
     "output_type": "execute_result",
     "data": {
      "text/plain": [
       "0    False\n",
       "1    False\n",
       "2     True\n",
       "3    False\n",
       "4    False\n",
       "5    False\n",
       "6    False\n",
       "dtype: bool"
      ]
     },
     "metadata": {},
     "execution_count": 22
    }
   ],
   "metadata": {
    "colab": {},
    "colab_type": "code",
    "id": "-vxs4Y8IwtT0"
   }
  },
  {
   "cell_type": "markdown",
   "source": [
    "We can use this boolean index to select the rows from the original `DataFrame` that contain data about cities with fewer than one million residents and more than two airports."
   ],
   "metadata": {
    "colab_type": "text",
    "id": "GrLRsLeXQy2M"
   }
  },
  {
   "cell_type": "code",
   "execution_count": 23,
   "source": [
    "airport_df[small_but_flighty]"
   ],
   "outputs": [
    {
     "output_type": "execute_result",
     "data": {
      "text/html": [
       "<div>\n",
       "<style scoped>\n",
       "    .dataframe tbody tr th:only-of-type {\n",
       "        vertical-align: middle;\n",
       "    }\n",
       "\n",
       "    .dataframe tbody tr th {\n",
       "        vertical-align: top;\n",
       "    }\n",
       "\n",
       "    .dataframe thead th {\n",
       "        text-align: right;\n",
       "    }\n",
       "</style>\n",
       "<table border=\"1\" class=\"dataframe\">\n",
       "  <thead>\n",
       "    <tr style=\"text-align: right;\">\n",
       "      <th></th>\n",
       "      <th>City Name</th>\n",
       "      <th>Population</th>\n",
       "      <th>Airports</th>\n",
       "    </tr>\n",
       "  </thead>\n",
       "  <tbody>\n",
       "    <tr>\n",
       "      <th>2</th>\n",
       "      <td>Kansas City</td>\n",
       "      <td>491918.0</td>\n",
       "      <td>8.0</td>\n",
       "    </tr>\n",
       "  </tbody>\n",
       "</table>\n",
       "</div>"
      ],
      "text/plain": [
       "     City Name  Population  Airports\n",
       "2  Kansas City    491918.0       8.0"
      ]
     },
     "metadata": {},
     "execution_count": 23
    }
   ],
   "metadata": {
    "colab": {},
    "colab_type": "code",
    "id": "KkKcM5NPRLLk"
   }
  },
  {
   "cell_type": "markdown",
   "source": [
    "In this example we broke the filter down into many steps. It could actually be performed in one expression as shown below."
   ],
   "metadata": {
    "colab_type": "text",
    "id": "jWQJW8xPQ_No"
   }
  },
  {
   "cell_type": "code",
   "execution_count": 24,
   "source": [
    "airport_df[(airport_df['Airports'] > 2) & (airport_df['Population'] < 1000000)]"
   ],
   "outputs": [
    {
     "output_type": "execute_result",
     "data": {
      "text/html": [
       "<div>\n",
       "<style scoped>\n",
       "    .dataframe tbody tr th:only-of-type {\n",
       "        vertical-align: middle;\n",
       "    }\n",
       "\n",
       "    .dataframe tbody tr th {\n",
       "        vertical-align: top;\n",
       "    }\n",
       "\n",
       "    .dataframe thead th {\n",
       "        text-align: right;\n",
       "    }\n",
       "</style>\n",
       "<table border=\"1\" class=\"dataframe\">\n",
       "  <thead>\n",
       "    <tr style=\"text-align: right;\">\n",
       "      <th></th>\n",
       "      <th>City Name</th>\n",
       "      <th>Population</th>\n",
       "      <th>Airports</th>\n",
       "    </tr>\n",
       "  </thead>\n",
       "  <tbody>\n",
       "    <tr>\n",
       "      <th>2</th>\n",
       "      <td>Kansas City</td>\n",
       "      <td>491918.0</td>\n",
       "      <td>8.0</td>\n",
       "    </tr>\n",
       "  </tbody>\n",
       "</table>\n",
       "</div>"
      ],
      "text/plain": [
       "     City Name  Population  Airports\n",
       "2  Kansas City    491918.0       8.0"
      ]
     },
     "metadata": {},
     "execution_count": 24
    }
   ],
   "metadata": {
    "colab": {},
    "colab_type": "code",
    "id": "7Mhp076pQv0b"
   }
  },
  {
   "cell_type": "markdown",
   "source": [
    "Notice the need for parenthesis around each Boolean expression. This is because `&` has a higher precedence than `>` and `<`."
   ],
   "metadata": {
    "colab_type": "text",
    "id": "aiPlnHeORWKE"
   }
  },
  {
   "cell_type": "markdown",
   "source": [
    "The term 'filtering' is typically used when talking about rows of data. However, it is possible to filter out columns of a dataset. To filter columns simply list the columns that you do want to keep in a `list` and pass it to the `DataFrame` selector:"
   ],
   "metadata": {
    "colab_type": "text",
    "id": "YkFnQx9Kw6oL"
   }
  },
  {
   "cell_type": "code",
   "execution_count": 25,
   "source": [
    "population_df = airport_df[['City Name', 'Population']]\n",
    "\n",
    "population_df"
   ],
   "outputs": [
    {
     "output_type": "execute_result",
     "data": {
      "text/html": [
       "<div>\n",
       "<style scoped>\n",
       "    .dataframe tbody tr th:only-of-type {\n",
       "        vertical-align: middle;\n",
       "    }\n",
       "\n",
       "    .dataframe tbody tr th {\n",
       "        vertical-align: top;\n",
       "    }\n",
       "\n",
       "    .dataframe thead th {\n",
       "        text-align: right;\n",
       "    }\n",
       "</style>\n",
       "<table border=\"1\" class=\"dataframe\">\n",
       "  <thead>\n",
       "    <tr style=\"text-align: right;\">\n",
       "      <th></th>\n",
       "      <th>City Name</th>\n",
       "      <th>Population</th>\n",
       "    </tr>\n",
       "  </thead>\n",
       "  <tbody>\n",
       "    <tr>\n",
       "      <th>0</th>\n",
       "      <td>Atlanta</td>\n",
       "      <td>498044.0</td>\n",
       "    </tr>\n",
       "    <tr>\n",
       "      <th>1</th>\n",
       "      <td>None</td>\n",
       "      <td>964254.0</td>\n",
       "    </tr>\n",
       "    <tr>\n",
       "      <th>2</th>\n",
       "      <td>Kansas City</td>\n",
       "      <td>491918.0</td>\n",
       "    </tr>\n",
       "    <tr>\n",
       "      <th>3</th>\n",
       "      <td>New York City</td>\n",
       "      <td>NaN</td>\n",
       "    </tr>\n",
       "    <tr>\n",
       "      <th>4</th>\n",
       "      <td>Portland</td>\n",
       "      <td>653115.0</td>\n",
       "    </tr>\n",
       "    <tr>\n",
       "      <th>5</th>\n",
       "      <td>San Francisco</td>\n",
       "      <td>883305.0</td>\n",
       "    </tr>\n",
       "    <tr>\n",
       "      <th>6</th>\n",
       "      <td>Seattle</td>\n",
       "      <td>744955.0</td>\n",
       "    </tr>\n",
       "  </tbody>\n",
       "</table>\n",
       "</div>"
      ],
      "text/plain": [
       "       City Name  Population\n",
       "0        Atlanta    498044.0\n",
       "1           None    964254.0\n",
       "2    Kansas City    491918.0\n",
       "3  New York City         NaN\n",
       "4       Portland    653115.0\n",
       "5  San Francisco    883305.0\n",
       "6        Seattle    744955.0"
      ]
     },
     "metadata": {},
     "execution_count": 25
    }
   ],
   "metadata": {
    "colab": {},
    "colab_type": "code",
    "id": "fFqGfRRJQ7Kp"
   }
  },
  {
   "cell_type": "markdown",
   "source": [
    "If a dataset has many columns, it might be easier to exclude a column using a list expansion instead of explicitly listing many columns:"
   ],
   "metadata": {
    "colab_type": "text",
    "id": "unUW_uDUZ-0q"
   }
  },
  {
   "cell_type": "code",
   "execution_count": 26,
   "source": [
    "population_df = airport_df[\n",
    "  [col for col in airport_df.columns if col is not 'Airports']]\n",
    "\n",
    "population_df"
   ],
   "outputs": [
    {
     "output_type": "stream",
     "name": "stderr",
     "text": [
      "<>:2: SyntaxWarning: \"is not\" with a literal. Did you mean \"!=\"?\n",
      "<>:2: SyntaxWarning: \"is not\" with a literal. Did you mean \"!=\"?\n",
      "/var/folders/q7/wrxzkb515gqcskvhd38dwx6h0000gn/T/ipykernel_49274/1503548722.py:2: SyntaxWarning: \"is not\" with a literal. Did you mean \"!=\"?\n",
      "  [col for col in airport_df.columns if col is not 'Airports']]\n"
     ]
    },
    {
     "output_type": "execute_result",
     "data": {
      "text/html": [
       "<div>\n",
       "<style scoped>\n",
       "    .dataframe tbody tr th:only-of-type {\n",
       "        vertical-align: middle;\n",
       "    }\n",
       "\n",
       "    .dataframe tbody tr th {\n",
       "        vertical-align: top;\n",
       "    }\n",
       "\n",
       "    .dataframe thead th {\n",
       "        text-align: right;\n",
       "    }\n",
       "</style>\n",
       "<table border=\"1\" class=\"dataframe\">\n",
       "  <thead>\n",
       "    <tr style=\"text-align: right;\">\n",
       "      <th></th>\n",
       "      <th>City Name</th>\n",
       "      <th>Population</th>\n",
       "    </tr>\n",
       "  </thead>\n",
       "  <tbody>\n",
       "    <tr>\n",
       "      <th>0</th>\n",
       "      <td>Atlanta</td>\n",
       "      <td>498044.0</td>\n",
       "    </tr>\n",
       "    <tr>\n",
       "      <th>1</th>\n",
       "      <td>None</td>\n",
       "      <td>964254.0</td>\n",
       "    </tr>\n",
       "    <tr>\n",
       "      <th>2</th>\n",
       "      <td>Kansas City</td>\n",
       "      <td>491918.0</td>\n",
       "    </tr>\n",
       "    <tr>\n",
       "      <th>3</th>\n",
       "      <td>New York City</td>\n",
       "      <td>NaN</td>\n",
       "    </tr>\n",
       "    <tr>\n",
       "      <th>4</th>\n",
       "      <td>Portland</td>\n",
       "      <td>653115.0</td>\n",
       "    </tr>\n",
       "    <tr>\n",
       "      <th>5</th>\n",
       "      <td>San Francisco</td>\n",
       "      <td>883305.0</td>\n",
       "    </tr>\n",
       "    <tr>\n",
       "      <th>6</th>\n",
       "      <td>Seattle</td>\n",
       "      <td>744955.0</td>\n",
       "    </tr>\n",
       "  </tbody>\n",
       "</table>\n",
       "</div>"
      ],
      "text/plain": [
       "       City Name  Population\n",
       "0        Atlanta    498044.0\n",
       "1           None    964254.0\n",
       "2    Kansas City    491918.0\n",
       "3  New York City         NaN\n",
       "4       Portland    653115.0\n",
       "5  San Francisco    883305.0\n",
       "6        Seattle    744955.0"
      ]
     },
     "metadata": {},
     "execution_count": 26
    }
   ],
   "metadata": {
    "colab": {},
    "colab_type": "code",
    "id": "ZiBtFKUWZXSV"
   }
  },
  {
   "cell_type": "markdown",
   "source": [
    "This works for multiple columns also:"
   ],
   "metadata": {
    "colab_type": "text",
    "id": "-b4Pw5dYad9e"
   }
  },
  {
   "cell_type": "code",
   "execution_count": 27,
   "source": [
    "population_df = airport_df[\n",
    "  [col for col in airport_df.columns if col not in {'Airports', 'Population'}]]\n",
    "\n",
    "population_df"
   ],
   "outputs": [
    {
     "output_type": "execute_result",
     "data": {
      "text/html": [
       "<div>\n",
       "<style scoped>\n",
       "    .dataframe tbody tr th:only-of-type {\n",
       "        vertical-align: middle;\n",
       "    }\n",
       "\n",
       "    .dataframe tbody tr th {\n",
       "        vertical-align: top;\n",
       "    }\n",
       "\n",
       "    .dataframe thead th {\n",
       "        text-align: right;\n",
       "    }\n",
       "</style>\n",
       "<table border=\"1\" class=\"dataframe\">\n",
       "  <thead>\n",
       "    <tr style=\"text-align: right;\">\n",
       "      <th></th>\n",
       "      <th>City Name</th>\n",
       "    </tr>\n",
       "  </thead>\n",
       "  <tbody>\n",
       "    <tr>\n",
       "      <th>0</th>\n",
       "      <td>Atlanta</td>\n",
       "    </tr>\n",
       "    <tr>\n",
       "      <th>1</th>\n",
       "      <td>None</td>\n",
       "    </tr>\n",
       "    <tr>\n",
       "      <th>2</th>\n",
       "      <td>Kansas City</td>\n",
       "    </tr>\n",
       "    <tr>\n",
       "      <th>3</th>\n",
       "      <td>New York City</td>\n",
       "    </tr>\n",
       "    <tr>\n",
       "      <th>4</th>\n",
       "      <td>Portland</td>\n",
       "    </tr>\n",
       "    <tr>\n",
       "      <th>5</th>\n",
       "      <td>San Francisco</td>\n",
       "    </tr>\n",
       "    <tr>\n",
       "      <th>6</th>\n",
       "      <td>Seattle</td>\n",
       "    </tr>\n",
       "  </tbody>\n",
       "</table>\n",
       "</div>"
      ],
      "text/plain": [
       "       City Name\n",
       "0        Atlanta\n",
       "1           None\n",
       "2    Kansas City\n",
       "3  New York City\n",
       "4       Portland\n",
       "5  San Francisco\n",
       "6        Seattle"
      ]
     },
     "metadata": {},
     "execution_count": 27
    }
   ],
   "metadata": {
    "colab": {},
    "colab_type": "code",
    "id": "Mi5bmUWoagX8"
   }
  },
  {
   "cell_type": "markdown",
   "source": [
    "### Exercise 3: SoCal\n",
    "\n",
    "Using the California housing `DataFrame` from the previous unit, make a new `DataFrame` that only contains data from the southern part of California. What is 'southern'? For the purpose of this exercise, let's say that southern California includes everything below 36 degrees latitude. \n",
    "\n",
    "Create a new `DataFrame` called `socal_df` containing only data points below the 36 latitude. Then print out the shape of that `DataFrame`."
   ],
   "metadata": {
    "colab_type": "text",
    "id": "vIP0T0ZdX-o3"
   }
  },
  {
   "cell_type": "markdown",
   "source": [
    "**Student Solution**"
   ],
   "metadata": {
    "colab_type": "text",
    "id": "sgmmbVmmcK17"
   }
  },
  {
   "cell_type": "code",
   "execution_count": 28,
   "source": [
    "url = \"https://download.mlcc.google.com/mledu-datasets/california_housing_train.csv\"\n",
    "cali_df = pd.read_csv(url)\n",
    "#only data from the southern part of california-->everything below 36 degrees latitude\n",
    "social_df = cali_df\n",
    "social_df[social_df['latitude'] < 36]\n",
    "print (social_df.shape)\n",
    "#iterate through each row[latitude]\n",
    "\n",
    "\n",
    "# Your Code Goes here"
   ],
   "outputs": [
    {
     "output_type": "stream",
     "name": "stdout",
     "text": [
      "(17000, 9)\n"
     ]
    }
   ],
   "metadata": {
    "colab": {},
    "colab_type": "code",
    "id": "DoyOJDagZRRp"
   }
  },
  {
   "cell_type": "markdown",
   "source": [
    "---"
   ],
   "metadata": {
    "colab_type": "text",
    "id": "C_G3TvXRXLjY"
   }
  },
  {
   "cell_type": "markdown",
   "source": [
    "## Grouping Data"
   ],
   "metadata": {
    "colab_type": "text",
    "id": "SRBFJi0qS38z"
   }
  },
  {
   "cell_type": "markdown",
   "source": [
    "We can also aggregate `DataFrame` objects by grouping rows of data together.\n",
    "\n",
    "For our examples we will create a `DataFrame` containing the ages, heights, and weights of a sample of children:"
   ],
   "metadata": {
    "colab_type": "text",
    "id": "nv1ObGUeS6OB"
   }
  },
  {
   "cell_type": "code",
   "execution_count": 29,
   "source": [
    "import pandas as pd\n",
    "\n",
    "body_measurement_df = pd.DataFrame.from_records((\n",
    "  (2, 83.82, 8.4),\n",
    "  (4, 99.31, 16.97),\n",
    "  (3, 96.52, 14.41),\n",
    "  (6, 114.3, 20.14),\n",
    "  (4, 101.6, 16.91),\n",
    "  (2, 86.36, 12.64),\n",
    "  (3, 92.71, 14.23),\n",
    "  (2, 85.09, 11.11),\n",
    "  (2, 85.85, 14.18),\n",
    "  (5, 106.68, 20.01),\n",
    "  (4, 99.06, 13.17),\n",
    "  (5, 109.22, 15.36),\n",
    "  (4, 100.84, 14.78),\n",
    "  (6, 115.06, 20.06),\n",
    "  (2, 84.07, 10.02),\n",
    "  (7, 121.67, 28.4),\n",
    "  (3, 94.49, 14.05),\n",
    "  (6, 116.59, 17.55),\n",
    "  (7, 121.92, 22.96),\n",
    "), columns=(\"Age (yrs)\", \"Height (cm)\", \"Weight (kg)\"))\n",
    "\n",
    "body_measurement_df"
   ],
   "outputs": [
    {
     "output_type": "execute_result",
     "data": {
      "text/html": [
       "<div>\n",
       "<style scoped>\n",
       "    .dataframe tbody tr th:only-of-type {\n",
       "        vertical-align: middle;\n",
       "    }\n",
       "\n",
       "    .dataframe tbody tr th {\n",
       "        vertical-align: top;\n",
       "    }\n",
       "\n",
       "    .dataframe thead th {\n",
       "        text-align: right;\n",
       "    }\n",
       "</style>\n",
       "<table border=\"1\" class=\"dataframe\">\n",
       "  <thead>\n",
       "    <tr style=\"text-align: right;\">\n",
       "      <th></th>\n",
       "      <th>Age (yrs)</th>\n",
       "      <th>Height (cm)</th>\n",
       "      <th>Weight (kg)</th>\n",
       "    </tr>\n",
       "  </thead>\n",
       "  <tbody>\n",
       "    <tr>\n",
       "      <th>0</th>\n",
       "      <td>2</td>\n",
       "      <td>83.82</td>\n",
       "      <td>8.40</td>\n",
       "    </tr>\n",
       "    <tr>\n",
       "      <th>1</th>\n",
       "      <td>4</td>\n",
       "      <td>99.31</td>\n",
       "      <td>16.97</td>\n",
       "    </tr>\n",
       "    <tr>\n",
       "      <th>2</th>\n",
       "      <td>3</td>\n",
       "      <td>96.52</td>\n",
       "      <td>14.41</td>\n",
       "    </tr>\n",
       "    <tr>\n",
       "      <th>3</th>\n",
       "      <td>6</td>\n",
       "      <td>114.30</td>\n",
       "      <td>20.14</td>\n",
       "    </tr>\n",
       "    <tr>\n",
       "      <th>4</th>\n",
       "      <td>4</td>\n",
       "      <td>101.60</td>\n",
       "      <td>16.91</td>\n",
       "    </tr>\n",
       "    <tr>\n",
       "      <th>5</th>\n",
       "      <td>2</td>\n",
       "      <td>86.36</td>\n",
       "      <td>12.64</td>\n",
       "    </tr>\n",
       "    <tr>\n",
       "      <th>6</th>\n",
       "      <td>3</td>\n",
       "      <td>92.71</td>\n",
       "      <td>14.23</td>\n",
       "    </tr>\n",
       "    <tr>\n",
       "      <th>7</th>\n",
       "      <td>2</td>\n",
       "      <td>85.09</td>\n",
       "      <td>11.11</td>\n",
       "    </tr>\n",
       "    <tr>\n",
       "      <th>8</th>\n",
       "      <td>2</td>\n",
       "      <td>85.85</td>\n",
       "      <td>14.18</td>\n",
       "    </tr>\n",
       "    <tr>\n",
       "      <th>9</th>\n",
       "      <td>5</td>\n",
       "      <td>106.68</td>\n",
       "      <td>20.01</td>\n",
       "    </tr>\n",
       "    <tr>\n",
       "      <th>10</th>\n",
       "      <td>4</td>\n",
       "      <td>99.06</td>\n",
       "      <td>13.17</td>\n",
       "    </tr>\n",
       "    <tr>\n",
       "      <th>11</th>\n",
       "      <td>5</td>\n",
       "      <td>109.22</td>\n",
       "      <td>15.36</td>\n",
       "    </tr>\n",
       "    <tr>\n",
       "      <th>12</th>\n",
       "      <td>4</td>\n",
       "      <td>100.84</td>\n",
       "      <td>14.78</td>\n",
       "    </tr>\n",
       "    <tr>\n",
       "      <th>13</th>\n",
       "      <td>6</td>\n",
       "      <td>115.06</td>\n",
       "      <td>20.06</td>\n",
       "    </tr>\n",
       "    <tr>\n",
       "      <th>14</th>\n",
       "      <td>2</td>\n",
       "      <td>84.07</td>\n",
       "      <td>10.02</td>\n",
       "    </tr>\n",
       "    <tr>\n",
       "      <th>15</th>\n",
       "      <td>7</td>\n",
       "      <td>121.67</td>\n",
       "      <td>28.40</td>\n",
       "    </tr>\n",
       "    <tr>\n",
       "      <th>16</th>\n",
       "      <td>3</td>\n",
       "      <td>94.49</td>\n",
       "      <td>14.05</td>\n",
       "    </tr>\n",
       "    <tr>\n",
       "      <th>17</th>\n",
       "      <td>6</td>\n",
       "      <td>116.59</td>\n",
       "      <td>17.55</td>\n",
       "    </tr>\n",
       "    <tr>\n",
       "      <th>18</th>\n",
       "      <td>7</td>\n",
       "      <td>121.92</td>\n",
       "      <td>22.96</td>\n",
       "    </tr>\n",
       "  </tbody>\n",
       "</table>\n",
       "</div>"
      ],
      "text/plain": [
       "    Age (yrs)  Height (cm)  Weight (kg)\n",
       "0           2        83.82         8.40\n",
       "1           4        99.31        16.97\n",
       "2           3        96.52        14.41\n",
       "3           6       114.30        20.14\n",
       "4           4       101.60        16.91\n",
       "5           2        86.36        12.64\n",
       "6           3        92.71        14.23\n",
       "7           2        85.09        11.11\n",
       "8           2        85.85        14.18\n",
       "9           5       106.68        20.01\n",
       "10          4        99.06        13.17\n",
       "11          5       109.22        15.36\n",
       "12          4       100.84        14.78\n",
       "13          6       115.06        20.06\n",
       "14          2        84.07        10.02\n",
       "15          7       121.67        28.40\n",
       "16          3        94.49        14.05\n",
       "17          6       116.59        17.55\n",
       "18          7       121.92        22.96"
      ]
     },
     "metadata": {},
     "execution_count": 29
    }
   ],
   "metadata": {
    "colab": {},
    "colab_type": "code",
    "id": "nOOJZjqDUNYb"
   }
  },
  {
   "cell_type": "markdown",
   "source": [
    "As you can see, we have a fairly low-level dump of data. It is unsorted and is generally difficult to gain any insight from. We could group the data by age and find metrics such as the count, max, min, mean, median, and more. This information might be more easy to analyze.\n",
    "\n",
    "In order to do this grouping, we use the `groupby` method on the `DataFrame`.\n",
    "\n",
    "For instance, if we wanted to know the mean values for the columns for each year of age, we could run the following code:"
   ],
   "metadata": {
    "colab_type": "text",
    "id": "-CJqrV2usfEw"
   }
  },
  {
   "cell_type": "code",
   "execution_count": 30,
   "source": [
    "#means for the columns of age years -->height and weight\n",
    "body_measurement_df.groupby('Age (yrs)').mean()"
   ],
   "outputs": [
    {
     "output_type": "execute_result",
     "data": {
      "text/html": [
       "<div>\n",
       "<style scoped>\n",
       "    .dataframe tbody tr th:only-of-type {\n",
       "        vertical-align: middle;\n",
       "    }\n",
       "\n",
       "    .dataframe tbody tr th {\n",
       "        vertical-align: top;\n",
       "    }\n",
       "\n",
       "    .dataframe thead th {\n",
       "        text-align: right;\n",
       "    }\n",
       "</style>\n",
       "<table border=\"1\" class=\"dataframe\">\n",
       "  <thead>\n",
       "    <tr style=\"text-align: right;\">\n",
       "      <th></th>\n",
       "      <th>Height (cm)</th>\n",
       "      <th>Weight (kg)</th>\n",
       "    </tr>\n",
       "    <tr>\n",
       "      <th>Age (yrs)</th>\n",
       "      <th></th>\n",
       "      <th></th>\n",
       "    </tr>\n",
       "  </thead>\n",
       "  <tbody>\n",
       "    <tr>\n",
       "      <th>2</th>\n",
       "      <td>85.038000</td>\n",
       "      <td>11.2700</td>\n",
       "    </tr>\n",
       "    <tr>\n",
       "      <th>3</th>\n",
       "      <td>94.573333</td>\n",
       "      <td>14.2300</td>\n",
       "    </tr>\n",
       "    <tr>\n",
       "      <th>4</th>\n",
       "      <td>100.202500</td>\n",
       "      <td>15.4575</td>\n",
       "    </tr>\n",
       "    <tr>\n",
       "      <th>5</th>\n",
       "      <td>107.950000</td>\n",
       "      <td>17.6850</td>\n",
       "    </tr>\n",
       "    <tr>\n",
       "      <th>6</th>\n",
       "      <td>115.316667</td>\n",
       "      <td>19.2500</td>\n",
       "    </tr>\n",
       "    <tr>\n",
       "      <th>7</th>\n",
       "      <td>121.795000</td>\n",
       "      <td>25.6800</td>\n",
       "    </tr>\n",
       "  </tbody>\n",
       "</table>\n",
       "</div>"
      ],
      "text/plain": [
       "           Height (cm)  Weight (kg)\n",
       "Age (yrs)                          \n",
       "2            85.038000      11.2700\n",
       "3            94.573333      14.2300\n",
       "4           100.202500      15.4575\n",
       "5           107.950000      17.6850\n",
       "6           115.316667      19.2500\n",
       "7           121.795000      25.6800"
      ]
     },
     "metadata": {},
     "execution_count": 30
    }
   ],
   "metadata": {
    "colab": {},
    "colab_type": "code",
    "id": "uwdzP6gTWT_h"
   }
  },
  {
   "cell_type": "markdown",
   "source": [
    "We get a `DataFrame` sorted by the column that we chose to group by. The 'Height (cm)' and 'Weight (kg)' columns now represent the mean height and weight for each age represented in our dataset.\n",
    "\n",
    "Looking at this data, you can now see a steady increase in height and weight as age increases, which is what you are likely to expect.\n",
    "\n",
    "You might notice here that the 'Age (yrs)' column looks a little different. It is now not a regular column, but is instead an index column.\n",
    "\n",
    "Let's see what this means by saving the grouped data into a new `DataFrame`:"
   ],
   "metadata": {
    "colab_type": "text",
    "id": "h-JbY4OzW5Ds"
   }
  },
  {
   "cell_type": "code",
   "execution_count": 31,
   "source": [
    "mean_body_measurement_df = body_measurement_df.groupby('Age (yrs)').mean()\n",
    "\n",
    "mean_body_measurement_df.columns"
   ],
   "outputs": [
    {
     "output_type": "execute_result",
     "data": {
      "text/plain": [
       "Index(['Height (cm)', 'Weight (kg)'], dtype='object')"
      ]
     },
     "metadata": {},
     "execution_count": 31
    }
   ],
   "metadata": {
    "colab": {},
    "colab_type": "code",
    "id": "bME3NRjzdskw"
   }
  },
  {
   "cell_type": "markdown",
   "source": [
    "You'll notice that 'Age (yrs)' is no longer listed as a column. In order to access the age you instead have to use the `.index` property of the `DataFrame`.\n",
    "\n",
    "Note that we get an `Int64Index` object back and not a `Series` as we would if we referenced a single column."
   ],
   "metadata": {
    "colab_type": "text",
    "id": "QE7b6thod1vo"
   }
  },
  {
   "cell_type": "code",
   "execution_count": 32,
   "source": [
    "mean_body_measurement_df.index"
   ],
   "outputs": [
    {
     "output_type": "execute_result",
     "data": {
      "text/plain": [
       "Int64Index([2, 3, 4, 5, 6, 7], dtype='int64', name='Age (yrs)')"
      ]
     },
     "metadata": {},
     "execution_count": 32
    }
   ],
   "metadata": {
    "colab": {},
    "colab_type": "code",
    "id": "cyV4hb42eBhf"
   }
  },
  {
   "cell_type": "markdown",
   "source": [
    "\n",
    "We aren't restricted to just using `mean()`. There are many other aggregate functions that we could use, including `max()`, which gives us the largest sample in each grouping:"
   ],
   "metadata": {
    "colab_type": "text",
    "id": "4ySz5KfpdbBx"
   }
  },
  {
   "cell_type": "code",
   "execution_count": 33,
   "source": [
    "body_measurement_df.groupby('Age (yrs)').max()"
   ],
   "outputs": [
    {
     "output_type": "execute_result",
     "data": {
      "text/html": [
       "<div>\n",
       "<style scoped>\n",
       "    .dataframe tbody tr th:only-of-type {\n",
       "        vertical-align: middle;\n",
       "    }\n",
       "\n",
       "    .dataframe tbody tr th {\n",
       "        vertical-align: top;\n",
       "    }\n",
       "\n",
       "    .dataframe thead th {\n",
       "        text-align: right;\n",
       "    }\n",
       "</style>\n",
       "<table border=\"1\" class=\"dataframe\">\n",
       "  <thead>\n",
       "    <tr style=\"text-align: right;\">\n",
       "      <th></th>\n",
       "      <th>Height (cm)</th>\n",
       "      <th>Weight (kg)</th>\n",
       "    </tr>\n",
       "    <tr>\n",
       "      <th>Age (yrs)</th>\n",
       "      <th></th>\n",
       "      <th></th>\n",
       "    </tr>\n",
       "  </thead>\n",
       "  <tbody>\n",
       "    <tr>\n",
       "      <th>2</th>\n",
       "      <td>86.36</td>\n",
       "      <td>14.18</td>\n",
       "    </tr>\n",
       "    <tr>\n",
       "      <th>3</th>\n",
       "      <td>96.52</td>\n",
       "      <td>14.41</td>\n",
       "    </tr>\n",
       "    <tr>\n",
       "      <th>4</th>\n",
       "      <td>101.60</td>\n",
       "      <td>16.97</td>\n",
       "    </tr>\n",
       "    <tr>\n",
       "      <th>5</th>\n",
       "      <td>109.22</td>\n",
       "      <td>20.01</td>\n",
       "    </tr>\n",
       "    <tr>\n",
       "      <th>6</th>\n",
       "      <td>116.59</td>\n",
       "      <td>20.14</td>\n",
       "    </tr>\n",
       "    <tr>\n",
       "      <th>7</th>\n",
       "      <td>121.92</td>\n",
       "      <td>28.40</td>\n",
       "    </tr>\n",
       "  </tbody>\n",
       "</table>\n",
       "</div>"
      ],
      "text/plain": [
       "           Height (cm)  Weight (kg)\n",
       "Age (yrs)                          \n",
       "2                86.36        14.18\n",
       "3                96.52        14.41\n",
       "4               101.60        16.97\n",
       "5               109.22        20.01\n",
       "6               116.59        20.14\n",
       "7               121.92        28.40"
      ]
     },
     "metadata": {},
     "execution_count": 33
    }
   ],
   "metadata": {
    "colab": {},
    "colab_type": "code",
    "id": "lWWI17h5cKGy"
   }
  },
  {
   "cell_type": "markdown",
   "source": [
    "And `min()` which gives the smallest value in each grouping:"
   ],
   "metadata": {
    "colab_type": "text",
    "id": "MpOjED6FcNFA"
   }
  },
  {
   "cell_type": "code",
   "execution_count": 34,
   "source": [
    "body_measurement_df.groupby('Age (yrs)').min()"
   ],
   "outputs": [
    {
     "output_type": "execute_result",
     "data": {
      "text/html": [
       "<div>\n",
       "<style scoped>\n",
       "    .dataframe tbody tr th:only-of-type {\n",
       "        vertical-align: middle;\n",
       "    }\n",
       "\n",
       "    .dataframe tbody tr th {\n",
       "        vertical-align: top;\n",
       "    }\n",
       "\n",
       "    .dataframe thead th {\n",
       "        text-align: right;\n",
       "    }\n",
       "</style>\n",
       "<table border=\"1\" class=\"dataframe\">\n",
       "  <thead>\n",
       "    <tr style=\"text-align: right;\">\n",
       "      <th></th>\n",
       "      <th>Height (cm)</th>\n",
       "      <th>Weight (kg)</th>\n",
       "    </tr>\n",
       "    <tr>\n",
       "      <th>Age (yrs)</th>\n",
       "      <th></th>\n",
       "      <th></th>\n",
       "    </tr>\n",
       "  </thead>\n",
       "  <tbody>\n",
       "    <tr>\n",
       "      <th>2</th>\n",
       "      <td>83.82</td>\n",
       "      <td>8.40</td>\n",
       "    </tr>\n",
       "    <tr>\n",
       "      <th>3</th>\n",
       "      <td>92.71</td>\n",
       "      <td>14.05</td>\n",
       "    </tr>\n",
       "    <tr>\n",
       "      <th>4</th>\n",
       "      <td>99.06</td>\n",
       "      <td>13.17</td>\n",
       "    </tr>\n",
       "    <tr>\n",
       "      <th>5</th>\n",
       "      <td>106.68</td>\n",
       "      <td>15.36</td>\n",
       "    </tr>\n",
       "    <tr>\n",
       "      <th>6</th>\n",
       "      <td>114.30</td>\n",
       "      <td>17.55</td>\n",
       "    </tr>\n",
       "    <tr>\n",
       "      <th>7</th>\n",
       "      <td>121.67</td>\n",
       "      <td>22.96</td>\n",
       "    </tr>\n",
       "  </tbody>\n",
       "</table>\n",
       "</div>"
      ],
      "text/plain": [
       "           Height (cm)  Weight (kg)\n",
       "Age (yrs)                          \n",
       "2                83.82         8.40\n",
       "3                92.71        14.05\n",
       "4                99.06        13.17\n",
       "5               106.68        15.36\n",
       "6               114.30        17.55\n",
       "7               121.67        22.96"
      ]
     },
     "metadata": {},
     "execution_count": 34
    }
   ],
   "metadata": {
    "colab": {},
    "colab_type": "code",
    "id": "En439mp5cQ8y"
   }
  },
  {
   "cell_type": "markdown",
   "source": [
    "There are many other aggregate functions. You can see the entire list in the [`GroupBy` documentation](https://pandas.pydata.org/pandas-docs/stable/reference/groupby.html)."
   ],
   "metadata": {
    "colab_type": "text",
    "id": "TBy8K-w4cTvU"
   }
  },
  {
   "cell_type": "markdown",
   "source": [
    "Sometimes performing a single aggregation across all columns is limiting. What if you want the mean of one column and the max of another? What if you want to perform multiple aggregations on one column?\n",
    "\n",
    "You can perform different and multiple aggregations using the `agg()` function:"
   ],
   "metadata": {
    "colab_type": "text",
    "id": "jRSPayIbP5b1"
   }
  },
  {
   "cell_type": "code",
   "execution_count": 35,
   "source": [
    "body_measurement_df.groupby('Age (yrs)').agg({\n",
    "    'Height (cm)': 'mean',\n",
    "    'Weight (kg)': ['max', 'min'],\n",
    "})"
   ],
   "outputs": [
    {
     "output_type": "execute_result",
     "data": {
      "text/html": [
       "<div>\n",
       "<style scoped>\n",
       "    .dataframe tbody tr th:only-of-type {\n",
       "        vertical-align: middle;\n",
       "    }\n",
       "\n",
       "    .dataframe tbody tr th {\n",
       "        vertical-align: top;\n",
       "    }\n",
       "\n",
       "    .dataframe thead tr th {\n",
       "        text-align: left;\n",
       "    }\n",
       "\n",
       "    .dataframe thead tr:last-of-type th {\n",
       "        text-align: right;\n",
       "    }\n",
       "</style>\n",
       "<table border=\"1\" class=\"dataframe\">\n",
       "  <thead>\n",
       "    <tr>\n",
       "      <th></th>\n",
       "      <th>Height (cm)</th>\n",
       "      <th colspan=\"2\" halign=\"left\">Weight (kg)</th>\n",
       "    </tr>\n",
       "    <tr>\n",
       "      <th></th>\n",
       "      <th>mean</th>\n",
       "      <th>max</th>\n",
       "      <th>min</th>\n",
       "    </tr>\n",
       "    <tr>\n",
       "      <th>Age (yrs)</th>\n",
       "      <th></th>\n",
       "      <th></th>\n",
       "      <th></th>\n",
       "    </tr>\n",
       "  </thead>\n",
       "  <tbody>\n",
       "    <tr>\n",
       "      <th>2</th>\n",
       "      <td>85.038000</td>\n",
       "      <td>14.18</td>\n",
       "      <td>8.40</td>\n",
       "    </tr>\n",
       "    <tr>\n",
       "      <th>3</th>\n",
       "      <td>94.573333</td>\n",
       "      <td>14.41</td>\n",
       "      <td>14.05</td>\n",
       "    </tr>\n",
       "    <tr>\n",
       "      <th>4</th>\n",
       "      <td>100.202500</td>\n",
       "      <td>16.97</td>\n",
       "      <td>13.17</td>\n",
       "    </tr>\n",
       "    <tr>\n",
       "      <th>5</th>\n",
       "      <td>107.950000</td>\n",
       "      <td>20.01</td>\n",
       "      <td>15.36</td>\n",
       "    </tr>\n",
       "    <tr>\n",
       "      <th>6</th>\n",
       "      <td>115.316667</td>\n",
       "      <td>20.14</td>\n",
       "      <td>17.55</td>\n",
       "    </tr>\n",
       "    <tr>\n",
       "      <th>7</th>\n",
       "      <td>121.795000</td>\n",
       "      <td>28.40</td>\n",
       "      <td>22.96</td>\n",
       "    </tr>\n",
       "  </tbody>\n",
       "</table>\n",
       "</div>"
      ],
      "text/plain": [
       "          Height (cm) Weight (kg)       \n",
       "                 mean         max    min\n",
       "Age (yrs)                               \n",
       "2           85.038000       14.18   8.40\n",
       "3           94.573333       14.41  14.05\n",
       "4          100.202500       16.97  13.17\n",
       "5          107.950000       20.01  15.36\n",
       "6          115.316667       20.14  17.55\n",
       "7          121.795000       28.40  22.96"
      ]
     },
     "metadata": {},
     "execution_count": 35
    }
   ],
   "metadata": {
    "colab": {},
    "colab_type": "code",
    "id": "S76LCG4eQXKr"
   }
  },
  {
   "cell_type": "markdown",
   "source": [
    "As you can see, `agg()` accepts a dictionary. The keys are the columns that you want to aggregate. The values are either a single aggregation function name or lists of aggregation function names."
   ],
   "metadata": {
    "colab_type": "text",
    "id": "IKN9RN8SpyYV"
   }
  },
  {
   "cell_type": "markdown",
   "source": [
    "### Exercise 4: Grouping\n",
    "\n",
    "Given the body measurement dataset in a `DataFrame`, group the data by 'Age (yrs)' and find the following aggregations using the `agg()` function:\n",
    "\n",
    "* 'Age (yrs)' count\n",
    "* 'Height (cm)' min\n",
    "* 'Height (cm)' max\n",
    "* 'Height (cm)' mean\n",
    "* 'Height (cm)' standard deviation\n",
    "* 'Weight (kg)' min\n",
    "* 'Weight (kg)' max\n",
    "* 'Weight (kg)' mean\n",
    "* 'Weight (kg)' standard deviation\n"
   ],
   "metadata": {
    "colab_type": "text",
    "id": "5ye5dnYuqBY0"
   }
  },
  {
   "cell_type": "markdown",
   "source": [
    "**Student Solution**"
   ],
   "metadata": {
    "colab_type": "text",
    "id": "BnP-BOCMrS3j"
   }
  },
  {
   "cell_type": "code",
   "execution_count": 36,
   "source": [
    "import pandas as pd\n",
    "\n",
    "body_measurement_df = pd.DataFrame.from_records((\n",
    "  (2, 83.82, 8.4),\n",
    "  (4, 99.31, 16.97),\n",
    "  (3, 96.52, 14.41),\n",
    "  (6, 114.3, 20.14),\n",
    "  (4, 101.6, 16.91),\n",
    "  (2, 86.36, 12.64),\n",
    "  (3, 92.71, 14.23),\n",
    "  (2, 85.09, 11.11),\n",
    "  (2, 85.85, 14.18),\n",
    "  (5, 106.68, 20.01),\n",
    "  (4, 99.06, 13.17),\n",
    "  (5, 109.22, 15.36),\n",
    "  (4, 100.84, 14.78),\n",
    "  (6, 115.06, 20.06),\n",
    "  (2, 84.07, 10.02),\n",
    "  (7, 121.67, 28.4),\n",
    "  (3, 94.49, 14.05),\n",
    "  (6, 116.59, 17.55),\n",
    "  (7, 121.92, 22.96),\n",
    "), columns=(\"Age (yrs)\", \"Height (cm)\", \"Weight (kg)\"))\n",
    "\n",
    "body_measurement_df\n",
    "dict ={'Height (cm)': ['min', 'max','mean', 'std'],\n",
    "      'Weight (kg)': ['min', 'max','mean', 'std'],\n",
    "}\n",
    "\n",
    "\n",
    "\n",
    "body_measurement_df.groupby('Age (yrs)').agg(dict)\n",
    "# Your Solution Goes Here"
   ],
   "outputs": [
    {
     "output_type": "execute_result",
     "data": {
      "text/html": [
       "<div>\n",
       "<style scoped>\n",
       "    .dataframe tbody tr th:only-of-type {\n",
       "        vertical-align: middle;\n",
       "    }\n",
       "\n",
       "    .dataframe tbody tr th {\n",
       "        vertical-align: top;\n",
       "    }\n",
       "\n",
       "    .dataframe thead tr th {\n",
       "        text-align: left;\n",
       "    }\n",
       "\n",
       "    .dataframe thead tr:last-of-type th {\n",
       "        text-align: right;\n",
       "    }\n",
       "</style>\n",
       "<table border=\"1\" class=\"dataframe\">\n",
       "  <thead>\n",
       "    <tr>\n",
       "      <th></th>\n",
       "      <th colspan=\"4\" halign=\"left\">Height (cm)</th>\n",
       "      <th colspan=\"4\" halign=\"left\">Weight (kg)</th>\n",
       "    </tr>\n",
       "    <tr>\n",
       "      <th></th>\n",
       "      <th>min</th>\n",
       "      <th>max</th>\n",
       "      <th>mean</th>\n",
       "      <th>std</th>\n",
       "      <th>min</th>\n",
       "      <th>max</th>\n",
       "      <th>mean</th>\n",
       "      <th>std</th>\n",
       "    </tr>\n",
       "    <tr>\n",
       "      <th>Age (yrs)</th>\n",
       "      <th></th>\n",
       "      <th></th>\n",
       "      <th></th>\n",
       "      <th></th>\n",
       "      <th></th>\n",
       "      <th></th>\n",
       "      <th></th>\n",
       "      <th></th>\n",
       "    </tr>\n",
       "  </thead>\n",
       "  <tbody>\n",
       "    <tr>\n",
       "      <th>2</th>\n",
       "      <td>83.82</td>\n",
       "      <td>86.36</td>\n",
       "      <td>85.038000</td>\n",
       "      <td>1.098895</td>\n",
       "      <td>8.40</td>\n",
       "      <td>14.18</td>\n",
       "      <td>11.2700</td>\n",
       "      <td>2.245551</td>\n",
       "    </tr>\n",
       "    <tr>\n",
       "      <th>3</th>\n",
       "      <td>92.71</td>\n",
       "      <td>96.52</td>\n",
       "      <td>94.573333</td>\n",
       "      <td>1.906367</td>\n",
       "      <td>14.05</td>\n",
       "      <td>14.41</td>\n",
       "      <td>14.2300</td>\n",
       "      <td>0.180000</td>\n",
       "    </tr>\n",
       "    <tr>\n",
       "      <th>4</th>\n",
       "      <td>99.06</td>\n",
       "      <td>101.60</td>\n",
       "      <td>100.202500</td>\n",
       "      <td>1.219464</td>\n",
       "      <td>13.17</td>\n",
       "      <td>16.97</td>\n",
       "      <td>15.4575</td>\n",
       "      <td>1.833855</td>\n",
       "    </tr>\n",
       "    <tr>\n",
       "      <th>5</th>\n",
       "      <td>106.68</td>\n",
       "      <td>109.22</td>\n",
       "      <td>107.950000</td>\n",
       "      <td>1.796051</td>\n",
       "      <td>15.36</td>\n",
       "      <td>20.01</td>\n",
       "      <td>17.6850</td>\n",
       "      <td>3.288047</td>\n",
       "    </tr>\n",
       "    <tr>\n",
       "      <th>6</th>\n",
       "      <td>114.30</td>\n",
       "      <td>116.59</td>\n",
       "      <td>115.316667</td>\n",
       "      <td>1.166376</td>\n",
       "      <td>17.55</td>\n",
       "      <td>20.14</td>\n",
       "      <td>19.2500</td>\n",
       "      <td>1.472786</td>\n",
       "    </tr>\n",
       "    <tr>\n",
       "      <th>7</th>\n",
       "      <td>121.67</td>\n",
       "      <td>121.92</td>\n",
       "      <td>121.795000</td>\n",
       "      <td>0.176777</td>\n",
       "      <td>22.96</td>\n",
       "      <td>28.40</td>\n",
       "      <td>25.6800</td>\n",
       "      <td>3.846661</td>\n",
       "    </tr>\n",
       "  </tbody>\n",
       "</table>\n",
       "</div>"
      ],
      "text/plain": [
       "          Height (cm)                               Weight (kg)         \\\n",
       "                  min     max        mean       std         min    max   \n",
       "Age (yrs)                                                                \n",
       "2               83.82   86.36   85.038000  1.098895        8.40  14.18   \n",
       "3               92.71   96.52   94.573333  1.906367       14.05  14.41   \n",
       "4               99.06  101.60  100.202500  1.219464       13.17  16.97   \n",
       "5              106.68  109.22  107.950000  1.796051       15.36  20.01   \n",
       "6              114.30  116.59  115.316667  1.166376       17.55  20.14   \n",
       "7              121.67  121.92  121.795000  0.176777       22.96  28.40   \n",
       "\n",
       "                              \n",
       "              mean       std  \n",
       "Age (yrs)                     \n",
       "2          11.2700  2.245551  \n",
       "3          14.2300  0.180000  \n",
       "4          15.4575  1.833855  \n",
       "5          17.6850  3.288047  \n",
       "6          19.2500  1.472786  \n",
       "7          25.6800  3.846661  "
      ]
     },
     "metadata": {},
     "execution_count": 36
    }
   ],
   "metadata": {
    "colab": {},
    "colab_type": "code",
    "id": "FVEHgjt_rVro"
   }
  },
  {
   "cell_type": "markdown",
   "source": [
    "---"
   ],
   "metadata": {
    "colab_type": "text",
    "id": "2fkrClixratI"
   }
  },
  {
   "cell_type": "markdown",
   "source": [
    "## Merging Data"
   ],
   "metadata": {
    "colab_type": "text",
    "id": "ad_H5eYvTDba"
   }
  },
  {
   "cell_type": "markdown",
   "source": [
    "It is common for related data to be stored in different locations. When this happens you sometimes need to merge the data into a single `DataFrame` in order to work with all of the data in an easy manner.\n",
    "\n",
    "Let's take a look at some data about popular desserts. First, we have nutritional information:"
   ],
   "metadata": {
    "colab_type": "text",
    "id": "cW4jfRDgTn-T"
   }
  },
  {
   "cell_type": "code",
   "execution_count": 37,
   "source": [
    "import pandas as pd\n",
    "\n",
    "nutrition_information_df = pd.DataFrame.from_records((\n",
    "  ('Cupcake', 178, 5.26, 32.54, 1.37),\n",
    "  ('Donut', 190, 10.51, 21.62, 2.62),\n",
    "  ('Eclair', 267, 16.01, 24.68, 6.53),\n",
    "  ('Froyo', 214, 2.94, 39.24, 9.4),\n",
    "  ('Gingerbread', 130, 5, 19, 2),\n",
    "  ('Honeycomb', 190, 13, 23, 2),\n",
    "  ('Ice Cream Sandwich', 143, 5.6, 21.75, 2.61),\n",
    "  ('Jelly Bean', 100, 0, 25, 0),\n",
    "  ('KitKat', 210, 11, 27, 3),\n",
    "  ('Lollipop', 110, 0, 28, 0),\n",
    "  ('Marshmallow', 100, 0, 24, 1),\n",
    "  ('Nougat', 56, 0.23, 12.93, 0.47),\n",
    "  ('Oreo', 160, 7, 25, 1),\n",
    "  ('Pie', 356, 16.5, 51, 2.85),\n",
    "), columns=('Name', 'Calories', 'Fat (g)', 'Carbs (g)', 'Protein (g)'))\n",
    "\n",
    "nutrition_information_df"
   ],
   "outputs": [
    {
     "output_type": "execute_result",
     "data": {
      "text/html": [
       "<div>\n",
       "<style scoped>\n",
       "    .dataframe tbody tr th:only-of-type {\n",
       "        vertical-align: middle;\n",
       "    }\n",
       "\n",
       "    .dataframe tbody tr th {\n",
       "        vertical-align: top;\n",
       "    }\n",
       "\n",
       "    .dataframe thead th {\n",
       "        text-align: right;\n",
       "    }\n",
       "</style>\n",
       "<table border=\"1\" class=\"dataframe\">\n",
       "  <thead>\n",
       "    <tr style=\"text-align: right;\">\n",
       "      <th></th>\n",
       "      <th>Name</th>\n",
       "      <th>Calories</th>\n",
       "      <th>Fat (g)</th>\n",
       "      <th>Carbs (g)</th>\n",
       "      <th>Protein (g)</th>\n",
       "    </tr>\n",
       "  </thead>\n",
       "  <tbody>\n",
       "    <tr>\n",
       "      <th>0</th>\n",
       "      <td>Cupcake</td>\n",
       "      <td>178</td>\n",
       "      <td>5.26</td>\n",
       "      <td>32.54</td>\n",
       "      <td>1.37</td>\n",
       "    </tr>\n",
       "    <tr>\n",
       "      <th>1</th>\n",
       "      <td>Donut</td>\n",
       "      <td>190</td>\n",
       "      <td>10.51</td>\n",
       "      <td>21.62</td>\n",
       "      <td>2.62</td>\n",
       "    </tr>\n",
       "    <tr>\n",
       "      <th>2</th>\n",
       "      <td>Eclair</td>\n",
       "      <td>267</td>\n",
       "      <td>16.01</td>\n",
       "      <td>24.68</td>\n",
       "      <td>6.53</td>\n",
       "    </tr>\n",
       "    <tr>\n",
       "      <th>3</th>\n",
       "      <td>Froyo</td>\n",
       "      <td>214</td>\n",
       "      <td>2.94</td>\n",
       "      <td>39.24</td>\n",
       "      <td>9.40</td>\n",
       "    </tr>\n",
       "    <tr>\n",
       "      <th>4</th>\n",
       "      <td>Gingerbread</td>\n",
       "      <td>130</td>\n",
       "      <td>5.00</td>\n",
       "      <td>19.00</td>\n",
       "      <td>2.00</td>\n",
       "    </tr>\n",
       "    <tr>\n",
       "      <th>5</th>\n",
       "      <td>Honeycomb</td>\n",
       "      <td>190</td>\n",
       "      <td>13.00</td>\n",
       "      <td>23.00</td>\n",
       "      <td>2.00</td>\n",
       "    </tr>\n",
       "    <tr>\n",
       "      <th>6</th>\n",
       "      <td>Ice Cream Sandwich</td>\n",
       "      <td>143</td>\n",
       "      <td>5.60</td>\n",
       "      <td>21.75</td>\n",
       "      <td>2.61</td>\n",
       "    </tr>\n",
       "    <tr>\n",
       "      <th>7</th>\n",
       "      <td>Jelly Bean</td>\n",
       "      <td>100</td>\n",
       "      <td>0.00</td>\n",
       "      <td>25.00</td>\n",
       "      <td>0.00</td>\n",
       "    </tr>\n",
       "    <tr>\n",
       "      <th>8</th>\n",
       "      <td>KitKat</td>\n",
       "      <td>210</td>\n",
       "      <td>11.00</td>\n",
       "      <td>27.00</td>\n",
       "      <td>3.00</td>\n",
       "    </tr>\n",
       "    <tr>\n",
       "      <th>9</th>\n",
       "      <td>Lollipop</td>\n",
       "      <td>110</td>\n",
       "      <td>0.00</td>\n",
       "      <td>28.00</td>\n",
       "      <td>0.00</td>\n",
       "    </tr>\n",
       "    <tr>\n",
       "      <th>10</th>\n",
       "      <td>Marshmallow</td>\n",
       "      <td>100</td>\n",
       "      <td>0.00</td>\n",
       "      <td>24.00</td>\n",
       "      <td>1.00</td>\n",
       "    </tr>\n",
       "    <tr>\n",
       "      <th>11</th>\n",
       "      <td>Nougat</td>\n",
       "      <td>56</td>\n",
       "      <td>0.23</td>\n",
       "      <td>12.93</td>\n",
       "      <td>0.47</td>\n",
       "    </tr>\n",
       "    <tr>\n",
       "      <th>12</th>\n",
       "      <td>Oreo</td>\n",
       "      <td>160</td>\n",
       "      <td>7.00</td>\n",
       "      <td>25.00</td>\n",
       "      <td>1.00</td>\n",
       "    </tr>\n",
       "    <tr>\n",
       "      <th>13</th>\n",
       "      <td>Pie</td>\n",
       "      <td>356</td>\n",
       "      <td>16.50</td>\n",
       "      <td>51.00</td>\n",
       "      <td>2.85</td>\n",
       "    </tr>\n",
       "  </tbody>\n",
       "</table>\n",
       "</div>"
      ],
      "text/plain": [
       "                  Name  Calories  Fat (g)  Carbs (g)  Protein (g)\n",
       "0              Cupcake       178     5.26      32.54         1.37\n",
       "1                Donut       190    10.51      21.62         2.62\n",
       "2               Eclair       267    16.01      24.68         6.53\n",
       "3                Froyo       214     2.94      39.24         9.40\n",
       "4          Gingerbread       130     5.00      19.00         2.00\n",
       "5            Honeycomb       190    13.00      23.00         2.00\n",
       "6   Ice Cream Sandwich       143     5.60      21.75         2.61\n",
       "7           Jelly Bean       100     0.00      25.00         0.00\n",
       "8               KitKat       210    11.00      27.00         3.00\n",
       "9             Lollipop       110     0.00      28.00         0.00\n",
       "10         Marshmallow       100     0.00      24.00         1.00\n",
       "11              Nougat        56     0.23      12.93         0.47\n",
       "12                Oreo       160     7.00      25.00         1.00\n",
       "13                 Pie       356    16.50      51.00         2.85"
      ]
     },
     "metadata": {},
     "execution_count": 37
    }
   ],
   "metadata": {
    "colab": {},
    "colab_type": "code",
    "id": "PtgzWRngsvjy"
   }
  },
  {
   "cell_type": "markdown",
   "source": [
    "We also have data about the manufacturing costs and the retail price of each of the desserts:"
   ],
   "metadata": {
    "colab_type": "text",
    "id": "10ezmFWFx5Tf"
   }
  },
  {
   "cell_type": "code",
   "execution_count": 38,
   "source": [
    "import pandas as pd\n",
    "\n",
    "costs_df = pd.DataFrame.from_records((\n",
    "  ('Cupcake', 1.24, 4.50),\n",
    "  ('Donut', 0.17, 0.99),\n",
    "  ('Eclair', 0.54, 2.50),\n",
    "  ('Froyo', 0.78, 3.50),\n",
    "  ('Gingerbread', 0.45, 0.99),\n",
    "  ('Honeycomb', 1.25, 3.00),\n",
    "  ('Ice Cream Sandwich', 1.21, 2.99),\n",
    "  ('Jelly Bean', 0.04, 0.99),\n",
    "  ('KitKat', 0.33, 1.50),\n",
    "  ('Lollipop', 0.11, 1.10),\n",
    "  ('Marshmallow', 0.03, 0.50),\n",
    "  ('Nougat', 0.75, 1.50),\n",
    "  ('Oreo', 0.78, 2.00),\n",
    "  ('Pie', 0.66, 2.25),\n",
    "), columns=('Name', 'Manufacturing (USD)', 'Retail (USD)'))\n",
    "\n",
    "costs_df"
   ],
   "outputs": [
    {
     "output_type": "execute_result",
     "data": {
      "text/html": [
       "<div>\n",
       "<style scoped>\n",
       "    .dataframe tbody tr th:only-of-type {\n",
       "        vertical-align: middle;\n",
       "    }\n",
       "\n",
       "    .dataframe tbody tr th {\n",
       "        vertical-align: top;\n",
       "    }\n",
       "\n",
       "    .dataframe thead th {\n",
       "        text-align: right;\n",
       "    }\n",
       "</style>\n",
       "<table border=\"1\" class=\"dataframe\">\n",
       "  <thead>\n",
       "    <tr style=\"text-align: right;\">\n",
       "      <th></th>\n",
       "      <th>Name</th>\n",
       "      <th>Manufacturing (USD)</th>\n",
       "      <th>Retail (USD)</th>\n",
       "    </tr>\n",
       "  </thead>\n",
       "  <tbody>\n",
       "    <tr>\n",
       "      <th>0</th>\n",
       "      <td>Cupcake</td>\n",
       "      <td>1.24</td>\n",
       "      <td>4.50</td>\n",
       "    </tr>\n",
       "    <tr>\n",
       "      <th>1</th>\n",
       "      <td>Donut</td>\n",
       "      <td>0.17</td>\n",
       "      <td>0.99</td>\n",
       "    </tr>\n",
       "    <tr>\n",
       "      <th>2</th>\n",
       "      <td>Eclair</td>\n",
       "      <td>0.54</td>\n",
       "      <td>2.50</td>\n",
       "    </tr>\n",
       "    <tr>\n",
       "      <th>3</th>\n",
       "      <td>Froyo</td>\n",
       "      <td>0.78</td>\n",
       "      <td>3.50</td>\n",
       "    </tr>\n",
       "    <tr>\n",
       "      <th>4</th>\n",
       "      <td>Gingerbread</td>\n",
       "      <td>0.45</td>\n",
       "      <td>0.99</td>\n",
       "    </tr>\n",
       "    <tr>\n",
       "      <th>5</th>\n",
       "      <td>Honeycomb</td>\n",
       "      <td>1.25</td>\n",
       "      <td>3.00</td>\n",
       "    </tr>\n",
       "    <tr>\n",
       "      <th>6</th>\n",
       "      <td>Ice Cream Sandwich</td>\n",
       "      <td>1.21</td>\n",
       "      <td>2.99</td>\n",
       "    </tr>\n",
       "    <tr>\n",
       "      <th>7</th>\n",
       "      <td>Jelly Bean</td>\n",
       "      <td>0.04</td>\n",
       "      <td>0.99</td>\n",
       "    </tr>\n",
       "    <tr>\n",
       "      <th>8</th>\n",
       "      <td>KitKat</td>\n",
       "      <td>0.33</td>\n",
       "      <td>1.50</td>\n",
       "    </tr>\n",
       "    <tr>\n",
       "      <th>9</th>\n",
       "      <td>Lollipop</td>\n",
       "      <td>0.11</td>\n",
       "      <td>1.10</td>\n",
       "    </tr>\n",
       "    <tr>\n",
       "      <th>10</th>\n",
       "      <td>Marshmallow</td>\n",
       "      <td>0.03</td>\n",
       "      <td>0.50</td>\n",
       "    </tr>\n",
       "    <tr>\n",
       "      <th>11</th>\n",
       "      <td>Nougat</td>\n",
       "      <td>0.75</td>\n",
       "      <td>1.50</td>\n",
       "    </tr>\n",
       "    <tr>\n",
       "      <th>12</th>\n",
       "      <td>Oreo</td>\n",
       "      <td>0.78</td>\n",
       "      <td>2.00</td>\n",
       "    </tr>\n",
       "    <tr>\n",
       "      <th>13</th>\n",
       "      <td>Pie</td>\n",
       "      <td>0.66</td>\n",
       "      <td>2.25</td>\n",
       "    </tr>\n",
       "  </tbody>\n",
       "</table>\n",
       "</div>"
      ],
      "text/plain": [
       "                  Name  Manufacturing (USD)  Retail (USD)\n",
       "0              Cupcake                 1.24          4.50\n",
       "1                Donut                 0.17          0.99\n",
       "2               Eclair                 0.54          2.50\n",
       "3                Froyo                 0.78          3.50\n",
       "4          Gingerbread                 0.45          0.99\n",
       "5            Honeycomb                 1.25          3.00\n",
       "6   Ice Cream Sandwich                 1.21          2.99\n",
       "7           Jelly Bean                 0.04          0.99\n",
       "8               KitKat                 0.33          1.50\n",
       "9             Lollipop                 0.11          1.10\n",
       "10         Marshmallow                 0.03          0.50\n",
       "11              Nougat                 0.75          1.50\n",
       "12                Oreo                 0.78          2.00\n",
       "13                 Pie                 0.66          2.25"
      ]
     },
     "metadata": {},
     "execution_count": 38
    }
   ],
   "metadata": {
    "colab": {},
    "colab_type": "code",
    "id": "3f032gQPx54K"
   }
  },
  {
   "cell_type": "markdown",
   "source": [
    "If we want to combine the data into a single `DataFrame`, we can merge the data:"
   ],
   "metadata": {
    "colab_type": "text",
    "id": "azvf4DpSzZTJ"
   }
  },
  {
   "cell_type": "code",
   "execution_count": 39,
   "source": [
    "pd.merge(nutrition_information_df, costs_df)"
   ],
   "outputs": [
    {
     "output_type": "execute_result",
     "data": {
      "text/html": [
       "<div>\n",
       "<style scoped>\n",
       "    .dataframe tbody tr th:only-of-type {\n",
       "        vertical-align: middle;\n",
       "    }\n",
       "\n",
       "    .dataframe tbody tr th {\n",
       "        vertical-align: top;\n",
       "    }\n",
       "\n",
       "    .dataframe thead th {\n",
       "        text-align: right;\n",
       "    }\n",
       "</style>\n",
       "<table border=\"1\" class=\"dataframe\">\n",
       "  <thead>\n",
       "    <tr style=\"text-align: right;\">\n",
       "      <th></th>\n",
       "      <th>Name</th>\n",
       "      <th>Calories</th>\n",
       "      <th>Fat (g)</th>\n",
       "      <th>Carbs (g)</th>\n",
       "      <th>Protein (g)</th>\n",
       "      <th>Manufacturing (USD)</th>\n",
       "      <th>Retail (USD)</th>\n",
       "    </tr>\n",
       "  </thead>\n",
       "  <tbody>\n",
       "    <tr>\n",
       "      <th>0</th>\n",
       "      <td>Cupcake</td>\n",
       "      <td>178</td>\n",
       "      <td>5.26</td>\n",
       "      <td>32.54</td>\n",
       "      <td>1.37</td>\n",
       "      <td>1.24</td>\n",
       "      <td>4.50</td>\n",
       "    </tr>\n",
       "    <tr>\n",
       "      <th>1</th>\n",
       "      <td>Donut</td>\n",
       "      <td>190</td>\n",
       "      <td>10.51</td>\n",
       "      <td>21.62</td>\n",
       "      <td>2.62</td>\n",
       "      <td>0.17</td>\n",
       "      <td>0.99</td>\n",
       "    </tr>\n",
       "    <tr>\n",
       "      <th>2</th>\n",
       "      <td>Eclair</td>\n",
       "      <td>267</td>\n",
       "      <td>16.01</td>\n",
       "      <td>24.68</td>\n",
       "      <td>6.53</td>\n",
       "      <td>0.54</td>\n",
       "      <td>2.50</td>\n",
       "    </tr>\n",
       "    <tr>\n",
       "      <th>3</th>\n",
       "      <td>Froyo</td>\n",
       "      <td>214</td>\n",
       "      <td>2.94</td>\n",
       "      <td>39.24</td>\n",
       "      <td>9.40</td>\n",
       "      <td>0.78</td>\n",
       "      <td>3.50</td>\n",
       "    </tr>\n",
       "    <tr>\n",
       "      <th>4</th>\n",
       "      <td>Gingerbread</td>\n",
       "      <td>130</td>\n",
       "      <td>5.00</td>\n",
       "      <td>19.00</td>\n",
       "      <td>2.00</td>\n",
       "      <td>0.45</td>\n",
       "      <td>0.99</td>\n",
       "    </tr>\n",
       "    <tr>\n",
       "      <th>5</th>\n",
       "      <td>Honeycomb</td>\n",
       "      <td>190</td>\n",
       "      <td>13.00</td>\n",
       "      <td>23.00</td>\n",
       "      <td>2.00</td>\n",
       "      <td>1.25</td>\n",
       "      <td>3.00</td>\n",
       "    </tr>\n",
       "    <tr>\n",
       "      <th>6</th>\n",
       "      <td>Ice Cream Sandwich</td>\n",
       "      <td>143</td>\n",
       "      <td>5.60</td>\n",
       "      <td>21.75</td>\n",
       "      <td>2.61</td>\n",
       "      <td>1.21</td>\n",
       "      <td>2.99</td>\n",
       "    </tr>\n",
       "    <tr>\n",
       "      <th>7</th>\n",
       "      <td>Jelly Bean</td>\n",
       "      <td>100</td>\n",
       "      <td>0.00</td>\n",
       "      <td>25.00</td>\n",
       "      <td>0.00</td>\n",
       "      <td>0.04</td>\n",
       "      <td>0.99</td>\n",
       "    </tr>\n",
       "    <tr>\n",
       "      <th>8</th>\n",
       "      <td>KitKat</td>\n",
       "      <td>210</td>\n",
       "      <td>11.00</td>\n",
       "      <td>27.00</td>\n",
       "      <td>3.00</td>\n",
       "      <td>0.33</td>\n",
       "      <td>1.50</td>\n",
       "    </tr>\n",
       "    <tr>\n",
       "      <th>9</th>\n",
       "      <td>Lollipop</td>\n",
       "      <td>110</td>\n",
       "      <td>0.00</td>\n",
       "      <td>28.00</td>\n",
       "      <td>0.00</td>\n",
       "      <td>0.11</td>\n",
       "      <td>1.10</td>\n",
       "    </tr>\n",
       "    <tr>\n",
       "      <th>10</th>\n",
       "      <td>Marshmallow</td>\n",
       "      <td>100</td>\n",
       "      <td>0.00</td>\n",
       "      <td>24.00</td>\n",
       "      <td>1.00</td>\n",
       "      <td>0.03</td>\n",
       "      <td>0.50</td>\n",
       "    </tr>\n",
       "    <tr>\n",
       "      <th>11</th>\n",
       "      <td>Nougat</td>\n",
       "      <td>56</td>\n",
       "      <td>0.23</td>\n",
       "      <td>12.93</td>\n",
       "      <td>0.47</td>\n",
       "      <td>0.75</td>\n",
       "      <td>1.50</td>\n",
       "    </tr>\n",
       "    <tr>\n",
       "      <th>12</th>\n",
       "      <td>Oreo</td>\n",
       "      <td>160</td>\n",
       "      <td>7.00</td>\n",
       "      <td>25.00</td>\n",
       "      <td>1.00</td>\n",
       "      <td>0.78</td>\n",
       "      <td>2.00</td>\n",
       "    </tr>\n",
       "    <tr>\n",
       "      <th>13</th>\n",
       "      <td>Pie</td>\n",
       "      <td>356</td>\n",
       "      <td>16.50</td>\n",
       "      <td>51.00</td>\n",
       "      <td>2.85</td>\n",
       "      <td>0.66</td>\n",
       "      <td>2.25</td>\n",
       "    </tr>\n",
       "  </tbody>\n",
       "</table>\n",
       "</div>"
      ],
      "text/plain": [
       "                  Name  Calories  Fat (g)  Carbs (g)  Protein (g)  \\\n",
       "0              Cupcake       178     5.26      32.54         1.37   \n",
       "1                Donut       190    10.51      21.62         2.62   \n",
       "2               Eclair       267    16.01      24.68         6.53   \n",
       "3                Froyo       214     2.94      39.24         9.40   \n",
       "4          Gingerbread       130     5.00      19.00         2.00   \n",
       "5            Honeycomb       190    13.00      23.00         2.00   \n",
       "6   Ice Cream Sandwich       143     5.60      21.75         2.61   \n",
       "7           Jelly Bean       100     0.00      25.00         0.00   \n",
       "8               KitKat       210    11.00      27.00         3.00   \n",
       "9             Lollipop       110     0.00      28.00         0.00   \n",
       "10         Marshmallow       100     0.00      24.00         1.00   \n",
       "11              Nougat        56     0.23      12.93         0.47   \n",
       "12                Oreo       160     7.00      25.00         1.00   \n",
       "13                 Pie       356    16.50      51.00         2.85   \n",
       "\n",
       "    Manufacturing (USD)  Retail (USD)  \n",
       "0                  1.24          4.50  \n",
       "1                  0.17          0.99  \n",
       "2                  0.54          2.50  \n",
       "3                  0.78          3.50  \n",
       "4                  0.45          0.99  \n",
       "5                  1.25          3.00  \n",
       "6                  1.21          2.99  \n",
       "7                  0.04          0.99  \n",
       "8                  0.33          1.50  \n",
       "9                  0.11          1.10  \n",
       "10                 0.03          0.50  \n",
       "11                 0.75          1.50  \n",
       "12                 0.78          2.00  \n",
       "13                 0.66          2.25  "
      ]
     },
     "metadata": {},
     "execution_count": 39
    }
   ],
   "metadata": {
    "colab": {},
    "colab_type": "code",
    "id": "wI3fvRedzglL"
   }
  },
  {
   "cell_type": "markdown",
   "source": [
    "[Pandas](https://pandas.pydata.org) searches for columns with the same name and uses those columns to match rows of data. The result is a single `DataFrame` with columns from the merged `DataFrame` objects."
   ],
   "metadata": {
    "colab_type": "text",
    "id": "BPX3cFqSzf_N"
   }
  },
  {
   "cell_type": "markdown",
   "source": [
    "What if we have yet another `DataFrame` that contains the inventory of desserts that we have in stock:"
   ],
   "metadata": {
    "colab_type": "text",
    "id": "bBUwl36Lz667"
   }
  },
  {
   "cell_type": "code",
   "execution_count": 40,
   "source": [
    "import pandas as pd\n",
    "\n",
    "inventory_df = pd.DataFrame.from_records((\n",
    "  ('Marshmallow', 1004),\n",
    "  ('Nougat', 563),\n",
    "  ('Oreo', 789),\n",
    "  ('Pie', 33),\n",
    "), columns=('Name', '# In Stock'))\n",
    "\n",
    "inventory_df"
   ],
   "outputs": [
    {
     "output_type": "execute_result",
     "data": {
      "text/html": [
       "<div>\n",
       "<style scoped>\n",
       "    .dataframe tbody tr th:only-of-type {\n",
       "        vertical-align: middle;\n",
       "    }\n",
       "\n",
       "    .dataframe tbody tr th {\n",
       "        vertical-align: top;\n",
       "    }\n",
       "\n",
       "    .dataframe thead th {\n",
       "        text-align: right;\n",
       "    }\n",
       "</style>\n",
       "<table border=\"1\" class=\"dataframe\">\n",
       "  <thead>\n",
       "    <tr style=\"text-align: right;\">\n",
       "      <th></th>\n",
       "      <th>Name</th>\n",
       "      <th># In Stock</th>\n",
       "    </tr>\n",
       "  </thead>\n",
       "  <tbody>\n",
       "    <tr>\n",
       "      <th>0</th>\n",
       "      <td>Marshmallow</td>\n",
       "      <td>1004</td>\n",
       "    </tr>\n",
       "    <tr>\n",
       "      <th>1</th>\n",
       "      <td>Nougat</td>\n",
       "      <td>563</td>\n",
       "    </tr>\n",
       "    <tr>\n",
       "      <th>2</th>\n",
       "      <td>Oreo</td>\n",
       "      <td>789</td>\n",
       "    </tr>\n",
       "    <tr>\n",
       "      <th>3</th>\n",
       "      <td>Pie</td>\n",
       "      <td>33</td>\n",
       "    </tr>\n",
       "  </tbody>\n",
       "</table>\n",
       "</div>"
      ],
      "text/plain": [
       "          Name  # In Stock\n",
       "0  Marshmallow        1004\n",
       "1       Nougat         563\n",
       "2         Oreo         789\n",
       "3          Pie          33"
      ]
     },
     "metadata": {},
     "execution_count": 40
    }
   ],
   "metadata": {
    "colab": {},
    "colab_type": "code",
    "id": "WPu2L2zjPIcE"
   }
  },
  {
   "cell_type": "markdown",
   "source": [
    "If we want to join our inventory with our cost data to see how much earning potential we have in stock, we can join the `costs_df` with the `inventory_df`:"
   ],
   "metadata": {
    "colab_type": "text",
    "id": "OkjR0rgT0SGJ"
   }
  },
  {
   "cell_type": "code",
   "execution_count": 41,
   "source": [
    "pd.merge(costs_df, inventory_df)"
   ],
   "outputs": [
    {
     "output_type": "execute_result",
     "data": {
      "text/html": [
       "<div>\n",
       "<style scoped>\n",
       "    .dataframe tbody tr th:only-of-type {\n",
       "        vertical-align: middle;\n",
       "    }\n",
       "\n",
       "    .dataframe tbody tr th {\n",
       "        vertical-align: top;\n",
       "    }\n",
       "\n",
       "    .dataframe thead th {\n",
       "        text-align: right;\n",
       "    }\n",
       "</style>\n",
       "<table border=\"1\" class=\"dataframe\">\n",
       "  <thead>\n",
       "    <tr style=\"text-align: right;\">\n",
       "      <th></th>\n",
       "      <th>Name</th>\n",
       "      <th>Manufacturing (USD)</th>\n",
       "      <th>Retail (USD)</th>\n",
       "      <th># In Stock</th>\n",
       "    </tr>\n",
       "  </thead>\n",
       "  <tbody>\n",
       "    <tr>\n",
       "      <th>0</th>\n",
       "      <td>Marshmallow</td>\n",
       "      <td>0.03</td>\n",
       "      <td>0.50</td>\n",
       "      <td>1004</td>\n",
       "    </tr>\n",
       "    <tr>\n",
       "      <th>1</th>\n",
       "      <td>Nougat</td>\n",
       "      <td>0.75</td>\n",
       "      <td>1.50</td>\n",
       "      <td>563</td>\n",
       "    </tr>\n",
       "    <tr>\n",
       "      <th>2</th>\n",
       "      <td>Oreo</td>\n",
       "      <td>0.78</td>\n",
       "      <td>2.00</td>\n",
       "      <td>789</td>\n",
       "    </tr>\n",
       "    <tr>\n",
       "      <th>3</th>\n",
       "      <td>Pie</td>\n",
       "      <td>0.66</td>\n",
       "      <td>2.25</td>\n",
       "      <td>33</td>\n",
       "    </tr>\n",
       "  </tbody>\n",
       "</table>\n",
       "</div>"
      ],
      "text/plain": [
       "          Name  Manufacturing (USD)  Retail (USD)  # In Stock\n",
       "0  Marshmallow                 0.03          0.50        1004\n",
       "1       Nougat                 0.75          1.50         563\n",
       "2         Oreo                 0.78          2.00         789\n",
       "3          Pie                 0.66          2.25          33"
      ]
     },
     "metadata": {},
     "execution_count": 41
    }
   ],
   "metadata": {
    "colab": {},
    "colab_type": "code",
    "id": "SFLiozsz0j5n"
   }
  },
  {
   "cell_type": "markdown",
   "source": [
    "If we wanted we could then sum up our retail prices multiplied by inventory to see how much gross revenue potential we currently have.\n",
    "\n",
    "Notice that we only have four desserts. What happened?\n",
    "\n",
    "By default when merging `DataFrame` objects only rows that match across `DataFrame` objects are returned. Non-matching rows are filtered out.\n",
    "\n",
    "We can change this by telling `merge` to do an *outer* join. This will keep all of the data in the first `DataFrame` passed to `merge()` and fill in any missing data with null values."
   ],
   "metadata": {
    "colab_type": "text",
    "id": "AST2N2HAWao_"
   }
  },
  {
   "cell_type": "code",
   "execution_count": 42,
   "source": [
    "pd.merge(costs_df, inventory_df, how='outer')"
   ],
   "outputs": [
    {
     "output_type": "execute_result",
     "data": {
      "text/html": [
       "<div>\n",
       "<style scoped>\n",
       "    .dataframe tbody tr th:only-of-type {\n",
       "        vertical-align: middle;\n",
       "    }\n",
       "\n",
       "    .dataframe tbody tr th {\n",
       "        vertical-align: top;\n",
       "    }\n",
       "\n",
       "    .dataframe thead th {\n",
       "        text-align: right;\n",
       "    }\n",
       "</style>\n",
       "<table border=\"1\" class=\"dataframe\">\n",
       "  <thead>\n",
       "    <tr style=\"text-align: right;\">\n",
       "      <th></th>\n",
       "      <th>Name</th>\n",
       "      <th>Manufacturing (USD)</th>\n",
       "      <th>Retail (USD)</th>\n",
       "      <th># In Stock</th>\n",
       "    </tr>\n",
       "  </thead>\n",
       "  <tbody>\n",
       "    <tr>\n",
       "      <th>0</th>\n",
       "      <td>Cupcake</td>\n",
       "      <td>1.24</td>\n",
       "      <td>4.50</td>\n",
       "      <td>NaN</td>\n",
       "    </tr>\n",
       "    <tr>\n",
       "      <th>1</th>\n",
       "      <td>Donut</td>\n",
       "      <td>0.17</td>\n",
       "      <td>0.99</td>\n",
       "      <td>NaN</td>\n",
       "    </tr>\n",
       "    <tr>\n",
       "      <th>2</th>\n",
       "      <td>Eclair</td>\n",
       "      <td>0.54</td>\n",
       "      <td>2.50</td>\n",
       "      <td>NaN</td>\n",
       "    </tr>\n",
       "    <tr>\n",
       "      <th>3</th>\n",
       "      <td>Froyo</td>\n",
       "      <td>0.78</td>\n",
       "      <td>3.50</td>\n",
       "      <td>NaN</td>\n",
       "    </tr>\n",
       "    <tr>\n",
       "      <th>4</th>\n",
       "      <td>Gingerbread</td>\n",
       "      <td>0.45</td>\n",
       "      <td>0.99</td>\n",
       "      <td>NaN</td>\n",
       "    </tr>\n",
       "    <tr>\n",
       "      <th>5</th>\n",
       "      <td>Honeycomb</td>\n",
       "      <td>1.25</td>\n",
       "      <td>3.00</td>\n",
       "      <td>NaN</td>\n",
       "    </tr>\n",
       "    <tr>\n",
       "      <th>6</th>\n",
       "      <td>Ice Cream Sandwich</td>\n",
       "      <td>1.21</td>\n",
       "      <td>2.99</td>\n",
       "      <td>NaN</td>\n",
       "    </tr>\n",
       "    <tr>\n",
       "      <th>7</th>\n",
       "      <td>Jelly Bean</td>\n",
       "      <td>0.04</td>\n",
       "      <td>0.99</td>\n",
       "      <td>NaN</td>\n",
       "    </tr>\n",
       "    <tr>\n",
       "      <th>8</th>\n",
       "      <td>KitKat</td>\n",
       "      <td>0.33</td>\n",
       "      <td>1.50</td>\n",
       "      <td>NaN</td>\n",
       "    </tr>\n",
       "    <tr>\n",
       "      <th>9</th>\n",
       "      <td>Lollipop</td>\n",
       "      <td>0.11</td>\n",
       "      <td>1.10</td>\n",
       "      <td>NaN</td>\n",
       "    </tr>\n",
       "    <tr>\n",
       "      <th>10</th>\n",
       "      <td>Marshmallow</td>\n",
       "      <td>0.03</td>\n",
       "      <td>0.50</td>\n",
       "      <td>1004.0</td>\n",
       "    </tr>\n",
       "    <tr>\n",
       "      <th>11</th>\n",
       "      <td>Nougat</td>\n",
       "      <td>0.75</td>\n",
       "      <td>1.50</td>\n",
       "      <td>563.0</td>\n",
       "    </tr>\n",
       "    <tr>\n",
       "      <th>12</th>\n",
       "      <td>Oreo</td>\n",
       "      <td>0.78</td>\n",
       "      <td>2.00</td>\n",
       "      <td>789.0</td>\n",
       "    </tr>\n",
       "    <tr>\n",
       "      <th>13</th>\n",
       "      <td>Pie</td>\n",
       "      <td>0.66</td>\n",
       "      <td>2.25</td>\n",
       "      <td>33.0</td>\n",
       "    </tr>\n",
       "  </tbody>\n",
       "</table>\n",
       "</div>"
      ],
      "text/plain": [
       "                  Name  Manufacturing (USD)  Retail (USD)  # In Stock\n",
       "0              Cupcake                 1.24          4.50         NaN\n",
       "1                Donut                 0.17          0.99         NaN\n",
       "2               Eclair                 0.54          2.50         NaN\n",
       "3                Froyo                 0.78          3.50         NaN\n",
       "4          Gingerbread                 0.45          0.99         NaN\n",
       "5            Honeycomb                 1.25          3.00         NaN\n",
       "6   Ice Cream Sandwich                 1.21          2.99         NaN\n",
       "7           Jelly Bean                 0.04          0.99         NaN\n",
       "8               KitKat                 0.33          1.50         NaN\n",
       "9             Lollipop                 0.11          1.10         NaN\n",
       "10         Marshmallow                 0.03          0.50      1004.0\n",
       "11              Nougat                 0.75          1.50       563.0\n",
       "12                Oreo                 0.78          2.00       789.0\n",
       "13                 Pie                 0.66          2.25        33.0"
      ]
     },
     "metadata": {},
     "execution_count": 42
    }
   ],
   "metadata": {
    "colab": {},
    "colab_type": "code",
    "id": "2eDf58qQ1JNS"
   }
  },
  {
   "cell_type": "markdown",
   "source": [
    "There are many options for merging data. You have options available to keep rows in specific `DataFrames`, to use different columns to join on, and much more. Check out the [`merge` documentation](https://pandas.pydata.org/pandas-docs/stable/reference/api/pandas.DataFrame.merge.html) to learn more."
   ],
   "metadata": {
    "colab_type": "text",
    "id": "9d6GZp8_1c44"
   }
  },
  {
   "cell_type": "markdown",
   "source": [
    "### Exercise 5: Merging `DataFrame` Objects\n",
    "\n",
    "In this exercise we will answer a few questions about our dessert-making operation. In order to answer these questions, you are provided with the `costs_df` `DataFrame`, which contains names of treats and costs related to them.\n",
    "\n",
    "The columns are:\n",
    "  * **Name**: The name of the treat.\n",
    "  * **Manufacturing (USD)**: The cost in United States dollars to create one saleable unit of the treat.\n",
    "  * **Retail (USD)**: The price that one serving of the treat is sold for. "
   ],
   "metadata": {
    "colab_type": "text",
    "id": "VKfkT-3b11MP"
   }
  },
  {
   "cell_type": "code",
   "execution_count": 43,
   "source": [
    "import pandas as pd\n",
    "\n",
    "costs_df = pd.DataFrame.from_records((\n",
    "  ('Cupcake', 1.24, 4.50),\n",
    "  ('Donut', 0.17, 0.99),\n",
    "  ('Eclair', 0.54, 2.50),\n",
    "  ('Froyo', 0.78, 3.50),\n",
    "  ('Gingerbread', 0.45, 0.99),\n",
    "  ('Honeycomb', 1.25, 3.00),\n",
    "  ('Ice Cream Sandwich', 1.21, 2.99),\n",
    "  ('Jelly Bean', 0.04, 0.99),\n",
    "  ('KitKat', 0.33, 1.50),\n",
    "  ('Lollipop', 0.11, 1.10),\n",
    "  ('Marshmallow', 0.03, 0.50),\n",
    "  ('Nougat', 0.75, 1.50),\n",
    "  ('Oreo', 0.78, 2.00),\n",
    "  ('Pie', 0.66, 2.25),\n",
    "), columns=('Name', 'Manufacturing (USD)', 'Retail (USD)'))\n",
    "\n",
    "costs_df"
   ],
   "outputs": [
    {
     "output_type": "execute_result",
     "data": {
      "text/html": [
       "<div>\n",
       "<style scoped>\n",
       "    .dataframe tbody tr th:only-of-type {\n",
       "        vertical-align: middle;\n",
       "    }\n",
       "\n",
       "    .dataframe tbody tr th {\n",
       "        vertical-align: top;\n",
       "    }\n",
       "\n",
       "    .dataframe thead th {\n",
       "        text-align: right;\n",
       "    }\n",
       "</style>\n",
       "<table border=\"1\" class=\"dataframe\">\n",
       "  <thead>\n",
       "    <tr style=\"text-align: right;\">\n",
       "      <th></th>\n",
       "      <th>Name</th>\n",
       "      <th>Manufacturing (USD)</th>\n",
       "      <th>Retail (USD)</th>\n",
       "    </tr>\n",
       "  </thead>\n",
       "  <tbody>\n",
       "    <tr>\n",
       "      <th>0</th>\n",
       "      <td>Cupcake</td>\n",
       "      <td>1.24</td>\n",
       "      <td>4.50</td>\n",
       "    </tr>\n",
       "    <tr>\n",
       "      <th>1</th>\n",
       "      <td>Donut</td>\n",
       "      <td>0.17</td>\n",
       "      <td>0.99</td>\n",
       "    </tr>\n",
       "    <tr>\n",
       "      <th>2</th>\n",
       "      <td>Eclair</td>\n",
       "      <td>0.54</td>\n",
       "      <td>2.50</td>\n",
       "    </tr>\n",
       "    <tr>\n",
       "      <th>3</th>\n",
       "      <td>Froyo</td>\n",
       "      <td>0.78</td>\n",
       "      <td>3.50</td>\n",
       "    </tr>\n",
       "    <tr>\n",
       "      <th>4</th>\n",
       "      <td>Gingerbread</td>\n",
       "      <td>0.45</td>\n",
       "      <td>0.99</td>\n",
       "    </tr>\n",
       "    <tr>\n",
       "      <th>5</th>\n",
       "      <td>Honeycomb</td>\n",
       "      <td>1.25</td>\n",
       "      <td>3.00</td>\n",
       "    </tr>\n",
       "    <tr>\n",
       "      <th>6</th>\n",
       "      <td>Ice Cream Sandwich</td>\n",
       "      <td>1.21</td>\n",
       "      <td>2.99</td>\n",
       "    </tr>\n",
       "    <tr>\n",
       "      <th>7</th>\n",
       "      <td>Jelly Bean</td>\n",
       "      <td>0.04</td>\n",
       "      <td>0.99</td>\n",
       "    </tr>\n",
       "    <tr>\n",
       "      <th>8</th>\n",
       "      <td>KitKat</td>\n",
       "      <td>0.33</td>\n",
       "      <td>1.50</td>\n",
       "    </tr>\n",
       "    <tr>\n",
       "      <th>9</th>\n",
       "      <td>Lollipop</td>\n",
       "      <td>0.11</td>\n",
       "      <td>1.10</td>\n",
       "    </tr>\n",
       "    <tr>\n",
       "      <th>10</th>\n",
       "      <td>Marshmallow</td>\n",
       "      <td>0.03</td>\n",
       "      <td>0.50</td>\n",
       "    </tr>\n",
       "    <tr>\n",
       "      <th>11</th>\n",
       "      <td>Nougat</td>\n",
       "      <td>0.75</td>\n",
       "      <td>1.50</td>\n",
       "    </tr>\n",
       "    <tr>\n",
       "      <th>12</th>\n",
       "      <td>Oreo</td>\n",
       "      <td>0.78</td>\n",
       "      <td>2.00</td>\n",
       "    </tr>\n",
       "    <tr>\n",
       "      <th>13</th>\n",
       "      <td>Pie</td>\n",
       "      <td>0.66</td>\n",
       "      <td>2.25</td>\n",
       "    </tr>\n",
       "  </tbody>\n",
       "</table>\n",
       "</div>"
      ],
      "text/plain": [
       "                  Name  Manufacturing (USD)  Retail (USD)\n",
       "0              Cupcake                 1.24          4.50\n",
       "1                Donut                 0.17          0.99\n",
       "2               Eclair                 0.54          2.50\n",
       "3                Froyo                 0.78          3.50\n",
       "4          Gingerbread                 0.45          0.99\n",
       "5            Honeycomb                 1.25          3.00\n",
       "6   Ice Cream Sandwich                 1.21          2.99\n",
       "7           Jelly Bean                 0.04          0.99\n",
       "8               KitKat                 0.33          1.50\n",
       "9             Lollipop                 0.11          1.10\n",
       "10         Marshmallow                 0.03          0.50\n",
       "11              Nougat                 0.75          1.50\n",
       "12                Oreo                 0.78          2.00\n",
       "13                 Pie                 0.66          2.25"
      ]
     },
     "metadata": {},
     "execution_count": 43
    }
   ],
   "metadata": {
    "colab": {},
    "colab_type": "code",
    "id": "f2cyoyBi19km"
   }
  },
  {
   "cell_type": "markdown",
   "source": [
    "The other `DataFrame` that we have at our disposal is the `inventory_df`. This `DataFrame` contains information about how many of each type of treat we have in stock and ready to sell.\n",
    "\n",
    "The columns are:\n",
    "  * **Name**: The name of the treat.\n",
    "  * **# In Stock**: The number of saleable units of the treat that we have.\n",
    "\n",
    "Any treats not in inventory are assumed to be out of stock."
   ],
   "metadata": {
    "colab_type": "text",
    "id": "rowTBXyvBYSt"
   }
  },
  {
   "cell_type": "code",
   "execution_count": 44,
   "source": [
    "inventory_df = pd.DataFrame.from_records((\n",
    "  ('Marshmallow', 1004),\n",
    "  ('Nougat', 563),\n",
    "  ('Oreo', 789),\n",
    "  ('Pie', 33),\n",
    "), columns=('Name', '# In Stock'))\n",
    "\n",
    "inventory_df"
   ],
   "outputs": [
    {
     "output_type": "execute_result",
     "data": {
      "text/html": [
       "<div>\n",
       "<style scoped>\n",
       "    .dataframe tbody tr th:only-of-type {\n",
       "        vertical-align: middle;\n",
       "    }\n",
       "\n",
       "    .dataframe tbody tr th {\n",
       "        vertical-align: top;\n",
       "    }\n",
       "\n",
       "    .dataframe thead th {\n",
       "        text-align: right;\n",
       "    }\n",
       "</style>\n",
       "<table border=\"1\" class=\"dataframe\">\n",
       "  <thead>\n",
       "    <tr style=\"text-align: right;\">\n",
       "      <th></th>\n",
       "      <th>Name</th>\n",
       "      <th># In Stock</th>\n",
       "    </tr>\n",
       "  </thead>\n",
       "  <tbody>\n",
       "    <tr>\n",
       "      <th>0</th>\n",
       "      <td>Marshmallow</td>\n",
       "      <td>1004</td>\n",
       "    </tr>\n",
       "    <tr>\n",
       "      <th>1</th>\n",
       "      <td>Nougat</td>\n",
       "      <td>563</td>\n",
       "    </tr>\n",
       "    <tr>\n",
       "      <th>2</th>\n",
       "      <td>Oreo</td>\n",
       "      <td>789</td>\n",
       "    </tr>\n",
       "    <tr>\n",
       "      <th>3</th>\n",
       "      <td>Pie</td>\n",
       "      <td>33</td>\n",
       "    </tr>\n",
       "  </tbody>\n",
       "</table>\n",
       "</div>"
      ],
      "text/plain": [
       "          Name  # In Stock\n",
       "0  Marshmallow        1004\n",
       "1       Nougat         563\n",
       "2         Oreo         789\n",
       "3          Pie          33"
      ]
     },
     "metadata": {},
     "execution_count": 44
    }
   ],
   "metadata": {
    "colab": {},
    "colab_type": "code",
    "id": "HzBZ_Id-BxlA"
   }
  },
  {
   "cell_type": "markdown",
   "source": [
    "#### Question 1: Potential Profit\n",
    "\n",
    "For this question we want to determine the potential profit that we can make with the items that we have in stock.\n",
    "\n",
    "> $profit = \\Sigma^{t}_{i=1} n * (r - m)$\n",
    "\n",
    "Where:\n",
    "\n",
    " * `t` is every type of treat in stock\n",
    " * `n` is the number of units of that treat\n",
    " * `r` is the retail price of the treat\n",
    " * `m` are the manufacturing costs for the treat\n",
    "\n",
    "Merge `inventory_df` and `costs_df` to calculate the `potential_profit`. Print out the potential profit."
   ],
   "metadata": {
    "colab_type": "text",
    "id": "jVl-zbWdB_fZ"
   }
  },
  {
   "cell_type": "markdown",
   "source": [
    "**Student Solution**"
   ],
   "metadata": {
    "colab_type": "text",
    "id": "FbzRwtslDffl"
   }
  },
  {
   "cell_type": "code",
   "execution_count": 45,
   "source": [
    "# Merge the DataFrame objects\n",
    "dessert_df = pd.merge(costs_df,inventory_df)\n",
    "\n",
    "\n",
    "dessert_df= dessert_df[\n",
    "  [col for col in dessert_df.columns if col not in {'Name'}]]\n",
    "list = dessert_df.values.tolist()\n",
    "\n",
    "#print (list)\n",
    "#[[manufacturing],[retail],[in stock]]\n",
    "row_1 = list[0]\n",
    "row_2 = list[1]\n",
    "row_3 = list[2]\n",
    "row_4 = list[3]\n",
    "\n",
    "\n",
    "#[0] == manufacturing(m)\n",
    "#[1] == retail(r)\n",
    "#[2] == in stock\n",
    "profit_1 = row_1[2] * (row_1[1] - row_1[0])\n",
    "profit_2 = row_2[2] * (row_2[1] - row_2[0])\n",
    "profit_3 = row_3[2] * (row_3[1] - row_3[0])\n",
    "profit_4 = row_4[2] * (row_4[1] - row_4[0])\n",
    "\n",
    "\n",
    "potential_profit = profit_1 + profit_2 + profit_3 + profit_4\n",
    "print (potential_profit)\n",
    "\n",
    "# Print the potential profit"
   ],
   "outputs": [
    {
     "output_type": "stream",
     "name": "stdout",
     "text": [
      "1909.18\n"
     ]
    }
   ],
   "metadata": {
    "colab": {},
    "colab_type": "code",
    "id": "HdGsNRwEDo6E"
   }
  },
  {
   "cell_type": "markdown",
   "source": [
    "---"
   ],
   "metadata": {
    "colab_type": "text",
    "id": "2oQr9gO0DiLd"
   }
  },
  {
   "cell_type": "markdown",
   "source": [
    "#### Question 2: Restocking Cost\n",
    "\n",
    "There are only four different treats available for sale. We need to get some more inventory in this shop!\n",
    "\n",
    "In this portion of the exercise we will calculate the total cost to get 100 units of each of the missing treats onto the shelves and ready to sale.\n",
    "\n",
    "The cost is calculated with:\n",
    "\n",
    "> $cost = \\Sigma^{t}_{i=1} 100 * m$\n",
    "\n",
    "Where:\n",
    "\n",
    " * `t` is every type of treat **NOT** in stock\n",
    " * `100` is the number of units of that treat that we'd like to make\n",
    " * `m` are the manufacturing costs for the treat\n",
    "\n",
    "Merge `inventory_df` and `costs_df` to calculate the `cost_to_make`. Print out the cost."
   ],
   "metadata": {
    "colab_type": "text",
    "id": "3iYAPQFmET5i"
   }
  },
  {
   "cell_type": "markdown",
   "source": [
    "**Student Solution**"
   ],
   "metadata": {
    "colab_type": "text",
    "id": "M8Lp0EZKFSem"
   }
  },
  {
   "cell_type": "code",
   "execution_count": 46,
   "source": [
    "\n",
    "#print (dessert_df)\n",
    "\n",
    "\n",
    "dessert_df = pd.merge(costs_df,inventory_df, how = \"outer\")\n",
    "print (row_1)\n",
    "cost_1 = 100 * row_1[0]\n",
    "cost_2 = 100 * row_2[0]\n",
    "cost_3 = 100 * row_3[0]\n",
    "cost_4 = 100 * row_4[0]\n",
    "\n",
    "\n",
    "\n",
    "#[0] == manufacturing(m)\n",
    "#[1] == retail(r)\n",
    "#[2] == in stock\n",
    "#Marshmallow, orea, \n",
    "\n",
    "\n",
    "#inventory_df = pd.DataFrame.from_records((\n",
    "  #('Marshmallow', 1004),\n",
    "  #('Nougat', 563),\n",
    "  #('Oreo', 789),\n",
    "  #('Pie', 33),\n",
    "#), columns=('Name', '# In Stock'))\n",
    "\n",
    "\n",
    "# Identify the missing desserts\n",
    "\n",
    "missing_dessert_df = dessert_df[dessert_df['# In Stock'].isna()]\n",
    "print (missing_dessert_df)\n",
    "\n",
    " \n",
    "\n",
    "# Calculate the cost to make 100 of each of the missing treats\n",
    "\n",
    "#for i, index in missing_dessert_df.iterrows():\n",
    "    #cost_to_make += 100 * index['Manufacturing (USD)']\n",
    "#print (cost_to_make)\n",
    "cost_to_make = sum(100 * missing_dessert_df['Manufacturing (USD)'])\n",
    "print (cost_to_make)\n",
    "# Print the cost"
   ],
   "outputs": [
    {
     "output_type": "stream",
     "name": "stdout",
     "text": [
      "[0.03, 0.5, 1004.0]\n",
      "                 Name  Manufacturing (USD)  Retail (USD)  # In Stock\n",
      "0             Cupcake                 1.24          4.50         NaN\n",
      "1               Donut                 0.17          0.99         NaN\n",
      "2              Eclair                 0.54          2.50         NaN\n",
      "3               Froyo                 0.78          3.50         NaN\n",
      "4         Gingerbread                 0.45          0.99         NaN\n",
      "5           Honeycomb                 1.25          3.00         NaN\n",
      "6  Ice Cream Sandwich                 1.21          2.99         NaN\n",
      "7          Jelly Bean                 0.04          0.99         NaN\n",
      "8              KitKat                 0.33          1.50         NaN\n",
      "9            Lollipop                 0.11          1.10         NaN\n",
      "612.0\n"
     ]
    }
   ],
   "metadata": {
    "colab": {},
    "colab_type": "code",
    "id": "fz6X8h3nFUZH"
   }
  },
  {
   "cell_type": "markdown",
   "source": [
    "---"
   ],
   "metadata": {
    "colab_type": "text",
    "id": "jBnaj4YXFpPS"
   }
  },
  {
   "cell_type": "markdown",
   "source": [
    "##Sorting"
   ],
   "metadata": {
    "colab_type": "text",
    "id": "3IPzZkHyW8G8"
   }
  },
  {
   "cell_type": "markdown",
   "source": [
    "It is often important to sort data in order to visually examine the data for patterns and anomalies. Luckily this is easy to do in Pandas.\n",
    "\n",
    "To start off, let's build a `DataFrame` to sort. For this example we will use a `DataFrame` containing information about cities, their populations, and the number of airports in-and-around the cities."
   ],
   "metadata": {
    "colab_type": "text",
    "id": "YShTCy0DXB4o"
   }
  },
  {
   "cell_type": "code",
   "execution_count": 47,
   "source": [
    "import pandas as pd\n",
    "\n",
    "airport_df = pd.DataFrame.from_records((\n",
    "  ('Atlanta', 498044, 2),\n",
    "  ('Austin', 964254, 2),\n",
    "  ('Kansas City',  491918, 8),\n",
    "  ('New York City', 8398748, 3),\n",
    "  ('Portland', 653115, 1),\n",
    "  ('San Francisco', 883305, 3),\n",
    "  ('Seattle', 744955, 2),\n",
    "), columns=(\"City Name\", \"Population\", \"Airports\"))\n",
    "\n",
    "airport_df"
   ],
   "outputs": [
    {
     "output_type": "execute_result",
     "data": {
      "text/html": [
       "<div>\n",
       "<style scoped>\n",
       "    .dataframe tbody tr th:only-of-type {\n",
       "        vertical-align: middle;\n",
       "    }\n",
       "\n",
       "    .dataframe tbody tr th {\n",
       "        vertical-align: top;\n",
       "    }\n",
       "\n",
       "    .dataframe thead th {\n",
       "        text-align: right;\n",
       "    }\n",
       "</style>\n",
       "<table border=\"1\" class=\"dataframe\">\n",
       "  <thead>\n",
       "    <tr style=\"text-align: right;\">\n",
       "      <th></th>\n",
       "      <th>City Name</th>\n",
       "      <th>Population</th>\n",
       "      <th>Airports</th>\n",
       "    </tr>\n",
       "  </thead>\n",
       "  <tbody>\n",
       "    <tr>\n",
       "      <th>0</th>\n",
       "      <td>Atlanta</td>\n",
       "      <td>498044</td>\n",
       "      <td>2</td>\n",
       "    </tr>\n",
       "    <tr>\n",
       "      <th>1</th>\n",
       "      <td>Austin</td>\n",
       "      <td>964254</td>\n",
       "      <td>2</td>\n",
       "    </tr>\n",
       "    <tr>\n",
       "      <th>2</th>\n",
       "      <td>Kansas City</td>\n",
       "      <td>491918</td>\n",
       "      <td>8</td>\n",
       "    </tr>\n",
       "    <tr>\n",
       "      <th>3</th>\n",
       "      <td>New York City</td>\n",
       "      <td>8398748</td>\n",
       "      <td>3</td>\n",
       "    </tr>\n",
       "    <tr>\n",
       "      <th>4</th>\n",
       "      <td>Portland</td>\n",
       "      <td>653115</td>\n",
       "      <td>1</td>\n",
       "    </tr>\n",
       "    <tr>\n",
       "      <th>5</th>\n",
       "      <td>San Francisco</td>\n",
       "      <td>883305</td>\n",
       "      <td>3</td>\n",
       "    </tr>\n",
       "    <tr>\n",
       "      <th>6</th>\n",
       "      <td>Seattle</td>\n",
       "      <td>744955</td>\n",
       "      <td>2</td>\n",
       "    </tr>\n",
       "  </tbody>\n",
       "</table>\n",
       "</div>"
      ],
      "text/plain": [
       "       City Name  Population  Airports\n",
       "0        Atlanta      498044         2\n",
       "1         Austin      964254         2\n",
       "2    Kansas City      491918         8\n",
       "3  New York City     8398748         3\n",
       "4       Portland      653115         1\n",
       "5  San Francisco      883305         3\n",
       "6        Seattle      744955         2"
      ]
     },
     "metadata": {},
     "execution_count": 47
    }
   ],
   "metadata": {
    "colab": {},
    "colab_type": "code",
    "id": "3A50pJfEWlYS"
   }
  },
  {
   "cell_type": "markdown",
   "source": [
    "The data seems to be sorted by `City Name`. If we want to sort the data by `Population` we can use the `sort_values()` method:"
   ],
   "metadata": {
    "colab_type": "text",
    "id": "DLvx7DVxI4ZG"
   }
  },
  {
   "cell_type": "code",
   "execution_count": 48,
   "source": [
    "airport_df.sort_values('Population')"
   ],
   "outputs": [
    {
     "output_type": "execute_result",
     "data": {
      "text/html": [
       "<div>\n",
       "<style scoped>\n",
       "    .dataframe tbody tr th:only-of-type {\n",
       "        vertical-align: middle;\n",
       "    }\n",
       "\n",
       "    .dataframe tbody tr th {\n",
       "        vertical-align: top;\n",
       "    }\n",
       "\n",
       "    .dataframe thead th {\n",
       "        text-align: right;\n",
       "    }\n",
       "</style>\n",
       "<table border=\"1\" class=\"dataframe\">\n",
       "  <thead>\n",
       "    <tr style=\"text-align: right;\">\n",
       "      <th></th>\n",
       "      <th>City Name</th>\n",
       "      <th>Population</th>\n",
       "      <th>Airports</th>\n",
       "    </tr>\n",
       "  </thead>\n",
       "  <tbody>\n",
       "    <tr>\n",
       "      <th>2</th>\n",
       "      <td>Kansas City</td>\n",
       "      <td>491918</td>\n",
       "      <td>8</td>\n",
       "    </tr>\n",
       "    <tr>\n",
       "      <th>0</th>\n",
       "      <td>Atlanta</td>\n",
       "      <td>498044</td>\n",
       "      <td>2</td>\n",
       "    </tr>\n",
       "    <tr>\n",
       "      <th>4</th>\n",
       "      <td>Portland</td>\n",
       "      <td>653115</td>\n",
       "      <td>1</td>\n",
       "    </tr>\n",
       "    <tr>\n",
       "      <th>6</th>\n",
       "      <td>Seattle</td>\n",
       "      <td>744955</td>\n",
       "      <td>2</td>\n",
       "    </tr>\n",
       "    <tr>\n",
       "      <th>5</th>\n",
       "      <td>San Francisco</td>\n",
       "      <td>883305</td>\n",
       "      <td>3</td>\n",
       "    </tr>\n",
       "    <tr>\n",
       "      <th>1</th>\n",
       "      <td>Austin</td>\n",
       "      <td>964254</td>\n",
       "      <td>2</td>\n",
       "    </tr>\n",
       "    <tr>\n",
       "      <th>3</th>\n",
       "      <td>New York City</td>\n",
       "      <td>8398748</td>\n",
       "      <td>3</td>\n",
       "    </tr>\n",
       "  </tbody>\n",
       "</table>\n",
       "</div>"
      ],
      "text/plain": [
       "       City Name  Population  Airports\n",
       "2    Kansas City      491918         8\n",
       "0        Atlanta      498044         2\n",
       "4       Portland      653115         1\n",
       "6        Seattle      744955         2\n",
       "5  San Francisco      883305         3\n",
       "1         Austin      964254         2\n",
       "3  New York City     8398748         3"
      ]
     },
     "metadata": {},
     "execution_count": 48
    }
   ],
   "metadata": {
    "colab": {},
    "colab_type": "code",
    "id": "sZvMTrfEIj8I"
   }
  },
  {
   "cell_type": "markdown",
   "source": [
    "We can see that Kansas City is the smallest city in our dataset, and New York City is the largest.\n",
    "\n",
    "If you were thinking, *Why does Kansas City have so many airports?*, good for you!\n",
    "\n",
    "This is one of the benefits we can get from viewing our data in different sorting orders. We can see that the smallest city by population has the largest number of airports. This doesn't seem right.\n",
    "\n",
    "If we were going to be using this dataset for an actual data science project, we would want to investigate this further. We could:\n",
    "\n",
    " * Verify that Kansas City actually does have 8 airports\n",
    " * Verify that a few of the other cities, especially the larger ones, have so few airports\n",
    " * Look into how the data was collected to see if the count for Kansas City was collected differently:\n",
    "   * Does it contain regional airports while others do not?\n",
    "   * What counts as an airport for the city? Farm landing strips? Military bases?\n",
    "   * How close to a city does an airport need to be to be considered an airport for that city?\n",
    "\n",
    "You can probably think of many more questions to ask about the data and how it was collected.\n",
    "\n",
    "When you see something that looks odd in your data, ask questions!"
   ],
   "metadata": {
    "colab_type": "text",
    "id": "HZ_hpCdCX0My"
   }
  },
  {
   "cell_type": "markdown",
   "source": [
    "For now, let's get back to sorting. What if we wanted to sort by more than one column?\n",
    "\n",
    "For instance, we can sort by the number of airports in a city and then by population:"
   ],
   "metadata": {
    "colab_type": "text",
    "id": "146W-B21Knnx"
   }
  },
  {
   "cell_type": "code",
   "execution_count": 49,
   "source": [
    "airport_df.sort_values(['Airports', 'Population'])"
   ],
   "outputs": [
    {
     "output_type": "execute_result",
     "data": {
      "text/html": [
       "<div>\n",
       "<style scoped>\n",
       "    .dataframe tbody tr th:only-of-type {\n",
       "        vertical-align: middle;\n",
       "    }\n",
       "\n",
       "    .dataframe tbody tr th {\n",
       "        vertical-align: top;\n",
       "    }\n",
       "\n",
       "    .dataframe thead th {\n",
       "        text-align: right;\n",
       "    }\n",
       "</style>\n",
       "<table border=\"1\" class=\"dataframe\">\n",
       "  <thead>\n",
       "    <tr style=\"text-align: right;\">\n",
       "      <th></th>\n",
       "      <th>City Name</th>\n",
       "      <th>Population</th>\n",
       "      <th>Airports</th>\n",
       "    </tr>\n",
       "  </thead>\n",
       "  <tbody>\n",
       "    <tr>\n",
       "      <th>4</th>\n",
       "      <td>Portland</td>\n",
       "      <td>653115</td>\n",
       "      <td>1</td>\n",
       "    </tr>\n",
       "    <tr>\n",
       "      <th>0</th>\n",
       "      <td>Atlanta</td>\n",
       "      <td>498044</td>\n",
       "      <td>2</td>\n",
       "    </tr>\n",
       "    <tr>\n",
       "      <th>6</th>\n",
       "      <td>Seattle</td>\n",
       "      <td>744955</td>\n",
       "      <td>2</td>\n",
       "    </tr>\n",
       "    <tr>\n",
       "      <th>1</th>\n",
       "      <td>Austin</td>\n",
       "      <td>964254</td>\n",
       "      <td>2</td>\n",
       "    </tr>\n",
       "    <tr>\n",
       "      <th>5</th>\n",
       "      <td>San Francisco</td>\n",
       "      <td>883305</td>\n",
       "      <td>3</td>\n",
       "    </tr>\n",
       "    <tr>\n",
       "      <th>3</th>\n",
       "      <td>New York City</td>\n",
       "      <td>8398748</td>\n",
       "      <td>3</td>\n",
       "    </tr>\n",
       "    <tr>\n",
       "      <th>2</th>\n",
       "      <td>Kansas City</td>\n",
       "      <td>491918</td>\n",
       "      <td>8</td>\n",
       "    </tr>\n",
       "  </tbody>\n",
       "</table>\n",
       "</div>"
      ],
      "text/plain": [
       "       City Name  Population  Airports\n",
       "4       Portland      653115         1\n",
       "0        Atlanta      498044         2\n",
       "6        Seattle      744955         2\n",
       "1         Austin      964254         2\n",
       "5  San Francisco      883305         3\n",
       "3  New York City     8398748         3\n",
       "2    Kansas City      491918         8"
      ]
     },
     "metadata": {},
     "execution_count": 49
    }
   ],
   "metadata": {
    "colab": {},
    "colab_type": "code",
    "id": "z2p-lwv-K2OY"
   }
  },
  {
   "cell_type": "markdown",
   "source": [
    "Using this we can now answer questions such as *What is the smallest city with two airports?*\n"
   ],
   "metadata": {
    "colab_type": "text",
    "id": "PQMkNutAK18b"
   }
  },
  {
   "cell_type": "markdown",
   "source": [
    "Notice that although we sorted the `DataFrame`, we didn't actually change the `DataFrame` itself:"
   ],
   "metadata": {
    "colab_type": "text",
    "id": "BrmeRDWjLNe6"
   }
  },
  {
   "cell_type": "code",
   "execution_count": 50,
   "source": [
    "airport_df"
   ],
   "outputs": [
    {
     "output_type": "execute_result",
     "data": {
      "text/html": [
       "<div>\n",
       "<style scoped>\n",
       "    .dataframe tbody tr th:only-of-type {\n",
       "        vertical-align: middle;\n",
       "    }\n",
       "\n",
       "    .dataframe tbody tr th {\n",
       "        vertical-align: top;\n",
       "    }\n",
       "\n",
       "    .dataframe thead th {\n",
       "        text-align: right;\n",
       "    }\n",
       "</style>\n",
       "<table border=\"1\" class=\"dataframe\">\n",
       "  <thead>\n",
       "    <tr style=\"text-align: right;\">\n",
       "      <th></th>\n",
       "      <th>City Name</th>\n",
       "      <th>Population</th>\n",
       "      <th>Airports</th>\n",
       "    </tr>\n",
       "  </thead>\n",
       "  <tbody>\n",
       "    <tr>\n",
       "      <th>0</th>\n",
       "      <td>Atlanta</td>\n",
       "      <td>498044</td>\n",
       "      <td>2</td>\n",
       "    </tr>\n",
       "    <tr>\n",
       "      <th>1</th>\n",
       "      <td>Austin</td>\n",
       "      <td>964254</td>\n",
       "      <td>2</td>\n",
       "    </tr>\n",
       "    <tr>\n",
       "      <th>2</th>\n",
       "      <td>Kansas City</td>\n",
       "      <td>491918</td>\n",
       "      <td>8</td>\n",
       "    </tr>\n",
       "    <tr>\n",
       "      <th>3</th>\n",
       "      <td>New York City</td>\n",
       "      <td>8398748</td>\n",
       "      <td>3</td>\n",
       "    </tr>\n",
       "    <tr>\n",
       "      <th>4</th>\n",
       "      <td>Portland</td>\n",
       "      <td>653115</td>\n",
       "      <td>1</td>\n",
       "    </tr>\n",
       "    <tr>\n",
       "      <th>5</th>\n",
       "      <td>San Francisco</td>\n",
       "      <td>883305</td>\n",
       "      <td>3</td>\n",
       "    </tr>\n",
       "    <tr>\n",
       "      <th>6</th>\n",
       "      <td>Seattle</td>\n",
       "      <td>744955</td>\n",
       "      <td>2</td>\n",
       "    </tr>\n",
       "  </tbody>\n",
       "</table>\n",
       "</div>"
      ],
      "text/plain": [
       "       City Name  Population  Airports\n",
       "0        Atlanta      498044         2\n",
       "1         Austin      964254         2\n",
       "2    Kansas City      491918         8\n",
       "3  New York City     8398748         3\n",
       "4       Portland      653115         1\n",
       "5  San Francisco      883305         3\n",
       "6        Seattle      744955         2"
      ]
     },
     "metadata": {},
     "execution_count": 50
    }
   ],
   "metadata": {
    "colab": {},
    "colab_type": "code",
    "id": "pc9ErSKyLUbC"
   }
  },
  {
   "cell_type": "markdown",
   "source": [
    "If we do want to save the sort order we can assign the return value of `sort_values()` to another variable:"
   ],
   "metadata": {
    "colab_type": "text",
    "id": "yURJft1iLT-D"
   }
  },
  {
   "cell_type": "code",
   "execution_count": 51,
   "source": [
    "sorted_airport_df = airport_df.sort_values(['Airports', 'Population'])\n",
    "\n",
    "sorted_airport_df"
   ],
   "outputs": [
    {
     "output_type": "execute_result",
     "data": {
      "text/html": [
       "<div>\n",
       "<style scoped>\n",
       "    .dataframe tbody tr th:only-of-type {\n",
       "        vertical-align: middle;\n",
       "    }\n",
       "\n",
       "    .dataframe tbody tr th {\n",
       "        vertical-align: top;\n",
       "    }\n",
       "\n",
       "    .dataframe thead th {\n",
       "        text-align: right;\n",
       "    }\n",
       "</style>\n",
       "<table border=\"1\" class=\"dataframe\">\n",
       "  <thead>\n",
       "    <tr style=\"text-align: right;\">\n",
       "      <th></th>\n",
       "      <th>City Name</th>\n",
       "      <th>Population</th>\n",
       "      <th>Airports</th>\n",
       "    </tr>\n",
       "  </thead>\n",
       "  <tbody>\n",
       "    <tr>\n",
       "      <th>4</th>\n",
       "      <td>Portland</td>\n",
       "      <td>653115</td>\n",
       "      <td>1</td>\n",
       "    </tr>\n",
       "    <tr>\n",
       "      <th>0</th>\n",
       "      <td>Atlanta</td>\n",
       "      <td>498044</td>\n",
       "      <td>2</td>\n",
       "    </tr>\n",
       "    <tr>\n",
       "      <th>6</th>\n",
       "      <td>Seattle</td>\n",
       "      <td>744955</td>\n",
       "      <td>2</td>\n",
       "    </tr>\n",
       "    <tr>\n",
       "      <th>1</th>\n",
       "      <td>Austin</td>\n",
       "      <td>964254</td>\n",
       "      <td>2</td>\n",
       "    </tr>\n",
       "    <tr>\n",
       "      <th>5</th>\n",
       "      <td>San Francisco</td>\n",
       "      <td>883305</td>\n",
       "      <td>3</td>\n",
       "    </tr>\n",
       "    <tr>\n",
       "      <th>3</th>\n",
       "      <td>New York City</td>\n",
       "      <td>8398748</td>\n",
       "      <td>3</td>\n",
       "    </tr>\n",
       "    <tr>\n",
       "      <th>2</th>\n",
       "      <td>Kansas City</td>\n",
       "      <td>491918</td>\n",
       "      <td>8</td>\n",
       "    </tr>\n",
       "  </tbody>\n",
       "</table>\n",
       "</div>"
      ],
      "text/plain": [
       "       City Name  Population  Airports\n",
       "4       Portland      653115         1\n",
       "0        Atlanta      498044         2\n",
       "6        Seattle      744955         2\n",
       "1         Austin      964254         2\n",
       "5  San Francisco      883305         3\n",
       "3  New York City     8398748         3\n",
       "2    Kansas City      491918         8"
      ]
     },
     "metadata": {},
     "execution_count": 51
    }
   ],
   "metadata": {
    "colab": {},
    "colab_type": "code",
    "id": "e3hVozogaX3s"
   }
  },
  {
   "cell_type": "markdown",
   "source": [
    "But this doesn't modify the original `DataFrame`. To do that, use the `inplace` argument:"
   ],
   "metadata": {
    "colab_type": "text",
    "id": "9ah3Y8joadBz"
   }
  },
  {
   "cell_type": "code",
   "execution_count": 52,
   "source": [
    "airport_df.sort_values(['Airports', 'Population'], inplace=True)\n",
    "\n",
    "airport_df"
   ],
   "outputs": [
    {
     "output_type": "execute_result",
     "data": {
      "text/html": [
       "<div>\n",
       "<style scoped>\n",
       "    .dataframe tbody tr th:only-of-type {\n",
       "        vertical-align: middle;\n",
       "    }\n",
       "\n",
       "    .dataframe tbody tr th {\n",
       "        vertical-align: top;\n",
       "    }\n",
       "\n",
       "    .dataframe thead th {\n",
       "        text-align: right;\n",
       "    }\n",
       "</style>\n",
       "<table border=\"1\" class=\"dataframe\">\n",
       "  <thead>\n",
       "    <tr style=\"text-align: right;\">\n",
       "      <th></th>\n",
       "      <th>City Name</th>\n",
       "      <th>Population</th>\n",
       "      <th>Airports</th>\n",
       "    </tr>\n",
       "  </thead>\n",
       "  <tbody>\n",
       "    <tr>\n",
       "      <th>4</th>\n",
       "      <td>Portland</td>\n",
       "      <td>653115</td>\n",
       "      <td>1</td>\n",
       "    </tr>\n",
       "    <tr>\n",
       "      <th>0</th>\n",
       "      <td>Atlanta</td>\n",
       "      <td>498044</td>\n",
       "      <td>2</td>\n",
       "    </tr>\n",
       "    <tr>\n",
       "      <th>6</th>\n",
       "      <td>Seattle</td>\n",
       "      <td>744955</td>\n",
       "      <td>2</td>\n",
       "    </tr>\n",
       "    <tr>\n",
       "      <th>1</th>\n",
       "      <td>Austin</td>\n",
       "      <td>964254</td>\n",
       "      <td>2</td>\n",
       "    </tr>\n",
       "    <tr>\n",
       "      <th>5</th>\n",
       "      <td>San Francisco</td>\n",
       "      <td>883305</td>\n",
       "      <td>3</td>\n",
       "    </tr>\n",
       "    <tr>\n",
       "      <th>3</th>\n",
       "      <td>New York City</td>\n",
       "      <td>8398748</td>\n",
       "      <td>3</td>\n",
       "    </tr>\n",
       "    <tr>\n",
       "      <th>2</th>\n",
       "      <td>Kansas City</td>\n",
       "      <td>491918</td>\n",
       "      <td>8</td>\n",
       "    </tr>\n",
       "  </tbody>\n",
       "</table>\n",
       "</div>"
      ],
      "text/plain": [
       "       City Name  Population  Airports\n",
       "4       Portland      653115         1\n",
       "0        Atlanta      498044         2\n",
       "6        Seattle      744955         2\n",
       "1         Austin      964254         2\n",
       "5  San Francisco      883305         3\n",
       "3  New York City     8398748         3\n",
       "2    Kansas City      491918         8"
      ]
     },
     "metadata": {},
     "execution_count": 52
    }
   ],
   "metadata": {
    "colab": {},
    "colab_type": "code",
    "id": "rLbqP39Caj9F"
   }
  },
  {
   "cell_type": "markdown",
   "source": [
    "## References and Copies\n",
    "\n",
    "Both [Python](https://python.org) and [Pandas](https://pandas.pydata.org) strive to hide lower-level programming details from you whenever they can. However, there are some cases where you do have to be aware of how your data is being managed.\n",
    "\n",
    "One place where this often happens is when Pandas is working indirectly with with a `DataFrame`.\n",
    "\n",
    "We'll walk through some examples using the airport data we have seen many times in this lab."
   ],
   "metadata": {
    "colab_type": "text",
    "id": "d3Nwr9urap49"
   }
  },
  {
   "cell_type": "code",
   "execution_count": 53,
   "source": [
    "import pandas as pd\n",
    "\n",
    "airport_df = pd.DataFrame.from_records((\n",
    "  ('Atlanta', 498044, 2),\n",
    "  ('Austin', 964254, 2),\n",
    "  ('Kansas City',  491918, 8),\n",
    "  ('New York City', 8398748, 3),\n",
    "  ('Portland', 653115, 1),\n",
    "  ('San Francisco', 883305, 3),\n",
    "  ('Seattle', 744955, 2),\n",
    "), columns=(\"City Name\", \"Population\", \"Airports\"))\n",
    "\n",
    "airport_df"
   ],
   "outputs": [
    {
     "output_type": "execute_result",
     "data": {
      "text/html": [
       "<div>\n",
       "<style scoped>\n",
       "    .dataframe tbody tr th:only-of-type {\n",
       "        vertical-align: middle;\n",
       "    }\n",
       "\n",
       "    .dataframe tbody tr th {\n",
       "        vertical-align: top;\n",
       "    }\n",
       "\n",
       "    .dataframe thead th {\n",
       "        text-align: right;\n",
       "    }\n",
       "</style>\n",
       "<table border=\"1\" class=\"dataframe\">\n",
       "  <thead>\n",
       "    <tr style=\"text-align: right;\">\n",
       "      <th></th>\n",
       "      <th>City Name</th>\n",
       "      <th>Population</th>\n",
       "      <th>Airports</th>\n",
       "    </tr>\n",
       "  </thead>\n",
       "  <tbody>\n",
       "    <tr>\n",
       "      <th>0</th>\n",
       "      <td>Atlanta</td>\n",
       "      <td>498044</td>\n",
       "      <td>2</td>\n",
       "    </tr>\n",
       "    <tr>\n",
       "      <th>1</th>\n",
       "      <td>Austin</td>\n",
       "      <td>964254</td>\n",
       "      <td>2</td>\n",
       "    </tr>\n",
       "    <tr>\n",
       "      <th>2</th>\n",
       "      <td>Kansas City</td>\n",
       "      <td>491918</td>\n",
       "      <td>8</td>\n",
       "    </tr>\n",
       "    <tr>\n",
       "      <th>3</th>\n",
       "      <td>New York City</td>\n",
       "      <td>8398748</td>\n",
       "      <td>3</td>\n",
       "    </tr>\n",
       "    <tr>\n",
       "      <th>4</th>\n",
       "      <td>Portland</td>\n",
       "      <td>653115</td>\n",
       "      <td>1</td>\n",
       "    </tr>\n",
       "    <tr>\n",
       "      <th>5</th>\n",
       "      <td>San Francisco</td>\n",
       "      <td>883305</td>\n",
       "      <td>3</td>\n",
       "    </tr>\n",
       "    <tr>\n",
       "      <th>6</th>\n",
       "      <td>Seattle</td>\n",
       "      <td>744955</td>\n",
       "      <td>2</td>\n",
       "    </tr>\n",
       "  </tbody>\n",
       "</table>\n",
       "</div>"
      ],
      "text/plain": [
       "       City Name  Population  Airports\n",
       "0        Atlanta      498044         2\n",
       "1         Austin      964254         2\n",
       "2    Kansas City      491918         8\n",
       "3  New York City     8398748         3\n",
       "4       Portland      653115         1\n",
       "5  San Francisco      883305         3\n",
       "6        Seattle      744955         2"
      ]
     },
     "metadata": {},
     "execution_count": 53
    }
   ],
   "metadata": {
    "colab": {},
    "colab_type": "code",
    "id": "qmmhdg7mbAcB"
   }
  },
  {
   "cell_type": "markdown",
   "source": [
    "We'll start simple and assign the `airport_df` to another variable, `airport_df2`. We then try to double the number of airports in `airport_df2`.\n",
    "\n",
    "What happens to `airport_df` and `airport_df2`?"
   ],
   "metadata": {
    "colab_type": "text",
    "id": "oq6aHv2sdmNj"
   }
  },
  {
   "cell_type": "code",
   "execution_count": 54,
   "source": [
    "airport_df2 = airport_df\n",
    "\n",
    "airport_df2.loc[:, 'Airports'] *= 2\n",
    "\n",
    "airport_df"
   ],
   "outputs": [
    {
     "output_type": "execute_result",
     "data": {
      "text/html": [
       "<div>\n",
       "<style scoped>\n",
       "    .dataframe tbody tr th:only-of-type {\n",
       "        vertical-align: middle;\n",
       "    }\n",
       "\n",
       "    .dataframe tbody tr th {\n",
       "        vertical-align: top;\n",
       "    }\n",
       "\n",
       "    .dataframe thead th {\n",
       "        text-align: right;\n",
       "    }\n",
       "</style>\n",
       "<table border=\"1\" class=\"dataframe\">\n",
       "  <thead>\n",
       "    <tr style=\"text-align: right;\">\n",
       "      <th></th>\n",
       "      <th>City Name</th>\n",
       "      <th>Population</th>\n",
       "      <th>Airports</th>\n",
       "    </tr>\n",
       "  </thead>\n",
       "  <tbody>\n",
       "    <tr>\n",
       "      <th>0</th>\n",
       "      <td>Atlanta</td>\n",
       "      <td>498044</td>\n",
       "      <td>4</td>\n",
       "    </tr>\n",
       "    <tr>\n",
       "      <th>1</th>\n",
       "      <td>Austin</td>\n",
       "      <td>964254</td>\n",
       "      <td>4</td>\n",
       "    </tr>\n",
       "    <tr>\n",
       "      <th>2</th>\n",
       "      <td>Kansas City</td>\n",
       "      <td>491918</td>\n",
       "      <td>16</td>\n",
       "    </tr>\n",
       "    <tr>\n",
       "      <th>3</th>\n",
       "      <td>New York City</td>\n",
       "      <td>8398748</td>\n",
       "      <td>6</td>\n",
       "    </tr>\n",
       "    <tr>\n",
       "      <th>4</th>\n",
       "      <td>Portland</td>\n",
       "      <td>653115</td>\n",
       "      <td>2</td>\n",
       "    </tr>\n",
       "    <tr>\n",
       "      <th>5</th>\n",
       "      <td>San Francisco</td>\n",
       "      <td>883305</td>\n",
       "      <td>6</td>\n",
       "    </tr>\n",
       "    <tr>\n",
       "      <th>6</th>\n",
       "      <td>Seattle</td>\n",
       "      <td>744955</td>\n",
       "      <td>4</td>\n",
       "    </tr>\n",
       "  </tbody>\n",
       "</table>\n",
       "</div>"
      ],
      "text/plain": [
       "       City Name  Population  Airports\n",
       "0        Atlanta      498044         4\n",
       "1         Austin      964254         4\n",
       "2    Kansas City      491918        16\n",
       "3  New York City     8398748         6\n",
       "4       Portland      653115         2\n",
       "5  San Francisco      883305         6\n",
       "6        Seattle      744955         4"
      ]
     },
     "metadata": {},
     "execution_count": 54
    }
   ],
   "metadata": {
    "colab": {},
    "colab_type": "code",
    "id": "EbqbCEzFbBsw"
   }
  },
  {
   "cell_type": "markdown",
   "source": [
    "Yikes! When we modified `airport_df2` we also modified `airport_df`.\n",
    "\n",
    "This actually has nothing to do with Pandas, but instead is a case where Python creates a **reference** to our original `DataFrame` instead of a copy.\n",
    "\n",
    "When we assign `airport_df` to `airport_df2` Python just makes `airport_df2` refer to the object that is in `airport_df`. Both refer to the same copy of the data.\n",
    "\n",
    "This is desirable in many cases. Your data might be big. Having many copies can consume a lot of memory and take a lot of time.\n",
    "\n",
    "But sometimes you need to actually copy data. Let's reset our airport `DataFrame` and do just that."
   ],
   "metadata": {
    "colab_type": "text",
    "id": "uPoGJwMieOtH"
   }
  },
  {
   "cell_type": "code",
   "execution_count": 55,
   "source": [
    "import pandas as pd\n",
    "\n",
    "airport_df = pd.DataFrame.from_records((\n",
    "  ('Atlanta', 498044, 2),\n",
    "  ('Austin', 964254, 2),\n",
    "  ('Kansas City',  491918, 8),\n",
    "  ('New York City', 8398748, 3),\n",
    "  ('Portland', 653115, 1),\n",
    "  ('San Francisco', 883305, 3),\n",
    "  ('Seattle', 744955, 2),\n",
    "), columns=(\"City Name\", \"Population\", \"Airports\"))\n",
    "\n",
    "airport_df"
   ],
   "outputs": [
    {
     "output_type": "execute_result",
     "data": {
      "text/html": [
       "<div>\n",
       "<style scoped>\n",
       "    .dataframe tbody tr th:only-of-type {\n",
       "        vertical-align: middle;\n",
       "    }\n",
       "\n",
       "    .dataframe tbody tr th {\n",
       "        vertical-align: top;\n",
       "    }\n",
       "\n",
       "    .dataframe thead th {\n",
       "        text-align: right;\n",
       "    }\n",
       "</style>\n",
       "<table border=\"1\" class=\"dataframe\">\n",
       "  <thead>\n",
       "    <tr style=\"text-align: right;\">\n",
       "      <th></th>\n",
       "      <th>City Name</th>\n",
       "      <th>Population</th>\n",
       "      <th>Airports</th>\n",
       "    </tr>\n",
       "  </thead>\n",
       "  <tbody>\n",
       "    <tr>\n",
       "      <th>0</th>\n",
       "      <td>Atlanta</td>\n",
       "      <td>498044</td>\n",
       "      <td>2</td>\n",
       "    </tr>\n",
       "    <tr>\n",
       "      <th>1</th>\n",
       "      <td>Austin</td>\n",
       "      <td>964254</td>\n",
       "      <td>2</td>\n",
       "    </tr>\n",
       "    <tr>\n",
       "      <th>2</th>\n",
       "      <td>Kansas City</td>\n",
       "      <td>491918</td>\n",
       "      <td>8</td>\n",
       "    </tr>\n",
       "    <tr>\n",
       "      <th>3</th>\n",
       "      <td>New York City</td>\n",
       "      <td>8398748</td>\n",
       "      <td>3</td>\n",
       "    </tr>\n",
       "    <tr>\n",
       "      <th>4</th>\n",
       "      <td>Portland</td>\n",
       "      <td>653115</td>\n",
       "      <td>1</td>\n",
       "    </tr>\n",
       "    <tr>\n",
       "      <th>5</th>\n",
       "      <td>San Francisco</td>\n",
       "      <td>883305</td>\n",
       "      <td>3</td>\n",
       "    </tr>\n",
       "    <tr>\n",
       "      <th>6</th>\n",
       "      <td>Seattle</td>\n",
       "      <td>744955</td>\n",
       "      <td>2</td>\n",
       "    </tr>\n",
       "  </tbody>\n",
       "</table>\n",
       "</div>"
      ],
      "text/plain": [
       "       City Name  Population  Airports\n",
       "0        Atlanta      498044         2\n",
       "1         Austin      964254         2\n",
       "2    Kansas City      491918         8\n",
       "3  New York City     8398748         3\n",
       "4       Portland      653115         1\n",
       "5  San Francisco      883305         3\n",
       "6        Seattle      744955         2"
      ]
     },
     "metadata": {},
     "execution_count": 55
    }
   ],
   "metadata": {
    "colab": {},
    "colab_type": "code",
    "id": "cwJe0-12bOxI"
   }
  },
  {
   "cell_type": "markdown",
   "source": [
    "To make a copy of a `DataFrame` use the `copy()` method."
   ],
   "metadata": {
    "colab_type": "text",
    "id": "O6hWyJSVfEQx"
   }
  },
  {
   "cell_type": "code",
   "execution_count": 56,
   "source": [
    "airport_df2 = airport_df.copy()\n",
    "\n",
    "airport_df2.loc[:, 'Airports'] *= 2\n",
    "\n",
    "airport_df"
   ],
   "outputs": [
    {
     "output_type": "execute_result",
     "data": {
      "text/html": [
       "<div>\n",
       "<style scoped>\n",
       "    .dataframe tbody tr th:only-of-type {\n",
       "        vertical-align: middle;\n",
       "    }\n",
       "\n",
       "    .dataframe tbody tr th {\n",
       "        vertical-align: top;\n",
       "    }\n",
       "\n",
       "    .dataframe thead th {\n",
       "        text-align: right;\n",
       "    }\n",
       "</style>\n",
       "<table border=\"1\" class=\"dataframe\">\n",
       "  <thead>\n",
       "    <tr style=\"text-align: right;\">\n",
       "      <th></th>\n",
       "      <th>City Name</th>\n",
       "      <th>Population</th>\n",
       "      <th>Airports</th>\n",
       "    </tr>\n",
       "  </thead>\n",
       "  <tbody>\n",
       "    <tr>\n",
       "      <th>0</th>\n",
       "      <td>Atlanta</td>\n",
       "      <td>498044</td>\n",
       "      <td>2</td>\n",
       "    </tr>\n",
       "    <tr>\n",
       "      <th>1</th>\n",
       "      <td>Austin</td>\n",
       "      <td>964254</td>\n",
       "      <td>2</td>\n",
       "    </tr>\n",
       "    <tr>\n",
       "      <th>2</th>\n",
       "      <td>Kansas City</td>\n",
       "      <td>491918</td>\n",
       "      <td>8</td>\n",
       "    </tr>\n",
       "    <tr>\n",
       "      <th>3</th>\n",
       "      <td>New York City</td>\n",
       "      <td>8398748</td>\n",
       "      <td>3</td>\n",
       "    </tr>\n",
       "    <tr>\n",
       "      <th>4</th>\n",
       "      <td>Portland</td>\n",
       "      <td>653115</td>\n",
       "      <td>1</td>\n",
       "    </tr>\n",
       "    <tr>\n",
       "      <th>5</th>\n",
       "      <td>San Francisco</td>\n",
       "      <td>883305</td>\n",
       "      <td>3</td>\n",
       "    </tr>\n",
       "    <tr>\n",
       "      <th>6</th>\n",
       "      <td>Seattle</td>\n",
       "      <td>744955</td>\n",
       "      <td>2</td>\n",
       "    </tr>\n",
       "  </tbody>\n",
       "</table>\n",
       "</div>"
      ],
      "text/plain": [
       "       City Name  Population  Airports\n",
       "0        Atlanta      498044         2\n",
       "1         Austin      964254         2\n",
       "2    Kansas City      491918         8\n",
       "3  New York City     8398748         3\n",
       "4       Portland      653115         1\n",
       "5  San Francisco      883305         3\n",
       "6        Seattle      744955         2"
      ]
     },
     "metadata": {},
     "execution_count": 56
    }
   ],
   "metadata": {
    "colab": {},
    "colab_type": "code",
    "id": "eTQkj4h6bRLw"
   }
  },
  {
   "cell_type": "markdown",
   "source": [
    "As you can see, `airport_df` did not change.\n",
    "\n",
    "But you can see below that `airport_df2` did:"
   ],
   "metadata": {
    "colab_type": "text",
    "id": "2q4uwv-EfMoX"
   }
  },
  {
   "cell_type": "code",
   "execution_count": 57,
   "source": [
    "airport_df2"
   ],
   "outputs": [
    {
     "output_type": "execute_result",
     "data": {
      "text/html": [
       "<div>\n",
       "<style scoped>\n",
       "    .dataframe tbody tr th:only-of-type {\n",
       "        vertical-align: middle;\n",
       "    }\n",
       "\n",
       "    .dataframe tbody tr th {\n",
       "        vertical-align: top;\n",
       "    }\n",
       "\n",
       "    .dataframe thead th {\n",
       "        text-align: right;\n",
       "    }\n",
       "</style>\n",
       "<table border=\"1\" class=\"dataframe\">\n",
       "  <thead>\n",
       "    <tr style=\"text-align: right;\">\n",
       "      <th></th>\n",
       "      <th>City Name</th>\n",
       "      <th>Population</th>\n",
       "      <th>Airports</th>\n",
       "    </tr>\n",
       "  </thead>\n",
       "  <tbody>\n",
       "    <tr>\n",
       "      <th>0</th>\n",
       "      <td>Atlanta</td>\n",
       "      <td>498044</td>\n",
       "      <td>4</td>\n",
       "    </tr>\n",
       "    <tr>\n",
       "      <th>1</th>\n",
       "      <td>Austin</td>\n",
       "      <td>964254</td>\n",
       "      <td>4</td>\n",
       "    </tr>\n",
       "    <tr>\n",
       "      <th>2</th>\n",
       "      <td>Kansas City</td>\n",
       "      <td>491918</td>\n",
       "      <td>16</td>\n",
       "    </tr>\n",
       "    <tr>\n",
       "      <th>3</th>\n",
       "      <td>New York City</td>\n",
       "      <td>8398748</td>\n",
       "      <td>6</td>\n",
       "    </tr>\n",
       "    <tr>\n",
       "      <th>4</th>\n",
       "      <td>Portland</td>\n",
       "      <td>653115</td>\n",
       "      <td>2</td>\n",
       "    </tr>\n",
       "    <tr>\n",
       "      <th>5</th>\n",
       "      <td>San Francisco</td>\n",
       "      <td>883305</td>\n",
       "      <td>6</td>\n",
       "    </tr>\n",
       "    <tr>\n",
       "      <th>6</th>\n",
       "      <td>Seattle</td>\n",
       "      <td>744955</td>\n",
       "      <td>4</td>\n",
       "    </tr>\n",
       "  </tbody>\n",
       "</table>\n",
       "</div>"
      ],
      "text/plain": [
       "       City Name  Population  Airports\n",
       "0        Atlanta      498044         4\n",
       "1         Austin      964254         4\n",
       "2    Kansas City      491918        16\n",
       "3  New York City     8398748         6\n",
       "4       Portland      653115         2\n",
       "5  San Francisco      883305         6\n",
       "6        Seattle      744955         4"
      ]
     },
     "metadata": {},
     "execution_count": 57
    }
   ],
   "metadata": {
    "colab": {},
    "colab_type": "code",
    "id": "hjbdPTi5fT-U"
   }
  },
  {
   "cell_type": "markdown",
   "source": [
    "Pandas adds an additional level of abstraction called **views**. Views are a way to look at the same data from a different perspective.\n",
    "\n",
    "Let's work through an example using our airport dataset.\n",
    "\n",
    "Say we wanted to filter to only rows with more than two airports:"
   ],
   "metadata": {
    "colab_type": "text",
    "id": "mHnGs4e6fWL8"
   }
  },
  {
   "cell_type": "code",
   "execution_count": 58,
   "source": [
    "many_airports_df = airport_df[airport_df['Airports'] > 2]\n",
    "\n",
    "many_airports_df"
   ],
   "outputs": [
    {
     "output_type": "execute_result",
     "data": {
      "text/html": [
       "<div>\n",
       "<style scoped>\n",
       "    .dataframe tbody tr th:only-of-type {\n",
       "        vertical-align: middle;\n",
       "    }\n",
       "\n",
       "    .dataframe tbody tr th {\n",
       "        vertical-align: top;\n",
       "    }\n",
       "\n",
       "    .dataframe thead th {\n",
       "        text-align: right;\n",
       "    }\n",
       "</style>\n",
       "<table border=\"1\" class=\"dataframe\">\n",
       "  <thead>\n",
       "    <tr style=\"text-align: right;\">\n",
       "      <th></th>\n",
       "      <th>City Name</th>\n",
       "      <th>Population</th>\n",
       "      <th>Airports</th>\n",
       "    </tr>\n",
       "  </thead>\n",
       "  <tbody>\n",
       "    <tr>\n",
       "      <th>2</th>\n",
       "      <td>Kansas City</td>\n",
       "      <td>491918</td>\n",
       "      <td>8</td>\n",
       "    </tr>\n",
       "    <tr>\n",
       "      <th>3</th>\n",
       "      <td>New York City</td>\n",
       "      <td>8398748</td>\n",
       "      <td>3</td>\n",
       "    </tr>\n",
       "    <tr>\n",
       "      <th>5</th>\n",
       "      <td>San Francisco</td>\n",
       "      <td>883305</td>\n",
       "      <td>3</td>\n",
       "    </tr>\n",
       "  </tbody>\n",
       "</table>\n",
       "</div>"
      ],
      "text/plain": [
       "       City Name  Population  Airports\n",
       "2    Kansas City      491918         8\n",
       "3  New York City     8398748         3\n",
       "5  San Francisco      883305         3"
      ]
     },
     "metadata": {},
     "execution_count": 58
    }
   ],
   "metadata": {
    "colab": {},
    "colab_type": "code",
    "id": "8OBsjMxqgdFt"
   }
  },
  {
   "cell_type": "markdown",
   "source": [
    "What is `many_airports_df`? Is it a new `DataFrame`? Does it only contain three rows of data? Are the rows separate or the same as the rows in `airport_df`? If we modify `many_airports_df` will `airports_df` be modified?\n",
    "\n",
    "Let's try and see:"
   ],
   "metadata": {
    "colab_type": "text",
    "id": "HgG6vaRPggtg"
   }
  },
  {
   "cell_type": "code",
   "execution_count": 59,
   "source": [
    "many_airports_df = airport_df[airport_df['Airports'] > 2]\n",
    "\n",
    "many_airports_df['City Name'] = \\\n",
    "  many_airports_df['City Name'].apply(lambda s: s.upper())\n",
    "\n",
    "airport_df"
   ],
   "outputs": [
    {
     "output_type": "stream",
     "name": "stderr",
     "text": [
      "/var/folders/q7/wrxzkb515gqcskvhd38dwx6h0000gn/T/ipykernel_49274/3973342639.py:3: SettingWithCopyWarning: \n",
      "A value is trying to be set on a copy of a slice from a DataFrame.\n",
      "Try using .loc[row_indexer,col_indexer] = value instead\n",
      "\n",
      "See the caveats in the documentation: https://pandas.pydata.org/pandas-docs/stable/user_guide/indexing.html#returning-a-view-versus-a-copy\n",
      "  many_airports_df['City Name'] = \\\n"
     ]
    },
    {
     "output_type": "execute_result",
     "data": {
      "text/html": [
       "<div>\n",
       "<style scoped>\n",
       "    .dataframe tbody tr th:only-of-type {\n",
       "        vertical-align: middle;\n",
       "    }\n",
       "\n",
       "    .dataframe tbody tr th {\n",
       "        vertical-align: top;\n",
       "    }\n",
       "\n",
       "    .dataframe thead th {\n",
       "        text-align: right;\n",
       "    }\n",
       "</style>\n",
       "<table border=\"1\" class=\"dataframe\">\n",
       "  <thead>\n",
       "    <tr style=\"text-align: right;\">\n",
       "      <th></th>\n",
       "      <th>City Name</th>\n",
       "      <th>Population</th>\n",
       "      <th>Airports</th>\n",
       "    </tr>\n",
       "  </thead>\n",
       "  <tbody>\n",
       "    <tr>\n",
       "      <th>0</th>\n",
       "      <td>Atlanta</td>\n",
       "      <td>498044</td>\n",
       "      <td>2</td>\n",
       "    </tr>\n",
       "    <tr>\n",
       "      <th>1</th>\n",
       "      <td>Austin</td>\n",
       "      <td>964254</td>\n",
       "      <td>2</td>\n",
       "    </tr>\n",
       "    <tr>\n",
       "      <th>2</th>\n",
       "      <td>Kansas City</td>\n",
       "      <td>491918</td>\n",
       "      <td>8</td>\n",
       "    </tr>\n",
       "    <tr>\n",
       "      <th>3</th>\n",
       "      <td>New York City</td>\n",
       "      <td>8398748</td>\n",
       "      <td>3</td>\n",
       "    </tr>\n",
       "    <tr>\n",
       "      <th>4</th>\n",
       "      <td>Portland</td>\n",
       "      <td>653115</td>\n",
       "      <td>1</td>\n",
       "    </tr>\n",
       "    <tr>\n",
       "      <th>5</th>\n",
       "      <td>San Francisco</td>\n",
       "      <td>883305</td>\n",
       "      <td>3</td>\n",
       "    </tr>\n",
       "    <tr>\n",
       "      <th>6</th>\n",
       "      <td>Seattle</td>\n",
       "      <td>744955</td>\n",
       "      <td>2</td>\n",
       "    </tr>\n",
       "  </tbody>\n",
       "</table>\n",
       "</div>"
      ],
      "text/plain": [
       "       City Name  Population  Airports\n",
       "0        Atlanta      498044         2\n",
       "1         Austin      964254         2\n",
       "2    Kansas City      491918         8\n",
       "3  New York City     8398748         3\n",
       "4       Portland      653115         1\n",
       "5  San Francisco      883305         3\n",
       "6        Seattle      744955         2"
      ]
     },
     "metadata": {},
     "execution_count": 59
    }
   ],
   "metadata": {
    "colab": {},
    "colab_type": "code",
    "id": "Ujuae9SvbXuz"
   }
  },
  {
   "cell_type": "markdown",
   "source": [
    "We didn't modify `airport_df`, so we must be working with a copy.\n",
    "\n",
    "We did get a warning though:\n",
    "\n",
    "> ```\n",
    "SettingWithCopyWarning: \n",
    "A value is trying to be set on a copy of a slice from a DataFrame.\n",
    "Try using .loc[row_indexer,col_indexer] = value instead\n",
    "```\n",
    "\n",
    "In this case Pandas created a copy of the data, but it was uncertain if we wanted to modify the copy or the original `DataFrame`.\n",
    "\n",
    "Warnings are typically a bad sign. We can get rid of the warning by being explicit about what we want to do.\n",
    "\n",
    "If we want to copy the data into a new `DataFrame`, we can use `.copy()`:"
   ],
   "metadata": {
    "colab_type": "text",
    "id": "z-pXSUKChLOl"
   }
  },
  {
   "cell_type": "code",
   "execution_count": 60,
   "source": [
    "many_airports_df = airport_df[airport_df['Airports'] > 2].copy()\n",
    "\n",
    "many_airports_df['City Name'] = \\\n",
    "  many_airports_df['City Name'].apply(lambda s: s.upper())\n",
    "\n",
    "airport_df"
   ],
   "outputs": [
    {
     "output_type": "execute_result",
     "data": {
      "text/html": [
       "<div>\n",
       "<style scoped>\n",
       "    .dataframe tbody tr th:only-of-type {\n",
       "        vertical-align: middle;\n",
       "    }\n",
       "\n",
       "    .dataframe tbody tr th {\n",
       "        vertical-align: top;\n",
       "    }\n",
       "\n",
       "    .dataframe thead th {\n",
       "        text-align: right;\n",
       "    }\n",
       "</style>\n",
       "<table border=\"1\" class=\"dataframe\">\n",
       "  <thead>\n",
       "    <tr style=\"text-align: right;\">\n",
       "      <th></th>\n",
       "      <th>City Name</th>\n",
       "      <th>Population</th>\n",
       "      <th>Airports</th>\n",
       "    </tr>\n",
       "  </thead>\n",
       "  <tbody>\n",
       "    <tr>\n",
       "      <th>0</th>\n",
       "      <td>Atlanta</td>\n",
       "      <td>498044</td>\n",
       "      <td>2</td>\n",
       "    </tr>\n",
       "    <tr>\n",
       "      <th>1</th>\n",
       "      <td>Austin</td>\n",
       "      <td>964254</td>\n",
       "      <td>2</td>\n",
       "    </tr>\n",
       "    <tr>\n",
       "      <th>2</th>\n",
       "      <td>Kansas City</td>\n",
       "      <td>491918</td>\n",
       "      <td>8</td>\n",
       "    </tr>\n",
       "    <tr>\n",
       "      <th>3</th>\n",
       "      <td>New York City</td>\n",
       "      <td>8398748</td>\n",
       "      <td>3</td>\n",
       "    </tr>\n",
       "    <tr>\n",
       "      <th>4</th>\n",
       "      <td>Portland</td>\n",
       "      <td>653115</td>\n",
       "      <td>1</td>\n",
       "    </tr>\n",
       "    <tr>\n",
       "      <th>5</th>\n",
       "      <td>San Francisco</td>\n",
       "      <td>883305</td>\n",
       "      <td>3</td>\n",
       "    </tr>\n",
       "    <tr>\n",
       "      <th>6</th>\n",
       "      <td>Seattle</td>\n",
       "      <td>744955</td>\n",
       "      <td>2</td>\n",
       "    </tr>\n",
       "  </tbody>\n",
       "</table>\n",
       "</div>"
      ],
      "text/plain": [
       "       City Name  Population  Airports\n",
       "0        Atlanta      498044         2\n",
       "1         Austin      964254         2\n",
       "2    Kansas City      491918         8\n",
       "3  New York City     8398748         3\n",
       "4       Portland      653115         1\n",
       "5  San Francisco      883305         3\n",
       "6        Seattle      744955         2"
      ]
     },
     "metadata": {},
     "execution_count": 60
    }
   ],
   "metadata": {
    "colab": {},
    "colab_type": "code",
    "id": "0UzzBaIKifSV"
   }
  },
  {
   "cell_type": "markdown",
   "source": [
    "And if we want to not copy the data and to modify the original we need to index into `airport_df` for the modification:"
   ],
   "metadata": {
    "colab_type": "text",
    "id": "70AfR0OmimGt"
   }
  },
  {
   "cell_type": "code",
   "execution_count": 61,
   "source": [
    "has_many_airports = airport_df['Airports'] > 2\n",
    "\n",
    "airport_df.loc[has_many_airports, 'City Name'] = \\\n",
    "  airport_df.loc[has_many_airports, 'City Name'].apply(lambda s: s.upper())\n",
    "\n",
    "airport_df"
   ],
   "outputs": [
    {
     "output_type": "execute_result",
     "data": {
      "text/html": [
       "<div>\n",
       "<style scoped>\n",
       "    .dataframe tbody tr th:only-of-type {\n",
       "        vertical-align: middle;\n",
       "    }\n",
       "\n",
       "    .dataframe tbody tr th {\n",
       "        vertical-align: top;\n",
       "    }\n",
       "\n",
       "    .dataframe thead th {\n",
       "        text-align: right;\n",
       "    }\n",
       "</style>\n",
       "<table border=\"1\" class=\"dataframe\">\n",
       "  <thead>\n",
       "    <tr style=\"text-align: right;\">\n",
       "      <th></th>\n",
       "      <th>City Name</th>\n",
       "      <th>Population</th>\n",
       "      <th>Airports</th>\n",
       "    </tr>\n",
       "  </thead>\n",
       "  <tbody>\n",
       "    <tr>\n",
       "      <th>0</th>\n",
       "      <td>Atlanta</td>\n",
       "      <td>498044</td>\n",
       "      <td>2</td>\n",
       "    </tr>\n",
       "    <tr>\n",
       "      <th>1</th>\n",
       "      <td>Austin</td>\n",
       "      <td>964254</td>\n",
       "      <td>2</td>\n",
       "    </tr>\n",
       "    <tr>\n",
       "      <th>2</th>\n",
       "      <td>KANSAS CITY</td>\n",
       "      <td>491918</td>\n",
       "      <td>8</td>\n",
       "    </tr>\n",
       "    <tr>\n",
       "      <th>3</th>\n",
       "      <td>NEW YORK CITY</td>\n",
       "      <td>8398748</td>\n",
       "      <td>3</td>\n",
       "    </tr>\n",
       "    <tr>\n",
       "      <th>4</th>\n",
       "      <td>Portland</td>\n",
       "      <td>653115</td>\n",
       "      <td>1</td>\n",
       "    </tr>\n",
       "    <tr>\n",
       "      <th>5</th>\n",
       "      <td>SAN FRANCISCO</td>\n",
       "      <td>883305</td>\n",
       "      <td>3</td>\n",
       "    </tr>\n",
       "    <tr>\n",
       "      <th>6</th>\n",
       "      <td>Seattle</td>\n",
       "      <td>744955</td>\n",
       "      <td>2</td>\n",
       "    </tr>\n",
       "  </tbody>\n",
       "</table>\n",
       "</div>"
      ],
      "text/plain": [
       "       City Name  Population  Airports\n",
       "0        Atlanta      498044         2\n",
       "1         Austin      964254         2\n",
       "2    KANSAS CITY      491918         8\n",
       "3  NEW YORK CITY     8398748         3\n",
       "4       Portland      653115         1\n",
       "5  SAN FRANCISCO      883305         3\n",
       "6        Seattle      744955         2"
      ]
     },
     "metadata": {},
     "execution_count": 61
    }
   ],
   "metadata": {
    "colab": {},
    "colab_type": "code",
    "id": "AHqD9SiZbvGn"
   }
  },
  {
   "cell_type": "markdown",
   "source": [
    "### Exercise 6: Updating Calories\n",
    "\n",
    "We just learned that the calorie count for our candy shop's jelly beans and lollipops is 10% too low. We need to update the calorie count for these two treats.\n",
    "\n",
    "Below you'll find the `nutrition_information_df` which contains nutritional information about our treats. Write some code to increase the calories for 'Jelly Bean' and 'Lollipop' by 10%. Be sure that the data stored in `nutrition_information_df` is updated.\n",
    "\n",
    "Be sure that no warnings are issued!"
   ],
   "metadata": {
    "colab_type": "text",
    "id": "vt8vGMYVmA2G"
   }
  },
  {
   "cell_type": "markdown",
   "source": [
    "**Student Solution**"
   ],
   "metadata": {
    "colab_type": "text",
    "id": "vjXxLMR9nord"
   }
  },
  {
   "cell_type": "code",
   "execution_count": 63,
   "source": [
    "import pandas as pd\n",
    "\n",
    "nutrition_information_df = pd.DataFrame.from_records((\n",
    "      ('Cupcake', 178, 5.26, 32.54, 1.37),\n",
    "      ('Donut', 190, 10.51, 21.62, 2.62),\n",
    "      ('Eclair', 267, 16.01, 24.68, 6.53),\n",
    "      ('Froyo', 214, 2.94, 39.24, 9.4),\n",
    "      ('Gingerbread', 130, 5, 19, 2),\n",
    "      ('Honeycomb', 190, 13, 23, 2),\n",
    "      ('Ice Cream Sandwich', 143, 5.6, 21.75, 2.61),\n",
    "      ('Jelly Bean', 100, 0, 25, 0),\n",
    "      ('KitKat', 210, 11, 27, 3),\n",
    "      ('Lollipop', 110, 0, 28, 0),\n",
    "      ('Marshmallow', 100, 0, 24, 1),\n",
    "      ('Nougat', 56, 0.23, 12.93, 0.47),\n",
    "      ('Oreo', 160, 7, 25, 1),\n",
    "      ('Pie', 356, 16.5, 51, 2.85),\n",
    "), columns=('Name', 'Calories', 'Fat (g)', 'Carbs (g)', 'Protein (g)'))\n",
    "\n",
    "# Update 'Lollipop' and 'Jelly Bean' calories by 10%\n",
    "\n",
    "#nutrition_information_df\n",
    "jelly_bean = nutrition_information_df['Name'] == \"Jelly Bean\"\n",
    "lolipop = nutrition_information_df['Name'] == \"Lollipop\"\n",
    "nutrition_information_df.loc[jelly_bean,'Calories'] *= 1.1\n",
    "nutrition_information_df.loc[lolipop, 'Calories'] *= 1.1\n",
    "\n",
    "\n",
    "         \n",
    "           #nutrition_information_df.loc[i,'Calories'] *= 1.1\n",
    "nutrition_information_df\n",
    "\n",
    "\n"
   ],
   "outputs": [
    {
     "output_type": "execute_result",
     "data": {
      "text/html": [
       "<div>\n",
       "<style scoped>\n",
       "    .dataframe tbody tr th:only-of-type {\n",
       "        vertical-align: middle;\n",
       "    }\n",
       "\n",
       "    .dataframe tbody tr th {\n",
       "        vertical-align: top;\n",
       "    }\n",
       "\n",
       "    .dataframe thead th {\n",
       "        text-align: right;\n",
       "    }\n",
       "</style>\n",
       "<table border=\"1\" class=\"dataframe\">\n",
       "  <thead>\n",
       "    <tr style=\"text-align: right;\">\n",
       "      <th></th>\n",
       "      <th>Name</th>\n",
       "      <th>Calories</th>\n",
       "      <th>Fat (g)</th>\n",
       "      <th>Carbs (g)</th>\n",
       "      <th>Protein (g)</th>\n",
       "    </tr>\n",
       "  </thead>\n",
       "  <tbody>\n",
       "    <tr>\n",
       "      <th>0</th>\n",
       "      <td>Cupcake</td>\n",
       "      <td>178.0</td>\n",
       "      <td>5.26</td>\n",
       "      <td>32.54</td>\n",
       "      <td>1.37</td>\n",
       "    </tr>\n",
       "    <tr>\n",
       "      <th>1</th>\n",
       "      <td>Donut</td>\n",
       "      <td>190.0</td>\n",
       "      <td>10.51</td>\n",
       "      <td>21.62</td>\n",
       "      <td>2.62</td>\n",
       "    </tr>\n",
       "    <tr>\n",
       "      <th>2</th>\n",
       "      <td>Eclair</td>\n",
       "      <td>267.0</td>\n",
       "      <td>16.01</td>\n",
       "      <td>24.68</td>\n",
       "      <td>6.53</td>\n",
       "    </tr>\n",
       "    <tr>\n",
       "      <th>3</th>\n",
       "      <td>Froyo</td>\n",
       "      <td>214.0</td>\n",
       "      <td>2.94</td>\n",
       "      <td>39.24</td>\n",
       "      <td>9.40</td>\n",
       "    </tr>\n",
       "    <tr>\n",
       "      <th>4</th>\n",
       "      <td>Gingerbread</td>\n",
       "      <td>130.0</td>\n",
       "      <td>5.00</td>\n",
       "      <td>19.00</td>\n",
       "      <td>2.00</td>\n",
       "    </tr>\n",
       "    <tr>\n",
       "      <th>5</th>\n",
       "      <td>Honeycomb</td>\n",
       "      <td>190.0</td>\n",
       "      <td>13.00</td>\n",
       "      <td>23.00</td>\n",
       "      <td>2.00</td>\n",
       "    </tr>\n",
       "    <tr>\n",
       "      <th>6</th>\n",
       "      <td>Ice Cream Sandwich</td>\n",
       "      <td>143.0</td>\n",
       "      <td>5.60</td>\n",
       "      <td>21.75</td>\n",
       "      <td>2.61</td>\n",
       "    </tr>\n",
       "    <tr>\n",
       "      <th>7</th>\n",
       "      <td>Jelly Bean</td>\n",
       "      <td>110.0</td>\n",
       "      <td>0.00</td>\n",
       "      <td>25.00</td>\n",
       "      <td>0.00</td>\n",
       "    </tr>\n",
       "    <tr>\n",
       "      <th>8</th>\n",
       "      <td>KitKat</td>\n",
       "      <td>210.0</td>\n",
       "      <td>11.00</td>\n",
       "      <td>27.00</td>\n",
       "      <td>3.00</td>\n",
       "    </tr>\n",
       "    <tr>\n",
       "      <th>9</th>\n",
       "      <td>Lollipop</td>\n",
       "      <td>121.0</td>\n",
       "      <td>0.00</td>\n",
       "      <td>28.00</td>\n",
       "      <td>0.00</td>\n",
       "    </tr>\n",
       "    <tr>\n",
       "      <th>10</th>\n",
       "      <td>Marshmallow</td>\n",
       "      <td>100.0</td>\n",
       "      <td>0.00</td>\n",
       "      <td>24.00</td>\n",
       "      <td>1.00</td>\n",
       "    </tr>\n",
       "    <tr>\n",
       "      <th>11</th>\n",
       "      <td>Nougat</td>\n",
       "      <td>56.0</td>\n",
       "      <td>0.23</td>\n",
       "      <td>12.93</td>\n",
       "      <td>0.47</td>\n",
       "    </tr>\n",
       "    <tr>\n",
       "      <th>12</th>\n",
       "      <td>Oreo</td>\n",
       "      <td>160.0</td>\n",
       "      <td>7.00</td>\n",
       "      <td>25.00</td>\n",
       "      <td>1.00</td>\n",
       "    </tr>\n",
       "    <tr>\n",
       "      <th>13</th>\n",
       "      <td>Pie</td>\n",
       "      <td>356.0</td>\n",
       "      <td>16.50</td>\n",
       "      <td>51.00</td>\n",
       "      <td>2.85</td>\n",
       "    </tr>\n",
       "  </tbody>\n",
       "</table>\n",
       "</div>"
      ],
      "text/plain": [
       "                  Name  Calories  Fat (g)  Carbs (g)  Protein (g)\n",
       "0              Cupcake     178.0     5.26      32.54         1.37\n",
       "1                Donut     190.0    10.51      21.62         2.62\n",
       "2               Eclair     267.0    16.01      24.68         6.53\n",
       "3                Froyo     214.0     2.94      39.24         9.40\n",
       "4          Gingerbread     130.0     5.00      19.00         2.00\n",
       "5            Honeycomb     190.0    13.00      23.00         2.00\n",
       "6   Ice Cream Sandwich     143.0     5.60      21.75         2.61\n",
       "7           Jelly Bean     110.0     0.00      25.00         0.00\n",
       "8               KitKat     210.0    11.00      27.00         3.00\n",
       "9             Lollipop     121.0     0.00      28.00         0.00\n",
       "10         Marshmallow     100.0     0.00      24.00         1.00\n",
       "11              Nougat      56.0     0.23      12.93         0.47\n",
       "12                Oreo     160.0     7.00      25.00         1.00\n",
       "13                 Pie     356.0    16.50      51.00         2.85"
      ]
     },
     "metadata": {},
     "execution_count": 63
    }
   ],
   "metadata": {
    "colab": {},
    "colab_type": "code",
    "id": "3M7wJz3Knw9c"
   }
  },
  {
   "cell_type": "markdown",
   "source": [
    "## Additional Exercises"
   ],
   "metadata": {
    "colab_type": "text",
    "id": "nFHPt2OWoJM-"
   }
  },
  {
   "cell_type": "markdown",
   "source": [
    "### Exercise 7: Retail Data\n",
    "\n",
    "You have been hired to organize a small-town retail chain's data and report to them which of their stores have the most effective marketing, measured by how many dollars of merchandise are sold per visitor.\n",
    "\n",
    "To accomplish this you are given access to two tables of data.\n",
    "\n",
    "The first table keeps track of the average daily traffic to each store. We store it in `traffic_df`:"
   ],
   "metadata": {
    "colab_type": "text",
    "id": "oCeN_IP2Lxac"
   }
  },
  {
   "cell_type": "code",
   "execution_count": null,
   "source": [
    "import pandas as pd\n",
    "\n",
    "traffic_df = pd.DataFrame.from_records((\n",
    "      ('43 Crescent Way', 2036),\n",
    "      ('1001 Main St.', 1399),\n",
    "      ('235 Pear Lane', 1386),\n",
    "      ('199 Forest Way', 1295),\n",
    "      ('703 Grove St.', 1154),\n",
    "      ('55 Orchard Blvd.', 1022),\n",
    "      ('202 Pine Drive', 968),\n",
    "      ('98 Mountain Circle', 730),\n",
    "      ('2136 A St.', 729),\n",
    "      ('3430 17th St.', 504),\n",
    "      ('7766 Ocean Ave.', 452),\n",
    "      ('1797 Albatross Ct.', 316),\n",
    "), columns=('Location', 'Traffic'))\n",
    "\n",
    "traffic_df"
   ],
   "outputs": [
    {
     "output_type": "execute_result",
     "data": {
      "text/html": [
       "<div>\n",
       "<style scoped>\n",
       "    .dataframe tbody tr th:only-of-type {\n",
       "        vertical-align: middle;\n",
       "    }\n",
       "\n",
       "    .dataframe tbody tr th {\n",
       "        vertical-align: top;\n",
       "    }\n",
       "\n",
       "    .dataframe thead th {\n",
       "        text-align: right;\n",
       "    }\n",
       "</style>\n",
       "<table border=\"1\" class=\"dataframe\">\n",
       "  <thead>\n",
       "    <tr style=\"text-align: right;\">\n",
       "      <th></th>\n",
       "      <th>Location</th>\n",
       "      <th>Traffic</th>\n",
       "    </tr>\n",
       "  </thead>\n",
       "  <tbody>\n",
       "    <tr>\n",
       "      <th>0</th>\n",
       "      <td>43 Crescent Way</td>\n",
       "      <td>2036</td>\n",
       "    </tr>\n",
       "    <tr>\n",
       "      <th>1</th>\n",
       "      <td>1001 Main St.</td>\n",
       "      <td>1399</td>\n",
       "    </tr>\n",
       "    <tr>\n",
       "      <th>2</th>\n",
       "      <td>235 Pear Lane</td>\n",
       "      <td>1386</td>\n",
       "    </tr>\n",
       "    <tr>\n",
       "      <th>3</th>\n",
       "      <td>199 Forest Way</td>\n",
       "      <td>1295</td>\n",
       "    </tr>\n",
       "    <tr>\n",
       "      <th>4</th>\n",
       "      <td>703 Grove St.</td>\n",
       "      <td>1154</td>\n",
       "    </tr>\n",
       "    <tr>\n",
       "      <th>5</th>\n",
       "      <td>55 Orchard Blvd.</td>\n",
       "      <td>1022</td>\n",
       "    </tr>\n",
       "    <tr>\n",
       "      <th>6</th>\n",
       "      <td>202 Pine Drive</td>\n",
       "      <td>968</td>\n",
       "    </tr>\n",
       "    <tr>\n",
       "      <th>7</th>\n",
       "      <td>98 Mountain Circle</td>\n",
       "      <td>730</td>\n",
       "    </tr>\n",
       "    <tr>\n",
       "      <th>8</th>\n",
       "      <td>2136 A St.</td>\n",
       "      <td>729</td>\n",
       "    </tr>\n",
       "    <tr>\n",
       "      <th>9</th>\n",
       "      <td>3430 17th St.</td>\n",
       "      <td>504</td>\n",
       "    </tr>\n",
       "    <tr>\n",
       "      <th>10</th>\n",
       "      <td>7766 Ocean Ave.</td>\n",
       "      <td>452</td>\n",
       "    </tr>\n",
       "    <tr>\n",
       "      <th>11</th>\n",
       "      <td>1797 Albatross Ct.</td>\n",
       "      <td>316</td>\n",
       "    </tr>\n",
       "  </tbody>\n",
       "</table>\n",
       "</div>"
      ],
      "text/plain": [
       "              Location  Traffic\n",
       "0      43 Crescent Way     2036\n",
       "1        1001 Main St.     1399\n",
       "2        235 Pear Lane     1386\n",
       "3       199 Forest Way     1295\n",
       "4        703 Grove St.     1154\n",
       "5     55 Orchard Blvd.     1022\n",
       "6       202 Pine Drive      968\n",
       "7   98 Mountain Circle      730\n",
       "8           2136 A St.      729\n",
       "9        3430 17th St.      504\n",
       "10     7766 Ocean Ave.      452\n",
       "11  1797 Albatross Ct.      316"
      ]
     },
     "metadata": {},
     "execution_count": 279
    }
   ],
   "metadata": {
    "colab": {},
    "colab_type": "code",
    "id": "3S3N-FlxobsD"
   }
  },
  {
   "cell_type": "markdown",
   "source": [
    "The second table contains the average revenue from each store. We store in it `locations_df`:"
   ],
   "metadata": {
    "colab_type": "text",
    "id": "4VFzPVdstO2c"
   }
  },
  {
   "cell_type": "code",
   "execution_count": null,
   "source": [
    "locations_df = pd.DataFrame.from_records((\n",
    "  ('43 Crescent Way', 6832),\n",
    "  ('55 Orchard Blvd.', 13985),\n",
    "  ('98 Mountain Circle', 3956),\n",
    "  ('199 Forest Way', 572),\n",
    "  ('202 Pine Drive', 3963),\n",
    "  ('235 Pear Lane', 25653),\n",
    "  ('703 Grove St.', 496),\n",
    "  ('1001 Main St.', 38532),\n",
    "  ('1797 Albatross Ct.', 26445),\n",
    "  ('2136 A St.', 34560),\n",
    "  ('3430 17th St.', 1826),\n",
    "  ('7766 Ocean Ave.', 5124),\n",
    "), columns=('Location', 'Revenue'))\n",
    "  \n",
    "locations_df"
   ],
   "outputs": [
    {
     "output_type": "execute_result",
     "data": {
      "text/html": [
       "<div>\n",
       "<style scoped>\n",
       "    .dataframe tbody tr th:only-of-type {\n",
       "        vertical-align: middle;\n",
       "    }\n",
       "\n",
       "    .dataframe tbody tr th {\n",
       "        vertical-align: top;\n",
       "    }\n",
       "\n",
       "    .dataframe thead th {\n",
       "        text-align: right;\n",
       "    }\n",
       "</style>\n",
       "<table border=\"1\" class=\"dataframe\">\n",
       "  <thead>\n",
       "    <tr style=\"text-align: right;\">\n",
       "      <th></th>\n",
       "      <th>Location</th>\n",
       "      <th>Revenue</th>\n",
       "    </tr>\n",
       "  </thead>\n",
       "  <tbody>\n",
       "    <tr>\n",
       "      <th>0</th>\n",
       "      <td>43 Crescent Way</td>\n",
       "      <td>6832</td>\n",
       "    </tr>\n",
       "    <tr>\n",
       "      <th>1</th>\n",
       "      <td>55 Orchard Blvd.</td>\n",
       "      <td>13985</td>\n",
       "    </tr>\n",
       "    <tr>\n",
       "      <th>2</th>\n",
       "      <td>98 Mountain Circle</td>\n",
       "      <td>3956</td>\n",
       "    </tr>\n",
       "    <tr>\n",
       "      <th>3</th>\n",
       "      <td>199 Forest Way</td>\n",
       "      <td>572</td>\n",
       "    </tr>\n",
       "    <tr>\n",
       "      <th>4</th>\n",
       "      <td>202 Pine Drive</td>\n",
       "      <td>3963</td>\n",
       "    </tr>\n",
       "    <tr>\n",
       "      <th>5</th>\n",
       "      <td>235 Pear Lane</td>\n",
       "      <td>25653</td>\n",
       "    </tr>\n",
       "    <tr>\n",
       "      <th>6</th>\n",
       "      <td>703 Grove St.</td>\n",
       "      <td>496</td>\n",
       "    </tr>\n",
       "    <tr>\n",
       "      <th>7</th>\n",
       "      <td>1001 Main St.</td>\n",
       "      <td>38532</td>\n",
       "    </tr>\n",
       "    <tr>\n",
       "      <th>8</th>\n",
       "      <td>1797 Albatross Ct.</td>\n",
       "      <td>26445</td>\n",
       "    </tr>\n",
       "    <tr>\n",
       "      <th>9</th>\n",
       "      <td>2136 A St.</td>\n",
       "      <td>34560</td>\n",
       "    </tr>\n",
       "    <tr>\n",
       "      <th>10</th>\n",
       "      <td>3430 17th St.</td>\n",
       "      <td>1826</td>\n",
       "    </tr>\n",
       "    <tr>\n",
       "      <th>11</th>\n",
       "      <td>7766 Ocean Ave.</td>\n",
       "      <td>5124</td>\n",
       "    </tr>\n",
       "  </tbody>\n",
       "</table>\n",
       "</div>"
      ],
      "text/plain": [
       "              Location  Revenue\n",
       "0      43 Crescent Way     6832\n",
       "1     55 Orchard Blvd.    13985\n",
       "2   98 Mountain Circle     3956\n",
       "3       199 Forest Way      572\n",
       "4       202 Pine Drive     3963\n",
       "5        235 Pear Lane    25653\n",
       "6        703 Grove St.      496\n",
       "7        1001 Main St.    38532\n",
       "8   1797 Albatross Ct.    26445\n",
       "9           2136 A St.    34560\n",
       "10       3430 17th St.     1826\n",
       "11     7766 Ocean Ave.     5124"
      ]
     },
     "metadata": {},
     "execution_count": 278
    }
   ],
   "metadata": {
    "colab": {},
    "colab_type": "code",
    "id": "TK0oZjtJMyHu"
   }
  },
  {
   "cell_type": "markdown",
   "source": [
    "Given the two `DataFrame` objects mentioned above, perform the following tasks:\n",
    "\n",
    "1. Merge the two dataframes to create a single dataframe with store names: average daily traffic and average daily revenue. Call this new `DataFrame` `performance_df`.\n",
    "\n",
    "2. Make a new column in `performance_df`, showing the average daily revenue *per customer*. Call the new column 'Revenue per Customer'. Revenue per customer is defined as `rpc = revenue / traffic`.\n",
    "\n",
    "3. Print the 'Location' of the store that has the highest 'Revenue per Customer'."
   ],
   "metadata": {
    "colab_type": "text",
    "id": "Lquj4BgqtalL"
   }
  },
  {
   "cell_type": "code",
   "execution_count": null,
   "source": [
    "# Part 1: Perform merge\n",
    "performance_df = None # ...\n",
    "performance_df = pd.merge(locations_df,traffic_df)\n",
    "\n",
    "\n",
    "\n",
    "# Part 2: Create column\n",
    "performance_df['Revenue per Customer'] = performance_df.Revenue / performance_df.Traffic\n",
    "performance_df.set_index(\"Location\",inplace = True) #change index\n",
    "performance_df['Revenue per Customer'].idxmax()\n",
    "\n",
    "# Part 3: Print location of store with the most revenue per customer\n",
    "# ..."
   ],
   "outputs": [
    {
     "output_type": "execute_result",
     "data": {
      "text/plain": [
       "'1797 Albatross Ct.'"
      ]
     },
     "metadata": {},
     "execution_count": 283
    }
   ],
   "metadata": {
    "colab": {},
    "colab_type": "code",
    "id": "jf_tOMgeTclO"
   }
  },
  {
   "cell_type": "markdown",
   "source": [
    "---"
   ],
   "metadata": {
    "colab_type": "text",
    "id": "-Fo9th7owvCP"
   }
  }
 ],
 "metadata": {
  "colab": {
   "collapsed_sections": [
    "lRh9gZN5NnoA",
    "WbUl2pf6_kAR",
    "jkpqtw_5BBqP",
    "vY92fvL1ZdaT",
    "3peBvLQ7rbWZ",
    "CGCn-LJCDtc6",
    "k4zvJhq-Fmtp",
    "rhiSukylnqyD"
   ],
   "include_colab_link": true,
   "name": "Intermediate Pandas",
   "private_outputs": true,
   "provenance": [],
   "toc_visible": true
  },
  "kernelspec": {
   "name": "python3",
   "display_name": "Python 3.9.7 64-bit ('data': conda)"
  },
  "interpreter": {
   "hash": "8fbdc03ba97d8a2a62d8e820f8dc08c72c861e4a4433063471236fa03b6ac1df"
  },
  "language_info": {
   "name": "python",
   "version": "3.9.7",
   "mimetype": "text/x-python",
   "codemirror_mode": {
    "name": "ipython",
    "version": 3
   },
   "pygments_lexer": "ipython3",
   "nbconvert_exporter": "python",
   "file_extension": ".py"
  }
 },
 "nbformat": 4,
 "nbformat_minor": 2
}