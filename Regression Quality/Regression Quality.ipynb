{
  "nbformat": 4,
  "nbformat_minor": 2,
  "metadata": {
    "colab": {
      "name": "colab.ipynb",
      "private_outputs": true,
      "provenance": [],
      "collapsed_sections": [
        "copyright",
        "exercise-1-key-1",
        "exercise-2-key-1",
        "kvzJqzO0Zxmq"
      ],
      "toc_visible": true
    },
    "kernelspec": {
      "name": "python3",
      "display_name": "Python 3.9.7 64-bit ('data': conda)"
    },
    "interpreter": {
      "hash": "8fbdc03ba97d8a2a62d8e820f8dc08c72c861e4a4433063471236fa03b6ac1df"
    },
    "language_info": {
      "name": "python",
      "version": "3.9.7",
      "mimetype": "text/x-python",
      "codemirror_mode": {
        "name": "ipython",
        "version": 3
      },
      "pygments_lexer": "ipython3",
      "nbconvert_exporter": "python",
      "file_extension": ".py"
    }
  },
  "cells": [
    {
      "cell_type": "markdown",
      "source": [
        "#### Copyright 2020 Google LLC."
      ],
      "metadata": {
        "id": "copyright"
      }
    },
    {
      "cell_type": "code",
      "execution_count": 2,
      "source": [
        "# Licensed under the Apache License, Version 2.0 (the \"License\");\n",
        "# you may not use this file except in compliance with the License.\n",
        "# You may obtain a copy of the License at\n",
        "#\n",
        "# https://www.apache.org/licenses/LICENSE-2.0\n",
        "#\n",
        "# Unless required by applicable law or agreed to in writing, software\n",
        "# distributed under the License is distributed on an \"AS IS\" BASIS,\n",
        "# WITHOUT WARRANTIES OR CONDITIONS OF ANY KIND, either express or implied.\n",
        "# See the License for the specific language governing permissions and\n",
        "# limitations under the License."
      ],
      "outputs": [],
      "metadata": {
        "id": "vnxEkIngTvDE"
      }
    },
    {
      "cell_type": "markdown",
      "source": [
        "# Regression Quality"
      ],
      "metadata": {
        "id": "9x3myQjxtiaT"
      }
    },
    {
      "cell_type": "markdown",
      "source": [
        "So far in this course, we have spent some time building and testing regression models. But how can we measure how good these models are? In this Colab, we will examine a few of the ways that we can measure and graph the results of a regression model in order to better understand the quality of the model."
      ],
      "metadata": {
        "id": "jfaowiejr34"
      }
    },
    {
      "cell_type": "markdown",
      "source": [
        "## Building a Dataset"
      ],
      "metadata": {
        "id": "QpMw1wUayDuO"
      }
    },
    {
      "cell_type": "markdown",
      "source": [
        "In order to discuss regression quality, we should probably start by building a regression model.\n",
        "\n",
        "We will start by creating an artificial dataset to model."
      ],
      "metadata": {
        "id": "NiioKUOUyHne"
      }
    },
    {
      "cell_type": "markdown",
      "source": [
        "Start by importing [NumPy](http://numpy.org) and setting a random seed so that we get reproducible results.\n",
        " \n",
        "Remember: **Do not set a random seed in production code!**"
      ],
      "metadata": {
        "id": "TKHnU1b6zQ_H"
      }
    },
    {
      "cell_type": "code",
      "execution_count": 3,
      "source": [
        "import numpy as np\n",
        "\n",
        "np.random.seed(0xFACADE)"
      ],
      "outputs": [],
      "metadata": {
        "id": "EDe_GHXFz08q"
      }
    },
    {
      "cell_type": "markdown",
      "source": [
        "Recall that linear regression is about trying to fit a straight line through a set of data points. The equation for a straight line is:\n",
        "\n",
        "> $y = m*x + b$\n",
        "\n",
        "where:\n",
        "- $x$ is the feature\n",
        "- $y$ is the outcome\n",
        "- $m$ is the slope of the line\n",
        "- $b$ is the intercept of the line on the $y$-axis\n",
        "\n",
        "But at this point we don't even have $x$-values!\n",
        "\n",
        "We will use NumPy's [random.uniform](https://docs.scipy.org/doc/numpy-1.15.0/reference/generated/numpy.random.uniform.html) function to generate 50 random numbers between 0 and 200 as $x$-values."
      ],
      "metadata": {
        "id": "kgR1_rQNzP5M"
      }
    },
    {
      "cell_type": "code",
      "execution_count": 4,
      "source": [
        "X = np.random.uniform(low=0, high=200, size=50)\n",
        "\n",
        "print(f'min: {np.min(X)}')\n",
        "print(f'max: {np.max(X)}')\n",
        "print(f'mean: {np.mean(X)}')\n",
        "print(f'count: {np.size(X)}')"
      ],
      "outputs": [
        {
          "output_type": "stream",
          "name": "stdout",
          "text": [
            "min: 2.1137646660836396\n",
            "max: 195.5540654692904\n",
            "mean: 103.84065098623267\n",
            "count: 50\n"
          ]
        }
      ],
      "metadata": {
        "id": "H1GbL97E0an3"
      }
    },
    {
      "cell_type": "markdown",
      "source": [
        "You should see a:\n",
        "\n",
        "  * minimum value near, but not below 0\n",
        "  * maximum value near, but not above 200\n",
        "  * mean value somewhere near 100\n",
        "  * count value of exactly 50"
      ],
      "metadata": {
        "id": "iUrlpwQw3x8W"
      }
    },
    {
      "cell_type": "markdown",
      "source": [
        "Let's visualize the $x$-values, just to get some idea of the distribution of the values in the range of 0-200.\n",
        " \n",
        "*How do we plot a one-dimensional list of values in two-dimensional space?*\n",
        " \n",
        "We can plot it against itself!"
      ],
      "metadata": {
        "id": "8Vhj5pXD4wnY"
      }
    },
    {
      "cell_type": "code",
      "execution_count": 5,
      "source": [
        "import matplotlib.pyplot as plt\n",
        "\n",
        "plt.plot(X, X, 'g.')\n",
        "plt.show()"
      ],
      "outputs": [
        {
          "output_type": "display_data",
          "data": {
            "image/png": "[encoded data removed]",
            "text/plain": [
              "<Figure size 432x288 with 1 Axes>"
            ]
          },
          "metadata": {
            "needs_background": "light"
          }
        }
      ],
      "metadata": {
        "id": "h46h-Zhn5WSW"
      }
    },
    {
      "cell_type": "markdown",
      "source": [
        "As you can see, we have a straight line of $x$-values that span from roughly 0 to 200. Let's now create some $y$-values via the equation $y=4x+10$ (i.e. the slope is 4 and the intercept is 10).\n",
        "\n",
        "We'll call the new variable `Y_PRED` since it is the predicted variable."
      ],
      "metadata": {
        "id": "okVippyp8rEj"
      }
    },
    {
      "cell_type": "code",
      "execution_count": 6,
      "source": [
        "SLOPE = 4\n",
        "INTERCEPT = 10\n",
        "\n",
        "Y_PRED = (SLOPE * X) + INTERCEPT\n",
        "\n",
        "plt.plot(X, Y_PRED, 'b.')\n",
        "plt.plot(X, Y_PRED, 'r-')\n",
        "plt.show()"
      ],
      "outputs": [
        {
          "output_type": "display_data",
          "data": {
            "image/png": "[encoded data removed]",
            "text/plain": [
              "<Figure size 432x288 with 1 Axes>"
            ]
          },
          "metadata": {
            "needs_background": "light"
          }
        }
      ],
      "metadata": {
        "id": "bxxq56Sa827e"
      }
    },
    {
      "cell_type": "markdown",
      "source": [
        "This regression line fits amazingly well! If only we could have this perfect of a fit in the real world. Unfortunately, this is almost never the case. There is always some variability.\n",
        " \n",
        "Let's add some randomness into our $y$-values to get a more realistic dataset. We will keep our original $y$-values in order to remember our base regression line.\n",
        " \n",
        "We'll recreate our original $y$-values and store them in `Y_PRED`. Then, we'll create `Y` with the same equation but with added randomness."
      ],
      "metadata": {
        "id": "5lvGtzEjFljz"
      }
    },
    {
      "cell_type": "code",
      "execution_count": 7,
      "source": [
        "Y_PRED = (SLOPE * X) + INTERCEPT\n",
        "\n",
        "randomness = np.random.uniform(low=-200, high=200, size=50)\n",
        "Y = SLOPE * X + randomness + INTERCEPT\n",
        "\n",
        "plt.plot(X, Y, 'b.')\n",
        "plt.plot(X, Y_PRED, 'r-')\n",
        "plt.show()"
      ],
      "outputs": [
        {
          "output_type": "display_data",
          "data": {
            "image/png": "[encoded data removed]",
            "text/plain": [
              "<Figure size 432x288 with 1 Axes>"
            ]
          },
          "metadata": {
            "needs_background": "light"
          }
        }
      ],
      "metadata": {
        "id": "cX8YZU4YF632"
      }
    },
    {
      "cell_type": "markdown",
      "source": [
        "We now have the line that was used to generate the data plotted in red, and the randomly displaced data points in blue. The dots, though definitely not close to the line, at least follow the linear trend in general. This seems like a reasonable dataset for a linear regression.\n",
        " \n",
        "Let's remind ourselves of the key variables in the model:\n",
        " \n",
        "* `X`: the $x$-values that we used to \"train\" the model\n",
        "* `Y`: the $y$-values that represent the actual values that correlate to `X`\n",
        "* `Y_PRED`: the $y$-values that the model would predict for each $x$-value"
      ],
      "metadata": {
        "id": "dZa4VEpwAIr4"
      }
    },
    {
      "cell_type": "markdown",
      "source": [
        "## Coefficient of Determination\n"
      ],
      "metadata": {
        "id": "CXka6VEAgb88"
      }
    },
    {
      "cell_type": "markdown",
      "source": [
        "The **coefficient of determination**, denoted $R^2$, is one of the most important metrics in regression. It tells us how much of the data is \"explained\" by the model.\n",
        "\n",
        "Before we can define the metric itself, we need to define a few other key terms.\n",
        " \n",
        "A **residual** is the difference between the target value $y_i$ and the predicted value $\\hat{y_i}$. The **residual sum of squares** is the summation of the square of every residual in the prediction set.\n",
        " \n",
        "> $$ SS_{res} = \\sum_{i}(y_i - \\hat{y_i})^2$$"
      ],
      "metadata": {
        "id": "WBHq0fVmCnDt"
      }
    },
    {
      "cell_type": "code",
      "execution_count": 8,
      "source": [
        "ss_res = ((Y - Y_PRED) ** 2).sum(axis=0,  dtype=np.float64)\n",
        "print(ss_res)"
      ],
      "outputs": [
        {
          "output_type": "stream",
          "name": "stdout",
          "text": [
            "479158.59399166337\n"
          ]
        }
      ],
      "metadata": {
        "id": "ajpg_LjzXlfE"
      }
    },
    {
      "cell_type": "markdown",
      "source": [
        "The **total sum of squares** is the sum of the squares of the difference between each value $y_i$ and their mean.\n",
        "\n",
        "> $$\\bar{y} = \\frac{1}{n}\\sum_{i=1}^{n}y_{i}$$\n",
        "\n",
        "> $$SS_{tot} = \\sum_{i}(y_{i}-\\bar{y})^2$$\n",
        "\n"
      ],
      "metadata": {
        "id": "txBMdrddXuLT"
      }
    },
    {
      "cell_type": "code",
      "execution_count": 9,
      "source": [
        "y_mean = np.average(Y, axis=0)\n",
        "print(y_mean)"
      ],
      "outputs": [
        {
          "output_type": "stream",
          "name": "stdout",
          "text": [
            "437.15608795722386\n"
          ]
        }
      ],
      "metadata": {
        "id": "u4fgXukDaRc-"
      }
    },
    {
      "cell_type": "code",
      "execution_count": 10,
      "source": [
        "ss_tot = ((Y - y_mean)**2).sum(axis=0, dtype=np.float64)\n",
        "print(ss_tot)"
      ],
      "outputs": [
        {
          "output_type": "stream",
          "name": "stdout",
          "text": [
            "3114537.9296444445\n"
          ]
        }
      ],
      "metadata": {
        "id": "tQ5bBjDjbNur"
      }
    },
    {
      "cell_type": "markdown",
      "source": [
        "Given the total sum of squares and the residual sum of squares, we can calculate the coefficient of determination $R^2$.\n",
        "\n",
        ">  $$R^{2} = 1 - \\frac{SS_{res}}{SS_{tot}}$$"
      ],
      "metadata": {
        "id": "BVxzNIVAbaDE"
      }
    },
    {
      "cell_type": "code",
      "execution_count": 11,
      "source": [
        "r2 = 1 - (ss_res/ss_tot)\n",
        "print(r2)"
      ],
      "outputs": [
        {
          "output_type": "stream",
          "name": "stdout",
          "text": [
            "0.8461541953202785\n"
          ]
        }
      ],
      "metadata": {
        "id": "YIAfSpJGcDff"
      }
    },
    {
      "cell_type": "markdown",
      "source": [
        "If you just ran the cells in this Colab from top to bottom you probably got a score of `0.846`.\n",
        " \n",
        "Is this good? Bad? Mediocre?\n",
        " \n",
        "The $R^2$ score measures how well the actual variance from $x$-values to $y$-values is represented in the variance between the $x$-values and the predicted $y$-values.\n",
        " \n",
        "Typically, this score ranges from 0 to 1, where 0 is bad and 1 is a perfect mapping. However, the score can also be negative. Can you guess why?\n",
        " \n",
        "If a line drawn horizontally through the data points performs better than your regression, then the $R^2$ score would be negative. If you see this, try again. Your model *really* isn't working.\n",
        " \n",
        "For values in the range 0-1, interpreting the $R^2$ is more subjective. The closer to 0, the worse your model is at fitting the data. And generally, the closer to 1, the better (but you also don't want to overfit). This is where testing, observation, and experience come into play.\n",
        " "
      ],
      "metadata": {
        "id": "BKdi_0xGe2IV"
      }
    },
    {
      "cell_type": "markdown",
      "source": [
        "It turns out that scikit-learn can calculate $R^2$ for us:"
      ],
      "metadata": {
        "id": "cJZnpcHagxCC"
      }
    },
    {
      "cell_type": "code",
      "execution_count": 12,
      "source": [
        "from sklearn.metrics import r2_score\n",
        "\n",
        "print(r2_score(Y, Y_PRED))"
      ],
      "outputs": [
        {
          "output_type": "stream",
          "name": "stdout",
          "text": [
            "0.8461541953202785\n"
          ]
        }
      ],
      "metadata": {
        "id": "RpEhA5Njhl9o"
      }
    },
    {
      "cell_type": "markdown",
      "source": [
        "Knowing that we don't have to manually do all of the math again, let's now see the perfect and a very imperfect case of a regression fitting a dataset.\n",
        "\n",
        "To begin with, we'll show a perfect fit. What happens if our predictions and our actual values are identical?"
      ],
      "metadata": {
        "id": "pZTuYycChyVt"
      }
    },
    {
      "cell_type": "code",
      "execution_count": 13,
      "source": [
        "print(r2_score(Y, Y))\n",
        "print(r2_score(Y_PRED, Y_PRED))"
      ],
      "outputs": [
        {
          "output_type": "stream",
          "name": "stdout",
          "text": [
            "1.0\n",
            "1.0\n"
          ]
        }
      ],
      "metadata": {
        "id": "hY_YUP5riHt1"
      }
    },
    {
      "cell_type": "markdown",
      "source": [
        "1.0: just what we thought! A perfect fit.\n",
        "\n",
        "Now let's see if we can make a regression so poor that $R^2$ is negative.\n",
        "\n",
        "In this case, we need to make our predicted data look different than our actuals. To do this, we'll negate our predictions and save them into a new variable called `Y_PRED_BAD`."
      ],
      "metadata": {
        "id": "VTVw_ljAiNrx"
      }
    },
    {
      "cell_type": "code",
      "execution_count": 14,
      "source": [
        "Y_PRED_BAD = -Y_PRED\n",
        "plt.plot(X, Y, 'y.')\n",
        "plt.plot(X, Y_PRED_BAD, 'r-')"
      ],
      "outputs": [
        {
          "output_type": "execute_result",
          "data": {
            "text/plain": [
              "[<matplotlib.lines.Line2D at 0x7fd73227afd0>]"
            ]
          },
          "metadata": {},
          "execution_count": 14
        },
        {
          "output_type": "display_data",
          "data": {
            "image/png": "[encoded data removed]",
            "text/plain": [
              "<Figure size 432x288 with 1 Axes>"
            ]
          },
          "metadata": {
            "needs_background": "light"
          }
        }
      ],
      "metadata": {
        "id": "RQ8k2wTXigmw"
      }
    },
    {
      "cell_type": "markdown",
      "source": [
        "That prediction line looks horrible! Indeed, a horizontal line would fit this data better.\n",
        "\n",
        "Let's check the $R^2$."
      ],
      "metadata": {
        "id": "8SSxTRBzkKb7"
      }
    },
    {
      "cell_type": "code",
      "execution_count": 15,
      "source": [
        "print(r2_score(Y, Y_PRED_BAD))"
      ],
      "outputs": [
        {
          "output_type": "stream",
          "name": "stdout",
          "text": [
            "-14.624814753920019\n"
          ]
        }
      ],
      "metadata": {
        "id": "GsRgZmePjk5R"
      }
    },
    {
      "cell_type": "markdown",
      "source": [
        "A negative $R^2$ is rare in practice. But if you do ever see one, it means the model has gone quite wrong."
      ],
      "metadata": {
        "id": "1H5ilPeOkZNb"
      }
    },
    {
      "cell_type": "markdown",
      "source": [
        "## Predicted vs. Actual Plots"
      ],
      "metadata": {
        "id": "u-i-5MvVkuFa"
      }
    },
    {
      "cell_type": "markdown",
      "source": [
        "We have now seen a quantitative way to measure the goodness-of-fit of our regressions: the coefficient of determination. We know that if we see negative numbers that our model is very broken and if we see numbers approaching 1, the model is decent (or overfitted). But what about the in-between?\n",
        " \n",
        "This is where qualitative observations based on expert opinion needs to come into play.\n",
        "\n",
        "There are numerous ways to visualize regression predictions, but one of the most basic is the \"predicted vs. actual\" plot.\n",
        " \n",
        "To create this plot, we scatter-plot the actual $y$-values used to train our model against the predicted $y$-values generated from the training features. We then draw a line from the lowest prediction to the largest.\n"
      ],
      "metadata": {
        "id": "2d9FGT_2kx7T"
      }
    },
    {
      "cell_type": "code",
      "execution_count": 16,
      "source": [
        "plt.plot(Y_PRED, Y, 'b.')\n",
        "plt.plot([Y_PRED.min(), Y_PRED.max()], [Y_PRED.min(), Y_PRED.max()], 'r-')\n",
        "plt.xlabel('Predicted')\n",
        "plt.ylabel('Actual')\n",
        "plt.show()"
      ],
      "outputs": [
        {
          "output_type": "display_data",
          "data": {
            "image/png": "[encoded data removed]",
            "text/plain": [
              "<Figure size 432x288 with 1 Axes>"
            ]
          },
          "metadata": {
            "needs_background": "light"
          }
        }
      ],
      "metadata": {
        "id": "JP-6LYKf9A3B"
      }
    },
    {
      "cell_type": "markdown",
      "source": [
        "In this case, the data points scatter pretty evenly around the prediction-to-actual line.\n",
        "\n",
        "So what does a bad plot look like?"
      ],
      "metadata": {
        "id": "OP4Kv5ei-ard"
      }
    },
    {
      "cell_type": "markdown",
      "source": [
        "Let's first negate all of our predictions, making them exactly the opposite of what they should be. This creates the exact opposite of a good actual-vs-predicted line."
      ],
      "metadata": {
        "id": "me3c2Erb_X2O"
      }
    },
    {
      "cell_type": "code",
      "execution_count": 17,
      "source": [
        "Y_BAD = -Y_PRED\n",
        "\n",
        "plt.plot(Y_BAD, Y, 'b.')\n",
        "plt.plot([Y_BAD.min(), Y_BAD.max()], [Y_BAD.min(), Y_BAD.max()], 'r-')\n",
        "plt.xlabel('Predicted')\n",
        "plt.ylabel('Actual')\n",
        "plt.show()"
      ],
      "outputs": [
        {
          "output_type": "display_data",
          "data": {
            "image/png": "[encoded data removed]",
            "text/plain": [
              "<Figure size 432x288 with 1 Axes>"
            ]
          },
          "metadata": {
            "needs_background": "light"
          }
        }
      ],
      "metadata": {
        "id": "wRTjN69E-xim"
      }
    },
    {
      "cell_type": "markdown",
      "source": [
        "In this case we made a very contrived example where the predictions are exact opposites of the actual values. When you see this case, you have a model predicting roughly the opposite of what it should be predicting."
      ],
      "metadata": {
        "id": "Nhhr0S92DOA5"
      }
    },
    {
      "cell_type": "markdown",
      "source": [
        "Let's look at another case, where we add a large positive bias to every prediction."
      ],
      "metadata": {
        "id": "PGOGmkemJnCX"
      }
    },
    {
      "cell_type": "code",
      "execution_count": 18,
      "source": [
        "Y_BAD = Y_PRED + 200\n",
        "\n",
        "plt.plot(Y_BAD, Y, 'b.')\n",
        "plt.plot([Y_BAD.min(), Y_BAD.max()], [Y_BAD.min(), Y_BAD.max()], 'r-')\n",
        "plt.xlabel('Predicted')\n",
        "plt.ylabel('Actual')\n",
        "plt.show()"
      ],
      "outputs": [
        {
          "output_type": "display_data",
          "data": {
            "image/png": "[encoded data removed]",
            "text/plain": [
              "<Figure size 432x288 with 1 Axes>"
            ]
          },
          "metadata": {
            "needs_background": "light"
          }
        }
      ],
      "metadata": {
        "id": "Ed32rF6x_zMp"
      }
    },
    {
      "cell_type": "markdown",
      "source": [
        "Now we have a situation where there is an obvious **bias**. All predictions are higher than the actual values, so the model needs to be adjusted to make smaller predictions."
      ],
      "metadata": {
        "id": "RXVkiilyET2d"
      }
    },
    {
      "cell_type": "markdown",
      "source": [
        "Most cases aren't quite so obvious. In the chart below, you can see that the predictions are okay for low values, but tend to underpredict for larger target values."
      ],
      "metadata": {
        "id": "ansCNhhYKNw1"
      }
    },
    {
      "cell_type": "code",
      "execution_count": 19,
      "source": [
        "Y_BAD = Y_PRED - Y_PRED / 4\n",
        "\n",
        "plt.plot(Y_BAD, Y, 'b.')\n",
        "plt.plot([Y_BAD.min(), Y_BAD.max()], [Y_BAD.min(), Y_BAD.max()], 'r-')\n",
        "plt.xlabel('Predicted')\n",
        "plt.ylabel('Actual')\n",
        "plt.show()"
      ],
      "outputs": [
        {
          "output_type": "display_data",
          "data": {
            "image/png": "[encoded data removed]",
            "text/plain": [
              "<Figure size 432x288 with 1 Axes>"
            ]
          },
          "metadata": {
            "needs_background": "light"
          }
        }
      ],
      "metadata": {
        "id": "QK6O49mNJwOj"
      }
    },
    {
      "cell_type": "markdown",
      "source": [
        "Predicted vs. actual charts are a useful tool for giving you a visual indication of how your model is performing. While single measures like $R^2$ give you an aggregated metric, charts allow you to see if there is a trend or outlier where your model isn't performing well.\n",
        "\n",
        "If you identify problem areas, you can work on retraining your model."
      ],
      "metadata": {
        "id": "-5xH6zg4Kjgn"
      }
    },
    {
      "cell_type": "markdown",
      "source": [
        "## Residual Plots"
      ],
      "metadata": {
        "id": "Mkw2D-iaEhmk"
      }
    },
    {
      "cell_type": "markdown",
      "source": [
        "Another helpful visualization tool is to plot the regression residuals. As a reminder, residuals are the difference between the actual values and the predicted values.\n",
        " \n",
        "We plot residuals on the $y$-axis against the predicted values on the $x$-axis, and draw a horizontal line through $y=0$.\n",
        " \n",
        "Cases where our predictions were too low are above the line. Cases where our predictions were too high are below the line."
      ],
      "metadata": {
        "id": "Zhvs7DF4Eltq"
      }
    },
    {
      "cell_type": "code",
      "execution_count": 20,
      "source": [
        "RESIDUALS = Y - Y_PRED\n",
        "plt.plot(Y_PRED, RESIDUALS, 'b.')\n",
        "plt.plot([0, Y_PRED.max()], [0, 0], 'r-')\n",
        "plt.xlabel('Predicted')\n",
        "plt.ylabel('Residual')\n",
        "plt.show()"
      ],
      "outputs": [
        {
          "output_type": "display_data",
          "data": {
            "image/png": "[encoded data removed]",
            "text/plain": [
              "<Figure size 432x288 with 1 Axes>"
            ]
          },
          "metadata": {
            "needs_background": "light"
          }
        }
      ],
      "metadata": {
        "id": "xryYLARW2UdB"
      }
    },
    {
      "cell_type": "markdown",
      "source": [
        "In the \"Predicted vs. Actual\" section above, we plotted a case where there was a large positive bias in our predictions. Plotting the same biased data on a residual plot shows all of the residuals below the zero line."
      ],
      "metadata": {
        "id": "VlWKb7TxPA29"
      }
    },
    {
      "cell_type": "code",
      "execution_count": 21,
      "source": [
        "RESIDUALS = Y - (Y_PRED + 200)\n",
        "\n",
        "plt.plot(Y_PRED, RESIDUALS, 'b.')\n",
        "plt.plot([0, Y_PRED.max()], [0, 0], 'r-')\n",
        "plt.xlabel('Predicted')\n",
        "plt.ylabel('Residual')\n",
        "plt.show()"
      ],
      "outputs": [
        {
          "output_type": "display_data",
          "data": {
            "image/png": "[encoded data removed]",
            "text/plain": [
              "<Figure size 432x288 with 1 Axes>"
            ]
          },
          "metadata": {
            "needs_background": "light"
          }
        }
      ],
      "metadata": {
        "id": "5RGaU1vKOxHQ"
      }
    },
    {
      "cell_type": "markdown",
      "source": [
        "The other example in the \"Predicted vs. Actual\" section reduced our predictions by an amount proportional to the scale of the predictions. Below is the residual plot for that scenario."
      ],
      "metadata": {
        "id": "-BZWwqiPPoZr"
      }
    },
    {
      "cell_type": "code",
      "execution_count": 22,
      "source": [
        "RESIDUALS = Y - (Y_PRED - Y_PRED / 4)\n",
        "\n",
        "plt.plot(Y_PRED, RESIDUALS, 'b.')\n",
        "plt.plot([0, Y_PRED.max()], [0, 0], 'r-')\n",
        "plt.xlabel('Predicted')\n",
        "plt.ylabel('Residual')\n",
        "plt.show()"
      ],
      "outputs": [
        {
          "output_type": "display_data",
          "data": {
            "image/png": "[encoded data removed]",
            "text/plain": [
              "<Figure size 432x288 with 1 Axes>"
            ]
          },
          "metadata": {
            "needs_background": "light"
          }
        }
      ],
      "metadata": {
        "id": "ZzcQwgHdPUNo"
      }
    },
    {
      "cell_type": "markdown",
      "source": [
        "## Resources"
      ],
      "metadata": {
        "id": "NrSCeh9kCwCy"
      }
    },
    {
      "cell_type": "markdown",
      "source": [
        "* [Coefficient of Determination](https://en.wikipedia.org/wiki/Coefficient_of_determination)\n",
        "* [Interpreting Residual Plots](http://docs.statwing.com/interpreting-residual-plots-to-improve-your-regression/#gallery)"
      ],
      "metadata": {
        "id": "RlLLhik8CzIq"
      }
    },
    {
      "cell_type": "markdown",
      "source": [
        "# Exercises"
      ],
      "metadata": {
        "id": "xj-D3cpPK-bR"
      }
    },
    {
      "cell_type": "markdown",
      "source": [
        "The [Interpreting Residual Plots](http://docs.statwing.com/interpreting-residual-plots-to-improve-your-regression/#gallery) resource gives examples of patterns in different residual plots and what those patterns might mean for your model.\n",
        " \n",
        "Each exercise below contains code that generates an image. Run the code to view the image, and then find the corresponding pattern name in [Interpreting Residual Plots](http://docs.statwing.com/interpreting-residual-plots-to-improve-your-regression/#gallery). Note the name of the pattern in the answer cell, and provide a one or two sentence explanation of what this could signal about your model's predictions."
      ],
      "metadata": {
        "id": "lVRIsmu7LAO0"
      }
    },
    {
      "cell_type": "markdown",
      "source": [
        "## Exercise 1"
      ],
      "metadata": {
        "id": "CcD-4FQALDGS"
      }
    },
    {
      "cell_type": "markdown",
      "source": [
        "Run the code below to generate an image. Identify the corresponding residual plot pattern, and write a sentence or two about what this could signal about the model."
      ],
      "metadata": {
        "id": "TVqArWSCLFk8"
      }
    },
    {
      "cell_type": "code",
      "execution_count": 23,
      "source": [
        "import numpy as np\n",
        "import matplotlib.pyplot as plt\n",
        "\n",
        "np.random.seed(42)\n",
        "\n",
        "x = np.linspace(-10.0, 10.0, 100)\n",
        "y = np.linspace(-10.0, 10.0, 100)\n",
        "f = x**2 + y**2 + np.random.uniform(low=-14, high=14, size=100)\n",
        "plt.plot(x, f, 'b.')\n",
        "plt.plot([x.min(), x.max()], [0, 0], 'r-')\n",
        "plt.xlabel('Predicted')\n",
        "plt.ylabel('Residual')\n",
        "plt.show()"
      ],
      "outputs": [
        {
          "output_type": "display_data",
          "data": {
            "image/png": "[encoded data removed]",
            "text/plain": [
              "<Figure size 432x288 with 1 Axes>"
            ]
          },
          "metadata": {
            "needs_background": "light"
          }
        }
      ],
      "metadata": {
        "id": "VSDFGtHFWlcy"
      }
    },
    {
      "cell_type": "markdown",
      "source": [
        "### **Student Solution**"
      ],
      "metadata": {
        "id": "Xp2Nb65QLHp2"
      }
    },
    {
      "cell_type": "markdown",
      "source": [
        "*Which [plot pattern](http://docs.statwing.com/interpreting-residual-plots-to-improve-your-regression/#gallery) does this residual plot follow? And what might it mean about the model?*"
      ],
      "metadata": {
        "id": "HzRwd-OSXAwb"
      }
    },
    {
      "cell_type": "markdown",
      "source": [
        "The residual plot resembles a nonlinear plot pattern. The regression model used may not be optimal"
      ],
      "metadata": {
        "id": "9v3ah3zBTzhg"
      }
    },
    {
      "cell_type": "markdown",
      "source": [
        "### Answer Key"
      ],
      "metadata": {
        "id": "exercise-1-key-1"
      }
    },
    {
      "cell_type": "markdown",
      "source": [
        "**Solution**"
      ],
      "metadata": {
        "id": "rJP8dwizLK_n"
      }
    },
    {
      "cell_type": "markdown",
      "source": [
        "[Nonlinear](http://docs.statwing.com/interpreting-residual-plots-to-improve-your-regression/#nonlinear-header). Maybe an untransformed linear regression is not appropriate for this data."
      ],
      "metadata": {
        "id": "YCUi_uJ-XXC7"
      }
    },
    {
      "cell_type": "markdown",
      "source": [
        "---"
      ],
      "metadata": {
        "id": "WQRZKOIXT0Gh"
      }
    },
    {
      "cell_type": "markdown",
      "source": [
        "## Exercise 2"
      ],
      "metadata": {
        "id": "FmdVEMObLahP"
      }
    },
    {
      "cell_type": "markdown",
      "source": [
        "Run the code below to generate an image. Identify the corresponding residual plot pattern, and write a sentence or two about what this could signal about the model."
      ],
      "metadata": {
        "id": "BgUTg70ULf14"
      }
    },
    {
      "cell_type": "code",
      "execution_count": 24,
      "source": [
        "import numpy as np\n",
        "import matplotlib.pyplot as plt\n",
        "\n",
        "np.random.seed(42)\n",
        "\n",
        "x = np.linspace(0.0, 10.0, 100)\n",
        "y = np.concatenate([\n",
        "    np.random.uniform(low=-5, high=5, size=90),\n",
        "    np.random.uniform(low=50, high=55, size=10)\n",
        "])\n",
        "plt.plot(x, y, 'b.')\n",
        "plt.plot([x.min(), x.max()], [0, 0], 'r-')\n",
        "plt.xlabel('Predicted')\n",
        "plt.ylabel('Residual')\n",
        "plt.show()"
      ],
      "outputs": [
        {
          "output_type": "display_data",
          "data": {
            "image/png": "[encoded data removed]",
            "text/plain": [
              "<Figure size 432x288 with 1 Axes>"
            ]
          },
          "metadata": {
            "needs_background": "light"
          }
        }
      ],
      "metadata": {
        "id": "LUaR6zDyXmeJ"
      }
    },
    {
      "cell_type": "markdown",
      "source": [
        "### **Student Solution**"
      ],
      "metadata": {
        "id": "MjMuMUpmLjpv"
      }
    },
    {
      "cell_type": "markdown",
      "source": [
        "*Which [plot pattern](http://docs.statwing.com/interpreting-residual-plots-to-improve-your-regression/#gallery) does this residual plot follow? And what might it mean about the model?*"
      ],
      "metadata": {
        "id": "b6l1tsCXLyZO"
      }
    },
    {
      "cell_type": "markdown",
      "source": [
        "---"
      ],
      "metadata": {
        "id": "5HnwCb2aT7Ly"
      }
    },
    {
      "cell_type": "markdown",
      "source": [
        "It resembles an outlier pattern, where some points don't fit the same trend as the other points"
      ],
      "metadata": {
        "id": "exercise-2-key-1"
      }
    },
    {
      "cell_type": "markdown",
      "source": [
        "**Solution**"
      ],
      "metadata": {
        "id": "h6YK3ES0LoaC"
      }
    },
    {
      "cell_type": "markdown",
      "source": [
        "[Outliers](http://docs.statwing.com/interpreting-residual-plots-to-improve-your-regression/#outlier-header). Some points in your dataset are anomalies that do not follow the trend in the rest of the dataset."
      ],
      "metadata": {
        "id": "pEUr180mLrUv"
      }
    },
    {
      "cell_type": "markdown",
      "source": [
        "---"
      ],
      "metadata": {
        "id": "FmIxrcKHT5r0"
      }
    },
    {
      "cell_type": "markdown",
      "source": [
        "## Exercise 3"
      ],
      "metadata": {
        "id": "GTYAV7aXY8Y4"
      }
    },
    {
      "cell_type": "markdown",
      "source": [
        "Run the code below to generate an image. Identify the corresponding residual plot pattern, and write a sentence or two about what this could signal about the model."
      ],
      "metadata": {
        "id": "K62c7ShmY_S4"
      }
    },
    {
      "cell_type": "code",
      "execution_count": 25,
      "source": [
        "import numpy as np\n",
        "import matplotlib.pyplot as plt\n",
        "\n",
        "np.random.seed(42)\n",
        "\n",
        "x = np.concatenate([\n",
        "    np.random.uniform(low=0, high=2, size=90),\n",
        "    np.random.uniform(low=4, high=10, size=10)\n",
        "])\n",
        "y = np.random.uniform(low=-5, high=5, size=100)\n",
        "plt.plot(x, y, 'b.')\n",
        "plt.plot([x.min(), x.max()], [0, 0], 'r-')\n",
        "plt.xlabel('Predicted')\n",
        "plt.ylabel('Residual')\n",
        "plt.show()"
      ],
      "outputs": [
        {
          "output_type": "display_data",
          "data": {
            "image/png": "[encoded data removed]",
            "text/plain": [
              "<Figure size 432x288 with 1 Axes>"
            ]
          },
          "metadata": {
            "needs_background": "light"
          }
        }
      ],
      "metadata": {
        "id": "JBZ40HiTZBxH"
      }
    },
    {
      "cell_type": "markdown",
      "source": [
        "### **Student Solution**"
      ],
      "metadata": {
        "id": "ciCms7duZrtO"
      }
    },
    {
      "cell_type": "markdown",
      "source": [
        "*Which [plot pattern](http://docs.statwing.com/interpreting-residual-plots-to-improve-your-regression/#gallery) does this residual plot follow? And what might it mean about the model?*"
      ],
      "metadata": {
        "id": "1OihReV6ZvGb"
      }
    },
    {
      "cell_type": "markdown",
      "source": [
        "The resdual plot ressembles an x-axis unbalanced plot pattern, where model used caused the resdual plot to skew in one direction"
      ],
      "metadata": {
        "id": "GZjI0o4tLxkI"
      }
    },
    {
      "cell_type": "markdown",
      "source": [
        "### Answer Key"
      ],
      "metadata": {
        "id": "kvzJqzO0Zxmq"
      }
    },
    {
      "cell_type": "markdown",
      "source": [
        "**Solution**"
      ],
      "metadata": {
        "id": "bu7nOv_RZzns"
      }
    },
    {
      "cell_type": "markdown",
      "source": [
        "[X-axis unbalanced](http://docs.statwing.com/interpreting-residual-plots-to-improve-your-regression/#x-unbalanced-header). The underlying data appears to have a skew."
      ],
      "metadata": {
        "id": "wcAQT6VxZ4Ej"
      }
    },
    {
      "cell_type": "markdown",
      "source": [
        "---"
      ],
      "metadata": {
        "id": "P6mK-y__Lw_q"
      }
    }
  ]
}