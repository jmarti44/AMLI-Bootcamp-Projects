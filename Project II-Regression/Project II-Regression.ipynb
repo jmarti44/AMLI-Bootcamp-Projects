{
  "nbformat": 4,
  "nbformat_minor": 0,
  "metadata": {
    "colab": {
      "name": "Team 5 Regression Project",
      "provenance": [],
      "collapsed_sections": [
        "copyright"
      ]
    },
    "kernelspec": {
      "display_name": "Python 3",
      "name": "python3"
    }
  },
  "cells": [
    {
      "cell_type": "markdown",
      "metadata": {
        "id": "copyright"
      },
      "source": [
        "#### Copyright 2020 Google LLC."
      ]
    },
    {
      "cell_type": "code",
      "metadata": {
        "id": "cSdG7cSNFro-"
      },
      "source": [
        "# Licensed under the Apache License, Version 2.0 (the \"License\");\n",
        "# you may not use this file except in compliance with the License.\n",
        "# You may obtain a copy of the License at\n",
        "#\n",
        "# https://www.apache.org/licenses/LICENSE-2.0\n",
        "#\n",
        "# Unless required by applicable law or agreed to in writing, software\n",
        "# distributed under the License is distributed on an \"AS IS\" BASIS,\n",
        "# WITHOUT WARRANTIES OR CONDITIONS OF ANY KIND, either express or implied.\n",
        "# See the License for the specific language governing permissions and\n",
        "# limitations under the License."
      ],
      "execution_count": 86,
      "outputs": []
    },
    {
      "cell_type": "markdown",
      "metadata": {
        "id": "_FdRu8E0F6EJ"
      },
      "source": [
        "# <center>Regression Project"
      ]
    },
    {
      "cell_type": "markdown",
      "metadata": {
        "id": "Mm5d3zEpKE00"
      },
      "source": [
        "We have learned about regression and how to build regression models using both scikit-learn and TensorFlow. Now we'll build a regression model from start to finish. We will acquire data and perform exploratory data analysis and data preprocessing. We'll build and tune our model and measure how well our model generalizes."
      ]
    },
    {
      "cell_type": "markdown",
      "metadata": {
        "id": "2iIQ-XduKJZz"
      },
      "source": [
        "## Framing the Problem"
      ]
    },
    {
      "cell_type": "markdown",
      "metadata": {
        "id": "EnhS-0gNz2tk"
      },
      "source": [
        "### Team Members"
      ]
    },
    {
      "cell_type": "markdown",
      "metadata": {
        "id": "zpDMzDl40I0I"
      },
      "source": [
        "1. Jose Martinez \n",
        "1. Wren Priest\n",
        "1. Maria Quintero"
      ]
    },
    {
      "cell_type": "markdown",
      "metadata": {
        "id": "SY3OnPx1zGWa"
      },
      "source": [
        "### Overview"
      ]
    },
    {
      "cell_type": "markdown",
      "metadata": {
        "id": "9JbgK7HnzJD_"
      },
      "source": [
        "*Friendly Insurance, Inc.* has requested we do a study for them to help predict the cost of their policyholders. They have provided us with sample [anonymous data](https://www.kaggle.com/mirichoi0218/insurance) about some of their policyholders for the previous year. The dataset includes the following information:\n",
        "\n",
        "Column   | Description\n",
        "---------|-------------\n",
        "age      | age of primary beneficiary\n",
        "sex      | gender of the primary beneficiary (male or female)\n",
        "bmi      | body mass index of the primary beneficiary\n",
        "children | number of children covered by the plan\n",
        "smoker   | is the primary beneficiary a smoker (yes or no)\n",
        "region   | geographic region of the beneficiaries (northeast, southeast, southwest, or northwest)\n",
        "charges  | costs to the insurance company\n",
        "\n",
        "We have been asked to create a model that, given the first six columns, can predict the charges the insurance company might incur.\n",
        "\n",
        "The company wants to see how accurate we can get with our predictions. If we can make a case for our model, they will provide us with the full dataset of all of their customers for the last ten years to see if we can improve on our model and possibly even predict cost per client year over year."
      ]
    },
    {
      "cell_type": "markdown",
      "metadata": {
        "id": "YqKI2KIe02wc"
      },
      "source": [
        "### Exercise 1: Thinking About the Data\n",
        "\n",
        "Before we dive in to looking closely at the data, let's think about the problem space and the dataset. Consider the questions below."
      ]
    },
    {
      "cell_type": "markdown",
      "metadata": {
        "id": "BjnbH6vp1PEK"
      },
      "source": [
        "#### Question 1"
      ]
    },
    {
      "cell_type": "markdown",
      "metadata": {
        "id": "Fhcs4Keh1Shq"
      },
      "source": [
        "Is this problem actually a good fit for machine learning? Why or why not?\n",
        "\n",
        "##### **Student Solution**"
      ]
    },
    {
      "cell_type": "markdown",
      "metadata": {
        "id": "fhYunBlz1ZMn"
      },
      "source": [
        "> Yes, this problem is actually a good fit for machine learning because it makes us analyze a large set of data with many variables that relate to each other and can be used to predict the end goal that is predicting the cost of insurance per client. "
      ]
    },
    {
      "cell_type": "markdown",
      "metadata": {
        "id": "qJgwg-dL1cKm"
      },
      "source": [
        "---"
      ]
    },
    {
      "cell_type": "markdown",
      "metadata": {
        "id": "1q9C-k7o4A2g"
      },
      "source": [
        "#### Question 2"
      ]
    },
    {
      "cell_type": "markdown",
      "metadata": {
        "id": "O4F3Ezrc4DRb"
      },
      "source": [
        "If we do build the machine learning model, what biases might exist in the data? Is there anything that might cause the model to have trouble generalizing to other data? If so, how might we make the model more resilient?\n",
        "\n",
        "##### **Student Solution**"
      ]
    },
    {
      "cell_type": "markdown",
      "metadata": {
        "id": "grZRXJkr4Myz"
      },
      "source": [
        "> There may be a bias towards age and region. Age is a bias since children are largely susceptible to get sick depending on the conditions they are living in. Region is also a bias since different environments can affect health. For example an area with more polution can cause more health problems to the general population. There are also factors that are not taken into account such as any already existing health conditions like diabetes. Another factor not taken into account is other possible health habits such as vegetarian, drinking, or vegan. "
      ]
    },
    {
      "cell_type": "markdown",
      "metadata": {
        "id": "bMk4NdcZ4PyG"
      },
      "source": [
        "---"
      ]
    },
    {
      "cell_type": "markdown",
      "metadata": {
        "id": "8LtrUiMk4wIg"
      },
      "source": [
        "#### Question 3"
      ]
    },
    {
      "cell_type": "markdown",
      "metadata": {
        "id": "oHHdnVjS446h"
      },
      "source": [
        "We have been asked to take input features about people who are insured and predict costs, but we haven't been given much information about how these predictions will be used. What effect might our predictions have on decisions made by the insurance company? How might this affect the insured?\n",
        "\n",
        "##### **Student Solution**"
      ]
    },
    {
      "cell_type": "markdown",
      "metadata": {
        "id": "s6tiq72L5Q11"
      },
      "source": [
        "> The results of our predictions may positively or negatively affect the insurance insured. A prediction that results in a lower cost for young adults may benefit young adults. Instead, a prediction that results in a higher cost will likely cause a negative impact towards clients. The insurance company will benefit from the data because they will be able to better profit from clients with a lower cost and reduce losses from clients with a higher cost. "
      ]
    },
    {
      "cell_type": "markdown",
      "metadata": {
        "id": "9LojR01P5TYf"
      },
      "source": [
        "---"
      ]
    },
    {
      "cell_type": "markdown",
      "metadata": {
        "id": "GVqj4S4tytvn"
      },
      "source": [
        "## Exploratory Data Analysis"
      ]
    },
    {
      "cell_type": "markdown",
      "metadata": {
        "id": "IAr2H2CJ60WX"
      },
      "source": [
        "Now that we have considered the societal implications of our model, we can start looking at the data to get a better understanding of what we are working with.\n",
        "\n",
        "The data we'll be using for this project can be [found on Kaggle](https://www.kaggle.com/mirichoi0218/insurance). Upload your `kaggle.json` file and run the code block below."
      ]
    },
    {
      "cell_type": "code",
      "metadata": {
        "id": "NiXw-ACkKlCT",
        "colab": {
          "base_uri": "https://localhost:8080/"
        },
        "outputId": "2a3155d9-03e5-4e80-cde3-a99151397bd3"
      },
      "source": [
        "! chmod 600 kaggle.json && (ls ~/.kaggle 2>/dev/null || mkdir ~/.kaggle) && mv kaggle.json ~/.kaggle/ && echo 'Done'\n",
        "! kaggle datasets download mirichoi0218/insurance\n",
        "! ls"
      ],
      "execution_count": 87,
      "outputs": [
        {
          "output_type": "stream",
          "text": [
            "chmod: cannot access 'kaggle.json': No such file or directory\n",
            "401 - Unauthorized\n",
            "insurance.zip  sample_data\n"
          ],
          "name": "stdout"
        }
      ]
    },
    {
      "cell_type": "markdown",
      "metadata": {
        "id": "CpYSfwuT8N3B"
      },
      "source": [
        "### Exercise 2: EDA and Data Preprocessing"
      ]
    },
    {
      "cell_type": "markdown",
      "metadata": {
        "id": "RgjffxoV7kxc"
      },
      "source": [
        "Using as many code and text blocks as you need, download the dataset, explore it, and do any model-independent preprocessing that you think is necessary. Feel free to use any of the tools for data analysis and visualization that we have covered in this course so far. Be sure to do individual column analysis and cross-column analysis. Explain your findings."
      ]
    },
    {
      "cell_type": "markdown",
      "metadata": {
        "id": "hIfb22Iq8Asx"
      },
      "source": [
        "#### **Student Solution**"
      ]
    },
    {
      "cell_type": "code",
      "metadata": {
        "id": "M8TimMC9iAJl"
      },
      "source": [
        "import pandas as pd\n",
        "import seaborn as sns\n",
        "import sklearn as sk\n",
        "import tensorflow as tf"
      ],
      "execution_count": 88,
      "outputs": []
    },
    {
      "cell_type": "markdown",
      "metadata": {
        "id": "qvLqCtbsQHaT"
      },
      "source": [
        "### Loading data into a DataFrame"
      ]
    },
    {
      "cell_type": "code",
      "metadata": {
        "id": "vk3q6P7q8D_V",
        "colab": {
          "base_uri": "https://localhost:8080/",
          "height": 419
        },
        "outputId": "3eb8017a-696c-4572-f7b7-f7789037ff13"
      },
      "source": [
        "df = pd.read_csv('insurance.zip')\n",
        "df"
      ],
      "execution_count": 89,
      "outputs": [
        {
          "output_type": "execute_result",
          "data": {
            "text/html": [
              "<div>\n",
              "<style scoped>\n",
              "    .dataframe tbody tr th:only-of-type {\n",
              "        vertical-align: middle;\n",
              "    }\n",
              "\n",
              "    .dataframe tbody tr th {\n",
              "        vertical-align: top;\n",
              "    }\n",
              "\n",
              "    .dataframe thead th {\n",
              "        text-align: right;\n",
              "    }\n",
              "</style>\n",
              "<table border=\"1\" class=\"dataframe\">\n",
              "  <thead>\n",
              "    <tr style=\"text-align: right;\">\n",
              "      <th></th>\n",
              "      <th>age</th>\n",
              "      <th>sex</th>\n",
              "      <th>bmi</th>\n",
              "      <th>children</th>\n",
              "      <th>smoker</th>\n",
              "      <th>region</th>\n",
              "      <th>charges</th>\n",
              "    </tr>\n",
              "  </thead>\n",
              "  <tbody>\n",
              "    <tr>\n",
              "      <th>0</th>\n",
              "      <td>19</td>\n",
              "      <td>female</td>\n",
              "      <td>27.900</td>\n",
              "      <td>0</td>\n",
              "      <td>yes</td>\n",
              "      <td>southwest</td>\n",
              "      <td>16884.92400</td>\n",
              "    </tr>\n",
              "    <tr>\n",
              "      <th>1</th>\n",
              "      <td>18</td>\n",
              "      <td>male</td>\n",
              "      <td>33.770</td>\n",
              "      <td>1</td>\n",
              "      <td>no</td>\n",
              "      <td>southeast</td>\n",
              "      <td>1725.55230</td>\n",
              "    </tr>\n",
              "    <tr>\n",
              "      <th>2</th>\n",
              "      <td>28</td>\n",
              "      <td>male</td>\n",
              "      <td>33.000</td>\n",
              "      <td>3</td>\n",
              "      <td>no</td>\n",
              "      <td>southeast</td>\n",
              "      <td>4449.46200</td>\n",
              "    </tr>\n",
              "    <tr>\n",
              "      <th>3</th>\n",
              "      <td>33</td>\n",
              "      <td>male</td>\n",
              "      <td>22.705</td>\n",
              "      <td>0</td>\n",
              "      <td>no</td>\n",
              "      <td>northwest</td>\n",
              "      <td>21984.47061</td>\n",
              "    </tr>\n",
              "    <tr>\n",
              "      <th>4</th>\n",
              "      <td>32</td>\n",
              "      <td>male</td>\n",
              "      <td>28.880</td>\n",
              "      <td>0</td>\n",
              "      <td>no</td>\n",
              "      <td>northwest</td>\n",
              "      <td>3866.85520</td>\n",
              "    </tr>\n",
              "    <tr>\n",
              "      <th>...</th>\n",
              "      <td>...</td>\n",
              "      <td>...</td>\n",
              "      <td>...</td>\n",
              "      <td>...</td>\n",
              "      <td>...</td>\n",
              "      <td>...</td>\n",
              "      <td>...</td>\n",
              "    </tr>\n",
              "    <tr>\n",
              "      <th>1333</th>\n",
              "      <td>50</td>\n",
              "      <td>male</td>\n",
              "      <td>30.970</td>\n",
              "      <td>3</td>\n",
              "      <td>no</td>\n",
              "      <td>northwest</td>\n",
              "      <td>10600.54830</td>\n",
              "    </tr>\n",
              "    <tr>\n",
              "      <th>1334</th>\n",
              "      <td>18</td>\n",
              "      <td>female</td>\n",
              "      <td>31.920</td>\n",
              "      <td>0</td>\n",
              "      <td>no</td>\n",
              "      <td>northeast</td>\n",
              "      <td>2205.98080</td>\n",
              "    </tr>\n",
              "    <tr>\n",
              "      <th>1335</th>\n",
              "      <td>18</td>\n",
              "      <td>female</td>\n",
              "      <td>36.850</td>\n",
              "      <td>0</td>\n",
              "      <td>no</td>\n",
              "      <td>southeast</td>\n",
              "      <td>1629.83350</td>\n",
              "    </tr>\n",
              "    <tr>\n",
              "      <th>1336</th>\n",
              "      <td>21</td>\n",
              "      <td>female</td>\n",
              "      <td>25.800</td>\n",
              "      <td>0</td>\n",
              "      <td>no</td>\n",
              "      <td>southwest</td>\n",
              "      <td>2007.94500</td>\n",
              "    </tr>\n",
              "    <tr>\n",
              "      <th>1337</th>\n",
              "      <td>61</td>\n",
              "      <td>female</td>\n",
              "      <td>29.070</td>\n",
              "      <td>0</td>\n",
              "      <td>yes</td>\n",
              "      <td>northwest</td>\n",
              "      <td>29141.36030</td>\n",
              "    </tr>\n",
              "  </tbody>\n",
              "</table>\n",
              "<p>1338 rows × 7 columns</p>\n",
              "</div>"
            ],
            "text/plain": [
              "      age     sex     bmi  children smoker     region      charges\n",
              "0      19  female  27.900         0    yes  southwest  16884.92400\n",
              "1      18    male  33.770         1     no  southeast   1725.55230\n",
              "2      28    male  33.000         3     no  southeast   4449.46200\n",
              "3      33    male  22.705         0     no  northwest  21984.47061\n",
              "4      32    male  28.880         0     no  northwest   3866.85520\n",
              "...   ...     ...     ...       ...    ...        ...          ...\n",
              "1333   50    male  30.970         3     no  northwest  10600.54830\n",
              "1334   18  female  31.920         0     no  northeast   2205.98080\n",
              "1335   18  female  36.850         0     no  southeast   1629.83350\n",
              "1336   21  female  25.800         0     no  southwest   2007.94500\n",
              "1337   61  female  29.070         0    yes  northwest  29141.36030\n",
              "\n",
              "[1338 rows x 7 columns]"
            ]
          },
          "metadata": {
            "tags": []
          },
          "execution_count": 89
        }
      ]
    },
    {
      "cell_type": "markdown",
      "metadata": {
        "id": "jUo4DgfD8T7B"
      },
      "source": [
        "---"
      ]
    },
    {
      "cell_type": "markdown",
      "metadata": {
        "id": "ixMC4l7HQSd3"
      },
      "source": [
        "## Preprocessing and Analysis"
      ]
    },
    {
      "cell_type": "markdown",
      "metadata": {
        "id": "x3_p_bV1R0zT"
      },
      "source": [
        "Preprocessing involves taking any categorical variables present in the insurance dataframe and converting into values that can analyzed by some sort of regressional model. The pandas `get_dummies()` method converts any categorical variable into dummy/indicator variables. The post-processed dataframe is stored in the variable `df` and the original dataframe is stored in `og`."
      ]
    },
    {
      "cell_type": "code",
      "metadata": {
        "colab": {
          "base_uri": "https://localhost:8080/",
          "height": 419
        },
        "id": "1Y9-FwPMQZCy",
        "outputId": "2ec5cf4b-1d0c-4831-d6b3-4a7a973689b4"
      },
      "source": [
        "og = pd.read_csv('insurance.zip')\n",
        "df = pd.read_csv('insurance.zip')\n",
        "\n",
        "#clean data\n",
        "df = pd.get_dummies(df)\n",
        "df"
      ],
      "execution_count": 90,
      "outputs": [
        {
          "output_type": "execute_result",
          "data": {
            "text/html": [
              "<div>\n",
              "<style scoped>\n",
              "    .dataframe tbody tr th:only-of-type {\n",
              "        vertical-align: middle;\n",
              "    }\n",
              "\n",
              "    .dataframe tbody tr th {\n",
              "        vertical-align: top;\n",
              "    }\n",
              "\n",
              "    .dataframe thead th {\n",
              "        text-align: right;\n",
              "    }\n",
              "</style>\n",
              "<table border=\"1\" class=\"dataframe\">\n",
              "  <thead>\n",
              "    <tr style=\"text-align: right;\">\n",
              "      <th></th>\n",
              "      <th>age</th>\n",
              "      <th>bmi</th>\n",
              "      <th>children</th>\n",
              "      <th>charges</th>\n",
              "      <th>sex_female</th>\n",
              "      <th>sex_male</th>\n",
              "      <th>smoker_no</th>\n",
              "      <th>smoker_yes</th>\n",
              "      <th>region_northeast</th>\n",
              "      <th>region_northwest</th>\n",
              "      <th>region_southeast</th>\n",
              "      <th>region_southwest</th>\n",
              "    </tr>\n",
              "  </thead>\n",
              "  <tbody>\n",
              "    <tr>\n",
              "      <th>0</th>\n",
              "      <td>19</td>\n",
              "      <td>27.900</td>\n",
              "      <td>0</td>\n",
              "      <td>16884.92400</td>\n",
              "      <td>1</td>\n",
              "      <td>0</td>\n",
              "      <td>0</td>\n",
              "      <td>1</td>\n",
              "      <td>0</td>\n",
              "      <td>0</td>\n",
              "      <td>0</td>\n",
              "      <td>1</td>\n",
              "    </tr>\n",
              "    <tr>\n",
              "      <th>1</th>\n",
              "      <td>18</td>\n",
              "      <td>33.770</td>\n",
              "      <td>1</td>\n",
              "      <td>1725.55230</td>\n",
              "      <td>0</td>\n",
              "      <td>1</td>\n",
              "      <td>1</td>\n",
              "      <td>0</td>\n",
              "      <td>0</td>\n",
              "      <td>0</td>\n",
              "      <td>1</td>\n",
              "      <td>0</td>\n",
              "    </tr>\n",
              "    <tr>\n",
              "      <th>2</th>\n",
              "      <td>28</td>\n",
              "      <td>33.000</td>\n",
              "      <td>3</td>\n",
              "      <td>4449.46200</td>\n",
              "      <td>0</td>\n",
              "      <td>1</td>\n",
              "      <td>1</td>\n",
              "      <td>0</td>\n",
              "      <td>0</td>\n",
              "      <td>0</td>\n",
              "      <td>1</td>\n",
              "      <td>0</td>\n",
              "    </tr>\n",
              "    <tr>\n",
              "      <th>3</th>\n",
              "      <td>33</td>\n",
              "      <td>22.705</td>\n",
              "      <td>0</td>\n",
              "      <td>21984.47061</td>\n",
              "      <td>0</td>\n",
              "      <td>1</td>\n",
              "      <td>1</td>\n",
              "      <td>0</td>\n",
              "      <td>0</td>\n",
              "      <td>1</td>\n",
              "      <td>0</td>\n",
              "      <td>0</td>\n",
              "    </tr>\n",
              "    <tr>\n",
              "      <th>4</th>\n",
              "      <td>32</td>\n",
              "      <td>28.880</td>\n",
              "      <td>0</td>\n",
              "      <td>3866.85520</td>\n",
              "      <td>0</td>\n",
              "      <td>1</td>\n",
              "      <td>1</td>\n",
              "      <td>0</td>\n",
              "      <td>0</td>\n",
              "      <td>1</td>\n",
              "      <td>0</td>\n",
              "      <td>0</td>\n",
              "    </tr>\n",
              "    <tr>\n",
              "      <th>...</th>\n",
              "      <td>...</td>\n",
              "      <td>...</td>\n",
              "      <td>...</td>\n",
              "      <td>...</td>\n",
              "      <td>...</td>\n",
              "      <td>...</td>\n",
              "      <td>...</td>\n",
              "      <td>...</td>\n",
              "      <td>...</td>\n",
              "      <td>...</td>\n",
              "      <td>...</td>\n",
              "      <td>...</td>\n",
              "    </tr>\n",
              "    <tr>\n",
              "      <th>1333</th>\n",
              "      <td>50</td>\n",
              "      <td>30.970</td>\n",
              "      <td>3</td>\n",
              "      <td>10600.54830</td>\n",
              "      <td>0</td>\n",
              "      <td>1</td>\n",
              "      <td>1</td>\n",
              "      <td>0</td>\n",
              "      <td>0</td>\n",
              "      <td>1</td>\n",
              "      <td>0</td>\n",
              "      <td>0</td>\n",
              "    </tr>\n",
              "    <tr>\n",
              "      <th>1334</th>\n",
              "      <td>18</td>\n",
              "      <td>31.920</td>\n",
              "      <td>0</td>\n",
              "      <td>2205.98080</td>\n",
              "      <td>1</td>\n",
              "      <td>0</td>\n",
              "      <td>1</td>\n",
              "      <td>0</td>\n",
              "      <td>1</td>\n",
              "      <td>0</td>\n",
              "      <td>0</td>\n",
              "      <td>0</td>\n",
              "    </tr>\n",
              "    <tr>\n",
              "      <th>1335</th>\n",
              "      <td>18</td>\n",
              "      <td>36.850</td>\n",
              "      <td>0</td>\n",
              "      <td>1629.83350</td>\n",
              "      <td>1</td>\n",
              "      <td>0</td>\n",
              "      <td>1</td>\n",
              "      <td>0</td>\n",
              "      <td>0</td>\n",
              "      <td>0</td>\n",
              "      <td>1</td>\n",
              "      <td>0</td>\n",
              "    </tr>\n",
              "    <tr>\n",
              "      <th>1336</th>\n",
              "      <td>21</td>\n",
              "      <td>25.800</td>\n",
              "      <td>0</td>\n",
              "      <td>2007.94500</td>\n",
              "      <td>1</td>\n",
              "      <td>0</td>\n",
              "      <td>1</td>\n",
              "      <td>0</td>\n",
              "      <td>0</td>\n",
              "      <td>0</td>\n",
              "      <td>0</td>\n",
              "      <td>1</td>\n",
              "    </tr>\n",
              "    <tr>\n",
              "      <th>1337</th>\n",
              "      <td>61</td>\n",
              "      <td>29.070</td>\n",
              "      <td>0</td>\n",
              "      <td>29141.36030</td>\n",
              "      <td>1</td>\n",
              "      <td>0</td>\n",
              "      <td>0</td>\n",
              "      <td>1</td>\n",
              "      <td>0</td>\n",
              "      <td>1</td>\n",
              "      <td>0</td>\n",
              "      <td>0</td>\n",
              "    </tr>\n",
              "  </tbody>\n",
              "</table>\n",
              "<p>1338 rows × 12 columns</p>\n",
              "</div>"
            ],
            "text/plain": [
              "      age     bmi  ...  region_southeast  region_southwest\n",
              "0      19  27.900  ...                 0                 1\n",
              "1      18  33.770  ...                 1                 0\n",
              "2      28  33.000  ...                 1                 0\n",
              "3      33  22.705  ...                 0                 0\n",
              "4      32  28.880  ...                 0                 0\n",
              "...   ...     ...  ...               ...               ...\n",
              "1333   50  30.970  ...                 0                 0\n",
              "1334   18  31.920  ...                 0                 0\n",
              "1335   18  36.850  ...                 1                 0\n",
              "1336   21  25.800  ...                 0                 1\n",
              "1337   61  29.070  ...                 0                 0\n",
              "\n",
              "[1338 rows x 12 columns]"
            ]
          },
          "metadata": {
            "tags": []
          },
          "execution_count": 90
        }
      ]
    },
    {
      "cell_type": "markdown",
      "metadata": {
        "id": "mMQIyqzRRW5D"
      },
      "source": [
        "### Heatmap"
      ]
    },
    {
      "cell_type": "code",
      "metadata": {
        "colab": {
          "base_uri": "https://localhost:8080/",
          "height": 286
        },
        "id": "-XlaL5YSRf43",
        "outputId": "a915898d-d71d-41e1-b21b-bd1cd2150356"
      },
      "source": [
        "sns.heatmap(og.corr())"
      ],
      "execution_count": 91,
      "outputs": [
        {
          "output_type": "execute_result",
          "data": {
            "text/plain": [
              "<matplotlib.axes._subplots.AxesSubplot at 0x7f2fbfc7ab10>"
            ]
          },
          "metadata": {
            "tags": []
          },
          "execution_count": 91
        },
        {
          "output_type": "display_data",
          "data": {
            "image/png": "[encoded data removed]",
            "text/plain": [
              "<Figure size 432x288 with 2 Axes>"
            ]
          },
          "metadata": {
            "tags": [],
            "needs_background": "light"
          }
        }
      ]
    },
    {
      "cell_type": "markdown",
      "metadata": {
        "id": "53h5oMJPmYxo"
      },
      "source": [
        "The following heatmap illustrates which features are the most correlated with one another. For example, Age is the most correlated with bmi."
      ]
    },
    {
      "cell_type": "markdown",
      "metadata": {
        "id": "Ac-YMzcBy1yM"
      },
      "source": [
        "## Modeling"
      ]
    },
    {
      "cell_type": "markdown",
      "metadata": {
        "id": "Mp3TkmalNcR-"
      },
      "source": [
        "Now that we understand our data a little better, we can build a model. We are trying to predict 'charges', which is a continuous variable. We'll use a regression model to predict 'charges'."
      ]
    },
    {
      "cell_type": "markdown",
      "metadata": {
        "id": "nmlwZpbUIHQZ"
      },
      "source": [
        "### Exercise 3: Modeling"
      ]
    },
    {
      "cell_type": "markdown",
      "metadata": {
        "id": "Cnc7Y47bIQG5"
      },
      "source": [
        "Using as many code and text blocks as you need, build a model that can predict 'charges' given the features that we have available. To do this, feel free to use any of the toolkits and models that we have explored so far.\n",
        "\n",
        "You'll be expected to:\n",
        "1. Prepare the data for the model (or models) that you choose. Remember that some of the data is categorical. In order for your model to use it, you'll need to convert the data to some numeric representation.\n",
        "1. Build a model or models and adjust parameters.\n",
        "1. Validate your model with holdout data. Hold out some percentage of your data (10-20%), and use it as a final validation of your model. Print the root mean squared error. We were able to get an RMSE between `3500` and `4000`, but your final RMSE will likely be different."
      ]
    },
    {
      "cell_type": "markdown",
      "metadata": {
        "id": "GbJ7IMwfOZON"
      },
      "source": [
        ""
      ]
    },
    {
      "cell_type": "markdown",
      "metadata": {
        "id": "YjSCGA7HryJh"
      },
      "source": [
        "#### **Student Solution**"
      ]
    },
    {
      "cell_type": "markdown",
      "metadata": {
        "id": "psf9g5A9nGxR"
      },
      "source": [
        "###Histogram"
      ]
    },
    {
      "cell_type": "code",
      "metadata": {
        "colab": {
          "base_uri": "https://localhost:8080/",
          "height": 296
        },
        "id": "soes1WiQRBQe",
        "outputId": "d296199c-701c-4fc6-b051-cd5e782ea4ea"
      },
      "source": [
        "sns.histplot(data=og.charges)"
      ],
      "execution_count": 92,
      "outputs": [
        {
          "output_type": "execute_result",
          "data": {
            "text/plain": [
              "<matplotlib.axes._subplots.AxesSubplot at 0x7f2fba4d9110>"
            ]
          },
          "metadata": {
            "tags": []
          },
          "execution_count": 92
        },
        {
          "output_type": "display_data",
          "data": {
            "image/png": "[encoded data removed]",
            "text/plain": [
              "<Figure size 432x288 with 1 Axes>"
            ]
          },
          "metadata": {
            "tags": [],
            "needs_background": "light"
          }
        }
      ]
    },
    {
      "cell_type": "markdown",
      "metadata": {
        "id": "fpSnghp_nJgn"
      },
      "source": [
        "A histogram showing the distrbution of charges was made to get an idea of the range of potential target values for our model."
      ]
    },
    {
      "cell_type": "markdown",
      "metadata": {
        "id": "xwMkNmKdnYaz"
      },
      "source": [
        "###Splitting the Data and getting Target and Feature Columns "
      ]
    },
    {
      "cell_type": "markdown",
      "metadata": {
        "id": "5nRbhP7woZWV"
      },
      "source": [
        "Separating data into training and testing sets is an important part of evaluating data mining models. A training set and test set is separted from the original data set at random. This is done to minimize the effects of data discrepancies and can help easily assess the quality of our produced the model.\n",
        "\n",
        "The training data is used to create the model itself. The features from the test data are used as inputs for the model produced, where the target values predicted are compared to the actual target values from the testing data."
      ]
    },
    {
      "cell_type": "code",
      "metadata": {
        "id": "5Sm-HIs5IL3F",
        "colab": {
          "base_uri": "https://localhost:8080/"
        },
        "outputId": "1d4bc4b2-09d3-4574-f828-dbf8599082dd"
      },
      "source": [
        "# Shuffle\n",
        "df = df.sample(frac=1)\n",
        "\n",
        "# Calculate test set size\n",
        "test_set_size = int(len(df) * 0.2)\n",
        "\n",
        "# Split the data\n",
        "testing_df = df[:test_set_size]\n",
        "training_df = df[test_set_size:]\n",
        "\n",
        "print(f'Holding out {len(testing_df)} records for testing. ')\n",
        "print(f'Using {len(training_df)} records for training.')"
      ],
      "execution_count": 93,
      "outputs": [
        {
          "output_type": "stream",
          "text": [
            "Holding out 267 records for testing. \n",
            "Using 1071 records for training.\n"
          ],
          "name": "stdout"
        }
      ]
    },
    {
      "cell_type": "markdown",
      "metadata": {
        "id": "ITsTAJgWIJVT"
      },
      "source": [
        "---"
      ]
    },
    {
      "cell_type": "code",
      "metadata": {
        "colab": {
          "base_uri": "https://localhost:8080/"
        },
        "id": "5TkvWBCdfoRK",
        "outputId": "75a1fd7f-0133-4d19-f8ab-2bbaee995b07"
      },
      "source": [
        "#Getting target and feature columns \n",
        "target_column = 'charges'\n",
        "feature_columns = [c for c in df.columns if c != target_column]\n",
        "\n",
        "print(target_column)\n",
        "print(feature_columns)"
      ],
      "execution_count": 94,
      "outputs": [
        {
          "output_type": "stream",
          "text": [
            "charges\n",
            "['age', 'bmi', 'children', 'sex_female', 'sex_male', 'smoker_no', 'smoker_yes', 'region_northeast', 'region_northwest', 'region_southeast', 'region_southwest']\n"
          ],
          "name": "stdout"
        }
      ]
    },
    {
      "cell_type": "markdown",
      "metadata": {
        "id": "SS2THhMJqrC_"
      },
      "source": [
        "### Standardization"
      ]
    },
    {
      "cell_type": "markdown",
      "metadata": {
        "id": "lJZ5qZNgq499"
      },
      "source": [
        ""
      ]
    },
    {
      "cell_type": "code",
      "metadata": {
        "id": "2QTis6P7ftxf"
      },
      "source": [
        "#Scaling data\n",
        "\n",
        "\n",
        "from sklearn.preprocessing import StandardScaler\n",
        "from sklearn.preprocessing import RobustScaler\n",
        "\n",
        "#Standard Scalar\n",
        "df['age'] = StandardScaler().fit_transform(og[['age']])\n",
        "df['bmi'] = StandardScaler().fit_transform(og[['bmi']])\n",
        "\n",
        "\n",
        "#Robust Scalar\n",
        "df['children'] = RobustScaler().fit_transform(og[['children']])\n",
        "df['charges'] = RobustScaler().fit_transform(og[['charges']])\n",
        "df"
      ],
      "execution_count": 95,
      "outputs": []
    },
    {
      "cell_type": "code",
      "metadata": {
        "colab": {
          "base_uri": "https://localhost:8080/"
        },
        "id": "MDQf_jZEhiF8",
        "outputId": "7d9ea37d-9132-495e-8374-5770acf696e1"
      },
      "source": [
        "#running the model\n",
        "\n",
        "from tensorflow import keras\n",
        "from tensorflow.keras import layers\n",
        "import math\n",
        "import numpy as np\n",
        "from sklearn import metrics\n",
        "\n",
        "# making deep neural network with hidden layers\n",
        "feature_count = len(feature_columns)\n",
        "\n",
        "model = keras.Sequential([\n",
        "  layers.Dense(1024, input_shape=[feature_count]),\n",
        "  layers.Dense(512),\n",
        "  layers.Dense(128),\n",
        "  layers.Dense(1)\n",
        "])\n",
        "\n",
        "# how and what to optimize the model for\n",
        "model.compile(\n",
        "  loss='mse',\n",
        "  optimizer='Adam',\n",
        "  metrics=['mae', 'mse'],\n",
        ")\n",
        "\n",
        "## added code\n",
        "model.add(layers.Activation(tf.keras.activations.relu))\n",
        "## added code\n",
        "\n",
        "# actually train model\n",
        "model.fit(\n",
        "  training_df[feature_columns],\n",
        "  training_df[target_column],\n",
        "  epochs=30,\n",
        "  validation_split=0.2,\n",
        ")\n",
        "\n",
        "# validate model\n",
        "predictions = model.predict(testing_df[feature_columns])\n",
        "\n",
        "# check mean squared error\n",
        "mean_squared_error = metrics.mean_squared_error(\n",
        "    np.array(predictions),\n",
        "    testing_df[target_column] \n",
        ")\n",
        "print(\"Mean Squared Error (on training data): %0.3f\" % mean_squared_error)\n",
        "\n",
        "root_mean_squared_error = math.sqrt(mean_squared_error)\n",
        "print(\"Root Mean Squared Error (on training data): %0.3f\" % root_mean_squared_error)\n",
        "\n",
        "\n",
        "\n",
        "\n"
      ],
      "execution_count": 97,
      "outputs": [
        {
          "output_type": "stream",
          "text": [
            "Epoch 1/30\n",
            "27/27 [==============================] - 1s 17ms/step - loss: 229367840.0000 - mae: 10542.5254 - mse: 229367840.0000 - val_loss: 144008400.0000 - val_mae: 10625.2012 - val_mse: 144008400.0000\n",
            "Epoch 2/30\n",
            "27/27 [==============================] - 0s 11ms/step - loss: 129684856.0000 - mae: 8714.7041 - mse: 129684856.0000 - val_loss: 133564784.0000 - val_mae: 9741.1816 - val_mse: 133564784.0000\n",
            "Epoch 3/30\n",
            "27/27 [==============================] - 0s 12ms/step - loss: 126834384.0000 - mae: 8995.0684 - mse: 126834384.0000 - val_loss: 129373744.0000 - val_mae: 9073.2314 - val_mse: 129373744.0000\n",
            "Epoch 4/30\n",
            "27/27 [==============================] - 0s 11ms/step - loss: 124136896.0000 - mae: 8735.6045 - mse: 124136896.0000 - val_loss: 127316520.0000 - val_mae: 9256.1348 - val_mse: 127316520.0000\n",
            "Epoch 5/30\n",
            "27/27 [==============================] - 0s 11ms/step - loss: 123625192.0000 - mae: 8662.8340 - mse: 123625192.0000 - val_loss: 125299704.0000 - val_mae: 8406.5771 - val_mse: 125299704.0000\n",
            "Epoch 6/30\n",
            "27/27 [==============================] - 0s 12ms/step - loss: 118644600.0000 - mae: 8548.2910 - mse: 118644600.0000 - val_loss: 120886944.0000 - val_mae: 8375.1758 - val_mse: 120886944.0000\n",
            "Epoch 7/30\n",
            "27/27 [==============================] - 0s 11ms/step - loss: 114505536.0000 - mae: 8349.4277 - mse: 114505536.0000 - val_loss: 121076608.0000 - val_mae: 7454.5630 - val_mse: 121076608.0000\n",
            "Epoch 8/30\n",
            "27/27 [==============================] - 0s 11ms/step - loss: 109589240.0000 - mae: 7964.5049 - mse: 109589240.0000 - val_loss: 107979400.0000 - val_mae: 7415.7222 - val_mse: 107979400.0000\n",
            "Epoch 9/30\n",
            "27/27 [==============================] - 0s 12ms/step - loss: 96903616.0000 - mae: 7437.8896 - mse: 96903616.0000 - val_loss: 88276760.0000 - val_mae: 7204.4756 - val_mse: 88276760.0000\n",
            "Epoch 10/30\n",
            "27/27 [==============================] - 0s 11ms/step - loss: 77524472.0000 - mae: 6572.9043 - mse: 77524472.0000 - val_loss: 67763784.0000 - val_mae: 4803.9702 - val_mse: 67763784.0000\n",
            "Epoch 11/30\n",
            "27/27 [==============================] - 0s 11ms/step - loss: 54121756.0000 - mae: 5217.7935 - mse: 54121756.0000 - val_loss: 39001256.0000 - val_mae: 4131.5503 - val_mse: 39001256.0000\n",
            "Epoch 12/30\n",
            "27/27 [==============================] - 0s 11ms/step - loss: 38968160.0000 - mae: 4490.5171 - mse: 38968160.0000 - val_loss: 31551212.0000 - val_mae: 4082.6162 - val_mse: 31551212.0000\n",
            "Epoch 13/30\n",
            "27/27 [==============================] - 0s 12ms/step - loss: 37167376.0000 - mae: 4231.3350 - mse: 37167376.0000 - val_loss: 30322010.0000 - val_mae: 3695.0596 - val_mse: 30322010.0000\n",
            "Epoch 14/30\n",
            "27/27 [==============================] - 0s 11ms/step - loss: 36416852.0000 - mae: 4097.5781 - mse: 36416852.0000 - val_loss: 30555210.0000 - val_mae: 3711.3435 - val_mse: 30555210.0000\n",
            "Epoch 15/30\n",
            "27/27 [==============================] - 0s 11ms/step - loss: 37420428.0000 - mae: 4218.5723 - mse: 37420428.0000 - val_loss: 30306408.0000 - val_mae: 3758.2231 - val_mse: 30306408.0000\n",
            "Epoch 16/30\n",
            "27/27 [==============================] - 0s 11ms/step - loss: 38305004.0000 - mae: 4285.2896 - mse: 38305004.0000 - val_loss: 31090218.0000 - val_mae: 4133.8550 - val_mse: 31090218.0000\n",
            "Epoch 17/30\n",
            "27/27 [==============================] - 0s 11ms/step - loss: 37633240.0000 - mae: 4249.6001 - mse: 37633240.0000 - val_loss: 30395216.0000 - val_mae: 3842.2749 - val_mse: 30395216.0000\n",
            "Epoch 18/30\n",
            "27/27 [==============================] - 0s 10ms/step - loss: 38295068.0000 - mae: 4250.0156 - mse: 38295068.0000 - val_loss: 32248434.0000 - val_mae: 4363.9512 - val_mse: 32248434.0000\n",
            "Epoch 19/30\n",
            "27/27 [==============================] - 0s 11ms/step - loss: 36580588.0000 - mae: 4161.3252 - mse: 36580588.0000 - val_loss: 30545418.0000 - val_mae: 3941.4238 - val_mse: 30545418.0000\n",
            "Epoch 20/30\n",
            "27/27 [==============================] - 0s 11ms/step - loss: 36942000.0000 - mae: 4181.0801 - mse: 36942000.0000 - val_loss: 31076364.0000 - val_mae: 4110.6553 - val_mse: 31076364.0000\n",
            "Epoch 21/30\n",
            "27/27 [==============================] - 0s 11ms/step - loss: 37846952.0000 - mae: 4266.7090 - mse: 37846952.0000 - val_loss: 31286796.0000 - val_mae: 3674.8052 - val_mse: 31286796.0000\n",
            "Epoch 22/30\n",
            "27/27 [==============================] - 0s 11ms/step - loss: 37611480.0000 - mae: 4239.1675 - mse: 37611480.0000 - val_loss: 30820976.0000 - val_mae: 3688.7917 - val_mse: 30820976.0000\n",
            "Epoch 23/30\n",
            "27/27 [==============================] - 0s 11ms/step - loss: 40425416.0000 - mae: 4514.6406 - mse: 40425416.0000 - val_loss: 42697484.0000 - val_mae: 4474.5498 - val_mse: 42697484.0000\n",
            "Epoch 24/30\n",
            "27/27 [==============================] - 0s 10ms/step - loss: 37803012.0000 - mae: 4294.2637 - mse: 37803012.0000 - val_loss: 30620188.0000 - val_mae: 3795.2388 - val_mse: 30620188.0000\n",
            "Epoch 25/30\n",
            "27/27 [==============================] - 0s 11ms/step - loss: 37339184.0000 - mae: 4333.1655 - mse: 37339184.0000 - val_loss: 31024476.0000 - val_mae: 3672.8474 - val_mse: 31024476.0000\n",
            "Epoch 26/30\n",
            "27/27 [==============================] - 0s 10ms/step - loss: 39483844.0000 - mae: 4400.1885 - mse: 39483844.0000 - val_loss: 30890508.0000 - val_mae: 3699.0652 - val_mse: 30890508.0000\n",
            "Epoch 27/30\n",
            "27/27 [==============================] - 0s 10ms/step - loss: 37139024.0000 - mae: 4179.2920 - mse: 37139024.0000 - val_loss: 30818462.0000 - val_mae: 3734.2957 - val_mse: 30818462.0000\n",
            "Epoch 28/30\n",
            "27/27 [==============================] - 0s 11ms/step - loss: 38604412.0000 - mae: 4370.7378 - mse: 38604412.0000 - val_loss: 30680254.0000 - val_mae: 3774.1187 - val_mse: 30680254.0000\n",
            "Epoch 29/30\n",
            "27/27 [==============================] - 0s 10ms/step - loss: 36602624.0000 - mae: 4198.0767 - mse: 36602624.0000 - val_loss: 30225082.0000 - val_mae: 3840.6626 - val_mse: 30225082.0000\n",
            "Epoch 30/30\n",
            "27/27 [==============================] - 0s 11ms/step - loss: 36304912.0000 - mae: 4088.0479 - mse: 36304912.0000 - val_loss: 31585782.0000 - val_mae: 4227.9653 - val_mse: 31585782.0000\n",
            "Mean Squared Error (on training data): 43739521.768\n",
            "Root Mean Squared Error (on training data): 6613.586\n"
          ],
          "name": "stdout"
        }
      ]
    },
    {
      "cell_type": "markdown",
      "metadata": {
        "id": "4yUQ7ydBzOFD"
      },
      "source": [
        "### Generated Answers"
      ]
    },
    {
      "cell_type": "markdown",
      "metadata": {
        "id": "1WbZBVA-zRiM"
      },
      "source": [
        "**Generated Mean Squared Error**: 6613.586"
      ]
    }
  ]
}