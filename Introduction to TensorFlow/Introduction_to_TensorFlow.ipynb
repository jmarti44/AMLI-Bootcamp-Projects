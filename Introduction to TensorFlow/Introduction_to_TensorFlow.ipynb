{
  "nbformat": 4,
  "nbformat_minor": 2,
  "metadata": {
    "colab": {
      "name": "Introduction to TensorFlow",
      "private_outputs": true,
      "provenance": [],
      "collapsed_sections": [
        "copyright",
        "Enrioe92F6tE"
      ]
    },
    "kernelspec": {
      "name": "python3",
      "display_name": "Python 3.9.7 64-bit ('data': conda)"
    },
    "language_info": {
      "name": "python",
      "version": "3.9.7",
      "mimetype": "text/x-python",
      "codemirror_mode": {
        "name": "ipython",
        "version": 3
      },
      "pygments_lexer": "ipython3",
      "nbconvert_exporter": "python",
      "file_extension": ".py"
    },
    "interpreter": {
      "hash": "8fbdc03ba97d8a2a62d8e820f8dc08c72c861e4a4433063471236fa03b6ac1df"
    }
  },
  "cells": [
    {
      "cell_type": "markdown",
      "source": [
        "#### Copyright 2020 Google LLC."
      ],
      "metadata": {
        "id": "copyright"
      }
    },
    {
      "cell_type": "code",
      "execution_count": 3,
      "source": [
        "# Licensed under the Apache License, Version 2.0 (the \"License\");\n",
        "# you may not use this file except in compliance with the License.\n",
        "# You may obtain a copy of the License at\n",
        "#\n",
        "# https://www.apache.org/licenses/LICENSE-2.0\n",
        "#\n",
        "# Unless required by applicable law or agreed to in writing, software\n",
        "# distributed under the License is distributed on an \"AS IS\" BASIS,\n",
        "# WITHOUT WARRANTIES OR CONDITIONS OF ANY KIND, either express or implied.\n",
        "# See the License for the specific language governing permissions and\n",
        "# limitations under the License."
      ],
      "outputs": [],
      "metadata": {
        "id": "nUILHfaIXp8i"
      }
    },
    {
      "cell_type": "markdown",
      "source": [
        "# Introduction to TensorFlow"
      ],
      "metadata": {
        "id": "_FdRu8E0F6EJ"
      }
    },
    {
      "cell_type": "markdown",
      "source": [
        "[TensorFlow](http://tensorflow.org) is a software library used for high-performance numerical computation. It can be used from a variety of languages and deployed on a large number of operating systems and hardware platforms.\n",
        "\n",
        "TensorFlow is particularly good at machine learning and is often associated with it. However, TensorFlow isn't limited to machine learning applications.\n"
      ],
      "metadata": {
        "id": "-BAA5YllEH3S"
      }
    },
    {
      "cell_type": "markdown",
      "source": [
        "## TensorFlow Version"
      ],
      "metadata": {
        "id": "DDm6iXKZBPaB"
      }
    },
    {
      "cell_type": "markdown",
      "source": [
        "In late 2019, TensorFlow moved from version `1.x` to version `2.x`. This move signaled a major change in how programmers use TensorFlow. Many of the APIs used in version 1 are no longer core to the libarary.\n",
        "\n",
        "In this course we use TensorFlow 2 exclusively.\n",
        "\n",
        "TensorFlow 1 and TensorFlow 2 can't be installed in the same environment at the same time. As of early 2020, Colab still defaulted to using TensorFlow 1. In order to enable TensorFlow 2, run the code cell below:"
      ],
      "metadata": {
        "id": "5SKPdCbjBSfK"
      }
    },
    {
      "cell_type": "code",
      "execution_count": 4,
      "source": [
        "%tensorflow_version 2.x"
      ],
      "outputs": [
        {
          "output_type": "stream",
          "name": "stderr",
          "text": [
            "UsageError: Line magic function `%tensorflow_version` not found.\n"
          ]
        }
      ],
      "metadata": {
        "id": "DaSeHyW3_eKf"
      }
    },
    {
      "cell_type": "markdown",
      "source": [
        "This cell runs a magic that tells Colab to use TensorFlow 2 instead of TensorFlow 1 by default. This magic needs to run before you actually load TensorFlow.\n",
        "\n",
        "In the future this magic might not be necessary. If you are ever in doubt of which TensorFlow you are using, import `tensorflow` and print out the version."
      ],
      "metadata": {
        "id": "DlZ4QBIRC9he"
      }
    },
    {
      "cell_type": "code",
      "execution_count": 5,
      "source": [
        "import tensorflow as tf\n",
        "\n",
        "print(tf.__version__)"
      ],
      "outputs": [
        {
          "output_type": "stream",
          "name": "stdout",
          "text": [
            "2.4.1\n"
          ]
        }
      ],
      "metadata": {
        "id": "zjomxNnvDU5C"
      }
    },
    {
      "cell_type": "markdown",
      "source": [
        "## Tensors\n",
        "\n",
        "TensorFlow gets its name from **tensors**, which are arrays of arbitrary dimensionality. Using TensorFlow, you can manipulate tensors with a very high number of dimensions. With that being said, most of the time you will work with one or more of the following low-dimensional tensors:"
      ],
      "metadata": {
        "id": "r36Rz1wzcUro"
      }
    },
    {
      "cell_type": "markdown",
      "source": [
        "### Scalars"
      ],
      "metadata": {
        "id": "Zlsfo3aEEgyg"
      }
    },
    {
      "cell_type": "markdown",
      "source": [
        "A **scalar** is a 0-d array (a 0th-order tensor). An example might be `\"Howdy\"` or `5`.\n",
        "\n",
        "How would we create a scalar tensor, or any tensor for that matter?\n",
        "\n",
        "One ways is to use `tf.constant()`. This creates a **constant tensor**, which is a tensor that cannot change."
      ],
      "metadata": {
        "id": "yzsOB6mlEiZ0"
      }
    },
    {
      "cell_type": "code",
      "execution_count": 6,
      "source": [
        "scalar_tensor = tf.constant(\"Hi Mom!\")\n",
        "print(scalar_tensor)"
      ],
      "outputs": [
        {
          "output_type": "stream",
          "name": "stdout",
          "text": [
            "tf.Tensor(b'Hi Mom!', shape=(), dtype=string)\n"
          ]
        }
      ],
      "metadata": {
        "id": "w3EWv5ZKDttp"
      }
    },
    {
      "cell_type": "markdown",
      "source": [
        "Notice that the shape of the tensor is `()`, which indicates that the tensor is a scalar."
      ],
      "metadata": {
        "id": "cGd8aEBwEV5k"
      }
    },
    {
      "cell_type": "markdown",
      "source": [
        "### Vectors"
      ],
      "metadata": {
        "id": "P4L-BGswEdqK"
      }
    },
    {
      "cell_type": "markdown",
      "source": [
        "A **vector** is a 1-d array (a 1st-order tensor). An example might be `[2, 3, 5, 7, 11]` or even `[5]`.\n",
        "\n",
        "We can again use `tf.constant()` to create the tensor."
      ],
      "metadata": {
        "id": "sltvfWBMEpCm"
      }
    },
    {
      "cell_type": "code",
      "execution_count": 7,
      "source": [
        "vector_tensor = tf.constant([1, 2, 3])\n",
        "print(vector_tensor)"
      ],
      "outputs": [
        {
          "output_type": "stream",
          "name": "stdout",
          "text": [
            "tf.Tensor([1 2 3], shape=(3,), dtype=int32)\n"
          ]
        }
      ],
      "metadata": {
        "id": "Ixlx45SoEox0"
      }
    },
    {
      "cell_type": "markdown",
      "source": [
        "Notice now that our shape has changed to `(3,)`."
      ],
      "metadata": {
        "id": "mielH7FgFMNn"
      }
    },
    {
      "cell_type": "markdown",
      "source": [
        "### Matrix"
      ],
      "metadata": {
        "id": "uU8GVaBoFQc5"
      }
    },
    {
      "cell_type": "markdown",
      "source": [
        "A **matrix** is a 2-d array (a 2nd-order tensor). For example:\n",
        "\n",
        "```\n",
        "  [\n",
        "    [3.1, 8.2, 5.9],\n",
        "    [4.3, -2.7, 6.5],\n",
        "  ]\n",
        "```"
      ],
      "metadata": {
        "id": "anVENBnUFTx4"
      }
    },
    {
      "cell_type": "code",
      "execution_count": 8,
      "source": [
        "matrix_tensor = tf.constant([[1.2, 3.4, 5.6], [7.8, 9.0, 1.2]])\n",
        "print(matrix_tensor)"
      ],
      "outputs": [
        {
          "output_type": "stream",
          "name": "stdout",
          "text": [
            "tf.Tensor(\n",
            "[[1.2 3.4 5.6]\n",
            " [7.8 9.  1.2]], shape=(2, 3), dtype=float32)\n"
          ]
        }
      ],
      "metadata": {
        "id": "jzNZDQH7FdGP"
      }
    },
    {
      "cell_type": "markdown",
      "source": [
        "### Cubes"
      ],
      "metadata": {
        "id": "Deqzy12KFcsu"
      }
    },
    {
      "cell_type": "markdown",
      "source": [
        "A **cube** is a 3d array (a 3rd-order tensor). For example:\n",
        "\n",
        "```\n",
        "  [\n",
        "    [\n",
        "      [3.1, 8.2, 5.9],\n",
        "      [4.3, 2.7, 6.5],\n",
        "    ],\n",
        "    [\n",
        "      [4.5, 5.2, 3.1],\n",
        "      [3.4, 2.0, 5.9],\n",
        "    ],\n",
        "    [\n",
        "      [4.2, 3.7, 9.1],\n",
        "      [6.4, 1.2, 6.4],\n",
        "    ],\n",
        "    [\n",
        "      [9.9, 6.1, 8.8],\n",
        "      [3.1, 8.7, 4.5],\n",
        "    ],\n",
        "  ]\n",
        "```"
      ],
      "metadata": {
        "id": "_Lbz2LpADxRI"
      }
    },
    {
      "cell_type": "markdown",
      "source": [
        "#### Exercise 1: Create a Cube\n",
        "\n",
        "Using `tf.constant()` create 3rd-order tensor. Print the tensor.\n",
        "\n",
        "**Student Solution**"
      ],
      "metadata": {
        "id": "bpWv_8WoFsXR"
      }
    },
    {
      "cell_type": "code",
      "execution_count": 9,
      "source": [
        "# Your Code Goes Here\n",
        "\n",
        "\n",
        "\n",
        "#shape(second arguements equates to the order of tensor)\n",
        "#order equates to the number of arrays within the array\n",
        "new_tensor = tf.constant(([[1.2, 3.4, 5.6], [7.8, 9.0, 1.2], [1,2,3]]))\n",
        "print (new_tensor)"
      ],
      "outputs": [
        {
          "output_type": "stream",
          "name": "stdout",
          "text": [
            "tf.Tensor(\n",
            "[[1.2 3.4 5.6]\n",
            " [7.8 9.  1.2]\n",
            " [1.  2.  3. ]], shape=(3, 3), dtype=float32)\n"
          ]
        }
      ],
      "metadata": {
        "id": "ZPvWJMc-Frz2"
      }
    },
    {
      "cell_type": "markdown",
      "source": [
        "---"
      ],
      "metadata": {
        "id": "MO1f8gLpF6Dn"
      }
    },
    {
      "cell_type": "markdown",
      "source": [
        "### Higher-Order Tensors"
      ],
      "metadata": {
        "id": "KozwsHewGTAx"
      }
    },
    {
      "cell_type": "markdown",
      "source": [
        "Tensors can have an arbitrarily large number of dimensions. Your mathematical needs might require large numbers of dimensions, but for the most part you'll likely see tensors in these smaller dimensions that we've covered. "
      ],
      "metadata": {
        "id": "Dn-MhxmCGVmo"
      }
    },
    {
      "cell_type": "markdown",
      "source": [
        "### Variable Tensors\n",
        "\n",
        "A variable is a type of tensor that can change. Creating variable tensors doesn't look much different from creating constant tensors."
      ],
      "metadata": {
        "id": "5qS4EkNVE64R"
      }
    },
    {
      "cell_type": "code",
      "execution_count": 10,
      "source": [
        "vector_tensor = tf.Variable([1, 2, 3])\n",
        "print(vector_tensor)"
      ],
      "outputs": [
        {
          "output_type": "stream",
          "name": "stdout",
          "text": [
            "<tf.Variable 'Variable:0' shape=(3,) dtype=int32, numpy=array([1, 2, 3], dtype=int32)>\n"
          ]
        }
      ],
      "metadata": {
        "id": "CXFIG_FkF5bJ"
      }
    },
    {
      "cell_type": "markdown",
      "source": [
        "But with variable tensors you can change the values using the `assign()` method."
      ],
      "metadata": {
        "id": "xTmnToHKHZRC"
      }
    },
    {
      "cell_type": "code",
      "execution_count": 11,
      "source": [
        "vector_tensor = tf.Variable([1, 2, 3])\n",
        "\n",
        "vector_tensor.assign([5, 6, 7])\n",
        "\n",
        "print(vector_tensor)"
      ],
      "outputs": [
        {
          "output_type": "stream",
          "name": "stdout",
          "text": [
            "<tf.Variable 'Variable:0' shape=(3,) dtype=int32, numpy=array([5, 6, 7], dtype=int32)>\n"
          ]
        }
      ],
      "metadata": {
        "id": "2snvQimMHatS"
      }
    },
    {
      "cell_type": "markdown",
      "source": [
        "### Tensor Operations\n",
        "\n",
        "In order for variables to change, something must operate on them. TensorFlow operations create, destroy, and manipulate tensors. Most of the lines of code in a typical TensorFlow program are operations.\n",
        "\n",
        "Let's start by looking at a basic operation that adds two tensors together."
      ],
      "metadata": {
        "id": "V1EiBLkwGSmy"
      }
    },
    {
      "cell_type": "code",
      "execution_count": 12,
      "source": [
        "tensor = tf.constant(3) + tf.constant(4)\n",
        "print(tensor)"
      ],
      "outputs": [
        {
          "output_type": "stream",
          "name": "stdout",
          "text": [
            "tf.Tensor(7, shape=(), dtype=int32)\n"
          ]
        }
      ],
      "metadata": {
        "id": "J8pFGSAxHVxN"
      }
    },
    {
      "cell_type": "markdown",
      "source": [
        "We create two scalar constant tensors and add them together. The result is another tensor.\n",
        "\n",
        "Notice that in order to perform a simple tensor addition operation, we could simply use the standard Python addition symbol. This is because TensorFlow overrides many of the standard operators for use with [`Tensor`](https://www.tensorflow.org/api_docs/python/tf/Tensor) objects.\n",
        "\n",
        "This override works as long as there is a `Tensor` on at least one side of the operator:"
      ],
      "metadata": {
        "id": "7UlsaKwGIx09"
      }
    },
    {
      "cell_type": "code",
      "execution_count": 13,
      "source": [
        "print(tf.constant(3) + 4)\n",
        "print(3 + tf.constant(4))"
      ],
      "outputs": [
        {
          "output_type": "stream",
          "name": "stdout",
          "text": [
            "tf.Tensor(7, shape=(), dtype=int32)\n",
            "tf.Tensor(7, shape=(), dtype=int32)\n"
          ]
        }
      ],
      "metadata": {
        "id": "jHlZQpsIJh7h"
      }
    },
    {
      "cell_type": "markdown",
      "source": [
        "TensorFlow also has support for many more operations than can be represented by standard Python operators. For instance, there are a number of linear algebra operations such as the matrix transpositition:"
      ],
      "metadata": {
        "id": "J7uQM1BmgDYS"
      }
    },
    {
      "cell_type": "code",
      "execution_count": 14,
      "source": [
        "matrix = tf.constant([\n",
        "  [11, 12, 13],\n",
        "  [21, 22, 23],\n",
        "  [31, 32, 33],\n",
        "])\n",
        "\n",
        "print(tf.transpose(matrix))"
      ],
      "outputs": [
        {
          "output_type": "stream",
          "name": "stdout",
          "text": [
            "tf.Tensor(\n",
            "[[11 21 31]\n",
            " [12 22 32]\n",
            " [13 23 33]], shape=(3, 3), dtype=int32)\n"
          ]
        }
      ],
      "metadata": {
        "id": "XvboMHpfeg8D"
      }
    },
    {
      "cell_type": "markdown",
      "source": [
        "You can also calculate matrix multiplication using [`tf.tensordot()`](https://www.tensorflow.org/api_docs/python/tf/tensordot):"
      ],
      "metadata": {
        "id": "tCgAH1ucNJ6X"
      }
    },
    {
      "cell_type": "code",
      "execution_count": 15,
      "source": [
        "matrix_one = tf.constant([\n",
        "  [2, 2, 2],\n",
        "  [2, 2, 2],\n",
        "  [2, 2, 2],\n",
        "])\n",
        "\n",
        "matrix_two = tf.constant([\n",
        "  [2, 2, 2],\n",
        "  [2, 2, 2],\n",
        "  [2, 2, 2],\n",
        "])\n",
        "\n",
        "tf.tensordot(matrix_one, matrix_two, axes=1)"
      ],
      "outputs": [
        {
          "output_type": "execute_result",
          "data": {
            "text/plain": [
              "<tf.Tensor: shape=(3, 3), dtype=int32, numpy=\n",
              "array([[12, 12, 12],\n",
              "       [12, 12, 12],\n",
              "       [12, 12, 12]], dtype=int32)>"
            ]
          },
          "metadata": {},
          "execution_count": 15
        }
      ],
      "metadata": {
        "id": "g6AVCPW-NtXB"
      }
    },
    {
      "cell_type": "markdown",
      "source": [
        "This is necessary because by default `*` performs elementwise multiplication:"
      ],
      "metadata": {
        "id": "u5sHaOu8NtEZ"
      }
    },
    {
      "cell_type": "code",
      "execution_count": 16,
      "source": [
        "matrix_one = tf.constant([\n",
        "  [2, 2, 2],\n",
        "  [2, 2, 2],\n",
        "  [2, 2, 2],\n",
        "])\n",
        "\n",
        "matrix_two = tf.constant([\n",
        "  [2, 2, 2],\n",
        "  [2, 2, 2],\n",
        "  [2, 2, 2],\n",
        "])\n",
        "\n",
        "matrix_one * matrix_two"
      ],
      "outputs": [
        {
          "output_type": "execute_result",
          "data": {
            "text/plain": [
              "<tf.Tensor: shape=(3, 3), dtype=int32, numpy=\n",
              "array([[4, 4, 4],\n",
              "       [4, 4, 4],\n",
              "       [4, 4, 4]], dtype=int32)>"
            ]
          },
          "metadata": {},
          "execution_count": 16
        }
      ],
      "metadata": {
        "id": "G2PCoCejN7KC"
      }
    },
    {
      "cell_type": "markdown",
      "source": [
        "Interestingly, `Tensor` objects can also by passed to NumPy functions in some cases:"
      ],
      "metadata": {
        "id": "fqLMXLStOvFA"
      }
    },
    {
      "cell_type": "code",
      "execution_count": 17,
      "source": [
        "import tensorflow as tf\n",
        "import numpy as np\n",
        "\n",
        "matrix_one = tf.constant([\n",
        "  [2, 2, 2],\n",
        "  [2, 2, 2],\n",
        "  [2, 2, 2],\n",
        "])\n",
        "\n",
        "matrix_two = tf.constant([\n",
        "  [2, 2, 2],\n",
        "  [2, 2, 2],\n",
        "  [2, 2, 2],\n",
        "])\n",
        "\n",
        "np.dot(matrix_one, matrix_two)"
      ],
      "outputs": [
        {
          "output_type": "execute_result",
          "data": {
            "text/plain": [
              "array([[12, 12, 12],\n",
              "       [12, 12, 12],\n",
              "       [12, 12, 12]], dtype=int32)"
            ]
          },
          "metadata": {},
          "execution_count": 17
        }
      ],
      "metadata": {
        "id": "W2GiNUnEO2Gi"
      }
    },
    {
      "cell_type": "markdown",
      "source": [
        "#### Exercise 2: Linear Equation"
      ],
      "metadata": {
        "id": "Af25DbqlpL9P"
      }
    },
    {
      "cell_type": "markdown",
      "source": [
        "Create a TensorFlow graph that performs the linear equation, `y = mx + b`.\n",
        "\n",
        "*   `m` should be a 0D constant tensor with a value of 12.\n",
        "*   `b` should be a 0D constant tensor with a value of 32.\n",
        "*   `x` should be a 1D constant tensor of shape (5,) and any values you choose.\n",
        "*   `y` should be 1D tensor that receives the result of `mx + b`.\n",
        "\n",
        "Run the equation and print `y`."
      ],
      "metadata": {
        "id": "xJPDMLjVDLWe"
      }
    },
    {
      "cell_type": "markdown",
      "source": [
        "**Student Solution**"
      ],
      "metadata": {
        "id": "OeYG9IBhDamd"
      }
    },
    {
      "cell_type": "code",
      "execution_count": 18,
      "source": [
        "# Your code goes here"
      ],
      "outputs": [],
      "metadata": {
        "id": "toVERAtwtupZ"
      }
    },
    {
      "cell_type": "markdown",
      "source": [
        "---"
      ],
      "metadata": {
        "id": "6zpNW7p-OpFG"
      }
    },
    {
      "cell_type": "markdown",
      "source": [
        "### Extracting Values"
      ],
      "metadata": {
        "id": "fag329aODDtT"
      }
    },
    {
      "cell_type": "markdown",
      "source": [
        "Notice that every value that we have seen so far has been a Tensor. This is fine as long as you are working inside of TensorFlow (and even NumPy) in many cases, but what if you wanted to extract the values in a Tensor out to more standard Python values?\n",
        "\n",
        "For that you can use the `.numpy()` method."
      ],
      "metadata": {
        "id": "1Fkn4SQRuosy"
      }
    },
    {
      "cell_type": "code",
      "execution_count": 19,
      "source": [
        "tensor = tf.constant([[1, 2], [3, 4]])\n",
        "\n",
        "tensor.numpy()"
      ],
      "outputs": [
        {
          "output_type": "execute_result",
          "data": {
            "text/plain": [
              "array([[1, 2],\n",
              "       [3, 4]], dtype=int32)"
            ]
          },
          "metadata": {},
          "execution_count": 19
        }
      ],
      "metadata": {
        "id": "_ijtHHWMPqiI"
      }
    },
    {
      "cell_type": "markdown",
      "source": [
        "#### Exercise 3: Tensor to Python List\n",
        "\n",
        "In the example above, you found out how to take the values stored in a `Tensor` object and convert them to a NumPy array using the `numpy()` method. In this exercise you'll go one step further and convert the `Tensor` value into a core Python list.\n",
        "\n",
        "**Student Solution**"
      ],
      "metadata": {
        "id": "Y2VadKhFvkzZ"
      }
    },
    {
      "cell_type": "code",
      "execution_count": 20,
      "source": [
        "tensor = tf.constant([[1, 2], [3, 4]])\n",
        "\n",
        "# Extract the values inside the tensor as a Python list stored\n",
        "# in a variable named tensor_values.\n",
        "\n",
        "tensor_num = tensor.numpy()\n",
        "\n",
        "tensor_values = tensor_num.tolist()\n",
        "\n",
        "\n",
        "\n",
        "# Print the type of tensor_values\n",
        "print(type(tensor_values))\n",
        "# Print tensor_values\n",
        "\n",
        "print(tensor_values)"
      ],
      "outputs": [
        {
          "output_type": "stream",
          "name": "stdout",
          "text": [
            "<class 'list'>\n",
            "[[1, 2], [3, 4]]\n"
          ]
        }
      ],
      "metadata": {
        "id": "w3Avr5soQ7-x"
      }
    },
    {
      "cell_type": "markdown",
      "source": [
        "---"
      ],
      "metadata": {
        "id": "3Q_Yxn-_DII3"
      }
    },
    {
      "cell_type": "markdown",
      "source": [
        "### Conclusion"
      ],
      "metadata": {
        "id": "8ktqaeUlRfKu"
      }
    },
    {
      "cell_type": "markdown",
      "source": [
        "In this lab we briefly covered TensorFlow versions and introduced you to the concept of tensors. This is just the tip of the iceberg in regard to how to use TensorFlow. In future labs, you'll learn about the TensorFlow Estimator interface and the Keras interface. You'll train models, measure model quality, and use models to make predictions. You'll store model state and load saved models."
      ],
      "metadata": {
        "id": "sFj5uq0qRgp1"
      }
    }
  ]
}